{
 "cells": [
  {
   "cell_type": "markdown",
   "id": "89387d96",
   "metadata": {
    "papermill": {
     "duration": 0.006837,
     "end_time": "2025-07-29T11:44:49.615074",
     "exception": false,
     "start_time": "2025-07-29T11:44:49.608237",
     "status": "completed"
    },
    "tags": []
   },
   "source": [
    "# VLM Benchmark for Object Property Abstraction\n",
    "\n",
    "This notebook implements a benchmark for evaluating Vision Language Models (VLMs) on object property abstraction and visual question answering (VQA) tasks. The benchmark includes three types of questions:\n",
    "\n",
    "1. Direct Recognition\n",
    "2. Property Inference\n",
    "3. Counterfactual Reasoning\n",
    "\n",
    "And three types of images:\n",
    "- REAL\n",
    "- ANIMATED\n",
    "- AI GENERATED"
   ]
  },
  {
   "cell_type": "markdown",
   "id": "cfe9c893",
   "metadata": {
    "papermill": {
     "duration": 0.005773,
     "end_time": "2025-07-29T11:44:49.627049",
     "exception": false,
     "start_time": "2025-07-29T11:44:49.621276",
     "status": "completed"
    },
    "tags": []
   },
   "source": [
    "## Setup and Imports\n",
    "\n",
    "First, let's import the necessary libraries and set up our environment."
   ]
  },
  {
   "cell_type": "code",
   "execution_count": 1,
   "id": "f29faf84",
   "metadata": {
    "collapsed": true,
    "execution": {
     "iopub.execute_input": "2025-07-29T11:44:49.639559Z",
     "iopub.status.busy": "2025-07-29T11:44:49.639211Z",
     "iopub.status.idle": "2025-07-29T11:44:49.642912Z",
     "shell.execute_reply": "2025-07-29T11:44:49.642352Z"
    },
    "jupyter": {
     "outputs_hidden": true
    },
    "papermill": {
     "duration": 0.011265,
     "end_time": "2025-07-29T11:44:49.644028",
     "exception": false,
     "start_time": "2025-07-29T11:44:49.632763",
     "status": "completed"
    },
    "tags": []
   },
   "outputs": [],
   "source": [
    "# Install required packages\n",
    "# %pip install transformers torch Pillow tqdm bitsandbytes accelerate"
   ]
  },
  {
   "cell_type": "code",
   "execution_count": 2,
   "id": "32544e1e",
   "metadata": {
    "collapsed": true,
    "execution": {
     "iopub.execute_input": "2025-07-29T11:44:49.656860Z",
     "iopub.status.busy": "2025-07-29T11:44:49.656147Z",
     "iopub.status.idle": "2025-07-29T11:44:51.382785Z",
     "shell.execute_reply": "2025-07-29T11:44:51.381794Z"
    },
    "jupyter": {
     "outputs_hidden": true
    },
    "papermill": {
     "duration": 1.734258,
     "end_time": "2025-07-29T11:44:51.384087",
     "exception": false,
     "start_time": "2025-07-29T11:44:49.649829",
     "status": "completed"
    },
    "tags": []
   },
   "outputs": [
    {
     "name": "stdout",
     "output_type": "stream",
     "text": [
      "Requirement already satisfied: qwen-vl-utils in /var/scratch/ave303/anaconda3/envs/op_bench/lib/python3.12/site-packages (0.0.11)\r\n",
      "Requirement already satisfied: flash-attn in /var/scratch/ave303/anaconda3/envs/op_bench/lib/python3.12/site-packages (2.7.4.post1)\r\n"
     ]
    },
    {
     "name": "stdout",
     "output_type": "stream",
     "text": [
      "Requirement already satisfied: av in /var/scratch/ave303/anaconda3/envs/op_bench/lib/python3.12/site-packages (from qwen-vl-utils) (14.3.0)\r\n",
      "Requirement already satisfied: packaging in /var/scratch/ave303/anaconda3/envs/op_bench/lib/python3.12/site-packages (from qwen-vl-utils) (25.0)\r\n",
      "Requirement already satisfied: pillow in /var/scratch/ave303/anaconda3/envs/op_bench/lib/python3.12/site-packages (from qwen-vl-utils) (10.3.0)\r\n",
      "Requirement already satisfied: requests in /var/scratch/ave303/anaconda3/envs/op_bench/lib/python3.12/site-packages (from qwen-vl-utils) (2.32.3)\r\n",
      "Requirement already satisfied: torch in /var/scratch/ave303/anaconda3/envs/op_bench/lib/python3.12/site-packages (from flash-attn) (2.2.1)\r\n",
      "Requirement already satisfied: einops in /var/scratch/ave303/anaconda3/envs/op_bench/lib/python3.12/site-packages (from flash-attn) (0.8.1)\r\n",
      "Requirement already satisfied: charset-normalizer<4,>=2 in /var/scratch/ave303/anaconda3/envs/op_bench/lib/python3.12/site-packages (from requests->qwen-vl-utils) (3.4.1)\r\n",
      "Requirement already satisfied: idna<4,>=2.5 in /var/scratch/ave303/anaconda3/envs/op_bench/lib/python3.12/site-packages (from requests->qwen-vl-utils) (3.10)\r\n",
      "Requirement already satisfied: urllib3<3,>=1.21.1 in /var/scratch/ave303/anaconda3/envs/op_bench/lib/python3.12/site-packages (from requests->qwen-vl-utils) (2.4.0)\r\n",
      "Requirement already satisfied: certifi>=2017.4.17 in /var/scratch/ave303/anaconda3/envs/op_bench/lib/python3.12/site-packages (from requests->qwen-vl-utils) (2025.4.26)\r\n",
      "Requirement already satisfied: filelock in /var/scratch/ave303/anaconda3/envs/op_bench/lib/python3.12/site-packages (from torch->flash-attn) (3.18.0)\r\n",
      "Requirement already satisfied: typing-extensions>=4.8.0 in /var/scratch/ave303/anaconda3/envs/op_bench/lib/python3.12/site-packages (from torch->flash-attn) (4.13.2)\r\n",
      "Requirement already satisfied: sympy in /var/scratch/ave303/anaconda3/envs/op_bench/lib/python3.12/site-packages (from torch->flash-attn) (1.14.0)\r\n",
      "Requirement already satisfied: networkx in /var/scratch/ave303/anaconda3/envs/op_bench/lib/python3.12/site-packages (from torch->flash-attn) (3.4.2)\r\n",
      "Requirement already satisfied: jinja2 in /var/scratch/ave303/anaconda3/envs/op_bench/lib/python3.12/site-packages (from torch->flash-attn) (3.1.6)\r\n",
      "Requirement already satisfied: fsspec in /var/scratch/ave303/anaconda3/envs/op_bench/lib/python3.12/site-packages (from torch->flash-attn) (2025.3.2)\r\n",
      "Requirement already satisfied: nvidia-cuda-nvrtc-cu12==12.1.105 in /var/scratch/ave303/anaconda3/envs/op_bench/lib/python3.12/site-packages (from torch->flash-attn) (12.1.105)\r\n",
      "Requirement already satisfied: nvidia-cuda-runtime-cu12==12.1.105 in /var/scratch/ave303/anaconda3/envs/op_bench/lib/python3.12/site-packages (from torch->flash-attn) (12.1.105)\r\n",
      "Requirement already satisfied: nvidia-cuda-cupti-cu12==12.1.105 in /var/scratch/ave303/anaconda3/envs/op_bench/lib/python3.12/site-packages (from torch->flash-attn) (12.1.105)\r\n",
      "Requirement already satisfied: nvidia-cudnn-cu12==8.9.2.26 in /var/scratch/ave303/anaconda3/envs/op_bench/lib/python3.12/site-packages (from torch->flash-attn) (8.9.2.26)\r\n",
      "Requirement already satisfied: nvidia-cublas-cu12==12.1.3.1 in /var/scratch/ave303/anaconda3/envs/op_bench/lib/python3.12/site-packages (from torch->flash-attn) (12.1.3.1)\r\n",
      "Requirement already satisfied: nvidia-cufft-cu12==11.0.2.54 in /var/scratch/ave303/anaconda3/envs/op_bench/lib/python3.12/site-packages (from torch->flash-attn) (11.0.2.54)\r\n",
      "Requirement already satisfied: nvidia-curand-cu12==10.3.2.106 in /var/scratch/ave303/anaconda3/envs/op_bench/lib/python3.12/site-packages (from torch->flash-attn) (10.3.2.106)\r\n",
      "Requirement already satisfied: nvidia-cusolver-cu12==11.4.5.107 in /var/scratch/ave303/anaconda3/envs/op_bench/lib/python3.12/site-packages (from torch->flash-attn) (11.4.5.107)\r\n",
      "Requirement already satisfied: nvidia-cusparse-cu12==12.1.0.106 in /var/scratch/ave303/anaconda3/envs/op_bench/lib/python3.12/site-packages (from torch->flash-attn) (12.1.0.106)\r\n",
      "Requirement already satisfied: nvidia-nccl-cu12==2.19.3 in /var/scratch/ave303/anaconda3/envs/op_bench/lib/python3.12/site-packages (from torch->flash-attn) (2.19.3)\r\n",
      "Requirement already satisfied: nvidia-nvtx-cu12==12.1.105 in /var/scratch/ave303/anaconda3/envs/op_bench/lib/python3.12/site-packages (from torch->flash-attn) (12.1.105)\r\n",
      "Requirement already satisfied: nvidia-nvjitlink-cu12 in /var/scratch/ave303/anaconda3/envs/op_bench/lib/python3.12/site-packages (from nvidia-cusolver-cu12==11.4.5.107->torch->flash-attn) (12.8.93)\r\n"
     ]
    },
    {
     "name": "stdout",
     "output_type": "stream",
     "text": [
      "Requirement already satisfied: MarkupSafe>=2.0 in /var/scratch/ave303/anaconda3/envs/op_bench/lib/python3.12/site-packages (from jinja2->torch->flash-attn) (3.0.2)\r\n",
      "Requirement already satisfied: mpmath<1.4,>=1.1.0 in /var/scratch/ave303/anaconda3/envs/op_bench/lib/python3.12/site-packages (from sympy->torch->flash-attn) (1.3.0)\r\n"
     ]
    },
    {
     "name": "stdout",
     "output_type": "stream",
     "text": [
      "Note: you may need to restart the kernel to use updated packages.\n"
     ]
    }
   ],
   "source": [
    "%pip install qwen-vl-utils flash-attn #--no-build-isolation"
   ]
  },
  {
   "cell_type": "code",
   "execution_count": 3,
   "id": "6132da26",
   "metadata": {
    "execution": {
     "iopub.execute_input": "2025-07-29T11:44:51.398574Z",
     "iopub.status.busy": "2025-07-29T11:44:51.398097Z",
     "iopub.status.idle": "2025-07-29T11:44:56.890704Z",
     "shell.execute_reply": "2025-07-29T11:44:56.889747Z"
    },
    "papermill": {
     "duration": 5.501105,
     "end_time": "2025-07-29T11:44:56.892048",
     "exception": false,
     "start_time": "2025-07-29T11:44:51.390943",
     "status": "completed"
    },
    "tags": []
   },
   "outputs": [
    {
     "name": "stderr",
     "output_type": "stream",
     "text": [
      "/var/scratch/ave303/anaconda3/envs/op_bench/lib/python3.12/site-packages/tqdm/auto.py:21: TqdmWarning: IProgress not found. Please update jupyter and ipywidgets. See https://ipywidgets.readthedocs.io/en/stable/user_install.html\n",
      "  from .autonotebook import tqdm as notebook_tqdm\n"
     ]
    },
    {
     "name": "stdout",
     "output_type": "stream",
     "text": [
      "Using device: cuda\n"
     ]
    }
   ],
   "source": [
    "# Import required libraries\n",
    "import torch\n",
    "import json\n",
    "from pathlib import Path\n",
    "from PIL import Image\n",
    "import gc\n",
    "import re\n",
    "from tqdm import tqdm\n",
    "from typing import List, Dict, Any\n",
    "from qwen_vl_utils import process_vision_info\n",
    "import time\n",
    "\n",
    "# Check if CUDA is available\n",
    "device = torch.device('cuda' if torch.cuda.is_available() else 'cpu')\n",
    "print(f\"Using device: {device}\")"
   ]
  },
  {
   "cell_type": "markdown",
   "id": "404c3f24",
   "metadata": {
    "papermill": {
     "duration": 0.006094,
     "end_time": "2025-07-29T11:44:56.905160",
     "exception": false,
     "start_time": "2025-07-29T11:44:56.899066",
     "status": "completed"
    },
    "tags": []
   },
   "source": [
    "## Benchmark Tester Class\n",
    "\n",
    "This class handles the evaluation of models against our benchmark."
   ]
  },
  {
   "cell_type": "code",
   "execution_count": 4,
   "id": "05937f1e",
   "metadata": {
    "execution": {
     "iopub.execute_input": "2025-07-29T11:44:56.919659Z",
     "iopub.status.busy": "2025-07-29T11:44:56.918854Z",
     "iopub.status.idle": "2025-07-29T11:44:56.930258Z",
     "shell.execute_reply": "2025-07-29T11:44:56.929528Z"
    },
    "papermill": {
     "duration": 0.019908,
     "end_time": "2025-07-29T11:44:56.931452",
     "exception": false,
     "start_time": "2025-07-29T11:44:56.911544",
     "status": "completed"
    },
    "tags": []
   },
   "outputs": [],
   "source": [
    "# class BenchmarkTester:\n",
    "#     def __init__(self, benchmark_path=\"/var/scratch/ave303/OP_bench/benchmark.json\", data_dir=\"/var/scratch/ave303/OP_bench/\"):\n",
    "#         self.device = \"cuda\" if torch.cuda.is_available() else \"cpu\"\n",
    "#         with open(benchmark_path, 'r') as f:\n",
    "#             self.benchmark = json.load(f)\n",
    "#         self.data_dir = data_dir\n",
    "    \n",
    "#     def format_question(self, question, model_name):\n",
    "#         \"\"\"Format a question for the model.\"\"\"\n",
    "\n",
    "#         if model_name==\"blip2\":\n",
    "#             return f\"Question: {question['question']} Answer:\"\n",
    "#         else:\n",
    "#             return f\"Question: {question['question']} Answer with a number and list of objects. Answer:\"\n",
    "\n",
    "#     def clean_answer(self, answer):\n",
    "#         \"\"\"Clean the model output to extract just the number.\"\"\"\n",
    "#         # Remove any text that's not a number\n",
    "#         # import re\n",
    "#         # numbers = re.findall(r'\\d+', answer)\n",
    "#         # if numbers:\n",
    "#         #     return numbers[0]  # Return the first number found\n",
    "#         # return answer\n",
    "#         \"\"\"Extract number and reasoning from the model's answer.\"\"\"\n",
    "#         # Try to extract number and reasoning using regex\n",
    "#         import re\n",
    "#         pattern = r'(\\d+)\\s*\\[(.*?)\\]'\n",
    "#         match = re.search(pattern, answer)\n",
    "        \n",
    "#         if match:\n",
    "#             number = match.group(1)\n",
    "#             objects = [obj.strip() for obj in match.group(2).split(',')]\n",
    "#             return {\n",
    "#                 \"count\": number,\n",
    "#                 \"reasoning\": objects\n",
    "#             }\n",
    "#         else:\n",
    "#             # Fallback if format isn't matched\n",
    "#             numbers = re.findall(r'\\d+', answer)\n",
    "#             return {\n",
    "#                 \"count\": numbers[0] if numbers else \"0\",\n",
    "#                 \"reasoning\": []\n",
    "#             }\n",
    "\n",
    "#     def model_generation(self, model_name, model, inputs, processor):\n",
    "#         \"\"\"Generate answer and decode.\"\"\"\n",
    "#         outputs = None  # Initialize outputs to None\n",
    "        \n",
    "#         if model_name==\"smolVLM2\":\n",
    "#             outputs = model.generate(**inputs, do_sample=False, max_new_tokens=64)\n",
    "#             answer = processor.batch_decode(\n",
    "#                 outputs,\n",
    "#                 skip_special_tokens=True,\n",
    "#             )[0]\n",
    "#         elif model_name==\"Qwen2.5-VL\":\n",
    "#             outputs = model.generate(**inputs, max_new_tokens=50)\n",
    "#             outputs = [\n",
    "#                 out_ids[len(in_ids) :] for in_ids, out_ids in zip(inputs.input_ids, outputs)\n",
    "#             ]\n",
    "#             answer = processor.batch_decode(\n",
    "#                 outputs, skip_special_tokens=True, clean_up_tokenization_spaces=False\n",
    "#             )[0]\n",
    "#         else:\n",
    "#             print(f\"Warning: Unknown model name '{model_name}' in model_generation.\")\n",
    "#             answer = \"\"  # Return an empty string\n",
    "\n",
    "#         return answer, outputs\n",
    "    \n",
    "#     def evaluate_model(self, model_name, model, processor, save_path, start_idx=0, batch_size=5):\n",
    "#         results = []\n",
    "#         print(f\"\\nEvaluating {model_name}...\")\n",
    "#         print(f\"Using device: {self.device}\")\n",
    "        \n",
    "#         # Force garbage collection before starting\n",
    "#         gc.collect()\n",
    "#         torch.cuda.empty_cache()\n",
    "\n",
    "#         try:\n",
    "#             images = self.benchmark['benchmark']['images'][start_idx:start_idx + batch_size]\n",
    "#             total_images = len(images)\n",
    "            \n",
    "#             for idx, image_data in enumerate(tqdm(images, desc=\"Processing images\")):\n",
    "#                 try:\n",
    "#                     print(f\"\\nProcessing image {idx+1}/{total_images}: {image_data['image_id']}\")\n",
    "#                     image_path = Path(self.data_dir)/image_data['path']\n",
    "#                     if not image_path.exists():\n",
    "#                         print(f\"Warning: Image not found at {image_path}\")\n",
    "#                         continue\n",
    "                    \n",
    "#                     # Load and preprocess image\n",
    "#                     image = Image.open(image_path).convert(\"RGB\")\n",
    "#                     image_results = []  # Store results for current image\n",
    "                    \n",
    "#                     for question in image_data['questions']:\n",
    "#                         try:\n",
    "#                             # prompt = self.format_question(question, model_name)\n",
    "#                             print(f\"Question: {question['question']}\")\n",
    "\n",
    "#                             messages = [\n",
    "#                                 {\n",
    "#                                     \"role\": \"user\",\n",
    "#                                     \"content\": [\n",
    "#                                         {\"type\": \"image\", \"image\": image},\n",
    "#                                         # {\"type\": \"text\", \"text\": f\"{question['question']} Answer format: total number(numerical) objects(within square brackets)\"},\n",
    "#                                         # {\"type\": \"text\", \"text\": f\"{question['question']} Provide just the total count and the list of objects in the given format \\n Format: number [objects]\"},\n",
    "#                                         # {\"type\": \"text\", \"text\": f\"{question['question']} Answer Format: number [objects]\"},\n",
    "#                                         {\"type\": \"text\", \"text\": f\"{question[\"question\"]} Your response MUST be in the following format and nothing else:\\n <NUMBER> [<OBJECT1>, <OBJECT2>, <OBJECT3>, ...]\"}\n",
    "#                                     ]\n",
    "#                                 },\n",
    "#                             ]\n",
    "                            \n",
    "#                             # Clear cache before processing each question\n",
    "#                             torch.cuda.empty_cache()\n",
    "                            \n",
    "#                             # Process image and text\n",
    "#                             # inputs = processor(images=image, text=prompt, return_tensors=\"pt\").to(self.device)\n",
    "#                             if model_name==\"smolVLM2\":\n",
    "#                                 inputs = processor.apply_chat_template(\n",
    "#                                     messages,\n",
    "#                                     add_generation_prompt=True,\n",
    "#                                     tokenize=True,\n",
    "#                                     return_dict=True,\n",
    "#                                     return_tensors=\"pt\",\n",
    "#                                 ).to(model.device, dtype=torch.float16)\n",
    "#                             else:\n",
    "                                \n",
    "#                                 text = processor.apply_chat_template(\n",
    "#                                     messages, tokenize=False, add_generation_prompt=True\n",
    "#                                 )\n",
    "#                                 # image_inputs, video_inputs = process_vision_info(messages)\n",
    "#                                 inputs = processor(\n",
    "#                                     text=text,\n",
    "#                                     images=image,\n",
    "#                                     videos=None,\n",
    "#                                     padding=True,\n",
    "#                                     return_tensors=\"pt\",\n",
    "#                                 ).to(\"cuda\")\n",
    "                            \n",
    "#                             # Generate answer with better settings\n",
    "#                             with torch.no_grad():\n",
    "#                                 answer, outputs = self.model_generation(model_name, model, inputs, processor)    #call for model.generate\n",
    "        \n",
    "#                             cleaned_answer = self.clean_answer(answer)\n",
    "                            \n",
    "#                             image_results.append({\n",
    "#                                 \"image_id\": image_data[\"image_id\"],\n",
    "#                                 \"image_type\": image_data[\"image_type\"],\n",
    "#                                 \"question_id\": question[\"id\"],\n",
    "#                                 \"question\": question[\"question\"],\n",
    "#                                 \"ground_truth\": question[\"answer\"],\n",
    "#                                 \"model_answer\": cleaned_answer[\"count\"],\n",
    "#                                 \"model_reasoning\": cleaned_answer[\"reasoning\"],\n",
    "#                                 \"raw_answer\": answer,  # Keep raw answer for debugging\n",
    "#                                 \"property_category\": question[\"property_category\"]\n",
    "#                             })\n",
    "                            \n",
    "#                             # Clear memory\n",
    "#                             del outputs, inputs\n",
    "#                             torch.cuda.empty_cache()\n",
    "                            \n",
    "#                         except Exception as e:\n",
    "#                             print(f\"Error processing question: {str(e)}\")\n",
    "#                             continue\n",
    "                    \n",
    "#                     # Add results from this image\n",
    "#                     results.extend(image_results)\n",
    "                    \n",
    "#                     # Save intermediate results only every 2 images or if it's the last image\n",
    "#                     if (idx + 1) % 2 == 0 or idx == total_images - 1:\n",
    "#                         with open(f\"{save_path}_checkpoint.json\", 'w') as f:\n",
    "#                             json.dump(results, f, indent=4)\n",
    "                            \n",
    "#                 except Exception as e:\n",
    "#                     print(f\"Error processing image {image_data['image_id']}: {str(e)}\")\n",
    "#                     continue\n",
    "            \n",
    "#             # Save final results\n",
    "#             if results:\n",
    "#                 with open(save_path, 'w') as f:\n",
    "#                     json.dump(results, f, indent=4)\n",
    "            \n",
    "#         except Exception as e:\n",
    "#             print(f\"An error occurred during evaluation: {str(e)}\")\n",
    "#             if results:\n",
    "                # with open(f\"{save_path}_error_state.json\", 'w') as f:\n",
    "#                     json.dump(results, f, indent=4)\n",
    "        \n",
    "#         return results"
   ]
  },
  {
   "cell_type": "code",
   "execution_count": 5,
   "id": "cb4123eb",
   "metadata": {
    "execution": {
     "iopub.execute_input": "2025-07-29T11:44:56.945365Z",
     "iopub.status.busy": "2025-07-29T11:44:56.945027Z",
     "iopub.status.idle": "2025-07-29T11:44:56.968538Z",
     "shell.execute_reply": "2025-07-29T11:44:56.967811Z"
    },
    "papermill": {
     "duration": 0.032123,
     "end_time": "2025-07-29T11:44:56.969714",
     "exception": false,
     "start_time": "2025-07-29T11:44:56.937591",
     "status": "completed"
    },
    "tags": []
   },
   "outputs": [],
   "source": [
    "# import torch\n",
    "# import json\n",
    "# from pathlib import Path\n",
    "# from PIL import Image\n",
    "# import gc\n",
    "# import re\n",
    "# import time\n",
    "# from tqdm import tqdm\n",
    "# from typing import List, Dict, Any\n",
    "# import psutil\n",
    "# import os\n",
    "\n",
    "# class BenchmarkTester:\n",
    "#     def __init__(self, benchmark_path=\"/var/scratch/ave303/OP_bench/benchmark.json\", data_dir=\"/var/scratch/ave303/OP_bench/\"):\n",
    "#         self.device = \"cuda\" if torch.cuda.is_available() else \"cpu\"\n",
    "#         with open(benchmark_path, 'r') as f:\n",
    "#             self.benchmark = json.load(f)\n",
    "#         self.data_dir = data_dir\n",
    "        \n",
    "#         # Set memory optimization environment variables\n",
    "#         os.environ['PYTORCH_CUDA_ALLOC_CONF'] = 'expandable_segments:True'\n",
    "        \n",
    "#         # Memory monitoring\n",
    "#         self.max_memory_allocated = 0\n",
    "#         self.memory_threshold = 0.70  # 70% of GPU memory as threshold\n",
    "\n",
    "#     def get_gpu_memory_info(self):\n",
    "#         \"\"\"Get current GPU memory usage information.\"\"\"\n",
    "#         if torch.cuda.is_available():\n",
    "#             allocated = torch.cuda.memory_allocated() / 1024**3  # GB\n",
    "#             reserved = torch.cuda.memory_reserved() / 1024**3    # GB\n",
    "#             max_memory = torch.cuda.max_memory_allocated() / 1024**3  # GB\n",
    "#             total_memory = torch.cuda.get_device_properties(0).total_memory / 1024**3  # GB\n",
    "            \n",
    "#             return {\n",
    "#                 'allocated': allocated,\n",
    "#                 'reserved': reserved,\n",
    "#                 'max_allocated': max_memory,\n",
    "#                 'total': total_memory,\n",
    "#                 'free': total_memory - allocated,\n",
    "#                 'usage_percent': (allocated / total_memory) * 100\n",
    "#             }\n",
    "#         return None\n",
    "\n",
    "#     def aggressive_memory_cleanup(self):\n",
    "#         \"\"\"Perform aggressive memory cleanup - alias for ultra_aggressive_memory_cleanup.\"\"\"\n",
    "#         self.ultra_aggressive_memory_cleanup()\n",
    "\n",
    "#     def ultra_aggressive_memory_cleanup(self):\n",
    "#         \"\"\"Perform ultra-aggressive memory cleanup including model cache clearing.\"\"\"\n",
    "#         # Clear Python garbage collector multiple times\n",
    "#         for _ in range(5):\n",
    "#             gc.collect()\n",
    "        \n",
    "#         if torch.cuda.is_available():\n",
    "#             # Force synchronize all streams\n",
    "#             torch.cuda.synchronize()\n",
    "#             # Clear all cached memory\n",
    "#             torch.cuda.empty_cache()\n",
    "#             # Reset peak memory stats\n",
    "#             torch.cuda.reset_peak_memory_stats()\n",
    "#             # Force memory defragmentation\n",
    "#             torch.cuda.memory.empty_cache()\n",
    "#             # Another sync to ensure completion\n",
    "#             torch.cuda.synchronize()\n",
    "            \n",
    "#         # Force system memory cleanup\n",
    "#         import ctypes\n",
    "#         libc = ctypes.CDLL(\"libc.so.6\")\n",
    "#         libc.malloc_trim(0)\n",
    "\n",
    "#     def check_available_memory_and_restart_if_needed(self):\n",
    "#         \"\"\"Check if we need to recommend model restart due to fragmentation.\"\"\"\n",
    "#         memory_info = self.get_gpu_memory_info()\n",
    "#         if memory_info:\n",
    "#             # If allocated is much less than reserved, we have fragmentation\n",
    "#             fragmentation_ratio = memory_info['reserved'] / max(memory_info['allocated'], 0.1)\n",
    "#             if fragmentation_ratio > 2.0 and memory_info['usage_percent'] > 80:\n",
    "#                 print(f\"⚠️  Severe memory fragmentation detected (fragmentation ratio: {fragmentation_ratio:.2f})\")\n",
    "#                 print(\"Consider restarting the Python process to defragment GPU memory\")\n",
    "#                 return False\n",
    "#         return True\n",
    "\n",
    "#     def resize_image_if_needed(self, image, max_size=(512, 512)):\n",
    "#         \"\"\"Resize image aggressively to prevent memory issues.\"\"\"\n",
    "#         original_size = image.size\n",
    "        \n",
    "#         # Always resize to max_size to ensure consistent memory usage\n",
    "#         # Calculate aspect ratio preserving resize\n",
    "#         ratio = min(max_size[0] / original_size[0], max_size[1] / original_size[1])\n",
    "#         new_size = (int(original_size[0] * ratio), int(original_size[1] * ratio))\n",
    "        \n",
    "#         print(f\"Resizing image from {original_size} to {new_size}\")\n",
    "#         # Use NEAREST for fastest processing and lowest memory\n",
    "#         image = image.resize(new_size, Image.Resampling.NEAREST)\n",
    "        \n",
    "#         return image\n",
    "\n",
    "#     def check_memory_before_processing(self, image_id, skip_if_high=True):\n",
    "#         \"\"\"Check if we have enough memory before processing with option to skip.\"\"\"\n",
    "#         memory_info = self.get_gpu_memory_info()\n",
    "#         if memory_info and memory_info['usage_percent'] > self.memory_threshold * 100:\n",
    "#             print(f\"Warning: High memory usage ({memory_info['usage_percent']:.1f}%) before processing {image_id}\")\n",
    "#             self.ultra_aggressive_memory_cleanup()\n",
    "            \n",
    "#             # Check again after cleanup\n",
    "#             memory_info = self.get_gpu_memory_info()\n",
    "#             if memory_info['usage_percent'] > self.memory_threshold * 100:\n",
    "#                 print(f\"Critical: Still high memory usage ({memory_info['usage_percent']:.1f}%) after cleanup\")\n",
    "                \n",
    "#                 # Check for fragmentation issues\n",
    "#                 if not self.check_available_memory_and_restart_if_needed():\n",
    "#                     return False\n",
    "                    \n",
    "#                 if skip_if_high:\n",
    "#                     print(f\"Skipping {image_id} due to insufficient memory\")\n",
    "#                     return False\n",
    "#         return True\n",
    "\n",
    "#     def clean_answer(self, answer):\n",
    "#         \"\"\"Extract number and reasoning from the model's answer.\"\"\"\n",
    "#         import re\n",
    "#         pattern = r'(\\d+)\\s*\\[(.*?)\\]'\n",
    "#         match = re.search(pattern, answer)\n",
    "        \n",
    "#         if match:\n",
    "#             number = match.group(1)\n",
    "#             objects = [obj.strip() for obj in match.group(2).split(',')]\n",
    "#             return {\n",
    "#                 \"count\": number,\n",
    "#                 \"reasoning\": objects\n",
    "#             }\n",
    "#         else:\n",
    "#             numbers = re.findall(r'\\d+', answer)\n",
    "#             return {\n",
    "#                 \"count\": numbers[0] if numbers else \"0\",\n",
    "#                 \"reasoning\": []\n",
    "#             }\n",
    "\n",
    "#     def model_generation(self, model_name, model, inputs, processor):\n",
    "#         \"\"\"Generate answer with memory-optimized inference.\"\"\"\n",
    "#         outputs = None\n",
    "        \n",
    "#         try:\n",
    "#             if model_name == \"Qwen2.5-VL\":\n",
    "#                 # Use gradient checkpointing and mixed precision if available\n",
    "#                 with torch.cuda.amp.autocast(enabled=True):\n",
    "#                     outputs = model.generate(\n",
    "#                         **inputs, \n",
    "#                         max_new_tokens=200,\n",
    "#                         do_sample=False,\n",
    "#                         temperature=None,\n",
    "#                         top_p=None,\n",
    "#                         top_k=None,\n",
    "#                         num_beams=1,\n",
    "#                         early_stopping=False,\n",
    "#                         pad_token_id=processor.tokenizer.pad_token_id,\n",
    "#                         eos_token_id=processor.tokenizer.eos_token_id,\n",
    "#                         use_cache=False,  # Disable KV cache to save memory\n",
    "#                     )\n",
    "                \n",
    "#                 outputs = [\n",
    "#                     out_ids[len(in_ids):] for in_ids, out_ids in zip(inputs.input_ids, outputs)\n",
    "#                 ]\n",
    "#                 answer = processor.batch_decode(\n",
    "#                     outputs, skip_special_tokens=True, clean_up_tokenization_spaces=False\n",
    "#                 )[0]\n",
    "#             else:\n",
    "#                 print(f\"Warning: Unknown model name '{model_name}' in model_generation.\")\n",
    "#                 answer = \"\"\n",
    "\n",
    "#             return answer, outputs\n",
    "            \n",
    "#         except torch.cuda.OutOfMemoryError as e:\n",
    "#             print(f\"CUDA OOM during generation: {e}\")\n",
    "#             # Aggressive cleanup and retry once\n",
    "#             self.aggressive_memory_cleanup()\n",
    "#             raise e\n",
    "\n",
    "#     def process_single_question(self, model_name, model, processor, image, question, image_id):\n",
    "#         \"\"\"Process a single question with extreme memory optimization.\"\"\"\n",
    "#         try:\n",
    "#             # Ultra-aggressive pre-check\n",
    "#             if not self.check_memory_before_processing(f\"{image_id}_q{question['id']}\", skip_if_high=False):\n",
    "#                 raise RuntimeError(\"Insufficient GPU memory after cleanup\")\n",
    "\n",
    "#             # Create a minimal image copy to avoid references\n",
    "#             image_copy = image.copy()\n",
    "            \n",
    "#             messages = [\n",
    "#                 {\n",
    "#                     \"role\": \"user\",\n",
    "#                     \"content\": [\n",
    "#                         {\"type\": \"image\", \"image\": image_copy},\n",
    "#                         {\"type\": \"text\", \"text\": f\"{question['question']} Your response MUST be in the following format and nothing else:\\n <NUMBER> [<OBJECT1>, <OBJECT2>, <OBJECT3>, ...]\"}\n",
    "#                     ]\n",
    "#                 },\n",
    "#             ]\n",
    "            \n",
    "#             # Process with maximum memory optimization\n",
    "#             text = processor.apply_chat_template(\n",
    "#                 messages, tokenize=False, add_generation_prompt=True\n",
    "#             )\n",
    "            \n",
    "#             # Monitor memory before tokenization\n",
    "#             memory_before = self.get_gpu_memory_info()\n",
    "#             if memory_before and memory_before['usage_percent'] > 75:\n",
    "#                 print(f\"⚠️  Memory usage high before tokenization: {memory_before['usage_percent']:.1f}%\")\n",
    "#                 self.ultra_aggressive_memory_cleanup()\n",
    "            \n",
    "#             # Process inputs with minimal memory footprint\n",
    "#             inputs = processor(\n",
    "#                 text=text,\n",
    "#                 images=image_copy,\n",
    "#                 videos=None,\n",
    "#                 padding=True,\n",
    "#                 return_tensors=\"pt\",\n",
    "#             )\n",
    "            \n",
    "#             # Move to device only when needed\n",
    "#             inputs = {k: v.to(self.device) if hasattr(v, 'to') else v for k, v in inputs.items()}\n",
    "            \n",
    "#             # Delete image copy immediately\n",
    "#             del image_copy, messages\n",
    "#             self.ultra_aggressive_memory_cleanup()\n",
    "            \n",
    "#             # Monitor memory before generation\n",
    "#             memory_before_gen = self.get_gpu_memory_info()\n",
    "#             if memory_before_gen:\n",
    "#                 print(f\"Memory before generation: {memory_before_gen['usage_percent']:.1f}%\")\n",
    "#                 if memory_before_gen['usage_percent'] > 85:\n",
    "#                     raise RuntimeError(f\"Memory too high for generation: {memory_before_gen['usage_percent']:.1f}%\")\n",
    "            \n",
    "#             # Generate with maximum memory efficiency\n",
    "#             with torch.no_grad():\n",
    "#                 with torch.cuda.amp.autocast(enabled=True, dtype=torch.float16):\n",
    "#                     answer, outputs = self.model_generation(model_name, model, inputs, processor)\n",
    "            \n",
    "#             cleaned_answer = self.clean_answer(answer)\n",
    "            \n",
    "#             # Immediate and thorough cleanup\n",
    "#             del outputs, inputs\n",
    "#             self.ultra_aggressive_memory_cleanup()\n",
    "            \n",
    "#             return {\n",
    "#                 \"question_id\": question[\"id\"],\n",
    "#                 \"question\": question[\"question\"],\n",
    "#                 \"ground_truth\": question[\"answer\"],\n",
    "#                 \"model_answer\": cleaned_answer[\"count\"],\n",
    "#                 \"model_reasoning\": cleaned_answer[\"reasoning\"],\n",
    "#                 \"raw_answer\": answer,\n",
    "#                 \"property_category\": question[\"property_category\"]\n",
    "#             }\n",
    "            \n",
    "#         except (torch.cuda.OutOfMemoryError, RuntimeError) as e:\n",
    "#             print(f\"Error processing question {question['id']}: {e}\")\n",
    "#             self.ultra_aggressive_memory_cleanup()\n",
    "#             raise e\n",
    "\n",
    "#     def evaluate_model(self, model_name, model, processor, save_path, start_idx=0, batch_size=5):\n",
    "#         results = []\n",
    "        \n",
    "#         # Initialize tracking variables\n",
    "#         successful_images = []\n",
    "#         failed_images = []\n",
    "#         total_questions_processed = 0\n",
    "#         total_questions_failed = 0\n",
    "        \n",
    "#         print(f\"\\nEvaluating {model_name}...\")\n",
    "#         print(f\"Using device: {self.device}\")\n",
    "        \n",
    "#         # Initial memory cleanup\n",
    "#         self.ultra_aggressive_memory_cleanup()\n",
    "        \n",
    "#         # Print initial memory status\n",
    "#         memory_info = self.get_gpu_memory_info()\n",
    "#         if memory_info:\n",
    "#             print(f\"Initial GPU memory: {memory_info['usage_percent']:.1f}% used\")\n",
    "\n",
    "#         try:\n",
    "#             images = self.benchmark['benchmark']['images'][start_idx:start_idx + batch_size]\n",
    "#             total_images = len(images)\n",
    "            \n",
    "#             for idx, image_data in enumerate(tqdm(images, desc=\"Processing images\")):\n",
    "#                 image_start_time = time.time()\n",
    "#                 current_image_questions_failed = 0\n",
    "#                 current_image_questions_total = 0\n",
    "                \n",
    "#                 try:\n",
    "#                     image_path = Path(self.data_dir) / image_data['path']\n",
    "#                     if not image_path.exists():\n",
    "#                         failed_images.append({\n",
    "#                             'image_id': image_data['image_id'],\n",
    "#                             'image_type': image_data.get('image_type', 'unknown'),\n",
    "#                             'error_type': 'file_not_found',\n",
    "#                             'error_message': f'Image not found at {image_path}'\n",
    "#                         })\n",
    "#                         continue\n",
    "                    \n",
    "#                     # Load and preprocess image with size control\n",
    "#                     image = Image.open(image_path).convert(\"RGB\")\n",
    "#                     print(f\"Original image size: {image.size}\")\n",
    "                    \n",
    "#                     # Resize aggressively - much smaller images\n",
    "#                     image = self.resize_image_if_needed(image, max_size=(384, 384))\n",
    "                    \n",
    "#                     image_results = []\n",
    "                    \n",
    "#                     # Process questions one by one with memory monitoring\n",
    "#                     for question_idx, question in enumerate(image_data['questions']):\n",
    "#                         current_image_questions_total += 1\n",
    "#                         total_questions_processed += 1\n",
    "                        \n",
    "#                         try:\n",
    "#                             # Process single question\n",
    "#                             question_result = self.process_single_question(\n",
    "#                                 model_name, model, processor, image, question, image_data['image_id']\n",
    "#                             )\n",
    "                            \n",
    "#                             # Add image metadata\n",
    "#                             question_result.update({\n",
    "#                                 \"image_id\": image_data[\"image_id\"],\n",
    "#                                 \"image_type\": image_data.get(\"image_type\", \"unknown\")\n",
    "#                             })\n",
    "                            \n",
    "#                             image_results.append(question_result)\n",
    "                            \n",
    "#                         except Exception as e:\n",
    "#                             print(f\"Failed question {question['id']}: {e}\")\n",
    "#                             current_image_questions_failed += 1\n",
    "#                             total_questions_failed += 1\n",
    "#                             continue\n",
    "                    \n",
    "#                     # Add results from this image\n",
    "#                     results.extend(image_results)\n",
    "                    \n",
    "#                     # Calculate success metrics\n",
    "#                     questions_succeeded = current_image_questions_total - current_image_questions_failed\n",
    "                    \n",
    "#                     if current_image_questions_failed == 0:\n",
    "#                         successful_images.append({\n",
    "#                             'image_id': image_data['image_id'],\n",
    "#                             'image_type': image_data.get('image_type', 'unknown'),\n",
    "#                             'questions_total': current_image_questions_total,\n",
    "#                             'questions_succeeded': questions_succeeded,\n",
    "#                             'processing_time': time.time() - image_start_time\n",
    "#                         })\n",
    "#                     else:\n",
    "#                         image_success_rate = (questions_succeeded / current_image_questions_total * 100) if current_image_questions_total > 0 else 0\n",
    "#                         failed_images.append({\n",
    "#                             'image_id': image_data['image_id'],\n",
    "#                             'image_type': image_data.get('image_type', 'unknown'),\n",
    "#                             'error_type': 'partial_failure',\n",
    "#                             'questions_total': current_image_questions_total,\n",
    "#                             'questions_failed': current_image_questions_failed,\n",
    "#                             'questions_succeeded': questions_succeeded,\n",
    "#                             'success_rate': f\"{image_success_rate:.1f}%\"\n",
    "#                         })\n",
    "                    \n",
    "#                     # Ultra-aggressive cleanup after each image\n",
    "#                     del image\n",
    "#                     self.ultra_aggressive_memory_cleanup()\n",
    "                    \n",
    "#                     # Save intermediate results\n",
    "#                     if (idx + 1) % 2 == 0 or idx == total_images - 1:\n",
    "#                         checkpoint_path = f\"{save_path}_checkpoint.json\"\n",
    "#                         with open(checkpoint_path, 'w') as f:\n",
    "#                             json.dump(results, f, indent=4)\n",
    "                            \n",
    "#                 except Exception as e:\n",
    "#                     print(f\"Complete failure for image {image_data['image_id']}: {e}\")\n",
    "#                     failed_images.append({\n",
    "#                         'image_id': image_data['image_id'],\n",
    "#                         'image_type': image_data.get('image_type', 'unknown'),\n",
    "#                         'error_type': 'complete_failure',\n",
    "#                         'error_message': str(e)\n",
    "#                     })\n",
    "                    \n",
    "#                     # Cleanup even on failure\n",
    "#                     self.ultra_aggressive_memory_cleanup()\n",
    "#                     continue\n",
    "            \n",
    "#             # Save final results\n",
    "#             if results:\n",
    "#                 with open(save_path, 'w') as f:\n",
    "#                     json.dump(results, f, indent=4)\n",
    "            \n",
    "#         except Exception as e:\n",
    "#             print(f\"Critical error during evaluation: {e}\")\n",
    "#             if results:\n",
    "#                 error_save_path = f\"{save_path}_error_state.json\"\n",
    "#                 with open(error_save_path, 'w') as f:\n",
    "#                     json.dump(results, f, indent=4)\n",
    "        \n",
    "#         # Print comprehensive summary\n",
    "#         self._print_evaluation_summary(\n",
    "#             model_name, total_images, successful_images, failed_images, \n",
    "#             total_questions_processed, total_questions_failed, len(results)\n",
    "#         )\n",
    "        \n",
    "#         return results\n",
    "    \n",
    "#     def _print_evaluation_summary(self, model_name, total_images, successful_images, \n",
    "#                                 failed_images, total_questions_processed, total_questions_failed, total_results):\n",
    "#         \"\"\"Print a comprehensive evaluation summary.\"\"\"\n",
    "#         print(f\"\\n{'='*60}\")\n",
    "#         print(f\"EVALUATION SUMMARY FOR {model_name.upper()}\")\n",
    "#         print(f\"{'='*60}\")\n",
    "        \n",
    "#         # Image-level statistics\n",
    "#         num_successful = len(successful_images)\n",
    "#         num_failed = len(failed_images)\n",
    "        \n",
    "#         print(f\"📊 IMAGE PROCESSING SUMMARY:\")\n",
    "#         print(f\"   Total images attempted: {total_images}\")\n",
    "#         print(f\"   Successfully processed: {num_successful} ({num_successful/total_images*100:.1f}%)\")\n",
    "#         print(f\"   Failed images: {num_failed} ({num_failed/total_images*100:.1f}%)\")\n",
    "        \n",
    "#         # Question-level statistics\n",
    "#         questions_succeeded = total_questions_processed - total_questions_failed\n",
    "#         print(f\"\\n📝 QUESTION PROCESSING SUMMARY:\")\n",
    "#         print(f\"   Total questions attempted: {total_questions_processed}\")\n",
    "#         print(f\"   Successfully processed: {questions_succeeded} ({questions_succeeded/total_questions_processed*100:.1f}%)\")\n",
    "#         print(f\"   Failed questions: {total_questions_failed} ({total_questions_failed/total_questions_processed*100:.1f}%)\")\n",
    "#         print(f\"   Results saved: {total_results}\")\n",
    "        \n",
    "#         # Memory usage summary\n",
    "#         memory_info = self.get_gpu_memory_info()\n",
    "#         if memory_info:\n",
    "#             print(f\"\\n🧠 FINAL MEMORY USAGE:\")\n",
    "#             print(f\"   Current allocation: {memory_info['allocated']:.2f} GB ({memory_info['usage_percent']:.1f}%)\")\n",
    "#             print(f\"   Peak allocation: {memory_info['max_allocated']:.2f} GB\")\n",
    "#             print(f\"   Total GPU memory: {memory_info['total']:.2f} GB\")\n",
    "        \n",
    "#         # Successful images details\n",
    "#         if successful_images:\n",
    "#             print(f\"\\n✅ SUCCESSFUL IMAGES ({len(successful_images)}):\")\n",
    "#             for img in successful_images:\n",
    "#                 print(f\"   • {img['image_id']} (Type: {img['image_type']}, \"\n",
    "#                       f\"Questions: {img['questions_succeeded']}/{img['questions_total']}, \"\n",
    "#                       f\"Time: {img['processing_time']:.1f}s)\")\n",
    "        \n",
    "#         # Failed images details\n",
    "#         if failed_images:\n",
    "#             print(f\"\\n❌ FAILED/PROBLEMATIC IMAGES ({len(failed_images)}):\")\n",
    "#             for img in failed_images:\n",
    "#                 if img['error_type'] == 'complete_failure':\n",
    "#                     print(f\"   • {img['image_id']} (Type: {img['image_type']}) - \"\n",
    "#                           f\"COMPLETE FAILURE: {img.get('error_message', 'Unknown error')}\")\n",
    "#                 elif img['error_type'] == 'partial_failure':\n",
    "#                     print(f\"   • {img['image_id']} (Type: {img['image_type']}) - \"\n",
    "#                           f\"PARTIAL: {img['questions_failed']}/{img['questions_total']} failed \"\n",
    "#                           f\"({img['success_rate']} success)\")\n",
    "#                 elif img['error_type'] == 'file_not_found':\n",
    "#                     print(f\"   • {img['image_id']} (Type: {img['image_type']}) - \"\n",
    "#                           f\"FILE NOT FOUND: {img['error_message']}\")\n",
    "        \n",
    "#         print(f\"{'='*60}\\n\")"
   ]
  },
  {
   "cell_type": "code",
   "execution_count": 6,
   "id": "ccdaac17",
   "metadata": {
    "execution": {
     "iopub.execute_input": "2025-07-29T11:44:56.983411Z",
     "iopub.status.busy": "2025-07-29T11:44:56.983154Z",
     "iopub.status.idle": "2025-07-29T11:44:57.014776Z",
     "shell.execute_reply": "2025-07-29T11:44:57.014025Z"
    },
    "papermill": {
     "duration": 0.040048,
     "end_time": "2025-07-29T11:44:57.015923",
     "exception": false,
     "start_time": "2025-07-29T11:44:56.975875",
     "status": "completed"
    },
    "tags": []
   },
   "outputs": [],
   "source": [
    "class BenchmarkTester:\n",
    "    def __init__(self, benchmark_path=\"/var/scratch/ave303/OP_bench/benchmark.json\", data_dir=\"/var/scratch/ave303/OP_bench/\"):\n",
    "        self.device = \"cuda\" if torch.cuda.is_available() else \"cpu\"\n",
    "        with open(benchmark_path, 'r') as f:\n",
    "            self.benchmark = json.load(f)\n",
    "        self.data_dir = data_dir\n",
    "\n",
    "    def clean_answer(self, answer):\n",
    "        \"\"\"Extract number and reasoning from the model's answer.\"\"\"\n",
    "        # Try to extract number and reasoning using regex\n",
    "        import re\n",
    "        pattern = r'(\\d+)\\s*\\[(.*?)\\]'\n",
    "        match = re.search(pattern, answer)\n",
    "        \n",
    "        if match:\n",
    "            number = match.group(1)\n",
    "            objects = [obj.strip() for obj in match.group(2).split(',')]\n",
    "            return {\n",
    "                \"count\": number,\n",
    "                \"reasoning\": objects\n",
    "            }\n",
    "        else:\n",
    "            # Fallback if format isn't matched\n",
    "            numbers = re.findall(r'\\d+', answer)\n",
    "            return {\n",
    "                \"count\": numbers[0] if numbers else \"0\",\n",
    "                \"reasoning\": []\n",
    "            }\n",
    "\n",
    "    def model_generation(self, model_name, model, inputs, processor):\n",
    "        \"\"\"Generate answer and decode with greedy decoding.\"\"\"\n",
    "        outputs = None  # Initialize outputs to None\n",
    "        \n",
    "        if model_name == \"Qwen2.5-VL\":\n",
    "            # Explicit greedy decoding parameters\n",
    "            outputs = model.generate(\n",
    "                **inputs, \n",
    "                max_new_tokens=200,\n",
    "                do_sample=False,          # Disable sampling for greedy decoding\n",
    "                temperature=None,         # Not used in greedy decoding\n",
    "                top_p=None,              # Not used in greedy decoding  \n",
    "                top_k=None,              # Not used in greedy decoding\n",
    "                num_beams=1,             # Single beam for greedy decoding\n",
    "                early_stopping=False,    # Let it generate until max_tokens or EOS\n",
    "                pad_token_id=processor.tokenizer.pad_token_id,\n",
    "                eos_token_id=processor.tokenizer.eos_token_id\n",
    "            )\n",
    "            outputs = [\n",
    "                out_ids[len(in_ids) :] for in_ids, out_ids in zip(inputs.input_ids, outputs)\n",
    "            ]\n",
    "            answer = processor.batch_decode(\n",
    "                outputs, skip_special_tokens=True, clean_up_tokenization_spaces=False\n",
    "            )[0]\n",
    "        else:\n",
    "            print(f\"Warning: Unknown model name '{model_name}' in model_generation.\")\n",
    "            answer = \"\"  # Return an empty string\n",
    "\n",
    "        return answer, outputs\n",
    "    \n",
    "    def evaluate_model(self, model_name, model, processor, save_path, start_idx=0, batch_size=5):\n",
    "        results = []\n",
    "        \n",
    "        # Initialize tracking variables\n",
    "        successful_images = []\n",
    "        failed_images = []\n",
    "        total_questions_processed = 0\n",
    "        total_questions_failed = 0\n",
    "        \n",
    "        print(f\"\\nEvaluating {model_name}...\")\n",
    "        print(f\"Using device: {self.device}\")\n",
    "        \n",
    "        # Force garbage collection before starting\n",
    "        gc.collect()\n",
    "        torch.cuda.empty_cache()\n",
    "\n",
    "        try:\n",
    "            images = self.benchmark['benchmark']['images'][start_idx:start_idx + batch_size]\n",
    "            total_images = len(images)\n",
    "            \n",
    "            for idx, image_data in enumerate(tqdm(images, desc=\"Processing images\")):\n",
    "                image_start_time = time.time()\n",
    "                current_image_questions_failed = 0\n",
    "                current_image_questions_total = 0\n",
    "                \n",
    "                try:\n",
    "                    image_path = Path(self.data_dir)/image_data['path']\n",
    "                    if not image_path.exists():\n",
    "                        failed_images.append({\n",
    "                            'image_id': image_data['image_id'],\n",
    "                            'image_type': image_data.get('image_type', 'unknown'),\n",
    "                            'error_type': 'file_not_found',\n",
    "                            'error_message': f'Image not found at {image_path}'\n",
    "                        })\n",
    "                        continue\n",
    "                    \n",
    "                    # Load and preprocess image\n",
    "                    image = Image.open(image_path).convert(\"RGB\")\n",
    "                    image_results = []  # Store results for current image\n",
    "                    \n",
    "                    for question_idx, question in enumerate(image_data['questions']):\n",
    "                        current_image_questions_total += 1\n",
    "                        total_questions_processed += 1\n",
    "                        \n",
    "                        try:\n",
    "                            messages = [\n",
    "                                {\n",
    "                                    \"role\": \"user\",\n",
    "                                    \"content\": [\n",
    "                                        {\"type\": \"image\", \"image\": image},\n",
    "                                        {\"type\": \"text\", \"text\": f\"{question['question']} Your response MUST be in the following format and nothing else:\\n <NUMBER> [<OBJECT1>, <OBJECT2>, <OBJECT3>, ...]\"}\n",
    "                                    ]\n",
    "                                },\n",
    "                            ]\n",
    "                            \n",
    "                            # Clear cache before processing each question\n",
    "                            torch.cuda.empty_cache()\n",
    "                            \n",
    "                            # Process image and text for Qwen2.5-VL\n",
    "                            text = processor.apply_chat_template(\n",
    "                                messages, tokenize=False, add_generation_prompt=True\n",
    "                            )\n",
    "                            inputs = processor(\n",
    "                                text=text,\n",
    "                                images=image,\n",
    "                                videos=None,\n",
    "                                padding=True,\n",
    "                                return_tensors=\"pt\",\n",
    "                            ).to(\"cuda\")\n",
    "                            \n",
    "                            # Generate answer with greedy decoding\n",
    "                            with torch.no_grad():\n",
    "                                answer, outputs = self.model_generation(model_name, model, inputs, processor)\n",
    "        \n",
    "                            cleaned_answer = self.clean_answer(answer)\n",
    "                            \n",
    "                            image_results.append({\n",
    "                                \"image_id\": image_data[\"image_id\"],\n",
    "                                \"image_type\": image_data.get(\"image_type\", \"unknown\"),\n",
    "                                \"question_id\": question[\"id\"],\n",
    "                                \"question\": question[\"question\"],\n",
    "                                \"ground_truth\": question[\"answer\"],\n",
    "                                \"model_answer\": cleaned_answer[\"count\"],\n",
    "                                \"model_reasoning\": cleaned_answer[\"reasoning\"],\n",
    "                                \"raw_answer\": answer,  # Keep raw answer for debugging\n",
    "                                \"property_category\": question[\"property_category\"]\n",
    "                            })\n",
    "                            \n",
    "                            # Clear memory\n",
    "                            del outputs, inputs\n",
    "                            torch.cuda.empty_cache()\n",
    "                            \n",
    "                        except Exception as e:\n",
    "                            current_image_questions_failed += 1\n",
    "                            total_questions_failed += 1\n",
    "                            continue\n",
    "                    \n",
    "                    # Add results from this image\n",
    "                    results.extend(image_results)\n",
    "                    \n",
    "                    # Calculate success rate for this image\n",
    "                    questions_succeeded = current_image_questions_total - current_image_questions_failed\n",
    "                    \n",
    "                    if current_image_questions_failed == 0:\n",
    "                        # All questions succeeded\n",
    "                        successful_images.append({\n",
    "                            'image_id': image_data['image_id'],\n",
    "                            'image_type': image_data.get('image_type', 'unknown'),\n",
    "                            'questions_total': current_image_questions_total,\n",
    "                            'questions_succeeded': questions_succeeded,\n",
    "                            'processing_time': time.time() - image_start_time\n",
    "                        })\n",
    "                    else:\n",
    "                        # Some questions failed\n",
    "                        image_success_rate = (questions_succeeded / current_image_questions_total * 100) if current_image_questions_total > 0 else 0\n",
    "                        failed_images.append({\n",
    "                            'image_id': image_data['image_id'],\n",
    "                            'image_type': image_data.get('image_type', 'unknown'),\n",
    "                            'error_type': 'partial_failure',\n",
    "                            'questions_total': current_image_questions_total,\n",
    "                            'questions_failed': current_image_questions_failed,\n",
    "                            'questions_succeeded': questions_succeeded,\n",
    "                            'success_rate': f\"{image_success_rate:.1f}%\"\n",
    "                        })\n",
    "                    \n",
    "                    # Save intermediate results only every 2 images or if it's the last image\n",
    "                    if (idx + 1) % 2 == 0 or idx == total_images - 1:\n",
    "                        checkpoint_path = f\"{save_path}_checkpoint.json\"\n",
    "                        with open(checkpoint_path, 'w') as f:\n",
    "                            json.dump(results, f, indent=4)\n",
    "                            \n",
    "                except Exception as e:\n",
    "                    failed_images.append({\n",
    "                        'image_id': image_data['image_id'],\n",
    "                        'image_type': image_data.get('image_type', 'unknown'),\n",
    "                        'error_type': 'complete_failure',\n",
    "                        'error_message': str(e)\n",
    "                    })\n",
    "                    continue\n",
    "            \n",
    "            # Save final results\n",
    "            if results:\n",
    "                with open(save_path, 'w') as f:\n",
    "                    json.dump(results, f, indent=4)\n",
    "            \n",
    "        except Exception as e:\n",
    "            if results:\n",
    "                error_save_path = f\"{save_path}_error_state.json\"\n",
    "                with open(error_save_path, 'w') as f:\n",
    "                    json.dump(results, f, indent=4)\n",
    "        \n",
    "        # Print comprehensive summary\n",
    "        self._print_evaluation_summary(\n",
    "            model_name, total_images, successful_images, failed_images, \n",
    "            total_questions_processed, total_questions_failed, len(results)\n",
    "        )\n",
    "        \n",
    "        return results\n",
    "    \n",
    "    def _print_evaluation_summary(self, model_name, total_images, successful_images, \n",
    "                                failed_images, total_questions_processed, total_questions_failed, total_results):\n",
    "        \"\"\"Print a comprehensive evaluation summary.\"\"\"\n",
    "        print(f\"\\n{'='*60}\")\n",
    "        print(f\"EVALUATION SUMMARY FOR {model_name.upper()}\")\n",
    "        print(f\"{'='*60}\")\n",
    "        \n",
    "        # Image-level statistics\n",
    "        num_successful = len(successful_images)\n",
    "        num_failed = len(failed_images)\n",
    "        \n",
    "        print(f\"📊 IMAGE PROCESSING SUMMARY:\")\n",
    "        print(f\"   Total images attempted: {total_images}\")\n",
    "        print(f\"   Successfully processed: {num_successful} ({num_successful/total_images*100:.1f}%)\")\n",
    "        print(f\"   Failed images: {num_failed} ({num_failed/total_images*100:.1f}%)\")\n",
    "        \n",
    "        # Question-level statistics\n",
    "        questions_succeeded = total_questions_processed - total_questions_failed\n",
    "        print(f\"\\n📝 QUESTION PROCESSING SUMMARY:\")\n",
    "        print(f\"   Total questions attempted: {total_questions_processed}\")\n",
    "        print(f\"   Successfully processed: {questions_succeeded} ({questions_succeeded/total_questions_processed*100:.1f}%)\")\n",
    "        print(f\"   Failed questions: {total_questions_failed} ({total_questions_failed/total_questions_processed*100:.1f}%)\")\n",
    "        print(f\"   Results saved: {total_results}\")\n",
    "        \n",
    "        # Successful images details\n",
    "        if successful_images:\n",
    "            print(f\"\\n✅ SUCCESSFUL IMAGES ({len(successful_images)}):\")\n",
    "            for img in successful_images:\n",
    "                print(f\"   • {img['image_id']} (Type: {img['image_type']}, \"\n",
    "                      f\"Questions: {img['questions_succeeded']}/{img['questions_total']}, \"\n",
    "                      f\"Time: {img['processing_time']:.1f}s)\")\n",
    "        \n",
    "        # Failed images details\n",
    "        if failed_images:\n",
    "            print(f\"\\n❌ FAILED/PROBLEMATIC IMAGES ({len(failed_images)}):\")\n",
    "            for img in failed_images:\n",
    "                if img['error_type'] == 'complete_failure':\n",
    "                    print(f\"   • {img['image_id']} (Type: {img['image_type']}) - \"\n",
    "                          f\"COMPLETE FAILURE: {img.get('error_message', 'Unknown error')}\")\n",
    "                elif img['error_type'] == 'partial_failure':\n",
    "                    print(f\"   • {img['image_id']} (Type: {img['image_type']}) - \"\n",
    "                          f\"PARTIAL: {img['questions_failed']}/{img['questions_total']} failed \"\n",
    "                          f\"({img['success_rate']} success)\")\n",
    "                elif img['error_type'] == 'file_not_found':\n",
    "                    print(f\"   • {img['image_id']} (Type: {img['image_type']}) - \"\n",
    "                          f\"FILE NOT FOUND: {img['error_message']}\")\n",
    "        \n",
    "        # Group failed images by type\n",
    "        if failed_images:\n",
    "            print(f\"\\n📈 FAILURE ANALYSIS BY IMAGE TYPE:\")\n",
    "            from collections import defaultdict\n",
    "            failures_by_type = defaultdict(list)\n",
    "            for img in failed_images:\n",
    "                failures_by_type[img['image_type']].append(img)\n",
    "            \n",
    "            for img_type, failures in failures_by_type.items():\n",
    "                print(f\"   • {img_type}: {len(failures)} failed images\")\n",
    "                for failure in failures:\n",
    "                    print(f\"     - {failure['image_id']} ({failure['error_type']})\")\n",
    "        \n",
    "        print(f\"{'='*60}\\n\")"
   ]
  },
  {
   "cell_type": "markdown",
   "id": "1e0a3d0c",
   "metadata": {
    "papermill": {
     "duration": 0.006106,
     "end_time": "2025-07-29T11:44:57.028331",
     "exception": false,
     "start_time": "2025-07-29T11:44:57.022225",
     "status": "completed"
    },
    "tags": []
   },
   "source": [
    "## Test SmolVLM Model\n",
    "\n",
    "Let's evaluate the SmolVLM2-2.2B-Instruct model"
   ]
  },
  {
   "cell_type": "code",
   "execution_count": 7,
   "id": "dce63cd2",
   "metadata": {
    "execution": {
     "iopub.execute_input": "2025-07-29T11:44:57.041633Z",
     "iopub.status.busy": "2025-07-29T11:44:57.041392Z",
     "iopub.status.idle": "2025-07-29T11:44:57.045645Z",
     "shell.execute_reply": "2025-07-29T11:44:57.044983Z"
    },
    "papermill": {
     "duration": 0.012268,
     "end_time": "2025-07-29T11:44:57.046835",
     "exception": false,
     "start_time": "2025-07-29T11:44:57.034567",
     "status": "completed"
    },
    "tags": []
   },
   "outputs": [],
   "source": [
    "# def test_smolVLM2():\n",
    "#     from transformers import AutoProcessor, AutoModelForImageTextToText\n",
    "\n",
    "#     print(\"Loading smolVLM model...\")\n",
    "    \n",
    "#     model = AutoModelForImageTextToText.from_pretrained(\n",
    "#         \"HuggingFaceTB/SmolVLM2-2.2B-Instruct\",\n",
    "#         torch_dtype=torch.float16,\n",
    "#         attn_implementation=\"flash_attention_2\",\n",
    "#         low_cpu_mem_usage=True,\n",
    "#         trust_remote_code=True\n",
    "#     ).to(\"cuda\")\n",
    "\n",
    "#     processor = AutoProcessor.from_pretrained(\"HuggingFaceTB/SmolVLM2-2.2B-Instruct\")\n",
    "\n",
    "#     ## A bit slow without the flash_attention2 requires ampere gpu's. Better performance in some cases\n",
    "\n",
    "#     # Optional: Enable memory efficient attention\n",
    "#     if hasattr(model.config, 'use_memory_efficient_attention'):\n",
    "#         model.config.use_memory_efficient_attention = True\n",
    "\n",
    "#     tester = BenchmarkTester()\n",
    "#     smolVLM_results = tester.evaluate_model(\n",
    "#         \"smolVLM2\",\n",
    "#         model, \n",
    "#         processor, \n",
    "#         \"smolVLM2_results_1.json\", \n",
    "#         batch_size=25\n",
    "#     )\n",
    "\n",
    "#     # Clean up\n",
    "#     del model, processor\n",
    "#     torch.cuda.empty_cache()\n",
    "#     gc.collect()"
   ]
  },
  {
   "cell_type": "markdown",
   "id": "32aff0d7",
   "metadata": {
    "papermill": {
     "duration": 0.006061,
     "end_time": "2025-07-29T11:44:57.059139",
     "exception": false,
     "start_time": "2025-07-29T11:44:57.053078",
     "status": "completed"
    },
    "tags": []
   },
   "source": [
    "## Test Qwen2.5-VL\n",
    "\n",
    "Lets evaluate the Qwen2.5-VL-7B-Instruct model"
   ]
  },
  {
   "cell_type": "code",
   "execution_count": 8,
   "id": "8430d403",
   "metadata": {
    "execution": {
     "iopub.execute_input": "2025-07-29T11:44:57.072336Z",
     "iopub.status.busy": "2025-07-29T11:44:57.072085Z",
     "iopub.status.idle": "2025-07-29T11:44:57.078025Z",
     "shell.execute_reply": "2025-07-29T11:44:57.077285Z"
    },
    "papermill": {
     "duration": 0.013949,
     "end_time": "2025-07-29T11:44:57.079246",
     "exception": false,
     "start_time": "2025-07-29T11:44:57.065297",
     "status": "completed"
    },
    "tags": []
   },
   "outputs": [],
   "source": [
    "def test_Qwen2_5VL():\n",
    "    from transformers import Qwen2_5_VLForConditionalGeneration, AutoProcessor\n",
    "    \n",
    "    # default: Load the model on the available device(s)\n",
    "    # model = Qwen2_5_VLForConditionalGeneration.from_pretrained(\n",
    "    #     \"Qwen/Qwen2.5-VL-3B-Instruct\", \n",
    "    #     load_in_8bit=True, # throws error when .to() is added\n",
    "    #     torch_dtype=torch.bfloat16, \n",
    "    #     device_map=\"auto\",\n",
    "    #     # attn_implementation=\"flash_attention_2\",\n",
    "    #     low_cpu_mem_usage=True\n",
    "    # )\n",
    "    \n",
    "    # We recommend enabling flash_attention_2 for better acceleration and memory saving, especially in multi-image and video scenarios.\n",
    "    model = Qwen2_5_VLForConditionalGeneration.from_pretrained(\n",
    "        \"/var/scratch/ave303/models/qwen2-5-vl-3b\",\n",
    "        torch_dtype=torch.float16,\n",
    "        # load_in_8bit=True,\n",
    "        # attn_implementation=\"flash_attention_2\",\n",
    "        device_map=\"auto\",\n",
    "        low_cpu_mem_usage=True,\n",
    "        trust_remote_code=True\n",
    "    )\n",
    "    \n",
    "    # default processer\n",
    "    processor = AutoProcessor.from_pretrained(\"/var/scratch/ave303/models/qwen2-5-vl-3b\")\n",
    "\n",
    "    ### Qwen2.5-VL-7B-Instruct --> goes out of CUDA memory\n",
    "    ### Qwen2.5-VL-3B-Instruct --> can handle only 2 images before going out of memory but decent performance\n",
    "\n",
    "    # Optional: Enable memory efficient attention\n",
    "    if hasattr(model.config, 'use_memory_efficient_attention'):\n",
    "        model.config.use_memory_efficient_attention = True\n",
    "\n",
    "    tester = BenchmarkTester()\n",
    "    Qwen2_5VL_results = tester.evaluate_model(\n",
    "        \"Qwen2.5-VL\",\n",
    "        model, \n",
    "        processor, \n",
    "        \"Qwen2.5-VL_3b_results.json\",\n",
    "        # start_idx=0,\n",
    "        batch_size=360\n",
    "    )\n",
    "\n",
    "    # Clean up\n",
    "    del model, processor\n",
    "    torch.cuda.empty_cache()\n",
    "    gc.collect()"
   ]
  },
  {
   "cell_type": "markdown",
   "id": "4bb691ba",
   "metadata": {
    "papermill": {
     "duration": 0.006056,
     "end_time": "2025-07-29T11:44:57.091568",
     "exception": false,
     "start_time": "2025-07-29T11:44:57.085512",
     "status": "completed"
    },
    "tags": []
   },
   "source": [
    "## Run Evaluation\n",
    "\n",
    "Now we can run our evaluation. Let's start with the SmolVLM2 model:"
   ]
  },
  {
   "cell_type": "code",
   "execution_count": 9,
   "id": "750b11ed",
   "metadata": {
    "execution": {
     "iopub.execute_input": "2025-07-29T11:44:57.104584Z",
     "iopub.status.busy": "2025-07-29T11:44:57.104345Z",
     "iopub.status.idle": "2025-07-29T11:44:57.107904Z",
     "shell.execute_reply": "2025-07-29T11:44:57.107158Z"
    },
    "papermill": {
     "duration": 0.011402,
     "end_time": "2025-07-29T11:44:57.109070",
     "exception": false,
     "start_time": "2025-07-29T11:44:57.097668",
     "status": "completed"
    },
    "tags": []
   },
   "outputs": [],
   "source": [
    "# test_smolVLM2()"
   ]
  },
  {
   "cell_type": "code",
   "execution_count": 10,
   "id": "39f32abc",
   "metadata": {
    "execution": {
     "iopub.execute_input": "2025-07-29T11:44:57.122064Z",
     "iopub.status.busy": "2025-07-29T11:44:57.121751Z",
     "iopub.status.idle": "2025-07-29T13:35:52.827702Z",
     "shell.execute_reply": "2025-07-29T13:35:52.826824Z"
    },
    "papermill": {
     "duration": 6655.713878,
     "end_time": "2025-07-29T13:35:52.828982",
     "exception": false,
     "start_time": "2025-07-29T11:44:57.115104",
     "status": "completed"
    },
    "tags": []
   },
   "outputs": [
    {
     "name": "stderr",
     "output_type": "stream",
     "text": [
      "\r",
      "Loading checkpoint shards:   0%|          | 0/4 [00:00<?, ?it/s]"
     ]
    },
    {
     "name": "stderr",
     "output_type": "stream",
     "text": [
      "\r",
      "Loading checkpoint shards:  25%|██▌       | 1/4 [00:05<00:15,  5.26s/it]"
     ]
    },
    {
     "name": "stderr",
     "output_type": "stream",
     "text": [
      "\r",
      "Loading checkpoint shards:  50%|█████     | 2/4 [00:10<00:10,  5.02s/it]"
     ]
    },
    {
     "name": "stderr",
     "output_type": "stream",
     "text": [
      "\r",
      "Loading checkpoint shards:  75%|███████▌  | 3/4 [00:15<00:05,  5.14s/it]"
     ]
    },
    {
     "name": "stderr",
     "output_type": "stream",
     "text": [
      "\r",
      "Loading checkpoint shards: 100%|██████████| 4/4 [00:15<00:00,  3.19s/it]"
     ]
    },
    {
     "name": "stderr",
     "output_type": "stream",
     "text": [
      "\r",
      "Loading checkpoint shards: 100%|██████████| 4/4 [00:15<00:00,  3.90s/it]"
     ]
    },
    {
     "name": "stderr",
     "output_type": "stream",
     "text": [
      "\n"
     ]
    },
    {
     "name": "stderr",
     "output_type": "stream",
     "text": [
      "Using a slow image processor as `use_fast` is unset and a slow processor was saved with this model. `use_fast=True` will be the default behavior in v4.52, even if the model was saved with a slow processor. This will result in minor differences in outputs. You'll still be able to use a slow processor with `use_fast=False`.\n"
     ]
    },
    {
     "name": "stdout",
     "output_type": "stream",
     "text": [
      "\n",
      "Evaluating Qwen2.5-VL...\n",
      "Using device: cuda\n"
     ]
    },
    {
     "name": "stderr",
     "output_type": "stream",
     "text": [
      "\r",
      "Processing images:   0%|          | 0/360 [00:00<?, ?it/s]"
     ]
    },
    {
     "name": "stderr",
     "output_type": "stream",
     "text": [
      "\r",
      "Processing images:   0%|          | 1/360 [00:06<39:35,  6.62s/it]"
     ]
    },
    {
     "name": "stderr",
     "output_type": "stream",
     "text": [
      "\r",
      "Processing images:   1%|          | 2/360 [00:08<23:56,  4.01s/it]"
     ]
    },
    {
     "name": "stderr",
     "output_type": "stream",
     "text": [
      "\r",
      "Processing images:   1%|          | 3/360 [00:38<1:32:25, 15.53s/it]"
     ]
    },
    {
     "name": "stderr",
     "output_type": "stream",
     "text": [
      "\r",
      "Processing images:   1%|          | 4/360 [00:40<1:01:10, 10.31s/it]"
     ]
    },
    {
     "name": "stderr",
     "output_type": "stream",
     "text": [
      "\r",
      "Processing images:   1%|▏         | 5/360 [01:06<1:33:59, 15.88s/it]"
     ]
    },
    {
     "name": "stderr",
     "output_type": "stream",
     "text": [
      "\r",
      "Processing images:   2%|▏         | 6/360 [01:11<1:11:48, 12.17s/it]"
     ]
    },
    {
     "name": "stderr",
     "output_type": "stream",
     "text": [
      "\r",
      "Processing images:   2%|▏         | 7/360 [01:12<51:21,  8.73s/it]  "
     ]
    },
    {
     "name": "stderr",
     "output_type": "stream",
     "text": [
      "\r",
      "Processing images:   2%|▏         | 8/360 [01:13<36:45,  6.27s/it]"
     ]
    },
    {
     "name": "stderr",
     "output_type": "stream",
     "text": [
      "\r",
      "Processing images:   2%|▎         | 9/360 [01:15<28:12,  4.82s/it]"
     ]
    },
    {
     "name": "stderr",
     "output_type": "stream",
     "text": [
      "\r",
      "Processing images:   3%|▎         | 10/360 [01:18<24:23,  4.18s/it]"
     ]
    },
    {
     "name": "stderr",
     "output_type": "stream",
     "text": [
      "\r",
      "Processing images:   3%|▎         | 11/360 [01:22<24:19,  4.18s/it]"
     ]
    },
    {
     "name": "stderr",
     "output_type": "stream",
     "text": [
      "\r",
      "Processing images:   3%|▎         | 12/360 [01:25<22:02,  3.80s/it]"
     ]
    },
    {
     "name": "stderr",
     "output_type": "stream",
     "text": [
      "\r",
      "Processing images:   4%|▎         | 13/360 [01:26<17:42,  3.06s/it]"
     ]
    },
    {
     "name": "stderr",
     "output_type": "stream",
     "text": [
      "\r",
      "Processing images:   4%|▍         | 14/360 [01:28<15:42,  2.72s/it]"
     ]
    },
    {
     "name": "stderr",
     "output_type": "stream",
     "text": [
      "\r",
      "Processing images:   4%|▍         | 15/360 [01:55<57:55, 10.07s/it]"
     ]
    },
    {
     "name": "stderr",
     "output_type": "stream",
     "text": [
      "\r",
      "Processing images:   4%|▍         | 16/360 [02:07<1:00:45, 10.60s/it]"
     ]
    },
    {
     "name": "stderr",
     "output_type": "stream",
     "text": [
      "\r",
      "Processing images:   5%|▍         | 17/360 [02:08<44:39,  7.81s/it]  "
     ]
    },
    {
     "name": "stderr",
     "output_type": "stream",
     "text": [
      "\r",
      "Processing images:   5%|▌         | 18/360 [02:10<34:26,  6.04s/it]"
     ]
    },
    {
     "name": "stderr",
     "output_type": "stream",
     "text": [
      "\r",
      "Processing images:   5%|▌         | 19/360 [02:12<27:44,  4.88s/it]"
     ]
    },
    {
     "name": "stderr",
     "output_type": "stream",
     "text": [
      "\r",
      "Processing images:   6%|▌         | 20/360 [02:36<58:56, 10.40s/it]"
     ]
    },
    {
     "name": "stderr",
     "output_type": "stream",
     "text": [
      "\r",
      "Processing images:   6%|▌         | 21/360 [02:38<45:43,  8.09s/it]"
     ]
    },
    {
     "name": "stderr",
     "output_type": "stream",
     "text": [
      "\r",
      "Processing images:   6%|▌         | 22/360 [04:31<3:41:59, 39.41s/it]"
     ]
    },
    {
     "name": "stderr",
     "output_type": "stream",
     "text": [
      "\r",
      "Processing images:   6%|▋         | 23/360 [06:23<5:43:30, 61.16s/it]"
     ]
    },
    {
     "name": "stderr",
     "output_type": "stream",
     "text": [
      "\r",
      "Processing images:   7%|▋         | 24/360 [06:24<4:02:32, 43.31s/it]"
     ]
    },
    {
     "name": "stderr",
     "output_type": "stream",
     "text": [
      "\r",
      "Processing images:   7%|▋         | 25/360 [06:26<2:51:28, 30.71s/it]"
     ]
    },
    {
     "name": "stderr",
     "output_type": "stream",
     "text": [
      "\r",
      "Processing images:   7%|▋         | 26/360 [06:28<2:03:36, 22.20s/it]"
     ]
    },
    {
     "name": "stderr",
     "output_type": "stream",
     "text": [
      "\r",
      "Processing images:   8%|▊         | 27/360 [06:30<1:28:44, 15.99s/it]"
     ]
    },
    {
     "name": "stderr",
     "output_type": "stream",
     "text": [
      "\r",
      "Processing images:   8%|▊         | 28/360 [06:31<1:04:04, 11.58s/it]"
     ]
    },
    {
     "name": "stderr",
     "output_type": "stream",
     "text": [
      "\r",
      "Processing images:   8%|▊         | 29/360 [06:33<47:39,  8.64s/it]  "
     ]
    },
    {
     "name": "stderr",
     "output_type": "stream",
     "text": [
      "\r",
      "Processing images:   8%|▊         | 30/360 [06:35<37:54,  6.89s/it]"
     ]
    },
    {
     "name": "stderr",
     "output_type": "stream",
     "text": [
      "\r",
      "Processing images:   9%|▊         | 31/360 [06:38<31:16,  5.70s/it]"
     ]
    },
    {
     "name": "stderr",
     "output_type": "stream",
     "text": [
      "\r",
      "Processing images:   9%|▉         | 32/360 [06:41<25:40,  4.70s/it]"
     ]
    },
    {
     "name": "stderr",
     "output_type": "stream",
     "text": [
      "\r",
      "Processing images:   9%|▉         | 33/360 [06:44<23:14,  4.26s/it]"
     ]
    },
    {
     "name": "stderr",
     "output_type": "stream",
     "text": [
      "\r",
      "Processing images:   9%|▉         | 34/360 [06:45<18:27,  3.40s/it]"
     ]
    },
    {
     "name": "stderr",
     "output_type": "stream",
     "text": [
      "\r",
      "Processing images:  10%|▉         | 35/360 [06:49<18:11,  3.36s/it]"
     ]
    },
    {
     "name": "stderr",
     "output_type": "stream",
     "text": [
      "\r",
      "Processing images:  10%|█         | 36/360 [06:50<15:42,  2.91s/it]"
     ]
    },
    {
     "name": "stderr",
     "output_type": "stream",
     "text": [
      "\r",
      "Processing images:  10%|█         | 37/360 [06:53<15:22,  2.86s/it]"
     ]
    },
    {
     "name": "stderr",
     "output_type": "stream",
     "text": [
      "\r",
      "Processing images:  11%|█         | 38/360 [06:57<17:10,  3.20s/it]"
     ]
    },
    {
     "name": "stderr",
     "output_type": "stream",
     "text": [
      "\r",
      "Processing images:  11%|█         | 39/360 [07:00<16:04,  3.00s/it]"
     ]
    },
    {
     "name": "stderr",
     "output_type": "stream",
     "text": [
      "\r",
      "Processing images:  11%|█         | 40/360 [07:04<17:24,  3.26s/it]"
     ]
    },
    {
     "name": "stderr",
     "output_type": "stream",
     "text": [
      "\r",
      "Processing images:  11%|█▏        | 41/360 [07:05<14:26,  2.72s/it]"
     ]
    },
    {
     "name": "stderr",
     "output_type": "stream",
     "text": [
      "\r",
      "Processing images:  12%|█▏        | 42/360 [07:08<14:41,  2.77s/it]"
     ]
    },
    {
     "name": "stderr",
     "output_type": "stream",
     "text": [
      "\r",
      "Processing images:  12%|█▏        | 43/360 [07:11<15:01,  2.84s/it]"
     ]
    },
    {
     "name": "stderr",
     "output_type": "stream",
     "text": [
      "\r",
      "Processing images:  12%|█▏        | 44/360 [07:18<21:43,  4.13s/it]"
     ]
    },
    {
     "name": "stderr",
     "output_type": "stream",
     "text": [
      "\r",
      "Processing images:  12%|█▎        | 45/360 [07:22<21:58,  4.18s/it]"
     ]
    },
    {
     "name": "stderr",
     "output_type": "stream",
     "text": [
      "\r",
      "Processing images:  13%|█▎        | 46/360 [07:25<19:34,  3.74s/it]"
     ]
    },
    {
     "name": "stderr",
     "output_type": "stream",
     "text": [
      "\r",
      "Processing images:  13%|█▎        | 47/360 [07:27<17:08,  3.29s/it]"
     ]
    },
    {
     "name": "stderr",
     "output_type": "stream",
     "text": [
      "\r",
      "Processing images:  13%|█▎        | 48/360 [07:29<14:21,  2.76s/it]"
     ]
    },
    {
     "name": "stderr",
     "output_type": "stream",
     "text": [
      "\r",
      "Processing images:  14%|█▎        | 49/360 [07:51<43:49,  8.45s/it]"
     ]
    },
    {
     "name": "stderr",
     "output_type": "stream",
     "text": [
      "\r",
      "Processing images:  14%|█▍        | 50/360 [07:58<41:54,  8.11s/it]"
     ]
    },
    {
     "name": "stderr",
     "output_type": "stream",
     "text": [
      "\r",
      "Processing images:  14%|█▍        | 51/360 [08:22<1:06:53, 12.99s/it]"
     ]
    },
    {
     "name": "stderr",
     "output_type": "stream",
     "text": [
      "\r",
      "Processing images:  14%|█▍        | 52/360 [08:24<49:44,  9.69s/it]  "
     ]
    },
    {
     "name": "stderr",
     "output_type": "stream",
     "text": [
      "\r",
      "Processing images:  15%|█▍        | 53/360 [08:29<41:52,  8.18s/it]"
     ]
    },
    {
     "name": "stderr",
     "output_type": "stream",
     "text": [
      "\r",
      "Processing images:  15%|█▌        | 54/360 [10:20<3:18:41, 38.96s/it]"
     ]
    },
    {
     "name": "stderr",
     "output_type": "stream",
     "text": [
      "\r",
      "Processing images:  15%|█▌        | 55/360 [10:32<2:37:38, 31.01s/it]"
     ]
    },
    {
     "name": "stderr",
     "output_type": "stream",
     "text": [
      "\r",
      "Processing images:  16%|█▌        | 56/360 [12:24<4:39:33, 55.18s/it]"
     ]
    },
    {
     "name": "stderr",
     "output_type": "stream",
     "text": [
      "\r",
      "Processing images:  16%|█▌        | 57/360 [12:41<3:41:34, 43.88s/it]"
     ]
    },
    {
     "name": "stderr",
     "output_type": "stream",
     "text": [
      "\r",
      "Processing images:  16%|█▌        | 58/360 [12:45<2:40:30, 31.89s/it]"
     ]
    },
    {
     "name": "stderr",
     "output_type": "stream",
     "text": [
      "\r",
      "Processing images:  16%|█▋        | 59/360 [12:49<1:57:45, 23.47s/it]"
     ]
    },
    {
     "name": "stderr",
     "output_type": "stream",
     "text": [
      "\r",
      "Processing images:  17%|█▋        | 60/360 [13:23<2:12:37, 26.53s/it]"
     ]
    },
    {
     "name": "stderr",
     "output_type": "stream",
     "text": [
      "\r",
      "Processing images:  17%|█▋        | 61/360 [13:54<2:19:31, 28.00s/it]"
     ]
    },
    {
     "name": "stderr",
     "output_type": "stream",
     "text": [
      "\r",
      "Processing images:  17%|█▋        | 62/360 [14:20<2:15:48, 27.34s/it]"
     ]
    },
    {
     "name": "stderr",
     "output_type": "stream",
     "text": [
      "\r",
      "Processing images:  18%|█▊        | 63/360 [14:33<1:53:53, 23.01s/it]"
     ]
    },
    {
     "name": "stderr",
     "output_type": "stream",
     "text": [
      "\r",
      "Processing images:  18%|█▊        | 64/360 [15:14<2:20:57, 28.57s/it]"
     ]
    },
    {
     "name": "stderr",
     "output_type": "stream",
     "text": [
      "\r",
      "Processing images:  18%|█▊        | 65/360 [15:16<1:41:18, 20.61s/it]"
     ]
    },
    {
     "name": "stderr",
     "output_type": "stream",
     "text": [
      "\r",
      "Processing images:  18%|█▊        | 66/360 [15:19<1:13:58, 15.10s/it]"
     ]
    },
    {
     "name": "stderr",
     "output_type": "stream",
     "text": [
      "\r",
      "Processing images:  19%|█▊        | 67/360 [15:26<1:01:58, 12.69s/it]"
     ]
    },
    {
     "name": "stderr",
     "output_type": "stream",
     "text": [
      "\r",
      "Processing images:  19%|█▉        | 68/360 [15:33<53:20, 10.96s/it]  "
     ]
    },
    {
     "name": "stderr",
     "output_type": "stream",
     "text": [
      "\r",
      "Processing images:  19%|█▉        | 69/360 [15:58<1:14:47, 15.42s/it]"
     ]
    },
    {
     "name": "stderr",
     "output_type": "stream",
     "text": [
      "\r",
      "Processing images:  19%|█▉        | 70/360 [16:13<1:12:53, 15.08s/it]"
     ]
    },
    {
     "name": "stderr",
     "output_type": "stream",
     "text": [
      "\r",
      "Processing images:  20%|█▉        | 71/360 [16:54<1:50:51, 23.02s/it]"
     ]
    },
    {
     "name": "stderr",
     "output_type": "stream",
     "text": [
      "\r",
      "Processing images:  20%|██        | 72/360 [17:01<1:27:08, 18.16s/it]"
     ]
    },
    {
     "name": "stderr",
     "output_type": "stream",
     "text": [
      "\r",
      "Processing images:  20%|██        | 73/360 [17:28<1:38:56, 20.69s/it]"
     ]
    },
    {
     "name": "stderr",
     "output_type": "stream",
     "text": [
      "\r",
      "Processing images:  21%|██        | 74/360 [17:32<1:15:50, 15.91s/it]"
     ]
    },
    {
     "name": "stderr",
     "output_type": "stream",
     "text": [
      "\r",
      "Processing images:  21%|██        | 75/360 [19:23<3:31:00, 44.42s/it]"
     ]
    },
    {
     "name": "stderr",
     "output_type": "stream",
     "text": [
      "\r",
      "Processing images:  21%|██        | 76/360 [19:31<2:37:32, 33.28s/it]"
     ]
    },
    {
     "name": "stderr",
     "output_type": "stream",
     "text": [
      "\r",
      "Processing images:  21%|██▏       | 77/360 [19:32<1:52:09, 23.78s/it]"
     ]
    },
    {
     "name": "stderr",
     "output_type": "stream",
     "text": [
      "\r",
      "Processing images:  22%|██▏       | 78/360 [19:40<1:28:52, 18.91s/it]"
     ]
    },
    {
     "name": "stderr",
     "output_type": "stream",
     "text": [
      "\r",
      "Processing images:  22%|██▏       | 79/360 [19:47<1:12:34, 15.50s/it]"
     ]
    },
    {
     "name": "stderr",
     "output_type": "stream",
     "text": [
      "\r",
      "Processing images:  22%|██▏       | 80/360 [19:54<1:00:10, 12.90s/it]"
     ]
    },
    {
     "name": "stderr",
     "output_type": "stream",
     "text": [
      "\r",
      "Processing images:  22%|██▎       | 81/360 [20:01<51:38, 11.11s/it]  "
     ]
    },
    {
     "name": "stderr",
     "output_type": "stream",
     "text": [
      "\r",
      "Processing images:  23%|██▎       | 82/360 [20:37<1:25:24, 18.44s/it]"
     ]
    },
    {
     "name": "stderr",
     "output_type": "stream",
     "text": [
      "\r",
      "Processing images:  23%|██▎       | 83/360 [20:38<1:01:44, 13.37s/it]"
     ]
    },
    {
     "name": "stderr",
     "output_type": "stream",
     "text": [
      "\r",
      "Processing images:  23%|██▎       | 84/360 [22:06<2:44:17, 35.72s/it]"
     ]
    },
    {
     "name": "stderr",
     "output_type": "stream",
     "text": [
      "\r",
      "Processing images:  24%|██▎       | 85/360 [22:54<3:00:27, 39.37s/it]"
     ]
    },
    {
     "name": "stderr",
     "output_type": "stream",
     "text": [
      "\r",
      "Processing images:  24%|██▍       | 86/360 [22:56<2:08:52, 28.22s/it]"
     ]
    },
    {
     "name": "stderr",
     "output_type": "stream",
     "text": [
      "\r",
      "Processing images:  24%|██▍       | 87/360 [23:04<1:40:06, 22.00s/it]"
     ]
    },
    {
     "name": "stderr",
     "output_type": "stream",
     "text": [
      "\r",
      "Processing images:  24%|██▍       | 88/360 [23:11<1:19:17, 17.49s/it]"
     ]
    },
    {
     "name": "stderr",
     "output_type": "stream",
     "text": [
      "\r",
      "Processing images:  25%|██▍       | 89/360 [23:52<1:51:30, 24.69s/it]"
     ]
    },
    {
     "name": "stderr",
     "output_type": "stream",
     "text": [
      "\r",
      "Processing images:  25%|██▌       | 90/360 [24:33<2:12:28, 29.44s/it]"
     ]
    },
    {
     "name": "stderr",
     "output_type": "stream",
     "text": [
      "\r",
      "Processing images:  25%|██▌       | 91/360 [24:35<1:36:01, 21.42s/it]"
     ]
    },
    {
     "name": "stderr",
     "output_type": "stream",
     "text": [
      "\r",
      "Processing images:  26%|██▌       | 92/360 [26:28<3:37:44, 48.75s/it]"
     ]
    },
    {
     "name": "stderr",
     "output_type": "stream",
     "text": [
      "\r",
      "Processing images:  26%|██▌       | 93/360 [26:35<2:41:14, 36.23s/it]"
     ]
    },
    {
     "name": "stderr",
     "output_type": "stream",
     "text": [
      "\r",
      "Processing images:  26%|██▌       | 94/360 [26:43<2:03:18, 27.81s/it]"
     ]
    },
    {
     "name": "stderr",
     "output_type": "stream",
     "text": [
      "\r",
      "Processing images:  26%|██▋       | 95/360 [27:09<2:00:14, 27.23s/it]"
     ]
    },
    {
     "name": "stderr",
     "output_type": "stream",
     "text": [
      "\r",
      "Processing images:  27%|██▋       | 96/360 [27:46<2:13:15, 30.28s/it]"
     ]
    },
    {
     "name": "stderr",
     "output_type": "stream",
     "text": [
      "\r",
      "Processing images:  27%|██▋       | 97/360 [28:09<2:03:14, 28.12s/it]"
     ]
    },
    {
     "name": "stderr",
     "output_type": "stream",
     "text": [
      "\r",
      "Processing images:  27%|██▋       | 98/360 [28:16<1:35:12, 21.80s/it]"
     ]
    },
    {
     "name": "stderr",
     "output_type": "stream",
     "text": [
      "\r",
      "Processing images:  28%|██▊       | 99/360 [29:44<3:00:20, 41.46s/it]"
     ]
    },
    {
     "name": "stderr",
     "output_type": "stream",
     "text": [
      "\r",
      "Processing images:  28%|██▊       | 100/360 [29:51<2:15:40, 31.31s/it]"
     ]
    },
    {
     "name": "stderr",
     "output_type": "stream",
     "text": [
      "\r",
      "Processing images:  28%|██▊       | 101/360 [29:59<1:44:18, 24.16s/it]"
     ]
    },
    {
     "name": "stderr",
     "output_type": "stream",
     "text": [
      "\r",
      "Processing images:  28%|██▊       | 102/360 [30:07<1:23:31, 19.43s/it]"
     ]
    },
    {
     "name": "stderr",
     "output_type": "stream",
     "text": [
      "\r",
      "Processing images:  29%|██▊       | 103/360 [30:34<1:32:48, 21.67s/it]"
     ]
    },
    {
     "name": "stderr",
     "output_type": "stream",
     "text": [
      "\r",
      "Processing images:  29%|██▉       | 104/360 [31:00<1:37:42, 22.90s/it]"
     ]
    },
    {
     "name": "stderr",
     "output_type": "stream",
     "text": [
      "\r",
      "Processing images:  29%|██▉       | 105/360 [31:04<1:13:37, 17.32s/it]"
     ]
    },
    {
     "name": "stderr",
     "output_type": "stream",
     "text": [
      "\r",
      "Processing images:  29%|██▉       | 106/360 [31:40<1:36:20, 22.76s/it]"
     ]
    },
    {
     "name": "stderr",
     "output_type": "stream",
     "text": [
      "\r",
      "Processing images:  30%|██▉       | 107/360 [31:47<1:16:25, 18.12s/it]"
     ]
    },
    {
     "name": "stderr",
     "output_type": "stream",
     "text": [
      "\r",
      "Processing images:  30%|███       | 108/360 [32:29<1:45:41, 25.16s/it]"
     ]
    },
    {
     "name": "stderr",
     "output_type": "stream",
     "text": [
      "\r",
      "Processing images:  30%|███       | 109/360 [33:10<2:05:43, 30.05s/it]"
     ]
    },
    {
     "name": "stderr",
     "output_type": "stream",
     "text": [
      "\r",
      "Processing images:  31%|███       | 110/360 [33:51<2:19:27, 33.47s/it]"
     ]
    },
    {
     "name": "stderr",
     "output_type": "stream",
     "text": [
      "\r",
      "Processing images:  31%|███       | 111/360 [34:33<2:28:53, 35.88s/it]"
     ]
    },
    {
     "name": "stderr",
     "output_type": "stream",
     "text": [
      "\r",
      "Processing images:  31%|███       | 112/360 [34:40<1:53:06, 27.36s/it]"
     ]
    },
    {
     "name": "stderr",
     "output_type": "stream",
     "text": [
      "\r",
      "Processing images:  31%|███▏      | 113/360 [34:42<1:20:40, 19.60s/it]"
     ]
    },
    {
     "name": "stderr",
     "output_type": "stream",
     "text": [
      "\r",
      "Processing images:  32%|███▏      | 114/360 [35:07<1:26:31, 21.10s/it]"
     ]
    },
    {
     "name": "stderr",
     "output_type": "stream",
     "text": [
      "\r",
      "Processing images:  32%|███▏      | 115/360 [35:15<1:10:38, 17.30s/it]"
     ]
    },
    {
     "name": "stderr",
     "output_type": "stream",
     "text": [
      "\r",
      "Processing images:  32%|███▏      | 116/360 [35:56<1:39:47, 24.54s/it]"
     ]
    },
    {
     "name": "stderr",
     "output_type": "stream",
     "text": [
      "\r",
      "Processing images:  32%|███▎      | 117/360 [36:02<1:16:35, 18.91s/it]"
     ]
    },
    {
     "name": "stderr",
     "output_type": "stream",
     "text": [
      "\r",
      "Processing images:  33%|███▎      | 118/360 [36:10<1:02:15, 15.44s/it]"
     ]
    },
    {
     "name": "stderr",
     "output_type": "stream",
     "text": [
      "\r",
      "Processing images:  33%|███▎      | 119/360 [36:16<50:39, 12.61s/it]  "
     ]
    },
    {
     "name": "stderr",
     "output_type": "stream",
     "text": [
      "\r",
      "Processing images:  33%|███▎      | 120/360 [36:41<1:06:13, 16.56s/it]"
     ]
    },
    {
     "name": "stderr",
     "output_type": "stream",
     "text": [
      "\r",
      "Processing images:  34%|███▎      | 121/360 [36:43<48:20, 12.14s/it]  "
     ]
    },
    {
     "name": "stderr",
     "output_type": "stream",
     "text": [
      "\r",
      "Processing images:  34%|███▍      | 122/360 [36:44<35:16,  8.89s/it]"
     ]
    },
    {
     "name": "stderr",
     "output_type": "stream",
     "text": [
      "\r",
      "Processing images:  34%|███▍      | 123/360 [36:47<27:05,  6.86s/it]"
     ]
    },
    {
     "name": "stderr",
     "output_type": "stream",
     "text": [
      "\r",
      "Processing images:  34%|███▍      | 124/360 [36:50<22:55,  5.83s/it]"
     ]
    },
    {
     "name": "stderr",
     "output_type": "stream",
     "text": [
      "\r",
      "Processing images:  35%|███▍      | 125/360 [36:52<18:48,  4.80s/it]"
     ]
    },
    {
     "name": "stderr",
     "output_type": "stream",
     "text": [
      "\r",
      "Processing images:  35%|███▌      | 126/360 [36:55<15:46,  4.04s/it]"
     ]
    },
    {
     "name": "stderr",
     "output_type": "stream",
     "text": [
      "\r",
      "Processing images:  35%|███▌      | 127/360 [36:57<13:38,  3.51s/it]"
     ]
    },
    {
     "name": "stderr",
     "output_type": "stream",
     "text": [
      "\r",
      "Processing images:  36%|███▌      | 128/360 [37:00<13:18,  3.44s/it]"
     ]
    },
    {
     "name": "stderr",
     "output_type": "stream",
     "text": [
      "\r",
      "Processing images:  36%|███▌      | 129/360 [37:03<12:22,  3.22s/it]"
     ]
    },
    {
     "name": "stderr",
     "output_type": "stream",
     "text": [
      "\r",
      "Processing images:  36%|███▌      | 130/360 [38:55<2:17:16, 35.81s/it]"
     ]
    },
    {
     "name": "stderr",
     "output_type": "stream",
     "text": [
      "\r",
      "Processing images:  36%|███▋      | 131/360 [39:15<1:59:19, 31.26s/it]"
     ]
    },
    {
     "name": "stderr",
     "output_type": "stream",
     "text": [
      "\r",
      "Processing images:  37%|███▋      | 132/360 [39:48<1:59:55, 31.56s/it]"
     ]
    },
    {
     "name": "stderr",
     "output_type": "stream",
     "text": [
      "\r",
      "Processing images:  37%|███▋      | 133/360 [40:28<2:09:33, 34.25s/it]"
     ]
    },
    {
     "name": "stderr",
     "output_type": "stream",
     "text": [
      "\r",
      "Processing images:  37%|███▋      | 134/360 [40:30<1:32:28, 24.55s/it]"
     ]
    },
    {
     "name": "stderr",
     "output_type": "stream",
     "text": [
      "\r",
      "Processing images:  38%|███▊      | 135/360 [40:56<1:33:05, 24.82s/it]"
     ]
    },
    {
     "name": "stderr",
     "output_type": "stream",
     "text": [
      "\r",
      "Processing images:  38%|███▊      | 136/360 [41:21<1:33:19, 25.00s/it]"
     ]
    },
    {
     "name": "stderr",
     "output_type": "stream",
     "text": [
      "\r",
      "Processing images:  38%|███▊      | 137/360 [41:25<1:09:56, 18.82s/it]"
     ]
    },
    {
     "name": "stderr",
     "output_type": "stream",
     "text": [
      "\r",
      "Processing images:  38%|███▊      | 138/360 [41:28<51:39, 13.96s/it]  "
     ]
    },
    {
     "name": "stderr",
     "output_type": "stream",
     "text": [
      "\r",
      "Processing images:  39%|███▊      | 139/360 [41:31<39:08, 10.63s/it]"
     ]
    },
    {
     "name": "stderr",
     "output_type": "stream",
     "text": [
      "\r",
      "Processing images:  39%|███▉      | 140/360 [41:34<30:59,  8.45s/it]"
     ]
    },
    {
     "name": "stderr",
     "output_type": "stream",
     "text": [
      "\r",
      "Processing images:  39%|███▉      | 141/360 [43:26<2:23:36, 39.35s/it]"
     ]
    },
    {
     "name": "stderr",
     "output_type": "stream",
     "text": [
      "\r",
      "Processing images:  39%|███▉      | 142/360 [43:40<1:55:16, 31.73s/it]"
     ]
    },
    {
     "name": "stderr",
     "output_type": "stream",
     "text": [
      "\r",
      "Processing images:  40%|███▉      | 143/360 [45:31<3:21:30, 55.71s/it]"
     ]
    },
    {
     "name": "stderr",
     "output_type": "stream",
     "text": [
      "\r",
      "Processing images:  40%|████      | 144/360 [45:33<2:22:12, 39.50s/it]"
     ]
    },
    {
     "name": "stderr",
     "output_type": "stream",
     "text": [
      "\r",
      "Processing images:  40%|████      | 145/360 [45:35<1:41:17, 28.27s/it]"
     ]
    },
    {
     "name": "stderr",
     "output_type": "stream",
     "text": [
      "\r",
      "Processing images:  41%|████      | 146/360 [45:37<1:12:48, 20.41s/it]"
     ]
    },
    {
     "name": "stderr",
     "output_type": "stream",
     "text": [
      "\r",
      "Processing images:  41%|████      | 147/360 [45:40<53:17, 15.01s/it]  "
     ]
    },
    {
     "name": "stderr",
     "output_type": "stream",
     "text": [
      "\r",
      "Processing images:  41%|████      | 148/360 [45:42<40:02, 11.33s/it]"
     ]
    },
    {
     "name": "stderr",
     "output_type": "stream",
     "text": [
      "\r",
      "Processing images:  41%|████▏     | 149/360 [45:44<29:57,  8.52s/it]"
     ]
    },
    {
     "name": "stderr",
     "output_type": "stream",
     "text": [
      "\r",
      "Processing images:  42%|████▏     | 150/360 [45:46<22:24,  6.40s/it]"
     ]
    },
    {
     "name": "stderr",
     "output_type": "stream",
     "text": [
      "\r",
      "Processing images:  42%|████▏     | 151/360 [45:48<17:53,  5.14s/it]"
     ]
    },
    {
     "name": "stderr",
     "output_type": "stream",
     "text": [
      "\r",
      "Processing images:  42%|████▏     | 152/360 [45:49<14:03,  4.05s/it]"
     ]
    },
    {
     "name": "stderr",
     "output_type": "stream",
     "text": [
      "\r",
      "Processing images:  42%|████▎     | 153/360 [45:51<11:52,  3.44s/it]"
     ]
    },
    {
     "name": "stderr",
     "output_type": "stream",
     "text": [
      "\r",
      "Processing images:  43%|████▎     | 154/360 [45:53<10:11,  2.97s/it]"
     ]
    },
    {
     "name": "stderr",
     "output_type": "stream",
     "text": [
      "\r",
      "Processing images:  43%|████▎     | 155/360 [45:55<09:09,  2.68s/it]"
     ]
    },
    {
     "name": "stderr",
     "output_type": "stream",
     "text": [
      "\r",
      "Processing images:  43%|████▎     | 156/360 [45:58<09:37,  2.83s/it]"
     ]
    },
    {
     "name": "stderr",
     "output_type": "stream",
     "text": [
      "\r",
      "Processing images:  44%|████▎     | 157/360 [46:00<08:32,  2.53s/it]"
     ]
    },
    {
     "name": "stderr",
     "output_type": "stream",
     "text": [
      "\r",
      "Processing images:  44%|████▍     | 158/360 [46:02<08:03,  2.39s/it]"
     ]
    },
    {
     "name": "stderr",
     "output_type": "stream",
     "text": [
      "\r",
      "Processing images:  44%|████▍     | 159/360 [46:06<08:43,  2.61s/it]"
     ]
    },
    {
     "name": "stderr",
     "output_type": "stream",
     "text": [
      "\r",
      "Processing images:  44%|████▍     | 160/360 [46:07<08:04,  2.42s/it]"
     ]
    },
    {
     "name": "stderr",
     "output_type": "stream",
     "text": [
      "\r",
      "Processing images:  45%|████▍     | 161/360 [47:59<1:56:09, 35.02s/it]"
     ]
    },
    {
     "name": "stderr",
     "output_type": "stream",
     "text": [
      "\r",
      "Processing images:  45%|████▌     | 162/360 [48:43<2:04:29, 37.72s/it]"
     ]
    },
    {
     "name": "stderr",
     "output_type": "stream",
     "text": [
      "\r",
      "Processing images:  45%|████▌     | 163/360 [50:35<3:17:48, 60.25s/it]"
     ]
    },
    {
     "name": "stderr",
     "output_type": "stream",
     "text": [
      "\r",
      "Processing images:  46%|████▌     | 164/360 [52:06<3:46:57, 69.48s/it]"
     ]
    },
    {
     "name": "stderr",
     "output_type": "stream",
     "text": [
      "\r",
      "Processing images:  46%|████▌     | 165/360 [53:57<4:25:24, 81.67s/it]"
     ]
    },
    {
     "name": "stderr",
     "output_type": "stream",
     "text": [
      "\r",
      "Processing images:  46%|████▌     | 166/360 [55:31<4:36:08, 85.40s/it]"
     ]
    },
    {
     "name": "stderr",
     "output_type": "stream",
     "text": [
      "\r",
      "Processing images:  46%|████▋     | 167/360 [55:56<3:36:52, 67.42s/it]"
     ]
    },
    {
     "name": "stderr",
     "output_type": "stream",
     "text": [
      "\r",
      "Processing images:  47%|████▋     | 168/360 [56:40<3:13:18, 60.41s/it]"
     ]
    },
    {
     "name": "stderr",
     "output_type": "stream",
     "text": [
      "\r",
      "Processing images:  47%|████▋     | 169/360 [57:06<2:39:09, 50.00s/it]"
     ]
    },
    {
     "name": "stderr",
     "output_type": "stream",
     "text": [
      "\r",
      "Processing images:  47%|████▋     | 170/360 [57:38<2:21:27, 44.67s/it]"
     ]
    },
    {
     "name": "stderr",
     "output_type": "stream",
     "text": [
      "\r",
      "Processing images:  48%|████▊     | 171/360 [59:34<3:28:03, 66.05s/it]"
     ]
    },
    {
     "name": "stderr",
     "output_type": "stream",
     "text": [
      "\r",
      "Processing images:  48%|████▊     | 172/360 [1:01:28<4:11:32, 80.28s/it]"
     ]
    },
    {
     "name": "stderr",
     "output_type": "stream",
     "text": [
      "\r",
      "Processing images:  48%|████▊     | 173/360 [1:02:57<4:18:59, 83.10s/it]"
     ]
    },
    {
     "name": "stderr",
     "output_type": "stream",
     "text": [
      "\r",
      "Processing images:  48%|████▊     | 174/360 [1:03:00<3:02:33, 58.89s/it]"
     ]
    },
    {
     "name": "stderr",
     "output_type": "stream",
     "text": [
      "\r",
      "Processing images:  49%|████▊     | 175/360 [1:03:01<2:08:06, 41.55s/it]"
     ]
    },
    {
     "name": "stderr",
     "output_type": "stream",
     "text": [
      "\r",
      "Processing images:  49%|████▉     | 176/360 [1:03:02<1:30:07, 29.39s/it]"
     ]
    },
    {
     "name": "stderr",
     "output_type": "stream",
     "text": [
      "\r",
      "Processing images:  49%|████▉     | 177/360 [1:03:03<1:03:41, 20.88s/it]"
     ]
    },
    {
     "name": "stderr",
     "output_type": "stream",
     "text": [
      "\r",
      "Processing images:  49%|████▉     | 178/360 [1:04:34<2:07:19, 41.98s/it]"
     ]
    },
    {
     "name": "stderr",
     "output_type": "stream",
     "text": [
      "\r",
      "Processing images:  50%|████▉     | 179/360 [1:06:27<3:10:59, 63.31s/it]"
     ]
    },
    {
     "name": "stderr",
     "output_type": "stream",
     "text": [
      "\r",
      "Processing images:  50%|█████     | 180/360 [1:06:28<2:14:14, 44.75s/it]"
     ]
    },
    {
     "name": "stderr",
     "output_type": "stream",
     "text": [
      "\r",
      "Processing images:  50%|█████     | 181/360 [1:06:31<1:35:54, 32.15s/it]"
     ]
    },
    {
     "name": "stderr",
     "output_type": "stream",
     "text": [
      "\r",
      "Processing images:  51%|█████     | 182/360 [1:06:35<1:10:31, 23.77s/it]"
     ]
    },
    {
     "name": "stderr",
     "output_type": "stream",
     "text": [
      "\r",
      "Processing images:  51%|█████     | 183/360 [1:06:41<53:37, 18.18s/it]  "
     ]
    },
    {
     "name": "stderr",
     "output_type": "stream",
     "text": [
      "\r",
      "Processing images:  51%|█████     | 184/360 [1:06:42<38:17, 13.05s/it]"
     ]
    },
    {
     "name": "stderr",
     "output_type": "stream",
     "text": [
      "\r",
      "Processing images:  51%|█████▏    | 185/360 [1:06:45<29:55, 10.26s/it]"
     ]
    },
    {
     "name": "stderr",
     "output_type": "stream",
     "text": [
      "\r",
      "Processing images:  52%|█████▏    | 186/360 [1:06:50<24:25,  8.42s/it]"
     ]
    },
    {
     "name": "stderr",
     "output_type": "stream",
     "text": [
      "\r",
      "Processing images:  52%|█████▏    | 187/360 [1:06:56<22:17,  7.73s/it]"
     ]
    },
    {
     "name": "stderr",
     "output_type": "stream",
     "text": [
      "\r",
      "Processing images:  52%|█████▏    | 188/360 [1:07:00<19:32,  6.82s/it]"
     ]
    },
    {
     "name": "stderr",
     "output_type": "stream",
     "text": [
      "\r",
      "Processing images:  52%|█████▎    | 189/360 [1:07:06<18:10,  6.37s/it]"
     ]
    },
    {
     "name": "stderr",
     "output_type": "stream",
     "text": [
      "\r",
      "Processing images:  53%|█████▎    | 190/360 [1:07:12<18:02,  6.37s/it]"
     ]
    },
    {
     "name": "stderr",
     "output_type": "stream",
     "text": [
      "\r",
      "Processing images:  53%|█████▎    | 191/360 [1:07:17<16:45,  5.95s/it]"
     ]
    },
    {
     "name": "stderr",
     "output_type": "stream",
     "text": [
      "\r",
      "Processing images:  53%|█████▎    | 192/360 [1:07:21<15:26,  5.51s/it]"
     ]
    },
    {
     "name": "stderr",
     "output_type": "stream",
     "text": [
      "\r",
      "Processing images:  54%|█████▎    | 193/360 [1:07:46<31:16, 11.24s/it]"
     ]
    },
    {
     "name": "stderr",
     "output_type": "stream",
     "text": [
      "\r",
      "Processing images:  54%|█████▍    | 194/360 [1:07:51<25:48,  9.33s/it]"
     ]
    },
    {
     "name": "stderr",
     "output_type": "stream",
     "text": [
      "\r",
      "Processing images:  54%|█████▍    | 195/360 [1:07:56<21:50,  7.94s/it]"
     ]
    },
    {
     "name": "stderr",
     "output_type": "stream",
     "text": [
      "\r",
      "Processing images:  54%|█████▍    | 196/360 [1:08:01<19:40,  7.20s/it]"
     ]
    },
    {
     "name": "stderr",
     "output_type": "stream",
     "text": [
      "\r",
      "Processing images:  55%|█████▍    | 197/360 [1:08:06<17:22,  6.40s/it]"
     ]
    },
    {
     "name": "stderr",
     "output_type": "stream",
     "text": [
      "\r",
      "Processing images:  55%|█████▌    | 198/360 [1:08:10<15:58,  5.91s/it]"
     ]
    },
    {
     "name": "stderr",
     "output_type": "stream",
     "text": [
      "\r",
      "Processing images:  55%|█████▌    | 199/360 [1:08:16<15:35,  5.81s/it]"
     ]
    },
    {
     "name": "stderr",
     "output_type": "stream",
     "text": [
      "\r",
      "Processing images:  56%|█████▌    | 200/360 [1:08:21<15:05,  5.66s/it]"
     ]
    },
    {
     "name": "stderr",
     "output_type": "stream",
     "text": [
      "\r",
      "Processing images:  56%|█████▌    | 201/360 [1:08:24<12:22,  4.67s/it]"
     ]
    },
    {
     "name": "stderr",
     "output_type": "stream",
     "text": [
      "\r",
      "Processing images:  56%|█████▌    | 202/360 [1:08:26<10:07,  3.84s/it]"
     ]
    },
    {
     "name": "stderr",
     "output_type": "stream",
     "text": [
      "\r",
      "Processing images:  56%|█████▋    | 203/360 [1:08:27<08:31,  3.26s/it]"
     ]
    },
    {
     "name": "stderr",
     "output_type": "stream",
     "text": [
      "\r",
      "Processing images:  57%|█████▋    | 204/360 [1:10:21<1:34:06, 36.20s/it]"
     ]
    },
    {
     "name": "stderr",
     "output_type": "stream",
     "text": [
      "\r",
      "Processing images:  57%|█████▋    | 205/360 [1:10:23<1:07:01, 25.94s/it]"
     ]
    },
    {
     "name": "stderr",
     "output_type": "stream",
     "text": [
      "\r",
      "Processing images:  57%|█████▋    | 206/360 [1:10:25<48:15, 18.80s/it]  "
     ]
    },
    {
     "name": "stderr",
     "output_type": "stream",
     "text": [
      "\r",
      "Processing images:  57%|█████▊    | 207/360 [1:10:26<34:52, 13.68s/it]"
     ]
    },
    {
     "name": "stderr",
     "output_type": "stream",
     "text": [
      "\r",
      "Processing images:  58%|█████▊    | 208/360 [1:10:28<25:26, 10.05s/it]"
     ]
    },
    {
     "name": "stderr",
     "output_type": "stream",
     "text": [
      "\r",
      "Processing images:  58%|█████▊    | 209/360 [1:10:29<18:45,  7.45s/it]"
     ]
    },
    {
     "name": "stderr",
     "output_type": "stream",
     "text": [
      "\r",
      "Processing images:  58%|█████▊    | 210/360 [1:10:30<13:50,  5.54s/it]"
     ]
    },
    {
     "name": "stderr",
     "output_type": "stream",
     "text": [
      "\r",
      "Processing images:  59%|█████▊    | 211/360 [1:10:32<10:33,  4.25s/it]"
     ]
    },
    {
     "name": "stderr",
     "output_type": "stream",
     "text": [
      "\r",
      "Processing images:  59%|█████▉    | 212/360 [1:10:40<13:20,  5.41s/it]"
     ]
    },
    {
     "name": "stderr",
     "output_type": "stream",
     "text": [
      "\r",
      "Processing images:  59%|█████▉    | 213/360 [1:10:42<10:37,  4.34s/it]"
     ]
    },
    {
     "name": "stderr",
     "output_type": "stream",
     "text": [
      "\r",
      "Processing images:  59%|█████▉    | 214/360 [1:10:43<08:31,  3.50s/it]"
     ]
    },
    {
     "name": "stderr",
     "output_type": "stream",
     "text": [
      "\r",
      "Processing images:  60%|█████▉    | 215/360 [1:10:44<06:48,  2.82s/it]"
     ]
    },
    {
     "name": "stderr",
     "output_type": "stream",
     "text": [
      "\r",
      "Processing images:  60%|██████    | 216/360 [1:10:46<05:57,  2.48s/it]"
     ]
    },
    {
     "name": "stderr",
     "output_type": "stream",
     "text": [
      "\r",
      "Processing images:  60%|██████    | 217/360 [1:10:57<12:02,  5.05s/it]"
     ]
    },
    {
     "name": "stderr",
     "output_type": "stream",
     "text": [
      "\r",
      "Processing images:  61%|██████    | 218/360 [1:11:00<10:31,  4.45s/it]"
     ]
    },
    {
     "name": "stderr",
     "output_type": "stream",
     "text": [
      "\r",
      "Processing images:  61%|██████    | 219/360 [1:11:03<08:57,  3.81s/it]"
     ]
    },
    {
     "name": "stderr",
     "output_type": "stream",
     "text": [
      "\r",
      "Processing images:  61%|██████    | 220/360 [1:11:04<07:09,  3.07s/it]"
     ]
    },
    {
     "name": "stderr",
     "output_type": "stream",
     "text": [
      "\r",
      "Processing images:  61%|██████▏   | 221/360 [1:11:08<08:08,  3.52s/it]"
     ]
    },
    {
     "name": "stderr",
     "output_type": "stream",
     "text": [
      "\r",
      "Processing images:  62%|██████▏   | 222/360 [1:11:10<06:56,  3.02s/it]"
     ]
    },
    {
     "name": "stderr",
     "output_type": "stream",
     "text": [
      "\r",
      "Processing images:  62%|██████▏   | 223/360 [1:11:13<06:34,  2.88s/it]"
     ]
    },
    {
     "name": "stderr",
     "output_type": "stream",
     "text": [
      "\r",
      "Processing images:  62%|██████▏   | 224/360 [1:11:15<06:10,  2.72s/it]"
     ]
    },
    {
     "name": "stderr",
     "output_type": "stream",
     "text": [
      "\r",
      "Processing images:  62%|██████▎   | 225/360 [1:11:17<05:47,  2.57s/it]"
     ]
    },
    {
     "name": "stderr",
     "output_type": "stream",
     "text": [
      "\r",
      "Processing images:  63%|██████▎   | 226/360 [1:11:19<05:06,  2.29s/it]"
     ]
    },
    {
     "name": "stderr",
     "output_type": "stream",
     "text": [
      "\r",
      "Processing images:  63%|██████▎   | 227/360 [1:11:20<04:27,  2.01s/it]"
     ]
    },
    {
     "name": "stderr",
     "output_type": "stream",
     "text": [
      "\r",
      "Processing images:  63%|██████▎   | 228/360 [1:11:22<04:02,  1.84s/it]"
     ]
    },
    {
     "name": "stderr",
     "output_type": "stream",
     "text": [
      "\r",
      "Processing images:  64%|██████▎   | 229/360 [1:11:27<05:53,  2.69s/it]"
     ]
    },
    {
     "name": "stderr",
     "output_type": "stream",
     "text": [
      "\r",
      "Processing images:  64%|██████▍   | 230/360 [1:12:57<1:02:54, 29.03s/it]"
     ]
    },
    {
     "name": "stderr",
     "output_type": "stream",
     "text": [
      "\r",
      "Processing images:  64%|██████▍   | 231/360 [1:14:53<1:58:28, 55.10s/it]"
     ]
    },
    {
     "name": "stderr",
     "output_type": "stream",
     "text": [
      "\r",
      "Processing images:  64%|██████▍   | 232/360 [1:16:23<2:20:08, 65.69s/it]"
     ]
    },
    {
     "name": "stderr",
     "output_type": "stream",
     "text": [
      "\r",
      "Processing images:  65%|██████▍   | 233/360 [1:18:16<2:49:05, 79.89s/it]"
     ]
    },
    {
     "name": "stderr",
     "output_type": "stream",
     "text": [
      "\r",
      "Processing images:  65%|██████▌   | 234/360 [1:18:42<2:13:49, 63.72s/it]"
     ]
    },
    {
     "name": "stderr",
     "output_type": "stream",
     "text": [
      "\r",
      "Processing images:  65%|██████▌   | 235/360 [1:20:16<2:31:30, 72.72s/it]"
     ]
    },
    {
     "name": "stderr",
     "output_type": "stream",
     "text": [
      "\r",
      "Processing images:  66%|██████▌   | 236/360 [1:22:08<2:54:25, 84.40s/it]"
     ]
    },
    {
     "name": "stderr",
     "output_type": "stream",
     "text": [
      "\r",
      "Processing images:  66%|██████▌   | 237/360 [1:23:59<3:09:39, 92.52s/it]"
     ]
    },
    {
     "name": "stderr",
     "output_type": "stream",
     "text": [
      "\r",
      "Processing images:  66%|██████▌   | 238/360 [1:25:31<3:07:25, 92.18s/it]"
     ]
    },
    {
     "name": "stderr",
     "output_type": "stream",
     "text": [
      "\r",
      "Processing images:  66%|██████▋   | 239/360 [1:27:23<3:18:22, 98.37s/it]"
     ]
    },
    {
     "name": "stderr",
     "output_type": "stream",
     "text": [
      "\r",
      "Processing images:  67%|██████▋   | 240/360 [1:29:16<3:25:28, 102.74s/it]"
     ]
    },
    {
     "name": "stderr",
     "output_type": "stream",
     "text": [
      "\r",
      "Processing images:  67%|██████▋   | 241/360 [1:29:19<2:24:26, 72.82s/it] "
     ]
    },
    {
     "name": "stderr",
     "output_type": "stream",
     "text": [
      "\r",
      "Processing images:  67%|██████▋   | 242/360 [1:29:22<1:42:05, 51.91s/it]"
     ]
    },
    {
     "name": "stderr",
     "output_type": "stream",
     "text": [
      "\r",
      "Processing images:  68%|██████▊   | 243/360 [1:29:26<1:12:40, 37.27s/it]"
     ]
    },
    {
     "name": "stderr",
     "output_type": "stream",
     "text": [
      "\r",
      "Processing images:  68%|██████▊   | 244/360 [1:29:30<52:58, 27.40s/it]  "
     ]
    },
    {
     "name": "stderr",
     "output_type": "stream",
     "text": [
      "\r",
      "Processing images:  68%|██████▊   | 245/360 [1:29:32<38:11, 19.93s/it]"
     ]
    },
    {
     "name": "stderr",
     "output_type": "stream",
     "text": [
      "\r",
      "Processing images:  68%|██████▊   | 246/360 [1:29:35<28:13, 14.86s/it]"
     ]
    },
    {
     "name": "stderr",
     "output_type": "stream",
     "text": [
      "\r",
      "Processing images:  69%|██████▊   | 247/360 [1:29:40<21:59, 11.68s/it]"
     ]
    },
    {
     "name": "stderr",
     "output_type": "stream",
     "text": [
      "\r",
      "Processing images:  69%|██████▉   | 248/360 [1:29:45<17:58,  9.63s/it]"
     ]
    },
    {
     "name": "stderr",
     "output_type": "stream",
     "text": [
      "\r",
      "Processing images:  69%|██████▉   | 249/360 [1:29:49<14:56,  8.08s/it]"
     ]
    },
    {
     "name": "stderr",
     "output_type": "stream",
     "text": [
      "\r",
      "Processing images:  69%|██████▉   | 250/360 [1:29:53<12:21,  6.74s/it]"
     ]
    },
    {
     "name": "stderr",
     "output_type": "stream",
     "text": [
      "\r",
      "Processing images:  70%|██████▉   | 251/360 [1:29:57<10:54,  6.01s/it]"
     ]
    },
    {
     "name": "stderr",
     "output_type": "stream",
     "text": [
      "\r",
      "Processing images:  70%|███████   | 252/360 [1:30:01<09:33,  5.31s/it]"
     ]
    },
    {
     "name": "stderr",
     "output_type": "stream",
     "text": [
      "\r",
      "Processing images:  70%|███████   | 253/360 [1:30:05<08:51,  4.97s/it]"
     ]
    },
    {
     "name": "stderr",
     "output_type": "stream",
     "text": [
      "\r",
      "Processing images:  71%|███████   | 254/360 [1:30:07<07:11,  4.08s/it]"
     ]
    },
    {
     "name": "stderr",
     "output_type": "stream",
     "text": [
      "\r",
      "Processing images:  71%|███████   | 255/360 [1:30:09<06:12,  3.55s/it]"
     ]
    },
    {
     "name": "stderr",
     "output_type": "stream",
     "text": [
      "\r",
      "Processing images:  71%|███████   | 256/360 [1:30:11<05:32,  3.20s/it]"
     ]
    },
    {
     "name": "stderr",
     "output_type": "stream",
     "text": [
      "\r",
      "Processing images:  71%|███████▏  | 257/360 [1:30:14<05:04,  2.96s/it]"
     ]
    },
    {
     "name": "stderr",
     "output_type": "stream",
     "text": [
      "\r",
      "Processing images:  72%|███████▏  | 258/360 [1:30:19<05:53,  3.47s/it]"
     ]
    },
    {
     "name": "stderr",
     "output_type": "stream",
     "text": [
      "\r",
      "Processing images:  72%|███████▏  | 259/360 [1:30:21<05:11,  3.09s/it]"
     ]
    },
    {
     "name": "stderr",
     "output_type": "stream",
     "text": [
      "\r",
      "Processing images:  72%|███████▏  | 260/360 [1:30:23<04:35,  2.76s/it]"
     ]
    },
    {
     "name": "stderr",
     "output_type": "stream",
     "text": [
      "\r",
      "Processing images:  72%|███████▎  | 261/360 [1:30:25<04:23,  2.66s/it]"
     ]
    },
    {
     "name": "stderr",
     "output_type": "stream",
     "text": [
      "\r",
      "Processing images:  73%|███████▎  | 262/360 [1:30:27<04:05,  2.51s/it]"
     ]
    },
    {
     "name": "stderr",
     "output_type": "stream",
     "text": [
      "\r",
      "Processing images:  73%|███████▎  | 263/360 [1:30:32<04:55,  3.05s/it]"
     ]
    },
    {
     "name": "stderr",
     "output_type": "stream",
     "text": [
      "\r",
      "Processing images:  73%|███████▎  | 264/360 [1:30:34<04:32,  2.84s/it]"
     ]
    },
    {
     "name": "stderr",
     "output_type": "stream",
     "text": [
      "\r",
      "Processing images:  74%|███████▎  | 265/360 [1:30:36<04:01,  2.54s/it]"
     ]
    },
    {
     "name": "stderr",
     "output_type": "stream",
     "text": [
      "\r",
      "Processing images:  74%|███████▍  | 266/360 [1:30:40<04:51,  3.10s/it]"
     ]
    },
    {
     "name": "stderr",
     "output_type": "stream",
     "text": [
      "\r",
      "Processing images:  74%|███████▍  | 267/360 [1:31:14<18:53, 12.19s/it]"
     ]
    },
    {
     "name": "stderr",
     "output_type": "stream",
     "text": [
      "\r",
      "Processing images:  74%|███████▍  | 268/360 [1:31:16<14:08,  9.22s/it]"
     ]
    },
    {
     "name": "stderr",
     "output_type": "stream",
     "text": [
      "\r",
      "Processing images:  75%|███████▍  | 269/360 [1:31:18<10:33,  6.96s/it]"
     ]
    },
    {
     "name": "stderr",
     "output_type": "stream",
     "text": [
      "\r",
      "Processing images:  75%|███████▌  | 270/360 [1:31:20<08:10,  5.45s/it]"
     ]
    },
    {
     "name": "stderr",
     "output_type": "stream",
     "text": [
      "\r",
      "Processing images:  75%|███████▌  | 271/360 [1:31:21<06:19,  4.27s/it]"
     ]
    },
    {
     "name": "stderr",
     "output_type": "stream",
     "text": [
      "\r",
      "Processing images:  76%|███████▌  | 272/360 [1:31:23<05:05,  3.47s/it]"
     ]
    },
    {
     "name": "stderr",
     "output_type": "stream",
     "text": [
      "\r",
      "Processing images:  76%|███████▌  | 273/360 [1:31:25<04:31,  3.12s/it]"
     ]
    },
    {
     "name": "stderr",
     "output_type": "stream",
     "text": [
      "\r",
      "Processing images:  76%|███████▌  | 274/360 [1:31:27<04:09,  2.90s/it]"
     ]
    },
    {
     "name": "stderr",
     "output_type": "stream",
     "text": [
      "\r",
      "Processing images:  76%|███████▋  | 275/360 [1:31:29<03:42,  2.61s/it]"
     ]
    },
    {
     "name": "stderr",
     "output_type": "stream",
     "text": [
      "\r",
      "Processing images:  77%|███████▋  | 276/360 [1:31:31<03:23,  2.42s/it]"
     ]
    },
    {
     "name": "stderr",
     "output_type": "stream",
     "text": [
      "\r",
      "Processing images:  77%|███████▋  | 277/360 [1:31:33<03:09,  2.28s/it]"
     ]
    },
    {
     "name": "stderr",
     "output_type": "stream",
     "text": [
      "\r",
      "Processing images:  77%|███████▋  | 278/360 [1:31:35<03:05,  2.26s/it]"
     ]
    },
    {
     "name": "stderr",
     "output_type": "stream",
     "text": [
      "\r",
      "Processing images:  78%|███████▊  | 279/360 [1:31:50<07:59,  5.93s/it]"
     ]
    },
    {
     "name": "stderr",
     "output_type": "stream",
     "text": [
      "\r",
      "Processing images:  78%|███████▊  | 280/360 [1:31:52<06:30,  4.88s/it]"
     ]
    },
    {
     "name": "stderr",
     "output_type": "stream",
     "text": [
      "\r",
      "Processing images:  78%|███████▊  | 281/360 [1:31:54<05:18,  4.03s/it]"
     ]
    },
    {
     "name": "stderr",
     "output_type": "stream",
     "text": [
      "\r",
      "Processing images:  78%|███████▊  | 282/360 [1:31:56<04:28,  3.44s/it]"
     ]
    },
    {
     "name": "stderr",
     "output_type": "stream",
     "text": [
      "\r",
      "Processing images:  79%|███████▊  | 283/360 [1:32:30<15:58, 12.44s/it]"
     ]
    },
    {
     "name": "stderr",
     "output_type": "stream",
     "text": [
      "\r",
      "Processing images:  79%|███████▉  | 284/360 [1:32:33<12:16,  9.70s/it]"
     ]
    },
    {
     "name": "stderr",
     "output_type": "stream",
     "text": [
      "\r",
      "Processing images:  79%|███████▉  | 285/360 [1:32:36<09:29,  7.60s/it]"
     ]
    },
    {
     "name": "stderr",
     "output_type": "stream",
     "text": [
      "\r",
      "Processing images:  79%|███████▉  | 286/360 [1:32:38<07:27,  6.05s/it]"
     ]
    },
    {
     "name": "stderr",
     "output_type": "stream",
     "text": [
      "\r",
      "Processing images:  80%|███████▉  | 287/360 [1:32:41<05:57,  4.90s/it]"
     ]
    },
    {
     "name": "stderr",
     "output_type": "stream",
     "text": [
      "\r",
      "Processing images:  80%|████████  | 288/360 [1:32:43<04:56,  4.11s/it]"
     ]
    },
    {
     "name": "stderr",
     "output_type": "stream",
     "text": [
      "\r",
      "Processing images:  80%|████████  | 289/360 [1:33:16<15:14, 12.88s/it]"
     ]
    },
    {
     "name": "stderr",
     "output_type": "stream",
     "text": [
      "\r",
      "Processing images:  81%|████████  | 290/360 [1:33:47<21:23, 18.33s/it]"
     ]
    },
    {
     "name": "stderr",
     "output_type": "stream",
     "text": [
      "\r",
      "Processing images:  81%|████████  | 291/360 [1:34:21<26:16, 22.84s/it]"
     ]
    },
    {
     "name": "stderr",
     "output_type": "stream",
     "text": [
      "\r",
      "Processing images:  81%|████████  | 292/360 [1:34:54<29:28, 26.01s/it]"
     ]
    },
    {
     "name": "stderr",
     "output_type": "stream",
     "text": [
      "\r",
      "Processing images:  81%|████████▏ | 293/360 [1:35:27<31:30, 28.22s/it]"
     ]
    },
    {
     "name": "stderr",
     "output_type": "stream",
     "text": [
      "\r",
      "Processing images:  82%|████████▏ | 294/360 [1:36:01<32:45, 29.78s/it]"
     ]
    },
    {
     "name": "stderr",
     "output_type": "stream",
     "text": [
      "\r",
      "Processing images:  82%|████████▏ | 295/360 [1:36:04<23:46, 21.94s/it]"
     ]
    },
    {
     "name": "stderr",
     "output_type": "stream",
     "text": [
      "\r",
      "Processing images:  82%|████████▏ | 296/360 [1:36:08<17:29, 16.40s/it]"
     ]
    },
    {
     "name": "stderr",
     "output_type": "stream",
     "text": [
      "\r",
      "Processing images:  82%|████████▎ | 297/360 [1:36:13<13:36, 12.96s/it]"
     ]
    },
    {
     "name": "stderr",
     "output_type": "stream",
     "text": [
      "\r",
      "Processing images:  83%|████████▎ | 298/360 [1:36:18<10:55, 10.58s/it]"
     ]
    },
    {
     "name": "stderr",
     "output_type": "stream",
     "text": [
      "\r",
      "Processing images:  83%|████████▎ | 299/360 [1:36:22<08:51,  8.72s/it]"
     ]
    },
    {
     "name": "stderr",
     "output_type": "stream",
     "text": [
      "\r",
      "Processing images:  83%|████████▎ | 300/360 [1:36:27<07:24,  7.41s/it]"
     ]
    },
    {
     "name": "stderr",
     "output_type": "stream",
     "text": [
      "\r",
      "Processing images:  84%|████████▎ | 301/360 [1:37:00<14:58, 15.23s/it]"
     ]
    },
    {
     "name": "stderr",
     "output_type": "stream",
     "text": [
      "\r",
      "Processing images:  84%|████████▍ | 302/360 [1:37:33<19:59, 20.69s/it]"
     ]
    },
    {
     "name": "stderr",
     "output_type": "stream",
     "text": [
      "\r",
      "Processing images:  84%|████████▍ | 303/360 [1:38:07<23:16, 24.50s/it]"
     ]
    },
    {
     "name": "stderr",
     "output_type": "stream",
     "text": [
      "\r",
      "Processing images:  84%|████████▍ | 304/360 [1:38:40<25:21, 27.17s/it]"
     ]
    },
    {
     "name": "stderr",
     "output_type": "stream",
     "text": [
      "\r",
      "Processing images:  85%|████████▍ | 305/360 [1:38:55<21:30, 23.46s/it]"
     ]
    },
    {
     "name": "stderr",
     "output_type": "stream",
     "text": [
      "\r",
      "Processing images:  85%|████████▌ | 306/360 [1:39:29<23:49, 26.47s/it]"
     ]
    },
    {
     "name": "stderr",
     "output_type": "stream",
     "text": [
      "\r",
      "Processing images:  85%|████████▌ | 307/360 [1:40:02<25:12, 28.54s/it]"
     ]
    },
    {
     "name": "stderr",
     "output_type": "stream",
     "text": [
      "\r",
      "Processing images:  86%|████████▌ | 308/360 [1:40:35<26:00, 30.01s/it]"
     ]
    },
    {
     "name": "stderr",
     "output_type": "stream",
     "text": [
      "\r",
      "Processing images:  86%|████████▌ | 309/360 [1:41:09<26:21, 31.02s/it]"
     ]
    },
    {
     "name": "stderr",
     "output_type": "stream",
     "text": [
      "\r",
      "Processing images:  86%|████████▌ | 310/360 [1:41:24<21:47, 26.16s/it]"
     ]
    },
    {
     "name": "stderr",
     "output_type": "stream",
     "text": [
      "\r",
      "Processing images:  86%|████████▋ | 311/360 [1:41:25<15:23, 18.86s/it]"
     ]
    },
    {
     "name": "stderr",
     "output_type": "stream",
     "text": [
      "\r",
      "Processing images:  87%|████████▋ | 312/360 [1:41:27<11:02, 13.81s/it]"
     ]
    },
    {
     "name": "stderr",
     "output_type": "stream",
     "text": [
      "\r",
      "Processing images:  87%|████████▋ | 313/360 [1:41:30<08:05, 10.33s/it]"
     ]
    },
    {
     "name": "stderr",
     "output_type": "stream",
     "text": [
      "\r",
      "Processing images:  87%|████████▋ | 314/360 [1:41:32<05:58,  7.80s/it]"
     ]
    },
    {
     "name": "stderr",
     "output_type": "stream",
     "text": [
      "\r",
      "Processing images:  88%|████████▊ | 315/360 [1:41:34<04:34,  6.09s/it]"
     ]
    },
    {
     "name": "stderr",
     "output_type": "stream",
     "text": [
      "\r",
      "Processing images:  88%|████████▊ | 316/360 [1:41:36<03:35,  4.91s/it]"
     ]
    },
    {
     "name": "stderr",
     "output_type": "stream",
     "text": [
      "\r",
      "Processing images:  88%|████████▊ | 317/360 [1:41:39<03:08,  4.38s/it]"
     ]
    },
    {
     "name": "stderr",
     "output_type": "stream",
     "text": [
      "\r",
      "Processing images:  88%|████████▊ | 318/360 [1:41:42<02:48,  4.01s/it]"
     ]
    },
    {
     "name": "stderr",
     "output_type": "stream",
     "text": [
      "\r",
      "Processing images:  89%|████████▊ | 319/360 [1:41:45<02:34,  3.77s/it]"
     ]
    },
    {
     "name": "stderr",
     "output_type": "stream",
     "text": [
      "\r",
      "Processing images:  89%|████████▉ | 320/360 [1:41:48<02:22,  3.57s/it]"
     ]
    },
    {
     "name": "stderr",
     "output_type": "stream",
     "text": [
      "\r",
      "Processing images:  89%|████████▉ | 321/360 [1:41:52<02:15,  3.47s/it]"
     ]
    },
    {
     "name": "stderr",
     "output_type": "stream",
     "text": [
      "\r",
      "Processing images:  89%|████████▉ | 322/360 [1:41:55<02:11,  3.46s/it]"
     ]
    },
    {
     "name": "stderr",
     "output_type": "stream",
     "text": [
      "\r",
      "Processing images:  90%|████████▉ | 323/360 [1:42:28<07:40, 12.43s/it]"
     ]
    },
    {
     "name": "stderr",
     "output_type": "stream",
     "text": [
      "\r",
      "Processing images:  90%|█████████ | 324/360 [1:42:32<05:50,  9.73s/it]"
     ]
    },
    {
     "name": "stderr",
     "output_type": "stream",
     "text": [
      "\r",
      "Processing images:  90%|█████████ | 325/360 [1:42:35<04:30,  7.72s/it]"
     ]
    },
    {
     "name": "stderr",
     "output_type": "stream",
     "text": [
      "\r",
      "Processing images:  91%|█████████ | 326/360 [1:42:38<03:35,  6.35s/it]"
     ]
    },
    {
     "name": "stderr",
     "output_type": "stream",
     "text": [
      "\r",
      "Processing images:  91%|█████████ | 327/360 [1:43:11<07:57, 14.47s/it]"
     ]
    },
    {
     "name": "stderr",
     "output_type": "stream",
     "text": [
      "\r",
      "Processing images:  91%|█████████ | 328/360 [1:43:45<10:44, 20.14s/it]"
     ]
    },
    {
     "name": "stderr",
     "output_type": "stream",
     "text": [
      "\r",
      "Processing images:  91%|█████████▏| 329/360 [1:43:48<07:43, 14.95s/it]"
     ]
    },
    {
     "name": "stderr",
     "output_type": "stream",
     "text": [
      "\r",
      "Processing images:  92%|█████████▏| 330/360 [1:43:51<05:40, 11.36s/it]"
     ]
    },
    {
     "name": "stderr",
     "output_type": "stream",
     "text": [
      "\r",
      "Processing images:  92%|█████████▏| 331/360 [1:44:24<08:41, 17.97s/it]"
     ]
    },
    {
     "name": "stderr",
     "output_type": "stream",
     "text": [
      "\r",
      "Processing images:  92%|█████████▏| 332/360 [1:44:27<06:18, 13.51s/it]"
     ]
    },
    {
     "name": "stderr",
     "output_type": "stream",
     "text": [
      "\r",
      "Processing images:  92%|█████████▎| 333/360 [1:44:30<04:38, 10.32s/it]"
     ]
    },
    {
     "name": "stderr",
     "output_type": "stream",
     "text": [
      "\r",
      "Processing images:  93%|█████████▎| 334/360 [1:44:33<03:33,  8.23s/it]"
     ]
    },
    {
     "name": "stderr",
     "output_type": "stream",
     "text": [
      "\r",
      "Processing images:  93%|█████████▎| 335/360 [1:44:37<02:49,  6.79s/it]"
     ]
    },
    {
     "name": "stderr",
     "output_type": "stream",
     "text": [
      "\r",
      "Processing images:  93%|█████████▎| 336/360 [1:45:10<05:55, 14.79s/it]"
     ]
    },
    {
     "name": "stderr",
     "output_type": "stream",
     "text": [
      "\r",
      "Processing images:  94%|█████████▎| 337/360 [1:45:13<04:19, 11.29s/it]"
     ]
    },
    {
     "name": "stderr",
     "output_type": "stream",
     "text": [
      "\r",
      "Processing images:  94%|█████████▍| 338/360 [1:45:47<06:34, 17.92s/it]"
     ]
    },
    {
     "name": "stderr",
     "output_type": "stream",
     "text": [
      "\r",
      "Processing images:  94%|█████████▍| 339/360 [1:45:50<04:41, 13.42s/it]"
     ]
    },
    {
     "name": "stderr",
     "output_type": "stream",
     "text": [
      "\r",
      "Processing images:  94%|█████████▍| 340/360 [1:46:23<06:28, 19.41s/it]"
     ]
    },
    {
     "name": "stderr",
     "output_type": "stream",
     "text": [
      "\r",
      "Processing images:  95%|█████████▍| 341/360 [1:46:56<07:28, 23.61s/it]"
     ]
    },
    {
     "name": "stderr",
     "output_type": "stream",
     "text": [
      "\r",
      "Processing images:  95%|█████████▌| 342/360 [1:46:59<05:13, 17.43s/it]"
     ]
    },
    {
     "name": "stderr",
     "output_type": "stream",
     "text": [
      "\r",
      "Processing images:  95%|█████████▌| 343/360 [1:47:03<03:43, 13.12s/it]"
     ]
    },
    {
     "name": "stderr",
     "output_type": "stream",
     "text": [
      "\r",
      "Processing images:  96%|█████████▌| 344/360 [1:47:06<02:42, 10.14s/it]"
     ]
    },
    {
     "name": "stderr",
     "output_type": "stream",
     "text": [
      "\r",
      "Processing images:  96%|█████████▌| 345/360 [1:47:09<01:59,  7.95s/it]"
     ]
    },
    {
     "name": "stderr",
     "output_type": "stream",
     "text": [
      "\r",
      "Processing images:  96%|█████████▌| 346/360 [1:47:42<03:38, 15.60s/it]"
     ]
    },
    {
     "name": "stderr",
     "output_type": "stream",
     "text": [
      "\r",
      "Processing images:  96%|█████████▋| 347/360 [1:48:15<04:32, 20.94s/it]"
     ]
    },
    {
     "name": "stderr",
     "output_type": "stream",
     "text": [
      "\r",
      "Processing images:  97%|█████████▋| 348/360 [1:48:19<03:07, 15.64s/it]"
     ]
    },
    {
     "name": "stderr",
     "output_type": "stream",
     "text": [
      "\r",
      "Processing images:  97%|█████████▋| 349/360 [1:48:21<02:09, 11.76s/it]"
     ]
    },
    {
     "name": "stderr",
     "output_type": "stream",
     "text": [
      "\r",
      "Processing images:  97%|█████████▋| 350/360 [1:48:55<03:02, 18.27s/it]"
     ]
    },
    {
     "name": "stderr",
     "output_type": "stream",
     "text": [
      "\r",
      "Processing images:  98%|█████████▊| 351/360 [1:48:58<02:02, 13.65s/it]"
     ]
    },
    {
     "name": "stderr",
     "output_type": "stream",
     "text": [
      "\r",
      "Processing images:  98%|█████████▊| 352/360 [1:49:01<01:23, 10.43s/it]"
     ]
    },
    {
     "name": "stderr",
     "output_type": "stream",
     "text": [
      "\r",
      "Processing images:  98%|█████████▊| 353/360 [1:49:04<00:57,  8.22s/it]"
     ]
    },
    {
     "name": "stderr",
     "output_type": "stream",
     "text": [
      "\r",
      "Processing images:  98%|█████████▊| 354/360 [1:49:07<00:39,  6.66s/it]"
     ]
    },
    {
     "name": "stderr",
     "output_type": "stream",
     "text": [
      "\r",
      "Processing images:  99%|█████████▊| 355/360 [1:49:09<00:26,  5.32s/it]"
     ]
    },
    {
     "name": "stderr",
     "output_type": "stream",
     "text": [
      "\r",
      "Processing images:  99%|█████████▉| 356/360 [1:49:12<00:18,  4.69s/it]"
     ]
    },
    {
     "name": "stderr",
     "output_type": "stream",
     "text": [
      "\r",
      "Processing images:  99%|█████████▉| 357/360 [1:49:15<00:12,  4.18s/it]"
     ]
    },
    {
     "name": "stderr",
     "output_type": "stream",
     "text": [
      "\r",
      "Processing images:  99%|█████████▉| 358/360 [1:49:30<00:14,  7.48s/it]"
     ]
    },
    {
     "name": "stderr",
     "output_type": "stream",
     "text": [
      "\r",
      "Processing images: 100%|█████████▉| 359/360 [1:50:04<00:15, 15.26s/it]"
     ]
    },
    {
     "name": "stderr",
     "output_type": "stream",
     "text": [
      "\r",
      "Processing images: 100%|██████████| 360/360 [1:50:34<00:00, 19.82s/it]"
     ]
    },
    {
     "name": "stderr",
     "output_type": "stream",
     "text": [
      "\r",
      "Processing images: 100%|██████████| 360/360 [1:50:34<00:00, 18.43s/it]"
     ]
    },
    {
     "name": "stderr",
     "output_type": "stream",
     "text": [
      "\n"
     ]
    },
    {
     "name": "stdout",
     "output_type": "stream",
     "text": [
      "\n",
      "============================================================\n",
      "EVALUATION SUMMARY FOR QWEN2.5-VL\n",
      "============================================================\n",
      "📊 IMAGE PROCESSING SUMMARY:\n",
      "   Total images attempted: 360\n",
      "   Successfully processed: 360 (100.0%)\n",
      "   Failed images: 0 (0.0%)\n",
      "\n",
      "📝 QUESTION PROCESSING SUMMARY:\n",
      "   Total questions attempted: 1080\n",
      "   Successfully processed: 1080 (100.0%)\n",
      "   Failed questions: 0 (0.0%)\n",
      "   Results saved: 1080\n",
      "\n",
      "✅ SUCCESSFUL IMAGES (360):\n",
      "   • image01 (Type: REAL, Questions: 3/3, Time: 6.6s)\n",
      "   • image02 (Type: REAL, Questions: 3/3, Time: 2.2s)\n",
      "   • image03 (Type: REAL, Questions: 3/3, Time: 29.2s)\n",
      "   • image04 (Type: REAL, Questions: 3/3, Time: 2.3s)\n",
      "   • image05 (Type: REAL, Questions: 3/3, Time: 25.8s)\n",
      "   • image06 (Type: REAL, Questions: 3/3, Time: 5.0s)\n",
      "   • image07 (Type: REAL, Questions: 3/3, Time: 1.6s)\n",
      "   • image08 (Type: REAL, Questions: 3/3, Time: 1.0s)\n",
      "   • image09 (Type: REAL, Questions: 3/3, Time: 1.6s)\n",
      "   • image10 (Type: REAL, Questions: 3/3, Time: 2.7s)\n",
      "   • image11 (Type: REAL, Questions: 3/3, Time: 4.2s)\n",
      "   • image12 (Type: REAL, Questions: 3/3, Time: 2.9s)\n",
      "   • image13 (Type: REAL, Questions: 3/3, Time: 1.4s)\n",
      "   • image14 (Type: REAL, Questions: 3/3, Time: 1.9s)\n",
      "   • image15 (Type: REAL, Questions: 3/3, Time: 27.1s)\n",
      "   • image16 (Type: REAL, Questions: 3/3, Time: 11.8s)\n",
      "   • image17 (Type: REAL, Questions: 3/3, Time: 1.3s)\n",
      "   • image18 (Type: REAL, Questions: 3/3, Time: 1.9s)\n",
      "   • image19 (Type: REAL, Questions: 3/3, Time: 2.2s)\n",
      "   • image20 (Type: REAL, Questions: 3/3, Time: 23.3s)\n",
      "   • image21 (Type: REAL, Questions: 3/3, Time: 2.7s)\n",
      "   • image22 (Type: REAL, Questions: 3/3, Time: 112.4s)\n",
      "   • image23 (Type: REAL, Questions: 3/3, Time: 111.9s)\n",
      "   • image24 (Type: REAL, Questions: 3/3, Time: 1.7s)\n",
      "   • image25 (Type: REAL, Questions: 3/3, Time: 1.3s)\n",
      "   • image26 (Type: REAL, Questions: 3/3, Time: 2.4s)\n",
      "   • image27 (Type: REAL, Questions: 3/3, Time: 1.5s)\n",
      "   • image28 (Type: REAL, Questions: 3/3, Time: 1.3s)\n",
      "   • image29 (Type: REAL, Questions: 3/3, Time: 1.8s)\n",
      "   • image30 (Type: REAL, Questions: 3/3, Time: 2.8s)\n",
      "   • image31 (Type: REAL, Questions: 3/3, Time: 2.9s)\n",
      "   • image32 (Type: REAL, Questions: 3/3, Time: 2.3s)\n",
      "   • image33 (Type: REAL, Questions: 3/3, Time: 3.3s)\n",
      "   • image34 (Type: REAL, Questions: 3/3, Time: 1.4s)\n",
      "   • image35 (Type: REAL, Questions: 3/3, Time: 3.3s)\n",
      "   • image36 (Type: REAL, Questions: 3/3, Time: 1.9s)\n",
      "   • image37 (Type: REAL, Questions: 3/3, Time: 2.7s)\n",
      "   • image38 (Type: REAL, Questions: 3/3, Time: 4.0s)\n",
      "   • image39 (Type: REAL, Questions: 3/3, Time: 2.5s)\n",
      "   • image40 (Type: REAL, Questions: 3/3, Time: 3.9s)\n",
      "   • image41 (Type: REAL, Questions: 3/3, Time: 1.4s)\n",
      "   • image42 (Type: REAL, Questions: 3/3, Time: 2.8s)\n",
      "   • image43 (Type: REAL, Questions: 3/3, Time: 3.0s)\n",
      "   • image44 (Type: REAL, Questions: 3/3, Time: 7.1s)\n",
      "   • image45 (Type: REAL, Questions: 3/3, Time: 4.3s)\n",
      "   • image46 (Type: REAL, Questions: 3/3, Time: 2.7s)\n",
      "   • image47 (Type: REAL, Questions: 3/3, Time: 2.2s)\n",
      "   • image48 (Type: REAL, Questions: 3/3, Time: 1.5s)\n",
      "   • image49 (Type: REAL, Questions: 3/3, Time: 21.7s)\n",
      "   • image50 (Type: REAL, Questions: 3/3, Time: 7.3s)\n",
      "   • image51 (Type: REAL, Questions: 3/3, Time: 24.4s)\n",
      "   • image52 (Type: REAL, Questions: 3/3, Time: 2.0s)\n",
      "   • image53 (Type: REAL, Questions: 3/3, Time: 4.7s)\n",
      "   • image54 (Type: REAL, Questions: 3/3, Time: 110.8s)\n",
      "   • image55 (Type: REAL, Questions: 3/3, Time: 12.5s)\n",
      "   • image56 (Type: REAL, Questions: 3/3, Time: 111.6s)\n",
      "   • image57 (Type: REAL, Questions: 3/3, Time: 17.5s)\n",
      "   • image58 (Type: REAL, Questions: 3/3, Time: 3.9s)\n",
      "   • image59 (Type: REAL, Questions: 3/3, Time: 3.8s)\n",
      "   • image60 (Type: REAL, Questions: 3/3, Time: 33.6s)\n",
      "   • image61 (Type: REAL, Questions: 3/3, Time: 31.4s)\n",
      "   • image62 (Type: REAL, Questions: 3/3, Time: 25.8s)\n",
      "   • image63 (Type: REAL, Questions: 3/3, Time: 12.9s)\n",
      "   • image64 (Type: REAL, Questions: 3/3, Time: 41.5s)\n",
      "   • image65 (Type: REAL, Questions: 3/3, Time: 2.0s)\n",
      "   • image66 (Type: REAL, Questions: 3/3, Time: 2.2s)\n",
      "   • image67 (Type: REAL, Questions: 3/3, Time: 7.1s)\n",
      "   • image68 (Type: REAL, Questions: 3/3, Time: 6.9s)\n",
      "   • image69 (Type: REAL, Questions: 3/3, Time: 25.8s)\n",
      "   • image70 (Type: REAL, Questions: 3/3, Time: 14.3s)\n",
      "   • image71 (Type: REAL, Questions: 3/3, Time: 41.5s)\n",
      "   • image72 (Type: REAL, Questions: 3/3, Time: 6.8s)\n",
      "   • image73 (Type: REAL, Questions: 3/3, Time: 26.6s)\n",
      "   • image74 (Type: REAL, Questions: 3/3, Time: 4.8s)\n",
      "   • image75 (Type: REAL, Questions: 3/3, Time: 111.0s)\n",
      "   • image76 (Type: REAL, Questions: 3/3, Time: 7.3s)\n",
      "   • image77 (Type: REAL, Questions: 3/3, Time: 1.6s)\n",
      "   • image78 (Type: REAL, Questions: 3/3, Time: 7.5s)\n",
      "   • image79 (Type: REAL, Questions: 3/3, Time: 7.5s)\n",
      "   • image80 (Type: REAL, Questions: 3/3, Time: 6.8s)\n",
      "   • image81 (Type: REAL, Questions: 3/3, Time: 6.9s)\n",
      "   • image82 (Type: REAL, Questions: 3/3, Time: 35.5s)\n",
      "   • image83 (Type: REAL, Questions: 3/3, Time: 1.6s)\n",
      "   • image84 (Type: REAL, Questions: 3/3, Time: 87.8s)\n",
      "   • image85 (Type: REAL, Questions: 3/3, Time: 47.9s)\n",
      "   • image86 (Type: REAL, Questions: 3/3, Time: 2.2s)\n",
      "   • image87 (Type: REAL, Questions: 3/3, Time: 7.5s)\n",
      "   • image88 (Type: REAL, Questions: 3/3, Time: 7.0s)\n",
      "   • image89 (Type: REAL, Questions: 3/3, Time: 41.5s)\n",
      "   • image90 (Type: REAL, Questions: 3/3, Time: 40.5s)\n",
      "   • image91 (Type: REAL, Questions: 3/3, Time: 2.7s)\n",
      "   • image92 (Type: REAL, Questions: 3/3, Time: 112.5s)\n",
      "   • image93 (Type: REAL, Questions: 3/3, Time: 7.0s)\n",
      "   • image94 (Type: REAL, Questions: 3/3, Time: 8.2s)\n",
      "   • image95 (Type: REAL, Questions: 3/3, Time: 25.9s)\n",
      "   • image96 (Type: REAL, Questions: 3/3, Time: 37.4s)\n",
      "   • image97 (Type: REAL, Questions: 3/3, Time: 23.1s)\n",
      "   • image98 (Type: REAL, Questions: 3/3, Time: 7.1s)\n",
      "   • image99 (Type: REAL, Questions: 3/3, Time: 87.3s)\n",
      "   • image100 (Type: REAL, Questions: 3/3, Time: 7.6s)\n",
      "   • image101 (Type: REAL, Questions: 3/3, Time: 7.5s)\n",
      "   • image102 (Type: REAL, Questions: 3/3, Time: 8.4s)\n",
      "   • image103 (Type: REAL, Questions: 3/3, Time: 26.9s)\n",
      "   • image104 (Type: REAL, Questions: 3/3, Time: 25.8s)\n",
      "   • image105 (Type: REAL, Questions: 3/3, Time: 4.3s)\n",
      "   • image106 (Type: REAL, Questions: 3/3, Time: 35.4s)\n",
      "   • image107 (Type: REAL, Questions: 3/3, Time: 7.3s)\n",
      "   • image108 (Type: REAL, Questions: 3/3, Time: 41.6s)\n",
      "   • image109 (Type: REAL, Questions: 3/3, Time: 41.5s)\n",
      "   • image110 (Type: REAL, Questions: 3/3, Time: 41.4s)\n",
      "   • image111 (Type: REAL, Questions: 3/3, Time: 41.5s)\n",
      "   • image112 (Type: REAL, Questions: 3/3, Time: 7.5s)\n",
      "   • image113 (Type: REAL, Questions: 3/3, Time: 1.5s)\n",
      "   • image114 (Type: REAL, Questions: 3/3, Time: 24.6s)\n",
      "   • image115 (Type: REAL, Questions: 3/3, Time: 8.4s)\n",
      "   • image116 (Type: REAL, Questions: 3/3, Time: 41.4s)\n",
      "   • image117 (Type: REAL, Questions: 3/3, Time: 5.8s)\n",
      "   • image118 (Type: REAL, Questions: 3/3, Time: 7.3s)\n",
      "   • image119 (Type: REAL, Questions: 3/3, Time: 6.0s)\n",
      "   • image120 (Type: REAL, Questions: 3/3, Time: 25.8s)\n",
      "   • image01 (Type: ANIMATED, Questions: 3/3, Time: 1.8s)\n",
      "   • image02 (Type: ANIMATED, Questions: 3/3, Time: 1.3s)\n",
      "   • image03 (Type: ANIMATED, Questions: 3/3, Time: 2.1s)\n",
      "   • image04 (Type: ANIMATED, Questions: 3/3, Time: 3.4s)\n",
      "   • image05 (Type: ANIMATED, Questions: 3/3, Time: 2.4s)\n",
      "   • image06 (Type: ANIMATED, Questions: 3/3, Time: 2.3s)\n",
      "   • image07 (Type: ANIMATED, Questions: 3/3, Time: 2.3s)\n",
      "   • image08 (Type: ANIMATED, Questions: 3/3, Time: 3.3s)\n",
      "   • image09 (Type: ANIMATED, Questions: 3/3, Time: 2.7s)\n",
      "   • image10 (Type: ANIMATED, Questions: 3/3, Time: 111.9s)\n",
      "   • image11 (Type: ANIMATED, Questions: 3/3, Time: 20.6s)\n",
      "   • image12 (Type: ANIMATED, Questions: 3/3, Time: 32.2s)\n",
      "   • image13 (Type: ANIMATED, Questions: 3/3, Time: 40.5s)\n",
      "   • image14 (Type: ANIMATED, Questions: 3/3, Time: 1.9s)\n",
      "   • image15 (Type: ANIMATED, Questions: 3/3, Time: 25.5s)\n",
      "   • image16 (Type: ANIMATED, Questions: 3/3, Time: 25.4s)\n",
      "   • image17 (Type: ANIMATED, Questions: 3/3, Time: 4.4s)\n",
      "   • image18 (Type: ANIMATED, Questions: 3/3, Time: 2.6s)\n",
      "   • image19 (Type: ANIMATED, Questions: 3/3, Time: 2.9s)\n",
      "   • image20 (Type: ANIMATED, Questions: 3/3, Time: 3.4s)\n",
      "   • image21 (Type: ANIMATED, Questions: 3/3, Time: 111.4s)\n",
      "   • image22 (Type: ANIMATED, Questions: 3/3, Time: 13.9s)\n",
      "   • image23 (Type: ANIMATED, Questions: 3/3, Time: 111.7s)\n",
      "   • image24 (Type: ANIMATED, Questions: 3/3, Time: 1.7s)\n",
      "   • image25 (Type: ANIMATED, Questions: 3/3, Time: 2.0s)\n",
      "   • image26 (Type: ANIMATED, Questions: 3/3, Time: 2.1s)\n",
      "   • image27 (Type: ANIMATED, Questions: 3/3, Time: 2.4s)\n",
      "   • image28 (Type: ANIMATED, Questions: 3/3, Time: 2.7s)\n",
      "   • image29 (Type: ANIMATED, Questions: 3/3, Time: 1.9s)\n",
      "   • image30 (Type: ANIMATED, Questions: 3/3, Time: 1.5s)\n",
      "   • image31 (Type: ANIMATED, Questions: 3/3, Time: 2.2s)\n",
      "   • image32 (Type: ANIMATED, Questions: 3/3, Time: 1.5s)\n",
      "   • image33 (Type: ANIMATED, Questions: 3/3, Time: 2.0s)\n",
      "   • image34 (Type: ANIMATED, Questions: 3/3, Time: 1.8s)\n",
      "   • image35 (Type: ANIMATED, Questions: 3/3, Time: 2.0s)\n",
      "   • image36 (Type: ANIMATED, Questions: 3/3, Time: 3.2s)\n",
      "   • image37 (Type: ANIMATED, Questions: 3/3, Time: 1.8s)\n",
      "   • image38 (Type: ANIMATED, Questions: 3/3, Time: 2.1s)\n",
      "   • image39 (Type: ANIMATED, Questions: 3/3, Time: 3.1s)\n",
      "   • image40 (Type: ANIMATED, Questions: 3/3, Time: 2.0s)\n",
      "   • image41 (Type: ANIMATED, Questions: 3/3, Time: 111.1s)\n",
      "   • image42 (Type: ANIMATED, Questions: 3/3, Time: 44.0s)\n",
      "   • image43 (Type: ANIMATED, Questions: 3/3, Time: 112.8s)\n",
      "   • image44 (Type: ANIMATED, Questions: 3/3, Time: 91.0s)\n",
      "   • image45 (Type: ANIMATED, Questions: 3/3, Time: 110.1s)\n",
      "   • image46 (Type: ANIMATED, Questions: 3/3, Time: 94.1s)\n",
      "   • image47 (Type: ANIMATED, Questions: 3/3, Time: 25.5s)\n",
      "   • image48 (Type: ANIMATED, Questions: 3/3, Time: 44.0s)\n",
      "   • image49 (Type: ANIMATED, Questions: 3/3, Time: 25.7s)\n",
      "   • image50 (Type: ANIMATED, Questions: 3/3, Time: 32.2s)\n",
      "   • image51 (Type: ANIMATED, Questions: 3/3, Time: 115.9s)\n",
      "   • image52 (Type: ANIMATED, Questions: 3/3, Time: 113.5s)\n",
      "   • image53 (Type: ANIMATED, Questions: 3/3, Time: 89.7s)\n",
      "   • image54 (Type: ANIMATED, Questions: 3/3, Time: 2.4s)\n",
      "   • image55 (Type: ANIMATED, Questions: 3/3, Time: 1.1s)\n",
      "   • image56 (Type: ANIMATED, Questions: 3/3, Time: 1.0s)\n",
      "   • image57 (Type: ANIMATED, Questions: 3/3, Time: 1.0s)\n",
      "   • image58 (Type: ANIMATED, Questions: 3/3, Time: 91.2s)\n",
      "   • image59 (Type: ANIMATED, Questions: 3/3, Time: 113.1s)\n",
      "   • image60 (Type: ANIMATED, Questions: 3/3, Time: 1.4s)\n",
      "   • image61 (Type: ANIMATED, Questions: 3/3, Time: 2.8s)\n",
      "   • image62 (Type: ANIMATED, Questions: 3/3, Time: 4.2s)\n",
      "   • image63 (Type: ANIMATED, Questions: 3/3, Time: 5.1s)\n",
      "   • image64 (Type: ANIMATED, Questions: 3/3, Time: 1.1s)\n",
      "   • image65 (Type: ANIMATED, Questions: 3/3, Time: 3.7s)\n",
      "   • image66 (Type: ANIMATED, Questions: 3/3, Time: 4.1s)\n",
      "   • image67 (Type: ANIMATED, Questions: 3/3, Time: 6.1s)\n",
      "   • image68 (Type: ANIMATED, Questions: 3/3, Time: 4.7s)\n",
      "   • image69 (Type: ANIMATED, Questions: 3/3, Time: 5.3s)\n",
      "   • image70 (Type: ANIMATED, Questions: 3/3, Time: 6.3s)\n",
      "   • image71 (Type: ANIMATED, Questions: 3/3, Time: 5.0s)\n",
      "   • image72 (Type: ANIMATED, Questions: 3/3, Time: 4.5s)\n",
      "   • image73 (Type: ANIMATED, Questions: 3/3, Time: 24.6s)\n",
      "   • image74 (Type: ANIMATED, Questions: 3/3, Time: 4.9s)\n",
      "   • image75 (Type: ANIMATED, Questions: 3/3, Time: 4.7s)\n",
      "   • image76 (Type: ANIMATED, Questions: 3/3, Time: 5.4s)\n",
      "   • image77 (Type: ANIMATED, Questions: 3/3, Time: 4.5s)\n",
      "   • image78 (Type: ANIMATED, Questions: 3/3, Time: 4.8s)\n",
      "   • image79 (Type: ANIMATED, Questions: 3/3, Time: 5.6s)\n",
      "   • image80 (Type: ANIMATED, Questions: 3/3, Time: 5.3s)\n",
      "   • image81 (Type: ANIMATED, Questions: 3/3, Time: 2.4s)\n",
      "   • image82 (Type: ANIMATED, Questions: 3/3, Time: 1.9s)\n",
      "   • image83 (Type: ANIMATED, Questions: 3/3, Time: 1.9s)\n",
      "   • image84 (Type: ANIMATED, Questions: 3/3, Time: 113.0s)\n",
      "   • image85 (Type: ANIMATED, Questions: 3/3, Time: 2.0s)\n",
      "   • image86 (Type: ANIMATED, Questions: 3/3, Time: 2.1s)\n",
      "   • image87 (Type: ANIMATED, Questions: 3/3, Time: 1.7s)\n",
      "   • image88 (Type: ANIMATED, Questions: 3/3, Time: 1.6s)\n",
      "   • image89 (Type: ANIMATED, Questions: 3/3, Time: 1.4s)\n",
      "   • image90 (Type: ANIMATED, Questions: 3/3, Time: 1.1s)\n",
      "   • image91 (Type: ANIMATED, Questions: 3/3, Time: 1.3s)\n",
      "   • image92 (Type: ANIMATED, Questions: 3/3, Time: 8.1s)\n",
      "   • image93 (Type: ANIMATED, Questions: 3/3, Time: 1.8s)\n",
      "   • image94 (Type: ANIMATED, Questions: 3/3, Time: 1.5s)\n",
      "   • image95 (Type: ANIMATED, Questions: 3/3, Time: 1.2s)\n",
      "   • image96 (Type: ANIMATED, Questions: 3/3, Time: 1.7s)\n",
      "   • image97 (Type: ANIMATED, Questions: 3/3, Time: 11.1s)\n",
      "   • image98 (Type: ANIMATED, Questions: 3/3, Time: 3.0s)\n",
      "   • image99 (Type: ANIMATED, Questions: 3/3, Time: 2.3s)\n",
      "   • image100 (Type: ANIMATED, Questions: 3/3, Time: 1.3s)\n",
      "   • image101 (Type: ANIMATED, Questions: 3/3, Time: 4.6s)\n",
      "   • image102 (Type: ANIMATED, Questions: 3/3, Time: 1.8s)\n",
      "   • image103 (Type: ANIMATED, Questions: 3/3, Time: 2.6s)\n",
      "   • image104 (Type: ANIMATED, Questions: 3/3, Time: 2.3s)\n",
      "   • image105 (Type: ANIMATED, Questions: 3/3, Time: 2.2s)\n",
      "   • image106 (Type: ANIMATED, Questions: 3/3, Time: 1.6s)\n",
      "   • image107 (Type: ANIMATED, Questions: 3/3, Time: 1.4s)\n",
      "   • image108 (Type: ANIMATED, Questions: 3/3, Time: 1.4s)\n",
      "   • image109 (Type: ANIMATED, Questions: 3/3, Time: 4.7s)\n",
      "   • image110 (Type: ANIMATED, Questions: 3/3, Time: 90.5s)\n",
      "   • image111 (Type: ANIMATED, Questions: 3/3, Time: 115.9s)\n",
      "   • image112 (Type: ANIMATED, Questions: 3/3, Time: 90.4s)\n",
      "   • image113 (Type: ANIMATED, Questions: 3/3, Time: 113.0s)\n",
      "   • image114 (Type: ANIMATED, Questions: 3/3, Time: 26.0s)\n",
      "   • image115 (Type: ANIMATED, Questions: 3/3, Time: 93.7s)\n",
      "   • image116 (Type: ANIMATED, Questions: 3/3, Time: 111.6s)\n",
      "   • image117 (Type: ANIMATED, Questions: 3/3, Time: 111.5s)\n",
      "   • image118 (Type: ANIMATED, Questions: 3/3, Time: 91.4s)\n",
      "   • image119 (Type: ANIMATED, Questions: 3/3, Time: 112.8s)\n",
      "   • image120 (Type: ANIMATED, Questions: 3/3, Time: 112.9s)\n",
      "   • image01 (Type: AI_GENERATED, Questions: 3/3, Time: 3.0s)\n",
      "   • image02 (Type: AI_GENERATED, Questions: 3/3, Time: 3.1s)\n",
      "   • image03 (Type: AI_GENERATED, Questions: 3/3, Time: 3.1s)\n",
      "   • image04 (Type: AI_GENERATED, Questions: 3/3, Time: 4.4s)\n",
      "   • image05 (Type: AI_GENERATED, Questions: 3/3, Time: 2.5s)\n",
      "   • image06 (Type: AI_GENERATED, Questions: 3/3, Time: 3.0s)\n",
      "   • image07 (Type: AI_GENERATED, Questions: 3/3, Time: 4.3s)\n",
      "   • image08 (Type: AI_GENERATED, Questions: 3/3, Time: 4.8s)\n",
      "   • image09 (Type: AI_GENERATED, Questions: 3/3, Time: 4.5s)\n",
      "   • image10 (Type: AI_GENERATED, Questions: 3/3, Time: 3.6s)\n",
      "   • image11 (Type: AI_GENERATED, Questions: 3/3, Time: 4.3s)\n",
      "   • image12 (Type: AI_GENERATED, Questions: 3/3, Time: 3.7s)\n",
      "   • image13 (Type: AI_GENERATED, Questions: 3/3, Time: 4.2s)\n",
      "   • image14 (Type: AI_GENERATED, Questions: 3/3, Time: 2.0s)\n",
      "   • image15 (Type: AI_GENERATED, Questions: 3/3, Time: 2.3s)\n",
      "   • image16 (Type: AI_GENERATED, Questions: 3/3, Time: 2.4s)\n",
      "   • image17 (Type: AI_GENERATED, Questions: 3/3, Time: 2.4s)\n",
      "   • image18 (Type: AI_GENERATED, Questions: 3/3, Time: 4.6s)\n",
      "   • image19 (Type: AI_GENERATED, Questions: 3/3, Time: 2.2s)\n",
      "   • image20 (Type: AI_GENERATED, Questions: 3/3, Time: 2.0s)\n",
      "   • image21 (Type: AI_GENERATED, Questions: 3/3, Time: 2.4s)\n",
      "   • image22 (Type: AI_GENERATED, Questions: 3/3, Time: 2.1s)\n",
      "   • image23 (Type: AI_GENERATED, Questions: 3/3, Time: 4.3s)\n",
      "   • image24 (Type: AI_GENERATED, Questions: 3/3, Time: 2.3s)\n",
      "   • image25 (Type: AI_GENERATED, Questions: 3/3, Time: 1.8s)\n",
      "   • image26 (Type: AI_GENERATED, Questions: 3/3, Time: 4.4s)\n",
      "   • image27 (Type: AI_GENERATED, Questions: 3/3, Time: 33.4s)\n",
      "   • image28 (Type: AI_GENERATED, Questions: 3/3, Time: 2.3s)\n",
      "   • image29 (Type: AI_GENERATED, Questions: 3/3, Time: 1.7s)\n",
      "   • image30 (Type: AI_GENERATED, Questions: 3/3, Time: 1.9s)\n",
      "   • image31 (Type: AI_GENERATED, Questions: 3/3, Time: 1.5s)\n",
      "   • image32 (Type: AI_GENERATED, Questions: 3/3, Time: 1.6s)\n",
      "   • image33 (Type: AI_GENERATED, Questions: 3/3, Time: 2.3s)\n",
      "   • image34 (Type: AI_GENERATED, Questions: 3/3, Time: 2.4s)\n",
      "   • image35 (Type: AI_GENERATED, Questions: 3/3, Time: 1.9s)\n",
      "   • image36 (Type: AI_GENERATED, Questions: 3/3, Time: 2.0s)\n",
      "   • image37 (Type: AI_GENERATED, Questions: 3/3, Time: 1.9s)\n",
      "   • image38 (Type: AI_GENERATED, Questions: 3/3, Time: 2.2s)\n",
      "   • image39 (Type: AI_GENERATED, Questions: 3/3, Time: 14.5s)\n",
      "   • image40 (Type: AI_GENERATED, Questions: 3/3, Time: 2.4s)\n",
      "   • image41 (Type: AI_GENERATED, Questions: 3/3, Time: 2.1s)\n",
      "   • image42 (Type: AI_GENERATED, Questions: 3/3, Time: 2.0s)\n",
      "   • image43 (Type: AI_GENERATED, Questions: 3/3, Time: 33.4s)\n",
      "   • image44 (Type: AI_GENERATED, Questions: 3/3, Time: 3.3s)\n",
      "   • image45 (Type: AI_GENERATED, Questions: 3/3, Time: 2.7s)\n",
      "   • image46 (Type: AI_GENERATED, Questions: 3/3, Time: 2.4s)\n",
      "   • image47 (Type: AI_GENERATED, Questions: 3/3, Time: 2.2s)\n",
      "   • image48 (Type: AI_GENERATED, Questions: 3/3, Time: 2.3s)\n",
      "   • image49 (Type: AI_GENERATED, Questions: 3/3, Time: 33.3s)\n",
      "   • image50 (Type: AI_GENERATED, Questions: 3/3, Time: 31.0s)\n",
      "   • image51 (Type: AI_GENERATED, Questions: 3/3, Time: 33.4s)\n",
      "   • image52 (Type: AI_GENERATED, Questions: 3/3, Time: 33.4s)\n",
      "   • image53 (Type: AI_GENERATED, Questions: 3/3, Time: 33.4s)\n",
      "   • image54 (Type: AI_GENERATED, Questions: 3/3, Time: 33.4s)\n",
      "   • image55 (Type: AI_GENERATED, Questions: 3/3, Time: 3.6s)\n",
      "   • image56 (Type: AI_GENERATED, Questions: 3/3, Time: 3.4s)\n",
      "   • image57 (Type: AI_GENERATED, Questions: 3/3, Time: 4.9s)\n",
      "   • image58 (Type: AI_GENERATED, Questions: 3/3, Time: 5.0s)\n",
      "   • image59 (Type: AI_GENERATED, Questions: 3/3, Time: 4.4s)\n",
      "   • image60 (Type: AI_GENERATED, Questions: 3/3, Time: 4.4s)\n",
      "   • image61 (Type: AI_GENERATED, Questions: 3/3, Time: 33.5s)\n",
      "   • image62 (Type: AI_GENERATED, Questions: 3/3, Time: 33.4s)\n",
      "   • image63 (Type: AI_GENERATED, Questions: 3/3, Time: 33.4s)\n",
      "   • image64 (Type: AI_GENERATED, Questions: 3/3, Time: 33.4s)\n",
      "   • image65 (Type: AI_GENERATED, Questions: 3/3, Time: 14.8s)\n",
      "   • image66 (Type: AI_GENERATED, Questions: 3/3, Time: 33.5s)\n",
      "   • image67 (Type: AI_GENERATED, Questions: 3/3, Time: 33.4s)\n",
      "   • image68 (Type: AI_GENERATED, Questions: 3/3, Time: 33.4s)\n",
      "   • image69 (Type: AI_GENERATED, Questions: 3/3, Time: 33.4s)\n",
      "   • image70 (Type: AI_GENERATED, Questions: 3/3, Time: 14.8s)\n",
      "   • image71 (Type: AI_GENERATED, Questions: 3/3, Time: 1.8s)\n",
      "   • image72 (Type: AI_GENERATED, Questions: 3/3, Time: 2.0s)\n",
      "   • image73 (Type: AI_GENERATED, Questions: 3/3, Time: 2.2s)\n",
      "   • image74 (Type: AI_GENERATED, Questions: 3/3, Time: 1.9s)\n",
      "   • image75 (Type: AI_GENERATED, Questions: 3/3, Time: 2.1s)\n",
      "   • image76 (Type: AI_GENERATED, Questions: 3/3, Time: 2.1s)\n",
      "   • image77 (Type: AI_GENERATED, Questions: 3/3, Time: 3.2s)\n",
      "   • image78 (Type: AI_GENERATED, Questions: 3/3, Time: 3.1s)\n",
      "   • image79 (Type: AI_GENERATED, Questions: 3/3, Time: 3.2s)\n",
      "   • image80 (Type: AI_GENERATED, Questions: 3/3, Time: 3.1s)\n",
      "   • image81 (Type: AI_GENERATED, Questions: 3/3, Time: 3.2s)\n",
      "   • image82 (Type: AI_GENERATED, Questions: 3/3, Time: 3.4s)\n",
      "   • image83 (Type: AI_GENERATED, Questions: 3/3, Time: 33.4s)\n",
      "   • image84 (Type: AI_GENERATED, Questions: 3/3, Time: 3.4s)\n",
      "   • image85 (Type: AI_GENERATED, Questions: 3/3, Time: 3.0s)\n",
      "   • image86 (Type: AI_GENERATED, Questions: 3/3, Time: 3.1s)\n",
      "   • image87 (Type: AI_GENERATED, Questions: 3/3, Time: 33.4s)\n",
      "   • image88 (Type: AI_GENERATED, Questions: 3/3, Time: 33.4s)\n",
      "   • image89 (Type: AI_GENERATED, Questions: 3/3, Time: 2.8s)\n",
      "   • image90 (Type: AI_GENERATED, Questions: 3/3, Time: 3.0s)\n",
      "   • image91 (Type: AI_GENERATED, Questions: 3/3, Time: 33.4s)\n",
      "   • image92 (Type: AI_GENERATED, Questions: 3/3, Time: 3.1s)\n",
      "   • image93 (Type: AI_GENERATED, Questions: 3/3, Time: 2.9s)\n",
      "   • image94 (Type: AI_GENERATED, Questions: 3/3, Time: 3.3s)\n",
      "   • image95 (Type: AI_GENERATED, Questions: 3/3, Time: 3.4s)\n",
      "   • image96 (Type: AI_GENERATED, Questions: 3/3, Time: 33.4s)\n",
      "   • image97 (Type: AI_GENERATED, Questions: 3/3, Time: 3.1s)\n",
      "   • image98 (Type: AI_GENERATED, Questions: 3/3, Time: 33.4s)\n",
      "   • image99 (Type: AI_GENERATED, Questions: 3/3, Time: 2.9s)\n",
      "   • image100 (Type: AI_GENERATED, Questions: 3/3, Time: 33.4s)\n",
      "   • image101 (Type: AI_GENERATED, Questions: 3/3, Time: 33.4s)\n",
      "   • image102 (Type: AI_GENERATED, Questions: 3/3, Time: 3.0s)\n",
      "   • image103 (Type: AI_GENERATED, Questions: 3/3, Time: 3.1s)\n",
      "   • image104 (Type: AI_GENERATED, Questions: 3/3, Time: 3.2s)\n",
      "   • image105 (Type: AI_GENERATED, Questions: 3/3, Time: 2.8s)\n",
      "   • image106 (Type: AI_GENERATED, Questions: 3/3, Time: 33.4s)\n",
      "   • image107 (Type: AI_GENERATED, Questions: 3/3, Time: 33.4s)\n",
      "   • image108 (Type: AI_GENERATED, Questions: 3/3, Time: 3.2s)\n",
      "   • image109 (Type: AI_GENERATED, Questions: 3/3, Time: 2.7s)\n",
      "   • image110 (Type: AI_GENERATED, Questions: 3/3, Time: 33.4s)\n",
      "   • image111 (Type: AI_GENERATED, Questions: 3/3, Time: 2.9s)\n",
      "   • image112 (Type: AI_GENERATED, Questions: 3/3, Time: 2.9s)\n",
      "   • image113 (Type: AI_GENERATED, Questions: 3/3, Time: 3.1s)\n",
      "   • image114 (Type: AI_GENERATED, Questions: 3/3, Time: 3.0s)\n",
      "   • image115 (Type: AI_GENERATED, Questions: 3/3, Time: 2.2s)\n",
      "   • image116 (Type: AI_GENERATED, Questions: 3/3, Time: 3.2s)\n",
      "   • image117 (Type: AI_GENERATED, Questions: 3/3, Time: 3.0s)\n",
      "   • image118 (Type: AI_GENERATED, Questions: 3/3, Time: 15.2s)\n",
      "   • image119 (Type: AI_GENERATED, Questions: 3/3, Time: 33.4s)\n",
      "   • image120 (Type: AI_GENERATED, Questions: 3/3, Time: 30.4s)\n",
      "============================================================\n",
      "\n"
     ]
    }
   ],
   "source": [
    "test_Qwen2_5VL()"
   ]
  },
  {
   "cell_type": "code",
   "execution_count": null,
   "id": "e69c4cf9",
   "metadata": {
    "papermill": {
     "duration": 0.03034,
     "end_time": "2025-07-29T13:35:52.890253",
     "exception": false,
     "start_time": "2025-07-29T13:35:52.859913",
     "status": "completed"
    },
    "tags": []
   },
   "outputs": [],
   "source": []
  }
 ],
 "metadata": {
  "kaggle": {
   "accelerator": "none",
   "dataSources": [
    {
     "datasetId": 7163706,
     "sourceId": 11436696,
     "sourceType": "datasetVersion"
    }
   ],
   "dockerImageVersionId": 31011,
   "isGpuEnabled": false,
   "isInternetEnabled": true,
   "language": "python",
   "sourceType": "notebook"
  },
  "kernelspec": {
   "display_name": "Python ((op_bench)",
   "language": "python",
   "name": "op_bench"
  },
  "language_info": {
   "codemirror_mode": {
    "name": "ipython",
    "version": 3
   },
   "file_extension": ".py",
   "mimetype": "text/x-python",
   "name": "python",
   "nbconvert_exporter": "python",
   "pygments_lexer": "ipython3",
   "version": "3.12.9"
  },
  "papermill": {
   "default_parameters": {},
   "duration": 6667.856434,
   "end_time": "2025-07-29T13:35:55.890004",
   "environment_variables": {},
   "exception": null,
   "input_path": "/var/scratch/ave303/OP_bench/opa-benchmark-smolvlm2-qwen2-5-vl.ipynb",
   "output_path": "qwen2-5-vl_3b_output.ipynb",
   "parameters": {},
   "start_time": "2025-07-29T11:44:48.033570",
   "version": "2.6.0"
  }
 },
 "nbformat": 4,
 "nbformat_minor": 5
}