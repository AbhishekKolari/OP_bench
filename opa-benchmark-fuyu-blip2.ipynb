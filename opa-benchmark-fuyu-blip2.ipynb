{
 "cells": [
  {
   "cell_type": "markdown",
   "metadata": {},
   "source": [
    "# VLM Benchmark for Object Property Abstraction\n",
    "\n",
    "This notebook implements a benchmark for evaluating Vision Language Models (VLMs) on object property abstraction and visual question answering (VQA) tasks. The benchmark includes three types of questions:\n",
    "\n",
    "1. Direct Recognition\n",
    "2. Property Inference\n",
    "3. Counterfactual Reasoning\n",
    "\n",
    "And three types of images:\n",
    "- REAL\n",
    "- ANIMATED\n",
    "- AI GENERATED"
   ]
  },
  {
   "cell_type": "markdown",
   "metadata": {},
   "source": [
    "## Setup and Imports\n",
    "\n",
    "First, let's import the necessary libraries and set up our environment."
   ]
  },
  {
   "cell_type": "code",
   "execution_count": null,
   "metadata": {
    "execution": {
     "iopub.execute_input": "2025-04-16T14:43:57.040434Z",
     "iopub.status.busy": "2025-04-16T14:43:57.040138Z",
     "iopub.status.idle": "2025-04-16T14:45:25.499057Z",
     "shell.execute_reply": "2025-04-16T14:45:25.498154Z",
     "shell.execute_reply.started": "2025-04-16T14:43:57.040411Z"
    },
    "trusted": true
   },
   "outputs": [],
   "source": [
    "# Install required packages\n",
    "!pip install transformers torch Pillow tqdm"
   ]
  },
  {
   "cell_type": "code",
   "execution_count": 2,
   "metadata": {
    "execution": {
     "iopub.execute_input": "2025-04-16T14:45:25.501027Z",
     "iopub.status.busy": "2025-04-16T14:45:25.500564Z",
     "iopub.status.idle": "2025-04-16T14:45:29.006707Z",
     "shell.execute_reply": "2025-04-16T14:45:29.005946Z",
     "shell.execute_reply.started": "2025-04-16T14:45:25.501005Z"
    },
    "trusted": true
   },
   "outputs": [
    {
     "name": "stdout",
     "output_type": "stream",
     "text": [
      "Using device: cuda\n"
     ]
    }
   ],
   "source": [
    "# Import required libraries\n",
    "import torch\n",
    "import json\n",
    "from pathlib import Path\n",
    "from PIL import Image\n",
    "import gc\n",
    "import re\n",
    "from tqdm import tqdm\n",
    "from typing import List, Dict, Any\n",
    "\n",
    "# Check if CUDA is available\n",
    "device = torch.device('cuda' if torch.cuda.is_available() else 'cpu')\n",
    "print(f\"Using device: {device}\")"
   ]
  },
  {
   "cell_type": "markdown",
   "metadata": {},
   "source": [
    "## Benchmark Tester Class\n",
    "\n",
    "This class handles the evaluation of models against our benchmark."
   ]
  },
  {
   "cell_type": "code",
   "execution_count": 4,
   "metadata": {
    "execution": {
     "iopub.execute_input": "2025-04-16T14:45:29.026716Z",
     "iopub.status.busy": "2025-04-16T14:45:29.025942Z",
     "iopub.status.idle": "2025-04-16T14:45:29.047360Z",
     "shell.execute_reply": "2025-04-16T14:45:29.046851Z",
     "shell.execute_reply.started": "2025-04-16T14:45:29.026694Z"
    },
    "trusted": true
   },
   "outputs": [],
   "source": [
    "class BenchmarkTester:\n",
    "    def __init__(self, benchmark_path=\"/var/scratch/ave303/OP_bench/benchmark.json\", data_dir=\"/var/scratch/ave303/OP_bench/\"):\n",
    "        self.device = \"cuda\" if torch.cuda.is_available() else \"cpu\"\n",
    "        with open(benchmark_path, 'r') as f:\n",
    "            self.benchmark = json.load(f)\n",
    "        self.data_dir = data_dir\n",
    "    \n",
    "    def format_question(self, question, model_name):\n",
    "        \"\"\"Format a question for the model.\"\"\"\n",
    "\n",
    "        if model_name==\"blip2\":\n",
    "            return f\"Question: {question['question']} Provide only the total number. Answer:\" #Provide just the total count and the list of objects in the given format \\n Format: number [objects] Answer: \"\n",
    "        else:\n",
    "            return f\"Question: {question['question']} Answer(total number):\"\n",
    "\n",
    "    def clean_answer(self, answer):\n",
    "        \"\"\"Clean the model output to extract just the number.\"\"\"\n",
    "        # Remove any text that's not a number\n",
    "        # import re\n",
    "        # numbers = re.findall(r'\\d+', answer)\n",
    "        # if numbers:\n",
    "        #     return numbers[0]  # Return the first number found\n",
    "        # return answer\n",
    "        \"\"\"Extract number and reasoning from the model's answer.\"\"\"\n",
    "        # Try to extract number and reasoning using regex\n",
    "        import re\n",
    "        pattern = r'(\\d+)\\s*\\[(.*?)\\]'\n",
    "        match = re.search(pattern, answer)\n",
    "        \n",
    "        if match:\n",
    "            number = match.group(1)\n",
    "            objects = [obj.strip() for obj in match.group(2).split(',')]\n",
    "            return {\n",
    "                \"count\": number,\n",
    "                \"reasoning\": objects\n",
    "            }\n",
    "        else:\n",
    "            # Fallback if format isn't matched\n",
    "            numbers = re.findall(r'\\d+', answer)\n",
    "            return {\n",
    "                \"count\": numbers[0] if numbers else \"0\",\n",
    "                \"reasoning\": []\n",
    "            }\n",
    "\n",
    "    def model_generation(self, model_name, model, inputs, processor):\n",
    "        \"\"\"Generate answer and decode.\"\"\"\n",
    "        outputs = None  # Initialize outputs to None\n",
    "        \n",
    "        if model_name==\"blip2\":\n",
    "            outputs = model.generate(**inputs)\n",
    "            answer = processor.batch_decode(outputs, skip_special_tokens=True)[0].strip()\n",
    "            \n",
    "        elif model_name==\"fuyu-8b\":\n",
    "            outputs = model.generate(\n",
    "                **inputs,\n",
    "                max_new_tokens=30,  # Increased from 10 to 200\n",
    "                pad_token_id=processor.tokenizer.eos_token_id\n",
    "            )\n",
    "            answer = processor.batch_decode(outputs[:, -30:], skip_special_tokens=True)[0]\n",
    "        else:\n",
    "            print(f\"Warning: Unknown model name '{model_name}' in model_generation.\")\n",
    "            answer = \"\"  # Return an empty string\n",
    "\n",
    "        return answer, outputs\n",
    "    \n",
    "    def evaluate_model(self, model_name, model, processor, save_path, start_idx=0, batch_size=5):\n",
    "        results = []\n",
    "        print(f\"\\nEvaluating {model_name}...\")\n",
    "        print(f\"Using device: {self.device}\")\n",
    "        \n",
    "        # Force garbage collection before starting\n",
    "        gc.collect()\n",
    "        torch.cuda.empty_cache()\n",
    "\n",
    "        try:\n",
    "            images = self.benchmark['benchmark']['images'][start_idx:start_idx + batch_size]\n",
    "            total_images = len(images)\n",
    "            \n",
    "            for idx, image_data in enumerate(tqdm(images, desc=\"Processing images\")):\n",
    "                try:\n",
    "                    print(f\"\\nProcessing image {idx+1}/{total_images}: {image_data['image_id']}\")\n",
    "                    image_path = Path(self.data_dir)/image_data['path']\n",
    "                    if not image_path.exists():\n",
    "                        print(f\"Warning: Image not found at {image_path}\")\n",
    "                        continue\n",
    "                    \n",
    "                    # Load and preprocess image\n",
    "                    image = Image.open(image_path).convert(\"RGB\")\n",
    "                    image_results = []  # Store results for current image\n",
    "                    \n",
    "                    for question in image_data['questions']:\n",
    "                        try:\n",
    "                            prompt = self.format_question(question, model_name)\n",
    "                            print(f\"Question: {question['question']}\")\n",
    "                            \n",
    "                            # Clear cache before processing each question\n",
    "                            torch.cuda.empty_cache()\n",
    "                            \n",
    "                            # Process image and text\n",
    "                            inputs = processor(images=image, text=prompt, return_tensors=\"pt\").to(self.device)\n",
    "                            \n",
    "                            # Generate answer with better settings\n",
    "                            with torch.no_grad():\n",
    "                                answer, outputs = self.model_generation(model_name, model, inputs, processor)    #call for model.generate\n",
    "                                \n",
    "                            cleaned_answer = self.clean_answer(answer)\n",
    "                            \n",
    "                            image_results.append({\n",
    "                                \"image_id\": image_data[\"image_id\"],\n",
    "                                \"image_type\": image_data[\"image_type\"],\n",
    "                                \"question_id\": question[\"id\"],\n",
    "                                \"question\": question[\"question\"],\n",
    "                                \"ground_truth\": question[\"answer\"],\n",
    "                                \"model_answer\": cleaned_answer[\"count\"],\n",
    "                                \"model_reasoning\": cleaned_answer[\"reasoning\"],\n",
    "                                \"raw_answer\": answer,  # Keep raw answer for debugging\n",
    "                                \"property_category\": question[\"property_category\"]\n",
    "                            })\n",
    "                            \n",
    "                            # Clear memory\n",
    "                            del outputs, inputs\n",
    "                            torch.cuda.empty_cache()\n",
    "                            \n",
    "                        except Exception as e:\n",
    "                            print(f\"Error processing question: {str(e)}\")\n",
    "                            continue\n",
    "                    \n",
    "                    # Add results from this image\n",
    "                    results.extend(image_results)\n",
    "                    \n",
    "                    # Save intermediate results only every 2 images or if it's the last image\n",
    "                    if (idx + 1) % 2 == 0 or idx == total_images - 1:\n",
    "                        with open(f\"{save_path}_checkpoint.json\", 'w') as f:\n",
    "                            json.dump(results, f, indent=4)\n",
    "                            \n",
    "                except Exception as e:\n",
    "                    print(f\"Error processing image {image_data['image_id']}: {str(e)}\")\n",
    "                    continue\n",
    "            \n",
    "            # Save final results\n",
    "            if results:\n",
    "                with open(save_path, 'w') as f:\n",
    "                    json.dump(results, f, indent=4)\n",
    "            \n",
    "        except Exception as e:\n",
    "            print(f\"An error occurred during evaluation: {str(e)}\")\n",
    "            if results:\n",
    "                with open(f\"{save_path}_error_state.json\", 'w') as f:\n",
    "                    json.dump(results, f, indent=4)\n",
    "        \n",
    "        return results"
   ]
  },
  {
   "cell_type": "markdown",
   "metadata": {},
   "source": [
    "## Test Fuyu Model\n",
    "\n",
    "Let's evaluate the Fuyu-8b model on our benchmark."
   ]
  },
  {
   "cell_type": "code",
   "execution_count": 6,
   "metadata": {
    "execution": {
     "iopub.execute_input": "2025-04-16T14:45:29.069123Z",
     "iopub.status.busy": "2025-04-16T14:45:29.068878Z",
     "iopub.status.idle": "2025-04-16T14:45:29.083334Z",
     "shell.execute_reply": "2025-04-16T14:45:29.082860Z",
     "shell.execute_reply.started": "2025-04-16T14:45:29.069101Z"
    },
    "trusted": true
   },
   "outputs": [],
   "source": [
    "def test_fuyu():\n",
    "    #from transformers import AutoModelForCausalLM, AutoTokenizer\n",
    "    from transformers import FuyuProcessor, FuyuForCausalLM\n",
    "    \n",
    "    print(\"Loading Fuyu-8b model...\")\n",
    "    model = FuyuForCausalLM.from_pretrained(\n",
    "        \"/var/scratch/ave303/models/fuyu-8b\",\n",
    "        # load_in_8bit=True,\n",
    "        torch_dtype=torch.float16,\n",
    "        device_map=\"auto\",\n",
    "        low_cpu_mem_usage=True\n",
    "    ).eval()\n",
    "    processor = FuyuProcessor.from_pretrained(\"/var/scratch/ave303/models/fuyu-8b\")\n",
    "\n",
    "    ## fuyu-8b is very slow and average performance\n",
    "\n",
    "    # Optional: Enable memory efficient attention\n",
    "    if hasattr(model.config, 'use_memory_efficient_attention'):\n",
    "        model.config.use_memory_efficient_attention = True\n",
    "        \n",
    "    tester = BenchmarkTester()\n",
    "    fuyu_results = tester.evaluate_model(\n",
    "        \"fuyu-8b\",\n",
    "        model, \n",
    "        processor, \n",
    "        \"fuyu_8b_results.json\", \n",
    "        batch_size=50\n",
    "    )\n",
    "    # tester.save_results(\"fuyu_results.json\")\n",
    "\n",
    "    if fuyu_results is not None:\n",
    "        print(\"Initial test successful!\")\n",
    "    \n",
    "    # Clean up\n",
    "    del model, processor\n",
    "    torch.cuda.empty_cache()\n",
    "    gc.collect()"
   ]
  },
  {
   "cell_type": "markdown",
   "metadata": {},
   "source": [
    "## Test BLIP-2 Model\n",
    "\n",
    "Now let's evaluate the blip2 model."
   ]
  },
  {
   "cell_type": "code",
   "execution_count": 7,
   "metadata": {
    "execution": {
     "iopub.execute_input": "2025-04-16T14:45:29.084480Z",
     "iopub.status.busy": "2025-04-16T14:45:29.084248Z",
     "iopub.status.idle": "2025-04-16T14:45:29.100608Z",
     "shell.execute_reply": "2025-04-16T14:45:29.100098Z",
     "shell.execute_reply.started": "2025-04-16T14:45:29.084459Z"
    },
    "trusted": true
   },
   "outputs": [],
   "source": [
    "def test_blip2():\n",
    "    from transformers import Blip2Processor, Blip2ForConditionalGeneration\n",
    "    \n",
    "    print(\"Loading BLIP-2 model...\")\n",
    "    model = Blip2ForConditionalGeneration.from_pretrained(\n",
    "        \"/var/scratch/ave303/models/blip2flan-t5-xxl\",\n",
    "        # load_in_8bit=True,\n",
    "        torch_dtype=torch.float16,\n",
    "        device_map=\"auto\",\n",
    "        # temperature=0.8,\n",
    "        low_cpu_mem_usage=True\n",
    "    ).eval()\n",
    "    processor = Blip2Processor.from_pretrained(\"/var/scratch/ave303/models/blip2flan-t5-xxl\")\n",
    "\n",
    "    ## opt-2.7b average performance, better instruction following \n",
    "        # Format - Answer(total number):\n",
    "    ## opt-6.7b(8bit) better performance with atleast answering, not well-instruction tuned, but provides number for answers\n",
    "        # Format - Answer(total number):\n",
    "    ## flan-t5-xl does fine but needs a lot of post processing, does not follow instructions to clearly\n",
    "        # Format - Answer(provide total number):\n",
    "    ## flan-t5-xxl(8bit) decent performance, better with instruction I think, slight postprocessing needed\n",
    "        # Format - Answer:\n",
    "    \n",
    "    # Optional: Enable memory efficient attention\n",
    "    if hasattr(model.config, 'use_memory_efficient_attention'):\n",
    "        model.config.use_memory_efficient_attention = True\n",
    "    \n",
    "    tester = BenchmarkTester()\n",
    "    blip2_results = tester.evaluate_model(\n",
    "        \"blip2\",\n",
    "        model, \n",
    "        processor, \n",
    "        \"blip2-flan-t5-xxl_results.json\", \n",
    "        batch_size=50\n",
    "    )\n",
    "    # tester.save_results(\"blip2_results.json\")\n",
    "\n",
    "    if blip2_results is not None:\n",
    "        print(\"Initial test successful!\")\n",
    "    \n",
    "    # Clean up\n",
    "    del model, processor\n",
    "    torch.cuda.empty_cache()\n",
    "    gc.collect()"
   ]
  },
  {
   "cell_type": "markdown",
   "metadata": {},
   "source": [
    "## Run Evaluation\n",
    "\n",
    "Now we can run our evaluation. Let's start with the Fuyu model:"
   ]
  },
  {
   "cell_type": "code",
   "execution_count": null,
   "metadata": {
    "collapsed": true,
    "execution": {
     "iopub.execute_input": "2025-04-16T14:14:46.662203Z",
     "iopub.status.busy": "2025-04-16T14:14:46.661896Z",
     "iopub.status.idle": "2025-04-16T14:14:48.773339Z",
     "shell.execute_reply": "2025-04-16T14:14:48.772372Z",
     "shell.execute_reply.started": "2025-04-16T14:14:46.662181Z"
    },
    "jupyter": {
     "outputs_hidden": true
    },
    "trusted": true
   },
   "outputs": [],
   "source": [
    "# test_fuyu()"
   ]
  },
  {
   "cell_type": "markdown",
   "metadata": {},
   "source": [
    "And then the BLIP-2 model:"
   ]
  },
  {
   "cell_type": "code",
   "execution_count": null,
   "metadata": {
    "execution": {
     "iopub.execute_input": "2025-04-16T14:45:29.101479Z",
     "iopub.status.busy": "2025-04-16T14:45:29.101273Z",
     "iopub.status.idle": "2025-04-16T14:47:36.178423Z",
     "shell.execute_reply": "2025-04-16T14:47:36.177872Z",
     "shell.execute_reply.started": "2025-04-16T14:45:29.101451Z"
    },
    "trusted": true
   },
   "outputs": [],
   "source": [
    "test_blip2()"
   ]
  },
  {
   "cell_type": "code",
   "execution_count": null,
   "metadata": {
    "trusted": true
   },
   "outputs": [],
   "source": []
  }
 ],
 "metadata": {
  "kaggle": {
   "accelerator": "nvidiaTeslaT4",
   "dataSources": [
    {
     "datasetId": 7163706,
     "sourceId": 11436696,
     "sourceType": "datasetVersion"
    }
   ],
   "dockerImageVersionId": 31011,
   "isGpuEnabled": true,
   "isInternetEnabled": true,
   "language": "python",
   "sourceType": "notebook"
  },
  "kernelspec": {
   "display_name": "Python 3",
   "language": "python",
   "name": "python3"
  },
  "language_info": {
   "codemirror_mode": {
    "name": "ipython",
    "version": 3
   },
   "file_extension": ".py",
   "mimetype": "text/x-python",
   "name": "python",
   "nbconvert_exporter": "python",
   "pygments_lexer": "ipython3",
   "version": "3.11.11"
  }
 },
 "nbformat": 4,
 "nbformat_minor": 4
}
