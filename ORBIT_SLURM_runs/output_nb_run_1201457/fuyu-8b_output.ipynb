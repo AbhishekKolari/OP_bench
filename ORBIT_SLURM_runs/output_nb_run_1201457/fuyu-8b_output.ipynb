{
 "cells": [
  {
   "cell_type": "markdown",
   "id": "ace3431d",
   "metadata": {
    "papermill": {
     "duration": 0.012719,
     "end_time": "2025-07-28T20:32:40.117223",
     "exception": false,
     "start_time": "2025-07-28T20:32:40.104504",
     "status": "completed"
    },
    "tags": []
   },
   "source": [
    "# VLM Benchmark for Object Property Abstraction\n",
    "\n",
    "This notebook implements a benchmark for evaluating Vision Language Models (VLMs) on object property abstraction and visual question answering (VQA) tasks. The benchmark includes three types of questions:\n",
    "\n",
    "1. Direct Recognition\n",
    "2. Property Inference\n",
    "3. Counterfactual Reasoning\n",
    "\n",
    "And three types of images:\n",
    "- REAL\n",
    "- ANIMATED\n",
    "- AI GENERATED"
   ]
  },
  {
   "cell_type": "markdown",
   "id": "800c83e5",
   "metadata": {
    "papermill": {
     "duration": 0.004758,
     "end_time": "2025-07-28T20:32:40.127199",
     "exception": false,
     "start_time": "2025-07-28T20:32:40.122441",
     "status": "completed"
    },
    "tags": []
   },
   "source": [
    "## Setup and Imports\n",
    "\n",
    "First, let's import the necessary libraries and set up our environment."
   ]
  },
  {
   "cell_type": "code",
   "execution_count": 1,
   "id": "45187cbe",
   "metadata": {
    "execution": {
     "iopub.execute_input": "2025-07-28T20:32:40.137933Z",
     "iopub.status.busy": "2025-07-28T20:32:40.137239Z",
     "iopub.status.idle": "2025-07-28T20:32:41.936925Z",
     "shell.execute_reply": "2025-07-28T20:32:41.935989Z"
    },
    "papermill": {
     "duration": 1.806386,
     "end_time": "2025-07-28T20:32:41.938310",
     "exception": false,
     "start_time": "2025-07-28T20:32:40.131924",
     "status": "completed"
    },
    "tags": []
   },
   "outputs": [
    {
     "name": "stdout",
     "output_type": "stream",
     "text": [
      "Requirement already satisfied: transformers in /var/scratch/ave303/anaconda3/envs/op_bench/lib/python3.12/site-packages (4.51.1)\r\n",
      "Requirement already satisfied: torch in /var/scratch/ave303/anaconda3/envs/op_bench/lib/python3.12/site-packages (2.2.1)\r\n",
      "Requirement already satisfied: Pillow in /var/scratch/ave303/anaconda3/envs/op_bench/lib/python3.12/site-packages (10.3.0)\r\n",
      "Requirement already satisfied: tqdm in /var/scratch/ave303/anaconda3/envs/op_bench/lib/python3.12/site-packages (4.66.2)\r\n"
     ]
    },
    {
     "name": "stdout",
     "output_type": "stream",
     "text": [
      "Requirement already satisfied: filelock in /var/scratch/ave303/anaconda3/envs/op_bench/lib/python3.12/site-packages (from transformers) (3.18.0)\r\n",
      "Requirement already satisfied: huggingface-hub<1.0,>=0.30.0 in /var/scratch/ave303/anaconda3/envs/op_bench/lib/python3.12/site-packages (from transformers) (0.30.2)\r\n",
      "Requirement already satisfied: numpy>=1.17 in /var/scratch/ave303/anaconda3/envs/op_bench/lib/python3.12/site-packages (from transformers) (1.26.4)\r\n",
      "Requirement already satisfied: packaging>=20.0 in /var/scratch/ave303/anaconda3/envs/op_bench/lib/python3.12/site-packages (from transformers) (25.0)\r\n",
      "Requirement already satisfied: pyyaml>=5.1 in /var/scratch/ave303/anaconda3/envs/op_bench/lib/python3.12/site-packages (from transformers) (6.0.2)\r\n",
      "Requirement already satisfied: regex!=2019.12.17 in /var/scratch/ave303/anaconda3/envs/op_bench/lib/python3.12/site-packages (from transformers) (2024.11.6)\r\n",
      "Requirement already satisfied: requests in /var/scratch/ave303/anaconda3/envs/op_bench/lib/python3.12/site-packages (from transformers) (2.32.3)\r\n",
      "Requirement already satisfied: tokenizers<0.22,>=0.21 in /var/scratch/ave303/anaconda3/envs/op_bench/lib/python3.12/site-packages (from transformers) (0.21.1)\r\n",
      "Requirement already satisfied: safetensors>=0.4.3 in /var/scratch/ave303/anaconda3/envs/op_bench/lib/python3.12/site-packages (from transformers) (0.5.3)\r\n",
      "Requirement already satisfied: typing-extensions>=4.8.0 in /var/scratch/ave303/anaconda3/envs/op_bench/lib/python3.12/site-packages (from torch) (4.13.2)\r\n",
      "Requirement already satisfied: sympy in /var/scratch/ave303/anaconda3/envs/op_bench/lib/python3.12/site-packages (from torch) (1.14.0)\r\n",
      "Requirement already satisfied: networkx in /var/scratch/ave303/anaconda3/envs/op_bench/lib/python3.12/site-packages (from torch) (3.4.2)\r\n",
      "Requirement already satisfied: jinja2 in /var/scratch/ave303/anaconda3/envs/op_bench/lib/python3.12/site-packages (from torch) (3.1.6)\r\n",
      "Requirement already satisfied: fsspec in /var/scratch/ave303/anaconda3/envs/op_bench/lib/python3.12/site-packages (from torch) (2025.3.2)\r\n",
      "Requirement already satisfied: nvidia-cuda-nvrtc-cu12==12.1.105 in /var/scratch/ave303/anaconda3/envs/op_bench/lib/python3.12/site-packages (from torch) (12.1.105)\r\n",
      "Requirement already satisfied: nvidia-cuda-runtime-cu12==12.1.105 in /var/scratch/ave303/anaconda3/envs/op_bench/lib/python3.12/site-packages (from torch) (12.1.105)\r\n",
      "Requirement already satisfied: nvidia-cuda-cupti-cu12==12.1.105 in /var/scratch/ave303/anaconda3/envs/op_bench/lib/python3.12/site-packages (from torch) (12.1.105)\r\n"
     ]
    },
    {
     "name": "stdout",
     "output_type": "stream",
     "text": [
      "Requirement already satisfied: nvidia-cudnn-cu12==8.9.2.26 in /var/scratch/ave303/anaconda3/envs/op_bench/lib/python3.12/site-packages (from torch) (8.9.2.26)\r\n",
      "Requirement already satisfied: nvidia-cublas-cu12==12.1.3.1 in /var/scratch/ave303/anaconda3/envs/op_bench/lib/python3.12/site-packages (from torch) (12.1.3.1)\r\n",
      "Requirement already satisfied: nvidia-cufft-cu12==11.0.2.54 in /var/scratch/ave303/anaconda3/envs/op_bench/lib/python3.12/site-packages (from torch) (11.0.2.54)\r\n",
      "Requirement already satisfied: nvidia-curand-cu12==10.3.2.106 in /var/scratch/ave303/anaconda3/envs/op_bench/lib/python3.12/site-packages (from torch) (10.3.2.106)\r\n",
      "Requirement already satisfied: nvidia-cusolver-cu12==11.4.5.107 in /var/scratch/ave303/anaconda3/envs/op_bench/lib/python3.12/site-packages (from torch) (11.4.5.107)\r\n",
      "Requirement already satisfied: nvidia-cusparse-cu12==12.1.0.106 in /var/scratch/ave303/anaconda3/envs/op_bench/lib/python3.12/site-packages (from torch) (12.1.0.106)\r\n",
      "Requirement already satisfied: nvidia-nccl-cu12==2.19.3 in /var/scratch/ave303/anaconda3/envs/op_bench/lib/python3.12/site-packages (from torch) (2.19.3)\r\n",
      "Requirement already satisfied: nvidia-nvtx-cu12==12.1.105 in /var/scratch/ave303/anaconda3/envs/op_bench/lib/python3.12/site-packages (from torch) (12.1.105)\r\n",
      "Requirement already satisfied: nvidia-nvjitlink-cu12 in /var/scratch/ave303/anaconda3/envs/op_bench/lib/python3.12/site-packages (from nvidia-cusolver-cu12==11.4.5.107->torch) (12.8.93)\r\n"
     ]
    },
    {
     "name": "stdout",
     "output_type": "stream",
     "text": [
      "Requirement already satisfied: MarkupSafe>=2.0 in /var/scratch/ave303/anaconda3/envs/op_bench/lib/python3.12/site-packages (from jinja2->torch) (3.0.2)\r\n"
     ]
    },
    {
     "name": "stdout",
     "output_type": "stream",
     "text": [
      "Requirement already satisfied: charset-normalizer<4,>=2 in /var/scratch/ave303/anaconda3/envs/op_bench/lib/python3.12/site-packages (from requests->transformers) (3.4.1)\r\n",
      "Requirement already satisfied: idna<4,>=2.5 in /var/scratch/ave303/anaconda3/envs/op_bench/lib/python3.12/site-packages (from requests->transformers) (3.10)\r\n",
      "Requirement already satisfied: urllib3<3,>=1.21.1 in /var/scratch/ave303/anaconda3/envs/op_bench/lib/python3.12/site-packages (from requests->transformers) (2.4.0)\r\n",
      "Requirement already satisfied: certifi>=2017.4.17 in /var/scratch/ave303/anaconda3/envs/op_bench/lib/python3.12/site-packages (from requests->transformers) (2025.4.26)\r\n",
      "Requirement already satisfied: mpmath<1.4,>=1.1.0 in /var/scratch/ave303/anaconda3/envs/op_bench/lib/python3.12/site-packages (from sympy->torch) (1.3.0)\r\n"
     ]
    }
   ],
   "source": [
    "# Install required packages\n",
    "!pip install transformers torch Pillow tqdm"
   ]
  },
  {
   "cell_type": "code",
   "execution_count": 2,
   "id": "97733001",
   "metadata": {
    "execution": {
     "iopub.execute_input": "2025-07-28T20:32:41.954029Z",
     "iopub.status.busy": "2025-07-28T20:32:41.953754Z",
     "iopub.status.idle": "2025-07-28T20:32:45.576511Z",
     "shell.execute_reply": "2025-07-28T20:32:45.575569Z"
    },
    "papermill": {
     "duration": 3.630353,
     "end_time": "2025-07-28T20:32:45.577826",
     "exception": false,
     "start_time": "2025-07-28T20:32:41.947473",
     "status": "completed"
    },
    "tags": []
   },
   "outputs": [
    {
     "name": "stdout",
     "output_type": "stream",
     "text": [
      "Using device: cuda\n"
     ]
    }
   ],
   "source": [
    "# Import required libraries\n",
    "import torch\n",
    "import json\n",
    "from pathlib import Path\n",
    "from PIL import Image\n",
    "import gc\n",
    "import re\n",
    "from tqdm import tqdm\n",
    "import time\n",
    "from typing import List, Dict, Any\n",
    "\n",
    "# Check if CUDA is available\n",
    "device = torch.device('cuda' if torch.cuda.is_available() else 'cpu')\n",
    "print(f\"Using device: {device}\")"
   ]
  },
  {
   "cell_type": "markdown",
   "id": "2918838f",
   "metadata": {
    "papermill": {
     "duration": 0.005363,
     "end_time": "2025-07-28T20:32:45.595220",
     "exception": false,
     "start_time": "2025-07-28T20:32:45.589857",
     "status": "completed"
    },
    "tags": []
   },
   "source": [
    "## Benchmark Tester Class\n",
    "\n",
    "This class handles the evaluation of models against our benchmark."
   ]
  },
  {
   "cell_type": "code",
   "execution_count": 3,
   "id": "6b4e8e57",
   "metadata": {
    "execution": {
     "iopub.execute_input": "2025-07-28T20:32:45.607491Z",
     "iopub.status.busy": "2025-07-28T20:32:45.607115Z",
     "iopub.status.idle": "2025-07-28T20:32:45.617726Z",
     "shell.execute_reply": "2025-07-28T20:32:45.616985Z"
    },
    "papermill": {
     "duration": 0.018247,
     "end_time": "2025-07-28T20:32:45.618887",
     "exception": false,
     "start_time": "2025-07-28T20:32:45.600640",
     "status": "completed"
    },
    "tags": []
   },
   "outputs": [],
   "source": [
    "# class BenchmarkTester:\n",
    "#     def __init__(self, benchmark_path=\"/var/scratch/ave303/OP_bench/benchmark.json\", data_dir=\"/var/scratch/ave303/OP_bench/\"):\n",
    "#         self.device = \"cuda\" if torch.cuda.is_available() else \"cpu\"\n",
    "#         with open(benchmark_path, 'r') as f:\n",
    "#             self.benchmark = json.load(f)\n",
    "#         self.data_dir = data_dir\n",
    "    \n",
    "#     def format_question(self, question, model_name):\n",
    "#         \"\"\"Format a question for the model.\"\"\"\n",
    "\n",
    "#         if model_name==\"blip2\":\n",
    "#             return f\"Question: {question['question']} Provide only the total number. Answer:\" #Provide just the total count and the list of objects in the given format \\n Format: number [objects] Answer: \"\n",
    "#         else:\n",
    "#             return f\"Question: {question['question']} Answer(total number):\"\n",
    "\n",
    "#     def clean_answer(self, answer):\n",
    "#         \"\"\"Clean the model output to extract just the number.\"\"\"\n",
    "#         # Remove any text that's not a number\n",
    "#         # import re\n",
    "#         # numbers = re.findall(r'\\d+', answer)\n",
    "#         # if numbers:\n",
    "#         #     return numbers[0]  # Return the first number found\n",
    "#         # return answer\n",
    "#         \"\"\"Extract number and reasoning from the model's answer.\"\"\"\n",
    "#         # Try to extract number and reasoning using regex\n",
    "#         import re\n",
    "#         pattern = r'(\\d+)\\s*\\[(.*?)\\]'\n",
    "#         match = re.search(pattern, answer)\n",
    "        \n",
    "#         if match:\n",
    "#             number = match.group(1)\n",
    "#             objects = [obj.strip() for obj in match.group(2).split(',')]\n",
    "#             return {\n",
    "#                 \"count\": number,\n",
    "#                 \"reasoning\": objects\n",
    "#             }\n",
    "#         else:\n",
    "#             # Fallback if format isn't matched\n",
    "#             numbers = re.findall(r'\\d+', answer)\n",
    "#             return {\n",
    "#                 \"count\": numbers[0] if numbers else \"0\",\n",
    "#                 \"reasoning\": []\n",
    "#             }\n",
    "\n",
    "#     def model_generation(self, model_name, model, inputs, processor):\n",
    "#         \"\"\"Generate answer and decode.\"\"\"\n",
    "#         outputs = None  # Initialize outputs to None\n",
    "        \n",
    "#         if model_name==\"blip2\":\n",
    "#             outputs = model.generate(**inputs)\n",
    "#             answer = processor.batch_decode(outputs, skip_special_tokens=True)[0].strip()\n",
    "            \n",
    "#         elif model_name==\"fuyu-8b\":\n",
    "#             outputs = model.generate(\n",
    "#                 **inputs,\n",
    "#                 max_new_tokens=30,  # Increased from 10 to 200\n",
    "#                 pad_token_id=processor.tokenizer.eos_token_id\n",
    "#             )\n",
    "#             answer = processor.batch_decode(outputs[:, -30:], skip_special_tokens=True)[0]\n",
    "#         else:\n",
    "#             print(f\"Warning: Unknown model name '{model_name}' in model_generation.\")\n",
    "#             answer = \"\"  # Return an empty string\n",
    "\n",
    "#         return answer, outputs\n",
    "    \n",
    "#     def evaluate_model(self, model_name, model, processor, save_path, start_idx=0, batch_size=5):\n",
    "#         results = []\n",
    "#         print(f\"\\nEvaluating {model_name}...\")\n",
    "#         print(f\"Using device: {self.device}\")\n",
    "        \n",
    "#         # Force garbage collection before starting\n",
    "#         gc.collect()\n",
    "#         torch.cuda.empty_cache()\n",
    "\n",
    "#         try:\n",
    "#             images = self.benchmark['benchmark']['images'][start_idx:start_idx + batch_size]\n",
    "#             total_images = len(images)\n",
    "            \n",
    "#             for idx, image_data in enumerate(tqdm(images, desc=\"Processing images\")):\n",
    "#                 try:\n",
    "#                     print(f\"\\nProcessing image {idx+1}/{total_images}: {image_data['image_id']}\")\n",
    "#                     image_path = Path(self.data_dir)/image_data['path']\n",
    "#                     if not image_path.exists():\n",
    "#                         print(f\"Warning: Image not found at {image_path}\")\n",
    "#                         continue\n",
    "                    \n",
    "#                     # Load and preprocess image\n",
    "#                     image = Image.open(image_path).convert(\"RGB\")\n",
    "#                     image_results = []  # Store results for current image\n",
    "                    \n",
    "#                     for question in image_data['questions']:\n",
    "#                         try:\n",
    "#                             prompt = self.format_question(question, model_name)\n",
    "#                             print(f\"Question: {question['question']}\")\n",
    "                            \n",
    "#                             # Clear cache before processing each question\n",
    "#                             torch.cuda.empty_cache()\n",
    "                            \n",
    "#                             # Process image and text\n",
    "#                             inputs = processor(images=image, text=prompt, return_tensors=\"pt\").to(self.device)\n",
    "                            \n",
    "#                             # Generate answer with better settings\n",
    "#                             with torch.no_grad():\n",
    "#                                 answer, outputs = self.model_generation(model_name, model, inputs, processor)    #call for model.generate\n",
    "                                \n",
    "#                             cleaned_answer = self.clean_answer(answer)\n",
    "                            \n",
    "#                             image_results.append({\n",
    "#                                 \"image_id\": image_data[\"image_id\"],\n",
    "#                                 \"image_type\": image_data[\"image_type\"],\n",
    "#                                 \"question_id\": question[\"id\"],\n",
    "#                                 \"question\": question[\"question\"],\n",
    "#                                 \"ground_truth\": question[\"answer\"],\n",
    "#                                 \"model_answer\": cleaned_answer[\"count\"],\n",
    "#                                 \"model_reasoning\": cleaned_answer[\"reasoning\"],\n",
    "#                                 \"raw_answer\": answer,  # Keep raw answer for debugging\n",
    "#                                 \"property_category\": question[\"property_category\"]\n",
    "#                             })\n",
    "                            \n",
    "#                             # Clear memory\n",
    "#                             del outputs, inputs\n",
    "#                             torch.cuda.empty_cache()\n",
    "                            \n",
    "#                         except Exception as e:\n",
    "#                             print(f\"Error processing question: {str(e)}\")\n",
    "#                             continue\n",
    "                    \n",
    "#                     # Add results from this image\n",
    "#                     results.extend(image_results)\n",
    "                    \n",
    "#                     # Save intermediate results only every 2 images or if it's the last image\n",
    "#                     if (idx + 1) % 2 == 0 or idx == total_images - 1:\n",
    "#                         with open(f\"{save_path}_checkpoint.json\", 'w') as f:\n",
    "#                             json.dump(results, f, indent=4)\n",
    "                            \n",
    "#                 except Exception as e:\n",
    "#                     print(f\"Error processing image {image_data['image_id']}: {str(e)}\")\n",
    "#                     continue\n",
    "            \n",
    "#             # Save final results\n",
    "#             if results:\n",
    "#                 with open(save_path, 'w') as f:\n",
    "#                     json.dump(results, f, indent=4)\n",
    "            \n",
    "#         except Exception as e:\n",
    "#             print(f\"An error occurred during evaluation: {str(e)}\")\n",
    "#             if results:\n",
    "#                 with open(f\"{save_path}_error_state.json\", 'w') as f:\n",
    "#                     json.dump(results, f, indent=4)\n",
    "        \n",
    "#         return results"
   ]
  },
  {
   "cell_type": "code",
   "execution_count": 4,
   "id": "341ec27c",
   "metadata": {
    "execution": {
     "iopub.execute_input": "2025-07-28T20:32:45.630945Z",
     "iopub.status.busy": "2025-07-28T20:32:45.630701Z",
     "iopub.status.idle": "2025-07-28T20:32:45.662350Z",
     "shell.execute_reply": "2025-07-28T20:32:45.661631Z"
    },
    "papermill": {
     "duration": 0.039179,
     "end_time": "2025-07-28T20:32:45.663458",
     "exception": false,
     "start_time": "2025-07-28T20:32:45.624279",
     "status": "completed"
    },
    "tags": []
   },
   "outputs": [],
   "source": [
    "class BenchmarkTester:\n",
    "    def __init__(self, benchmark_path=\"/var/scratch/ave303/OP_bench/benchmark.json\", data_dir=\"/var/scratch/ave303/OP_bench/\"):\n",
    "        self.device = \"cuda\" if torch.cuda.is_available() else \"cpu\"\n",
    "        with open(benchmark_path, 'r') as f:\n",
    "            self.benchmark = json.load(f)\n",
    "        self.data_dir = data_dir\n",
    "    \n",
    "    def format_question(self, question, model_name):\n",
    "        \"\"\"Format a question for the model.\"\"\"\n",
    "        if model_name==\"blip2\":\n",
    "            return f\"Question: {question['question']} Provide only the total number. Answer:\"\n",
    "        else:\n",
    "            return f\"Question: {question['question']} Answer(total number):\"\n",
    "\n",
    "    def clean_answer(self, answer):\n",
    "        \"\"\"Extract number and reasoning from the model's answer.\"\"\"\n",
    "        # Try to extract number and reasoning using regex\n",
    "        import re\n",
    "        pattern = r'(\\d+)\\s*\\[(.*?)\\]'\n",
    "        match = re.search(pattern, answer)\n",
    "        \n",
    "        if match:\n",
    "            number = match.group(1)\n",
    "            objects = [obj.strip() for obj in match.group(2).split(',')]\n",
    "            return {\n",
    "                \"count\": number,\n",
    "                \"reasoning\": objects\n",
    "            }\n",
    "        else:\n",
    "            # Fallback if format isn't matched\n",
    "            numbers = re.findall(r'\\d+', answer)\n",
    "            return {\n",
    "                \"count\": numbers[0] if numbers else \"0\",\n",
    "                \"reasoning\": []\n",
    "            }\n",
    "\n",
    "    def model_generation(self, model_name, model, inputs, processor):\n",
    "        \"\"\"Generate answer and decode with greedy decoding.\"\"\"\n",
    "        outputs = None  # Initialize outputs to None\n",
    "        \n",
    "        if model_name==\"blip2\":\n",
    "            # Explicit greedy decoding parameters for BLIP2\n",
    "            outputs = model.generate(\n",
    "                **inputs,\n",
    "                max_new_tokens=50,\n",
    "                do_sample=False,          # Disable sampling for greedy decoding\n",
    "                temperature=None,         # Not used in greedy decoding\n",
    "                top_p=None,              # Not used in greedy decoding  \n",
    "                top_k=None,              # Not used in greedy decoding\n",
    "                num_beams=1,             # Single beam for greedy decoding\n",
    "                early_stopping=False,    # Let it generate until max_tokens or EOS\n",
    "            )\n",
    "            answer = processor.batch_decode(outputs, skip_special_tokens=True)[0].strip()\n",
    "            \n",
    "        elif model_name==\"fuyu-8b\":\n",
    "            # Explicit greedy decoding parameters for Fuyu-8B\n",
    "            outputs = model.generate(\n",
    "                **inputs,\n",
    "                max_new_tokens=30,\n",
    "                do_sample=False,          # Disable sampling for greedy decoding\n",
    "                temperature=None,         # Not used in greedy decoding\n",
    "                top_p=None,              # Not used in greedy decoding  \n",
    "                top_k=None,              # Not used in greedy decoding\n",
    "                num_beams=1,             # Single beam for greedy decoding\n",
    "                early_stopping=False,    # Let it generate until max_tokens or EOS\n",
    "                pad_token_id=processor.tokenizer.eos_token_id\n",
    "            )\n",
    "            answer = processor.batch_decode(outputs[:, -30:], skip_special_tokens=True)[0]\n",
    "        else:\n",
    "            print(f\"Warning: Unknown model name '{model_name}' in model_generation.\")\n",
    "            answer = \"\"  # Return an empty string\n",
    "\n",
    "        return answer, outputs\n",
    "    \n",
    "    def evaluate_model(self, model_name, model, processor, save_path, start_idx=0, batch_size=5):\n",
    "        results = []\n",
    "        \n",
    "        # Initialize tracking variables\n",
    "        successful_images = []\n",
    "        failed_images = []\n",
    "        total_questions_processed = 0\n",
    "        total_questions_failed = 0\n",
    "        \n",
    "        print(f\"\\nEvaluating {model_name}...\")\n",
    "        print(f\"Using device: {self.device}\")\n",
    "        \n",
    "        # Force garbage collection before starting\n",
    "        gc.collect()\n",
    "        torch.cuda.empty_cache()\n",
    "\n",
    "        try:\n",
    "            images = self.benchmark['benchmark']['images'][start_idx:start_idx + batch_size]\n",
    "            total_images = len(images)\n",
    "            \n",
    "            for idx, image_data in enumerate(tqdm(images, desc=\"Processing images\")):\n",
    "                image_start_time = time.time()\n",
    "                current_image_questions_failed = 0\n",
    "                current_image_questions_total = 0\n",
    "                \n",
    "                try:\n",
    "                    image_path = Path(self.data_dir)/image_data['path']\n",
    "                    if not image_path.exists():\n",
    "                        failed_images.append({\n",
    "                            'image_id': image_data['image_id'],\n",
    "                            'image_type': image_data.get('image_type', 'unknown'),\n",
    "                            'error_type': 'file_not_found',\n",
    "                            'error_message': f'Image not found at {image_path}'\n",
    "                        })\n",
    "                        continue\n",
    "                    \n",
    "                    # Load and preprocess image\n",
    "                    image = Image.open(image_path).convert(\"RGB\")\n",
    "                    image_results = []  # Store results for current image\n",
    "                    \n",
    "                    for question_idx, question in enumerate(image_data['questions']):\n",
    "                        current_image_questions_total += 1\n",
    "                        total_questions_processed += 1\n",
    "                        \n",
    "                        try:\n",
    "                            prompt = self.format_question(question, model_name)\n",
    "                            \n",
    "                            # Clear cache before processing each question\n",
    "                            torch.cuda.empty_cache()\n",
    "                            \n",
    "                            # Process image and text\n",
    "                            inputs = processor(images=image, text=prompt, return_tensors=\"pt\").to(self.device)\n",
    "                            \n",
    "                            # Generate answer with greedy decoding\n",
    "                            with torch.no_grad():\n",
    "                                answer, outputs = self.model_generation(model_name, model, inputs, processor)\n",
    "                                \n",
    "                            cleaned_answer = self.clean_answer(answer)\n",
    "                            \n",
    "                            image_results.append({\n",
    "                                \"image_id\": image_data[\"image_id\"],\n",
    "                                \"image_type\": image_data.get(\"image_type\", \"unknown\"),\n",
    "                                \"question_id\": question[\"id\"],\n",
    "                                \"question\": question[\"question\"],\n",
    "                                \"ground_truth\": question[\"answer\"],\n",
    "                                \"model_answer\": cleaned_answer[\"count\"],\n",
    "                                \"model_reasoning\": cleaned_answer[\"reasoning\"],\n",
    "                                \"raw_answer\": answer,  # Keep raw answer for debugging\n",
    "                                \"property_category\": question[\"property_category\"]\n",
    "                            })\n",
    "                            \n",
    "                            # Clear memory\n",
    "                            del outputs, inputs\n",
    "                            torch.cuda.empty_cache()\n",
    "                            \n",
    "                        except Exception as e:\n",
    "                            current_image_questions_failed += 1\n",
    "                            total_questions_failed += 1\n",
    "                            continue\n",
    "                    \n",
    "                    # Add results from this image\n",
    "                    results.extend(image_results)\n",
    "                    \n",
    "                    # Calculate success rate for this image\n",
    "                    questions_succeeded = current_image_questions_total - current_image_questions_failed\n",
    "                    \n",
    "                    if current_image_questions_failed == 0:\n",
    "                        # All questions succeeded\n",
    "                        successful_images.append({\n",
    "                            'image_id': image_data['image_id'],\n",
    "                            'image_type': image_data.get('image_type', 'unknown'),\n",
    "                            'questions_total': current_image_questions_total,\n",
    "                            'questions_succeeded': questions_succeeded,\n",
    "                            'processing_time': time.time() - image_start_time\n",
    "                        })\n",
    "                    else:\n",
    "                        # Some questions failed\n",
    "                        image_success_rate = (questions_succeeded / current_image_questions_total * 100) if current_image_questions_total > 0 else 0\n",
    "                        failed_images.append({\n",
    "                            'image_id': image_data['image_id'],\n",
    "                            'image_type': image_data.get('image_type', 'unknown'),\n",
    "                            'error_type': 'partial_failure',\n",
    "                            'questions_total': current_image_questions_total,\n",
    "                            'questions_failed': current_image_questions_failed,\n",
    "                            'questions_succeeded': questions_succeeded,\n",
    "                            'success_rate': f\"{image_success_rate:.1f}%\"\n",
    "                        })\n",
    "                    \n",
    "                    # Save intermediate results only every 2 images or if it's the last image\n",
    "                    if (idx + 1) % 2 == 0 or idx == total_images - 1:\n",
    "                        checkpoint_path = f\"{save_path}_checkpoint.json\"\n",
    "                        with open(checkpoint_path, 'w') as f:\n",
    "                            json.dump(results, f, indent=4)\n",
    "                            \n",
    "                except Exception as e:\n",
    "                    failed_images.append({\n",
    "                        'image_id': image_data['image_id'],\n",
    "                        'image_type': image_data.get('image_type', 'unknown'),\n",
    "                        'error_type': 'complete_failure',\n",
    "                        'error_message': str(e)\n",
    "                    })\n",
    "                    continue\n",
    "            \n",
    "            # Save final results\n",
    "            if results:\n",
    "                with open(save_path, 'w') as f:\n",
    "                    json.dump(results, f, indent=4)\n",
    "            \n",
    "        except Exception as e:\n",
    "            if results:\n",
    "                error_save_path = f\"{save_path}_error_state.json\"\n",
    "                with open(error_save_path, 'w') as f:\n",
    "                    json.dump(results, f, indent=4)\n",
    "        \n",
    "        # Print comprehensive summary\n",
    "        self._print_evaluation_summary(\n",
    "            model_name, total_images, successful_images, failed_images, \n",
    "            total_questions_processed, total_questions_failed, len(results)\n",
    "        )\n",
    "        \n",
    "        return results\n",
    "    \n",
    "    def _print_evaluation_summary(self, model_name, total_images, successful_images, \n",
    "                                failed_images, total_questions_processed, total_questions_failed, total_results):\n",
    "        \"\"\"Print a comprehensive evaluation summary.\"\"\"\n",
    "        print(f\"\\n{'='*60}\")\n",
    "        print(f\"EVALUATION SUMMARY FOR {model_name.upper()}\")\n",
    "        print(f\"{'='*60}\")\n",
    "        \n",
    "        # Image-level statistics\n",
    "        num_successful = len(successful_images)\n",
    "        num_failed = len(failed_images)\n",
    "        \n",
    "        print(f\"📊 IMAGE PROCESSING SUMMARY:\")\n",
    "        print(f\"   Total images attempted: {total_images}\")\n",
    "        print(f\"   Successfully processed: {num_successful} ({num_successful/total_images*100:.1f}%)\")\n",
    "        print(f\"   Failed images: {num_failed} ({num_failed/total_images*100:.1f}%)\")\n",
    "        \n",
    "        # Question-level statistics\n",
    "        questions_succeeded = total_questions_processed - total_questions_failed\n",
    "        print(f\"\\n📝 QUESTION PROCESSING SUMMARY:\")\n",
    "        print(f\"   Total questions attempted: {total_questions_processed}\")\n",
    "        print(f\"   Successfully processed: {questions_succeeded} ({questions_succeeded/total_questions_processed*100:.1f}%)\")\n",
    "        print(f\"   Failed questions: {total_questions_failed} ({total_questions_failed/total_questions_processed*100:.1f}%)\")\n",
    "        print(f\"   Results saved: {total_results}\")\n",
    "        \n",
    "        # Successful images details\n",
    "        if successful_images:\n",
    "            print(f\"\\n✅ SUCCESSFUL IMAGES ({len(successful_images)}):\")\n",
    "            for img in successful_images:\n",
    "                print(f\"   • {img['image_id']} (Type: {img['image_type']}, \"\n",
    "                      f\"Questions: {img['questions_succeeded']}/{img['questions_total']}, \"\n",
    "                      f\"Time: {img['processing_time']:.1f}s)\")\n",
    "        \n",
    "        # Failed images details\n",
    "        if failed_images:\n",
    "            print(f\"\\n❌ FAILED/PROBLEMATIC IMAGES ({len(failed_images)}):\")\n",
    "            for img in failed_images:\n",
    "                if img['error_type'] == 'complete_failure':\n",
    "                    print(f\"   • {img['image_id']} (Type: {img['image_type']}) - \"\n",
    "                          f\"COMPLETE FAILURE: {img.get('error_message', 'Unknown error')}\")\n",
    "                elif img['error_type'] == 'partial_failure':\n",
    "                    print(f\"   • {img['image_id']} (Type: {img['image_type']}) - \"\n",
    "                          f\"PARTIAL: {img['questions_failed']}/{img['questions_total']} failed \"\n",
    "                          f\"({img['success_rate']} success)\")\n",
    "                elif img['error_type'] == 'file_not_found':\n",
    "                    print(f\"   • {img['image_id']} (Type: {img['image_type']}) - \"\n",
    "                          f\"FILE NOT FOUND: {img['error_message']}\")\n",
    "        \n",
    "        # Group failed images by type\n",
    "        if failed_images:\n",
    "            print(f\"\\n📈 FAILURE ANALYSIS BY IMAGE TYPE:\")\n",
    "            from collections import defaultdict\n",
    "            failures_by_type = defaultdict(list)\n",
    "            for img in failed_images:\n",
    "                failures_by_type[img['image_type']].append(img)\n",
    "            \n",
    "            for img_type, failures in failures_by_type.items():\n",
    "                print(f\"   • {img_type}: {len(failures)} failed images\")\n",
    "                for failure in failures:\n",
    "                    print(f\"     - {failure['image_id']} ({failure['error_type']})\")\n",
    "        \n",
    "        print(f\"{'='*60}\\n\")"
   ]
  },
  {
   "cell_type": "markdown",
   "id": "3c575f74",
   "metadata": {
    "papermill": {
     "duration": 0.005543,
     "end_time": "2025-07-28T20:32:45.674690",
     "exception": false,
     "start_time": "2025-07-28T20:32:45.669147",
     "status": "completed"
    },
    "tags": []
   },
   "source": [
    "## Test Fuyu Model\n",
    "\n",
    "Let's evaluate the Fuyu-8b model on our benchmark."
   ]
  },
  {
   "cell_type": "code",
   "execution_count": 5,
   "id": "2ff48e61",
   "metadata": {
    "execution": {
     "iopub.execute_input": "2025-07-28T20:32:45.686086Z",
     "iopub.status.busy": "2025-07-28T20:32:45.685845Z",
     "iopub.status.idle": "2025-07-28T20:32:45.691201Z",
     "shell.execute_reply": "2025-07-28T20:32:45.690562Z"
    },
    "papermill": {
     "duration": 0.012432,
     "end_time": "2025-07-28T20:32:45.692328",
     "exception": false,
     "start_time": "2025-07-28T20:32:45.679896",
     "status": "completed"
    },
    "tags": []
   },
   "outputs": [],
   "source": [
    "def test_fuyu():\n",
    "    #from transformers import AutoModelForCausalLM, AutoTokenizer\n",
    "    from transformers import FuyuProcessor, FuyuForCausalLM\n",
    "    \n",
    "    print(\"Loading Fuyu-8b model...\")\n",
    "    model = FuyuForCausalLM.from_pretrained(\n",
    "        \"/var/scratch/ave303/models/fuyu-8b\",\n",
    "        # load_in_8bit=True,\n",
    "        torch_dtype=torch.float16,\n",
    "        device_map=\"auto\",\n",
    "        low_cpu_mem_usage=True\n",
    "    ).eval()\n",
    "    processor = FuyuProcessor.from_pretrained(\"/var/scratch/ave303/models/fuyu-8b\")\n",
    "\n",
    "    ## fuyu-8b is very slow and average performance\n",
    "\n",
    "    # Optional: Enable memory efficient attention\n",
    "    if hasattr(model.config, 'use_memory_efficient_attention'):\n",
    "        model.config.use_memory_efficient_attention = True\n",
    "        \n",
    "    tester = BenchmarkTester()\n",
    "    fuyu_results = tester.evaluate_model(\n",
    "        \"fuyu-8b\",\n",
    "        model, \n",
    "        processor, \n",
    "        \"fuyu_8b_results.json\", \n",
    "        batch_size=360\n",
    "    )\n",
    "    # tester.save_results(\"fuyu_results.json\")\n",
    "\n",
    "    if fuyu_results is not None:\n",
    "        print(\"Initial test successful!\")\n",
    "    \n",
    "    # Clean up\n",
    "    del model, processor\n",
    "    torch.cuda.empty_cache()\n",
    "    gc.collect()"
   ]
  },
  {
   "cell_type": "markdown",
   "id": "f715fca3",
   "metadata": {
    "papermill": {
     "duration": 0.005304,
     "end_time": "2025-07-28T20:32:45.703274",
     "exception": false,
     "start_time": "2025-07-28T20:32:45.697970",
     "status": "completed"
    },
    "tags": []
   },
   "source": [
    "## Test BLIP-2 Model\n",
    "\n",
    "Now let's evaluate the blip2 model."
   ]
  },
  {
   "cell_type": "code",
   "execution_count": 6,
   "id": "52899aca",
   "metadata": {
    "execution": {
     "iopub.execute_input": "2025-07-28T20:32:45.714596Z",
     "iopub.status.busy": "2025-07-28T20:32:45.714354Z",
     "iopub.status.idle": "2025-07-28T20:32:45.720023Z",
     "shell.execute_reply": "2025-07-28T20:32:45.719387Z"
    },
    "papermill": {
     "duration": 0.01268,
     "end_time": "2025-07-28T20:32:45.721151",
     "exception": false,
     "start_time": "2025-07-28T20:32:45.708471",
     "status": "completed"
    },
    "tags": []
   },
   "outputs": [],
   "source": [
    "def test_blip2():\n",
    "    from transformers import Blip2Processor, Blip2ForConditionalGeneration\n",
    "    \n",
    "    print(\"Loading BLIP-2 model...\")\n",
    "    model = Blip2ForConditionalGeneration.from_pretrained(\n",
    "        \"/var/scratch/ave303/models/blip2flan-t5-xxl\",\n",
    "        # load_in_8bit=True,\n",
    "        torch_dtype=torch.float16,\n",
    "        device_map=\"auto\",\n",
    "        # temperature=0.8,\n",
    "        low_cpu_mem_usage=True\n",
    "    ).eval()\n",
    "    processor = Blip2Processor.from_pretrained(\"/var/scratch/ave303/models/blip2flan-t5-xxl\")\n",
    "\n",
    "    ## opt-2.7b average performance, better instruction following \n",
    "        # Format - Answer(total number):\n",
    "    ## opt-6.7b(8bit) better performance with atleast answering, not well-instruction tuned, but provides number for answers\n",
    "        # Format - Answer(total number):\n",
    "    ## flan-t5-xl does fine but needs a lot of post processing, does not follow instructions to clearly\n",
    "        # Format - Answer(provide total number):\n",
    "    ## flan-t5-xxl(8bit) decent performance, better with instruction I think, slight postprocessing needed\n",
    "        # Format - Answer:\n",
    "    \n",
    "    # Optional: Enable memory efficient attention\n",
    "    if hasattr(model.config, 'use_memory_efficient_attention'):\n",
    "        model.config.use_memory_efficient_attention = True\n",
    "    \n",
    "    tester = BenchmarkTester()\n",
    "    blip2_results = tester.evaluate_model(\n",
    "        \"blip2\",\n",
    "        model, \n",
    "        processor, \n",
    "        \"blip2-flan-t5-xxl_results.json\", \n",
    "        batch_size=50\n",
    "    )\n",
    "    # tester.save_results(\"blip2_results.json\")\n",
    "\n",
    "    if blip2_results is not None:\n",
    "        print(\"Initial test successful!\")\n",
    "    \n",
    "    # Clean up\n",
    "    del model, processor\n",
    "    torch.cuda.empty_cache()\n",
    "    gc.collect()"
   ]
  },
  {
   "cell_type": "markdown",
   "id": "0ed49076",
   "metadata": {
    "papermill": {
     "duration": 0.005372,
     "end_time": "2025-07-28T20:32:45.731928",
     "exception": false,
     "start_time": "2025-07-28T20:32:45.726556",
     "status": "completed"
    },
    "tags": []
   },
   "source": [
    "## Run Evaluation\n",
    "\n",
    "Now we can run our evaluation. Let's start with the Fuyu model:"
   ]
  },
  {
   "cell_type": "code",
   "execution_count": 7,
   "id": "7c1e5058",
   "metadata": {
    "collapsed": true,
    "execution": {
     "iopub.execute_input": "2025-07-28T20:32:45.743324Z",
     "iopub.status.busy": "2025-07-28T20:32:45.743013Z",
     "iopub.status.idle": "2025-07-28T20:51:59.822600Z",
     "shell.execute_reply": "2025-07-28T20:51:59.821708Z"
    },
    "jupyter": {
     "outputs_hidden": true
    },
    "papermill": {
     "duration": 1154.086767,
     "end_time": "2025-07-28T20:51:59.823899",
     "exception": false,
     "start_time": "2025-07-28T20:32:45.737132",
     "status": "completed"
    },
    "tags": []
   },
   "outputs": [
    {
     "name": "stderr",
     "output_type": "stream",
     "text": [
      "/var/scratch/ave303/anaconda3/envs/op_bench/lib/python3.12/site-packages/tqdm/auto.py:21: TqdmWarning: IProgress not found. Please update jupyter and ipywidgets. See https://ipywidgets.readthedocs.io/en/stable/user_install.html\n",
      "  from .autonotebook import tqdm as notebook_tqdm\n"
     ]
    },
    {
     "name": "stdout",
     "output_type": "stream",
     "text": [
      "Loading Fuyu-8b model...\n"
     ]
    },
    {
     "name": "stderr",
     "output_type": "stream",
     "text": [
      "\r\n",
      "Loading checkpoint shards:   0%|          | 0/8 [00:00<?, ?it/s]"
     ]
    },
    {
     "name": "stderr",
     "output_type": "stream",
     "text": [
      "\r\n",
      "Loading checkpoint shards:  12%|█▎        | 1/8 [00:04<00:32,  4.66s/it]"
     ]
    },
    {
     "name": "stderr",
     "output_type": "stream",
     "text": [
      "\r\n",
      "Loading checkpoint shards:  25%|██▌       | 2/8 [00:09<00:28,  4.67s/it]"
     ]
    },
    {
     "name": "stderr",
     "output_type": "stream",
     "text": [
      "\r\n",
      "Loading checkpoint shards:  38%|███▊      | 3/8 [00:14<00:23,  4.74s/it]"
     ]
    },
    {
     "name": "stderr",
     "output_type": "stream",
     "text": [
      "\r\n",
      "Loading checkpoint shards:  50%|█████     | 4/8 [00:19<00:19,  4.83s/it]"
     ]
    },
    {
     "name": "stderr",
     "output_type": "stream",
     "text": [
      "\r\n",
      "Loading checkpoint shards:  62%|██████▎   | 5/8 [00:23<00:14,  4.82s/it]"
     ]
    },
    {
     "name": "stderr",
     "output_type": "stream",
     "text": [
      "\r\n",
      "Loading checkpoint shards:  75%|███████▌  | 6/8 [00:28<00:09,  4.80s/it]"
     ]
    },
    {
     "name": "stderr",
     "output_type": "stream",
     "text": [
      "\r\n",
      "Loading checkpoint shards:  88%|████████▊ | 7/8 [00:32<00:04,  4.64s/it]"
     ]
    },
    {
     "name": "stderr",
     "output_type": "stream",
     "text": [
      "\r\n",
      "Loading checkpoint shards: 100%|██████████| 8/8 [00:37<00:00,  4.57s/it]"
     ]
    },
    {
     "name": "stderr",
     "output_type": "stream",
     "text": [
      "\r\n",
      "Loading checkpoint shards: 100%|██████████| 8/8 [00:37<00:00,  4.68s/it]"
     ]
    },
    {
     "name": "stderr",
     "output_type": "stream",
     "text": [
      "\n"
     ]
    },
    {
     "name": "stdout",
     "output_type": "stream",
     "text": [
      "\n",
      "Evaluating fuyu-8b...\n",
      "Using device: cuda\n"
     ]
    },
    {
     "name": "stderr",
     "output_type": "stream",
     "text": [
      "\r\n",
      "Processing images:   0%|          | 0/360 [00:00<?, ?it/s]"
     ]
    },
    {
     "name": "stderr",
     "output_type": "stream",
     "text": [
      "We detected that you are passing `past_key_values` as a tuple of tuples. This is deprecated and will be removed in v4.47. Please convert your cache or use an appropriate `Cache` class (https://huggingface.co/docs/transformers/kv_cache#legacy-cache-format)\n"
     ]
    },
    {
     "name": "stderr",
     "output_type": "stream",
     "text": [
      "\r\n",
      "Processing images:   0%|          | 1/360 [00:05<32:45,  5.47s/it]"
     ]
    },
    {
     "name": "stderr",
     "output_type": "stream",
     "text": [
      "\r\n",
      "Processing images:   1%|          | 2/360 [00:07<21:18,  3.57s/it]"
     ]
    },
    {
     "name": "stderr",
     "output_type": "stream",
     "text": [
      "\r\n",
      "Processing images:   1%|          | 3/360 [00:10<20:27,  3.44s/it]"
     ]
    },
    {
     "name": "stderr",
     "output_type": "stream",
     "text": [
      "\r\n",
      "Processing images:   1%|          | 4/360 [00:12<16:53,  2.85s/it]"
     ]
    },
    {
     "name": "stderr",
     "output_type": "stream",
     "text": [
      "\r\n",
      "Processing images:   1%|▏         | 5/360 [00:16<19:24,  3.28s/it]"
     ]
    },
    {
     "name": "stderr",
     "output_type": "stream",
     "text": [
      "\r\n",
      "Processing images:   2%|▏         | 6/360 [00:20<20:12,  3.43s/it]"
     ]
    },
    {
     "name": "stderr",
     "output_type": "stream",
     "text": [
      "\r\n",
      "Processing images:   2%|▏         | 7/360 [00:22<17:07,  2.91s/it]"
     ]
    },
    {
     "name": "stderr",
     "output_type": "stream",
     "text": [
      "\r\n",
      "Processing images:   2%|▏         | 8/360 [00:24<15:06,  2.57s/it]"
     ]
    },
    {
     "name": "stderr",
     "output_type": "stream",
     "text": [
      "\r\n",
      "Processing images:   2%|▎         | 9/360 [00:26<13:45,  2.35s/it]"
     ]
    },
    {
     "name": "stderr",
     "output_type": "stream",
     "text": [
      "\r\n",
      "Processing images:   3%|▎         | 10/360 [00:28<12:58,  2.22s/it]"
     ]
    },
    {
     "name": "stderr",
     "output_type": "stream",
     "text": [
      "\r\n",
      "Processing images:   3%|▎         | 11/360 [00:31<15:05,  2.60s/it]"
     ]
    },
    {
     "name": "stderr",
     "output_type": "stream",
     "text": [
      "\r\n",
      "Processing images:   3%|▎         | 12/360 [00:33<14:33,  2.51s/it]"
     ]
    },
    {
     "name": "stderr",
     "output_type": "stream",
     "text": [
      "\r\n",
      "Processing images:   4%|▎         | 13/360 [00:35<13:13,  2.29s/it]"
     ]
    },
    {
     "name": "stderr",
     "output_type": "stream",
     "text": [
      "\r\n",
      "Processing images:   4%|▍         | 14/360 [00:37<13:09,  2.28s/it]"
     ]
    },
    {
     "name": "stderr",
     "output_type": "stream",
     "text": [
      "\r\n",
      "Processing images:   4%|▍         | 15/360 [00:42<16:06,  2.80s/it]"
     ]
    },
    {
     "name": "stderr",
     "output_type": "stream",
     "text": [
      "\r\n",
      "Processing images:   4%|▍         | 16/360 [00:44<15:26,  2.69s/it]"
     ]
    },
    {
     "name": "stderr",
     "output_type": "stream",
     "text": [
      "\r\n",
      "Processing images:   5%|▍         | 17/360 [00:46<13:56,  2.44s/it]"
     ]
    },
    {
     "name": "stderr",
     "output_type": "stream",
     "text": [
      "\r\n",
      "Processing images:   5%|▌         | 18/360 [00:48<13:08,  2.31s/it]"
     ]
    },
    {
     "name": "stderr",
     "output_type": "stream",
     "text": [
      "\r\n",
      "Processing images:   5%|▌         | 19/360 [00:50<13:06,  2.31s/it]"
     ]
    },
    {
     "name": "stderr",
     "output_type": "stream",
     "text": [
      "\r\n",
      "Processing images:   6%|▌         | 20/360 [00:54<15:48,  2.79s/it]"
     ]
    },
    {
     "name": "stderr",
     "output_type": "stream",
     "text": [
      "\r\n",
      "Processing images:   6%|▌         | 21/360 [00:56<14:54,  2.64s/it]"
     ]
    },
    {
     "name": "stderr",
     "output_type": "stream",
     "text": [
      "\r\n",
      "Processing images:   6%|▌         | 22/360 [00:59<15:44,  2.79s/it]"
     ]
    },
    {
     "name": "stderr",
     "output_type": "stream",
     "text": [
      "\r\n",
      "Processing images:   6%|▋         | 23/360 [01:03<16:16,  2.90s/it]"
     ]
    },
    {
     "name": "stderr",
     "output_type": "stream",
     "text": [
      "\r\n",
      "Processing images:   7%|▋         | 24/360 [01:05<15:07,  2.70s/it]"
     ]
    },
    {
     "name": "stderr",
     "output_type": "stream",
     "text": [
      "\r\n",
      "Processing images:   7%|▋         | 25/360 [01:07<13:44,  2.46s/it]"
     ]
    },
    {
     "name": "stderr",
     "output_type": "stream",
     "text": [
      "\r\n",
      "Processing images:   7%|▋         | 26/360 [01:09<13:18,  2.39s/it]"
     ]
    },
    {
     "name": "stderr",
     "output_type": "stream",
     "text": [
      "\r\n",
      "Processing images:   8%|▊         | 27/360 [01:11<12:53,  2.32s/it]"
     ]
    },
    {
     "name": "stderr",
     "output_type": "stream",
     "text": [
      "\r\n",
      "Processing images:   8%|▊         | 28/360 [01:13<12:07,  2.19s/it]"
     ]
    },
    {
     "name": "stderr",
     "output_type": "stream",
     "text": [
      "\r\n",
      "Processing images:   8%|▊         | 29/360 [01:15<11:25,  2.07s/it]"
     ]
    },
    {
     "name": "stderr",
     "output_type": "stream",
     "text": [
      "\r\n",
      "Processing images:   8%|▊         | 30/360 [01:17<12:03,  2.19s/it]"
     ]
    },
    {
     "name": "stderr",
     "output_type": "stream",
     "text": [
      "\r\n",
      "Processing images:   9%|▊         | 31/360 [01:20<12:38,  2.30s/it]"
     ]
    },
    {
     "name": "stderr",
     "output_type": "stream",
     "text": [
      "\r\n",
      "Processing images:   9%|▉         | 32/360 [01:22<12:22,  2.26s/it]"
     ]
    },
    {
     "name": "stderr",
     "output_type": "stream",
     "text": [
      "\r\n",
      "Processing images:   9%|▉         | 33/360 [01:25<13:18,  2.44s/it]"
     ]
    },
    {
     "name": "stderr",
     "output_type": "stream",
     "text": [
      "\r\n",
      "Processing images:   9%|▉         | 34/360 [01:27<12:21,  2.27s/it]"
     ]
    },
    {
     "name": "stderr",
     "output_type": "stream",
     "text": [
      "\r\n",
      "Processing images:  10%|▉         | 35/360 [01:29<12:11,  2.25s/it]"
     ]
    },
    {
     "name": "stderr",
     "output_type": "stream",
     "text": [
      "\r\n",
      "Processing images:  10%|█         | 36/360 [01:31<11:40,  2.16s/it]"
     ]
    },
    {
     "name": "stderr",
     "output_type": "stream",
     "text": [
      "\r\n",
      "Processing images:  10%|█         | 37/360 [01:34<12:20,  2.29s/it]"
     ]
    },
    {
     "name": "stderr",
     "output_type": "stream",
     "text": [
      "\r\n",
      "Processing images:  11%|█         | 38/360 [01:37<14:17,  2.66s/it]"
     ]
    },
    {
     "name": "stderr",
     "output_type": "stream",
     "text": [
      "\r\n",
      "Processing images:  11%|█         | 39/360 [01:39<13:55,  2.60s/it]"
     ]
    },
    {
     "name": "stderr",
     "output_type": "stream",
     "text": [
      "\r\n",
      "Processing images:  11%|█         | 40/360 [01:43<15:20,  2.88s/it]"
     ]
    },
    {
     "name": "stderr",
     "output_type": "stream",
     "text": [
      "\r\n",
      "Processing images:  11%|█▏        | 41/360 [01:45<13:50,  2.60s/it]"
     ]
    },
    {
     "name": "stderr",
     "output_type": "stream",
     "text": [
      "\r\n",
      "Processing images:  12%|█▏        | 42/360 [01:48<14:18,  2.70s/it]"
     ]
    },
    {
     "name": "stderr",
     "output_type": "stream",
     "text": [
      "\r\n",
      "Processing images:  12%|█▏        | 43/360 [01:51<14:06,  2.67s/it]"
     ]
    },
    {
     "name": "stderr",
     "output_type": "stream",
     "text": [
      "\r\n",
      "Processing images:  12%|█▏        | 44/360 [01:53<13:50,  2.63s/it]"
     ]
    },
    {
     "name": "stderr",
     "output_type": "stream",
     "text": [
      "\r\n",
      "Processing images:  12%|█▎        | 45/360 [01:57<15:30,  2.95s/it]"
     ]
    },
    {
     "name": "stderr",
     "output_type": "stream",
     "text": [
      "\r\n",
      "Processing images:  13%|█▎        | 46/360 [01:59<14:29,  2.77s/it]"
     ]
    },
    {
     "name": "stderr",
     "output_type": "stream",
     "text": [
      "\r\n",
      "Processing images:  13%|█▎        | 47/360 [02:02<13:55,  2.67s/it]"
     ]
    },
    {
     "name": "stderr",
     "output_type": "stream",
     "text": [
      "\r\n",
      "Processing images:  13%|█▎        | 48/360 [02:04<12:57,  2.49s/it]"
     ]
    },
    {
     "name": "stderr",
     "output_type": "stream",
     "text": [
      "\r\n",
      "Processing images:  14%|█▎        | 49/360 [02:07<13:33,  2.62s/it]"
     ]
    },
    {
     "name": "stderr",
     "output_type": "stream",
     "text": [
      "\r\n",
      "Processing images:  14%|█▍        | 50/360 [02:11<15:49,  3.06s/it]"
     ]
    },
    {
     "name": "stderr",
     "output_type": "stream",
     "text": [
      "\r\n",
      "Processing images:  14%|█▍        | 51/360 [02:15<17:22,  3.37s/it]"
     ]
    },
    {
     "name": "stderr",
     "output_type": "stream",
     "text": [
      "\r\n",
      "Processing images:  14%|█▍        | 52/360 [02:17<15:36,  3.04s/it]"
     ]
    },
    {
     "name": "stderr",
     "output_type": "stream",
     "text": [
      "\r\n",
      "Processing images:  15%|█▍        | 53/360 [02:21<16:34,  3.24s/it]"
     ]
    },
    {
     "name": "stderr",
     "output_type": "stream",
     "text": [
      "\r\n",
      "Processing images:  15%|█▌        | 54/360 [02:24<15:55,  3.12s/it]"
     ]
    },
    {
     "name": "stderr",
     "output_type": "stream",
     "text": [
      "\r\n",
      "Processing images:  15%|█▌        | 55/360 [02:28<18:26,  3.63s/it]"
     ]
    },
    {
     "name": "stderr",
     "output_type": "stream",
     "text": [
      "\r\n",
      "Processing images:  16%|█▌        | 56/360 [02:31<17:33,  3.47s/it]"
     ]
    },
    {
     "name": "stderr",
     "output_type": "stream",
     "text": [
      "\r\n",
      "Processing images:  16%|█▌        | 57/360 [02:36<18:35,  3.68s/it]"
     ]
    },
    {
     "name": "stderr",
     "output_type": "stream",
     "text": [
      "\r\n",
      "Processing images:  16%|█▌        | 58/360 [02:39<18:35,  3.69s/it]"
     ]
    },
    {
     "name": "stderr",
     "output_type": "stream",
     "text": [
      "\r\n",
      "Processing images:  16%|█▋        | 59/360 [02:43<18:01,  3.59s/it]"
     ]
    },
    {
     "name": "stderr",
     "output_type": "stream",
     "text": [
      "\r\n",
      "Processing images:  17%|█▋        | 60/360 [02:46<18:15,  3.65s/it]"
     ]
    },
    {
     "name": "stderr",
     "output_type": "stream",
     "text": [
      "\r\n",
      "Processing images:  17%|█▋        | 61/360 [02:51<18:57,  3.80s/it]"
     ]
    },
    {
     "name": "stderr",
     "output_type": "stream",
     "text": [
      "\r\n",
      "Processing images:  17%|█▋        | 62/360 [02:55<19:16,  3.88s/it]"
     ]
    },
    {
     "name": "stderr",
     "output_type": "stream",
     "text": [
      "\r\n",
      "Processing images:  18%|█▊        | 63/360 [02:59<19:32,  3.95s/it]"
     ]
    },
    {
     "name": "stderr",
     "output_type": "stream",
     "text": [
      "\r\n",
      "Processing images:  18%|█▊        | 64/360 [03:01<17:36,  3.57s/it]"
     ]
    },
    {
     "name": "stderr",
     "output_type": "stream",
     "text": [
      "\r\n",
      "Processing images:  18%|█▊        | 65/360 [03:04<15:42,  3.19s/it]"
     ]
    },
    {
     "name": "stderr",
     "output_type": "stream",
     "text": [
      "\r\n",
      "Processing images:  18%|█▊        | 66/360 [03:06<14:52,  3.03s/it]"
     ]
    },
    {
     "name": "stderr",
     "output_type": "stream",
     "text": [
      "\r\n",
      "Processing images:  19%|█▊        | 67/360 [03:11<16:22,  3.35s/it]"
     ]
    },
    {
     "name": "stderr",
     "output_type": "stream",
     "text": [
      "\r\n",
      "Processing images:  19%|█▉        | 68/360 [03:15<17:27,  3.59s/it]"
     ]
    },
    {
     "name": "stderr",
     "output_type": "stream",
     "text": [
      "\r\n",
      "Processing images:  19%|█▉        | 69/360 [03:19<18:10,  3.75s/it]"
     ]
    },
    {
     "name": "stderr",
     "output_type": "stream",
     "text": [
      "\r\n",
      "Processing images:  19%|█▉        | 70/360 [03:23<18:46,  3.88s/it]"
     ]
    },
    {
     "name": "stderr",
     "output_type": "stream",
     "text": [
      "\r\n",
      "Processing images:  20%|█▉        | 71/360 [03:26<16:53,  3.51s/it]"
     ]
    },
    {
     "name": "stderr",
     "output_type": "stream",
     "text": [
      "\r\n",
      "Processing images:  20%|██        | 72/360 [03:31<19:36,  4.09s/it]"
     ]
    },
    {
     "name": "stderr",
     "output_type": "stream",
     "text": [
      "\r\n",
      "Processing images:  20%|██        | 73/360 [03:35<19:39,  4.11s/it]"
     ]
    },
    {
     "name": "stderr",
     "output_type": "stream",
     "text": [
      "\r\n",
      "Processing images:  21%|██        | 74/360 [03:40<21:01,  4.41s/it]"
     ]
    },
    {
     "name": "stderr",
     "output_type": "stream",
     "text": [
      "\r\n",
      "Processing images:  21%|██        | 75/360 [03:44<19:35,  4.12s/it]"
     ]
    },
    {
     "name": "stderr",
     "output_type": "stream",
     "text": [
      "\r\n",
      "Processing images:  21%|██        | 76/360 [03:48<19:30,  4.12s/it]"
     ]
    },
    {
     "name": "stderr",
     "output_type": "stream",
     "text": [
      "\r\n",
      "Processing images:  21%|██▏       | 77/360 [03:50<16:26,  3.49s/it]"
     ]
    },
    {
     "name": "stderr",
     "output_type": "stream",
     "text": [
      "\r\n",
      "Processing images:  22%|██▏       | 78/360 [03:54<17:19,  3.69s/it]"
     ]
    },
    {
     "name": "stderr",
     "output_type": "stream",
     "text": [
      "\r\n",
      "Processing images:  22%|██▏       | 79/360 [03:58<17:50,  3.81s/it]"
     ]
    },
    {
     "name": "stderr",
     "output_type": "stream",
     "text": [
      "\r\n",
      "Processing images:  22%|██▏       | 80/360 [04:03<18:36,  3.99s/it]"
     ]
    },
    {
     "name": "stderr",
     "output_type": "stream",
     "text": [
      "\r\n",
      "Processing images:  22%|██▎       | 81/360 [04:07<18:41,  4.02s/it]"
     ]
    },
    {
     "name": "stderr",
     "output_type": "stream",
     "text": [
      "\r\n",
      "Processing images:  23%|██▎       | 82/360 [04:10<17:01,  3.67s/it]"
     ]
    },
    {
     "name": "stderr",
     "output_type": "stream",
     "text": [
      "\r\n",
      "Processing images:  23%|██▎       | 83/360 [04:12<14:38,  3.17s/it]"
     ]
    },
    {
     "name": "stderr",
     "output_type": "stream",
     "text": [
      "\r\n",
      "Processing images:  23%|██▎       | 84/360 [04:15<15:35,  3.39s/it]"
     ]
    },
    {
     "name": "stderr",
     "output_type": "stream",
     "text": [
      "\r\n",
      "Processing images:  24%|██▎       | 85/360 [04:18<14:25,  3.15s/it]"
     ]
    },
    {
     "name": "stderr",
     "output_type": "stream",
     "text": [
      "\r\n",
      "Processing images:  24%|██▍       | 86/360 [04:20<13:13,  2.90s/it]"
     ]
    },
    {
     "name": "stderr",
     "output_type": "stream",
     "text": [
      "\r\n",
      "Processing images:  24%|██▍       | 87/360 [04:24<14:51,  3.26s/it]"
     ]
    },
    {
     "name": "stderr",
     "output_type": "stream",
     "text": [
      "\r\n",
      "Processing images:  24%|██▍       | 88/360 [04:29<15:59,  3.53s/it]"
     ]
    },
    {
     "name": "stderr",
     "output_type": "stream",
     "text": [
      "\r\n",
      "Processing images:  25%|██▍       | 89/360 [04:31<14:43,  3.26s/it]"
     ]
    },
    {
     "name": "stderr",
     "output_type": "stream",
     "text": [
      "\r\n",
      "Processing images:  25%|██▌       | 90/360 [04:34<14:01,  3.12s/it]"
     ]
    },
    {
     "name": "stderr",
     "output_type": "stream",
     "text": [
      "\r\n",
      "Processing images:  25%|██▌       | 91/360 [04:37<13:16,  2.96s/it]"
     ]
    },
    {
     "name": "stderr",
     "output_type": "stream",
     "text": [
      "\r\n",
      "Processing images:  26%|██▌       | 92/360 [04:42<16:15,  3.64s/it]"
     ]
    },
    {
     "name": "stderr",
     "output_type": "stream",
     "text": [
      "\r\n",
      "Processing images:  26%|██▌       | 93/360 [04:46<16:49,  3.78s/it]"
     ]
    },
    {
     "name": "stderr",
     "output_type": "stream",
     "text": [
      "\r\n",
      "Processing images:  26%|██▌       | 94/360 [04:50<17:08,  3.87s/it]"
     ]
    },
    {
     "name": "stderr",
     "output_type": "stream",
     "text": [
      "\r\n",
      "Processing images:  26%|██▋       | 95/360 [04:54<17:22,  3.93s/it]"
     ]
    },
    {
     "name": "stderr",
     "output_type": "stream",
     "text": [
      "\r\n",
      "Processing images:  27%|██▋       | 96/360 [04:57<15:48,  3.59s/it]"
     ]
    },
    {
     "name": "stderr",
     "output_type": "stream",
     "text": [
      "\r\n",
      "Processing images:  27%|██▋       | 97/360 [05:00<14:35,  3.33s/it]"
     ]
    },
    {
     "name": "stderr",
     "output_type": "stream",
     "text": [
      "\r\n",
      "Processing images:  27%|██▋       | 98/360 [05:04<15:33,  3.56s/it]"
     ]
    },
    {
     "name": "stderr",
     "output_type": "stream",
     "text": [
      "\r\n",
      "Processing images:  28%|██▊       | 99/360 [05:07<14:32,  3.34s/it]"
     ]
    },
    {
     "name": "stderr",
     "output_type": "stream",
     "text": [
      "\r\n",
      "Processing images:  28%|██▊       | 100/360 [05:11<15:25,  3.56s/it]"
     ]
    },
    {
     "name": "stderr",
     "output_type": "stream",
     "text": [
      "\r\n",
      "Processing images:  28%|██▊       | 101/360 [05:15<16:03,  3.72s/it]"
     ]
    },
    {
     "name": "stderr",
     "output_type": "stream",
     "text": [
      "\r\n",
      "Processing images:  28%|██▊       | 102/360 [05:19<16:03,  3.74s/it]"
     ]
    },
    {
     "name": "stderr",
     "output_type": "stream",
     "text": [
      "\r\n",
      "Processing images:  29%|██▊       | 103/360 [05:23<16:23,  3.83s/it]"
     ]
    },
    {
     "name": "stderr",
     "output_type": "stream",
     "text": [
      "\r\n",
      "Processing images:  29%|██▉       | 104/360 [05:27<16:37,  3.90s/it]"
     ]
    },
    {
     "name": "stderr",
     "output_type": "stream",
     "text": [
      "\r\n",
      "Processing images:  29%|██▉       | 105/360 [05:30<15:29,  3.64s/it]"
     ]
    },
    {
     "name": "stderr",
     "output_type": "stream",
     "text": [
      "\r\n",
      "Processing images:  29%|██▉       | 106/360 [05:32<14:21,  3.39s/it]"
     ]
    },
    {
     "name": "stderr",
     "output_type": "stream",
     "text": [
      "\r\n",
      "Processing images:  30%|██▉       | 107/360 [05:36<15:06,  3.58s/it]"
     ]
    },
    {
     "name": "stderr",
     "output_type": "stream",
     "text": [
      "\r\n",
      "Processing images:  30%|███       | 108/360 [05:39<13:53,  3.31s/it]"
     ]
    },
    {
     "name": "stderr",
     "output_type": "stream",
     "text": [
      "\r\n",
      "Processing images:  30%|███       | 109/360 [05:42<12:58,  3.10s/it]"
     ]
    },
    {
     "name": "stderr",
     "output_type": "stream",
     "text": [
      "\r\n",
      "Processing images:  31%|███       | 110/360 [05:44<12:22,  2.97s/it]"
     ]
    },
    {
     "name": "stderr",
     "output_type": "stream",
     "text": [
      "\r\n",
      "Processing images:  31%|███       | 111/360 [05:47<11:54,  2.87s/it]"
     ]
    },
    {
     "name": "stderr",
     "output_type": "stream",
     "text": [
      "\r\n",
      "Processing images:  31%|███       | 112/360 [05:51<13:41,  3.31s/it]"
     ]
    },
    {
     "name": "stderr",
     "output_type": "stream",
     "text": [
      "\r\n",
      "Processing images:  31%|███▏      | 113/360 [05:53<11:59,  2.91s/it]"
     ]
    },
    {
     "name": "stderr",
     "output_type": "stream",
     "text": [
      "\r\n",
      "Processing images:  32%|███▏      | 114/360 [05:58<14:02,  3.42s/it]"
     ]
    },
    {
     "name": "stderr",
     "output_type": "stream",
     "text": [
      "\r\n",
      "Processing images:  32%|███▏      | 115/360 [06:02<14:20,  3.51s/it]"
     ]
    },
    {
     "name": "stderr",
     "output_type": "stream",
     "text": [
      "\r\n",
      "Processing images:  32%|███▏      | 116/360 [06:04<13:13,  3.25s/it]"
     ]
    },
    {
     "name": "stderr",
     "output_type": "stream",
     "text": [
      "\r\n",
      "Processing images:  32%|███▎      | 117/360 [06:09<14:52,  3.67s/it]"
     ]
    },
    {
     "name": "stderr",
     "output_type": "stream",
     "text": [
      "\r\n",
      "Processing images:  33%|███▎      | 118/360 [06:13<15:22,  3.81s/it]"
     ]
    },
    {
     "name": "stderr",
     "output_type": "stream",
     "text": [
      "\r\n",
      "Processing images:  33%|███▎      | 119/360 [06:18<16:19,  4.06s/it]"
     ]
    },
    {
     "name": "stderr",
     "output_type": "stream",
     "text": [
      "\r\n",
      "Processing images:  33%|███▎      | 120/360 [06:22<16:18,  4.08s/it]"
     ]
    },
    {
     "name": "stderr",
     "output_type": "stream",
     "text": [
      "\r\n",
      "Processing images:  34%|███▎      | 121/360 [06:24<13:32,  3.40s/it]"
     ]
    },
    {
     "name": "stderr",
     "output_type": "stream",
     "text": [
      "\r\n",
      "Processing images:  34%|███▍      | 122/360 [06:26<11:36,  2.93s/it]"
     ]
    },
    {
     "name": "stderr",
     "output_type": "stream",
     "text": [
      "\r\n",
      "Processing images:  34%|███▍      | 123/360 [06:28<10:48,  2.74s/it]"
     ]
    },
    {
     "name": "stderr",
     "output_type": "stream",
     "text": [
      "\r\n",
      "Processing images:  34%|███▍      | 124/360 [06:31<11:12,  2.85s/it]"
     ]
    },
    {
     "name": "stderr",
     "output_type": "stream",
     "text": [
      "\r\n",
      "Processing images:  35%|███▍      | 125/360 [06:33<10:28,  2.67s/it]"
     ]
    },
    {
     "name": "stderr",
     "output_type": "stream",
     "text": [
      "\r\n",
      "Processing images:  35%|███▌      | 126/360 [06:36<10:00,  2.57s/it]"
     ]
    },
    {
     "name": "stderr",
     "output_type": "stream",
     "text": [
      "\r\n",
      "Processing images:  35%|███▌      | 127/360 [06:38<09:38,  2.48s/it]"
     ]
    },
    {
     "name": "stderr",
     "output_type": "stream",
     "text": [
      "\r\n",
      "Processing images:  36%|███▌      | 128/360 [06:41<10:14,  2.65s/it]"
     ]
    },
    {
     "name": "stderr",
     "output_type": "stream",
     "text": [
      "\r\n",
      "Processing images:  36%|███▌      | 129/360 [06:43<10:02,  2.61s/it]"
     ]
    },
    {
     "name": "stderr",
     "output_type": "stream",
     "text": [
      "\r\n",
      "Processing images:  36%|███▌      | 130/360 [06:47<11:40,  3.05s/it]"
     ]
    },
    {
     "name": "stderr",
     "output_type": "stream",
     "text": [
      "\r\n",
      "Processing images:  36%|███▋      | 131/360 [06:51<12:28,  3.27s/it]"
     ]
    },
    {
     "name": "stderr",
     "output_type": "stream",
     "text": [
      "\r\n",
      "Processing images:  37%|███▋      | 132/360 [06:54<12:13,  3.22s/it]"
     ]
    },
    {
     "name": "stderr",
     "output_type": "stream",
     "text": [
      "\r\n",
      "Processing images:  37%|███▋      | 133/360 [06:58<13:00,  3.44s/it]"
     ]
    },
    {
     "name": "stderr",
     "output_type": "stream",
     "text": [
      "\r\n",
      "Processing images:  37%|███▋      | 134/360 [07:00<11:23,  3.03s/it]"
     ]
    },
    {
     "name": "stderr",
     "output_type": "stream",
     "text": [
      "\r\n",
      "Processing images:  38%|███▊      | 135/360 [07:05<12:39,  3.37s/it]"
     ]
    },
    {
     "name": "stderr",
     "output_type": "stream",
     "text": [
      "\r\n",
      "Processing images:  38%|███▊      | 136/360 [07:09<13:33,  3.63s/it]"
     ]
    },
    {
     "name": "stderr",
     "output_type": "stream",
     "text": [
      "\r\n",
      "Processing images:  38%|███▊      | 137/360 [07:12<13:33,  3.65s/it]"
     ]
    },
    {
     "name": "stderr",
     "output_type": "stream",
     "text": [
      "\r\n",
      "Processing images:  38%|███▊      | 138/360 [07:15<12:13,  3.30s/it]"
     ]
    },
    {
     "name": "stderr",
     "output_type": "stream",
     "text": [
      "\r\n",
      "Processing images:  39%|███▊      | 139/360 [07:17<11:02,  3.00s/it]"
     ]
    },
    {
     "name": "stderr",
     "output_type": "stream",
     "text": [
      "\r\n",
      "Processing images:  39%|███▉      | 140/360 [07:20<11:05,  3.03s/it]"
     ]
    },
    {
     "name": "stderr",
     "output_type": "stream",
     "text": [
      "\r\n",
      "Processing images:  39%|███▉      | 141/360 [07:25<12:19,  3.38s/it]"
     ]
    },
    {
     "name": "stderr",
     "output_type": "stream",
     "text": [
      "\r\n",
      "Processing images:  39%|███▉      | 142/360 [07:28<12:09,  3.35s/it]"
     ]
    },
    {
     "name": "stderr",
     "output_type": "stream",
     "text": [
      "\r\n",
      "Processing images:  40%|███▉      | 143/360 [07:31<12:06,  3.35s/it]"
     ]
    },
    {
     "name": "stderr",
     "output_type": "stream",
     "text": [
      "\r\n",
      "Processing images:  40%|████      | 144/360 [07:33<10:49,  3.00s/it]"
     ]
    },
    {
     "name": "stderr",
     "output_type": "stream",
     "text": [
      "\r\n",
      "Processing images:  40%|████      | 145/360 [07:36<09:53,  2.76s/it]"
     ]
    },
    {
     "name": "stderr",
     "output_type": "stream",
     "text": [
      "\r\n",
      "Processing images:  41%|████      | 146/360 [07:38<09:14,  2.59s/it]"
     ]
    },
    {
     "name": "stderr",
     "output_type": "stream",
     "text": [
      "\r\n",
      "Processing images:  41%|████      | 147/360 [07:40<08:46,  2.47s/it]"
     ]
    },
    {
     "name": "stderr",
     "output_type": "stream",
     "text": [
      "\r\n",
      "Processing images:  41%|████      | 148/360 [07:42<08:27,  2.39s/it]"
     ]
    },
    {
     "name": "stderr",
     "output_type": "stream",
     "text": [
      "\r\n",
      "Processing images:  41%|████▏     | 149/360 [07:44<08:12,  2.34s/it]"
     ]
    },
    {
     "name": "stderr",
     "output_type": "stream",
     "text": [
      "\r\n",
      "Processing images:  42%|████▏     | 150/360 [07:46<07:49,  2.24s/it]"
     ]
    },
    {
     "name": "stderr",
     "output_type": "stream",
     "text": [
      "\r\n",
      "Processing images:  42%|████▏     | 151/360 [07:49<07:44,  2.22s/it]"
     ]
    },
    {
     "name": "stderr",
     "output_type": "stream",
     "text": [
      "\r\n",
      "Processing images:  42%|████▏     | 152/360 [07:51<07:41,  2.22s/it]"
     ]
    },
    {
     "name": "stderr",
     "output_type": "stream",
     "text": [
      "\r\n",
      "Processing images:  42%|████▎     | 153/360 [07:53<07:37,  2.21s/it]"
     ]
    },
    {
     "name": "stderr",
     "output_type": "stream",
     "text": [
      "\r\n",
      "Processing images:  43%|████▎     | 154/360 [07:55<07:35,  2.21s/it]"
     ]
    },
    {
     "name": "stderr",
     "output_type": "stream",
     "text": [
      "\r\n",
      "Processing images:  43%|████▎     | 155/360 [07:57<07:32,  2.21s/it]"
     ]
    },
    {
     "name": "stderr",
     "output_type": "stream",
     "text": [
      "\r\n",
      "Processing images:  43%|████▎     | 156/360 [08:00<08:02,  2.36s/it]"
     ]
    },
    {
     "name": "stderr",
     "output_type": "stream",
     "text": [
      "\r\n",
      "Processing images:  44%|████▎     | 157/360 [08:02<07:49,  2.31s/it]"
     ]
    },
    {
     "name": "stderr",
     "output_type": "stream",
     "text": [
      "\r\n",
      "Processing images:  44%|████▍     | 158/360 [08:05<07:41,  2.28s/it]"
     ]
    },
    {
     "name": "stderr",
     "output_type": "stream",
     "text": [
      "\r\n",
      "Processing images:  44%|████▍     | 159/360 [08:07<07:33,  2.26s/it]"
     ]
    },
    {
     "name": "stderr",
     "output_type": "stream",
     "text": [
      "\r\n",
      "Processing images:  44%|████▍     | 160/360 [08:09<07:28,  2.24s/it]"
     ]
    },
    {
     "name": "stderr",
     "output_type": "stream",
     "text": [
      "\r\n",
      "Processing images:  45%|████▍     | 161/360 [08:13<09:18,  2.81s/it]"
     ]
    },
    {
     "name": "stderr",
     "output_type": "stream",
     "text": [
      "\r\n",
      "Processing images:  45%|████▌     | 162/360 [08:17<10:38,  3.22s/it]"
     ]
    },
    {
     "name": "stderr",
     "output_type": "stream",
     "text": [
      "\r\n",
      "Processing images:  45%|████▌     | 163/360 [08:21<10:39,  3.24s/it]"
     ]
    },
    {
     "name": "stderr",
     "output_type": "stream",
     "text": [
      "\r\n",
      "Processing images:  46%|████▌     | 164/360 [08:26<12:24,  3.80s/it]"
     ]
    },
    {
     "name": "stderr",
     "output_type": "stream",
     "text": [
      "\r\n",
      "Processing images:  46%|████▌     | 165/360 [08:31<13:33,  4.17s/it]"
     ]
    },
    {
     "name": "stderr",
     "output_type": "stream",
     "text": [
      "\r\n",
      "Processing images:  46%|████▌     | 166/360 [08:34<13:02,  4.03s/it]"
     ]
    },
    {
     "name": "stderr",
     "output_type": "stream",
     "text": [
      "\r\n",
      "Processing images:  46%|████▋     | 167/360 [08:39<13:08,  4.09s/it]"
     ]
    },
    {
     "name": "stderr",
     "output_type": "stream",
     "text": [
      "\r\n",
      "Processing images:  47%|████▋     | 168/360 [08:43<13:09,  4.11s/it]"
     ]
    },
    {
     "name": "stderr",
     "output_type": "stream",
     "text": [
      "\r\n",
      "Processing images:  47%|████▋     | 169/360 [08:47<13:09,  4.13s/it]"
     ]
    },
    {
     "name": "stderr",
     "output_type": "stream",
     "text": [
      "\r\n",
      "Processing images:  47%|████▋     | 170/360 [08:50<12:06,  3.83s/it]"
     ]
    },
    {
     "name": "stderr",
     "output_type": "stream",
     "text": [
      "\r\n",
      "Processing images:  48%|████▊     | 171/360 [08:54<11:55,  3.79s/it]"
     ]
    },
    {
     "name": "stderr",
     "output_type": "stream",
     "text": [
      "\r\n",
      "Processing images:  48%|████▊     | 172/360 [08:59<12:55,  4.12s/it]"
     ]
    },
    {
     "name": "stderr",
     "output_type": "stream",
     "text": [
      "\r\n",
      "Processing images:  48%|████▊     | 173/360 [09:03<12:56,  4.15s/it]"
     ]
    },
    {
     "name": "stderr",
     "output_type": "stream",
     "text": [
      "\r\n",
      "Processing images:  48%|████▊     | 174/360 [09:05<11:04,  3.57s/it]"
     ]
    },
    {
     "name": "stderr",
     "output_type": "stream",
     "text": [
      "\r\n",
      "Processing images:  49%|████▊     | 175/360 [09:07<09:25,  3.06s/it]"
     ]
    },
    {
     "name": "stderr",
     "output_type": "stream",
     "text": [
      "\r\n",
      "Processing images:  49%|████▉     | 176/360 [09:09<08:18,  2.71s/it]"
     ]
    },
    {
     "name": "stderr",
     "output_type": "stream",
     "text": [
      "\r\n",
      "Processing images:  49%|████▉     | 177/360 [09:11<07:29,  2.45s/it]"
     ]
    },
    {
     "name": "stderr",
     "output_type": "stream",
     "text": [
      "\r\n",
      "Processing images:  49%|████▉     | 178/360 [09:14<08:20,  2.75s/it]"
     ]
    },
    {
     "name": "stderr",
     "output_type": "stream",
     "text": [
      "\r\n",
      "Processing images:  50%|████▉     | 179/360 [09:18<08:54,  2.95s/it]"
     ]
    },
    {
     "name": "stderr",
     "output_type": "stream",
     "text": [
      "\r\n",
      "Processing images:  50%|█████     | 180/360 [09:20<08:03,  2.69s/it]"
     ]
    },
    {
     "name": "stderr",
     "output_type": "stream",
     "text": [
      "\r\n",
      "Processing images:  50%|█████     | 181/360 [09:23<08:10,  2.74s/it]"
     ]
    },
    {
     "name": "stderr",
     "output_type": "stream",
     "text": [
      "\r\n",
      "Processing images:  51%|█████     | 182/360 [09:26<09:07,  3.08s/it]"
     ]
    },
    {
     "name": "stderr",
     "output_type": "stream",
     "text": [
      "\r\n",
      "Processing images:  51%|█████     | 183/360 [09:30<09:28,  3.21s/it]"
     ]
    },
    {
     "name": "stderr",
     "output_type": "stream",
     "text": [
      "\r\n",
      "Processing images:  51%|█████     | 184/360 [09:32<08:12,  2.80s/it]"
     ]
    },
    {
     "name": "stderr",
     "output_type": "stream",
     "text": [
      "\r\n",
      "Processing images:  51%|█████▏    | 185/360 [09:35<08:51,  3.04s/it]"
     ]
    },
    {
     "name": "stderr",
     "output_type": "stream",
     "text": [
      "\r\n",
      "Processing images:  52%|█████▏    | 186/360 [09:39<09:31,  3.29s/it]"
     ]
    },
    {
     "name": "stderr",
     "output_type": "stream",
     "text": [
      "\r\n",
      "Processing images:  52%|█████▏    | 187/360 [09:43<10:17,  3.57s/it]"
     ]
    },
    {
     "name": "stderr",
     "output_type": "stream",
     "text": [
      "\r\n",
      "Processing images:  52%|█████▏    | 188/360 [09:48<10:49,  3.78s/it]"
     ]
    },
    {
     "name": "stderr",
     "output_type": "stream",
     "text": [
      "\r\n",
      "Processing images:  52%|█████▎    | 189/360 [09:52<11:28,  4.03s/it]"
     ]
    },
    {
     "name": "stderr",
     "output_type": "stream",
     "text": [
      "\r\n",
      "Processing images:  53%|█████▎    | 190/360 [09:57<11:43,  4.14s/it]"
     ]
    },
    {
     "name": "stderr",
     "output_type": "stream",
     "text": [
      "\r\n",
      "Processing images:  53%|█████▎    | 191/360 [10:01<11:46,  4.18s/it]"
     ]
    },
    {
     "name": "stderr",
     "output_type": "stream",
     "text": [
      "\r\n",
      "Processing images:  53%|█████▎    | 192/360 [10:05<11:31,  4.12s/it]"
     ]
    },
    {
     "name": "stderr",
     "output_type": "stream",
     "text": [
      "\r\n",
      "Processing images:  54%|█████▎    | 193/360 [10:10<11:52,  4.27s/it]"
     ]
    },
    {
     "name": "stderr",
     "output_type": "stream",
     "text": [
      "\r\n",
      "Processing images:  54%|█████▍    | 194/360 [10:14<11:43,  4.24s/it]"
     ]
    },
    {
     "name": "stderr",
     "output_type": "stream",
     "text": [
      "\r\n",
      "Processing images:  54%|█████▍    | 195/360 [10:18<11:35,  4.22s/it]"
     ]
    },
    {
     "name": "stderr",
     "output_type": "stream",
     "text": [
      "\r\n",
      "Processing images:  54%|█████▍    | 196/360 [10:22<11:31,  4.22s/it]"
     ]
    },
    {
     "name": "stderr",
     "output_type": "stream",
     "text": [
      "\r\n",
      "Processing images:  55%|█████▍    | 197/360 [10:26<11:04,  4.08s/it]"
     ]
    },
    {
     "name": "stderr",
     "output_type": "stream",
     "text": [
      "\r\n",
      "Processing images:  55%|█████▌    | 198/360 [10:30<10:44,  3.98s/it]"
     ]
    },
    {
     "name": "stderr",
     "output_type": "stream",
     "text": [
      "\r\n",
      "Processing images:  55%|█████▌    | 199/360 [10:34<11:14,  4.19s/it]"
     ]
    },
    {
     "name": "stderr",
     "output_type": "stream",
     "text": [
      "\r\n",
      "Processing images:  56%|█████▌    | 200/360 [10:38<11:08,  4.18s/it]"
     ]
    },
    {
     "name": "stderr",
     "output_type": "stream",
     "text": [
      "\r\n",
      "Processing images:  56%|█████▌    | 201/360 [10:41<09:37,  3.63s/it]"
     ]
    },
    {
     "name": "stderr",
     "output_type": "stream",
     "text": [
      "\r\n",
      "Processing images:  56%|█████▌    | 202/360 [10:43<08:31,  3.24s/it]"
     ]
    },
    {
     "name": "stderr",
     "output_type": "stream",
     "text": [
      "\r\n",
      "Processing images:  56%|█████▋    | 203/360 [10:45<07:42,  2.94s/it]"
     ]
    },
    {
     "name": "stderr",
     "output_type": "stream",
     "text": [
      "\r\n",
      "Processing images:  57%|█████▋    | 204/360 [10:50<09:04,  3.49s/it]"
     ]
    },
    {
     "name": "stderr",
     "output_type": "stream",
     "text": [
      "\r\n",
      "Processing images:  57%|█████▋    | 205/360 [10:52<08:02,  3.11s/it]"
     ]
    },
    {
     "name": "stderr",
     "output_type": "stream",
     "text": [
      "\r\n",
      "Processing images:  57%|█████▋    | 206/360 [10:55<07:21,  2.87s/it]"
     ]
    },
    {
     "name": "stderr",
     "output_type": "stream",
     "text": [
      "\r\n",
      "Processing images:  57%|█████▊    | 207/360 [10:57<06:48,  2.67s/it]"
     ]
    },
    {
     "name": "stderr",
     "output_type": "stream",
     "text": [
      "\r\n",
      "Processing images:  58%|█████▊    | 208/360 [10:59<06:14,  2.46s/it]"
     ]
    },
    {
     "name": "stderr",
     "output_type": "stream",
     "text": [
      "\r\n",
      "Processing images:  58%|█████▊    | 209/360 [11:01<05:49,  2.31s/it]"
     ]
    },
    {
     "name": "stderr",
     "output_type": "stream",
     "text": [
      "\r\n",
      "Processing images:  58%|█████▊    | 210/360 [11:03<05:32,  2.22s/it]"
     ]
    },
    {
     "name": "stderr",
     "output_type": "stream",
     "text": [
      "\r\n",
      "Processing images:  59%|█████▊    | 211/360 [11:05<05:19,  2.14s/it]"
     ]
    },
    {
     "name": "stderr",
     "output_type": "stream",
     "text": [
      "\r\n",
      "Processing images:  59%|█████▉    | 212/360 [11:07<05:10,  2.10s/it]"
     ]
    },
    {
     "name": "stderr",
     "output_type": "stream",
     "text": [
      "\r\n",
      "Processing images:  59%|█████▉    | 213/360 [11:09<05:02,  2.06s/it]"
     ]
    },
    {
     "name": "stderr",
     "output_type": "stream",
     "text": [
      "\r\n",
      "Processing images:  59%|█████▉    | 214/360 [11:11<04:57,  2.04s/it]"
     ]
    },
    {
     "name": "stderr",
     "output_type": "stream",
     "text": [
      "\r\n",
      "Processing images:  60%|█████▉    | 215/360 [11:13<05:18,  2.20s/it]"
     ]
    },
    {
     "name": "stderr",
     "output_type": "stream",
     "text": [
      "\r\n",
      "Processing images:  60%|██████    | 216/360 [11:16<05:23,  2.24s/it]"
     ]
    },
    {
     "name": "stderr",
     "output_type": "stream",
     "text": [
      "\r\n",
      "Processing images:  60%|██████    | 217/360 [11:20<06:35,  2.76s/it]"
     ]
    },
    {
     "name": "stderr",
     "output_type": "stream",
     "text": [
      "\r\n",
      "Processing images:  61%|██████    | 218/360 [11:23<06:40,  2.82s/it]"
     ]
    },
    {
     "name": "stderr",
     "output_type": "stream",
     "text": [
      "\r\n",
      "Processing images:  61%|██████    | 219/360 [11:25<06:21,  2.70s/it]"
     ]
    },
    {
     "name": "stderr",
     "output_type": "stream",
     "text": [
      "\r\n",
      "Processing images:  61%|██████    | 220/360 [11:27<05:45,  2.47s/it]"
     ]
    },
    {
     "name": "stderr",
     "output_type": "stream",
     "text": [
      "\r\n",
      "Processing images:  61%|██████▏   | 221/360 [11:31<06:41,  2.89s/it]"
     ]
    },
    {
     "name": "stderr",
     "output_type": "stream",
     "text": [
      "\r\n",
      "Processing images:  62%|██████▏   | 222/360 [11:33<06:21,  2.77s/it]"
     ]
    },
    {
     "name": "stderr",
     "output_type": "stream",
     "text": [
      "\r\n",
      "Processing images:  62%|██████▏   | 223/360 [11:36<06:00,  2.63s/it]"
     ]
    },
    {
     "name": "stderr",
     "output_type": "stream",
     "text": [
      "\r\n",
      "Processing images:  62%|██████▏   | 224/360 [11:38<05:57,  2.63s/it]"
     ]
    },
    {
     "name": "stderr",
     "output_type": "stream",
     "text": [
      "\r\n",
      "Processing images:  62%|██████▎   | 225/360 [11:40<05:25,  2.41s/it]"
     ]
    },
    {
     "name": "stderr",
     "output_type": "stream",
     "text": [
      "\r\n",
      "Processing images:  63%|██████▎   | 226/360 [11:43<05:20,  2.39s/it]"
     ]
    },
    {
     "name": "stderr",
     "output_type": "stream",
     "text": [
      "\r\n",
      "Processing images:  63%|██████▎   | 227/360 [11:45<05:27,  2.46s/it]"
     ]
    },
    {
     "name": "stderr",
     "output_type": "stream",
     "text": [
      "\r\n",
      "Processing images:  63%|██████▎   | 228/360 [11:47<05:03,  2.30s/it]"
     ]
    },
    {
     "name": "stderr",
     "output_type": "stream",
     "text": [
      "\r\n",
      "Processing images:  64%|██████▎   | 229/360 [11:51<05:54,  2.70s/it]"
     ]
    },
    {
     "name": "stderr",
     "output_type": "stream",
     "text": [
      "\r\n",
      "Processing images:  64%|██████▍   | 230/360 [11:55<07:10,  3.31s/it]"
     ]
    },
    {
     "name": "stderr",
     "output_type": "stream",
     "text": [
      "\r\n",
      "Processing images:  64%|██████▍   | 231/360 [11:59<07:22,  3.43s/it]"
     ]
    },
    {
     "name": "stderr",
     "output_type": "stream",
     "text": [
      "\r\n",
      "Processing images:  64%|██████▍   | 232/360 [12:05<08:43,  4.09s/it]"
     ]
    },
    {
     "name": "stderr",
     "output_type": "stream",
     "text": [
      "\r\n",
      "Processing images:  65%|██████▍   | 233/360 [12:09<08:59,  4.25s/it]"
     ]
    },
    {
     "name": "stderr",
     "output_type": "stream",
     "text": [
      "\r\n",
      "Processing images:  65%|██████▌   | 234/360 [12:14<08:54,  4.24s/it]"
     ]
    },
    {
     "name": "stderr",
     "output_type": "stream",
     "text": [
      "\r\n",
      "Processing images:  65%|██████▌   | 235/360 [12:17<08:24,  4.03s/it]"
     ]
    },
    {
     "name": "stderr",
     "output_type": "stream",
     "text": [
      "\r\n",
      "Processing images:  66%|██████▌   | 236/360 [12:22<08:41,  4.20s/it]"
     ]
    },
    {
     "name": "stderr",
     "output_type": "stream",
     "text": [
      "\r\n",
      "Processing images:  66%|██████▌   | 237/360 [12:27<09:08,  4.46s/it]"
     ]
    },
    {
     "name": "stderr",
     "output_type": "stream",
     "text": [
      "\r\n",
      "Processing images:  66%|██████▌   | 238/360 [12:31<09:10,  4.51s/it]"
     ]
    },
    {
     "name": "stderr",
     "output_type": "stream",
     "text": [
      "\r\n",
      "Processing images:  66%|██████▋   | 239/360 [12:36<09:17,  4.61s/it]"
     ]
    },
    {
     "name": "stderr",
     "output_type": "stream",
     "text": [
      "\r\n",
      "Processing images:  67%|██████▋   | 240/360 [12:40<08:31,  4.27s/it]"
     ]
    },
    {
     "name": "stderr",
     "output_type": "stream",
     "text": [
      "\r\n",
      "Processing images:  67%|██████▋   | 241/360 [12:43<07:36,  3.84s/it]"
     ]
    },
    {
     "name": "stderr",
     "output_type": "stream",
     "text": [
      "\r\n",
      "Processing images:  67%|██████▋   | 242/360 [12:45<06:57,  3.54s/it]"
     ]
    },
    {
     "name": "stderr",
     "output_type": "stream",
     "text": [
      "\r\n",
      "Processing images:  68%|██████▊   | 243/360 [12:48<06:29,  3.33s/it]"
     ]
    },
    {
     "name": "stderr",
     "output_type": "stream",
     "text": [
      "\r\n",
      "Processing images:  68%|██████▊   | 244/360 [12:52<06:41,  3.46s/it]"
     ]
    },
    {
     "name": "stderr",
     "output_type": "stream",
     "text": [
      "\r\n",
      "Processing images:  68%|██████▊   | 245/360 [12:54<06:02,  3.16s/it]"
     ]
    },
    {
     "name": "stderr",
     "output_type": "stream",
     "text": [
      "\r\n",
      "Processing images:  68%|██████▊   | 246/360 [12:57<05:47,  3.05s/it]"
     ]
    },
    {
     "name": "stderr",
     "output_type": "stream",
     "text": [
      "\r\n",
      "Processing images:  69%|██████▊   | 247/360 [13:01<06:17,  3.34s/it]"
     ]
    },
    {
     "name": "stderr",
     "output_type": "stream",
     "text": [
      "\r\n",
      "Processing images:  69%|██████▉   | 248/360 [13:05<06:27,  3.46s/it]"
     ]
    },
    {
     "name": "stderr",
     "output_type": "stream",
     "text": [
      "\r\n",
      "Processing images:  69%|██████▉   | 249/360 [13:09<06:33,  3.54s/it]"
     ]
    },
    {
     "name": "stderr",
     "output_type": "stream",
     "text": [
      "\r\n",
      "Processing images:  69%|██████▉   | 250/360 [13:12<06:08,  3.35s/it]"
     ]
    },
    {
     "name": "stderr",
     "output_type": "stream",
     "text": [
      "\r\n",
      "Processing images:  70%|██████▉   | 251/360 [13:15<06:09,  3.39s/it]"
     ]
    },
    {
     "name": "stderr",
     "output_type": "stream",
     "text": [
      "\r\n",
      "Processing images:  70%|███████   | 252/360 [13:19<06:10,  3.43s/it]"
     ]
    },
    {
     "name": "stderr",
     "output_type": "stream",
     "text": [
      "\r\n",
      "Processing images:  70%|███████   | 253/360 [13:21<05:37,  3.15s/it]"
     ]
    },
    {
     "name": "stderr",
     "output_type": "stream",
     "text": [
      "\r\n",
      "Processing images:  71%|███████   | 254/360 [13:24<05:24,  3.06s/it]"
     ]
    },
    {
     "name": "stderr",
     "output_type": "stream",
     "text": [
      "\r\n",
      "Processing images:  71%|███████   | 255/360 [13:27<05:03,  2.89s/it]"
     ]
    },
    {
     "name": "stderr",
     "output_type": "stream",
     "text": [
      "\r\n",
      "Processing images:  71%|███████   | 256/360 [13:29<04:48,  2.77s/it]"
     ]
    },
    {
     "name": "stderr",
     "output_type": "stream",
     "text": [
      "\r\n",
      "Processing images:  71%|███████▏  | 257/360 [13:32<04:48,  2.81s/it]"
     ]
    },
    {
     "name": "stderr",
     "output_type": "stream",
     "text": [
      "\r\n",
      "Processing images:  72%|███████▏  | 258/360 [13:36<05:16,  3.10s/it]"
     ]
    },
    {
     "name": "stderr",
     "output_type": "stream",
     "text": [
      "\r\n",
      "Processing images:  72%|███████▏  | 259/360 [13:38<04:49,  2.87s/it]"
     ]
    },
    {
     "name": "stderr",
     "output_type": "stream",
     "text": [
      "\r\n",
      "Processing images:  72%|███████▏  | 260/360 [13:40<04:29,  2.70s/it]"
     ]
    },
    {
     "name": "stderr",
     "output_type": "stream",
     "text": [
      "\r\n",
      "Processing images:  72%|███████▎  | 261/360 [13:43<04:15,  2.58s/it]"
     ]
    },
    {
     "name": "stderr",
     "output_type": "stream",
     "text": [
      "\r\n",
      "Processing images:  73%|███████▎  | 262/360 [13:45<04:05,  2.50s/it]"
     ]
    },
    {
     "name": "stderr",
     "output_type": "stream",
     "text": [
      "\r\n",
      "Processing images:  73%|███████▎  | 263/360 [13:49<04:38,  2.87s/it]"
     ]
    },
    {
     "name": "stderr",
     "output_type": "stream",
     "text": [
      "\r\n",
      "Processing images:  73%|███████▎  | 264/360 [13:51<04:19,  2.71s/it]"
     ]
    },
    {
     "name": "stderr",
     "output_type": "stream",
     "text": [
      "\r\n",
      "Processing images:  74%|███████▎  | 265/360 [13:53<04:05,  2.59s/it]"
     ]
    },
    {
     "name": "stderr",
     "output_type": "stream",
     "text": [
      "\r\n",
      "Processing images:  74%|███████▍  | 266/360 [13:57<04:36,  2.94s/it]"
     ]
    },
    {
     "name": "stderr",
     "output_type": "stream",
     "text": [
      "\r\n",
      "Processing images:  74%|███████▍  | 267/360 [14:00<04:39,  3.00s/it]"
     ]
    },
    {
     "name": "stderr",
     "output_type": "stream",
     "text": [
      "\r\n",
      "Processing images:  74%|███████▍  | 268/360 [14:03<04:17,  2.80s/it]"
     ]
    },
    {
     "name": "stderr",
     "output_type": "stream",
     "text": [
      "\r\n",
      "Processing images:  75%|███████▍  | 269/360 [14:05<03:55,  2.58s/it]"
     ]
    },
    {
     "name": "stderr",
     "output_type": "stream",
     "text": [
      "\r\n",
      "Processing images:  75%|███████▌  | 270/360 [14:07<03:39,  2.43s/it]"
     ]
    },
    {
     "name": "stderr",
     "output_type": "stream",
     "text": [
      "\r\n",
      "Processing images:  75%|███████▌  | 271/360 [14:09<03:27,  2.33s/it]"
     ]
    },
    {
     "name": "stderr",
     "output_type": "stream",
     "text": [
      "\r\n",
      "Processing images:  76%|███████▌  | 272/360 [14:11<03:18,  2.26s/it]"
     ]
    },
    {
     "name": "stderr",
     "output_type": "stream",
     "text": [
      "\r\n",
      "Processing images:  76%|███████▌  | 273/360 [14:13<03:17,  2.27s/it]"
     ]
    },
    {
     "name": "stderr",
     "output_type": "stream",
     "text": [
      "\r\n",
      "Processing images:  76%|███████▌  | 274/360 [14:15<03:16,  2.29s/it]"
     ]
    },
    {
     "name": "stderr",
     "output_type": "stream",
     "text": [
      "\r\n",
      "Processing images:  76%|███████▋  | 275/360 [14:18<03:14,  2.29s/it]"
     ]
    },
    {
     "name": "stderr",
     "output_type": "stream",
     "text": [
      "\r\n",
      "Processing images:  77%|███████▋  | 276/360 [14:20<03:13,  2.30s/it]"
     ]
    },
    {
     "name": "stderr",
     "output_type": "stream",
     "text": [
      "\r\n",
      "Processing images:  77%|███████▋  | 277/360 [14:22<03:11,  2.30s/it]"
     ]
    },
    {
     "name": "stderr",
     "output_type": "stream",
     "text": [
      "\r\n",
      "Processing images:  77%|███████▋  | 278/360 [14:25<03:09,  2.31s/it]"
     ]
    },
    {
     "name": "stderr",
     "output_type": "stream",
     "text": [
      "\r\n",
      "Processing images:  78%|███████▊  | 279/360 [14:28<03:27,  2.56s/it]"
     ]
    },
    {
     "name": "stderr",
     "output_type": "stream",
     "text": [
      "\r\n",
      "Processing images:  78%|███████▊  | 280/360 [14:31<03:42,  2.78s/it]"
     ]
    },
    {
     "name": "stderr",
     "output_type": "stream",
     "text": [
      "\r\n",
      "Processing images:  78%|███████▊  | 281/360 [14:34<03:37,  2.76s/it]"
     ]
    },
    {
     "name": "stderr",
     "output_type": "stream",
     "text": [
      "\r\n",
      "Processing images:  78%|███████▊  | 282/360 [14:36<03:25,  2.63s/it]"
     ]
    },
    {
     "name": "stderr",
     "output_type": "stream",
     "text": [
      "\r\n",
      "Processing images:  79%|███████▊  | 283/360 [14:39<03:34,  2.78s/it]"
     ]
    },
    {
     "name": "stderr",
     "output_type": "stream",
     "text": [
      "\r\n",
      "Processing images:  79%|███████▉  | 284/360 [14:42<03:33,  2.81s/it]"
     ]
    },
    {
     "name": "stderr",
     "output_type": "stream",
     "text": [
      "\r\n",
      "Processing images:  79%|███████▉  | 285/360 [14:45<03:19,  2.66s/it]"
     ]
    },
    {
     "name": "stderr",
     "output_type": "stream",
     "text": [
      "\r\n",
      "Processing images:  79%|███████▉  | 286/360 [14:47<03:10,  2.57s/it]"
     ]
    },
    {
     "name": "stderr",
     "output_type": "stream",
     "text": [
      "\r\n",
      "Processing images:  80%|███████▉  | 287/360 [14:49<03:01,  2.49s/it]"
     ]
    },
    {
     "name": "stderr",
     "output_type": "stream",
     "text": [
      "\r\n",
      "Processing images:  80%|████████  | 288/360 [14:52<02:56,  2.44s/it]"
     ]
    },
    {
     "name": "stderr",
     "output_type": "stream",
     "text": [
      "\r\n",
      "Processing images:  80%|████████  | 289/360 [14:55<03:08,  2.66s/it]"
     ]
    },
    {
     "name": "stderr",
     "output_type": "stream",
     "text": [
      "\r\n",
      "Processing images:  81%|████████  | 290/360 [14:58<03:20,  2.87s/it]"
     ]
    },
    {
     "name": "stderr",
     "output_type": "stream",
     "text": [
      "\r\n",
      "Processing images:  81%|████████  | 291/360 [15:01<03:23,  2.95s/it]"
     ]
    },
    {
     "name": "stderr",
     "output_type": "stream",
     "text": [
      "\r\n",
      "Processing images:  81%|████████  | 292/360 [15:04<03:25,  3.02s/it]"
     ]
    },
    {
     "name": "stderr",
     "output_type": "stream",
     "text": [
      "\r\n",
      "Processing images:  81%|████████▏ | 293/360 [15:08<03:25,  3.06s/it]"
     ]
    },
    {
     "name": "stderr",
     "output_type": "stream",
     "text": [
      "\r\n",
      "Processing images:  82%|████████▏ | 294/360 [15:11<03:24,  3.09s/it]"
     ]
    },
    {
     "name": "stderr",
     "output_type": "stream",
     "text": [
      "\r\n",
      "Processing images:  82%|████████▏ | 295/360 [15:14<03:21,  3.10s/it]"
     ]
    },
    {
     "name": "stderr",
     "output_type": "stream",
     "text": [
      "\r\n",
      "Processing images:  82%|████████▏ | 296/360 [15:17<03:19,  3.11s/it]"
     ]
    },
    {
     "name": "stderr",
     "output_type": "stream",
     "text": [
      "\r\n",
      "Processing images:  82%|████████▎ | 297/360 [15:21<03:26,  3.27s/it]"
     ]
    },
    {
     "name": "stderr",
     "output_type": "stream",
     "text": [
      "\r\n",
      "Processing images:  83%|████████▎ | 298/360 [15:24<03:29,  3.38s/it]"
     ]
    },
    {
     "name": "stderr",
     "output_type": "stream",
     "text": [
      "\r\n",
      "Processing images:  83%|████████▎ | 299/360 [15:28<03:31,  3.46s/it]"
     ]
    },
    {
     "name": "stderr",
     "output_type": "stream",
     "text": [
      "\r\n",
      "Processing images:  83%|████████▎ | 300/360 [15:32<03:31,  3.53s/it]"
     ]
    },
    {
     "name": "stderr",
     "output_type": "stream",
     "text": [
      "\r\n",
      "Processing images:  84%|████████▎ | 301/360 [15:35<03:21,  3.41s/it]"
     ]
    },
    {
     "name": "stderr",
     "output_type": "stream",
     "text": [
      "\r\n",
      "Processing images:  84%|████████▍ | 302/360 [15:38<03:13,  3.34s/it]"
     ]
    },
    {
     "name": "stderr",
     "output_type": "stream",
     "text": [
      "\r\n",
      "Processing images:  84%|████████▍ | 303/360 [15:41<03:07,  3.29s/it]"
     ]
    },
    {
     "name": "stderr",
     "output_type": "stream",
     "text": [
      "\r\n",
      "Processing images:  84%|████████▍ | 304/360 [15:44<03:02,  3.26s/it]"
     ]
    },
    {
     "name": "stderr",
     "output_type": "stream",
     "text": [
      "\r\n",
      "Processing images:  85%|████████▍ | 305/360 [15:47<02:57,  3.23s/it]"
     ]
    },
    {
     "name": "stderr",
     "output_type": "stream",
     "text": [
      "\r\n",
      "Processing images:  85%|████████▌ | 306/360 [15:51<02:54,  3.23s/it]"
     ]
    },
    {
     "name": "stderr",
     "output_type": "stream",
     "text": [
      "\r\n",
      "Processing images:  85%|████████▌ | 307/360 [15:54<02:49,  3.20s/it]"
     ]
    },
    {
     "name": "stderr",
     "output_type": "stream",
     "text": [
      "\r\n",
      "Processing images:  86%|████████▌ | 308/360 [15:57<02:45,  3.19s/it]"
     ]
    },
    {
     "name": "stderr",
     "output_type": "stream",
     "text": [
      "\r\n",
      "Processing images:  86%|████████▌ | 309/360 [16:00<02:42,  3.18s/it]"
     ]
    },
    {
     "name": "stderr",
     "output_type": "stream",
     "text": [
      "\r\n",
      "Processing images:  86%|████████▌ | 310/360 [16:03<02:39,  3.18s/it]"
     ]
    },
    {
     "name": "stderr",
     "output_type": "stream",
     "text": [
      "\r\n",
      "Processing images:  86%|████████▋ | 311/360 [16:06<02:23,  2.92s/it]"
     ]
    },
    {
     "name": "stderr",
     "output_type": "stream",
     "text": [
      "\r\n",
      "Processing images:  87%|████████▋ | 312/360 [16:08<02:12,  2.76s/it]"
     ]
    },
    {
     "name": "stderr",
     "output_type": "stream",
     "text": [
      "\r\n",
      "Processing images:  87%|████████▋ | 313/360 [16:10<02:03,  2.63s/it]"
     ]
    },
    {
     "name": "stderr",
     "output_type": "stream",
     "text": [
      "\r\n",
      "Processing images:  87%|████████▋ | 314/360 [16:13<01:56,  2.54s/it]"
     ]
    },
    {
     "name": "stderr",
     "output_type": "stream",
     "text": [
      "\r\n",
      "Processing images:  88%|████████▊ | 315/360 [16:15<01:51,  2.48s/it]"
     ]
    },
    {
     "name": "stderr",
     "output_type": "stream",
     "text": [
      "\r\n",
      "Processing images:  88%|████████▊ | 316/360 [16:17<01:46,  2.43s/it]"
     ]
    },
    {
     "name": "stderr",
     "output_type": "stream",
     "text": [
      "\r\n",
      "Processing images:  88%|████████▊ | 317/360 [16:20<01:50,  2.56s/it]"
     ]
    },
    {
     "name": "stderr",
     "output_type": "stream",
     "text": [
      "\r\n",
      "Processing images:  88%|████████▊ | 318/360 [16:23<01:51,  2.66s/it]"
     ]
    },
    {
     "name": "stderr",
     "output_type": "stream",
     "text": [
      "\r\n",
      "Processing images:  89%|████████▊ | 319/360 [16:26<01:52,  2.73s/it]"
     ]
    },
    {
     "name": "stderr",
     "output_type": "stream",
     "text": [
      "\r\n",
      "Processing images:  89%|████████▉ | 320/360 [16:29<01:50,  2.77s/it]"
     ]
    },
    {
     "name": "stderr",
     "output_type": "stream",
     "text": [
      "\r\n",
      "Processing images:  89%|████████▉ | 321/360 [16:32<01:48,  2.79s/it]"
     ]
    },
    {
     "name": "stderr",
     "output_type": "stream",
     "text": [
      "\r\n",
      "Processing images:  89%|████████▉ | 322/360 [16:35<01:47,  2.82s/it]"
     ]
    },
    {
     "name": "stderr",
     "output_type": "stream",
     "text": [
      "\r\n",
      "Processing images:  90%|████████▉ | 323/360 [16:38<01:47,  2.91s/it]"
     ]
    },
    {
     "name": "stderr",
     "output_type": "stream",
     "text": [
      "\r\n",
      "Processing images:  90%|█████████ | 324/360 [16:41<01:44,  2.90s/it]"
     ]
    },
    {
     "name": "stderr",
     "output_type": "stream",
     "text": [
      "\r\n",
      "Processing images:  90%|█████████ | 325/360 [16:43<01:41,  2.89s/it]"
     ]
    },
    {
     "name": "stderr",
     "output_type": "stream",
     "text": [
      "\r\n",
      "Processing images:  91%|█████████ | 326/360 [16:46<01:38,  2.89s/it]"
     ]
    },
    {
     "name": "stderr",
     "output_type": "stream",
     "text": [
      "\r\n",
      "Processing images:  91%|█████████ | 327/360 [16:49<01:38,  2.97s/it]"
     ]
    },
    {
     "name": "stderr",
     "output_type": "stream",
     "text": [
      "\r\n",
      "Processing images:  91%|█████████ | 328/360 [16:53<01:36,  3.03s/it]"
     ]
    },
    {
     "name": "stderr",
     "output_type": "stream",
     "text": [
      "\r\n",
      "Processing images:  91%|█████████▏| 329/360 [16:56<01:32,  2.98s/it]"
     ]
    },
    {
     "name": "stderr",
     "output_type": "stream",
     "text": [
      "\r\n",
      "Processing images:  92%|█████████▏| 330/360 [16:58<01:28,  2.95s/it]"
     ]
    },
    {
     "name": "stderr",
     "output_type": "stream",
     "text": [
      "\r\n",
      "Processing images:  92%|█████████▏| 331/360 [17:02<01:27,  3.02s/it]"
     ]
    },
    {
     "name": "stderr",
     "output_type": "stream",
     "text": [
      "\r\n",
      "Processing images:  92%|█████████▏| 332/360 [17:04<01:23,  2.98s/it]"
     ]
    },
    {
     "name": "stderr",
     "output_type": "stream",
     "text": [
      "\r\n",
      "Processing images:  92%|█████████▎| 333/360 [17:07<01:19,  2.94s/it]"
     ]
    },
    {
     "name": "stderr",
     "output_type": "stream",
     "text": [
      "\r\n",
      "Processing images:  93%|█████████▎| 334/360 [17:10<01:15,  2.91s/it]"
     ]
    },
    {
     "name": "stderr",
     "output_type": "stream",
     "text": [
      "\r\n",
      "Processing images:  93%|█████████▎| 335/360 [17:13<01:12,  2.90s/it]"
     ]
    },
    {
     "name": "stderr",
     "output_type": "stream",
     "text": [
      "\r\n",
      "Processing images:  93%|█████████▎| 336/360 [17:16<01:11,  2.99s/it]"
     ]
    },
    {
     "name": "stderr",
     "output_type": "stream",
     "text": [
      "\r\n",
      "Processing images:  94%|█████████▎| 337/360 [17:19<01:07,  2.95s/it]"
     ]
    },
    {
     "name": "stderr",
     "output_type": "stream",
     "text": [
      "\r\n",
      "Processing images:  94%|█████████▍| 338/360 [17:22<01:06,  3.02s/it]"
     ]
    },
    {
     "name": "stderr",
     "output_type": "stream",
     "text": [
      "\r\n",
      "Processing images:  94%|█████████▍| 339/360 [17:25<01:02,  2.97s/it]"
     ]
    },
    {
     "name": "stderr",
     "output_type": "stream",
     "text": [
      "\r\n",
      "Processing images:  94%|█████████▍| 340/360 [17:28<01:00,  3.03s/it]"
     ]
    },
    {
     "name": "stderr",
     "output_type": "stream",
     "text": [
      "\r\n",
      "Processing images:  95%|█████████▍| 341/360 [17:31<00:58,  3.06s/it]"
     ]
    },
    {
     "name": "stderr",
     "output_type": "stream",
     "text": [
      "\r\n",
      "Processing images:  95%|█████████▌| 342/360 [17:34<00:54,  3.01s/it]"
     ]
    },
    {
     "name": "stderr",
     "output_type": "stream",
     "text": [
      "\r\n",
      "Processing images:  95%|█████████▌| 343/360 [17:37<00:50,  2.96s/it]"
     ]
    },
    {
     "name": "stderr",
     "output_type": "stream",
     "text": [
      "\r\n",
      "Processing images:  96%|█████████▌| 344/360 [17:40<00:46,  2.93s/it]"
     ]
    },
    {
     "name": "stderr",
     "output_type": "stream",
     "text": [
      "\r\n",
      "Processing images:  96%|█████████▌| 345/360 [17:43<00:43,  2.91s/it]"
     ]
    },
    {
     "name": "stderr",
     "output_type": "stream",
     "text": [
      "\r\n",
      "Processing images:  96%|█████████▌| 346/360 [17:46<00:41,  2.99s/it]"
     ]
    },
    {
     "name": "stderr",
     "output_type": "stream",
     "text": [
      "\r\n",
      "Processing images:  96%|█████████▋| 347/360 [17:49<00:39,  3.04s/it]"
     ]
    },
    {
     "name": "stderr",
     "output_type": "stream",
     "text": [
      "\r\n",
      "Processing images:  97%|█████████▋| 348/360 [17:52<00:35,  3.00s/it]"
     ]
    },
    {
     "name": "stderr",
     "output_type": "stream",
     "text": [
      "\r\n",
      "Processing images:  97%|█████████▋| 349/360 [17:55<00:32,  2.96s/it]"
     ]
    },
    {
     "name": "stderr",
     "output_type": "stream",
     "text": [
      "\r\n",
      "Processing images:  97%|█████████▋| 350/360 [17:58<00:30,  3.03s/it]"
     ]
    },
    {
     "name": "stderr",
     "output_type": "stream",
     "text": [
      "\r\n",
      "Processing images:  98%|█████████▊| 351/360 [18:01<00:26,  2.98s/it]"
     ]
    },
    {
     "name": "stderr",
     "output_type": "stream",
     "text": [
      "\r\n",
      "Processing images:  98%|█████████▊| 352/360 [18:04<00:23,  2.95s/it]"
     ]
    },
    {
     "name": "stderr",
     "output_type": "stream",
     "text": [
      "\r\n",
      "Processing images:  98%|█████████▊| 353/360 [18:07<00:20,  2.92s/it]"
     ]
    },
    {
     "name": "stderr",
     "output_type": "stream",
     "text": [
      "\r\n",
      "Processing images:  98%|█████████▊| 354/360 [18:10<00:17,  2.91s/it]"
     ]
    },
    {
     "name": "stderr",
     "output_type": "stream",
     "text": [
      "\r\n",
      "Processing images:  99%|█████████▊| 355/360 [18:12<00:13,  2.77s/it]"
     ]
    },
    {
     "name": "stderr",
     "output_type": "stream",
     "text": [
      "\r\n",
      "Processing images:  99%|█████████▉| 356/360 [18:15<00:11,  2.80s/it]"
     ]
    },
    {
     "name": "stderr",
     "output_type": "stream",
     "text": [
      "\r\n",
      "Processing images:  99%|█████████▉| 357/360 [18:18<00:08,  2.82s/it]"
     ]
    },
    {
     "name": "stderr",
     "output_type": "stream",
     "text": [
      "\r\n",
      "Processing images:  99%|█████████▉| 358/360 [18:21<00:06,  3.01s/it]"
     ]
    },
    {
     "name": "stderr",
     "output_type": "stream",
     "text": [
      "\r\n",
      "Processing images: 100%|█████████▉| 359/360 [18:25<00:03,  3.06s/it]"
     ]
    },
    {
     "name": "stderr",
     "output_type": "stream",
     "text": [
      "\r\n",
      "Processing images: 100%|██████████| 360/360 [18:28<00:00,  3.13s/it]"
     ]
    },
    {
     "name": "stderr",
     "output_type": "stream",
     "text": [
      "\r\n",
      "Processing images: 100%|██████████| 360/360 [18:28<00:00,  3.08s/it]"
     ]
    },
    {
     "name": "stderr",
     "output_type": "stream",
     "text": [
      "\n"
     ]
    },
    {
     "name": "stdout",
     "output_type": "stream",
     "text": [
      "\n",
      "============================================================\n",
      "EVALUATION SUMMARY FOR FUYU-8B\n",
      "============================================================\n",
      "📊 IMAGE PROCESSING SUMMARY:\n",
      "   Total images attempted: 360\n",
      "   Successfully processed: 360 (100.0%)\n",
      "   Failed images: 0 (0.0%)\n",
      "\n",
      "📝 QUESTION PROCESSING SUMMARY:\n",
      "   Total questions attempted: 1080\n",
      "   Successfully processed: 1080 (100.0%)\n",
      "   Failed questions: 0 (0.0%)\n",
      "   Results saved: 1080\n",
      "\n",
      "✅ SUCCESSFUL IMAGES (360):\n",
      "   • image01 (Type: REAL, Questions: 3/3, Time: 5.5s)\n",
      "   • image02 (Type: REAL, Questions: 3/3, Time: 2.2s)\n",
      "   • image03 (Type: REAL, Questions: 3/3, Time: 3.3s)\n",
      "   • image04 (Type: REAL, Questions: 3/3, Time: 1.9s)\n",
      "   • image05 (Type: REAL, Questions: 3/3, Time: 4.0s)\n",
      "   • image06 (Type: REAL, Questions: 3/3, Time: 3.7s)\n",
      "   • image07 (Type: REAL, Questions: 3/3, Time: 1.9s)\n",
      "   • image08 (Type: REAL, Questions: 3/3, Time: 1.8s)\n",
      "   • image09 (Type: REAL, Questions: 3/3, Time: 1.9s)\n",
      "   • image10 (Type: REAL, Questions: 3/3, Time: 1.9s)\n",
      "   • image11 (Type: REAL, Questions: 3/3, Time: 3.4s)\n",
      "   • image12 (Type: REAL, Questions: 3/3, Time: 2.3s)\n",
      "   • image13 (Type: REAL, Questions: 3/3, Time: 1.8s)\n",
      "   • image14 (Type: REAL, Questions: 3/3, Time: 2.3s)\n",
      "   • image15 (Type: REAL, Questions: 3/3, Time: 4.0s)\n",
      "   • image16 (Type: REAL, Questions: 3/3, Time: 2.4s)\n",
      "   • image17 (Type: REAL, Questions: 3/3, Time: 1.8s)\n",
      "   • image18 (Type: REAL, Questions: 3/3, Time: 2.0s)\n",
      "   • image19 (Type: REAL, Questions: 3/3, Time: 2.3s)\n",
      "   • image20 (Type: REAL, Questions: 3/3, Time: 3.9s)\n",
      "   • image21 (Type: REAL, Questions: 3/3, Time: 2.3s)\n",
      "   • image22 (Type: REAL, Questions: 3/3, Time: 3.1s)\n",
      "   • image23 (Type: REAL, Questions: 3/3, Time: 3.1s)\n",
      "   • image24 (Type: REAL, Questions: 3/3, Time: 2.2s)\n",
      "   • image25 (Type: REAL, Questions: 3/3, Time: 1.9s)\n",
      "   • image26 (Type: REAL, Questions: 3/3, Time: 2.2s)\n",
      "   • image27 (Type: REAL, Questions: 3/3, Time: 2.2s)\n",
      "   • image28 (Type: REAL, Questions: 3/3, Time: 1.9s)\n",
      "   • image29 (Type: REAL, Questions: 3/3, Time: 1.8s)\n",
      "   • image30 (Type: REAL, Questions: 3/3, Time: 2.5s)\n",
      "   • image31 (Type: REAL, Questions: 3/3, Time: 2.6s)\n",
      "   • image32 (Type: REAL, Questions: 3/3, Time: 2.2s)\n",
      "   • image33 (Type: REAL, Questions: 3/3, Time: 2.9s)\n",
      "   • image34 (Type: REAL, Questions: 3/3, Time: 1.9s)\n",
      "   • image35 (Type: REAL, Questions: 3/3, Time: 2.2s)\n",
      "   • image36 (Type: REAL, Questions: 3/3, Time: 1.9s)\n",
      "   • image37 (Type: REAL, Questions: 3/3, Time: 2.6s)\n",
      "   • image38 (Type: REAL, Questions: 3/3, Time: 3.5s)\n",
      "   • image39 (Type: REAL, Questions: 3/3, Time: 2.5s)\n",
      "   • image40 (Type: REAL, Questions: 3/3, Time: 3.5s)\n",
      "   • image41 (Type: REAL, Questions: 3/3, Time: 2.0s)\n",
      "   • image42 (Type: REAL, Questions: 3/3, Time: 2.9s)\n",
      "   • image43 (Type: REAL, Questions: 3/3, Time: 2.6s)\n",
      "   • image44 (Type: REAL, Questions: 3/3, Time: 2.5s)\n",
      "   • image45 (Type: REAL, Questions: 3/3, Time: 3.7s)\n",
      "   • image46 (Type: REAL, Questions: 3/3, Time: 2.3s)\n",
      "   • image47 (Type: REAL, Questions: 3/3, Time: 2.4s)\n",
      "   • image48 (Type: REAL, Questions: 3/3, Time: 2.1s)\n",
      "   • image49 (Type: REAL, Questions: 3/3, Time: 2.9s)\n",
      "   • image50 (Type: REAL, Questions: 3/3, Time: 4.1s)\n",
      "   • image51 (Type: REAL, Questions: 3/3, Time: 4.1s)\n",
      "   • image52 (Type: REAL, Questions: 3/3, Time: 2.3s)\n",
      "   • image53 (Type: REAL, Questions: 3/3, Time: 3.7s)\n",
      "   • image54 (Type: REAL, Questions: 3/3, Time: 2.9s)\n",
      "   • image55 (Type: REAL, Questions: 3/3, Time: 4.8s)\n",
      "   • image56 (Type: REAL, Questions: 3/3, Time: 3.1s)\n",
      "   • image57 (Type: REAL, Questions: 3/3, Time: 4.2s)\n",
      "   • image58 (Type: REAL, Questions: 3/3, Time: 3.5s)\n",
      "   • image59 (Type: REAL, Questions: 3/3, Time: 3.4s)\n",
      "   • image60 (Type: REAL, Questions: 3/3, Time: 3.8s)\n",
      "   • image61 (Type: REAL, Questions: 3/3, Time: 4.2s)\n",
      "   • image62 (Type: REAL, Questions: 3/3, Time: 4.1s)\n",
      "   • image63 (Type: REAL, Questions: 3/3, Time: 4.1s)\n",
      "   • image64 (Type: REAL, Questions: 3/3, Time: 2.7s)\n",
      "   • image65 (Type: REAL, Questions: 3/3, Time: 2.3s)\n",
      "   • image66 (Type: REAL, Questions: 3/3, Time: 2.6s)\n",
      "   • image67 (Type: REAL, Questions: 3/3, Time: 4.1s)\n",
      "   • image68 (Type: REAL, Questions: 3/3, Time: 4.1s)\n",
      "   • image69 (Type: REAL, Questions: 3/3, Time: 4.1s)\n",
      "   • image70 (Type: REAL, Questions: 3/3, Time: 4.2s)\n",
      "   • image71 (Type: REAL, Questions: 3/3, Time: 2.6s)\n",
      "   • image72 (Type: REAL, Questions: 3/3, Time: 4.1s)\n",
      "   • image73 (Type: REAL, Questions: 3/3, Time: 4.2s)\n",
      "   • image74 (Type: REAL, Questions: 3/3, Time: 3.9s)\n",
      "   • image75 (Type: REAL, Questions: 3/3, Time: 3.5s)\n",
      "   • image76 (Type: REAL, Questions: 3/3, Time: 4.1s)\n",
      "   • image77 (Type: REAL, Questions: 3/3, Time: 2.0s)\n",
      "   • image78 (Type: REAL, Questions: 3/3, Time: 4.1s)\n",
      "   • image79 (Type: REAL, Questions: 3/3, Time: 4.1s)\n",
      "   • image80 (Type: REAL, Questions: 3/3, Time: 4.4s)\n",
      "   • image81 (Type: REAL, Questions: 3/3, Time: 4.1s)\n",
      "   • image82 (Type: REAL, Questions: 3/3, Time: 2.8s)\n",
      "   • image83 (Type: REAL, Questions: 3/3, Time: 2.0s)\n",
      "   • image84 (Type: REAL, Questions: 3/3, Time: 3.9s)\n",
      "   • image85 (Type: REAL, Questions: 3/3, Time: 2.6s)\n",
      "   • image86 (Type: REAL, Questions: 3/3, Time: 2.3s)\n",
      "   • image87 (Type: REAL, Questions: 3/3, Time: 4.1s)\n",
      "   • image88 (Type: REAL, Questions: 3/3, Time: 4.1s)\n",
      "   • image89 (Type: REAL, Questions: 3/3, Time: 2.6s)\n",
      "   • image90 (Type: REAL, Questions: 3/3, Time: 2.7s)\n",
      "   • image91 (Type: REAL, Questions: 3/3, Time: 2.6s)\n",
      "   • image92 (Type: REAL, Questions: 3/3, Time: 5.2s)\n",
      "   • image93 (Type: REAL, Questions: 3/3, Time: 4.1s)\n",
      "   • image94 (Type: REAL, Questions: 3/3, Time: 4.0s)\n",
      "   • image95 (Type: REAL, Questions: 3/3, Time: 4.1s)\n",
      "   • image96 (Type: REAL, Questions: 3/3, Time: 2.8s)\n",
      "   • image97 (Type: REAL, Questions: 3/3, Time: 2.7s)\n",
      "   • image98 (Type: REAL, Questions: 3/3, Time: 4.1s)\n",
      "   • image99 (Type: REAL, Questions: 3/3, Time: 2.8s)\n",
      "   • image100 (Type: REAL, Questions: 3/3, Time: 4.0s)\n",
      "   • image101 (Type: REAL, Questions: 3/3, Time: 4.1s)\n",
      "   • image102 (Type: REAL, Questions: 3/3, Time: 3.8s)\n",
      "   • image103 (Type: REAL, Questions: 3/3, Time: 4.0s)\n",
      "   • image104 (Type: REAL, Questions: 3/3, Time: 4.0s)\n",
      "   • image105 (Type: REAL, Questions: 3/3, Time: 3.1s)\n",
      "   • image106 (Type: REAL, Questions: 3/3, Time: 2.8s)\n",
      "   • image107 (Type: REAL, Questions: 3/3, Time: 4.0s)\n",
      "   • image108 (Type: REAL, Questions: 3/3, Time: 2.6s)\n",
      "   • image109 (Type: REAL, Questions: 3/3, Time: 2.6s)\n",
      "   • image110 (Type: REAL, Questions: 3/3, Time: 2.6s)\n",
      "   • image111 (Type: REAL, Questions: 3/3, Time: 2.6s)\n",
      "   • image112 (Type: REAL, Questions: 3/3, Time: 4.3s)\n",
      "   • image113 (Type: REAL, Questions: 3/3, Time: 2.0s)\n",
      "   • image114 (Type: REAL, Questions: 3/3, Time: 4.6s)\n",
      "   • image115 (Type: REAL, Questions: 3/3, Time: 3.7s)\n",
      "   • image116 (Type: REAL, Questions: 3/3, Time: 2.6s)\n",
      "   • image117 (Type: REAL, Questions: 3/3, Time: 4.7s)\n",
      "   • image118 (Type: REAL, Questions: 3/3, Time: 4.1s)\n",
      "   • image119 (Type: REAL, Questions: 3/3, Time: 4.6s)\n",
      "   • image120 (Type: REAL, Questions: 3/3, Time: 4.1s)\n",
      "   • image01 (Type: ANIMATED, Questions: 3/3, Time: 1.8s)\n",
      "   • image02 (Type: ANIMATED, Questions: 3/3, Time: 1.8s)\n",
      "   • image03 (Type: ANIMATED, Questions: 3/3, Time: 2.3s)\n",
      "   • image04 (Type: ANIMATED, Questions: 3/3, Time: 3.1s)\n",
      "   • image05 (Type: ANIMATED, Questions: 3/3, Time: 2.3s)\n",
      "   • image06 (Type: ANIMATED, Questions: 3/3, Time: 2.3s)\n",
      "   • image07 (Type: ANIMATED, Questions: 3/3, Time: 2.3s)\n",
      "   • image08 (Type: ANIMATED, Questions: 3/3, Time: 3.0s)\n",
      "   • image09 (Type: ANIMATED, Questions: 3/3, Time: 2.5s)\n",
      "   • image10 (Type: ANIMATED, Questions: 3/3, Time: 4.0s)\n",
      "   • image11 (Type: ANIMATED, Questions: 3/3, Time: 3.8s)\n",
      "   • image12 (Type: ANIMATED, Questions: 3/3, Time: 3.1s)\n",
      "   • image13 (Type: ANIMATED, Questions: 3/3, Time: 4.0s)\n",
      "   • image14 (Type: ANIMATED, Questions: 3/3, Time: 2.1s)\n",
      "   • image15 (Type: ANIMATED, Questions: 3/3, Time: 4.2s)\n",
      "   • image16 (Type: ANIMATED, Questions: 3/3, Time: 4.2s)\n",
      "   • image17 (Type: ANIMATED, Questions: 3/3, Time: 3.7s)\n",
      "   • image18 (Type: ANIMATED, Questions: 3/3, Time: 2.5s)\n",
      "   • image19 (Type: ANIMATED, Questions: 3/3, Time: 2.3s)\n",
      "   • image20 (Type: ANIMATED, Questions: 3/3, Time: 3.1s)\n",
      "   • image21 (Type: ANIMATED, Questions: 3/3, Time: 4.2s)\n",
      "   • image22 (Type: ANIMATED, Questions: 3/3, Time: 3.1s)\n",
      "   • image23 (Type: ANIMATED, Questions: 3/3, Time: 3.3s)\n",
      "   • image24 (Type: ANIMATED, Questions: 3/3, Time: 2.2s)\n",
      "   • image25 (Type: ANIMATED, Questions: 3/3, Time: 2.2s)\n",
      "   • image26 (Type: ANIMATED, Questions: 3/3, Time: 2.2s)\n",
      "   • image27 (Type: ANIMATED, Questions: 3/3, Time: 2.2s)\n",
      "   • image28 (Type: ANIMATED, Questions: 3/3, Time: 2.2s)\n",
      "   • image29 (Type: ANIMATED, Questions: 3/3, Time: 2.2s)\n",
      "   • image30 (Type: ANIMATED, Questions: 3/3, Time: 2.0s)\n",
      "   • image31 (Type: ANIMATED, Questions: 3/3, Time: 2.2s)\n",
      "   • image32 (Type: ANIMATED, Questions: 3/3, Time: 2.2s)\n",
      "   • image33 (Type: ANIMATED, Questions: 3/3, Time: 2.2s)\n",
      "   • image34 (Type: ANIMATED, Questions: 3/3, Time: 2.2s)\n",
      "   • image35 (Type: ANIMATED, Questions: 3/3, Time: 2.2s)\n",
      "   • image36 (Type: ANIMATED, Questions: 3/3, Time: 2.7s)\n",
      "   • image37 (Type: ANIMATED, Questions: 3/3, Time: 2.2s)\n",
      "   • image38 (Type: ANIMATED, Questions: 3/3, Time: 2.2s)\n",
      "   • image39 (Type: ANIMATED, Questions: 3/3, Time: 2.2s)\n",
      "   • image40 (Type: ANIMATED, Questions: 3/3, Time: 2.2s)\n",
      "   • image41 (Type: ANIMATED, Questions: 3/3, Time: 4.1s)\n",
      "   • image42 (Type: ANIMATED, Questions: 3/3, Time: 4.2s)\n",
      "   • image43 (Type: ANIMATED, Questions: 3/3, Time: 3.3s)\n",
      "   • image44 (Type: ANIMATED, Questions: 3/3, Time: 5.1s)\n",
      "   • image45 (Type: ANIMATED, Questions: 3/3, Time: 5.0s)\n",
      "   • image46 (Type: ANIMATED, Questions: 3/3, Time: 3.7s)\n",
      "   • image47 (Type: ANIMATED, Questions: 3/3, Time: 4.2s)\n",
      "   • image48 (Type: ANIMATED, Questions: 3/3, Time: 4.1s)\n",
      "   • image49 (Type: ANIMATED, Questions: 3/3, Time: 4.2s)\n",
      "   • image50 (Type: ANIMATED, Questions: 3/3, Time: 3.1s)\n",
      "   • image51 (Type: ANIMATED, Questions: 3/3, Time: 3.7s)\n",
      "   • image52 (Type: ANIMATED, Questions: 3/3, Time: 4.2s)\n",
      "   • image53 (Type: ANIMATED, Questions: 3/3, Time: 4.2s)\n",
      "   • image54 (Type: ANIMATED, Questions: 3/3, Time: 2.2s)\n",
      "   • image55 (Type: ANIMATED, Questions: 3/3, Time: 1.9s)\n",
      "   • image56 (Type: ANIMATED, Questions: 3/3, Time: 1.9s)\n",
      "   • image57 (Type: ANIMATED, Questions: 3/3, Time: 1.9s)\n",
      "   • image58 (Type: ANIMATED, Questions: 3/3, Time: 3.4s)\n",
      "   • image59 (Type: ANIMATED, Questions: 3/3, Time: 3.4s)\n",
      "   • image60 (Type: ANIMATED, Questions: 3/3, Time: 2.0s)\n",
      "   • image61 (Type: ANIMATED, Questions: 3/3, Time: 2.9s)\n",
      "   • image62 (Type: ANIMATED, Questions: 3/3, Time: 3.8s)\n",
      "   • image63 (Type: ANIMATED, Questions: 3/3, Time: 3.5s)\n",
      "   • image64 (Type: ANIMATED, Questions: 3/3, Time: 1.8s)\n",
      "   • image65 (Type: ANIMATED, Questions: 3/3, Time: 3.6s)\n",
      "   • image66 (Type: ANIMATED, Questions: 3/3, Time: 3.9s)\n",
      "   • image67 (Type: ANIMATED, Questions: 3/3, Time: 4.2s)\n",
      "   • image68 (Type: ANIMATED, Questions: 3/3, Time: 4.2s)\n",
      "   • image69 (Type: ANIMATED, Questions: 3/3, Time: 4.6s)\n",
      "   • image70 (Type: ANIMATED, Questions: 3/3, Time: 4.4s)\n",
      "   • image71 (Type: ANIMATED, Questions: 3/3, Time: 4.3s)\n",
      "   • image72 (Type: ANIMATED, Questions: 3/3, Time: 4.0s)\n",
      "   • image73 (Type: ANIMATED, Questions: 3/3, Time: 4.6s)\n",
      "   • image74 (Type: ANIMATED, Questions: 3/3, Time: 4.2s)\n",
      "   • image75 (Type: ANIMATED, Questions: 3/3, Time: 4.2s)\n",
      "   • image76 (Type: ANIMATED, Questions: 3/3, Time: 4.2s)\n",
      "   • image77 (Type: ANIMATED, Questions: 3/3, Time: 3.8s)\n",
      "   • image78 (Type: ANIMATED, Questions: 3/3, Time: 3.7s)\n",
      "   • image79 (Type: ANIMATED, Questions: 3/3, Time: 4.7s)\n",
      "   • image80 (Type: ANIMATED, Questions: 3/3, Time: 4.1s)\n",
      "   • image81 (Type: ANIMATED, Questions: 3/3, Time: 2.3s)\n",
      "   • image82 (Type: ANIMATED, Questions: 3/3, Time: 2.3s)\n",
      "   • image83 (Type: ANIMATED, Questions: 3/3, Time: 2.3s)\n",
      "   • image84 (Type: ANIMATED, Questions: 3/3, Time: 4.8s)\n",
      "   • image85 (Type: ANIMATED, Questions: 3/3, Time: 2.2s)\n",
      "   • image86 (Type: ANIMATED, Questions: 3/3, Time: 2.3s)\n",
      "   • image87 (Type: ANIMATED, Questions: 3/3, Time: 2.2s)\n",
      "   • image88 (Type: ANIMATED, Questions: 3/3, Time: 2.0s)\n",
      "   • image89 (Type: ANIMATED, Questions: 3/3, Time: 2.0s)\n",
      "   • image90 (Type: ANIMATED, Questions: 3/3, Time: 2.0s)\n",
      "   • image91 (Type: ANIMATED, Questions: 3/3, Time: 2.0s)\n",
      "   • image92 (Type: ANIMATED, Questions: 3/3, Time: 2.0s)\n",
      "   • image93 (Type: ANIMATED, Questions: 3/3, Time: 2.0s)\n",
      "   • image94 (Type: ANIMATED, Questions: 3/3, Time: 2.0s)\n",
      "   • image95 (Type: ANIMATED, Questions: 3/3, Time: 2.6s)\n",
      "   • image96 (Type: ANIMATED, Questions: 3/3, Time: 2.3s)\n",
      "   • image97 (Type: ANIMATED, Questions: 3/3, Time: 4.0s)\n",
      "   • image98 (Type: ANIMATED, Questions: 3/3, Time: 2.9s)\n",
      "   • image99 (Type: ANIMATED, Questions: 3/3, Time: 2.4s)\n",
      "   • image100 (Type: ANIMATED, Questions: 3/3, Time: 1.9s)\n",
      "   • image101 (Type: ANIMATED, Questions: 3/3, Time: 3.9s)\n",
      "   • image102 (Type: ANIMATED, Questions: 3/3, Time: 2.5s)\n",
      "   • image103 (Type: ANIMATED, Questions: 3/3, Time: 2.3s)\n",
      "   • image104 (Type: ANIMATED, Questions: 3/3, Time: 2.6s)\n",
      "   • image105 (Type: ANIMATED, Questions: 3/3, Time: 1.9s)\n",
      "   • image106 (Type: ANIMATED, Questions: 3/3, Time: 2.1s)\n",
      "   • image107 (Type: ANIMATED, Questions: 3/3, Time: 2.6s)\n",
      "   • image108 (Type: ANIMATED, Questions: 3/3, Time: 1.9s)\n",
      "   • image109 (Type: ANIMATED, Questions: 3/3, Time: 3.6s)\n",
      "   • image110 (Type: ANIMATED, Questions: 3/3, Time: 4.7s)\n",
      "   • image111 (Type: ANIMATED, Questions: 3/3, Time: 3.7s)\n",
      "   • image112 (Type: ANIMATED, Questions: 3/3, Time: 5.6s)\n",
      "   • image113 (Type: ANIMATED, Questions: 3/3, Time: 4.6s)\n",
      "   • image114 (Type: ANIMATED, Questions: 3/3, Time: 4.2s)\n",
      "   • image115 (Type: ANIMATED, Questions: 3/3, Time: 3.6s)\n",
      "   • image116 (Type: ANIMATED, Questions: 3/3, Time: 4.6s)\n",
      "   • image117 (Type: ANIMATED, Questions: 3/3, Time: 5.0s)\n",
      "   • image118 (Type: ANIMATED, Questions: 3/3, Time: 4.6s)\n",
      "   • image119 (Type: ANIMATED, Questions: 3/3, Time: 4.8s)\n",
      "   • image120 (Type: ANIMATED, Questions: 3/3, Time: 3.4s)\n",
      "   • image01 (Type: AI_GENERATED, Questions: 3/3, Time: 2.8s)\n",
      "   • image02 (Type: AI_GENERATED, Questions: 3/3, Time: 2.8s)\n",
      "   • image03 (Type: AI_GENERATED, Questions: 3/3, Time: 2.8s)\n",
      "   • image04 (Type: AI_GENERATED, Questions: 3/3, Time: 3.7s)\n",
      "   • image05 (Type: AI_GENERATED, Questions: 3/3, Time: 2.4s)\n",
      "   • image06 (Type: AI_GENERATED, Questions: 3/3, Time: 2.8s)\n",
      "   • image07 (Type: AI_GENERATED, Questions: 3/3, Time: 4.0s)\n",
      "   • image08 (Type: AI_GENERATED, Questions: 3/3, Time: 3.7s)\n",
      "   • image09 (Type: AI_GENERATED, Questions: 3/3, Time: 3.7s)\n",
      "   • image10 (Type: AI_GENERATED, Questions: 3/3, Time: 2.9s)\n",
      "   • image11 (Type: AI_GENERATED, Questions: 3/3, Time: 3.5s)\n",
      "   • image12 (Type: AI_GENERATED, Questions: 3/3, Time: 3.5s)\n",
      "   • image13 (Type: AI_GENERATED, Questions: 3/3, Time: 2.5s)\n",
      "   • image14 (Type: AI_GENERATED, Questions: 3/3, Time: 2.8s)\n",
      "   • image15 (Type: AI_GENERATED, Questions: 3/3, Time: 2.5s)\n",
      "   • image16 (Type: AI_GENERATED, Questions: 3/3, Time: 2.5s)\n",
      "   • image17 (Type: AI_GENERATED, Questions: 3/3, Time: 2.9s)\n",
      "   • image18 (Type: AI_GENERATED, Questions: 3/3, Time: 3.8s)\n",
      "   • image19 (Type: AI_GENERATED, Questions: 3/3, Time: 2.3s)\n",
      "   • image20 (Type: AI_GENERATED, Questions: 3/3, Time: 2.3s)\n",
      "   • image21 (Type: AI_GENERATED, Questions: 3/3, Time: 2.3s)\n",
      "   • image22 (Type: AI_GENERATED, Questions: 3/3, Time: 2.3s)\n",
      "   • image23 (Type: AI_GENERATED, Questions: 3/3, Time: 3.7s)\n",
      "   • image24 (Type: AI_GENERATED, Questions: 3/3, Time: 2.3s)\n",
      "   • image25 (Type: AI_GENERATED, Questions: 3/3, Time: 2.3s)\n",
      "   • image26 (Type: AI_GENERATED, Questions: 3/3, Time: 3.7s)\n",
      "   • image27 (Type: AI_GENERATED, Questions: 3/3, Time: 3.2s)\n",
      "   • image28 (Type: AI_GENERATED, Questions: 3/3, Time: 2.3s)\n",
      "   • image29 (Type: AI_GENERATED, Questions: 3/3, Time: 2.1s)\n",
      "   • image30 (Type: AI_GENERATED, Questions: 3/3, Time: 2.1s)\n",
      "   • image31 (Type: AI_GENERATED, Questions: 3/3, Time: 2.1s)\n",
      "   • image32 (Type: AI_GENERATED, Questions: 3/3, Time: 2.1s)\n",
      "   • image33 (Type: AI_GENERATED, Questions: 3/3, Time: 2.3s)\n",
      "   • image34 (Type: AI_GENERATED, Questions: 3/3, Time: 2.3s)\n",
      "   • image35 (Type: AI_GENERATED, Questions: 3/3, Time: 2.3s)\n",
      "   • image36 (Type: AI_GENERATED, Questions: 3/3, Time: 2.3s)\n",
      "   • image37 (Type: AI_GENERATED, Questions: 3/3, Time: 2.3s)\n",
      "   • image38 (Type: AI_GENERATED, Questions: 3/3, Time: 2.3s)\n",
      "   • image39 (Type: AI_GENERATED, Questions: 3/3, Time: 3.1s)\n",
      "   • image40 (Type: AI_GENERATED, Questions: 3/3, Time: 2.3s)\n",
      "   • image41 (Type: AI_GENERATED, Questions: 3/3, Time: 2.7s)\n",
      "   • image42 (Type: AI_GENERATED, Questions: 3/3, Time: 2.3s)\n",
      "   • image43 (Type: AI_GENERATED, Questions: 3/3, Time: 3.1s)\n",
      "   • image44 (Type: AI_GENERATED, Questions: 3/3, Time: 2.8s)\n",
      "   • image45 (Type: AI_GENERATED, Questions: 3/3, Time: 2.3s)\n",
      "   • image46 (Type: AI_GENERATED, Questions: 3/3, Time: 2.3s)\n",
      "   • image47 (Type: AI_GENERATED, Questions: 3/3, Time: 2.3s)\n",
      "   • image48 (Type: AI_GENERATED, Questions: 3/3, Time: 2.3s)\n",
      "   • image49 (Type: AI_GENERATED, Questions: 3/3, Time: 3.2s)\n",
      "   • image50 (Type: AI_GENERATED, Questions: 3/3, Time: 3.3s)\n",
      "   • image51 (Type: AI_GENERATED, Questions: 3/3, Time: 3.1s)\n",
      "   • image52 (Type: AI_GENERATED, Questions: 3/3, Time: 3.1s)\n",
      "   • image53 (Type: AI_GENERATED, Questions: 3/3, Time: 3.2s)\n",
      "   • image54 (Type: AI_GENERATED, Questions: 3/3, Time: 3.1s)\n",
      "   • image55 (Type: AI_GENERATED, Questions: 3/3, Time: 3.1s)\n",
      "   • image56 (Type: AI_GENERATED, Questions: 3/3, Time: 3.1s)\n",
      "   • image57 (Type: AI_GENERATED, Questions: 3/3, Time: 3.6s)\n",
      "   • image58 (Type: AI_GENERATED, Questions: 3/3, Time: 3.6s)\n",
      "   • image59 (Type: AI_GENERATED, Questions: 3/3, Time: 3.7s)\n",
      "   • image60 (Type: AI_GENERATED, Questions: 3/3, Time: 3.7s)\n",
      "   • image61 (Type: AI_GENERATED, Questions: 3/3, Time: 3.1s)\n",
      "   • image62 (Type: AI_GENERATED, Questions: 3/3, Time: 3.2s)\n",
      "   • image63 (Type: AI_GENERATED, Questions: 3/3, Time: 3.2s)\n",
      "   • image64 (Type: AI_GENERATED, Questions: 3/3, Time: 3.2s)\n",
      "   • image65 (Type: AI_GENERATED, Questions: 3/3, Time: 3.1s)\n",
      "   • image66 (Type: AI_GENERATED, Questions: 3/3, Time: 3.2s)\n",
      "   • image67 (Type: AI_GENERATED, Questions: 3/3, Time: 3.1s)\n",
      "   • image68 (Type: AI_GENERATED, Questions: 3/3, Time: 3.1s)\n",
      "   • image69 (Type: AI_GENERATED, Questions: 3/3, Time: 3.2s)\n",
      "   • image70 (Type: AI_GENERATED, Questions: 3/3, Time: 3.2s)\n",
      "   • image71 (Type: AI_GENERATED, Questions: 3/3, Time: 2.3s)\n",
      "   • image72 (Type: AI_GENERATED, Questions: 3/3, Time: 2.3s)\n",
      "   • image73 (Type: AI_GENERATED, Questions: 3/3, Time: 2.3s)\n",
      "   • image74 (Type: AI_GENERATED, Questions: 3/3, Time: 2.3s)\n",
      "   • image75 (Type: AI_GENERATED, Questions: 3/3, Time: 2.3s)\n",
      "   • image76 (Type: AI_GENERATED, Questions: 3/3, Time: 2.3s)\n",
      "   • image77 (Type: AI_GENERATED, Questions: 3/3, Time: 2.9s)\n",
      "   • image78 (Type: AI_GENERATED, Questions: 3/3, Time: 2.9s)\n",
      "   • image79 (Type: AI_GENERATED, Questions: 3/3, Time: 2.9s)\n",
      "   • image80 (Type: AI_GENERATED, Questions: 3/3, Time: 2.8s)\n",
      "   • image81 (Type: AI_GENERATED, Questions: 3/3, Time: 2.8s)\n",
      "   • image82 (Type: AI_GENERATED, Questions: 3/3, Time: 2.9s)\n",
      "   • image83 (Type: AI_GENERATED, Questions: 3/3, Time: 3.1s)\n",
      "   • image84 (Type: AI_GENERATED, Questions: 3/3, Time: 2.9s)\n",
      "   • image85 (Type: AI_GENERATED, Questions: 3/3, Time: 2.9s)\n",
      "   • image86 (Type: AI_GENERATED, Questions: 3/3, Time: 2.9s)\n",
      "   • image87 (Type: AI_GENERATED, Questions: 3/3, Time: 3.2s)\n",
      "   • image88 (Type: AI_GENERATED, Questions: 3/3, Time: 3.2s)\n",
      "   • image89 (Type: AI_GENERATED, Questions: 3/3, Time: 2.9s)\n",
      "   • image90 (Type: AI_GENERATED, Questions: 3/3, Time: 2.9s)\n",
      "   • image91 (Type: AI_GENERATED, Questions: 3/3, Time: 3.2s)\n",
      "   • image92 (Type: AI_GENERATED, Questions: 3/3, Time: 2.9s)\n",
      "   • image93 (Type: AI_GENERATED, Questions: 3/3, Time: 2.8s)\n",
      "   • image94 (Type: AI_GENERATED, Questions: 3/3, Time: 2.8s)\n",
      "   • image95 (Type: AI_GENERATED, Questions: 3/3, Time: 2.9s)\n",
      "   • image96 (Type: AI_GENERATED, Questions: 3/3, Time: 3.2s)\n",
      "   • image97 (Type: AI_GENERATED, Questions: 3/3, Time: 2.9s)\n",
      "   • image98 (Type: AI_GENERATED, Questions: 3/3, Time: 3.2s)\n",
      "   • image99 (Type: AI_GENERATED, Questions: 3/3, Time: 2.9s)\n",
      "   • image100 (Type: AI_GENERATED, Questions: 3/3, Time: 3.2s)\n",
      "   • image101 (Type: AI_GENERATED, Questions: 3/3, Time: 3.1s)\n",
      "   • image102 (Type: AI_GENERATED, Questions: 3/3, Time: 2.9s)\n",
      "   • image103 (Type: AI_GENERATED, Questions: 3/3, Time: 2.8s)\n",
      "   • image104 (Type: AI_GENERATED, Questions: 3/3, Time: 2.9s)\n",
      "   • image105 (Type: AI_GENERATED, Questions: 3/3, Time: 2.9s)\n",
      "   • image106 (Type: AI_GENERATED, Questions: 3/3, Time: 3.2s)\n",
      "   • image107 (Type: AI_GENERATED, Questions: 3/3, Time: 3.1s)\n",
      "   • image108 (Type: AI_GENERATED, Questions: 3/3, Time: 2.9s)\n",
      "   • image109 (Type: AI_GENERATED, Questions: 3/3, Time: 2.9s)\n",
      "   • image110 (Type: AI_GENERATED, Questions: 3/3, Time: 3.2s)\n",
      "   • image111 (Type: AI_GENERATED, Questions: 3/3, Time: 2.9s)\n",
      "   • image112 (Type: AI_GENERATED, Questions: 3/3, Time: 2.9s)\n",
      "   • image113 (Type: AI_GENERATED, Questions: 3/3, Time: 2.8s)\n",
      "   • image114 (Type: AI_GENERATED, Questions: 3/3, Time: 2.9s)\n",
      "   • image115 (Type: AI_GENERATED, Questions: 3/3, Time: 2.5s)\n",
      "   • image116 (Type: AI_GENERATED, Questions: 3/3, Time: 2.8s)\n",
      "   • image117 (Type: AI_GENERATED, Questions: 3/3, Time: 2.9s)\n",
      "   • image118 (Type: AI_GENERATED, Questions: 3/3, Time: 3.4s)\n",
      "   • image119 (Type: AI_GENERATED, Questions: 3/3, Time: 3.2s)\n",
      "   • image120 (Type: AI_GENERATED, Questions: 3/3, Time: 3.3s)\n",
      "============================================================\n",
      "\n",
      "Initial test successful!\n"
     ]
    }
   ],
   "source": [
    "test_fuyu()"
   ]
  },
  {
   "cell_type": "markdown",
   "id": "53d32ef4",
   "metadata": {
    "papermill": {
     "duration": 0.029615,
     "end_time": "2025-07-28T20:51:59.886027",
     "exception": false,
     "start_time": "2025-07-28T20:51:59.856412",
     "status": "completed"
    },
    "tags": []
   },
   "source": [
    "And then the BLIP-2 model:"
   ]
  },
  {
   "cell_type": "code",
   "execution_count": 8,
   "id": "e66d8e08",
   "metadata": {
    "execution": {
     "iopub.execute_input": "2025-07-28T20:51:59.949866Z",
     "iopub.status.busy": "2025-07-28T20:51:59.949526Z",
     "iopub.status.idle": "2025-07-28T20:51:59.952962Z",
     "shell.execute_reply": "2025-07-28T20:51:59.952349Z"
    },
    "papermill": {
     "duration": 0.038386,
     "end_time": "2025-07-28T20:51:59.953921",
     "exception": false,
     "start_time": "2025-07-28T20:51:59.915535",
     "status": "completed"
    },
    "tags": []
   },
   "outputs": [],
   "source": [
    "# test_blip2()"
   ]
  },
  {
   "cell_type": "code",
   "execution_count": null,
   "id": "c96da62b",
   "metadata": {
    "papermill": {
     "duration": 0.029674,
     "end_time": "2025-07-28T20:52:00.013231",
     "exception": false,
     "start_time": "2025-07-28T20:51:59.983557",
     "status": "completed"
    },
    "tags": []
   },
   "outputs": [],
   "source": []
  }
 ],
 "metadata": {
  "kaggle": {
   "accelerator": "nvidiaTeslaT4",
   "dataSources": [
    {
     "datasetId": 7163706,
     "sourceId": 11436696,
     "sourceType": "datasetVersion"
    }
   ],
   "dockerImageVersionId": 31011,
   "isGpuEnabled": true,
   "isInternetEnabled": true,
   "language": "python",
   "sourceType": "notebook"
  },
  "kernelspec": {
   "display_name": "Python 3",
   "language": "python",
   "name": "python3"
  },
  "language_info": {
   "codemirror_mode": {
    "name": "ipython",
    "version": 3
   },
   "file_extension": ".py",
   "mimetype": "text/x-python",
   "name": "python",
   "nbconvert_exporter": "python",
   "pygments_lexer": "ipython3",
   "version": "3.12.9"
  },
  "papermill": {
   "default_parameters": {},
   "duration": 1164.883854,
   "end_time": "2025-07-28T20:52:03.385745",
   "environment_variables": {},
   "exception": null,
   "input_path": "/var/scratch/ave303/OP_bench/opa-benchmark-fuyu-blip2.ipynb",
   "output_path": "fuyu-8b_output.ipynb",
   "parameters": {},
   "start_time": "2025-07-28T20:32:38.501891",
   "version": "2.6.0"
  }
 },
 "nbformat": 4,
 "nbformat_minor": 5
}
