{
 "cells": [
  {
   "cell_type": "markdown",
   "id": "83cd9a04",
   "metadata": {
    "papermill": {
     "duration": 0.006499,
     "end_time": "2025-07-30T14:08:22.264997",
     "exception": false,
     "start_time": "2025-07-30T14:08:22.258498",
     "status": "completed"
    },
    "tags": []
   },
   "source": [
    "# VLM Benchmark for Object Property Abstraction\n",
    "\n",
    "This notebook implements a benchmark for evaluating Vision Language Models (VLMs) on object property abstraction and visual question answering (VQA) tasks. The benchmark includes three types of questions:\n",
    "\n",
    "1. Direct Recognition\n",
    "2. Property Inference\n",
    "3. Counterfactual Reasoning\n",
    "\n",
    "And three types of images:\n",
    "- REAL\n",
    "- ANIMATED\n",
    "- AI GENERATED"
   ]
  },
  {
   "cell_type": "markdown",
   "id": "b1a59b9a",
   "metadata": {
    "papermill": {
     "duration": 0.005508,
     "end_time": "2025-07-30T14:08:22.276589",
     "exception": false,
     "start_time": "2025-07-30T14:08:22.271081",
     "status": "completed"
    },
    "tags": []
   },
   "source": [
    "## Setup and Imports\n",
    "\n",
    "First, let's import the necessary libraries and set up our environment."
   ]
  },
  {
   "cell_type": "code",
   "execution_count": 1,
   "id": "51f86cdd",
   "metadata": {
    "collapsed": true,
    "execution": {
     "iopub.execute_input": "2025-07-30T14:08:22.289296Z",
     "iopub.status.busy": "2025-07-30T14:08:22.288604Z",
     "iopub.status.idle": "2025-07-30T14:08:22.292359Z",
     "shell.execute_reply": "2025-07-30T14:08:22.291808Z"
    },
    "jupyter": {
     "outputs_hidden": true
    },
    "papermill": {
     "duration": 0.011273,
     "end_time": "2025-07-30T14:08:22.293484",
     "exception": false,
     "start_time": "2025-07-30T14:08:22.282211",
     "status": "completed"
    },
    "tags": []
   },
   "outputs": [],
   "source": [
    "# Install required packages\n",
    "# %pip install transformers torch Pillow tqdm bitsandbytes accelerate"
   ]
  },
  {
   "cell_type": "code",
   "execution_count": 2,
   "id": "5c177539",
   "metadata": {
    "collapsed": true,
    "execution": {
     "iopub.execute_input": "2025-07-30T14:08:22.306082Z",
     "iopub.status.busy": "2025-07-30T14:08:22.305761Z",
     "iopub.status.idle": "2025-07-30T14:08:24.052043Z",
     "shell.execute_reply": "2025-07-30T14:08:24.051094Z"
    },
    "jupyter": {
     "outputs_hidden": true
    },
    "papermill": {
     "duration": 1.754004,
     "end_time": "2025-07-30T14:08:24.053414",
     "exception": false,
     "start_time": "2025-07-30T14:08:22.299410",
     "status": "completed"
    },
    "tags": []
   },
   "outputs": [
    {
     "name": "stdout",
     "output_type": "stream",
     "text": [
      "Requirement already satisfied: qwen-vl-utils in /var/scratch/ave303/anaconda3/envs/op_bench/lib/python3.12/site-packages (0.0.11)\r\n",
      "Requirement already satisfied: flash-attn in /var/scratch/ave303/anaconda3/envs/op_bench/lib/python3.12/site-packages (2.7.4.post1)\r\n",
      "Requirement already satisfied: av in /var/scratch/ave303/anaconda3/envs/op_bench/lib/python3.12/site-packages (from qwen-vl-utils) (14.3.0)\r\n",
      "Requirement already satisfied: packaging in /var/scratch/ave303/anaconda3/envs/op_bench/lib/python3.12/site-packages (from qwen-vl-utils) (25.0)\r\n",
      "Requirement already satisfied: pillow in /var/scratch/ave303/anaconda3/envs/op_bench/lib/python3.12/site-packages (from qwen-vl-utils) (10.3.0)\r\n",
      "Requirement already satisfied: requests in /var/scratch/ave303/anaconda3/envs/op_bench/lib/python3.12/site-packages (from qwen-vl-utils) (2.32.3)\r\n",
      "Requirement already satisfied: torch in /var/scratch/ave303/anaconda3/envs/op_bench/lib/python3.12/site-packages (from flash-attn) (2.2.1)\r\n",
      "Requirement already satisfied: einops in /var/scratch/ave303/anaconda3/envs/op_bench/lib/python3.12/site-packages (from flash-attn) (0.8.1)\r\n",
      "Requirement already satisfied: charset-normalizer<4,>=2 in /var/scratch/ave303/anaconda3/envs/op_bench/lib/python3.12/site-packages (from requests->qwen-vl-utils) (3.4.1)\r\n",
      "Requirement already satisfied: idna<4,>=2.5 in /var/scratch/ave303/anaconda3/envs/op_bench/lib/python3.12/site-packages (from requests->qwen-vl-utils) (3.10)\r\n",
      "Requirement already satisfied: urllib3<3,>=1.21.1 in /var/scratch/ave303/anaconda3/envs/op_bench/lib/python3.12/site-packages (from requests->qwen-vl-utils) (2.4.0)\r\n",
      "Requirement already satisfied: certifi>=2017.4.17 in /var/scratch/ave303/anaconda3/envs/op_bench/lib/python3.12/site-packages (from requests->qwen-vl-utils) (2025.4.26)\r\n",
      "Requirement already satisfied: filelock in /var/scratch/ave303/anaconda3/envs/op_bench/lib/python3.12/site-packages (from torch->flash-attn) (3.18.0)\r\n",
      "Requirement already satisfied: typing-extensions>=4.8.0 in /var/scratch/ave303/anaconda3/envs/op_bench/lib/python3.12/site-packages (from torch->flash-attn) (4.13.2)\r\n",
      "Requirement already satisfied: sympy in /var/scratch/ave303/anaconda3/envs/op_bench/lib/python3.12/site-packages (from torch->flash-attn) (1.14.0)\r\n",
      "Requirement already satisfied: networkx in /var/scratch/ave303/anaconda3/envs/op_bench/lib/python3.12/site-packages (from torch->flash-attn) (3.4.2)\r\n",
      "Requirement already satisfied: jinja2 in /var/scratch/ave303/anaconda3/envs/op_bench/lib/python3.12/site-packages (from torch->flash-attn) (3.1.6)\r\n",
      "Requirement already satisfied: fsspec in /var/scratch/ave303/anaconda3/envs/op_bench/lib/python3.12/site-packages (from torch->flash-attn) (2025.3.2)\r\n",
      "Requirement already satisfied: nvidia-cuda-nvrtc-cu12==12.1.105 in /var/scratch/ave303/anaconda3/envs/op_bench/lib/python3.12/site-packages (from torch->flash-attn) (12.1.105)\r\n",
      "Requirement already satisfied: nvidia-cuda-runtime-cu12==12.1.105 in /var/scratch/ave303/anaconda3/envs/op_bench/lib/python3.12/site-packages (from torch->flash-attn) (12.1.105)\r\n",
      "Requirement already satisfied: nvidia-cuda-cupti-cu12==12.1.105 in /var/scratch/ave303/anaconda3/envs/op_bench/lib/python3.12/site-packages (from torch->flash-attn) (12.1.105)\r\n",
      "Requirement already satisfied: nvidia-cudnn-cu12==8.9.2.26 in /var/scratch/ave303/anaconda3/envs/op_bench/lib/python3.12/site-packages (from torch->flash-attn) (8.9.2.26)\r\n",
      "Requirement already satisfied: nvidia-cublas-cu12==12.1.3.1 in /var/scratch/ave303/anaconda3/envs/op_bench/lib/python3.12/site-packages (from torch->flash-attn) (12.1.3.1)\r\n",
      "Requirement already satisfied: nvidia-cufft-cu12==11.0.2.54 in /var/scratch/ave303/anaconda3/envs/op_bench/lib/python3.12/site-packages (from torch->flash-attn) (11.0.2.54)\r\n",
      "Requirement already satisfied: nvidia-curand-cu12==10.3.2.106 in /var/scratch/ave303/anaconda3/envs/op_bench/lib/python3.12/site-packages (from torch->flash-attn) (10.3.2.106)\r\n",
      "Requirement already satisfied: nvidia-cusolver-cu12==11.4.5.107 in /var/scratch/ave303/anaconda3/envs/op_bench/lib/python3.12/site-packages (from torch->flash-attn) (11.4.5.107)\r\n",
      "Requirement already satisfied: nvidia-cusparse-cu12==12.1.0.106 in /var/scratch/ave303/anaconda3/envs/op_bench/lib/python3.12/site-packages (from torch->flash-attn) (12.1.0.106)\r\n",
      "Requirement already satisfied: nvidia-nccl-cu12==2.19.3 in /var/scratch/ave303/anaconda3/envs/op_bench/lib/python3.12/site-packages (from torch->flash-attn) (2.19.3)\r\n",
      "Requirement already satisfied: nvidia-nvtx-cu12==12.1.105 in /var/scratch/ave303/anaconda3/envs/op_bench/lib/python3.12/site-packages (from torch->flash-attn) (12.1.105)\r\n"
     ]
    },
    {
     "name": "stdout",
     "output_type": "stream",
     "text": [
      "Requirement already satisfied: nvidia-nvjitlink-cu12 in /var/scratch/ave303/anaconda3/envs/op_bench/lib/python3.12/site-packages (from nvidia-cusolver-cu12==11.4.5.107->torch->flash-attn) (12.8.93)\r\n",
      "Requirement already satisfied: MarkupSafe>=2.0 in /var/scratch/ave303/anaconda3/envs/op_bench/lib/python3.12/site-packages (from jinja2->torch->flash-attn) (3.0.2)\r\n",
      "Requirement already satisfied: mpmath<1.4,>=1.1.0 in /var/scratch/ave303/anaconda3/envs/op_bench/lib/python3.12/site-packages (from sympy->torch->flash-attn) (1.3.0)\r\n"
     ]
    },
    {
     "name": "stdout",
     "output_type": "stream",
     "text": [
      "Note: you may need to restart the kernel to use updated packages.\n"
     ]
    }
   ],
   "source": [
    "%pip install qwen-vl-utils flash-attn #--no-build-isolation"
   ]
  },
  {
   "cell_type": "code",
   "execution_count": 3,
   "id": "35b8eb67",
   "metadata": {
    "execution": {
     "iopub.execute_input": "2025-07-30T14:08:24.067306Z",
     "iopub.status.busy": "2025-07-30T14:08:24.066887Z",
     "iopub.status.idle": "2025-07-30T14:08:29.653032Z",
     "shell.execute_reply": "2025-07-30T14:08:29.652190Z"
    },
    "papermill": {
     "duration": 5.594494,
     "end_time": "2025-07-30T14:08:29.654352",
     "exception": false,
     "start_time": "2025-07-30T14:08:24.059858",
     "status": "completed"
    },
    "tags": []
   },
   "outputs": [
    {
     "name": "stderr",
     "output_type": "stream",
     "text": [
      "/var/scratch/ave303/anaconda3/envs/op_bench/lib/python3.12/site-packages/tqdm/auto.py:21: TqdmWarning: IProgress not found. Please update jupyter and ipywidgets. See https://ipywidgets.readthedocs.io/en/stable/user_install.html\n",
      "  from .autonotebook import tqdm as notebook_tqdm\n"
     ]
    },
    {
     "name": "stdout",
     "output_type": "stream",
     "text": [
      "Using device: cuda\n"
     ]
    }
   ],
   "source": [
    "# Import required libraries\n",
    "import torch\n",
    "import json\n",
    "from pathlib import Path\n",
    "from PIL import Image\n",
    "import gc\n",
    "import re\n",
    "from tqdm import tqdm\n",
    "from typing import List, Dict, Any\n",
    "from qwen_vl_utils import process_vision_info\n",
    "import time\n",
    "\n",
    "# Check if CUDA is available\n",
    "device = torch.device('cuda' if torch.cuda.is_available() else 'cpu')\n",
    "print(f\"Using device: {device}\")"
   ]
  },
  {
   "cell_type": "markdown",
   "id": "181746f5",
   "metadata": {
    "papermill": {
     "duration": 0.006353,
     "end_time": "2025-07-30T14:08:29.667698",
     "exception": false,
     "start_time": "2025-07-30T14:08:29.661345",
     "status": "completed"
    },
    "tags": []
   },
   "source": [
    "## Benchmark Tester Class\n",
    "\n",
    "This class handles the evaluation of models against our benchmark."
   ]
  },
  {
   "cell_type": "code",
   "execution_count": 4,
   "id": "55cbe1d1",
   "metadata": {
    "execution": {
     "iopub.execute_input": "2025-07-30T14:08:29.681868Z",
     "iopub.status.busy": "2025-07-30T14:08:29.681193Z",
     "iopub.status.idle": "2025-07-30T14:08:29.689698Z",
     "shell.execute_reply": "2025-07-30T14:08:29.689056Z"
    },
    "papermill": {
     "duration": 0.016857,
     "end_time": "2025-07-30T14:08:29.690800",
     "exception": false,
     "start_time": "2025-07-30T14:08:29.673943",
     "status": "completed"
    },
    "tags": []
   },
   "outputs": [],
   "source": [
    "# class BenchmarkTester:\n",
    "#     def __init__(self, benchmark_path=\"/var/scratch/ave303/OP_bench/benchmark.json\", data_dir=\"/var/scratch/ave303/OP_bench/\"):\n",
    "#         self.device = \"cuda\" if torch.cuda.is_available() else \"cpu\"\n",
    "#         with open(benchmark_path, 'r') as f:\n",
    "#             self.benchmark = json.load(f)\n",
    "#         self.data_dir = data_dir\n",
    "    \n",
    "#     def format_question(self, question, model_name):\n",
    "#         \"\"\"Format a question for the model.\"\"\"\n",
    "\n",
    "#         if model_name==\"blip2\":\n",
    "#             return f\"Question: {question['question']} Answer:\"\n",
    "#         else:\n",
    "#             return f\"Question: {question['question']} Answer with a number and list of objects. Answer:\"\n",
    "\n",
    "#     def clean_answer(self, answer):\n",
    "#         \"\"\"Clean the model output to extract just the number.\"\"\"\n",
    "#         # Remove any text that's not a number\n",
    "#         # import re\n",
    "#         # numbers = re.findall(r'\\d+', answer)\n",
    "#         # if numbers:\n",
    "#         #     return numbers[0]  # Return the first number found\n",
    "#         # return answer\n",
    "#         \"\"\"Extract number and reasoning from the model's answer.\"\"\"\n",
    "#         # Try to extract number and reasoning using regex\n",
    "#         import re\n",
    "#         pattern = r'(\\d+)\\s*\\[(.*?)\\]'\n",
    "#         match = re.search(pattern, answer)\n",
    "        \n",
    "#         if match:\n",
    "#             number = match.group(1)\n",
    "#             objects = [obj.strip() for obj in match.group(2).split(',')]\n",
    "#             return {\n",
    "#                 \"count\": number,\n",
    "#                 \"reasoning\": objects\n",
    "#             }\n",
    "#         else:\n",
    "#             # Fallback if format isn't matched\n",
    "#             numbers = re.findall(r'\\d+', answer)\n",
    "#             return {\n",
    "#                 \"count\": numbers[0] if numbers else \"0\",\n",
    "#                 \"reasoning\": []\n",
    "#             }\n",
    "\n",
    "#     def model_generation(self, model_name, model, inputs, processor):\n",
    "#         \"\"\"Generate answer and decode.\"\"\"\n",
    "#         outputs = None  # Initialize outputs to None\n",
    "        \n",
    "#         if model_name==\"smolVLM2\":\n",
    "#             outputs = model.generate(**inputs, do_sample=False, max_new_tokens=64)\n",
    "#             answer = processor.batch_decode(\n",
    "#                 outputs,\n",
    "#                 skip_special_tokens=True,\n",
    "#             )[0]\n",
    "#         elif model_name==\"Qwen2.5-VL\":\n",
    "#             outputs = model.generate(**inputs, max_new_tokens=50)\n",
    "#             outputs = [\n",
    "#                 out_ids[len(in_ids) :] for in_ids, out_ids in zip(inputs.input_ids, outputs)\n",
    "#             ]\n",
    "#             answer = processor.batch_decode(\n",
    "#                 outputs, skip_special_tokens=True, clean_up_tokenization_spaces=False\n",
    "#             )[0]\n",
    "#         else:\n",
    "#             print(f\"Warning: Unknown model name '{model_name}' in model_generation.\")\n",
    "#             answer = \"\"  # Return an empty string\n",
    "\n",
    "#         return answer, outputs\n",
    "    \n",
    "#     def evaluate_model(self, model_name, model, processor, save_path, start_idx=0, batch_size=5):\n",
    "#         results = []\n",
    "#         print(f\"\\nEvaluating {model_name}...\")\n",
    "#         print(f\"Using device: {self.device}\")\n",
    "        \n",
    "#         # Force garbage collection before starting\n",
    "#         gc.collect()\n",
    "#         torch.cuda.empty_cache()\n",
    "\n",
    "#         try:\n",
    "#             images = self.benchmark['benchmark']['images'][start_idx:start_idx + batch_size]\n",
    "#             total_images = len(images)\n",
    "            \n",
    "#             for idx, image_data in enumerate(tqdm(images, desc=\"Processing images\")):\n",
    "#                 try:\n",
    "#                     print(f\"\\nProcessing image {idx+1}/{total_images}: {image_data['image_id']}\")\n",
    "#                     image_path = Path(self.data_dir)/image_data['path']\n",
    "#                     if not image_path.exists():\n",
    "#                         print(f\"Warning: Image not found at {image_path}\")\n",
    "#                         continue\n",
    "                    \n",
    "#                     # Load and preprocess image\n",
    "#                     image = Image.open(image_path).convert(\"RGB\")\n",
    "#                     image_results = []  # Store results for current image\n",
    "                    \n",
    "#                     for question in image_data['questions']:\n",
    "#                         try:\n",
    "#                             # prompt = self.format_question(question, model_name)\n",
    "#                             print(f\"Question: {question['question']}\")\n",
    "\n",
    "#                             messages = [\n",
    "#                                 {\n",
    "#                                     \"role\": \"user\",\n",
    "#                                     \"content\": [\n",
    "#                                         {\"type\": \"image\", \"image\": image},\n",
    "#                                         # {\"type\": \"text\", \"text\": f\"{question['question']} Answer format: total number(numerical) objects(within square brackets)\"},\n",
    "#                                         # {\"type\": \"text\", \"text\": f\"{question['question']} Provide just the total count and the list of objects in the given format \\n Format: number [objects]\"},\n",
    "#                                         # {\"type\": \"text\", \"text\": f\"{question['question']} Answer Format: number [objects]\"},\n",
    "#                                         {\"type\": \"text\", \"text\": f\"{question[\"question\"]} Your response MUST be in the following format and nothing else:\\n <NUMBER> [<OBJECT1>, <OBJECT2>, <OBJECT3>, ...]\"}\n",
    "#                                     ]\n",
    "#                                 },\n",
    "#                             ]\n",
    "                            \n",
    "#                             # Clear cache before processing each question\n",
    "#                             torch.cuda.empty_cache()\n",
    "                            \n",
    "#                             # Process image and text\n",
    "#                             # inputs = processor(images=image, text=prompt, return_tensors=\"pt\").to(self.device)\n",
    "#                             if model_name==\"smolVLM2\":\n",
    "#                                 inputs = processor.apply_chat_template(\n",
    "#                                     messages,\n",
    "#                                     add_generation_prompt=True,\n",
    "#                                     tokenize=True,\n",
    "#                                     return_dict=True,\n",
    "#                                     return_tensors=\"pt\",\n",
    "#                                 ).to(model.device, dtype=torch.float16)\n",
    "#                             else:\n",
    "                                \n",
    "#                                 text = processor.apply_chat_template(\n",
    "#                                     messages, tokenize=False, add_generation_prompt=True\n",
    "#                                 )\n",
    "#                                 # image_inputs, video_inputs = process_vision_info(messages)\n",
    "#                                 inputs = processor(\n",
    "#                                     text=text,\n",
    "#                                     images=image,\n",
    "#                                     videos=None,\n",
    "#                                     padding=True,\n",
    "#                                     return_tensors=\"pt\",\n",
    "#                                 ).to(\"cuda\")\n",
    "                            \n",
    "#                             # Generate answer with better settings\n",
    "#                             with torch.no_grad():\n",
    "#                                 answer, outputs = self.model_generation(model_name, model, inputs, processor)    #call for model.generate\n",
    "        \n",
    "#                             cleaned_answer = self.clean_answer(answer)\n",
    "                            \n",
    "#                             image_results.append({\n",
    "#                                 \"image_id\": image_data[\"image_id\"],\n",
    "#                                 \"image_type\": image_data[\"image_type\"],\n",
    "#                                 \"question_id\": question[\"id\"],\n",
    "#                                 \"question\": question[\"question\"],\n",
    "#                                 \"ground_truth\": question[\"answer\"],\n",
    "#                                 \"model_answer\": cleaned_answer[\"count\"],\n",
    "#                                 \"model_reasoning\": cleaned_answer[\"reasoning\"],\n",
    "#                                 \"raw_answer\": answer,  # Keep raw answer for debugging\n",
    "#                                 \"property_category\": question[\"property_category\"]\n",
    "#                             })\n",
    "                            \n",
    "#                             # Clear memory\n",
    "#                             del outputs, inputs\n",
    "#                             torch.cuda.empty_cache()\n",
    "                            \n",
    "#                         except Exception as e:\n",
    "#                             print(f\"Error processing question: {str(e)}\")\n",
    "#                             continue\n",
    "                    \n",
    "#                     # Add results from this image\n",
    "#                     results.extend(image_results)\n",
    "                    \n",
    "#                     # Save intermediate results only every 2 images or if it's the last image\n",
    "#                     if (idx + 1) % 2 == 0 or idx == total_images - 1:\n",
    "#                         with open(f\"{save_path}_checkpoint.json\", 'w') as f:\n",
    "#                             json.dump(results, f, indent=4)\n",
    "                            \n",
    "#                 except Exception as e:\n",
    "#                     print(f\"Error processing image {image_data['image_id']}: {str(e)}\")\n",
    "#                     continue\n",
    "            \n",
    "#             # Save final results\n",
    "#             if results:\n",
    "#                 with open(save_path, 'w') as f:\n",
    "#                     json.dump(results, f, indent=4)\n",
    "            \n",
    "#         except Exception as e:\n",
    "#             print(f\"An error occurred during evaluation: {str(e)}\")\n",
    "#             if results:\n",
    "#                 with open(f\"{save_path}_error_state.json\", 'w') as f:\n",
    "#                     json.dump(results, f, indent=4)\n",
    "        \n",
    "#         return results"
   ]
  },
  {
   "cell_type": "code",
   "execution_count": 5,
   "id": "26e3ef20",
   "metadata": {
    "execution": {
     "iopub.execute_input": "2025-07-30T14:08:29.704543Z",
     "iopub.status.busy": "2025-07-30T14:08:29.704359Z",
     "iopub.status.idle": "2025-07-30T14:08:29.721152Z",
     "shell.execute_reply": "2025-07-30T14:08:29.720476Z"
    },
    "papermill": {
     "duration": 0.025177,
     "end_time": "2025-07-30T14:08:29.722195",
     "exception": false,
     "start_time": "2025-07-30T14:08:29.697018",
     "status": "completed"
    },
    "tags": []
   },
   "outputs": [],
   "source": [
    "# import torch\n",
    "# import json\n",
    "# from pathlib import Path\n",
    "# from PIL import Image\n",
    "# import gc\n",
    "# import re\n",
    "# import time\n",
    "# from tqdm import tqdm\n",
    "# from typing import List, Dict, Any\n",
    "# import psutil\n",
    "# import os\n",
    "\n",
    "# class BenchmarkTester:\n",
    "#     def __init__(self, benchmark_path=\"/var/scratch/ave303/OP_bench/benchmark.json\", data_dir=\"/var/scratch/ave303/OP_bench/\"):\n",
    "#         self.device = \"cuda\" if torch.cuda.is_available() else \"cpu\"\n",
    "#         with open(benchmark_path, 'r') as f:\n",
    "#             self.benchmark = json.load(f)\n",
    "#         self.data_dir = data_dir\n",
    "        \n",
    "#         # Set memory optimization environment variables\n",
    "#         os.environ['PYTORCH_CUDA_ALLOC_CONF'] = 'expandable_segments:True'\n",
    "        \n",
    "#         # Memory monitoring\n",
    "#         self.max_memory_allocated = 0\n",
    "#         self.memory_threshold = 0.70  # 70% of GPU memory as threshold\n",
    "\n",
    "#     def get_gpu_memory_info(self):\n",
    "#         \"\"\"Get current GPU memory usage information.\"\"\"\n",
    "#         if torch.cuda.is_available():\n",
    "#             allocated = torch.cuda.memory_allocated() / 1024**3  # GB\n",
    "#             reserved = torch.cuda.memory_reserved() / 1024**3    # GB\n",
    "#             max_memory = torch.cuda.max_memory_allocated() / 1024**3  # GB\n",
    "#             total_memory = torch.cuda.get_device_properties(0).total_memory / 1024**3  # GB\n",
    "            \n",
    "#             return {\n",
    "#                 'allocated': allocated,\n",
    "#                 'reserved': reserved,\n",
    "#                 'max_allocated': max_memory,\n",
    "#                 'total': total_memory,\n",
    "#                 'free': total_memory - allocated,\n",
    "#                 'usage_percent': (allocated / total_memory) * 100\n",
    "#             }\n",
    "#         return None\n",
    "\n",
    "#     def aggressive_memory_cleanup(self):\n",
    "#         \"\"\"Perform aggressive memory cleanup - alias for ultra_aggressive_memory_cleanup.\"\"\"\n",
    "#         self.ultra_aggressive_memory_cleanup()\n",
    "\n",
    "#     def ultra_aggressive_memory_cleanup(self):\n",
    "#         \"\"\"Perform ultra-aggressive memory cleanup including model cache clearing.\"\"\"\n",
    "#         # Clear Python garbage collector multiple times\n",
    "#         for _ in range(5):\n",
    "#             gc.collect()\n",
    "        \n",
    "#         if torch.cuda.is_available():\n",
    "#             # Force synchronize all streams\n",
    "#             torch.cuda.synchronize()\n",
    "#             # Clear all cached memory\n",
    "#             torch.cuda.empty_cache()\n",
    "#             # Reset peak memory stats\n",
    "#             torch.cuda.reset_peak_memory_stats()\n",
    "#             # Force memory defragmentation\n",
    "#             torch.cuda.memory.empty_cache()\n",
    "#             # Another sync to ensure completion\n",
    "#             torch.cuda.synchronize()\n",
    "            \n",
    "#         # Force system memory cleanup\n",
    "#         import ctypes\n",
    "#         libc = ctypes.CDLL(\"libc.so.6\")\n",
    "#         libc.malloc_trim(0)\n",
    "\n",
    "#     def check_available_memory_and_restart_if_needed(self):\n",
    "#         \"\"\"Check if we need to recommend model restart due to fragmentation.\"\"\"\n",
    "#         memory_info = self.get_gpu_memory_info()\n",
    "#         if memory_info:\n",
    "#             # If allocated is much less than reserved, we have fragmentation\n",
    "#             fragmentation_ratio = memory_info['reserved'] / max(memory_info['allocated'], 0.1)\n",
    "#             if fragmentation_ratio > 2.0 and memory_info['usage_percent'] > 80:\n",
    "#                 print(f\"⚠️  Severe memory fragmentation detected (fragmentation ratio: {fragmentation_ratio:.2f})\")\n",
    "#                 print(\"Consider restarting the Python process to defragment GPU memory\")\n",
    "#                 return False\n",
    "#         return True\n",
    "\n",
    "#     def resize_image_if_needed(self, image, max_size=(512, 512)):\n",
    "#         \"\"\"Resize image aggressively to prevent memory issues.\"\"\"\n",
    "#         original_size = image.size\n",
    "        \n",
    "#         # Always resize to max_size to ensure consistent memory usage\n",
    "#         # Calculate aspect ratio preserving resize\n",
    "#         ratio = min(max_size[0] / original_size[0], max_size[1] / original_size[1])\n",
    "#         new_size = (int(original_size[0] * ratio), int(original_size[1] * ratio))\n",
    "        \n",
    "#         print(f\"Resizing image from {original_size} to {new_size}\")\n",
    "#         # Use NEAREST for fastest processing and lowest memory\n",
    "#         image = image.resize(new_size, Image.Resampling.NEAREST)\n",
    "        \n",
    "#         return image\n",
    "\n",
    "#     def check_memory_before_processing(self, image_id, skip_if_high=True):\n",
    "#         \"\"\"Check if we have enough memory before processing with option to skip.\"\"\"\n",
    "#         memory_info = self.get_gpu_memory_info()\n",
    "#         if memory_info and memory_info['usage_percent'] > self.memory_threshold * 100:\n",
    "#             print(f\"Warning: High memory usage ({memory_info['usage_percent']:.1f}%) before processing {image_id}\")\n",
    "#             self.ultra_aggressive_memory_cleanup()\n",
    "            \n",
    "#             # Check again after cleanup\n",
    "#             memory_info = self.get_gpu_memory_info()\n",
    "#             if memory_info['usage_percent'] > self.memory_threshold * 100:\n",
    "#                 print(f\"Critical: Still high memory usage ({memory_info['usage_percent']:.1f}%) after cleanup\")\n",
    "                \n",
    "#                 # Check for fragmentation issues\n",
    "#                 if not self.check_available_memory_and_restart_if_needed():\n",
    "#                     return False\n",
    "                    \n",
    "#                 if skip_if_high:\n",
    "#                     print(f\"Skipping {image_id} due to insufficient memory\")\n",
    "#                     return False\n",
    "#         return True\n",
    "\n",
    "#     def clean_answer(self, answer):\n",
    "#         \"\"\"Extract number and reasoning from the model's answer.\"\"\"\n",
    "#         import re\n",
    "#         pattern = r'(\\d+)\\s*\\[(.*?)\\]'\n",
    "#         match = re.search(pattern, answer)\n",
    "        \n",
    "#         if match:\n",
    "#             number = match.group(1)\n",
    "#             objects = [obj.strip() for obj in match.group(2).split(',')]\n",
    "#             return {\n",
    "#                 \"count\": number,\n",
    "#                 \"reasoning\": objects\n",
    "#             }\n",
    "#         else:\n",
    "#             numbers = re.findall(r'\\d+', answer)\n",
    "#             return {\n",
    "#                 \"count\": numbers[0] if numbers else \"0\",\n",
    "#                 \"reasoning\": []\n",
    "#             }\n",
    "\n",
    "#     def model_generation(self, model_name, model, inputs, processor):\n",
    "#         \"\"\"Generate answer with memory-optimized inference.\"\"\"\n",
    "#         outputs = None\n",
    "        \n",
    "#         try:\n",
    "#             if model_name == \"Qwen2.5-VL\":\n",
    "#                 # Use gradient checkpointing and mixed precision if available\n",
    "#                 with torch.cuda.amp.autocast(enabled=True):\n",
    "#                     outputs = model.generate(\n",
    "#                         **inputs, \n",
    "#                         max_new_tokens=200,\n",
    "#                         do_sample=False,\n",
    "#                         temperature=None,\n",
    "#                         top_p=None,\n",
    "#                         top_k=None,\n",
    "#                         num_beams=1,\n",
    "#                         early_stopping=False,\n",
    "#                         pad_token_id=processor.tokenizer.pad_token_id,\n",
    "#                         eos_token_id=processor.tokenizer.eos_token_id,\n",
    "#                         use_cache=False,  # Disable KV cache to save memory\n",
    "#                     )\n",
    "                \n",
    "#                 outputs = [\n",
    "#                     out_ids[len(in_ids):] for in_ids, out_ids in zip(inputs.input_ids, outputs)\n",
    "#                 ]\n",
    "#                 answer = processor.batch_decode(\n",
    "#                     outputs, skip_special_tokens=True, clean_up_tokenization_spaces=False\n",
    "#                 )[0]\n",
    "#             else:\n",
    "#                 print(f\"Warning: Unknown model name '{model_name}' in model_generation.\")\n",
    "#                 answer = \"\"\n",
    "\n",
    "#             return answer, outputs\n",
    "            \n",
    "#         except torch.cuda.OutOfMemoryError as e:\n",
    "#             print(f\"CUDA OOM during generation: {e}\")\n",
    "#             # Aggressive cleanup and retry once\n",
    "#             self.aggressive_memory_cleanup()\n",
    "#             raise e\n",
    "\n",
    "#     def process_single_question(self, model_name, model, processor, image, question, image_id):\n",
    "#         \"\"\"Process a single question with extreme memory optimization.\"\"\"\n",
    "#         try:\n",
    "#             # Ultra-aggressive pre-check\n",
    "#             if not self.check_memory_before_processing(f\"{image_id}_q{question['id']}\", skip_if_high=False):\n",
    "#                 raise RuntimeError(\"Insufficient GPU memory after cleanup\")\n",
    "\n",
    "#             # Create a minimal image copy to avoid references\n",
    "#             image_copy = image.copy()\n",
    "            \n",
    "#             messages = [\n",
    "#                 {\n",
    "#                     \"role\": \"user\",\n",
    "#                     \"content\": [\n",
    "#                         {\"type\": \"image\", \"image\": image_copy},\n",
    "#                         {\"type\": \"text\", \"text\": f\"{question['question']} Your response MUST be in the following format and nothing else:\\n <NUMBER> [<OBJECT1>, <OBJECT2>, <OBJECT3>, ...]\"}\n",
    "#                     ]\n",
    "#                 },\n",
    "#             ]\n",
    "            \n",
    "#             # Process with maximum memory optimization\n",
    "#             text = processor.apply_chat_template(\n",
    "#                 messages, tokenize=False, add_generation_prompt=True\n",
    "#             )\n",
    "            \n",
    "#             # Monitor memory before tokenization\n",
    "#             memory_before = self.get_gpu_memory_info()\n",
    "#             if memory_before and memory_before['usage_percent'] > 75:\n",
    "#                 print(f\"⚠️  Memory usage high before tokenization: {memory_before['usage_percent']:.1f}%\")\n",
    "#                 self.ultra_aggressive_memory_cleanup()\n",
    "            \n",
    "#             # Process inputs with minimal memory footprint\n",
    "#             inputs = processor(\n",
    "#                 text=text,\n",
    "#                 images=image_copy,\n",
    "#                 videos=None,\n",
    "#                 padding=True,\n",
    "#                 return_tensors=\"pt\",\n",
    "#             )\n",
    "            \n",
    "#             # Move to device only when needed\n",
    "#             inputs = {k: v.to(self.device) if hasattr(v, 'to') else v for k, v in inputs.items()}\n",
    "            \n",
    "#             # Delete image copy immediately\n",
    "#             del image_copy, messages\n",
    "#             self.ultra_aggressive_memory_cleanup()\n",
    "            \n",
    "#             # Monitor memory before generation\n",
    "#             memory_before_gen = self.get_gpu_memory_info()\n",
    "#             if memory_before_gen:\n",
    "#                 print(f\"Memory before generation: {memory_before_gen['usage_percent']:.1f}%\")\n",
    "#                 if memory_before_gen['usage_percent'] > 85:\n",
    "#                     raise RuntimeError(f\"Memory too high for generation: {memory_before_gen['usage_percent']:.1f}%\")\n",
    "            \n",
    "#             # Generate with maximum memory efficiency\n",
    "#             with torch.no_grad():\n",
    "#                 with torch.cuda.amp.autocast(enabled=True, dtype=torch.float16):\n",
    "#                     answer, outputs = self.model_generation(model_name, model, inputs, processor)\n",
    "            \n",
    "#             cleaned_answer = self.clean_answer(answer)\n",
    "            \n",
    "#             # Immediate and thorough cleanup\n",
    "#             del outputs, inputs\n",
    "#             self.ultra_aggressive_memory_cleanup()\n",
    "            \n",
    "#             return {\n",
    "#                 \"question_id\": question[\"id\"],\n",
    "#                 \"question\": question[\"question\"],\n",
    "#                 \"ground_truth\": question[\"answer\"],\n",
    "#                 \"model_answer\": cleaned_answer[\"count\"],\n",
    "#                 \"model_reasoning\": cleaned_answer[\"reasoning\"],\n",
    "#                 \"raw_answer\": answer,\n",
    "#                 \"property_category\": question[\"property_category\"]\n",
    "#             }\n",
    "            \n",
    "#         except (torch.cuda.OutOfMemoryError, RuntimeError) as e:\n",
    "#             print(f\"Error processing question {question['id']}: {e}\")\n",
    "#             self.ultra_aggressive_memory_cleanup()\n",
    "#             raise e\n",
    "\n",
    "#     def evaluate_model(self, model_name, model, processor, save_path, start_idx=0, batch_size=5):\n",
    "#         results = []\n",
    "        \n",
    "#         # Initialize tracking variables\n",
    "#         successful_images = []\n",
    "#         failed_images = []\n",
    "#         total_questions_processed = 0\n",
    "#         total_questions_failed = 0\n",
    "        \n",
    "#         print(f\"\\nEvaluating {model_name}...\")\n",
    "#         print(f\"Using device: {self.device}\")\n",
    "        \n",
    "#         # Initial memory cleanup\n",
    "#         self.ultra_aggressive_memory_cleanup()\n",
    "        \n",
    "#         # Print initial memory status\n",
    "#         memory_info = self.get_gpu_memory_info()\n",
    "#         if memory_info:\n",
    "#             print(f\"Initial GPU memory: {memory_info['usage_percent']:.1f}% used\")\n",
    "\n",
    "#         try:\n",
    "#             images = self.benchmark['benchmark']['images'][start_idx:start_idx + batch_size]\n",
    "#             total_images = len(images)\n",
    "            \n",
    "#             for idx, image_data in enumerate(tqdm(images, desc=\"Processing images\")):\n",
    "#                 image_start_time = time.time()\n",
    "#                 current_image_questions_failed = 0\n",
    "#                 current_image_questions_total = 0\n",
    "                \n",
    "#                 try:\n",
    "#                     image_path = Path(self.data_dir) / image_data['path']\n",
    "#                     if not image_path.exists():\n",
    "#                         failed_images.append({\n",
    "#                             'image_id': image_data['image_id'],\n",
    "#                             'image_type': image_data.get('image_type', 'unknown'),\n",
    "#                             'error_type': 'file_not_found',\n",
    "#                             'error_message': f'Image not found at {image_path}'\n",
    "#                         })\n",
    "#                         continue\n",
    "                    \n",
    "#                     # Load and preprocess image with size control\n",
    "#                     image = Image.open(image_path).convert(\"RGB\")\n",
    "#                     print(f\"Original image size: {image.size}\")\n",
    "                    \n",
    "#                     # Resize aggressively - much smaller images\n",
    "#                     image = self.resize_image_if_needed(image, max_size=(384, 384))\n",
    "                    \n",
    "#                     image_results = []\n",
    "                    \n",
    "#                     # Process questions one by one with memory monitoring\n",
    "#                     for question_idx, question in enumerate(image_data['questions']):\n",
    "#                         current_image_questions_total += 1\n",
    "#                         total_questions_processed += 1\n",
    "                        \n",
    "#                         try:\n",
    "#                             # Process single question\n",
    "#                             question_result = self.process_single_question(\n",
    "#                                 model_name, model, processor, image, question, image_data['image_id']\n",
    "#                             )\n",
    "                            \n",
    "#                             # Add image metadata\n",
    "#                             question_result.update({\n",
    "#                                 \"image_id\": image_data[\"image_id\"],\n",
    "#                                 \"image_type\": image_data.get(\"image_type\", \"unknown\")\n",
    "#                             })\n",
    "                            \n",
    "#                             image_results.append(question_result)\n",
    "                            \n",
    "#                         except Exception as e:\n",
    "#                             print(f\"Failed question {question['id']}: {e}\")\n",
    "#                             current_image_questions_failed += 1\n",
    "#                             total_questions_failed += 1\n",
    "#                             continue\n",
    "                    \n",
    "#                     # Add results from this image\n",
    "#                     results.extend(image_results)\n",
    "                    \n",
    "#                     # Calculate success metrics\n",
    "#                     questions_succeeded = current_image_questions_total - current_image_questions_failed\n",
    "                    \n",
    "#                     if current_image_questions_failed == 0:\n",
    "#                         successful_images.append({\n",
    "#                             'image_id': image_data['image_id'],\n",
    "#                             'image_type': image_data.get('image_type', 'unknown'),\n",
    "#                             'questions_total': current_image_questions_total,\n",
    "#                             'questions_succeeded': questions_succeeded,\n",
    "#                             'processing_time': time.time() - image_start_time\n",
    "#                         })\n",
    "#                     else:\n",
    "#                         image_success_rate = (questions_succeeded / current_image_questions_total * 100) if current_image_questions_total > 0 else 0\n",
    "#                         failed_images.append({\n",
    "#                             'image_id': image_data['image_id'],\n",
    "#                             'image_type': image_data.get('image_type', 'unknown'),\n",
    "#                             'error_type': 'partial_failure',\n",
    "#                             'questions_total': current_image_questions_total,\n",
    "#                             'questions_failed': current_image_questions_failed,\n",
    "#                             'questions_succeeded': questions_succeeded,\n",
    "#                             'success_rate': f\"{image_success_rate:.1f}%\"\n",
    "#                         })\n",
    "                    \n",
    "#                     # Ultra-aggressive cleanup after each image\n",
    "#                     del image\n",
    "#                     self.ultra_aggressive_memory_cleanup()\n",
    "                    \n",
    "#                     # Save intermediate results\n",
    "#                     if (idx + 1) % 2 == 0 or idx == total_images - 1:\n",
    "#                         checkpoint_path = f\"{save_path}_checkpoint.json\"\n",
    "#                         with open(checkpoint_path, 'w') as f:\n",
    "#                             json.dump(results, f, indent=4)\n",
    "                            \n",
    "#                 except Exception as e:\n",
    "#                     print(f\"Complete failure for image {image_data['image_id']}: {e}\")\n",
    "#                     failed_images.append({\n",
    "#                         'image_id': image_data['image_id'],\n",
    "#                         'image_type': image_data.get('image_type', 'unknown'),\n",
    "#                         'error_type': 'complete_failure',\n",
    "#                         'error_message': str(e)\n",
    "#                     })\n",
    "                    \n",
    "#                     # Cleanup even on failure\n",
    "#                     self.ultra_aggressive_memory_cleanup()\n",
    "#                     continue\n",
    "            \n",
    "#             # Save final results\n",
    "#             if results:\n",
    "#                 with open(save_path, 'w') as f:\n",
    "#                     json.dump(results, f, indent=4)\n",
    "            \n",
    "#         except Exception as e:\n",
    "#             print(f\"Critical error during evaluation: {e}\")\n",
    "#             if results:\n",
    "#                 error_save_path = f\"{save_path}_error_state.json\"\n",
    "#                 with open(error_save_path, 'w') as f:\n",
    "#                     json.dump(results, f, indent=4)\n",
    "        \n",
    "#         # Print comprehensive summary\n",
    "#         self._print_evaluation_summary(\n",
    "#             model_name, total_images, successful_images, failed_images, \n",
    "#             total_questions_processed, total_questions_failed, len(results)\n",
    "#         )\n",
    "        \n",
    "#         return results\n",
    "    \n",
    "#     def _print_evaluation_summary(self, model_name, total_images, successful_images, \n",
    "#                                 failed_images, total_questions_processed, total_questions_failed, total_results):\n",
    "#         \"\"\"Print a comprehensive evaluation summary.\"\"\"\n",
    "#         print(f\"\\n{'='*60}\")\n",
    "#         print(f\"EVALUATION SUMMARY FOR {model_name.upper()}\")\n",
    "#         print(f\"{'='*60}\")\n",
    "        \n",
    "#         # Image-level statistics\n",
    "#         num_successful = len(successful_images)\n",
    "#         num_failed = len(failed_images)\n",
    "        \n",
    "#         print(f\"📊 IMAGE PROCESSING SUMMARY:\")\n",
    "#         print(f\"   Total images attempted: {total_images}\")\n",
    "#         print(f\"   Successfully processed: {num_successful} ({num_successful/total_images*100:.1f}%)\")\n",
    "#         print(f\"   Failed images: {num_failed} ({num_failed/total_images*100:.1f}%)\")\n",
    "        \n",
    "#         # Question-level statistics\n",
    "#         questions_succeeded = total_questions_processed - total_questions_failed\n",
    "#         print(f\"\\n📝 QUESTION PROCESSING SUMMARY:\")\n",
    "#         print(f\"   Total questions attempted: {total_questions_processed}\")\n",
    "#         print(f\"   Successfully processed: {questions_succeeded} ({questions_succeeded/total_questions_processed*100:.1f}%)\")\n",
    "#         print(f\"   Failed questions: {total_questions_failed} ({total_questions_failed/total_questions_processed*100:.1f}%)\")\n",
    "#         print(f\"   Results saved: {total_results}\")\n",
    "        \n",
    "#         # Memory usage summary\n",
    "#         memory_info = self.get_gpu_memory_info()\n",
    "#         if memory_info:\n",
    "#             print(f\"\\n🧠 FINAL MEMORY USAGE:\")\n",
    "#             print(f\"   Current allocation: {memory_info['allocated']:.2f} GB ({memory_info['usage_percent']:.1f}%)\")\n",
    "#             print(f\"   Peak allocation: {memory_info['max_allocated']:.2f} GB\")\n",
    "#             print(f\"   Total GPU memory: {memory_info['total']:.2f} GB\")\n",
    "        \n",
    "#         # Successful images details\n",
    "#         if successful_images:\n",
    "#             print(f\"\\n✅ SUCCESSFUL IMAGES ({len(successful_images)}):\")\n",
    "#             for img in successful_images:\n",
    "#                 print(f\"   • {img['image_id']} (Type: {img['image_type']}, \"\n",
    "#                       f\"Questions: {img['questions_succeeded']}/{img['questions_total']}, \"\n",
    "#                       f\"Time: {img['processing_time']:.1f}s)\")\n",
    "        \n",
    "#         # Failed images details\n",
    "#         if failed_images:\n",
    "#             print(f\"\\n❌ FAILED/PROBLEMATIC IMAGES ({len(failed_images)}):\")\n",
    "#             for img in failed_images:\n",
    "#                 if img['error_type'] == 'complete_failure':\n",
    "#                     print(f\"   • {img['image_id']} (Type: {img['image_type']}) - \"\n",
    "#                           f\"COMPLETE FAILURE: {img.get('error_message', 'Unknown error')}\")\n",
    "#                 elif img['error_type'] == 'partial_failure':\n",
    "#                     print(f\"   • {img['image_id']} (Type: {img['image_type']}) - \"\n",
    "#                           f\"PARTIAL: {img['questions_failed']}/{img['questions_total']} failed \"\n",
    "#                           f\"({img['success_rate']} success)\")\n",
    "#                 elif img['error_type'] == 'file_not_found':\n",
    "#                     print(f\"   • {img['image_id']} (Type: {img['image_type']}) - \"\n",
    "#                           f\"FILE NOT FOUND: {img['error_message']}\")\n",
    "        \n",
    "#         print(f\"{'='*60}\\n\")"
   ]
  },
  {
   "cell_type": "code",
   "execution_count": 6,
   "id": "e1b03c43",
   "metadata": {
    "execution": {
     "iopub.execute_input": "2025-07-30T14:08:29.735875Z",
     "iopub.status.busy": "2025-07-30T14:08:29.735698Z",
     "iopub.status.idle": "2025-07-30T14:08:29.758799Z",
     "shell.execute_reply": "2025-07-30T14:08:29.758116Z"
    },
    "papermill": {
     "duration": 0.031325,
     "end_time": "2025-07-30T14:08:29.759778",
     "exception": false,
     "start_time": "2025-07-30T14:08:29.728453",
     "status": "completed"
    },
    "tags": []
   },
   "outputs": [],
   "source": [
    "class BenchmarkTester:\n",
    "    def __init__(self, benchmark_path=\"/var/scratch/ave303/OP_bench/benchmark.json\", data_dir=\"/var/scratch/ave303/OP_bench/\"):\n",
    "        self.device = \"cuda\" if torch.cuda.is_available() else \"cpu\"\n",
    "        with open(benchmark_path, 'r') as f:\n",
    "            self.benchmark = json.load(f)\n",
    "        self.data_dir = data_dir\n",
    "\n",
    "    def clean_answer(self, answer):\n",
    "        \"\"\"Extract number and reasoning from the model's answer.\"\"\"\n",
    "        # Try to extract number and reasoning using regex\n",
    "        import re\n",
    "        pattern = r'(\\d+)\\s*\\[(.*?)\\]'\n",
    "        match = re.search(pattern, answer)\n",
    "        \n",
    "        if match:\n",
    "            number = match.group(1)\n",
    "            objects = [obj.strip() for obj in match.group(2).split(',')]\n",
    "            return {\n",
    "                \"count\": number,\n",
    "                \"reasoning\": objects\n",
    "            }\n",
    "        else:\n",
    "            # Fallback if format isn't matched\n",
    "            numbers = re.findall(r'\\d+', answer)\n",
    "            return {\n",
    "                \"count\": numbers[0] if numbers else \"0\",\n",
    "                \"reasoning\": []\n",
    "            }\n",
    "\n",
    "    def model_generation(self, model_name, model, inputs, processor):\n",
    "        \"\"\"Generate answer and decode with greedy decoding.\"\"\"\n",
    "        outputs = None  # Initialize outputs to None\n",
    "        \n",
    "        if model_name == \"Qwen2.5-VL\":\n",
    "            # Explicit greedy decoding parameters\n",
    "            outputs = model.generate(\n",
    "                **inputs, \n",
    "                max_new_tokens=200,\n",
    "                do_sample=False,          # Disable sampling for greedy decoding\n",
    "                temperature=None,         # Not used in greedy decoding\n",
    "                top_p=None,              # Not used in greedy decoding  \n",
    "                top_k=None,              # Not used in greedy decoding\n",
    "                num_beams=1,             # Single beam for greedy decoding\n",
    "                early_stopping=False,    # Let it generate until max_tokens or EOS\n",
    "                pad_token_id=processor.tokenizer.pad_token_id,\n",
    "                eos_token_id=processor.tokenizer.eos_token_id\n",
    "            )\n",
    "            outputs = [\n",
    "                out_ids[len(in_ids) :] for in_ids, out_ids in zip(inputs.input_ids, outputs)\n",
    "            ]\n",
    "            answer = processor.batch_decode(\n",
    "                outputs, skip_special_tokens=True, clean_up_tokenization_spaces=False\n",
    "            )[0]\n",
    "        else:\n",
    "            print(f\"Warning: Unknown model name '{model_name}' in model_generation.\")\n",
    "            answer = \"\"  # Return an empty string\n",
    "\n",
    "        return answer, outputs\n",
    "    \n",
    "    def evaluate_model(self, model_name, model, processor, save_path, start_idx=0, batch_size=5):\n",
    "        results = []\n",
    "        \n",
    "        # Initialize tracking variables\n",
    "        successful_images = []\n",
    "        failed_images = []\n",
    "        total_questions_processed = 0\n",
    "        total_questions_failed = 0\n",
    "        \n",
    "        print(f\"\\nEvaluating {model_name}...\")\n",
    "        print(f\"Using device: {self.device}\")\n",
    "        \n",
    "        # Force garbage collection before starting\n",
    "        gc.collect()\n",
    "        torch.cuda.empty_cache()\n",
    "\n",
    "        try:\n",
    "            images = self.benchmark['benchmark']['images'][start_idx:start_idx + batch_size]\n",
    "            total_images = len(images)\n",
    "            \n",
    "            for idx, image_data in enumerate(tqdm(images, desc=\"Processing images\")):\n",
    "                image_start_time = time.time()\n",
    "                current_image_questions_failed = 0\n",
    "                current_image_questions_total = 0\n",
    "                \n",
    "                try:\n",
    "                    image_path = Path(self.data_dir)/image_data['path']\n",
    "                    if not image_path.exists():\n",
    "                        failed_images.append({\n",
    "                            'image_id': image_data['image_id'],\n",
    "                            'image_type': image_data.get('image_type', 'unknown'),\n",
    "                            'error_type': 'file_not_found',\n",
    "                            'error_message': f'Image not found at {image_path}'\n",
    "                        })\n",
    "                        continue\n",
    "                    \n",
    "                    # Load and preprocess image\n",
    "                    image = Image.open(image_path).convert(\"RGB\")\n",
    "                    image_results = []  # Store results for current image\n",
    "                    \n",
    "                    for question_idx, question in enumerate(image_data['questions']):\n",
    "                        current_image_questions_total += 1\n",
    "                        total_questions_processed += 1\n",
    "                        \n",
    "                        try:\n",
    "                            messages = [\n",
    "                                {\n",
    "                                    \"role\": \"user\",\n",
    "                                    \"content\": [\n",
    "                                        {\"type\": \"image\", \"image\": image},\n",
    "                                        {\"type\": \"text\", \"text\": f\"{question['question']} Your response MUST be in the following format and nothing else:\\n <NUMBER> [<OBJECT1>, <OBJECT2>, <OBJECT3>, ...]\"}\n",
    "                                    ]\n",
    "                                },\n",
    "                            ]\n",
    "                            \n",
    "                            # Clear cache before processing each question\n",
    "                            torch.cuda.empty_cache()\n",
    "                            \n",
    "                            # Process image and text for Qwen2.5-VL\n",
    "                            text = processor.apply_chat_template(\n",
    "                                messages, tokenize=False, add_generation_prompt=True\n",
    "                            )\n",
    "                            inputs = processor(\n",
    "                                text=text,\n",
    "                                images=image,\n",
    "                                videos=None,\n",
    "                                padding=True,\n",
    "                                return_tensors=\"pt\",\n",
    "                            ).to(\"cuda\")\n",
    "                            \n",
    "                            # Generate answer with greedy decoding\n",
    "                            with torch.no_grad():\n",
    "                                answer, outputs = self.model_generation(model_name, model, inputs, processor)\n",
    "        \n",
    "                            cleaned_answer = self.clean_answer(answer)\n",
    "                            \n",
    "                            image_results.append({\n",
    "                                \"image_id\": image_data[\"image_id\"],\n",
    "                                \"image_type\": image_data.get(\"image_type\", \"unknown\"),\n",
    "                                \"question_id\": question[\"id\"],\n",
    "                                \"question\": question[\"question\"],\n",
    "                                \"ground_truth\": question[\"answer\"],\n",
    "                                \"model_answer\": cleaned_answer[\"count\"],\n",
    "                                \"model_reasoning\": cleaned_answer[\"reasoning\"],\n",
    "                                \"raw_answer\": answer,  # Keep raw answer for debugging\n",
    "                                \"property_category\": question[\"property_category\"]\n",
    "                            })\n",
    "                            \n",
    "                            # Clear memory\n",
    "                            del outputs, inputs\n",
    "                            torch.cuda.empty_cache()\n",
    "                            \n",
    "                        except Exception as e:\n",
    "                            current_image_questions_failed += 1\n",
    "                            total_questions_failed += 1\n",
    "                            continue\n",
    "                    \n",
    "                    # Add results from this image\n",
    "                    results.extend(image_results)\n",
    "                    \n",
    "                    # Calculate success rate for this image\n",
    "                    questions_succeeded = current_image_questions_total - current_image_questions_failed\n",
    "                    \n",
    "                    if current_image_questions_failed == 0:\n",
    "                        # All questions succeeded\n",
    "                        successful_images.append({\n",
    "                            'image_id': image_data['image_id'],\n",
    "                            'image_type': image_data.get('image_type', 'unknown'),\n",
    "                            'questions_total': current_image_questions_total,\n",
    "                            'questions_succeeded': questions_succeeded,\n",
    "                            'processing_time': time.time() - image_start_time\n",
    "                        })\n",
    "                    else:\n",
    "                        # Some questions failed\n",
    "                        image_success_rate = (questions_succeeded / current_image_questions_total * 100) if current_image_questions_total > 0 else 0\n",
    "                        failed_images.append({\n",
    "                            'image_id': image_data['image_id'],\n",
    "                            'image_type': image_data.get('image_type', 'unknown'),\n",
    "                            'error_type': 'partial_failure',\n",
    "                            'questions_total': current_image_questions_total,\n",
    "                            'questions_failed': current_image_questions_failed,\n",
    "                            'questions_succeeded': questions_succeeded,\n",
    "                            'success_rate': f\"{image_success_rate:.1f}%\"\n",
    "                        })\n",
    "                    \n",
    "                    # Save intermediate results only every 2 images or if it's the last image\n",
    "                    if (idx + 1) % 2 == 0 or idx == total_images - 1:\n",
    "                        checkpoint_path = f\"{save_path}_checkpoint.json\"\n",
    "                        with open(checkpoint_path, 'w') as f:\n",
    "                            json.dump(results, f, indent=4)\n",
    "                            \n",
    "                except Exception as e:\n",
    "                    failed_images.append({\n",
    "                        'image_id': image_data['image_id'],\n",
    "                        'image_type': image_data.get('image_type', 'unknown'),\n",
    "                        'error_type': 'complete_failure',\n",
    "                        'error_message': str(e)\n",
    "                    })\n",
    "                    continue\n",
    "            \n",
    "            # Save final results\n",
    "            if results:\n",
    "                with open(save_path, 'w') as f:\n",
    "                    json.dump(results, f, indent=4)\n",
    "            \n",
    "        except Exception as e:\n",
    "            if results:\n",
    "                error_save_path = f\"{save_path}_error_state.json\"\n",
    "                with open(error_save_path, 'w') as f:\n",
    "                    json.dump(results, f, indent=4)\n",
    "        \n",
    "        # Print comprehensive summary\n",
    "        self._print_evaluation_summary(\n",
    "            model_name, total_images, successful_images, failed_images, \n",
    "            total_questions_processed, total_questions_failed, len(results)\n",
    "        )\n",
    "        \n",
    "        return results\n",
    "    \n",
    "    def _print_evaluation_summary(self, model_name, total_images, successful_images, \n",
    "                                failed_images, total_questions_processed, total_questions_failed, total_results):\n",
    "        \"\"\"Print a comprehensive evaluation summary.\"\"\"\n",
    "        print(f\"\\n{'='*60}\")\n",
    "        print(f\"EVALUATION SUMMARY FOR {model_name.upper()}\")\n",
    "        print(f\"{'='*60}\")\n",
    "        \n",
    "        # Image-level statistics\n",
    "        num_successful = len(successful_images)\n",
    "        num_failed = len(failed_images)\n",
    "        \n",
    "        print(f\"📊 IMAGE PROCESSING SUMMARY:\")\n",
    "        print(f\"   Total images attempted: {total_images}\")\n",
    "        print(f\"   Successfully processed: {num_successful} ({num_successful/total_images*100:.1f}%)\")\n",
    "        print(f\"   Failed images: {num_failed} ({num_failed/total_images*100:.1f}%)\")\n",
    "        \n",
    "        # Question-level statistics\n",
    "        questions_succeeded = total_questions_processed - total_questions_failed\n",
    "        print(f\"\\n📝 QUESTION PROCESSING SUMMARY:\")\n",
    "        print(f\"   Total questions attempted: {total_questions_processed}\")\n",
    "        print(f\"   Successfully processed: {questions_succeeded} ({questions_succeeded/total_questions_processed*100:.1f}%)\")\n",
    "        print(f\"   Failed questions: {total_questions_failed} ({total_questions_failed/total_questions_processed*100:.1f}%)\")\n",
    "        print(f\"   Results saved: {total_results}\")\n",
    "        \n",
    "        # Successful images details\n",
    "        if successful_images:\n",
    "            print(f\"\\n✅ SUCCESSFUL IMAGES ({len(successful_images)}):\")\n",
    "            for img in successful_images:\n",
    "                print(f\"   • {img['image_id']} (Type: {img['image_type']}, \"\n",
    "                      f\"Questions: {img['questions_succeeded']}/{img['questions_total']}, \"\n",
    "                      f\"Time: {img['processing_time']:.1f}s)\")\n",
    "        \n",
    "        # Failed images details\n",
    "        if failed_images:\n",
    "            print(f\"\\n❌ FAILED/PROBLEMATIC IMAGES ({len(failed_images)}):\")\n",
    "            for img in failed_images:\n",
    "                if img['error_type'] == 'complete_failure':\n",
    "                    print(f\"   • {img['image_id']} (Type: {img['image_type']}) - \"\n",
    "                          f\"COMPLETE FAILURE: {img.get('error_message', 'Unknown error')}\")\n",
    "                elif img['error_type'] == 'partial_failure':\n",
    "                    print(f\"   • {img['image_id']} (Type: {img['image_type']}) - \"\n",
    "                          f\"PARTIAL: {img['questions_failed']}/{img['questions_total']} failed \"\n",
    "                          f\"({img['success_rate']} success)\")\n",
    "                elif img['error_type'] == 'file_not_found':\n",
    "                    print(f\"   • {img['image_id']} (Type: {img['image_type']}) - \"\n",
    "                          f\"FILE NOT FOUND: {img['error_message']}\")\n",
    "        \n",
    "        # Group failed images by type\n",
    "        if failed_images:\n",
    "            print(f\"\\n📈 FAILURE ANALYSIS BY IMAGE TYPE:\")\n",
    "            from collections import defaultdict\n",
    "            failures_by_type = defaultdict(list)\n",
    "            for img in failed_images:\n",
    "                failures_by_type[img['image_type']].append(img)\n",
    "            \n",
    "            for img_type, failures in failures_by_type.items():\n",
    "                print(f\"   • {img_type}: {len(failures)} failed images\")\n",
    "                for failure in failures:\n",
    "                    print(f\"     - {failure['image_id']} ({failure['error_type']})\")\n",
    "        \n",
    "        print(f\"{'='*60}\\n\")"
   ]
  },
  {
   "cell_type": "markdown",
   "id": "aa8d1f46",
   "metadata": {
    "papermill": {
     "duration": 0.005937,
     "end_time": "2025-07-30T14:08:29.772055",
     "exception": false,
     "start_time": "2025-07-30T14:08:29.766118",
     "status": "completed"
    },
    "tags": []
   },
   "source": [
    "## Test SmolVLM Model\n",
    "\n",
    "Let's evaluate the SmolVLM2-2.2B-Instruct model"
   ]
  },
  {
   "cell_type": "code",
   "execution_count": 7,
   "id": "a79701ba",
   "metadata": {
    "execution": {
     "iopub.execute_input": "2025-07-30T14:08:29.785152Z",
     "iopub.status.busy": "2025-07-30T14:08:29.784976Z",
     "iopub.status.idle": "2025-07-30T14:08:29.788603Z",
     "shell.execute_reply": "2025-07-30T14:08:29.788011Z"
    },
    "papermill": {
     "duration": 0.011399,
     "end_time": "2025-07-30T14:08:29.789691",
     "exception": false,
     "start_time": "2025-07-30T14:08:29.778292",
     "status": "completed"
    },
    "tags": []
   },
   "outputs": [],
   "source": [
    "# def test_smolVLM2():\n",
    "#     from transformers import AutoProcessor, AutoModelForImageTextToText\n",
    "\n",
    "#     print(\"Loading smolVLM model...\")\n",
    "    \n",
    "#     model = AutoModelForImageTextToText.from_pretrained(\n",
    "#         \"HuggingFaceTB/SmolVLM2-2.2B-Instruct\",\n",
    "#         torch_dtype=torch.float16,\n",
    "#         attn_implementation=\"flash_attention_2\",\n",
    "#         low_cpu_mem_usage=True,\n",
    "#         trust_remote_code=True\n",
    "#     ).to(\"cuda\")\n",
    "\n",
    "#     processor = AutoProcessor.from_pretrained(\"HuggingFaceTB/SmolVLM2-2.2B-Instruct\")\n",
    "\n",
    "#     ## A bit slow without the flash_attention2 requires ampere gpu's. Better performance in some cases\n",
    "\n",
    "#     # Optional: Enable memory efficient attention\n",
    "#     if hasattr(model.config, 'use_memory_efficient_attention'):\n",
    "#         model.config.use_memory_efficient_attention = True\n",
    "\n",
    "#     tester = BenchmarkTester()\n",
    "#     smolVLM_results = tester.evaluate_model(\n",
    "#         \"smolVLM2\",\n",
    "#         model, \n",
    "#         processor, \n",
    "#         \"smolVLM2_results_1.json\", \n",
    "#         batch_size=25\n",
    "#     )\n",
    "\n",
    "#     # Clean up\n",
    "#     del model, processor\n",
    "#     torch.cuda.empty_cache()\n",
    "#     gc.collect()"
   ]
  },
  {
   "cell_type": "markdown",
   "id": "e58773d1",
   "metadata": {
    "papermill": {
     "duration": 0.006075,
     "end_time": "2025-07-30T14:08:29.801922",
     "exception": false,
     "start_time": "2025-07-30T14:08:29.795847",
     "status": "completed"
    },
    "tags": []
   },
   "source": [
    "## Test Qwen2.5-VL\n",
    "\n",
    "Lets evaluate the Qwen2.5-VL-7B-Instruct model"
   ]
  },
  {
   "cell_type": "code",
   "execution_count": 8,
   "id": "d89d44c0",
   "metadata": {
    "execution": {
     "iopub.execute_input": "2025-07-30T14:08:29.815062Z",
     "iopub.status.busy": "2025-07-30T14:08:29.814882Z",
     "iopub.status.idle": "2025-07-30T14:08:29.820251Z",
     "shell.execute_reply": "2025-07-30T14:08:29.819574Z"
    },
    "papermill": {
     "duration": 0.013166,
     "end_time": "2025-07-30T14:08:29.821323",
     "exception": false,
     "start_time": "2025-07-30T14:08:29.808157",
     "status": "completed"
    },
    "tags": []
   },
   "outputs": [],
   "source": [
    "def test_Qwen2_5VL():\n",
    "    from transformers import Qwen2_5_VLForConditionalGeneration, AutoProcessor\n",
    "    from accelerate import Accelerator\n",
    "\n",
    "    accelerator = Accelerator()\n",
    "    device = accelerator.device\n",
    "    \n",
    "    # default: Load the model on the available device(s)\n",
    "    # model = Qwen2_5_VLForConditionalGeneration.from_pretrained(\n",
    "    #     \"Qwen/Qwen2.5-VL-3B-Instruct\", \n",
    "    #     load_in_8bit=True, # throws error when .to() is added\n",
    "    #     torch_dtype=torch.bfloat16, \n",
    "    #     device_map=\"auto\",\n",
    "    #     # attn_implementation=\"flash_attention_2\",\n",
    "    #     low_cpu_mem_usage=True\n",
    "    # )\n",
    "    \n",
    "    # We recommend enabling flash_attention_2 for better acceleration and memory saving, especially in multi-image and video scenarios.\n",
    "    model = Qwen2_5_VLForConditionalGeneration.from_pretrained(\n",
    "        \"/var/scratch/ave303/models/qwen2-5-vl-32b\",\n",
    "        torch_dtype=torch.float16,\n",
    "        # load_in_8bit=True,\n",
    "        attn_implementation=\"flash_attention_2\",\n",
    "        device_map=\"auto\",\n",
    "        low_cpu_mem_usage=True,\n",
    "        trust_remote_code=True\n",
    "    )\n",
    "\n",
    "    min_pixels = 256*28*28\n",
    "    max_pixels = 1280*28*28\n",
    "    \n",
    "    # default processer\n",
    "    processor = AutoProcessor.from_pretrained(\"/var/scratch/ave303/models/qwen2-5-vl-32b\", min_pixels=min_pixels, max_pixels=max_pixels)\n",
    "\n",
    "    ### Qwen2.5-VL-7B-Instruct --> goes out of CUDA memory\n",
    "    ### Qwen2.5-VL-3B-Instruct --> can handle only 2 images before going out of memory but decent performance\n",
    "\n",
    "    # Optional: Enable memory efficient attention\n",
    "    if hasattr(model.config, 'use_memory_efficient_attention'):\n",
    "        model.config.use_memory_efficient_attention = True\n",
    "\n",
    "    tester = BenchmarkTester()\n",
    "    Qwen2_5VL_results = tester.evaluate_model(\n",
    "        \"Qwen2.5-VL\",\n",
    "        model, \n",
    "        processor, \n",
    "        \"Qwen2-5-vl-32b_results.json\",\n",
    "        start_idx=0,\n",
    "        batch_size=360\n",
    "    )\n",
    "\n",
    "    # Clean up\n",
    "    del model, processor\n",
    "    torch.cuda.empty_cache()\n",
    "    gc.collect()"
   ]
  },
  {
   "cell_type": "markdown",
   "id": "b8c44613",
   "metadata": {
    "papermill": {
     "duration": 0.005964,
     "end_time": "2025-07-30T14:08:29.833540",
     "exception": false,
     "start_time": "2025-07-30T14:08:29.827576",
     "status": "completed"
    },
    "tags": []
   },
   "source": [
    "## Run Evaluation\n",
    "\n",
    "Now we can run our evaluation. Let's start with the SmolVLM2 model:"
   ]
  },
  {
   "cell_type": "code",
   "execution_count": 9,
   "id": "85fd857f",
   "metadata": {
    "execution": {
     "iopub.execute_input": "2025-07-30T14:08:29.846553Z",
     "iopub.status.busy": "2025-07-30T14:08:29.846279Z",
     "iopub.status.idle": "2025-07-30T14:08:29.849338Z",
     "shell.execute_reply": "2025-07-30T14:08:29.848751Z"
    },
    "papermill": {
     "duration": 0.010812,
     "end_time": "2025-07-30T14:08:29.850421",
     "exception": false,
     "start_time": "2025-07-30T14:08:29.839609",
     "status": "completed"
    },
    "tags": []
   },
   "outputs": [],
   "source": [
    "# test_smolVLM2()"
   ]
  },
  {
   "cell_type": "code",
   "execution_count": 10,
   "id": "01bf878b",
   "metadata": {
    "execution": {
     "iopub.execute_input": "2025-07-30T14:08:29.863457Z",
     "iopub.status.busy": "2025-07-30T14:08:29.863179Z",
     "iopub.status.idle": "2025-07-30T20:48:16.959021Z",
     "shell.execute_reply": "2025-07-30T20:48:16.958082Z"
    },
    "papermill": {
     "duration": 23987.103888,
     "end_time": "2025-07-30T20:48:16.960426",
     "exception": false,
     "start_time": "2025-07-30T14:08:29.856538",
     "status": "completed"
    },
    "tags": []
   },
   "outputs": [
    {
     "name": "stdout",
     "output_type": "stream",
     "text": [
      "[2025-07-30 16:08:32,726] [INFO] [real_accelerator.py:254:get_accelerator] Setting ds_accelerator to cuda (auto detect)\n"
     ]
    },
    {
     "name": "stdout",
     "output_type": "stream",
     "text": [
      "Warning: The cache directory for DeepSpeed Triton autotune, /home/ave303/.triton/autotune, appears to be on an NFS system. While this is generally acceptable, if you experience slowdowns or hanging when DeepSpeed exits, it is recommended to set the TRITON_CACHE_DIR environment variable to a non-NFS path.\n"
     ]
    },
    {
     "name": "stderr",
     "output_type": "stream",
     "text": [
      "/var/scratch/ave303/anaconda3/envs/op_bench/compiler_compat/ld: cannot find -laio: No such file or directory\n",
      "collect2: error: ld returned 1 exit status\n"
     ]
    },
    {
     "name": "stderr",
     "output_type": "stream",
     "text": [
      "/var/scratch/ave303/anaconda3/envs/op_bench/compiler_compat/ld: warning: libm.so.6, needed by /cm/shared/apps/cuda12.3/toolkit/12.3/lib64/libcufile.so, not found (try using -rpath or -rpath-link)\n",
      "/var/scratch/ave303/anaconda3/envs/op_bench/compiler_compat/ld: /cm/shared/apps/cuda12.3/toolkit/12.3/lib64/libcufile.so: undefined reference to `log2f@GLIBC_2.2.5'\n",
      "/var/scratch/ave303/anaconda3/envs/op_bench/compiler_compat/ld: /opt/ohpc/pub/compiler/gcc/12.4.0/lib64/libstdc++.so.6: undefined reference to `fesetround@GLIBC_2.2.5'\n",
      "/var/scratch/ave303/anaconda3/envs/op_bench/compiler_compat/ld: /cm/shared/apps/cuda12.3/toolkit/12.3/lib64/libcufile.so: undefined reference to `dlvsym'\n",
      "/var/scratch/ave303/anaconda3/envs/op_bench/compiler_compat/ld: /cm/shared/apps/cuda12.3/toolkit/12.3/lib64/libcufile.so: undefined reference to `dlopen'\n",
      "/var/scratch/ave303/anaconda3/envs/op_bench/compiler_compat/ld: /opt/ohpc/pub/compiler/gcc/12.4.0/lib64/libstdc++.so.6: undefined reference to `fegetround@GLIBC_2.2.5'\n",
      "/var/scratch/ave303/anaconda3/envs/op_bench/compiler_compat/ld: /cm/shared/apps/cuda12.3/toolkit/12.3/lib64/libcufile.so: undefined reference to `dlclose'\n",
      "/var/scratch/ave303/anaconda3/envs/op_bench/compiler_compat/ld: /cm/shared/apps/cuda12.3/toolkit/12.3/lib64/libcufile.so: undefined reference to `dlerror'\n",
      "/var/scratch/ave303/anaconda3/envs/op_bench/compiler_compat/ld: /cm/shared/apps/cuda12.3/toolkit/12.3/lib64/libcufile.so: undefined reference to `dlsym'\n",
      "/var/scratch/ave303/anaconda3/envs/op_bench/compiler_compat/ld: /cm/shared/apps/cuda12.3/toolkit/12.3/lib64/libcufile.so: undefined reference to `shm_open'\n",
      "/var/scratch/ave303/anaconda3/envs/op_bench/compiler_compat/ld: /cm/shared/apps/cuda12.3/toolkit/12.3/lib64/libcufile.so: undefined reference to `shm_unlink'\n",
      "collect2: error: ld returned 1 exit status\n"
     ]
    },
    {
     "name": "stdout",
     "output_type": "stream",
     "text": [
      "[2025-07-30 16:08:35,488] [INFO] [logging.py:107:log_dist] [Rank -1] [TorchCheckpointEngine] Initialized with serialization = False\n"
     ]
    },
    {
     "name": "stderr",
     "output_type": "stream",
     "text": [
      "Detected kernel version 4.18.0, which is below the recommended minimum of 5.5.0; this can cause the process to hang. It is recommended to upgrade the kernel to the minimum version or higher.\n"
     ]
    },
    {
     "name": "stderr",
     "output_type": "stream",
     "text": [
      "\r",
      "Loading checkpoint shards:   0%|          | 0/30 [00:00<?, ?it/s]"
     ]
    },
    {
     "name": "stderr",
     "output_type": "stream",
     "text": [
      "\r",
      "Loading checkpoint shards:   3%|▎         | 1/30 [00:02<01:00,  2.09s/it]"
     ]
    },
    {
     "name": "stderr",
     "output_type": "stream",
     "text": [
      "\r",
      "Loading checkpoint shards:   7%|▋         | 2/30 [00:04<01:09,  2.48s/it]"
     ]
    },
    {
     "name": "stderr",
     "output_type": "stream",
     "text": [
      "\r",
      "Loading checkpoint shards:  10%|█         | 3/30 [00:07<01:10,  2.61s/it]"
     ]
    },
    {
     "name": "stderr",
     "output_type": "stream",
     "text": [
      "\r",
      "Loading checkpoint shards:  13%|█▎        | 4/30 [00:10<01:09,  2.69s/it]"
     ]
    },
    {
     "name": "stderr",
     "output_type": "stream",
     "text": [
      "\r",
      "Loading checkpoint shards:  17%|█▋        | 5/30 [00:12<01:06,  2.64s/it]"
     ]
    },
    {
     "name": "stderr",
     "output_type": "stream",
     "text": [
      "\r",
      "Loading checkpoint shards:  20%|██        | 6/30 [00:16<01:07,  2.81s/it]"
     ]
    },
    {
     "name": "stderr",
     "output_type": "stream",
     "text": [
      "\r",
      "Loading checkpoint shards:  23%|██▎       | 7/30 [00:18<01:04,  2.82s/it]"
     ]
    },
    {
     "name": "stderr",
     "output_type": "stream",
     "text": [
      "\r",
      "Loading checkpoint shards:  27%|██▋       | 8/30 [00:21<01:02,  2.84s/it]"
     ]
    },
    {
     "name": "stderr",
     "output_type": "stream",
     "text": [
      "\r",
      "Loading checkpoint shards:  30%|███       | 9/30 [00:24<01:00,  2.90s/it]"
     ]
    },
    {
     "name": "stderr",
     "output_type": "stream",
     "text": [
      "\r",
      "Loading checkpoint shards:  33%|███▎      | 10/30 [00:27<00:58,  2.91s/it]"
     ]
    },
    {
     "name": "stderr",
     "output_type": "stream",
     "text": [
      "\r",
      "Loading checkpoint shards:  37%|███▋      | 11/30 [00:30<00:53,  2.82s/it]"
     ]
    },
    {
     "name": "stderr",
     "output_type": "stream",
     "text": [
      "\r",
      "Loading checkpoint shards:  40%|████      | 12/30 [00:33<00:51,  2.86s/it]"
     ]
    },
    {
     "name": "stderr",
     "output_type": "stream",
     "text": [
      "\r",
      "Loading checkpoint shards:  43%|████▎     | 13/30 [00:36<00:47,  2.81s/it]"
     ]
    },
    {
     "name": "stderr",
     "output_type": "stream",
     "text": [
      "\r",
      "Loading checkpoint shards:  47%|████▋     | 14/30 [00:38<00:44,  2.78s/it]"
     ]
    },
    {
     "name": "stderr",
     "output_type": "stream",
     "text": [
      "\r",
      "Loading checkpoint shards:  50%|█████     | 15/30 [00:41<00:42,  2.81s/it]"
     ]
    },
    {
     "name": "stderr",
     "output_type": "stream",
     "text": [
      "\r",
      "Loading checkpoint shards:  53%|█████▎    | 16/30 [00:44<00:39,  2.79s/it]"
     ]
    },
    {
     "name": "stderr",
     "output_type": "stream",
     "text": [
      "\r",
      "Loading checkpoint shards:  57%|█████▋    | 17/30 [00:46<00:35,  2.70s/it]"
     ]
    },
    {
     "name": "stderr",
     "output_type": "stream",
     "text": [
      "\r",
      "Loading checkpoint shards:  60%|██████    | 18/30 [00:49<00:32,  2.73s/it]"
     ]
    },
    {
     "name": "stderr",
     "output_type": "stream",
     "text": [
      "\r",
      "Loading checkpoint shards:  63%|██████▎   | 19/30 [00:52<00:30,  2.74s/it]"
     ]
    },
    {
     "name": "stderr",
     "output_type": "stream",
     "text": [
      "\r",
      "Loading checkpoint shards:  67%|██████▋   | 20/30 [00:55<00:27,  2.71s/it]"
     ]
    },
    {
     "name": "stderr",
     "output_type": "stream",
     "text": [
      "\r",
      "Loading checkpoint shards:  70%|███████   | 21/30 [00:57<00:24,  2.68s/it]"
     ]
    },
    {
     "name": "stderr",
     "output_type": "stream",
     "text": [
      "\r",
      "Loading checkpoint shards:  73%|███████▎  | 22/30 [01:00<00:20,  2.61s/it]"
     ]
    },
    {
     "name": "stderr",
     "output_type": "stream",
     "text": [
      "\r",
      "Loading checkpoint shards:  77%|███████▋  | 23/30 [01:02<00:18,  2.58s/it]"
     ]
    },
    {
     "name": "stderr",
     "output_type": "stream",
     "text": [
      "\r",
      "Loading checkpoint shards:  80%|████████  | 24/30 [01:05<00:15,  2.59s/it]"
     ]
    },
    {
     "name": "stderr",
     "output_type": "stream",
     "text": [
      "\r",
      "Loading checkpoint shards:  83%|████████▎ | 25/30 [01:07<00:12,  2.59s/it]"
     ]
    },
    {
     "name": "stderr",
     "output_type": "stream",
     "text": [
      "\r",
      "Loading checkpoint shards:  87%|████████▋ | 26/30 [01:10<00:10,  2.63s/it]"
     ]
    },
    {
     "name": "stderr",
     "output_type": "stream",
     "text": [
      "\r",
      "Loading checkpoint shards:  90%|█████████ | 27/30 [01:13<00:08,  2.76s/it]"
     ]
    },
    {
     "name": "stderr",
     "output_type": "stream",
     "text": [
      "\r",
      "Loading checkpoint shards:  93%|█████████▎| 28/30 [01:16<00:05,  2.76s/it]"
     ]
    },
    {
     "name": "stderr",
     "output_type": "stream",
     "text": [
      "\r",
      "Loading checkpoint shards:  97%|█████████▋| 29/30 [01:19<00:02,  2.78s/it]"
     ]
    },
    {
     "name": "stderr",
     "output_type": "stream",
     "text": [
      "\r",
      "Loading checkpoint shards: 100%|██████████| 30/30 [01:21<00:00,  2.66s/it]"
     ]
    },
    {
     "name": "stderr",
     "output_type": "stream",
     "text": [
      "\r",
      "Loading checkpoint shards: 100%|██████████| 30/30 [01:21<00:00,  2.72s/it]"
     ]
    },
    {
     "name": "stderr",
     "output_type": "stream",
     "text": [
      "\n"
     ]
    },
    {
     "name": "stderr",
     "output_type": "stream",
     "text": [
      "Some parameters are on the meta device device because they were offloaded to the cpu.\n"
     ]
    },
    {
     "name": "stderr",
     "output_type": "stream",
     "text": [
      "Using a slow image processor as `use_fast` is unset and a slow processor was saved with this model. `use_fast=True` will be the default behavior in v4.52, even if the model was saved with a slow processor. This will result in minor differences in outputs. You'll still be able to use a slow processor with `use_fast=False`.\n"
     ]
    },
    {
     "name": "stdout",
     "output_type": "stream",
     "text": [
      "\n",
      "Evaluating Qwen2.5-VL...\n",
      "Using device: cuda\n"
     ]
    },
    {
     "name": "stderr",
     "output_type": "stream",
     "text": [
      "\r",
      "Processing images:   0%|          | 0/360 [00:00<?, ?it/s]"
     ]
    },
    {
     "name": "stderr",
     "output_type": "stream",
     "text": [
      "\r",
      "Processing images:   0%|          | 1/360 [00:59<5:54:14, 59.21s/it]"
     ]
    },
    {
     "name": "stderr",
     "output_type": "stream",
     "text": [
      "\r",
      "Processing images:   1%|          | 2/360 [02:22<7:19:11, 73.61s/it]"
     ]
    },
    {
     "name": "stderr",
     "output_type": "stream",
     "text": [
      "\r",
      "Processing images:   1%|          | 3/360 [03:35<7:16:09, 73.30s/it]"
     ]
    },
    {
     "name": "stderr",
     "output_type": "stream",
     "text": [
      "\r",
      "Processing images:   1%|          | 4/360 [05:02<7:46:41, 78.65s/it]"
     ]
    },
    {
     "name": "stderr",
     "output_type": "stream",
     "text": [
      "\r",
      "Processing images:   1%|▏         | 5/360 [06:20<7:42:43, 78.21s/it]"
     ]
    },
    {
     "name": "stderr",
     "output_type": "stream",
     "text": [
      "\r",
      "Processing images:   2%|▏         | 6/360 [07:52<8:09:04, 82.89s/it]"
     ]
    },
    {
     "name": "stderr",
     "output_type": "stream",
     "text": [
      "\r",
      "Processing images:   2%|▏         | 7/360 [08:36<6:54:06, 70.39s/it]"
     ]
    },
    {
     "name": "stderr",
     "output_type": "stream",
     "text": [
      "\r",
      "Processing images:   2%|▏         | 8/360 [09:08<5:41:10, 58.15s/it]"
     ]
    },
    {
     "name": "stderr",
     "output_type": "stream",
     "text": [
      "\r",
      "Processing images:   2%|▎         | 9/360 [10:27<6:18:05, 64.63s/it]"
     ]
    },
    {
     "name": "stderr",
     "output_type": "stream",
     "text": [
      "\r",
      "Processing images:   3%|▎         | 10/360 [12:24<7:50:53, 80.72s/it]"
     ]
    },
    {
     "name": "stderr",
     "output_type": "stream",
     "text": [
      "\r",
      "Processing images:   3%|▎         | 11/360 [13:13<6:52:52, 70.98s/it]"
     ]
    },
    {
     "name": "stderr",
     "output_type": "stream",
     "text": [
      "\r",
      "Processing images:   3%|▎         | 12/360 [15:03<8:01:37, 83.04s/it]"
     ]
    },
    {
     "name": "stderr",
     "output_type": "stream",
     "text": [
      "\r",
      "Processing images:   4%|▎         | 13/360 [16:15<7:39:49, 79.51s/it]"
     ]
    },
    {
     "name": "stderr",
     "output_type": "stream",
     "text": [
      "\r",
      "Processing images:   4%|▍         | 14/360 [16:44<6:11:22, 64.40s/it]"
     ]
    },
    {
     "name": "stderr",
     "output_type": "stream",
     "text": [
      "\r",
      "Processing images:   4%|▍         | 15/360 [17:58<6:26:59, 67.30s/it]"
     ]
    },
    {
     "name": "stderr",
     "output_type": "stream",
     "text": [
      "\r",
      "Processing images:   4%|▍         | 16/360 [18:51<6:00:14, 62.83s/it]"
     ]
    },
    {
     "name": "stderr",
     "output_type": "stream",
     "text": [
      "\r",
      "Processing images:   5%|▍         | 17/360 [19:48<5:49:13, 61.09s/it]"
     ]
    },
    {
     "name": "stderr",
     "output_type": "stream",
     "text": [
      "\r",
      "Processing images:   5%|▌         | 18/360 [20:54<5:57:01, 62.64s/it]"
     ]
    },
    {
     "name": "stderr",
     "output_type": "stream",
     "text": [
      "\r",
      "Processing images:   5%|▌         | 19/360 [22:21<6:38:04, 70.04s/it]"
     ]
    },
    {
     "name": "stderr",
     "output_type": "stream",
     "text": [
      "\r",
      "Processing images:   6%|▌         | 20/360 [23:12<6:04:10, 64.27s/it]"
     ]
    },
    {
     "name": "stderr",
     "output_type": "stream",
     "text": [
      "\r",
      "Processing images:   6%|▌         | 21/360 [24:41<6:44:38, 71.62s/it]"
     ]
    },
    {
     "name": "stderr",
     "output_type": "stream",
     "text": [
      "\r",
      "Processing images:   6%|▌         | 22/360 [26:04<7:02:19, 74.97s/it]"
     ]
    },
    {
     "name": "stderr",
     "output_type": "stream",
     "text": [
      "\r",
      "Processing images:   6%|▋         | 23/360 [27:36<7:29:36, 80.05s/it]"
     ]
    },
    {
     "name": "stderr",
     "output_type": "stream",
     "text": [
      "\r",
      "Processing images:   7%|▋         | 24/360 [28:51<7:21:25, 78.83s/it]"
     ]
    },
    {
     "name": "stderr",
     "output_type": "stream",
     "text": [
      "\r",
      "Processing images:   7%|▋         | 25/360 [29:46<6:39:47, 71.60s/it]"
     ]
    },
    {
     "name": "stderr",
     "output_type": "stream",
     "text": [
      "\r",
      "Processing images:   7%|▋         | 26/360 [31:19<7:13:34, 77.89s/it]"
     ]
    },
    {
     "name": "stderr",
     "output_type": "stream",
     "text": [
      "\r",
      "Processing images:   8%|▊         | 27/360 [32:07<6:22:43, 68.96s/it]"
     ]
    },
    {
     "name": "stderr",
     "output_type": "stream",
     "text": [
      "\r",
      "Processing images:   8%|▊         | 28/360 [33:12<6:15:39, 67.89s/it]"
     ]
    },
    {
     "name": "stderr",
     "output_type": "stream",
     "text": [
      "\r",
      "Processing images:   8%|▊         | 29/360 [34:46<6:56:34, 75.51s/it]"
     ]
    },
    {
     "name": "stderr",
     "output_type": "stream",
     "text": [
      "\r",
      "Processing images:   8%|▊         | 30/360 [35:50<6:37:21, 72.25s/it]"
     ]
    },
    {
     "name": "stderr",
     "output_type": "stream",
     "text": [
      "\r",
      "Processing images:   9%|▊         | 31/360 [37:14<6:54:22, 75.57s/it]"
     ]
    },
    {
     "name": "stderr",
     "output_type": "stream",
     "text": [
      "\r",
      "Processing images:   9%|▉         | 32/360 [38:32<6:57:42, 76.41s/it]"
     ]
    },
    {
     "name": "stderr",
     "output_type": "stream",
     "text": [
      "\r",
      "Processing images:   9%|▉         | 33/360 [39:34<6:33:30, 72.20s/it]"
     ]
    },
    {
     "name": "stderr",
     "output_type": "stream",
     "text": [
      "\r",
      "Processing images:   9%|▉         | 34/360 [40:38<6:18:23, 69.64s/it]"
     ]
    },
    {
     "name": "stderr",
     "output_type": "stream",
     "text": [
      "\r",
      "Processing images:  10%|▉         | 35/360 [43:24<8:53:54, 98.57s/it]"
     ]
    },
    {
     "name": "stderr",
     "output_type": "stream",
     "text": [
      "\r",
      "Processing images:  10%|█         | 36/360 [45:41<9:53:46, 109.96s/it]"
     ]
    },
    {
     "name": "stderr",
     "output_type": "stream",
     "text": [
      "\r",
      "Processing images:  10%|█         | 37/360 [47:00<9:03:26, 100.95s/it]"
     ]
    },
    {
     "name": "stderr",
     "output_type": "stream",
     "text": [
      "\r",
      "Processing images:  11%|█         | 38/360 [47:38<7:19:36, 81.92s/it] "
     ]
    },
    {
     "name": "stderr",
     "output_type": "stream",
     "text": [
      "\r",
      "Processing images:  11%|█         | 39/360 [48:41<6:48:01, 76.27s/it]"
     ]
    },
    {
     "name": "stderr",
     "output_type": "stream",
     "text": [
      "\r",
      "Processing images:  11%|█         | 40/360 [49:22<5:50:28, 65.71s/it]"
     ]
    },
    {
     "name": "stderr",
     "output_type": "stream",
     "text": [
      "\r",
      "Processing images:  11%|█▏        | 41/360 [50:06<5:15:02, 59.25s/it]"
     ]
    },
    {
     "name": "stderr",
     "output_type": "stream",
     "text": [
      "\r",
      "Processing images:  12%|█▏        | 42/360 [50:56<4:59:05, 56.43s/it]"
     ]
    },
    {
     "name": "stderr",
     "output_type": "stream",
     "text": [
      "\r",
      "Processing images:  12%|█▏        | 43/360 [51:51<4:55:30, 55.93s/it]"
     ]
    },
    {
     "name": "stderr",
     "output_type": "stream",
     "text": [
      "\r",
      "Processing images:  12%|█▏        | 44/360 [52:48<4:56:30, 56.30s/it]"
     ]
    },
    {
     "name": "stderr",
     "output_type": "stream",
     "text": [
      "\r",
      "Processing images:  12%|█▎        | 45/360 [54:33<6:12:36, 70.97s/it]"
     ]
    },
    {
     "name": "stderr",
     "output_type": "stream",
     "text": [
      "\r",
      "Processing images:  13%|█▎        | 46/360 [56:38<7:36:22, 87.21s/it]"
     ]
    },
    {
     "name": "stderr",
     "output_type": "stream",
     "text": [
      "\r",
      "Processing images:  13%|█▎        | 47/360 [57:34<6:45:53, 77.81s/it]"
     ]
    },
    {
     "name": "stderr",
     "output_type": "stream",
     "text": [
      "\r",
      "Processing images:  13%|█▎        | 48/360 [58:22<5:57:45, 68.80s/it]"
     ]
    },
    {
     "name": "stderr",
     "output_type": "stream",
     "text": [
      "\r",
      "Processing images:  14%|█▎        | 49/360 [59:28<5:52:10, 67.94s/it]"
     ]
    },
    {
     "name": "stderr",
     "output_type": "stream",
     "text": [
      "\r",
      "Processing images:  14%|█▍        | 50/360 [1:00:38<5:53:46, 68.47s/it]"
     ]
    },
    {
     "name": "stderr",
     "output_type": "stream",
     "text": [
      "\r",
      "Processing images:  14%|█▍        | 51/360 [1:02:32<7:03:52, 82.31s/it]"
     ]
    },
    {
     "name": "stderr",
     "output_type": "stream",
     "text": [
      "\r",
      "Processing images:  14%|█▍        | 52/360 [1:03:24<6:15:48, 73.21s/it]"
     ]
    },
    {
     "name": "stderr",
     "output_type": "stream",
     "text": [
      "\r",
      "Processing images:  15%|█▍        | 53/360 [1:04:27<5:58:04, 69.98s/it]"
     ]
    },
    {
     "name": "stderr",
     "output_type": "stream",
     "text": [
      "\r",
      "Processing images:  15%|█▌        | 54/360 [1:05:30<5:46:03, 67.85s/it]"
     ]
    },
    {
     "name": "stderr",
     "output_type": "stream",
     "text": [
      "\r",
      "Processing images:  15%|█▌        | 55/360 [1:06:11<5:03:52, 59.78s/it]"
     ]
    },
    {
     "name": "stderr",
     "output_type": "stream",
     "text": [
      "\r",
      "Processing images:  16%|█▌        | 56/360 [1:06:54<4:38:19, 54.93s/it]"
     ]
    },
    {
     "name": "stderr",
     "output_type": "stream",
     "text": [
      "\r",
      "Processing images:  16%|█▌        | 57/360 [1:08:09<5:07:48, 60.95s/it]"
     ]
    },
    {
     "name": "stderr",
     "output_type": "stream",
     "text": [
      "\r",
      "Processing images:  16%|█▌        | 58/360 [1:09:06<5:00:53, 59.78s/it]"
     ]
    },
    {
     "name": "stderr",
     "output_type": "stream",
     "text": [
      "\r",
      "Processing images:  16%|█▋        | 59/360 [1:09:56<4:45:13, 56.85s/it]"
     ]
    },
    {
     "name": "stderr",
     "output_type": "stream",
     "text": [
      "\r",
      "Processing images:  17%|█▋        | 60/360 [1:11:18<5:22:13, 64.44s/it]"
     ]
    },
    {
     "name": "stderr",
     "output_type": "stream",
     "text": [
      "\r",
      "Processing images:  17%|█▋        | 61/360 [1:12:28<5:28:53, 66.00s/it]"
     ]
    },
    {
     "name": "stderr",
     "output_type": "stream",
     "text": [
      "\r",
      "Processing images:  17%|█▋        | 62/360 [1:13:00<4:37:23, 55.85s/it]"
     ]
    },
    {
     "name": "stderr",
     "output_type": "stream",
     "text": [
      "\r",
      "Processing images:  18%|█▊        | 63/360 [1:14:01<4:43:43, 57.32s/it]"
     ]
    },
    {
     "name": "stderr",
     "output_type": "stream",
     "text": [
      "\r",
      "Processing images:  18%|█▊        | 64/360 [1:15:11<5:01:12, 61.05s/it]"
     ]
    },
    {
     "name": "stderr",
     "output_type": "stream",
     "text": [
      "\r",
      "Processing images:  18%|█▊        | 65/360 [1:16:15<5:05:33, 62.15s/it]"
     ]
    },
    {
     "name": "stderr",
     "output_type": "stream",
     "text": [
      "\r",
      "Processing images:  18%|█▊        | 66/360 [1:17:02<4:42:09, 57.58s/it]"
     ]
    },
    {
     "name": "stderr",
     "output_type": "stream",
     "text": [
      "\r",
      "Processing images:  19%|█▊        | 67/360 [1:18:08<4:53:41, 60.14s/it]"
     ]
    },
    {
     "name": "stderr",
     "output_type": "stream",
     "text": [
      "\r",
      "Processing images:  19%|█▉        | 68/360 [1:19:23<5:14:17, 64.58s/it]"
     ]
    },
    {
     "name": "stderr",
     "output_type": "stream",
     "text": [
      "\r",
      "Processing images:  19%|█▉        | 69/360 [1:20:56<5:54:02, 73.00s/it]"
     ]
    },
    {
     "name": "stderr",
     "output_type": "stream",
     "text": [
      "\r",
      "Processing images:  19%|█▉        | 70/360 [1:21:44<5:17:05, 65.61s/it]"
     ]
    },
    {
     "name": "stderr",
     "output_type": "stream",
     "text": [
      "\r",
      "Processing images:  20%|█▉        | 71/360 [1:22:27<4:43:18, 58.82s/it]"
     ]
    },
    {
     "name": "stderr",
     "output_type": "stream",
     "text": [
      "\r",
      "Processing images:  20%|██        | 72/360 [1:23:30<4:47:40, 59.93s/it]"
     ]
    },
    {
     "name": "stderr",
     "output_type": "stream",
     "text": [
      "\r",
      "Processing images:  20%|██        | 73/360 [1:24:04<4:09:14, 52.10s/it]"
     ]
    },
    {
     "name": "stderr",
     "output_type": "stream",
     "text": [
      "\r",
      "Processing images:  21%|██        | 74/360 [1:25:04<4:20:39, 54.68s/it]"
     ]
    },
    {
     "name": "stderr",
     "output_type": "stream",
     "text": [
      "\r",
      "Processing images:  21%|██        | 75/360 [1:25:53<4:11:24, 52.93s/it]"
     ]
    },
    {
     "name": "stderr",
     "output_type": "stream",
     "text": [
      "\r",
      "Processing images:  21%|██        | 76/360 [1:27:01<4:31:45, 57.41s/it]"
     ]
    },
    {
     "name": "stderr",
     "output_type": "stream",
     "text": [
      "\r",
      "Processing images:  21%|██▏       | 77/360 [1:27:40<4:04:28, 51.83s/it]"
     ]
    },
    {
     "name": "stderr",
     "output_type": "stream",
     "text": [
      "\r",
      "Processing images:  22%|██▏       | 78/360 [1:28:52<4:31:57, 57.86s/it]"
     ]
    },
    {
     "name": "stderr",
     "output_type": "stream",
     "text": [
      "\r",
      "Processing images:  22%|██▏       | 79/360 [1:30:34<5:32:26, 70.98s/it]"
     ]
    },
    {
     "name": "stderr",
     "output_type": "stream",
     "text": [
      "\r",
      "Processing images:  22%|██▏       | 80/360 [1:31:52<5:41:31, 73.18s/it]"
     ]
    },
    {
     "name": "stderr",
     "output_type": "stream",
     "text": [
      "\r",
      "Processing images:  22%|██▎       | 81/360 [1:32:24<4:43:06, 60.88s/it]"
     ]
    },
    {
     "name": "stderr",
     "output_type": "stream",
     "text": [
      "\r",
      "Processing images:  23%|██▎       | 82/360 [1:33:11<4:22:08, 56.58s/it]"
     ]
    },
    {
     "name": "stderr",
     "output_type": "stream",
     "text": [
      "\r",
      "Processing images:  23%|██▎       | 83/360 [1:34:18<4:35:44, 59.73s/it]"
     ]
    },
    {
     "name": "stderr",
     "output_type": "stream",
     "text": [
      "\r",
      "Processing images:  23%|██▎       | 84/360 [1:35:28<4:49:57, 63.04s/it]"
     ]
    },
    {
     "name": "stderr",
     "output_type": "stream",
     "text": [
      "\r",
      "Processing images:  24%|██▎       | 85/360 [1:36:27<4:42:28, 61.63s/it]"
     ]
    },
    {
     "name": "stderr",
     "output_type": "stream",
     "text": [
      "\r",
      "Processing images:  24%|██▍       | 86/360 [1:37:13<4:20:51, 57.12s/it]"
     ]
    },
    {
     "name": "stderr",
     "output_type": "stream",
     "text": [
      "\r",
      "Processing images:  24%|██▍       | 87/360 [1:38:23<4:37:03, 60.89s/it]"
     ]
    },
    {
     "name": "stderr",
     "output_type": "stream",
     "text": [
      "\r",
      "Processing images:  24%|██▍       | 88/360 [1:39:20<4:30:58, 59.77s/it]"
     ]
    },
    {
     "name": "stderr",
     "output_type": "stream",
     "text": [
      "\r",
      "Processing images:  25%|██▍       | 89/360 [1:40:34<4:48:18, 63.83s/it]"
     ]
    },
    {
     "name": "stderr",
     "output_type": "stream",
     "text": [
      "\r",
      "Processing images:  25%|██▌       | 90/360 [1:41:36<4:45:39, 63.48s/it]"
     ]
    },
    {
     "name": "stderr",
     "output_type": "stream",
     "text": [
      "\r",
      "Processing images:  25%|██▌       | 91/360 [1:43:22<5:41:52, 76.26s/it]"
     ]
    },
    {
     "name": "stderr",
     "output_type": "stream",
     "text": [
      "\r",
      "Processing images:  26%|██▌       | 92/360 [1:44:52<5:58:20, 80.22s/it]"
     ]
    },
    {
     "name": "stderr",
     "output_type": "stream",
     "text": [
      "\r",
      "Processing images:  26%|██▌       | 93/360 [1:45:38<5:11:57, 70.10s/it]"
     ]
    },
    {
     "name": "stderr",
     "output_type": "stream",
     "text": [
      "\r",
      "Processing images:  26%|██▌       | 94/360 [1:46:34<4:51:13, 65.69s/it]"
     ]
    },
    {
     "name": "stderr",
     "output_type": "stream",
     "text": [
      "\r",
      "Processing images:  26%|██▋       | 95/360 [1:47:20<4:24:34, 59.90s/it]"
     ]
    },
    {
     "name": "stderr",
     "output_type": "stream",
     "text": [
      "\r",
      "Processing images:  27%|██▋       | 96/360 [1:48:19<4:22:32, 59.67s/it]"
     ]
    },
    {
     "name": "stderr",
     "output_type": "stream",
     "text": [
      "\r",
      "Processing images:  27%|██▋       | 97/360 [1:49:07<4:06:38, 56.27s/it]"
     ]
    },
    {
     "name": "stderr",
     "output_type": "stream",
     "text": [
      "\r",
      "Processing images:  27%|██▋       | 98/360 [1:51:03<5:24:00, 74.20s/it]"
     ]
    },
    {
     "name": "stderr",
     "output_type": "stream",
     "text": [
      "\r",
      "Processing images:  28%|██▊       | 99/360 [1:52:07<5:08:54, 71.01s/it]"
     ]
    },
    {
     "name": "stderr",
     "output_type": "stream",
     "text": [
      "\r",
      "Processing images:  28%|██▊       | 100/360 [1:53:29<5:22:10, 74.35s/it]"
     ]
    },
    {
     "name": "stderr",
     "output_type": "stream",
     "text": [
      "\r",
      "Processing images:  28%|██▊       | 101/360 [1:55:14<6:00:51, 83.60s/it]"
     ]
    },
    {
     "name": "stderr",
     "output_type": "stream",
     "text": [
      "\r",
      "Processing images:  28%|██▊       | 102/360 [1:56:54<6:20:21, 88.46s/it]"
     ]
    },
    {
     "name": "stderr",
     "output_type": "stream",
     "text": [
      "\r",
      "Processing images:  29%|██▊       | 103/360 [1:58:32<6:31:10, 91.32s/it]"
     ]
    },
    {
     "name": "stderr",
     "output_type": "stream",
     "text": [
      "\r",
      "Processing images:  29%|██▉       | 104/360 [1:59:28<5:43:39, 80.55s/it]"
     ]
    },
    {
     "name": "stderr",
     "output_type": "stream",
     "text": [
      "\r",
      "Processing images:  29%|██▉       | 105/360 [2:01:06<6:04:59, 85.88s/it]"
     ]
    },
    {
     "name": "stderr",
     "output_type": "stream",
     "text": [
      "\r",
      "Processing images:  29%|██▉       | 106/360 [2:02:39<6:12:25, 87.97s/it]"
     ]
    },
    {
     "name": "stderr",
     "output_type": "stream",
     "text": [
      "\r",
      "Processing images:  30%|██▉       | 107/360 [2:03:57<5:58:53, 85.11s/it]"
     ]
    },
    {
     "name": "stderr",
     "output_type": "stream",
     "text": [
      "\r",
      "Processing images:  30%|███       | 108/360 [2:05:10<5:42:34, 81.57s/it]"
     ]
    },
    {
     "name": "stderr",
     "output_type": "stream",
     "text": [
      "\r",
      "Processing images:  30%|███       | 109/360 [2:06:54<6:08:44, 88.15s/it]"
     ]
    },
    {
     "name": "stderr",
     "output_type": "stream",
     "text": [
      "\r",
      "Processing images:  31%|███       | 110/360 [2:08:18<6:02:00, 86.88s/it]"
     ]
    },
    {
     "name": "stderr",
     "output_type": "stream",
     "text": [
      "\r",
      "Processing images:  31%|███       | 111/360 [2:09:15<5:23:38, 77.99s/it]"
     ]
    },
    {
     "name": "stderr",
     "output_type": "stream",
     "text": [
      "\r",
      "Processing images:  31%|███       | 112/360 [2:10:39<5:29:29, 79.72s/it]"
     ]
    },
    {
     "name": "stderr",
     "output_type": "stream",
     "text": [
      "\r",
      "Processing images:  31%|███▏      | 113/360 [2:12:49<6:30:45, 94.92s/it]"
     ]
    },
    {
     "name": "stderr",
     "output_type": "stream",
     "text": [
      "\r",
      "Processing images:  32%|███▏      | 114/360 [2:14:20<6:24:09, 93.70s/it]"
     ]
    },
    {
     "name": "stderr",
     "output_type": "stream",
     "text": [
      "\r",
      "Processing images:  32%|███▏      | 115/360 [2:15:24<5:46:29, 84.86s/it]"
     ]
    },
    {
     "name": "stderr",
     "output_type": "stream",
     "text": [
      "\r",
      "Processing images:  32%|███▏      | 116/360 [2:16:50<5:46:06, 85.11s/it]"
     ]
    },
    {
     "name": "stderr",
     "output_type": "stream",
     "text": [
      "\r",
      "Processing images:  32%|███▎      | 117/360 [2:17:45<5:08:18, 76.12s/it]"
     ]
    },
    {
     "name": "stderr",
     "output_type": "stream",
     "text": [
      "\r",
      "Processing images:  33%|███▎      | 118/360 [2:19:20<5:29:14, 81.63s/it]"
     ]
    },
    {
     "name": "stderr",
     "output_type": "stream",
     "text": [
      "\r",
      "Processing images:  33%|███▎      | 119/360 [2:20:26<5:09:01, 76.94s/it]"
     ]
    },
    {
     "name": "stderr",
     "output_type": "stream",
     "text": [
      "\r",
      "Processing images:  33%|███▎      | 120/360 [2:22:00<5:28:46, 82.20s/it]"
     ]
    },
    {
     "name": "stderr",
     "output_type": "stream",
     "text": [
      "\r",
      "Processing images:  34%|███▎      | 121/360 [2:23:07<5:08:58, 77.57s/it]"
     ]
    },
    {
     "name": "stderr",
     "output_type": "stream",
     "text": [
      "\r",
      "Processing images:  34%|███▍      | 122/360 [2:23:58<4:35:41, 69.50s/it]"
     ]
    },
    {
     "name": "stderr",
     "output_type": "stream",
     "text": [
      "\r",
      "Processing images:  34%|███▍      | 123/360 [2:24:37<3:59:23, 60.60s/it]"
     ]
    },
    {
     "name": "stderr",
     "output_type": "stream",
     "text": [
      "\r",
      "Processing images:  34%|███▍      | 124/360 [2:25:35<3:54:13, 59.55s/it]"
     ]
    },
    {
     "name": "stderr",
     "output_type": "stream",
     "text": [
      "\r",
      "Processing images:  35%|███▍      | 125/360 [2:26:42<4:02:25, 61.90s/it]"
     ]
    },
    {
     "name": "stderr",
     "output_type": "stream",
     "text": [
      "\r",
      "Processing images:  35%|███▌      | 126/360 [2:27:36<3:52:15, 59.55s/it]"
     ]
    },
    {
     "name": "stderr",
     "output_type": "stream",
     "text": [
      "\r",
      "Processing images:  35%|███▌      | 127/360 [2:28:14<3:26:16, 53.12s/it]"
     ]
    },
    {
     "name": "stderr",
     "output_type": "stream",
     "text": [
      "\r",
      "Processing images:  36%|███▌      | 128/360 [2:29:06<3:23:43, 52.69s/it]"
     ]
    },
    {
     "name": "stderr",
     "output_type": "stream",
     "text": [
      "\r",
      "Processing images:  36%|███▌      | 129/360 [2:30:36<4:06:12, 63.95s/it]"
     ]
    },
    {
     "name": "stderr",
     "output_type": "stream",
     "text": [
      "\r",
      "Processing images:  36%|███▌      | 130/360 [2:31:36<4:00:10, 62.65s/it]"
     ]
    },
    {
     "name": "stderr",
     "output_type": "stream",
     "text": [
      "\r",
      "Processing images:  36%|███▋      | 131/360 [2:32:51<4:13:19, 66.37s/it]"
     ]
    },
    {
     "name": "stderr",
     "output_type": "stream",
     "text": [
      "\r",
      "Processing images:  37%|███▋      | 132/360 [2:35:07<5:31:24, 87.21s/it]"
     ]
    },
    {
     "name": "stderr",
     "output_type": "stream",
     "text": [
      "\r",
      "Processing images:  37%|███▋      | 133/360 [2:36:17<5:10:48, 82.15s/it]"
     ]
    },
    {
     "name": "stderr",
     "output_type": "stream",
     "text": [
      "\r",
      "Processing images:  37%|███▋      | 134/360 [2:37:30<4:58:56, 79.36s/it]"
     ]
    },
    {
     "name": "stderr",
     "output_type": "stream",
     "text": [
      "\r",
      "Processing images:  38%|███▊      | 135/360 [2:38:48<4:56:43, 79.13s/it]"
     ]
    },
    {
     "name": "stderr",
     "output_type": "stream",
     "text": [
      "\r",
      "Processing images:  38%|███▊      | 136/360 [2:40:02<4:48:58, 77.40s/it]"
     ]
    },
    {
     "name": "stderr",
     "output_type": "stream",
     "text": [
      "\r",
      "Processing images:  38%|███▊      | 137/360 [2:41:09<4:36:53, 74.50s/it]"
     ]
    },
    {
     "name": "stderr",
     "output_type": "stream",
     "text": [
      "\r",
      "Processing images:  38%|███▊      | 138/360 [2:42:09<4:19:14, 70.07s/it]"
     ]
    },
    {
     "name": "stderr",
     "output_type": "stream",
     "text": [
      "\r",
      "Processing images:  39%|███▊      | 139/360 [2:43:58<5:01:15, 81.79s/it]"
     ]
    },
    {
     "name": "stderr",
     "output_type": "stream",
     "text": [
      "\r",
      "Processing images:  39%|███▉      | 140/360 [2:44:52<4:28:50, 73.32s/it]"
     ]
    },
    {
     "name": "stderr",
     "output_type": "stream",
     "text": [
      "\r",
      "Processing images:  39%|███▉      | 141/360 [2:45:53<4:13:51, 69.55s/it]"
     ]
    },
    {
     "name": "stderr",
     "output_type": "stream",
     "text": [
      "\r",
      "Processing images:  39%|███▉      | 142/360 [2:47:06<4:16:41, 70.65s/it]"
     ]
    },
    {
     "name": "stderr",
     "output_type": "stream",
     "text": [
      "\r",
      "Processing images:  40%|███▉      | 143/360 [2:48:44<4:45:39, 78.98s/it]"
     ]
    },
    {
     "name": "stderr",
     "output_type": "stream",
     "text": [
      "\r",
      "Processing images:  40%|████      | 144/360 [2:49:37<4:16:04, 71.13s/it]"
     ]
    },
    {
     "name": "stderr",
     "output_type": "stream",
     "text": [
      "\r",
      "Processing images:  40%|████      | 145/360 [2:50:33<3:58:50, 66.65s/it]"
     ]
    },
    {
     "name": "stderr",
     "output_type": "stream",
     "text": [
      "\r",
      "Processing images:  41%|████      | 146/360 [2:51:56<4:14:28, 71.35s/it]"
     ]
    },
    {
     "name": "stderr",
     "output_type": "stream",
     "text": [
      "\r",
      "Processing images:  41%|████      | 147/360 [2:53:12<4:19:08, 73.00s/it]"
     ]
    },
    {
     "name": "stderr",
     "output_type": "stream",
     "text": [
      "\r",
      "Processing images:  41%|████      | 148/360 [2:55:07<5:01:41, 85.38s/it]"
     ]
    },
    {
     "name": "stderr",
     "output_type": "stream",
     "text": [
      "\r",
      "Processing images:  41%|████▏     | 149/360 [2:56:08<4:34:28, 78.05s/it]"
     ]
    },
    {
     "name": "stderr",
     "output_type": "stream",
     "text": [
      "\r",
      "Processing images:  42%|████▏     | 150/360 [2:56:50<3:55:38, 67.33s/it]"
     ]
    },
    {
     "name": "stderr",
     "output_type": "stream",
     "text": [
      "\r",
      "Processing images:  42%|████▏     | 151/360 [2:58:09<4:06:19, 70.72s/it]"
     ]
    },
    {
     "name": "stderr",
     "output_type": "stream",
     "text": [
      "\r",
      "Processing images:  42%|████▏     | 152/360 [2:58:37<3:21:37, 58.16s/it]"
     ]
    },
    {
     "name": "stderr",
     "output_type": "stream",
     "text": [
      "\r",
      "Processing images:  42%|████▎     | 153/360 [2:59:19<3:03:09, 53.09s/it]"
     ]
    },
    {
     "name": "stderr",
     "output_type": "stream",
     "text": [
      "\r",
      "Processing images:  43%|████▎     | 154/360 [2:59:56<2:46:29, 48.49s/it]"
     ]
    },
    {
     "name": "stderr",
     "output_type": "stream",
     "text": [
      "\r",
      "Processing images:  43%|████▎     | 155/360 [3:01:06<3:07:18, 54.82s/it]"
     ]
    },
    {
     "name": "stderr",
     "output_type": "stream",
     "text": [
      "\r",
      "Processing images:  43%|████▎     | 156/360 [3:02:07<3:12:22, 56.58s/it]"
     ]
    },
    {
     "name": "stderr",
     "output_type": "stream",
     "text": [
      "\r",
      "Processing images:  44%|████▎     | 157/360 [3:03:13<3:21:28, 59.55s/it]"
     ]
    },
    {
     "name": "stderr",
     "output_type": "stream",
     "text": [
      "\r",
      "Processing images:  44%|████▍     | 158/360 [3:04:30<3:38:11, 64.81s/it]"
     ]
    },
    {
     "name": "stderr",
     "output_type": "stream",
     "text": [
      "\r",
      "Processing images:  44%|████▍     | 159/360 [3:05:44<3:45:45, 67.39s/it]"
     ]
    },
    {
     "name": "stderr",
     "output_type": "stream",
     "text": [
      "\r",
      "Processing images:  44%|████▍     | 160/360 [3:06:34<3:27:21, 62.21s/it]"
     ]
    },
    {
     "name": "stderr",
     "output_type": "stream",
     "text": [
      "\r",
      "Processing images:  45%|████▍     | 161/360 [3:07:26<3:16:03, 59.11s/it]"
     ]
    },
    {
     "name": "stderr",
     "output_type": "stream",
     "text": [
      "\r",
      "Processing images:  45%|████▌     | 162/360 [3:08:51<3:41:29, 67.12s/it]"
     ]
    },
    {
     "name": "stderr",
     "output_type": "stream",
     "text": [
      "\r",
      "Processing images:  45%|████▌     | 163/360 [3:09:41<3:22:44, 61.75s/it]"
     ]
    },
    {
     "name": "stderr",
     "output_type": "stream",
     "text": [
      "\r",
      "Processing images:  46%|████▌     | 164/360 [3:10:27<3:06:47, 57.18s/it]"
     ]
    },
    {
     "name": "stderr",
     "output_type": "stream",
     "text": [
      "\r",
      "Processing images:  46%|████▌     | 165/360 [3:11:14<2:55:47, 54.09s/it]"
     ]
    },
    {
     "name": "stderr",
     "output_type": "stream",
     "text": [
      "\r",
      "Processing images:  46%|████▌     | 166/360 [3:12:10<2:56:32, 54.60s/it]"
     ]
    },
    {
     "name": "stderr",
     "output_type": "stream",
     "text": [
      "\r",
      "Processing images:  46%|████▋     | 167/360 [3:13:36<3:25:47, 63.97s/it]"
     ]
    },
    {
     "name": "stderr",
     "output_type": "stream",
     "text": [
      "\r",
      "Processing images:  47%|████▋     | 168/360 [3:14:31<3:16:31, 61.41s/it]"
     ]
    },
    {
     "name": "stderr",
     "output_type": "stream",
     "text": [
      "\r",
      "Processing images:  47%|████▋     | 169/360 [3:15:29<3:11:49, 60.26s/it]"
     ]
    },
    {
     "name": "stderr",
     "output_type": "stream",
     "text": [
      "\r",
      "Processing images:  47%|████▋     | 170/360 [3:16:34<3:15:13, 61.65s/it]"
     ]
    },
    {
     "name": "stderr",
     "output_type": "stream",
     "text": [
      "\r",
      "Processing images:  48%|████▊     | 171/360 [3:17:40<3:18:49, 63.12s/it]"
     ]
    },
    {
     "name": "stderr",
     "output_type": "stream",
     "text": [
      "\r",
      "Processing images:  48%|████▊     | 172/360 [3:18:36<3:11:04, 60.98s/it]"
     ]
    },
    {
     "name": "stderr",
     "output_type": "stream",
     "text": [
      "\r",
      "Processing images:  48%|████▊     | 173/360 [3:20:09<3:40:16, 70.67s/it]"
     ]
    },
    {
     "name": "stderr",
     "output_type": "stream",
     "text": [
      "\r",
      "Processing images:  48%|████▊     | 174/360 [3:21:12<3:31:35, 68.26s/it]"
     ]
    },
    {
     "name": "stderr",
     "output_type": "stream",
     "text": [
      "\r",
      "Processing images:  49%|████▊     | 175/360 [3:21:49<3:01:16, 58.79s/it]"
     ]
    },
    {
     "name": "stderr",
     "output_type": "stream",
     "text": [
      "\r",
      "Processing images:  49%|████▉     | 176/360 [3:22:20<2:35:09, 50.59s/it]"
     ]
    },
    {
     "name": "stderr",
     "output_type": "stream",
     "text": [
      "\r",
      "Processing images:  49%|████▉     | 177/360 [3:22:52<2:16:49, 44.86s/it]"
     ]
    },
    {
     "name": "stderr",
     "output_type": "stream",
     "text": [
      "\r",
      "Processing images:  49%|████▉     | 178/360 [3:23:24<2:05:01, 41.22s/it]"
     ]
    },
    {
     "name": "stderr",
     "output_type": "stream",
     "text": [
      "\r",
      "Processing images:  50%|████▉     | 179/360 [3:24:54<2:47:46, 55.62s/it]"
     ]
    },
    {
     "name": "stderr",
     "output_type": "stream",
     "text": [
      "\r",
      "Processing images:  50%|█████     | 180/360 [3:25:36<2:34:59, 51.66s/it]"
     ]
    },
    {
     "name": "stderr",
     "output_type": "stream",
     "text": [
      "\r",
      "Processing images:  50%|█████     | 181/360 [3:26:14<2:21:23, 47.39s/it]"
     ]
    },
    {
     "name": "stderr",
     "output_type": "stream",
     "text": [
      "\r",
      "Processing images:  51%|█████     | 182/360 [3:27:23<2:40:20, 54.05s/it]"
     ]
    },
    {
     "name": "stderr",
     "output_type": "stream",
     "text": [
      "\r",
      "Processing images:  51%|█████     | 183/360 [3:28:46<3:04:33, 62.56s/it]"
     ]
    },
    {
     "name": "stderr",
     "output_type": "stream",
     "text": [
      "\r",
      "Processing images:  51%|█████     | 184/360 [3:29:31<2:48:34, 57.47s/it]"
     ]
    },
    {
     "name": "stderr",
     "output_type": "stream",
     "text": [
      "\r",
      "Processing images:  51%|█████▏    | 185/360 [3:30:30<2:48:51, 57.90s/it]"
     ]
    },
    {
     "name": "stderr",
     "output_type": "stream",
     "text": [
      "\r",
      "Processing images:  52%|█████▏    | 186/360 [3:31:09<2:31:31, 52.25s/it]"
     ]
    },
    {
     "name": "stderr",
     "output_type": "stream",
     "text": [
      "\r",
      "Processing images:  52%|█████▏    | 187/360 [3:31:52<2:22:30, 49.43s/it]"
     ]
    },
    {
     "name": "stderr",
     "output_type": "stream",
     "text": [
      "\r",
      "Processing images:  52%|█████▏    | 188/360 [3:32:45<2:25:11, 50.65s/it]"
     ]
    },
    {
     "name": "stderr",
     "output_type": "stream",
     "text": [
      "\r",
      "Processing images:  52%|█████▎    | 189/360 [3:33:53<2:38:30, 55.62s/it]"
     ]
    },
    {
     "name": "stderr",
     "output_type": "stream",
     "text": [
      "\r",
      "Processing images:  53%|█████▎    | 190/360 [3:34:26<2:18:55, 49.03s/it]"
     ]
    },
    {
     "name": "stderr",
     "output_type": "stream",
     "text": [
      "\r",
      "Processing images:  53%|█████▎    | 191/360 [3:35:07<2:11:21, 46.63s/it]"
     ]
    },
    {
     "name": "stderr",
     "output_type": "stream",
     "text": [
      "\r",
      "Processing images:  53%|█████▎    | 192/360 [3:36:19<2:31:22, 54.06s/it]"
     ]
    },
    {
     "name": "stderr",
     "output_type": "stream",
     "text": [
      "\r",
      "Processing images:  54%|█████▎    | 193/360 [3:37:24<2:40:03, 57.51s/it]"
     ]
    },
    {
     "name": "stderr",
     "output_type": "stream",
     "text": [
      "\r",
      "Processing images:  54%|█████▍    | 194/360 [3:38:09<2:28:37, 53.72s/it]"
     ]
    },
    {
     "name": "stderr",
     "output_type": "stream",
     "text": [
      "\r",
      "Processing images:  54%|█████▍    | 195/360 [3:39:06<2:30:33, 54.75s/it]"
     ]
    },
    {
     "name": "stderr",
     "output_type": "stream",
     "text": [
      "\r",
      "Processing images:  54%|█████▍    | 196/360 [3:40:27<2:50:31, 62.38s/it]"
     ]
    },
    {
     "name": "stderr",
     "output_type": "stream",
     "text": [
      "\r",
      "Processing images:  55%|█████▍    | 197/360 [3:42:23<3:33:16, 78.50s/it]"
     ]
    },
    {
     "name": "stderr",
     "output_type": "stream",
     "text": [
      "\r",
      "Processing images:  55%|█████▌    | 198/360 [3:43:14<3:10:15, 70.46s/it]"
     ]
    },
    {
     "name": "stderr",
     "output_type": "stream",
     "text": [
      "\r",
      "Processing images:  55%|█████▌    | 199/360 [3:43:52<2:42:24, 60.53s/it]"
     ]
    },
    {
     "name": "stderr",
     "output_type": "stream",
     "text": [
      "\r",
      "Processing images:  56%|█████▌    | 200/360 [3:45:14<2:58:41, 67.01s/it]"
     ]
    },
    {
     "name": "stderr",
     "output_type": "stream",
     "text": [
      "\r",
      "Processing images:  56%|█████▌    | 201/360 [3:46:31<3:05:41, 70.07s/it]"
     ]
    },
    {
     "name": "stderr",
     "output_type": "stream",
     "text": [
      "\r",
      "Processing images:  56%|█████▌    | 202/360 [3:47:25<2:51:40, 65.19s/it]"
     ]
    },
    {
     "name": "stderr",
     "output_type": "stream",
     "text": [
      "\r",
      "Processing images:  56%|█████▋    | 203/360 [3:48:15<2:38:53, 60.72s/it]"
     ]
    },
    {
     "name": "stderr",
     "output_type": "stream",
     "text": [
      "\r",
      "Processing images:  57%|█████▋    | 204/360 [3:49:14<2:36:12, 60.08s/it]"
     ]
    },
    {
     "name": "stderr",
     "output_type": "stream",
     "text": [
      "\r",
      "Processing images:  57%|█████▋    | 205/360 [3:49:50<2:16:54, 53.00s/it]"
     ]
    },
    {
     "name": "stderr",
     "output_type": "stream",
     "text": [
      "\r",
      "Processing images:  57%|█████▋    | 206/360 [3:50:46<2:18:00, 53.77s/it]"
     ]
    },
    {
     "name": "stderr",
     "output_type": "stream",
     "text": [
      "\r",
      "Processing images:  57%|█████▊    | 207/360 [3:51:41<2:18:23, 54.27s/it]"
     ]
    },
    {
     "name": "stderr",
     "output_type": "stream",
     "text": [
      "\r",
      "Processing images:  58%|█████▊    | 208/360 [3:52:32<2:15:08, 53.34s/it]"
     ]
    },
    {
     "name": "stderr",
     "output_type": "stream",
     "text": [
      "\r",
      "Processing images:  58%|█████▊    | 209/360 [3:53:24<2:12:43, 52.74s/it]"
     ]
    },
    {
     "name": "stderr",
     "output_type": "stream",
     "text": [
      "\r",
      "Processing images:  58%|█████▊    | 210/360 [3:53:57<1:57:20, 46.94s/it]"
     ]
    },
    {
     "name": "stderr",
     "output_type": "stream",
     "text": [
      "\r",
      "Processing images:  59%|█████▊    | 211/360 [3:54:55<2:04:59, 50.33s/it]"
     ]
    },
    {
     "name": "stderr",
     "output_type": "stream",
     "text": [
      "\r",
      "Processing images:  59%|█████▉    | 212/360 [3:56:06<2:19:11, 56.43s/it]"
     ]
    },
    {
     "name": "stderr",
     "output_type": "stream",
     "text": [
      "\r",
      "Processing images:  59%|█████▉    | 213/360 [3:57:24<2:33:54, 62.82s/it]"
     ]
    },
    {
     "name": "stderr",
     "output_type": "stream",
     "text": [
      "\r",
      "Processing images:  59%|█████▉    | 214/360 [3:58:18<2:26:56, 60.39s/it]"
     ]
    },
    {
     "name": "stderr",
     "output_type": "stream",
     "text": [
      "\r",
      "Processing images:  60%|█████▉    | 215/360 [3:58:57<2:10:11, 53.88s/it]"
     ]
    },
    {
     "name": "stderr",
     "output_type": "stream",
     "text": [
      "\r",
      "Processing images:  60%|██████    | 216/360 [3:59:50<2:08:51, 53.69s/it]"
     ]
    },
    {
     "name": "stderr",
     "output_type": "stream",
     "text": [
      "\r",
      "Processing images:  60%|██████    | 217/360 [4:00:26<1:55:04, 48.29s/it]"
     ]
    },
    {
     "name": "stderr",
     "output_type": "stream",
     "text": [
      "\r",
      "Processing images:  61%|██████    | 218/360 [4:01:07<1:49:08, 46.12s/it]"
     ]
    },
    {
     "name": "stderr",
     "output_type": "stream",
     "text": [
      "\r",
      "Processing images:  61%|██████    | 219/360 [4:02:12<2:01:29, 51.70s/it]"
     ]
    },
    {
     "name": "stderr",
     "output_type": "stream",
     "text": [
      "\r",
      "Processing images:  61%|██████    | 220/360 [4:02:58<1:56:30, 49.93s/it]"
     ]
    },
    {
     "name": "stderr",
     "output_type": "stream",
     "text": [
      "\r",
      "Processing images:  61%|██████▏   | 221/360 [4:03:31<1:44:02, 44.91s/it]"
     ]
    },
    {
     "name": "stderr",
     "output_type": "stream",
     "text": [
      "\r",
      "Processing images:  62%|██████▏   | 222/360 [4:04:52<2:08:31, 55.88s/it]"
     ]
    },
    {
     "name": "stderr",
     "output_type": "stream",
     "text": [
      "\r",
      "Processing images:  62%|██████▏   | 223/360 [4:06:26<2:33:31, 67.24s/it]"
     ]
    },
    {
     "name": "stderr",
     "output_type": "stream",
     "text": [
      "\r",
      "Processing images:  62%|██████▏   | 224/360 [4:07:17<2:21:02, 62.23s/it]"
     ]
    },
    {
     "name": "stderr",
     "output_type": "stream",
     "text": [
      "\r",
      "Processing images:  62%|██████▎   | 225/360 [4:08:13<2:16:11, 60.53s/it]"
     ]
    },
    {
     "name": "stderr",
     "output_type": "stream",
     "text": [
      "\r",
      "Processing images:  63%|██████▎   | 226/360 [4:09:50<2:39:29, 71.42s/it]"
     ]
    },
    {
     "name": "stderr",
     "output_type": "stream",
     "text": [
      "\r",
      "Processing images:  63%|██████▎   | 227/360 [4:10:32<2:18:57, 62.69s/it]"
     ]
    },
    {
     "name": "stderr",
     "output_type": "stream",
     "text": [
      "\r",
      "Processing images:  63%|██████▎   | 228/360 [4:10:58<1:53:38, 51.66s/it]"
     ]
    },
    {
     "name": "stderr",
     "output_type": "stream",
     "text": [
      "\r",
      "Processing images:  64%|██████▎   | 229/360 [4:11:47<1:50:33, 50.64s/it]"
     ]
    },
    {
     "name": "stderr",
     "output_type": "stream",
     "text": [
      "\r",
      "Processing images:  64%|██████▍   | 230/360 [4:12:22<1:40:07, 46.21s/it]"
     ]
    },
    {
     "name": "stderr",
     "output_type": "stream",
     "text": [
      "\r",
      "Processing images:  64%|██████▍   | 231/360 [4:13:27<1:51:18, 51.77s/it]"
     ]
    },
    {
     "name": "stderr",
     "output_type": "stream",
     "text": [
      "\r",
      "Processing images:  64%|██████▍   | 232/360 [4:14:43<2:05:54, 59.02s/it]"
     ]
    },
    {
     "name": "stderr",
     "output_type": "stream",
     "text": [
      "\r",
      "Processing images:  65%|██████▍   | 233/360 [4:15:48<2:08:33, 60.74s/it]"
     ]
    },
    {
     "name": "stderr",
     "output_type": "stream",
     "text": [
      "\r",
      "Processing images:  65%|██████▌   | 234/360 [4:17:26<2:31:04, 71.94s/it]"
     ]
    },
    {
     "name": "stderr",
     "output_type": "stream",
     "text": [
      "\r",
      "Processing images:  65%|██████▌   | 235/360 [4:18:28<2:23:53, 69.07s/it]"
     ]
    },
    {
     "name": "stderr",
     "output_type": "stream",
     "text": [
      "\r",
      "Processing images:  66%|██████▌   | 236/360 [4:19:35<2:21:16, 68.36s/it]"
     ]
    },
    {
     "name": "stderr",
     "output_type": "stream",
     "text": [
      "\r",
      "Processing images:  66%|██████▌   | 237/360 [4:20:34<2:14:30, 65.62s/it]"
     ]
    },
    {
     "name": "stderr",
     "output_type": "stream",
     "text": [
      "\r",
      "Processing images:  66%|██████▌   | 238/360 [4:21:50<2:19:22, 68.54s/it]"
     ]
    },
    {
     "name": "stderr",
     "output_type": "stream",
     "text": [
      "\r",
      "Processing images:  66%|██████▋   | 239/360 [4:23:12<2:26:39, 72.73s/it]"
     ]
    },
    {
     "name": "stderr",
     "output_type": "stream",
     "text": [
      "\r",
      "Processing images:  67%|██████▋   | 240/360 [4:24:22<2:23:52, 71.94s/it]"
     ]
    },
    {
     "name": "stderr",
     "output_type": "stream",
     "text": [
      "\r",
      "Processing images:  67%|██████▋   | 241/360 [4:25:24<2:16:51, 69.01s/it]"
     ]
    },
    {
     "name": "stderr",
     "output_type": "stream",
     "text": [
      "\r",
      "Processing images:  67%|██████▋   | 242/360 [4:26:23<2:09:37, 65.91s/it]"
     ]
    },
    {
     "name": "stderr",
     "output_type": "stream",
     "text": [
      "\r",
      "Processing images:  68%|██████▊   | 243/360 [4:27:25<2:06:26, 64.84s/it]"
     ]
    },
    {
     "name": "stderr",
     "output_type": "stream",
     "text": [
      "\r",
      "Processing images:  68%|██████▊   | 244/360 [4:28:52<2:18:17, 71.53s/it]"
     ]
    },
    {
     "name": "stderr",
     "output_type": "stream",
     "text": [
      "\r",
      "Processing images:  68%|██████▊   | 245/360 [4:30:08<2:19:26, 72.75s/it]"
     ]
    },
    {
     "name": "stderr",
     "output_type": "stream",
     "text": [
      "\r",
      "Processing images:  68%|██████▊   | 246/360 [4:31:19<2:16:56, 72.07s/it]"
     ]
    },
    {
     "name": "stderr",
     "output_type": "stream",
     "text": [
      "\r",
      "Processing images:  69%|██████▊   | 247/360 [4:32:16<2:07:16, 67.58s/it]"
     ]
    },
    {
     "name": "stderr",
     "output_type": "stream",
     "text": [
      "\r",
      "Processing images:  69%|██████▉   | 248/360 [4:34:03<2:28:30, 79.56s/it]"
     ]
    },
    {
     "name": "stderr",
     "output_type": "stream",
     "text": [
      "\r",
      "Processing images:  69%|██████▉   | 249/360 [4:35:02<2:15:49, 73.42s/it]"
     ]
    },
    {
     "name": "stderr",
     "output_type": "stream",
     "text": [
      "\r",
      "Processing images:  69%|██████▉   | 250/360 [4:36:22<2:18:04, 75.32s/it]"
     ]
    },
    {
     "name": "stderr",
     "output_type": "stream",
     "text": [
      "\r",
      "Processing images:  70%|██████▉   | 251/360 [4:38:06<2:32:24, 83.90s/it]"
     ]
    },
    {
     "name": "stderr",
     "output_type": "stream",
     "text": [
      "\r",
      "Processing images:  70%|███████   | 252/360 [4:38:47<2:07:48, 71.01s/it]"
     ]
    },
    {
     "name": "stderr",
     "output_type": "stream",
     "text": [
      "\r",
      "Processing images:  70%|███████   | 253/360 [4:39:44<1:59:10, 66.82s/it]"
     ]
    },
    {
     "name": "stderr",
     "output_type": "stream",
     "text": [
      "\r",
      "Processing images:  71%|███████   | 254/360 [4:40:31<1:47:33, 60.88s/it]"
     ]
    },
    {
     "name": "stderr",
     "output_type": "stream",
     "text": [
      "\r",
      "Processing images:  71%|███████   | 255/360 [4:41:56<1:59:00, 68.00s/it]"
     ]
    },
    {
     "name": "stderr",
     "output_type": "stream",
     "text": [
      "\r",
      "Processing images:  71%|███████   | 256/360 [4:43:06<1:59:02, 68.68s/it]"
     ]
    },
    {
     "name": "stderr",
     "output_type": "stream",
     "text": [
      "\r",
      "Processing images:  71%|███████▏  | 257/360 [4:43:56<1:48:36, 63.27s/it]"
     ]
    },
    {
     "name": "stderr",
     "output_type": "stream",
     "text": [
      "\r",
      "Processing images:  72%|███████▏  | 258/360 [4:45:49<2:12:30, 77.94s/it]"
     ]
    },
    {
     "name": "stderr",
     "output_type": "stream",
     "text": [
      "\r",
      "Processing images:  72%|███████▏  | 259/360 [4:47:06<2:11:02, 77.84s/it]"
     ]
    },
    {
     "name": "stderr",
     "output_type": "stream",
     "text": [
      "\r",
      "Processing images:  72%|███████▏  | 260/360 [4:48:06<2:00:38, 72.39s/it]"
     ]
    },
    {
     "name": "stderr",
     "output_type": "stream",
     "text": [
      "\r",
      "Processing images:  72%|███████▎  | 261/360 [4:48:46<1:43:27, 62.70s/it]"
     ]
    },
    {
     "name": "stderr",
     "output_type": "stream",
     "text": [
      "\r",
      "Processing images:  73%|███████▎  | 262/360 [4:49:58<1:46:57, 65.48s/it]"
     ]
    },
    {
     "name": "stderr",
     "output_type": "stream",
     "text": [
      "\r",
      "Processing images:  73%|███████▎  | 263/360 [4:51:07<1:47:48, 66.68s/it]"
     ]
    },
    {
     "name": "stderr",
     "output_type": "stream",
     "text": [
      "\r",
      "Processing images:  73%|███████▎  | 264/360 [4:52:20<1:49:20, 68.34s/it]"
     ]
    },
    {
     "name": "stderr",
     "output_type": "stream",
     "text": [
      "\r",
      "Processing images:  74%|███████▎  | 265/360 [4:53:09<1:38:58, 62.52s/it]"
     ]
    },
    {
     "name": "stderr",
     "output_type": "stream",
     "text": [
      "\r",
      "Processing images:  74%|███████▍  | 266/360 [4:54:04<1:34:33, 60.36s/it]"
     ]
    },
    {
     "name": "stderr",
     "output_type": "stream",
     "text": [
      "\r",
      "Processing images:  74%|███████▍  | 267/360 [4:54:43<1:23:46, 54.05s/it]"
     ]
    },
    {
     "name": "stderr",
     "output_type": "stream",
     "text": [
      "\r",
      "Processing images:  74%|███████▍  | 268/360 [4:55:30<1:19:39, 51.95s/it]"
     ]
    },
    {
     "name": "stderr",
     "output_type": "stream",
     "text": [
      "\r",
      "Processing images:  75%|███████▍  | 269/360 [4:56:06<1:11:13, 46.96s/it]"
     ]
    },
    {
     "name": "stderr",
     "output_type": "stream",
     "text": [
      "\r",
      "Processing images:  75%|███████▌  | 270/360 [4:57:08<1:17:11, 51.46s/it]"
     ]
    },
    {
     "name": "stderr",
     "output_type": "stream",
     "text": [
      "\r",
      "Processing images:  75%|███████▌  | 271/360 [4:58:18<1:24:48, 57.18s/it]"
     ]
    },
    {
     "name": "stderr",
     "output_type": "stream",
     "text": [
      "\r",
      "Processing images:  76%|███████▌  | 272/360 [4:59:11<1:22:01, 55.93s/it]"
     ]
    },
    {
     "name": "stderr",
     "output_type": "stream",
     "text": [
      "\r",
      "Processing images:  76%|███████▌  | 273/360 [5:00:19<1:26:26, 59.62s/it]"
     ]
    },
    {
     "name": "stderr",
     "output_type": "stream",
     "text": [
      "\r",
      "Processing images:  76%|███████▌  | 274/360 [5:01:56<1:41:26, 70.77s/it]"
     ]
    },
    {
     "name": "stderr",
     "output_type": "stream",
     "text": [
      "\r",
      "Processing images:  76%|███████▋  | 275/360 [5:03:08<1:40:43, 71.09s/it]"
     ]
    },
    {
     "name": "stderr",
     "output_type": "stream",
     "text": [
      "\r",
      "Processing images:  77%|███████▋  | 276/360 [5:04:20<1:39:50, 71.31s/it]"
     ]
    },
    {
     "name": "stderr",
     "output_type": "stream",
     "text": [
      "\r",
      "Processing images:  77%|███████▋  | 277/360 [5:05:03<1:27:03, 62.93s/it]"
     ]
    },
    {
     "name": "stderr",
     "output_type": "stream",
     "text": [
      "\r",
      "Processing images:  77%|███████▋  | 278/360 [5:06:01<1:23:51, 61.35s/it]"
     ]
    },
    {
     "name": "stderr",
     "output_type": "stream",
     "text": [
      "\r",
      "Processing images:  78%|███████▊  | 279/360 [5:06:45<1:16:03, 56.33s/it]"
     ]
    },
    {
     "name": "stderr",
     "output_type": "stream",
     "text": [
      "\r",
      "Processing images:  78%|███████▊  | 280/360 [5:07:47<1:17:05, 57.82s/it]"
     ]
    },
    {
     "name": "stderr",
     "output_type": "stream",
     "text": [
      "\r",
      "Processing images:  78%|███████▊  | 281/360 [5:08:48<1:17:27, 58.83s/it]"
     ]
    },
    {
     "name": "stderr",
     "output_type": "stream",
     "text": [
      "\r",
      "Processing images:  78%|███████▊  | 282/360 [5:10:00<1:21:31, 62.71s/it]"
     ]
    },
    {
     "name": "stderr",
     "output_type": "stream",
     "text": [
      "\r",
      "Processing images:  79%|███████▊  | 283/360 [5:10:41<1:12:08, 56.21s/it]"
     ]
    },
    {
     "name": "stderr",
     "output_type": "stream",
     "text": [
      "\r",
      "Processing images:  79%|███████▉  | 284/360 [5:11:58<1:19:15, 62.58s/it]"
     ]
    },
    {
     "name": "stderr",
     "output_type": "stream",
     "text": [
      "\r",
      "Processing images:  79%|███████▉  | 285/360 [5:12:52<1:15:02, 60.04s/it]"
     ]
    },
    {
     "name": "stderr",
     "output_type": "stream",
     "text": [
      "\r",
      "Processing images:  79%|███████▉  | 286/360 [5:14:43<1:32:48, 75.24s/it]"
     ]
    },
    {
     "name": "stderr",
     "output_type": "stream",
     "text": [
      "\r",
      "Processing images:  80%|███████▉  | 287/360 [5:15:44<1:26:26, 71.05s/it]"
     ]
    },
    {
     "name": "stderr",
     "output_type": "stream",
     "text": [
      "\r",
      "Processing images:  80%|████████  | 288/360 [5:17:09<1:30:00, 75.01s/it]"
     ]
    },
    {
     "name": "stderr",
     "output_type": "stream",
     "text": [
      "\r",
      "Processing images:  80%|████████  | 289/360 [5:18:15<1:25:35, 72.33s/it]"
     ]
    },
    {
     "name": "stderr",
     "output_type": "stream",
     "text": [
      "\r",
      "Processing images:  81%|████████  | 290/360 [5:19:06<1:17:09, 66.14s/it]"
     ]
    },
    {
     "name": "stderr",
     "output_type": "stream",
     "text": [
      "\r",
      "Processing images:  81%|████████  | 291/360 [5:20:29<1:21:36, 70.96s/it]"
     ]
    },
    {
     "name": "stderr",
     "output_type": "stream",
     "text": [
      "\r",
      "Processing images:  81%|████████  | 292/360 [5:22:27<1:36:29, 85.14s/it]"
     ]
    },
    {
     "name": "stderr",
     "output_type": "stream",
     "text": [
      "\r",
      "Processing images:  81%|████████▏ | 293/360 [5:23:46<1:33:12, 83.47s/it]"
     ]
    },
    {
     "name": "stderr",
     "output_type": "stream",
     "text": [
      "\r",
      "Processing images:  82%|████████▏ | 294/360 [5:26:02<1:48:57, 99.06s/it]"
     ]
    },
    {
     "name": "stderr",
     "output_type": "stream",
     "text": [
      "\r",
      "Processing images:  82%|████████▏ | 295/360 [5:27:27<1:42:40, 94.77s/it]"
     ]
    },
    {
     "name": "stderr",
     "output_type": "stream",
     "text": [
      "\r",
      "Processing images:  82%|████████▏ | 296/360 [5:28:16<1:26:33, 81.14s/it]"
     ]
    },
    {
     "name": "stderr",
     "output_type": "stream",
     "text": [
      "\r",
      "Processing images:  82%|████████▎ | 297/360 [5:29:11<1:16:56, 73.28s/it]"
     ]
    },
    {
     "name": "stderr",
     "output_type": "stream",
     "text": [
      "\r",
      "Processing images:  83%|████████▎ | 298/360 [5:31:24<1:34:23, 91.35s/it]"
     ]
    },
    {
     "name": "stderr",
     "output_type": "stream",
     "text": [
      "\r",
      "Processing images:  83%|████████▎ | 299/360 [5:32:37<1:27:17, 85.86s/it]"
     ]
    },
    {
     "name": "stderr",
     "output_type": "stream",
     "text": [
      "\r",
      "Processing images:  83%|████████▎ | 300/360 [5:34:03<1:25:45, 85.75s/it]"
     ]
    },
    {
     "name": "stderr",
     "output_type": "stream",
     "text": [
      "\r",
      "Processing images:  84%|████████▎ | 301/360 [5:35:25<1:23:15, 84.67s/it]"
     ]
    },
    {
     "name": "stderr",
     "output_type": "stream",
     "text": [
      "\r",
      "Processing images:  84%|████████▍ | 302/360 [5:37:05<1:26:14, 89.21s/it]"
     ]
    },
    {
     "name": "stderr",
     "output_type": "stream",
     "text": [
      "\r",
      "Processing images:  84%|████████▍ | 303/360 [5:37:51<1:12:33, 76.38s/it]"
     ]
    },
    {
     "name": "stderr",
     "output_type": "stream",
     "text": [
      "\r",
      "Processing images:  84%|████████▍ | 304/360 [5:38:41<1:03:55, 68.48s/it]"
     ]
    },
    {
     "name": "stderr",
     "output_type": "stream",
     "text": [
      "\r",
      "Processing images:  85%|████████▍ | 305/360 [5:39:40<1:00:07, 65.60s/it]"
     ]
    },
    {
     "name": "stderr",
     "output_type": "stream",
     "text": [
      "\r",
      "Processing images:  85%|████████▌ | 306/360 [5:40:51<1:00:27, 67.18s/it]"
     ]
    },
    {
     "name": "stderr",
     "output_type": "stream",
     "text": [
      "\r",
      "Processing images:  85%|████████▌ | 307/360 [5:41:50<57:09, 64.72s/it]  "
     ]
    },
    {
     "name": "stderr",
     "output_type": "stream",
     "text": [
      "\r",
      "Processing images:  86%|████████▌ | 308/360 [5:42:40<52:15, 60.31s/it]"
     ]
    },
    {
     "name": "stderr",
     "output_type": "stream",
     "text": [
      "\r",
      "Processing images:  86%|████████▌ | 309/360 [5:44:00<56:20, 66.28s/it]"
     ]
    },
    {
     "name": "stderr",
     "output_type": "stream",
     "text": [
      "\r",
      "Processing images:  86%|████████▌ | 310/360 [5:45:51<1:06:21, 79.62s/it]"
     ]
    },
    {
     "name": "stderr",
     "output_type": "stream",
     "text": [
      "\r",
      "Processing images:  86%|████████▋ | 311/360 [5:46:31<55:15, 67.67s/it]  "
     ]
    },
    {
     "name": "stderr",
     "output_type": "stream",
     "text": [
      "\r",
      "Processing images:  87%|████████▋ | 312/360 [5:47:16<48:44, 60.93s/it]"
     ]
    },
    {
     "name": "stderr",
     "output_type": "stream",
     "text": [
      "\r",
      "Processing images:  87%|████████▋ | 313/360 [5:48:58<57:21, 73.23s/it]"
     ]
    },
    {
     "name": "stderr",
     "output_type": "stream",
     "text": [
      "\r",
      "Processing images:  87%|████████▋ | 314/360 [5:49:45<50:06, 65.37s/it]"
     ]
    },
    {
     "name": "stderr",
     "output_type": "stream",
     "text": [
      "\r",
      "Processing images:  88%|████████▊ | 315/360 [5:50:28<44:05, 58.79s/it]"
     ]
    },
    {
     "name": "stderr",
     "output_type": "stream",
     "text": [
      "\r",
      "Processing images:  88%|████████▊ | 316/360 [5:51:06<38:32, 52.55s/it]"
     ]
    },
    {
     "name": "stderr",
     "output_type": "stream",
     "text": [
      "\r",
      "Processing images:  88%|████████▊ | 317/360 [5:53:01<51:06, 71.30s/it]"
     ]
    },
    {
     "name": "stderr",
     "output_type": "stream",
     "text": [
      "\r",
      "Processing images:  88%|████████▊ | 318/360 [5:54:00<47:18, 67.58s/it]"
     ]
    },
    {
     "name": "stderr",
     "output_type": "stream",
     "text": [
      "\r",
      "Processing images:  89%|████████▊ | 319/360 [5:55:15<47:33, 69.60s/it]"
     ]
    },
    {
     "name": "stderr",
     "output_type": "stream",
     "text": [
      "\r",
      "Processing images:  89%|████████▉ | 320/360 [5:56:58<53:08, 79.71s/it]"
     ]
    },
    {
     "name": "stderr",
     "output_type": "stream",
     "text": [
      "\r",
      "Processing images:  89%|████████▉ | 321/360 [5:58:00<48:25, 74.49s/it]"
     ]
    },
    {
     "name": "stderr",
     "output_type": "stream",
     "text": [
      "\r",
      "Processing images:  89%|████████▉ | 322/360 [5:59:03<44:54, 70.90s/it]"
     ]
    },
    {
     "name": "stderr",
     "output_type": "stream",
     "text": [
      "\r",
      "Processing images:  90%|████████▉ | 323/360 [5:59:58<40:50, 66.23s/it]"
     ]
    },
    {
     "name": "stderr",
     "output_type": "stream",
     "text": [
      "\r",
      "Processing images:  90%|█████████ | 324/360 [6:01:13<41:17, 68.81s/it]"
     ]
    },
    {
     "name": "stderr",
     "output_type": "stream",
     "text": [
      "\r",
      "Processing images:  90%|█████████ | 325/360 [6:02:12<38:23, 65.80s/it]"
     ]
    },
    {
     "name": "stderr",
     "output_type": "stream",
     "text": [
      "\r",
      "Processing images:  91%|█████████ | 326/360 [6:03:18<37:18, 65.85s/it]"
     ]
    },
    {
     "name": "stderr",
     "output_type": "stream",
     "text": [
      "\r",
      "Processing images:  91%|█████████ | 327/360 [6:04:01<32:25, 58.95s/it]"
     ]
    },
    {
     "name": "stderr",
     "output_type": "stream",
     "text": [
      "\r",
      "Processing images:  91%|█████████ | 328/360 [6:04:33<27:10, 50.96s/it]"
     ]
    },
    {
     "name": "stderr",
     "output_type": "stream",
     "text": [
      "\r",
      "Processing images:  91%|█████████▏| 329/360 [6:05:25<26:26, 51.18s/it]"
     ]
    },
    {
     "name": "stderr",
     "output_type": "stream",
     "text": [
      "\r",
      "Processing images:  92%|█████████▏| 330/360 [6:06:40<29:09, 58.33s/it]"
     ]
    },
    {
     "name": "stderr",
     "output_type": "stream",
     "text": [
      "\r",
      "Processing images:  92%|█████████▏| 331/360 [6:07:32<27:18, 56.51s/it]"
     ]
    },
    {
     "name": "stderr",
     "output_type": "stream",
     "text": [
      "\r",
      "Processing images:  92%|█████████▏| 332/360 [6:08:38<27:42, 59.38s/it]"
     ]
    },
    {
     "name": "stderr",
     "output_type": "stream",
     "text": [
      "\r",
      "Processing images:  92%|█████████▎| 333/360 [6:09:33<26:09, 58.13s/it]"
     ]
    },
    {
     "name": "stderr",
     "output_type": "stream",
     "text": [
      "\r",
      "Processing images:  93%|█████████▎| 334/360 [6:10:52<27:49, 64.22s/it]"
     ]
    },
    {
     "name": "stderr",
     "output_type": "stream",
     "text": [
      "\r",
      "Processing images:  93%|█████████▎| 335/360 [6:12:31<31:12, 74.92s/it]"
     ]
    },
    {
     "name": "stderr",
     "output_type": "stream",
     "text": [
      "\r",
      "Processing images:  93%|█████████▎| 336/360 [6:13:16<26:20, 65.84s/it]"
     ]
    },
    {
     "name": "stderr",
     "output_type": "stream",
     "text": [
      "\r",
      "Processing images:  94%|█████████▎| 337/360 [6:14:24<25:26, 66.37s/it]"
     ]
    },
    {
     "name": "stderr",
     "output_type": "stream",
     "text": [
      "\r",
      "Processing images:  94%|█████████▍| 338/360 [6:15:37<25:05, 68.45s/it]"
     ]
    },
    {
     "name": "stderr",
     "output_type": "stream",
     "text": [
      "\r",
      "Processing images:  94%|█████████▍| 339/360 [6:16:57<25:10, 71.91s/it]"
     ]
    },
    {
     "name": "stderr",
     "output_type": "stream",
     "text": [
      "\r",
      "Processing images:  94%|█████████▍| 340/360 [6:18:03<23:21, 70.05s/it]"
     ]
    },
    {
     "name": "stderr",
     "output_type": "stream",
     "text": [
      "\r",
      "Processing images:  95%|█████████▍| 341/360 [6:19:15<22:26, 70.87s/it]"
     ]
    },
    {
     "name": "stderr",
     "output_type": "stream",
     "text": [
      "\r",
      "Processing images:  95%|█████████▌| 342/360 [6:20:18<20:30, 68.33s/it]"
     ]
    },
    {
     "name": "stderr",
     "output_type": "stream",
     "text": [
      "\r",
      "Processing images:  95%|█████████▌| 343/360 [6:21:34<20:03, 70.81s/it]"
     ]
    },
    {
     "name": "stderr",
     "output_type": "stream",
     "text": [
      "\r",
      "Processing images:  96%|█████████▌| 344/360 [6:22:41<18:30, 69.39s/it]"
     ]
    },
    {
     "name": "stderr",
     "output_type": "stream",
     "text": [
      "\r",
      "Processing images:  96%|█████████▌| 345/360 [6:23:27<15:37, 62.52s/it]"
     ]
    },
    {
     "name": "stderr",
     "output_type": "stream",
     "text": [
      "\r",
      "Processing images:  96%|█████████▌| 346/360 [6:24:10<13:13, 56.65s/it]"
     ]
    },
    {
     "name": "stderr",
     "output_type": "stream",
     "text": [
      "\r",
      "Processing images:  96%|█████████▋| 347/360 [6:25:20<13:06, 60.54s/it]"
     ]
    },
    {
     "name": "stderr",
     "output_type": "stream",
     "text": [
      "\r",
      "Processing images:  97%|█████████▋| 348/360 [6:26:09<11:28, 57.35s/it]"
     ]
    },
    {
     "name": "stderr",
     "output_type": "stream",
     "text": [
      "\r",
      "Processing images:  97%|█████████▋| 349/360 [6:27:22<11:22, 62.04s/it]"
     ]
    },
    {
     "name": "stderr",
     "output_type": "stream",
     "text": [
      "\r",
      "Processing images:  97%|█████████▋| 350/360 [6:28:37<10:57, 65.79s/it]"
     ]
    },
    {
     "name": "stderr",
     "output_type": "stream",
     "text": [
      "\r",
      "Processing images:  98%|█████████▊| 351/360 [6:29:16<08:40, 57.80s/it]"
     ]
    },
    {
     "name": "stderr",
     "output_type": "stream",
     "text": [
      "\r",
      "Processing images:  98%|█████████▊| 352/360 [6:30:01<07:10, 53.84s/it]"
     ]
    },
    {
     "name": "stderr",
     "output_type": "stream",
     "text": [
      "\r",
      "Processing images:  98%|█████████▊| 353/360 [6:30:56<06:19, 54.26s/it]"
     ]
    },
    {
     "name": "stderr",
     "output_type": "stream",
     "text": [
      "\r",
      "Processing images:  98%|█████████▊| 354/360 [6:31:58<05:39, 56.61s/it]"
     ]
    },
    {
     "name": "stderr",
     "output_type": "stream",
     "text": [
      "\r",
      "Processing images:  99%|█████████▊| 355/360 [6:33:10<05:06, 61.23s/it]"
     ]
    },
    {
     "name": "stderr",
     "output_type": "stream",
     "text": [
      "\r",
      "Processing images:  99%|█████████▉| 356/360 [6:34:04<03:55, 58.90s/it]"
     ]
    },
    {
     "name": "stderr",
     "output_type": "stream",
     "text": [
      "\r",
      "Processing images:  99%|█████████▉| 357/360 [6:34:37<02:34, 51.39s/it]"
     ]
    },
    {
     "name": "stderr",
     "output_type": "stream",
     "text": [
      "\r",
      "Processing images:  99%|█████████▉| 358/360 [6:35:43<01:51, 55.69s/it]"
     ]
    },
    {
     "name": "stderr",
     "output_type": "stream",
     "text": [
      "\r",
      "Processing images: 100%|█████████▉| 359/360 [6:37:17<01:07, 67.24s/it]"
     ]
    },
    {
     "name": "stderr",
     "output_type": "stream",
     "text": [
      "\r",
      "Processing images: 100%|██████████| 360/360 [6:38:16<00:00, 64.59s/it]"
     ]
    },
    {
     "name": "stderr",
     "output_type": "stream",
     "text": [
      "\r",
      "Processing images: 100%|██████████| 360/360 [6:38:16<00:00, 66.38s/it]"
     ]
    },
    {
     "name": "stderr",
     "output_type": "stream",
     "text": [
      "\n"
     ]
    },
    {
     "name": "stdout",
     "output_type": "stream",
     "text": [
      "\n",
      "============================================================\n",
      "EVALUATION SUMMARY FOR QWEN2.5-VL\n",
      "============================================================\n",
      "📊 IMAGE PROCESSING SUMMARY:\n",
      "   Total images attempted: 360\n",
      "   Successfully processed: 360 (100.0%)\n",
      "   Failed images: 0 (0.0%)\n",
      "\n",
      "📝 QUESTION PROCESSING SUMMARY:\n",
      "   Total questions attempted: 1080\n",
      "   Successfully processed: 1080 (100.0%)\n",
      "   Failed questions: 0 (0.0%)\n",
      "   Results saved: 1080\n",
      "\n",
      "✅ SUCCESSFUL IMAGES (360):\n",
      "   • image01 (Type: REAL, Questions: 3/3, Time: 59.2s)\n",
      "   • image02 (Type: REAL, Questions: 3/3, Time: 83.7s)\n",
      "   • image03 (Type: REAL, Questions: 3/3, Time: 72.9s)\n",
      "   • image04 (Type: REAL, Questions: 3/3, Time: 86.9s)\n",
      "   • image05 (Type: REAL, Questions: 3/3, Time: 77.4s)\n",
      "   • image06 (Type: REAL, Questions: 3/3, Time: 92.0s)\n",
      "   • image07 (Type: REAL, Questions: 3/3, Time: 44.6s)\n",
      "   • image08 (Type: REAL, Questions: 3/3, Time: 32.0s)\n",
      "   • image09 (Type: REAL, Questions: 3/3, Time: 78.9s)\n",
      "   • image10 (Type: REAL, Questions: 3/3, Time: 116.8s)\n",
      "   • image11 (Type: REAL, Questions: 3/3, Time: 48.9s)\n",
      "   • image12 (Type: REAL, Questions: 3/3, Time: 110.6s)\n",
      "   • image13 (Type: REAL, Questions: 3/3, Time: 71.4s)\n",
      "   • image14 (Type: REAL, Questions: 3/3, Time: 29.5s)\n",
      "   • image15 (Type: REAL, Questions: 3/3, Time: 74.0s)\n",
      "   • image16 (Type: REAL, Questions: 3/3, Time: 52.4s)\n",
      "   • image17 (Type: REAL, Questions: 3/3, Time: 57.0s)\n",
      "   • image18 (Type: REAL, Questions: 3/3, Time: 66.2s)\n",
      "   • image19 (Type: REAL, Questions: 3/3, Time: 87.3s)\n",
      "   • image20 (Type: REAL, Questions: 3/3, Time: 50.8s)\n",
      "   • image21 (Type: REAL, Questions: 3/3, Time: 88.8s)\n",
      "   • image22 (Type: REAL, Questions: 3/3, Time: 82.8s)\n",
      "   • image23 (Type: REAL, Questions: 3/3, Time: 91.9s)\n",
      "   • image24 (Type: REAL, Questions: 3/3, Time: 76.0s)\n",
      "   • image25 (Type: REAL, Questions: 3/3, Time: 54.8s)\n",
      "   • image26 (Type: REAL, Questions: 3/3, Time: 92.5s)\n",
      "   • image27 (Type: REAL, Questions: 3/3, Time: 48.1s)\n",
      "   • image28 (Type: REAL, Questions: 3/3, Time: 65.4s)\n",
      "   • image29 (Type: REAL, Questions: 3/3, Time: 93.3s)\n",
      "   • image30 (Type: REAL, Questions: 3/3, Time: 64.6s)\n",
      "   • image31 (Type: REAL, Questions: 3/3, Time: 83.3s)\n",
      "   • image32 (Type: REAL, Questions: 3/3, Time: 78.4s)\n",
      "   • image33 (Type: REAL, Questions: 3/3, Time: 62.4s)\n",
      "   • image34 (Type: REAL, Questions: 3/3, Time: 63.7s)\n",
      "   • image35 (Type: REAL, Questions: 3/3, Time: 166.1s)\n",
      "   • image36 (Type: REAL, Questions: 3/3, Time: 136.5s)\n",
      "   • image37 (Type: REAL, Questions: 3/3, Time: 79.9s)\n",
      "   • image38 (Type: REAL, Questions: 3/3, Time: 37.5s)\n",
      "   • image39 (Type: REAL, Questions: 3/3, Time: 63.1s)\n",
      "   • image40 (Type: REAL, Questions: 3/3, Time: 41.1s)\n",
      "   • image41 (Type: REAL, Questions: 3/3, Time: 44.2s)\n",
      "   • image42 (Type: REAL, Questions: 3/3, Time: 49.8s)\n",
      "   • image43 (Type: REAL, Questions: 3/3, Time: 54.8s)\n",
      "   • image44 (Type: REAL, Questions: 3/3, Time: 57.2s)\n",
      "   • image45 (Type: REAL, Questions: 3/3, Time: 105.2s)\n",
      "   • image46 (Type: REAL, Questions: 3/3, Time: 125.1s)\n",
      "   • image47 (Type: REAL, Questions: 3/3, Time: 55.9s)\n",
      "   • image48 (Type: REAL, Questions: 3/3, Time: 47.8s)\n",
      "   • image49 (Type: REAL, Questions: 3/3, Time: 65.9s)\n",
      "   • image50 (Type: REAL, Questions: 3/3, Time: 69.7s)\n",
      "   • image51 (Type: REAL, Questions: 3/3, Time: 114.6s)\n",
      "   • image52 (Type: REAL, Questions: 3/3, Time: 52.0s)\n",
      "   • image53 (Type: REAL, Questions: 3/3, Time: 62.4s)\n",
      "   • image54 (Type: REAL, Questions: 3/3, Time: 62.9s)\n",
      "   • image55 (Type: REAL, Questions: 3/3, Time: 40.9s)\n",
      "   • image56 (Type: REAL, Questions: 3/3, Time: 43.6s)\n",
      "   • image57 (Type: REAL, Questions: 3/3, Time: 75.0s)\n",
      "   • image58 (Type: REAL, Questions: 3/3, Time: 57.0s)\n",
      "   • image59 (Type: REAL, Questions: 3/3, Time: 50.0s)\n",
      "   • image60 (Type: REAL, Questions: 3/3, Time: 82.1s)\n",
      "   • image61 (Type: REAL, Questions: 3/3, Time: 69.6s)\n",
      "   • image62 (Type: REAL, Questions: 3/3, Time: 32.2s)\n",
      "   • image63 (Type: REAL, Questions: 3/3, Time: 60.7s)\n",
      "   • image64 (Type: REAL, Questions: 3/3, Time: 69.8s)\n",
      "   • image65 (Type: REAL, Questions: 3/3, Time: 64.7s)\n",
      "   • image66 (Type: REAL, Questions: 3/3, Time: 46.9s)\n",
      "   • image67 (Type: REAL, Questions: 3/3, Time: 66.1s)\n",
      "   • image68 (Type: REAL, Questions: 3/3, Time: 74.9s)\n",
      "   • image69 (Type: REAL, Questions: 3/3, Time: 92.6s)\n",
      "   • image70 (Type: REAL, Questions: 3/3, Time: 48.4s)\n",
      "   • image71 (Type: REAL, Questions: 3/3, Time: 43.0s)\n",
      "   • image72 (Type: REAL, Questions: 3/3, Time: 62.5s)\n",
      "   • image73 (Type: REAL, Questions: 3/3, Time: 33.8s)\n",
      "   • image74 (Type: REAL, Questions: 3/3, Time: 60.7s)\n",
      "   • image75 (Type: REAL, Questions: 3/3, Time: 48.8s)\n",
      "   • image76 (Type: REAL, Questions: 3/3, Time: 67.9s)\n",
      "   • image77 (Type: REAL, Questions: 3/3, Time: 38.8s)\n",
      "   • image78 (Type: REAL, Questions: 3/3, Time: 71.9s)\n",
      "   • image79 (Type: REAL, Questions: 3/3, Time: 101.6s)\n",
      "   • image80 (Type: REAL, Questions: 3/3, Time: 78.3s)\n",
      "   • image81 (Type: REAL, Questions: 3/3, Time: 32.2s)\n",
      "   • image82 (Type: REAL, Questions: 3/3, Time: 46.5s)\n",
      "   • image83 (Type: REAL, Questions: 3/3, Time: 67.1s)\n",
      "   • image84 (Type: REAL, Questions: 3/3, Time: 70.7s)\n",
      "   • image85 (Type: REAL, Questions: 3/3, Time: 58.3s)\n",
      "   • image86 (Type: REAL, Questions: 3/3, Time: 46.6s)\n",
      "   • image87 (Type: REAL, Questions: 3/3, Time: 69.7s)\n",
      "   • image88 (Type: REAL, Questions: 3/3, Time: 57.2s)\n",
      "   • image89 (Type: REAL, Questions: 3/3, Time: 73.3s)\n",
      "   • image90 (Type: REAL, Questions: 3/3, Time: 62.6s)\n",
      "   • image91 (Type: REAL, Questions: 3/3, Time: 106.1s)\n",
      "   • image92 (Type: REAL, Questions: 3/3, Time: 89.5s)\n",
      "   • image93 (Type: REAL, Questions: 3/3, Time: 46.5s)\n",
      "   • image94 (Type: REAL, Questions: 3/3, Time: 55.4s)\n",
      "   • image95 (Type: REAL, Questions: 3/3, Time: 46.4s)\n",
      "   • image96 (Type: REAL, Questions: 3/3, Time: 59.1s)\n",
      "   • image97 (Type: REAL, Questions: 3/3, Time: 48.3s)\n",
      "   • image98 (Type: REAL, Questions: 3/3, Time: 116.0s)\n",
      "   • image99 (Type: REAL, Questions: 3/3, Time: 63.6s)\n",
      "   • image100 (Type: REAL, Questions: 3/3, Time: 82.1s)\n",
      "   • image101 (Type: REAL, Questions: 3/3, Time: 105.2s)\n",
      "   • image102 (Type: REAL, Questions: 3/3, Time: 99.8s)\n",
      "   • image103 (Type: REAL, Questions: 3/3, Time: 98.0s)\n",
      "   • image104 (Type: REAL, Questions: 3/3, Time: 55.4s)\n",
      "   • image105 (Type: REAL, Questions: 3/3, Time: 98.3s)\n",
      "   • image106 (Type: REAL, Questions: 3/3, Time: 92.9s)\n",
      "   • image107 (Type: REAL, Questions: 3/3, Time: 78.4s)\n",
      "   • image108 (Type: REAL, Questions: 3/3, Time: 73.3s)\n",
      "   • image109 (Type: REAL, Questions: 3/3, Time: 103.5s)\n",
      "   • image110 (Type: REAL, Questions: 3/3, Time: 83.9s)\n",
      "   • image111 (Type: REAL, Questions: 3/3, Time: 57.2s)\n",
      "   • image112 (Type: REAL, Questions: 3/3, Time: 83.7s)\n",
      "   • image113 (Type: REAL, Questions: 3/3, Time: 130.4s)\n",
      "   • image114 (Type: REAL, Questions: 3/3, Time: 90.8s)\n",
      "   • image115 (Type: REAL, Questions: 3/3, Time: 64.2s)\n",
      "   • image116 (Type: REAL, Questions: 3/3, Time: 85.7s)\n",
      "   • image117 (Type: REAL, Questions: 3/3, Time: 55.2s)\n",
      "   • image118 (Type: REAL, Questions: 3/3, Time: 94.5s)\n",
      "   • image119 (Type: REAL, Questions: 3/3, Time: 66.0s)\n",
      "   • image120 (Type: REAL, Questions: 3/3, Time: 94.5s)\n",
      "   • image01 (Type: ANIMATED, Questions: 3/3, Time: 66.8s)\n",
      "   • image02 (Type: ANIMATED, Questions: 3/3, Time: 50.7s)\n",
      "   • image03 (Type: ANIMATED, Questions: 3/3, Time: 39.8s)\n",
      "   • image04 (Type: ANIMATED, Questions: 3/3, Time: 57.1s)\n",
      "   • image05 (Type: ANIMATED, Questions: 3/3, Time: 67.4s)\n",
      "   • image06 (Type: ANIMATED, Questions: 3/3, Time: 54.1s)\n",
      "   • image07 (Type: ANIMATED, Questions: 3/3, Time: 38.1s)\n",
      "   • image08 (Type: ANIMATED, Questions: 3/3, Time: 51.7s)\n",
      "   • image09 (Type: ANIMATED, Questions: 3/3, Time: 90.2s)\n",
      "   • image10 (Type: ANIMATED, Questions: 3/3, Time: 59.6s)\n",
      "   • image11 (Type: ANIMATED, Questions: 3/3, Time: 75.1s)\n",
      "   • image12 (Type: ANIMATED, Questions: 3/3, Time: 135.8s)\n",
      "   • image13 (Type: ANIMATED, Questions: 3/3, Time: 70.3s)\n",
      "   • image14 (Type: ANIMATED, Questions: 3/3, Time: 72.8s)\n",
      "   • image15 (Type: ANIMATED, Questions: 3/3, Time: 78.6s)\n",
      "   • image16 (Type: ANIMATED, Questions: 3/3, Time: 73.4s)\n",
      "   • image17 (Type: ANIMATED, Questions: 3/3, Time: 67.7s)\n",
      "   • image18 (Type: ANIMATED, Questions: 3/3, Time: 59.7s)\n",
      "   • image19 (Type: ANIMATED, Questions: 3/3, Time: 109.1s)\n",
      "   • image20 (Type: ANIMATED, Questions: 3/3, Time: 53.6s)\n",
      "   • image21 (Type: ANIMATED, Questions: 3/3, Time: 60.7s)\n",
      "   • image22 (Type: ANIMATED, Questions: 3/3, Time: 73.2s)\n",
      "   • image23 (Type: ANIMATED, Questions: 3/3, Time: 98.4s)\n",
      "   • image24 (Type: ANIMATED, Questions: 3/3, Time: 52.8s)\n",
      "   • image25 (Type: ANIMATED, Questions: 3/3, Time: 56.2s)\n",
      "   • image26 (Type: ANIMATED, Questions: 3/3, Time: 82.3s)\n",
      "   • image27 (Type: ANIMATED, Questions: 3/3, Time: 76.9s)\n",
      "   • image28 (Type: ANIMATED, Questions: 3/3, Time: 114.3s)\n",
      "   • image29 (Type: ANIMATED, Questions: 3/3, Time: 60.9s)\n",
      "   • image30 (Type: ANIMATED, Questions: 3/3, Time: 42.3s)\n",
      "   • image31 (Type: ANIMATED, Questions: 3/3, Time: 78.6s)\n",
      "   • image32 (Type: ANIMATED, Questions: 3/3, Time: 28.9s)\n",
      "   • image33 (Type: ANIMATED, Questions: 3/3, Time: 41.3s)\n",
      "   • image34 (Type: ANIMATED, Questions: 3/3, Time: 37.8s)\n",
      "   • image35 (Type: ANIMATED, Questions: 3/3, Time: 69.6s)\n",
      "   • image36 (Type: ANIMATED, Questions: 3/3, Time: 60.7s)\n",
      "   • image37 (Type: ANIMATED, Questions: 3/3, Time: 66.5s)\n",
      "   • image38 (Type: ANIMATED, Questions: 3/3, Time: 77.1s)\n",
      "   • image39 (Type: ANIMATED, Questions: 3/3, Time: 73.4s)\n",
      "   • image40 (Type: ANIMATED, Questions: 3/3, Time: 50.1s)\n",
      "   • image41 (Type: ANIMATED, Questions: 3/3, Time: 51.9s)\n",
      "   • image42 (Type: ANIMATED, Questions: 3/3, Time: 85.8s)\n",
      "   • image43 (Type: ANIMATED, Questions: 3/3, Time: 49.2s)\n",
      "   • image44 (Type: ANIMATED, Questions: 3/3, Time: 46.5s)\n",
      "   • image45 (Type: ANIMATED, Questions: 3/3, Time: 46.9s)\n",
      "   • image46 (Type: ANIMATED, Questions: 3/3, Time: 55.8s)\n",
      "   • image47 (Type: ANIMATED, Questions: 3/3, Time: 85.8s)\n",
      "   • image48 (Type: ANIMATED, Questions: 3/3, Time: 55.4s)\n",
      "   • image49 (Type: ANIMATED, Questions: 3/3, Time: 57.6s)\n",
      "   • image50 (Type: ANIMATED, Questions: 3/3, Time: 64.9s)\n",
      "   • image51 (Type: ANIMATED, Questions: 3/3, Time: 66.5s)\n",
      "   • image52 (Type: ANIMATED, Questions: 3/3, Time: 56.0s)\n",
      "   • image53 (Type: ANIMATED, Questions: 3/3, Time: 93.3s)\n",
      "   • image54 (Type: ANIMATED, Questions: 3/3, Time: 62.6s)\n",
      "   • image55 (Type: ANIMATED, Questions: 3/3, Time: 36.7s)\n",
      "   • image56 (Type: ANIMATED, Questions: 3/3, Time: 31.4s)\n",
      "   • image57 (Type: ANIMATED, Questions: 3/3, Time: 31.5s)\n",
      "   • image58 (Type: ANIMATED, Questions: 3/3, Time: 32.7s)\n",
      "   • image59 (Type: ANIMATED, Questions: 3/3, Time: 89.2s)\n",
      "   • image60 (Type: ANIMATED, Questions: 3/3, Time: 42.4s)\n",
      "   • image61 (Type: ANIMATED, Questions: 3/3, Time: 37.4s)\n",
      "   • image62 (Type: ANIMATED, Questions: 3/3, Time: 69.6s)\n",
      "   • image63 (Type: ANIMATED, Questions: 3/3, Time: 82.4s)\n",
      "   • image64 (Type: ANIMATED, Questions: 3/3, Time: 45.6s)\n",
      "   • image65 (Type: ANIMATED, Questions: 3/3, Time: 58.9s)\n",
      "   • image66 (Type: ANIMATED, Questions: 3/3, Time: 39.1s)\n",
      "   • image67 (Type: ANIMATED, Questions: 3/3, Time: 42.8s)\n",
      "   • image68 (Type: ANIMATED, Questions: 3/3, Time: 53.5s)\n",
      "   • image69 (Type: ANIMATED, Questions: 3/3, Time: 67.2s)\n",
      "   • image70 (Type: ANIMATED, Questions: 3/3, Time: 33.7s)\n",
      "   • image71 (Type: ANIMATED, Questions: 3/3, Time: 41.0s)\n",
      "   • image72 (Type: ANIMATED, Questions: 3/3, Time: 71.4s)\n",
      "   • image73 (Type: ANIMATED, Questions: 3/3, Time: 65.5s)\n",
      "   • image74 (Type: ANIMATED, Questions: 3/3, Time: 44.9s)\n",
      "   • image75 (Type: ANIMATED, Questions: 3/3, Time: 57.1s)\n",
      "   • image76 (Type: ANIMATED, Questions: 3/3, Time: 80.2s)\n",
      "   • image77 (Type: ANIMATED, Questions: 3/3, Time: 116.1s)\n",
      "   • image78 (Type: ANIMATED, Questions: 3/3, Time: 51.7s)\n",
      "   • image79 (Type: ANIMATED, Questions: 3/3, Time: 37.3s)\n",
      "   • image80 (Type: ANIMATED, Questions: 3/3, Time: 82.1s)\n",
      "   • image81 (Type: ANIMATED, Questions: 3/3, Time: 77.2s)\n",
      "   • image82 (Type: ANIMATED, Questions: 3/3, Time: 53.8s)\n",
      "   • image83 (Type: ANIMATED, Questions: 3/3, Time: 50.3s)\n",
      "   • image84 (Type: ANIMATED, Questions: 3/3, Time: 58.6s)\n",
      "   • image85 (Type: ANIMATED, Questions: 3/3, Time: 36.5s)\n",
      "   • image86 (Type: ANIMATED, Questions: 3/3, Time: 55.6s)\n",
      "   • image87 (Type: ANIMATED, Questions: 3/3, Time: 55.4s)\n",
      "   • image88 (Type: ANIMATED, Questions: 3/3, Time: 51.2s)\n",
      "   • image89 (Type: ANIMATED, Questions: 3/3, Time: 51.3s)\n",
      "   • image90 (Type: ANIMATED, Questions: 3/3, Time: 33.4s)\n",
      "   • image91 (Type: ANIMATED, Questions: 3/3, Time: 58.2s)\n",
      "   • image92 (Type: ANIMATED, Questions: 3/3, Time: 70.6s)\n",
      "   • image93 (Type: ANIMATED, Questions: 3/3, Time: 77.7s)\n",
      "   • image94 (Type: ANIMATED, Questions: 3/3, Time: 54.7s)\n",
      "   • image95 (Type: ANIMATED, Questions: 3/3, Time: 38.7s)\n",
      "   • image96 (Type: ANIMATED, Questions: 3/3, Time: 53.3s)\n",
      "   • image97 (Type: ANIMATED, Questions: 3/3, Time: 35.7s)\n",
      "   • image98 (Type: ANIMATED, Questions: 3/3, Time: 41.0s)\n",
      "   • image99 (Type: ANIMATED, Questions: 3/3, Time: 64.7s)\n",
      "   • image100 (Type: ANIMATED, Questions: 3/3, Time: 45.8s)\n",
      "   • image101 (Type: ANIMATED, Questions: 3/3, Time: 33.2s)\n",
      "   • image102 (Type: ANIMATED, Questions: 3/3, Time: 81.5s)\n",
      "   • image103 (Type: ANIMATED, Questions: 3/3, Time: 93.7s)\n",
      "   • image104 (Type: ANIMATED, Questions: 3/3, Time: 50.5s)\n",
      "   • image105 (Type: ANIMATED, Questions: 3/3, Time: 56.6s)\n",
      "   • image106 (Type: ANIMATED, Questions: 3/3, Time: 96.8s)\n",
      "   • image107 (Type: ANIMATED, Questions: 3/3, Time: 42.3s)\n",
      "   • image108 (Type: ANIMATED, Questions: 3/3, Time: 25.9s)\n",
      "   • image109 (Type: ANIMATED, Questions: 3/3, Time: 48.3s)\n",
      "   • image110 (Type: ANIMATED, Questions: 3/3, Time: 35.9s)\n",
      "   • image111 (Type: ANIMATED, Questions: 3/3, Time: 64.7s)\n",
      "   • image112 (Type: ANIMATED, Questions: 3/3, Time: 75.9s)\n",
      "   • image113 (Type: ANIMATED, Questions: 3/3, Time: 64.8s)\n",
      "   • image114 (Type: ANIMATED, Questions: 3/3, Time: 98.1s)\n",
      "   • image115 (Type: ANIMATED, Questions: 3/3, Time: 62.4s)\n",
      "   • image116 (Type: ANIMATED, Questions: 3/3, Time: 66.7s)\n",
      "   • image117 (Type: ANIMATED, Questions: 3/3, Time: 59.2s)\n",
      "   • image118 (Type: ANIMATED, Questions: 3/3, Time: 75.4s)\n",
      "   • image119 (Type: ANIMATED, Questions: 3/3, Time: 82.5s)\n",
      "   • image120 (Type: ANIMATED, Questions: 3/3, Time: 70.1s)\n",
      "   • image01 (Type: AI_GENERATED, Questions: 3/3, Time: 62.2s)\n",
      "   • image02 (Type: AI_GENERATED, Questions: 3/3, Time: 58.7s)\n",
      "   • image03 (Type: AI_GENERATED, Questions: 3/3, Time: 62.3s)\n",
      "   • image04 (Type: AI_GENERATED, Questions: 3/3, Time: 87.1s)\n",
      "   • image05 (Type: AI_GENERATED, Questions: 3/3, Time: 75.6s)\n",
      "   • image06 (Type: AI_GENERATED, Questions: 3/3, Time: 70.5s)\n",
      "   • image07 (Type: AI_GENERATED, Questions: 3/3, Time: 57.1s)\n",
      "   • image08 (Type: AI_GENERATED, Questions: 3/3, Time: 107.5s)\n",
      "   • image09 (Type: AI_GENERATED, Questions: 3/3, Time: 59.1s)\n",
      "   • image10 (Type: AI_GENERATED, Questions: 3/3, Time: 79.7s)\n",
      "   • image11 (Type: AI_GENERATED, Questions: 3/3, Time: 103.9s)\n",
      "   • image12 (Type: AI_GENERATED, Questions: 3/3, Time: 40.9s)\n",
      "   • image13 (Type: AI_GENERATED, Questions: 3/3, Time: 57.1s)\n",
      "   • image14 (Type: AI_GENERATED, Questions: 3/3, Time: 47.0s)\n",
      "   • image15 (Type: AI_GENERATED, Questions: 3/3, Time: 84.6s)\n",
      "   • image16 (Type: AI_GENERATED, Questions: 3/3, Time: 70.2s)\n",
      "   • image17 (Type: AI_GENERATED, Questions: 3/3, Time: 50.6s)\n",
      "   • image18 (Type: AI_GENERATED, Questions: 3/3, Time: 112.2s)\n",
      "   • image19 (Type: AI_GENERATED, Questions: 3/3, Time: 77.6s)\n",
      "   • image20 (Type: AI_GENERATED, Questions: 3/3, Time: 59.7s)\n",
      "   • image21 (Type: AI_GENERATED, Questions: 3/3, Time: 40.1s)\n",
      "   • image22 (Type: AI_GENERATED, Questions: 3/3, Time: 72.0s)\n",
      "   • image23 (Type: AI_GENERATED, Questions: 3/3, Time: 69.5s)\n",
      "   • image24 (Type: AI_GENERATED, Questions: 3/3, Time: 72.1s)\n",
      "   • image25 (Type: AI_GENERATED, Questions: 3/3, Time: 48.9s)\n",
      "   • image26 (Type: AI_GENERATED, Questions: 3/3, Time: 55.3s)\n",
      "   • image27 (Type: AI_GENERATED, Questions: 3/3, Time: 39.3s)\n",
      "   • image28 (Type: AI_GENERATED, Questions: 3/3, Time: 47.0s)\n",
      "   • image29 (Type: AI_GENERATED, Questions: 3/3, Time: 35.3s)\n",
      "   • image30 (Type: AI_GENERATED, Questions: 3/3, Time: 61.9s)\n",
      "   • image31 (Type: AI_GENERATED, Questions: 3/3, Time: 70.5s)\n",
      "   • image32 (Type: AI_GENERATED, Questions: 3/3, Time: 53.0s)\n",
      "   • image33 (Type: AI_GENERATED, Questions: 3/3, Time: 68.2s)\n",
      "   • image34 (Type: AI_GENERATED, Questions: 3/3, Time: 96.8s)\n",
      "   • image35 (Type: AI_GENERATED, Questions: 3/3, Time: 71.8s)\n",
      "   • image36 (Type: AI_GENERATED, Questions: 3/3, Time: 71.8s)\n",
      "   • image37 (Type: AI_GENERATED, Questions: 3/3, Time: 43.4s)\n",
      "   • image38 (Type: AI_GENERATED, Questions: 3/3, Time: 57.6s)\n",
      "   • image39 (Type: AI_GENERATED, Questions: 3/3, Time: 44.6s)\n",
      "   • image40 (Type: AI_GENERATED, Questions: 3/3, Time: 61.3s)\n",
      "   • image41 (Type: AI_GENERATED, Questions: 3/3, Time: 61.2s)\n",
      "   • image42 (Type: AI_GENERATED, Questions: 3/3, Time: 71.7s)\n",
      "   • image43 (Type: AI_GENERATED, Questions: 3/3, Time: 41.1s)\n",
      "   • image44 (Type: AI_GENERATED, Questions: 3/3, Time: 77.4s)\n",
      "   • image45 (Type: AI_GENERATED, Questions: 3/3, Time: 54.1s)\n",
      "   • image46 (Type: AI_GENERATED, Questions: 3/3, Time: 110.6s)\n",
      "   • image47 (Type: AI_GENERATED, Questions: 3/3, Time: 61.3s)\n",
      "   • image48 (Type: AI_GENERATED, Questions: 3/3, Time: 84.2s)\n",
      "   • image49 (Type: AI_GENERATED, Questions: 3/3, Time: 66.1s)\n",
      "   • image50 (Type: AI_GENERATED, Questions: 3/3, Time: 51.6s)\n",
      "   • image51 (Type: AI_GENERATED, Questions: 3/3, Time: 82.2s)\n",
      "   • image52 (Type: AI_GENERATED, Questions: 3/3, Time: 118.2s)\n",
      "   • image53 (Type: AI_GENERATED, Questions: 3/3, Time: 79.6s)\n",
      "   • image54 (Type: AI_GENERATED, Questions: 3/3, Time: 135.4s)\n",
      "   • image55 (Type: AI_GENERATED, Questions: 3/3, Time: 84.8s)\n",
      "   • image56 (Type: AI_GENERATED, Questions: 3/3, Time: 49.3s)\n",
      "   • image57 (Type: AI_GENERATED, Questions: 3/3, Time: 54.9s)\n",
      "   • image58 (Type: AI_GENERATED, Questions: 3/3, Time: 133.5s)\n",
      "   • image59 (Type: AI_GENERATED, Questions: 3/3, Time: 73.1s)\n",
      "   • image60 (Type: AI_GENERATED, Questions: 3/3, Time: 85.5s)\n",
      "   • image61 (Type: AI_GENERATED, Questions: 3/3, Time: 82.1s)\n",
      "   • image62 (Type: AI_GENERATED, Questions: 3/3, Time: 99.8s)\n",
      "   • image63 (Type: AI_GENERATED, Questions: 3/3, Time: 46.4s)\n",
      "   • image64 (Type: AI_GENERATED, Questions: 3/3, Time: 50.0s)\n",
      "   • image65 (Type: AI_GENERATED, Questions: 3/3, Time: 58.9s)\n",
      "   • image66 (Type: AI_GENERATED, Questions: 3/3, Time: 70.8s)\n",
      "   • image67 (Type: AI_GENERATED, Questions: 3/3, Time: 59.0s)\n",
      "   • image68 (Type: AI_GENERATED, Questions: 3/3, Time: 50.0s)\n",
      "   • image69 (Type: AI_GENERATED, Questions: 3/3, Time: 80.2s)\n",
      "   • image70 (Type: AI_GENERATED, Questions: 3/3, Time: 110.6s)\n",
      "   • image71 (Type: AI_GENERATED, Questions: 3/3, Time: 39.8s)\n",
      "   • image72 (Type: AI_GENERATED, Questions: 3/3, Time: 45.1s)\n",
      "   • image73 (Type: AI_GENERATED, Questions: 3/3, Time: 101.9s)\n",
      "   • image74 (Type: AI_GENERATED, Questions: 3/3, Time: 47.0s)\n",
      "   • image75 (Type: AI_GENERATED, Questions: 3/3, Time: 43.4s)\n",
      "   • image76 (Type: AI_GENERATED, Questions: 3/3, Time: 38.0s)\n",
      "   • image77 (Type: AI_GENERATED, Questions: 3/3, Time: 115.1s)\n",
      "   • image78 (Type: AI_GENERATED, Questions: 3/3, Time: 58.8s)\n",
      "   • image79 (Type: AI_GENERATED, Questions: 3/3, Time: 74.3s)\n",
      "   • image80 (Type: AI_GENERATED, Questions: 3/3, Time: 103.2s)\n",
      "   • image81 (Type: AI_GENERATED, Questions: 3/3, Time: 62.3s)\n",
      "   • image82 (Type: AI_GENERATED, Questions: 3/3, Time: 62.4s)\n",
      "   • image83 (Type: AI_GENERATED, Questions: 3/3, Time: 55.3s)\n",
      "   • image84 (Type: AI_GENERATED, Questions: 3/3, Time: 74.8s)\n",
      "   • image85 (Type: AI_GENERATED, Questions: 3/3, Time: 58.8s)\n",
      "   • image86 (Type: AI_GENERATED, Questions: 3/3, Time: 65.9s)\n",
      "   • image87 (Type: AI_GENERATED, Questions: 3/3, Time: 42.9s)\n",
      "   • image88 (Type: AI_GENERATED, Questions: 3/3, Time: 32.2s)\n",
      "   • image89 (Type: AI_GENERATED, Questions: 3/3, Time: 51.7s)\n",
      "   • image90 (Type: AI_GENERATED, Questions: 3/3, Time: 74.9s)\n",
      "   • image91 (Type: AI_GENERATED, Questions: 3/3, Time: 52.3s)\n",
      "   • image92 (Type: AI_GENERATED, Questions: 3/3, Time: 66.0s)\n",
      "   • image93 (Type: AI_GENERATED, Questions: 3/3, Time: 55.2s)\n",
      "   • image94 (Type: AI_GENERATED, Questions: 3/3, Time: 78.4s)\n",
      "   • image95 (Type: AI_GENERATED, Questions: 3/3, Time: 99.9s)\n",
      "   • image96 (Type: AI_GENERATED, Questions: 3/3, Time: 44.7s)\n",
      "   • image97 (Type: AI_GENERATED, Questions: 3/3, Time: 67.6s)\n",
      "   • image98 (Type: AI_GENERATED, Questions: 3/3, Time: 73.2s)\n",
      "   • image99 (Type: AI_GENERATED, Questions: 3/3, Time: 80.0s)\n",
      "   • image100 (Type: AI_GENERATED, Questions: 3/3, Time: 65.7s)\n",
      "   • image101 (Type: AI_GENERATED, Questions: 3/3, Time: 72.8s)\n",
      "   • image102 (Type: AI_GENERATED, Questions: 3/3, Time: 62.4s)\n",
      "   • image103 (Type: AI_GENERATED, Questions: 3/3, Time: 76.6s)\n",
      "   • image104 (Type: AI_GENERATED, Questions: 3/3, Time: 66.0s)\n",
      "   • image105 (Type: AI_GENERATED, Questions: 3/3, Time: 46.5s)\n",
      "   • image106 (Type: AI_GENERATED, Questions: 3/3, Time: 42.9s)\n",
      "   • image107 (Type: AI_GENERATED, Questions: 3/3, Time: 69.6s)\n",
      "   • image108 (Type: AI_GENERATED, Questions: 3/3, Time: 49.9s)\n",
      "   • image109 (Type: AI_GENERATED, Questions: 3/3, Time: 73.0s)\n",
      "   • image110 (Type: AI_GENERATED, Questions: 3/3, Time: 74.4s)\n",
      "   • image111 (Type: AI_GENERATED, Questions: 3/3, Time: 39.2s)\n",
      "   • image112 (Type: AI_GENERATED, Questions: 3/3, Time: 44.6s)\n",
      "   • image113 (Type: AI_GENERATED, Questions: 3/3, Time: 55.2s)\n",
      "   • image114 (Type: AI_GENERATED, Questions: 3/3, Time: 62.0s)\n",
      "   • image115 (Type: AI_GENERATED, Questions: 3/3, Time: 72.0s)\n",
      "   • image116 (Type: AI_GENERATED, Questions: 3/3, Time: 53.4s)\n",
      "   • image117 (Type: AI_GENERATED, Questions: 3/3, Time: 33.9s)\n",
      "   • image118 (Type: AI_GENERATED, Questions: 3/3, Time: 65.7s)\n",
      "   • image119 (Type: AI_GENERATED, Questions: 3/3, Time: 94.2s)\n",
      "   • image120 (Type: AI_GENERATED, Questions: 3/3, Time: 58.2s)\n",
      "============================================================\n",
      "\n"
     ]
    }
   ],
   "source": [
    "test_Qwen2_5VL()"
   ]
  },
  {
   "cell_type": "code",
   "execution_count": null,
   "id": "e000f320",
   "metadata": {
    "papermill": {
     "duration": 0.032819,
     "end_time": "2025-07-30T20:48:17.040115",
     "exception": false,
     "start_time": "2025-07-30T20:48:17.007296",
     "status": "completed"
    },
    "tags": []
   },
   "outputs": [],
   "source": []
  }
 ],
 "metadata": {
  "kaggle": {
   "accelerator": "none",
   "dataSources": [
    {
     "datasetId": 7163706,
     "sourceId": 11436696,
     "sourceType": "datasetVersion"
    }
   ],
   "dockerImageVersionId": 31011,
   "isGpuEnabled": false,
   "isInternetEnabled": true,
   "language": "python",
   "sourceType": "notebook"
  },
  "kernelspec": {
   "display_name": "Python ((op_bench)",
   "language": "python",
   "name": "op_bench"
  },
  "language_info": {
   "codemirror_mode": {
    "name": "ipython",
    "version": 3
   },
   "file_extension": ".py",
   "mimetype": "text/x-python",
   "name": "python",
   "nbconvert_exporter": "python",
   "pygments_lexer": "ipython3",
   "version": "3.12.9"
  },
  "papermill": {
   "default_parameters": {},
   "duration": 24000.383535,
   "end_time": "2025-07-30T20:48:21.092078",
   "environment_variables": {},
   "exception": null,
   "input_path": "/var/scratch/ave303/OP_bench/opa-benchmark-smolvlm2-qwen2-5-vl.ipynb",
   "output_path": "qwen2-5-vl_32b_output.ipynb",
   "parameters": {},
   "start_time": "2025-07-30T14:08:20.708543",
   "version": "2.6.0"
  }
 },
 "nbformat": 4,
 "nbformat_minor": 5
}