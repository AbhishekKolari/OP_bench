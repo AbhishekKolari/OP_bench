{
 "cells": [
  {
   "cell_type": "markdown",
   "id": "621c7641",
   "metadata": {
    "papermill": {
     "duration": 0.006759,
     "end_time": "2025-07-29T12:17:49.802279",
     "exception": false,
     "start_time": "2025-07-29T12:17:49.795520",
     "status": "completed"
    },
    "tags": []
   },
   "source": [
    "# VLM Benchmark for Object Property Abstraction\n",
    "\n",
    "This notebook implements a benchmark for evaluating Vision Language Models (VLMs) on object property abstraction and visual question answering (VQA) tasks. The benchmark includes three types of questions:\n",
    "\n",
    "1. Direct Recognition\n",
    "2. Property Inference\n",
    "3. Counterfactual Reasoning\n",
    "\n",
    "And three types of images:\n",
    "- REAL\n",
    "- ANIMATED\n",
    "- AI GENERATED"
   ]
  },
  {
   "cell_type": "markdown",
   "id": "978b4fdf",
   "metadata": {
    "papermill": {
     "duration": 0.00569,
     "end_time": "2025-07-29T12:17:49.814208",
     "exception": false,
     "start_time": "2025-07-29T12:17:49.808518",
     "status": "completed"
    },
    "tags": []
   },
   "source": [
    "## Setup and Imports\n",
    "\n",
    "First, let's import the necessary libraries and set up our environment."
   ]
  },
  {
   "cell_type": "code",
   "execution_count": 1,
   "id": "705d7697",
   "metadata": {
    "collapsed": true,
    "execution": {
     "iopub.execute_input": "2025-07-29T12:17:49.826729Z",
     "iopub.status.busy": "2025-07-29T12:17:49.826459Z",
     "iopub.status.idle": "2025-07-29T12:17:49.830521Z",
     "shell.execute_reply": "2025-07-29T12:17:49.829884Z"
    },
    "jupyter": {
     "outputs_hidden": true
    },
    "papermill": {
     "duration": 0.01166,
     "end_time": "2025-07-29T12:17:49.831645",
     "exception": false,
     "start_time": "2025-07-29T12:17:49.819985",
     "status": "completed"
    },
    "tags": []
   },
   "outputs": [],
   "source": [
    "# Install required packages\n",
    "# %pip install transformers torch Pillow tqdm bitsandbytes accelerate"
   ]
  },
  {
   "cell_type": "code",
   "execution_count": 2,
   "id": "d0369ac2",
   "metadata": {
    "collapsed": true,
    "execution": {
     "iopub.execute_input": "2025-07-29T12:17:49.844417Z",
     "iopub.status.busy": "2025-07-29T12:17:49.844090Z",
     "iopub.status.idle": "2025-07-29T12:17:51.582677Z",
     "shell.execute_reply": "2025-07-29T12:17:51.581701Z"
    },
    "jupyter": {
     "outputs_hidden": true
    },
    "papermill": {
     "duration": 1.746295,
     "end_time": "2025-07-29T12:17:51.584051",
     "exception": false,
     "start_time": "2025-07-29T12:17:49.837756",
     "status": "completed"
    },
    "tags": []
   },
   "outputs": [
    {
     "name": "stdout",
     "output_type": "stream",
     "text": [
      "Requirement already satisfied: qwen-vl-utils in /var/scratch/ave303/anaconda3/envs/op_bench/lib/python3.12/site-packages (0.0.11)\r\n",
      "Requirement already satisfied: flash-attn in /var/scratch/ave303/anaconda3/envs/op_bench/lib/python3.12/site-packages (2.7.4.post1)\r\n",
      "Requirement already satisfied: av in /var/scratch/ave303/anaconda3/envs/op_bench/lib/python3.12/site-packages (from qwen-vl-utils) (14.3.0)\r\n",
      "Requirement already satisfied: packaging in /var/scratch/ave303/anaconda3/envs/op_bench/lib/python3.12/site-packages (from qwen-vl-utils) (25.0)\r\n",
      "Requirement already satisfied: pillow in /var/scratch/ave303/anaconda3/envs/op_bench/lib/python3.12/site-packages (from qwen-vl-utils) (10.3.0)\r\n",
      "Requirement already satisfied: requests in /var/scratch/ave303/anaconda3/envs/op_bench/lib/python3.12/site-packages (from qwen-vl-utils) (2.32.3)\r\n",
      "Requirement already satisfied: torch in /var/scratch/ave303/anaconda3/envs/op_bench/lib/python3.12/site-packages (from flash-attn) (2.2.1)\r\n",
      "Requirement already satisfied: einops in /var/scratch/ave303/anaconda3/envs/op_bench/lib/python3.12/site-packages (from flash-attn) (0.8.1)\r\n",
      "Requirement already satisfied: charset-normalizer<4,>=2 in /var/scratch/ave303/anaconda3/envs/op_bench/lib/python3.12/site-packages (from requests->qwen-vl-utils) (3.4.1)\r\n",
      "Requirement already satisfied: idna<4,>=2.5 in /var/scratch/ave303/anaconda3/envs/op_bench/lib/python3.12/site-packages (from requests->qwen-vl-utils) (3.10)\r\n",
      "Requirement already satisfied: urllib3<3,>=1.21.1 in /var/scratch/ave303/anaconda3/envs/op_bench/lib/python3.12/site-packages (from requests->qwen-vl-utils) (2.4.0)\r\n",
      "Requirement already satisfied: certifi>=2017.4.17 in /var/scratch/ave303/anaconda3/envs/op_bench/lib/python3.12/site-packages (from requests->qwen-vl-utils) (2025.4.26)\r\n",
      "Requirement already satisfied: filelock in /var/scratch/ave303/anaconda3/envs/op_bench/lib/python3.12/site-packages (from torch->flash-attn) (3.18.0)\r\n",
      "Requirement already satisfied: typing-extensions>=4.8.0 in /var/scratch/ave303/anaconda3/envs/op_bench/lib/python3.12/site-packages (from torch->flash-attn) (4.13.2)\r\n",
      "Requirement already satisfied: sympy in /var/scratch/ave303/anaconda3/envs/op_bench/lib/python3.12/site-packages (from torch->flash-attn) (1.14.0)\r\n",
      "Requirement already satisfied: networkx in /var/scratch/ave303/anaconda3/envs/op_bench/lib/python3.12/site-packages (from torch->flash-attn) (3.4.2)\r\n",
      "Requirement already satisfied: jinja2 in /var/scratch/ave303/anaconda3/envs/op_bench/lib/python3.12/site-packages (from torch->flash-attn) (3.1.6)\r\n",
      "Requirement already satisfied: fsspec in /var/scratch/ave303/anaconda3/envs/op_bench/lib/python3.12/site-packages (from torch->flash-attn) (2025.3.2)\r\n",
      "Requirement already satisfied: nvidia-cuda-nvrtc-cu12==12.1.105 in /var/scratch/ave303/anaconda3/envs/op_bench/lib/python3.12/site-packages (from torch->flash-attn) (12.1.105)\r\n",
      "Requirement already satisfied: nvidia-cuda-runtime-cu12==12.1.105 in /var/scratch/ave303/anaconda3/envs/op_bench/lib/python3.12/site-packages (from torch->flash-attn) (12.1.105)\r\n",
      "Requirement already satisfied: nvidia-cuda-cupti-cu12==12.1.105 in /var/scratch/ave303/anaconda3/envs/op_bench/lib/python3.12/site-packages (from torch->flash-attn) (12.1.105)\r\n",
      "Requirement already satisfied: nvidia-cudnn-cu12==8.9.2.26 in /var/scratch/ave303/anaconda3/envs/op_bench/lib/python3.12/site-packages (from torch->flash-attn) (8.9.2.26)\r\n",
      "Requirement already satisfied: nvidia-cublas-cu12==12.1.3.1 in /var/scratch/ave303/anaconda3/envs/op_bench/lib/python3.12/site-packages (from torch->flash-attn) (12.1.3.1)\r\n",
      "Requirement already satisfied: nvidia-cufft-cu12==11.0.2.54 in /var/scratch/ave303/anaconda3/envs/op_bench/lib/python3.12/site-packages (from torch->flash-attn) (11.0.2.54)\r\n",
      "Requirement already satisfied: nvidia-curand-cu12==10.3.2.106 in /var/scratch/ave303/anaconda3/envs/op_bench/lib/python3.12/site-packages (from torch->flash-attn) (10.3.2.106)\r\n",
      "Requirement already satisfied: nvidia-cusolver-cu12==11.4.5.107 in /var/scratch/ave303/anaconda3/envs/op_bench/lib/python3.12/site-packages (from torch->flash-attn) (11.4.5.107)\r\n"
     ]
    },
    {
     "name": "stdout",
     "output_type": "stream",
     "text": [
      "Requirement already satisfied: nvidia-cusparse-cu12==12.1.0.106 in /var/scratch/ave303/anaconda3/envs/op_bench/lib/python3.12/site-packages (from torch->flash-attn) (12.1.0.106)\r\n",
      "Requirement already satisfied: nvidia-nccl-cu12==2.19.3 in /var/scratch/ave303/anaconda3/envs/op_bench/lib/python3.12/site-packages (from torch->flash-attn) (2.19.3)\r\n",
      "Requirement already satisfied: nvidia-nvtx-cu12==12.1.105 in /var/scratch/ave303/anaconda3/envs/op_bench/lib/python3.12/site-packages (from torch->flash-attn) (12.1.105)\r\n",
      "Requirement already satisfied: nvidia-nvjitlink-cu12 in /var/scratch/ave303/anaconda3/envs/op_bench/lib/python3.12/site-packages (from nvidia-cusolver-cu12==11.4.5.107->torch->flash-attn) (12.8.93)\r\n",
      "Requirement already satisfied: MarkupSafe>=2.0 in /var/scratch/ave303/anaconda3/envs/op_bench/lib/python3.12/site-packages (from jinja2->torch->flash-attn) (3.0.2)\r\n"
     ]
    },
    {
     "name": "stdout",
     "output_type": "stream",
     "text": [
      "Requirement already satisfied: mpmath<1.4,>=1.1.0 in /var/scratch/ave303/anaconda3/envs/op_bench/lib/python3.12/site-packages (from sympy->torch->flash-attn) (1.3.0)\r\n"
     ]
    },
    {
     "name": "stdout",
     "output_type": "stream",
     "text": [
      "Note: you may need to restart the kernel to use updated packages.\n"
     ]
    }
   ],
   "source": [
    "%pip install qwen-vl-utils flash-attn #--no-build-isolation"
   ]
  },
  {
   "cell_type": "code",
   "execution_count": 3,
   "id": "84410f8f",
   "metadata": {
    "execution": {
     "iopub.execute_input": "2025-07-29T12:17:51.598210Z",
     "iopub.status.busy": "2025-07-29T12:17:51.597938Z",
     "iopub.status.idle": "2025-07-29T12:17:57.162665Z",
     "shell.execute_reply": "2025-07-29T12:17:57.161731Z"
    },
    "papermill": {
     "duration": 5.573027,
     "end_time": "2025-07-29T12:17:57.163888",
     "exception": false,
     "start_time": "2025-07-29T12:17:51.590861",
     "status": "completed"
    },
    "tags": []
   },
   "outputs": [
    {
     "name": "stderr",
     "output_type": "stream",
     "text": [
      "/var/scratch/ave303/anaconda3/envs/op_bench/lib/python3.12/site-packages/tqdm/auto.py:21: TqdmWarning: IProgress not found. Please update jupyter and ipywidgets. See https://ipywidgets.readthedocs.io/en/stable/user_install.html\n",
      "  from .autonotebook import tqdm as notebook_tqdm\n"
     ]
    },
    {
     "name": "stdout",
     "output_type": "stream",
     "text": [
      "Using device: cuda\n"
     ]
    }
   ],
   "source": [
    "# Import required libraries\n",
    "import torch\n",
    "import json\n",
    "from pathlib import Path\n",
    "from PIL import Image\n",
    "import gc\n",
    "import re\n",
    "from tqdm import tqdm\n",
    "from typing import List, Dict, Any\n",
    "from qwen_vl_utils import process_vision_info\n",
    "import time\n",
    "\n",
    "# Check if CUDA is available\n",
    "device = torch.device('cuda' if torch.cuda.is_available() else 'cpu')\n",
    "print(f\"Using device: {device}\")"
   ]
  },
  {
   "cell_type": "markdown",
   "id": "6641bb81",
   "metadata": {
    "papermill": {
     "duration": 0.006214,
     "end_time": "2025-07-29T12:17:57.177258",
     "exception": false,
     "start_time": "2025-07-29T12:17:57.171044",
     "status": "completed"
    },
    "tags": []
   },
   "source": [
    "## Benchmark Tester Class\n",
    "\n",
    "This class handles the evaluation of models against our benchmark."
   ]
  },
  {
   "cell_type": "code",
   "execution_count": 4,
   "id": "f40ed43c",
   "metadata": {
    "execution": {
     "iopub.execute_input": "2025-07-29T12:17:57.191522Z",
     "iopub.status.busy": "2025-07-29T12:17:57.191114Z",
     "iopub.status.idle": "2025-07-29T12:17:57.202117Z",
     "shell.execute_reply": "2025-07-29T12:17:57.201390Z"
    },
    "papermill": {
     "duration": 0.019665,
     "end_time": "2025-07-29T12:17:57.203306",
     "exception": false,
     "start_time": "2025-07-29T12:17:57.183641",
     "status": "completed"
    },
    "tags": []
   },
   "outputs": [],
   "source": [
    "# class BenchmarkTester:\n",
    "#     def __init__(self, benchmark_path=\"/var/scratch/ave303/OP_bench/benchmark.json\", data_dir=\"/var/scratch/ave303/OP_bench/\"):\n",
    "#         self.device = \"cuda\" if torch.cuda.is_available() else \"cpu\"\n",
    "#         with open(benchmark_path, 'r') as f:\n",
    "#             self.benchmark = json.load(f)\n",
    "#         self.data_dir = data_dir\n",
    "    \n",
    "#     def format_question(self, question, model_name):\n",
    "#         \"\"\"Format a question for the model.\"\"\"\n",
    "\n",
    "#         if model_name==\"blip2\":\n",
    "#             return f\"Question: {question['question']} Answer:\"\n",
    "#         else:\n",
    "#             return f\"Question: {question['question']} Answer with a number and list of objects. Answer:\"\n",
    "\n",
    "#     def clean_answer(self, answer):\n",
    "#         \"\"\"Clean the model output to extract just the number.\"\"\"\n",
    "#         # Remove any text that's not a number\n",
    "#         # import re\n",
    "#         # numbers = re.findall(r'\\d+', answer)\n",
    "#         # if numbers:\n",
    "#         #     return numbers[0]  # Return the first number found\n",
    "#         # return answer\n",
    "#         \"\"\"Extract number and reasoning from the model's answer.\"\"\"\n",
    "#         # Try to extract number and reasoning using regex\n",
    "#         import re\n",
    "#         pattern = r'(\\d+)\\s*\\[(.*?)\\]'\n",
    "#         match = re.search(pattern, answer)\n",
    "        \n",
    "#         if match:\n",
    "#             number = match.group(1)\n",
    "#             objects = [obj.strip() for obj in match.group(2).split(',')]\n",
    "#             return {\n",
    "#                 \"count\": number,\n",
    "#                 \"reasoning\": objects\n",
    "#             }\n",
    "#         else:\n",
    "#             # Fallback if format isn't matched\n",
    "#             numbers = re.findall(r'\\d+', answer)\n",
    "#             return {\n",
    "#                 \"count\": numbers[0] if numbers else \"0\",\n",
    "#                 \"reasoning\": []\n",
    "#             }\n",
    "\n",
    "#     def model_generation(self, model_name, model, inputs, processor):\n",
    "#         \"\"\"Generate answer and decode.\"\"\"\n",
    "#         outputs = None  # Initialize outputs to None\n",
    "        \n",
    "#         if model_name==\"smolVLM2\":\n",
    "#             outputs = model.generate(**inputs, do_sample=False, max_new_tokens=64)\n",
    "#             answer = processor.batch_decode(\n",
    "#                 outputs,\n",
    "#                 skip_special_tokens=True,\n",
    "#             )[0]\n",
    "#         elif model_name==\"Qwen2.5-VL\":\n",
    "#             outputs = model.generate(**inputs, max_new_tokens=50)\n",
    "#             outputs = [\n",
    "#                 out_ids[len(in_ids) :] for in_ids, out_ids in zip(inputs.input_ids, outputs)\n",
    "#             ]\n",
    "#             answer = processor.batch_decode(\n",
    "#                 outputs, skip_special_tokens=True, clean_up_tokenization_spaces=False\n",
    "#             )[0]\n",
    "#         else:\n",
    "#             print(f\"Warning: Unknown model name '{model_name}' in model_generation.\")\n",
    "#             answer = \"\"  # Return an empty string\n",
    "\n",
    "#         return answer, outputs\n",
    "    \n",
    "#     def evaluate_model(self, model_name, model, processor, save_path, start_idx=0, batch_size=5):\n",
    "#         results = []\n",
    "#         print(f\"\\nEvaluating {model_name}...\")\n",
    "#         print(f\"Using device: {self.device}\")\n",
    "        \n",
    "#         # Force garbage collection before starting\n",
    "#         gc.collect()\n",
    "#         torch.cuda.empty_cache()\n",
    "\n",
    "#         try:\n",
    "#             images = self.benchmark['benchmark']['images'][start_idx:start_idx + batch_size]\n",
    "#             total_images = len(images)\n",
    "            \n",
    "#             for idx, image_data in enumerate(tqdm(images, desc=\"Processing images\")):\n",
    "#                 try:\n",
    "#                     print(f\"\\nProcessing image {idx+1}/{total_images}: {image_data['image_id']}\")\n",
    "#                     image_path = Path(self.data_dir)/image_data['path']\n",
    "#                     if not image_path.exists():\n",
    "#                         print(f\"Warning: Image not found at {image_path}\")\n",
    "#                         continue\n",
    "                    \n",
    "#                     # Load and preprocess image\n",
    "#                     image = Image.open(image_path).convert(\"RGB\")\n",
    "#                     image_results = []  # Store results for current image\n",
    "                    \n",
    "#                     for question in image_data['questions']:\n",
    "#                         try:\n",
    "#                             # prompt = self.format_question(question, model_name)\n",
    "#                             print(f\"Question: {question['question']}\")\n",
    "\n",
    "#                             messages = [\n",
    "#                                 {\n",
    "#                                     \"role\": \"user\",\n",
    "#                                     \"content\": [\n",
    "#                                         {\"type\": \"image\", \"image\": image},\n",
    "#                                         # {\"type\": \"text\", \"text\": f\"{question['question']} Answer format: total number(numerical) objects(within square brackets)\"},\n",
    "#                                         # {\"type\": \"text\", \"text\": f\"{question['question']} Provide just the total count and the list of objects in the given format \\n Format: number [objects]\"},\n",
    "#                                         # {\"type\": \"text\", \"text\": f\"{question['question']} Answer Format: number [objects]\"},\n",
    "#                                         {\"type\": \"text\", \"text\": f\"{question[\"question\"]} Your response MUST be in the following format and nothing else:\\n <NUMBER> [<OBJECT1>, <OBJECT2>, <OBJECT3>, ...]\"}\n",
    "#                                     ]\n",
    "#                                 },\n",
    "#                             ]\n",
    "                            \n",
    "#                             # Clear cache before processing each question\n",
    "#                             torch.cuda.empty_cache()\n",
    "                            \n",
    "#                             # Process image and text\n",
    "#                             # inputs = processor(images=image, text=prompt, return_tensors=\"pt\").to(self.device)\n",
    "#                             if model_name==\"smolVLM2\":\n",
    "#                                 inputs = processor.apply_chat_template(\n",
    "#                                     messages,\n",
    "#                                     add_generation_prompt=True,\n",
    "#                                     tokenize=True,\n",
    "#                                     return_dict=True,\n",
    "#                                     return_tensors=\"pt\",\n",
    "#                                 ).to(model.device, dtype=torch.float16)\n",
    "#                             else:\n",
    "                                \n",
    "#                                 text = processor.apply_chat_template(\n",
    "#                                     messages, tokenize=False, add_generation_prompt=True\n",
    "#                                 )\n",
    "#                                 # image_inputs, video_inputs = process_vision_info(messages)\n",
    "#                                 inputs = processor(\n",
    "#                                     text=text,\n",
    "#                                     images=image,\n",
    "#                                     videos=None,\n",
    "#                                     padding=True,\n",
    "#                                     return_tensors=\"pt\",\n",
    "#                                 ).to(\"cuda\")\n",
    "                            \n",
    "#                             # Generate answer with better settings\n",
    "#                             with torch.no_grad():\n",
    "#                                 answer, outputs = self.model_generation(model_name, model, inputs, processor)    #call for model.generate\n",
    "        \n",
    "#                             cleaned_answer = self.clean_answer(answer)\n",
    "                            \n",
    "#                             image_results.append({\n",
    "#                                 \"image_id\": image_data[\"image_id\"],\n",
    "#                                 \"image_type\": image_data[\"image_type\"],\n",
    "#                                 \"question_id\": question[\"id\"],\n",
    "#                                 \"question\": question[\"question\"],\n",
    "#                                 \"ground_truth\": question[\"answer\"],\n",
    "#                                 \"model_answer\": cleaned_answer[\"count\"],\n",
    "#                                 \"model_reasoning\": cleaned_answer[\"reasoning\"],\n",
    "#                                 \"raw_answer\": answer,  # Keep raw answer for debugging\n",
    "#                                 \"property_category\": question[\"property_category\"]\n",
    "#                             })\n",
    "                            \n",
    "#                             # Clear memory\n",
    "#                             del outputs, inputs\n",
    "#                             torch.cuda.empty_cache()\n",
    "                            \n",
    "#                         except Exception as e:\n",
    "#                             print(f\"Error processing question: {str(e)}\")\n",
    "#                             continue\n",
    "                    \n",
    "#                     # Add results from this image\n",
    "#                     results.extend(image_results)\n",
    "                    \n",
    "#                     # Save intermediate results only every 2 images or if it's the last image\n",
    "#                     if (idx + 1) % 2 == 0 or idx == total_images - 1:\n",
    "#                         with open(f\"{save_path}_checkpoint.json\", 'w') as f:\n",
    "#                             json.dump(results, f, indent=4)\n",
    "                            \n",
    "#                 except Exception as e:\n",
    "#                     print(f\"Error processing image {image_data['image_id']}: {str(e)}\")\n",
    "#                     continue\n",
    "            \n",
    "#             # Save final results\n",
    "#             if results:\n",
    "#                 with open(save_path, 'w') as f:\n",
    "#                     json.dump(results, f, indent=4)\n",
    "            \n",
    "#         except Exception as e:\n",
    "#             print(f\"An error occurred during evaluation: {str(e)}\")\n",
    "#             if results:\n",
    "                # with open(f\"{save_path}_error_state.json\", 'w') as f:\n",
    "#                     json.dump(results, f, indent=4)\n",
    "        \n",
    "#         return results"
   ]
  },
  {
   "cell_type": "code",
   "execution_count": 5,
   "id": "339f7129",
   "metadata": {
    "execution": {
     "iopub.execute_input": "2025-07-29T12:17:57.217598Z",
     "iopub.status.busy": "2025-07-29T12:17:57.217341Z",
     "iopub.status.idle": "2025-07-29T12:17:57.240872Z",
     "shell.execute_reply": "2025-07-29T12:17:57.240148Z"
    },
    "papermill": {
     "duration": 0.032348,
     "end_time": "2025-07-29T12:17:57.242017",
     "exception": false,
     "start_time": "2025-07-29T12:17:57.209669",
     "status": "completed"
    },
    "tags": []
   },
   "outputs": [],
   "source": [
    "# import torch\n",
    "# import json\n",
    "# from pathlib import Path\n",
    "# from PIL import Image\n",
    "# import gc\n",
    "# import re\n",
    "# import time\n",
    "# from tqdm import tqdm\n",
    "# from typing import List, Dict, Any\n",
    "# import psutil\n",
    "# import os\n",
    "\n",
    "# class BenchmarkTester:\n",
    "#     def __init__(self, benchmark_path=\"/var/scratch/ave303/OP_bench/benchmark.json\", data_dir=\"/var/scratch/ave303/OP_bench/\"):\n",
    "#         self.device = \"cuda\" if torch.cuda.is_available() else \"cpu\"\n",
    "#         with open(benchmark_path, 'r') as f:\n",
    "#             self.benchmark = json.load(f)\n",
    "#         self.data_dir = data_dir\n",
    "        \n",
    "#         # Set memory optimization environment variables\n",
    "#         os.environ['PYTORCH_CUDA_ALLOC_CONF'] = 'expandable_segments:True'\n",
    "        \n",
    "#         # Memory monitoring\n",
    "#         self.max_memory_allocated = 0\n",
    "#         self.memory_threshold = 0.70  # 70% of GPU memory as threshold\n",
    "\n",
    "#     def get_gpu_memory_info(self):\n",
    "#         \"\"\"Get current GPU memory usage information.\"\"\"\n",
    "#         if torch.cuda.is_available():\n",
    "#             allocated = torch.cuda.memory_allocated() / 1024**3  # GB\n",
    "#             reserved = torch.cuda.memory_reserved() / 1024**3    # GB\n",
    "#             max_memory = torch.cuda.max_memory_allocated() / 1024**3  # GB\n",
    "#             total_memory = torch.cuda.get_device_properties(0).total_memory / 1024**3  # GB\n",
    "            \n",
    "#             return {\n",
    "#                 'allocated': allocated,\n",
    "#                 'reserved': reserved,\n",
    "#                 'max_allocated': max_memory,\n",
    "#                 'total': total_memory,\n",
    "#                 'free': total_memory - allocated,\n",
    "#                 'usage_percent': (allocated / total_memory) * 100\n",
    "#             }\n",
    "#         return None\n",
    "\n",
    "#     def aggressive_memory_cleanup(self):\n",
    "#         \"\"\"Perform aggressive memory cleanup - alias for ultra_aggressive_memory_cleanup.\"\"\"\n",
    "#         self.ultra_aggressive_memory_cleanup()\n",
    "\n",
    "#     def ultra_aggressive_memory_cleanup(self):\n",
    "#         \"\"\"Perform ultra-aggressive memory cleanup including model cache clearing.\"\"\"\n",
    "#         # Clear Python garbage collector multiple times\n",
    "#         for _ in range(5):\n",
    "#             gc.collect()\n",
    "        \n",
    "#         if torch.cuda.is_available():\n",
    "#             # Force synchronize all streams\n",
    "#             torch.cuda.synchronize()\n",
    "#             # Clear all cached memory\n",
    "#             torch.cuda.empty_cache()\n",
    "#             # Reset peak memory stats\n",
    "#             torch.cuda.reset_peak_memory_stats()\n",
    "#             # Force memory defragmentation\n",
    "#             torch.cuda.memory.empty_cache()\n",
    "#             # Another sync to ensure completion\n",
    "#             torch.cuda.synchronize()\n",
    "            \n",
    "#         # Force system memory cleanup\n",
    "#         import ctypes\n",
    "#         libc = ctypes.CDLL(\"libc.so.6\")\n",
    "#         libc.malloc_trim(0)\n",
    "\n",
    "#     def check_available_memory_and_restart_if_needed(self):\n",
    "#         \"\"\"Check if we need to recommend model restart due to fragmentation.\"\"\"\n",
    "#         memory_info = self.get_gpu_memory_info()\n",
    "#         if memory_info:\n",
    "#             # If allocated is much less than reserved, we have fragmentation\n",
    "#             fragmentation_ratio = memory_info['reserved'] / max(memory_info['allocated'], 0.1)\n",
    "#             if fragmentation_ratio > 2.0 and memory_info['usage_percent'] > 80:\n",
    "#                 print(f\"⚠️  Severe memory fragmentation detected (fragmentation ratio: {fragmentation_ratio:.2f})\")\n",
    "#                 print(\"Consider restarting the Python process to defragment GPU memory\")\n",
    "#                 return False\n",
    "#         return True\n",
    "\n",
    "#     def resize_image_if_needed(self, image, max_size=(512, 512)):\n",
    "#         \"\"\"Resize image aggressively to prevent memory issues.\"\"\"\n",
    "#         original_size = image.size\n",
    "        \n",
    "#         # Always resize to max_size to ensure consistent memory usage\n",
    "#         # Calculate aspect ratio preserving resize\n",
    "#         ratio = min(max_size[0] / original_size[0], max_size[1] / original_size[1])\n",
    "#         new_size = (int(original_size[0] * ratio), int(original_size[1] * ratio))\n",
    "        \n",
    "#         print(f\"Resizing image from {original_size} to {new_size}\")\n",
    "#         # Use NEAREST for fastest processing and lowest memory\n",
    "#         image = image.resize(new_size, Image.Resampling.NEAREST)\n",
    "        \n",
    "#         return image\n",
    "\n",
    "#     def check_memory_before_processing(self, image_id, skip_if_high=True):\n",
    "#         \"\"\"Check if we have enough memory before processing with option to skip.\"\"\"\n",
    "#         memory_info = self.get_gpu_memory_info()\n",
    "#         if memory_info and memory_info['usage_percent'] > self.memory_threshold * 100:\n",
    "#             print(f\"Warning: High memory usage ({memory_info['usage_percent']:.1f}%) before processing {image_id}\")\n",
    "#             self.ultra_aggressive_memory_cleanup()\n",
    "            \n",
    "#             # Check again after cleanup\n",
    "#             memory_info = self.get_gpu_memory_info()\n",
    "#             if memory_info['usage_percent'] > self.memory_threshold * 100:\n",
    "#                 print(f\"Critical: Still high memory usage ({memory_info['usage_percent']:.1f}%) after cleanup\")\n",
    "                \n",
    "#                 # Check for fragmentation issues\n",
    "#                 if not self.check_available_memory_and_restart_if_needed():\n",
    "#                     return False\n",
    "                    \n",
    "#                 if skip_if_high:\n",
    "#                     print(f\"Skipping {image_id} due to insufficient memory\")\n",
    "#                     return False\n",
    "#         return True\n",
    "\n",
    "#     def clean_answer(self, answer):\n",
    "#         \"\"\"Extract number and reasoning from the model's answer.\"\"\"\n",
    "#         import re\n",
    "#         pattern = r'(\\d+)\\s*\\[(.*?)\\]'\n",
    "#         match = re.search(pattern, answer)\n",
    "        \n",
    "#         if match:\n",
    "#             number = match.group(1)\n",
    "#             objects = [obj.strip() for obj in match.group(2).split(',')]\n",
    "#             return {\n",
    "#                 \"count\": number,\n",
    "#                 \"reasoning\": objects\n",
    "#             }\n",
    "#         else:\n",
    "#             numbers = re.findall(r'\\d+', answer)\n",
    "#             return {\n",
    "#                 \"count\": numbers[0] if numbers else \"0\",\n",
    "#                 \"reasoning\": []\n",
    "#             }\n",
    "\n",
    "#     def model_generation(self, model_name, model, inputs, processor):\n",
    "#         \"\"\"Generate answer with memory-optimized inference.\"\"\"\n",
    "#         outputs = None\n",
    "        \n",
    "#         try:\n",
    "#             if model_name == \"Qwen2.5-VL\":\n",
    "#                 # Use gradient checkpointing and mixed precision if available\n",
    "#                 with torch.cuda.amp.autocast(enabled=True):\n",
    "#                     outputs = model.generate(\n",
    "#                         **inputs, \n",
    "#                         max_new_tokens=200,\n",
    "#                         do_sample=False,\n",
    "#                         temperature=None,\n",
    "#                         top_p=None,\n",
    "#                         top_k=None,\n",
    "#                         num_beams=1,\n",
    "#                         early_stopping=False,\n",
    "#                         pad_token_id=processor.tokenizer.pad_token_id,\n",
    "#                         eos_token_id=processor.tokenizer.eos_token_id,\n",
    "#                         use_cache=False,  # Disable KV cache to save memory\n",
    "#                     )\n",
    "                \n",
    "#                 outputs = [\n",
    "#                     out_ids[len(in_ids):] for in_ids, out_ids in zip(inputs.input_ids, outputs)\n",
    "#                 ]\n",
    "#                 answer = processor.batch_decode(\n",
    "#                     outputs, skip_special_tokens=True, clean_up_tokenization_spaces=False\n",
    "#                 )[0]\n",
    "#             else:\n",
    "#                 print(f\"Warning: Unknown model name '{model_name}' in model_generation.\")\n",
    "#                 answer = \"\"\n",
    "\n",
    "#             return answer, outputs\n",
    "            \n",
    "#         except torch.cuda.OutOfMemoryError as e:\n",
    "#             print(f\"CUDA OOM during generation: {e}\")\n",
    "#             # Aggressive cleanup and retry once\n",
    "#             self.aggressive_memory_cleanup()\n",
    "#             raise e\n",
    "\n",
    "#     def process_single_question(self, model_name, model, processor, image, question, image_id):\n",
    "#         \"\"\"Process a single question with extreme memory optimization.\"\"\"\n",
    "#         try:\n",
    "#             # Ultra-aggressive pre-check\n",
    "#             if not self.check_memory_before_processing(f\"{image_id}_q{question['id']}\", skip_if_high=False):\n",
    "#                 raise RuntimeError(\"Insufficient GPU memory after cleanup\")\n",
    "\n",
    "#             # Create a minimal image copy to avoid references\n",
    "#             image_copy = image.copy()\n",
    "            \n",
    "#             messages = [\n",
    "#                 {\n",
    "#                     \"role\": \"user\",\n",
    "#                     \"content\": [\n",
    "#                         {\"type\": \"image\", \"image\": image_copy},\n",
    "#                         {\"type\": \"text\", \"text\": f\"{question['question']} Your response MUST be in the following format and nothing else:\\n <NUMBER> [<OBJECT1>, <OBJECT2>, <OBJECT3>, ...]\"}\n",
    "#                     ]\n",
    "#                 },\n",
    "#             ]\n",
    "            \n",
    "#             # Process with maximum memory optimization\n",
    "#             text = processor.apply_chat_template(\n",
    "#                 messages, tokenize=False, add_generation_prompt=True\n",
    "#             )\n",
    "            \n",
    "#             # Monitor memory before tokenization\n",
    "#             memory_before = self.get_gpu_memory_info()\n",
    "#             if memory_before and memory_before['usage_percent'] > 75:\n",
    "#                 print(f\"⚠️  Memory usage high before tokenization: {memory_before['usage_percent']:.1f}%\")\n",
    "#                 self.ultra_aggressive_memory_cleanup()\n",
    "            \n",
    "#             # Process inputs with minimal memory footprint\n",
    "#             inputs = processor(\n",
    "#                 text=text,\n",
    "#                 images=image_copy,\n",
    "#                 videos=None,\n",
    "#                 padding=True,\n",
    "#                 return_tensors=\"pt\",\n",
    "#             )\n",
    "            \n",
    "#             # Move to device only when needed\n",
    "#             inputs = {k: v.to(self.device) if hasattr(v, 'to') else v for k, v in inputs.items()}\n",
    "            \n",
    "#             # Delete image copy immediately\n",
    "#             del image_copy, messages\n",
    "#             self.ultra_aggressive_memory_cleanup()\n",
    "            \n",
    "#             # Monitor memory before generation\n",
    "#             memory_before_gen = self.get_gpu_memory_info()\n",
    "#             if memory_before_gen:\n",
    "#                 print(f\"Memory before generation: {memory_before_gen['usage_percent']:.1f}%\")\n",
    "#                 if memory_before_gen['usage_percent'] > 85:\n",
    "#                     raise RuntimeError(f\"Memory too high for generation: {memory_before_gen['usage_percent']:.1f}%\")\n",
    "            \n",
    "#             # Generate with maximum memory efficiency\n",
    "#             with torch.no_grad():\n",
    "#                 with torch.cuda.amp.autocast(enabled=True, dtype=torch.float16):\n",
    "#                     answer, outputs = self.model_generation(model_name, model, inputs, processor)\n",
    "            \n",
    "#             cleaned_answer = self.clean_answer(answer)\n",
    "            \n",
    "#             # Immediate and thorough cleanup\n",
    "#             del outputs, inputs\n",
    "#             self.ultra_aggressive_memory_cleanup()\n",
    "            \n",
    "#             return {\n",
    "#                 \"question_id\": question[\"id\"],\n",
    "#                 \"question\": question[\"question\"],\n",
    "#                 \"ground_truth\": question[\"answer\"],\n",
    "#                 \"model_answer\": cleaned_answer[\"count\"],\n",
    "#                 \"model_reasoning\": cleaned_answer[\"reasoning\"],\n",
    "#                 \"raw_answer\": answer,\n",
    "#                 \"property_category\": question[\"property_category\"]\n",
    "#             }\n",
    "            \n",
    "#         except (torch.cuda.OutOfMemoryError, RuntimeError) as e:\n",
    "#             print(f\"Error processing question {question['id']}: {e}\")\n",
    "#             self.ultra_aggressive_memory_cleanup()\n",
    "#             raise e\n",
    "\n",
    "#     def evaluate_model(self, model_name, model, processor, save_path, start_idx=0, batch_size=5):\n",
    "#         results = []\n",
    "        \n",
    "#         # Initialize tracking variables\n",
    "#         successful_images = []\n",
    "#         failed_images = []\n",
    "#         total_questions_processed = 0\n",
    "#         total_questions_failed = 0\n",
    "        \n",
    "#         print(f\"\\nEvaluating {model_name}...\")\n",
    "#         print(f\"Using device: {self.device}\")\n",
    "        \n",
    "#         # Initial memory cleanup\n",
    "#         self.ultra_aggressive_memory_cleanup()\n",
    "        \n",
    "#         # Print initial memory status\n",
    "#         memory_info = self.get_gpu_memory_info()\n",
    "#         if memory_info:\n",
    "#             print(f\"Initial GPU memory: {memory_info['usage_percent']:.1f}% used\")\n",
    "\n",
    "#         try:\n",
    "#             images = self.benchmark['benchmark']['images'][start_idx:start_idx + batch_size]\n",
    "#             total_images = len(images)\n",
    "            \n",
    "#             for idx, image_data in enumerate(tqdm(images, desc=\"Processing images\")):\n",
    "#                 image_start_time = time.time()\n",
    "#                 current_image_questions_failed = 0\n",
    "#                 current_image_questions_total = 0\n",
    "                \n",
    "#                 try:\n",
    "#                     image_path = Path(self.data_dir) / image_data['path']\n",
    "#                     if not image_path.exists():\n",
    "#                         failed_images.append({\n",
    "#                             'image_id': image_data['image_id'],\n",
    "#                             'image_type': image_data.get('image_type', 'unknown'),\n",
    "#                             'error_type': 'file_not_found',\n",
    "#                             'error_message': f'Image not found at {image_path}'\n",
    "#                         })\n",
    "#                         continue\n",
    "                    \n",
    "#                     # Load and preprocess image with size control\n",
    "#                     image = Image.open(image_path).convert(\"RGB\")\n",
    "#                     print(f\"Original image size: {image.size}\")\n",
    "                    \n",
    "#                     # Resize aggressively - much smaller images\n",
    "#                     image = self.resize_image_if_needed(image, max_size=(384, 384))\n",
    "                    \n",
    "#                     image_results = []\n",
    "                    \n",
    "#                     # Process questions one by one with memory monitoring\n",
    "#                     for question_idx, question in enumerate(image_data['questions']):\n",
    "#                         current_image_questions_total += 1\n",
    "#                         total_questions_processed += 1\n",
    "                        \n",
    "#                         try:\n",
    "#                             # Process single question\n",
    "#                             question_result = self.process_single_question(\n",
    "#                                 model_name, model, processor, image, question, image_data['image_id']\n",
    "#                             )\n",
    "                            \n",
    "#                             # Add image metadata\n",
    "#                             question_result.update({\n",
    "#                                 \"image_id\": image_data[\"image_id\"],\n",
    "#                                 \"image_type\": image_data.get(\"image_type\", \"unknown\")\n",
    "#                             })\n",
    "                            \n",
    "#                             image_results.append(question_result)\n",
    "                            \n",
    "#                         except Exception as e:\n",
    "#                             print(f\"Failed question {question['id']}: {e}\")\n",
    "#                             current_image_questions_failed += 1\n",
    "#                             total_questions_failed += 1\n",
    "#                             continue\n",
    "                    \n",
    "#                     # Add results from this image\n",
    "#                     results.extend(image_results)\n",
    "                    \n",
    "#                     # Calculate success metrics\n",
    "#                     questions_succeeded = current_image_questions_total - current_image_questions_failed\n",
    "                    \n",
    "#                     if current_image_questions_failed == 0:\n",
    "#                         successful_images.append({\n",
    "#                             'image_id': image_data['image_id'],\n",
    "#                             'image_type': image_data.get('image_type', 'unknown'),\n",
    "#                             'questions_total': current_image_questions_total,\n",
    "#                             'questions_succeeded': questions_succeeded,\n",
    "#                             'processing_time': time.time() - image_start_time\n",
    "#                         })\n",
    "#                     else:\n",
    "#                         image_success_rate = (questions_succeeded / current_image_questions_total * 100) if current_image_questions_total > 0 else 0\n",
    "#                         failed_images.append({\n",
    "#                             'image_id': image_data['image_id'],\n",
    "#                             'image_type': image_data.get('image_type', 'unknown'),\n",
    "#                             'error_type': 'partial_failure',\n",
    "#                             'questions_total': current_image_questions_total,\n",
    "#                             'questions_failed': current_image_questions_failed,\n",
    "#                             'questions_succeeded': questions_succeeded,\n",
    "#                             'success_rate': f\"{image_success_rate:.1f}%\"\n",
    "#                         })\n",
    "                    \n",
    "#                     # Ultra-aggressive cleanup after each image\n",
    "#                     del image\n",
    "#                     self.ultra_aggressive_memory_cleanup()\n",
    "                    \n",
    "#                     # Save intermediate results\n",
    "#                     if (idx + 1) % 2 == 0 or idx == total_images - 1:\n",
    "#                         checkpoint_path = f\"{save_path}_checkpoint.json\"\n",
    "#                         with open(checkpoint_path, 'w') as f:\n",
    "#                             json.dump(results, f, indent=4)\n",
    "                            \n",
    "#                 except Exception as e:\n",
    "#                     print(f\"Complete failure for image {image_data['image_id']}: {e}\")\n",
    "#                     failed_images.append({\n",
    "#                         'image_id': image_data['image_id'],\n",
    "#                         'image_type': image_data.get('image_type', 'unknown'),\n",
    "#                         'error_type': 'complete_failure',\n",
    "#                         'error_message': str(e)\n",
    "#                     })\n",
    "                    \n",
    "#                     # Cleanup even on failure\n",
    "#                     self.ultra_aggressive_memory_cleanup()\n",
    "#                     continue\n",
    "            \n",
    "#             # Save final results\n",
    "#             if results:\n",
    "#                 with open(save_path, 'w') as f:\n",
    "#                     json.dump(results, f, indent=4)\n",
    "            \n",
    "#         except Exception as e:\n",
    "#             print(f\"Critical error during evaluation: {e}\")\n",
    "#             if results:\n",
    "#                 error_save_path = f\"{save_path}_error_state.json\"\n",
    "#                 with open(error_save_path, 'w') as f:\n",
    "#                     json.dump(results, f, indent=4)\n",
    "        \n",
    "#         # Print comprehensive summary\n",
    "#         self._print_evaluation_summary(\n",
    "#             model_name, total_images, successful_images, failed_images, \n",
    "#             total_questions_processed, total_questions_failed, len(results)\n",
    "#         )\n",
    "        \n",
    "#         return results\n",
    "    \n",
    "#     def _print_evaluation_summary(self, model_name, total_images, successful_images, \n",
    "#                                 failed_images, total_questions_processed, total_questions_failed, total_results):\n",
    "#         \"\"\"Print a comprehensive evaluation summary.\"\"\"\n",
    "#         print(f\"\\n{'='*60}\")\n",
    "#         print(f\"EVALUATION SUMMARY FOR {model_name.upper()}\")\n",
    "#         print(f\"{'='*60}\")\n",
    "        \n",
    "#         # Image-level statistics\n",
    "#         num_successful = len(successful_images)\n",
    "#         num_failed = len(failed_images)\n",
    "        \n",
    "#         print(f\"📊 IMAGE PROCESSING SUMMARY:\")\n",
    "#         print(f\"   Total images attempted: {total_images}\")\n",
    "#         print(f\"   Successfully processed: {num_successful} ({num_successful/total_images*100:.1f}%)\")\n",
    "#         print(f\"   Failed images: {num_failed} ({num_failed/total_images*100:.1f}%)\")\n",
    "        \n",
    "#         # Question-level statistics\n",
    "#         questions_succeeded = total_questions_processed - total_questions_failed\n",
    "#         print(f\"\\n📝 QUESTION PROCESSING SUMMARY:\")\n",
    "#         print(f\"   Total questions attempted: {total_questions_processed}\")\n",
    "#         print(f\"   Successfully processed: {questions_succeeded} ({questions_succeeded/total_questions_processed*100:.1f}%)\")\n",
    "#         print(f\"   Failed questions: {total_questions_failed} ({total_questions_failed/total_questions_processed*100:.1f}%)\")\n",
    "#         print(f\"   Results saved: {total_results}\")\n",
    "        \n",
    "#         # Memory usage summary\n",
    "#         memory_info = self.get_gpu_memory_info()\n",
    "#         if memory_info:\n",
    "#             print(f\"\\n🧠 FINAL MEMORY USAGE:\")\n",
    "#             print(f\"   Current allocation: {memory_info['allocated']:.2f} GB ({memory_info['usage_percent']:.1f}%)\")\n",
    "#             print(f\"   Peak allocation: {memory_info['max_allocated']:.2f} GB\")\n",
    "#             print(f\"   Total GPU memory: {memory_info['total']:.2f} GB\")\n",
    "        \n",
    "#         # Successful images details\n",
    "#         if successful_images:\n",
    "#             print(f\"\\n✅ SUCCESSFUL IMAGES ({len(successful_images)}):\")\n",
    "#             for img in successful_images:\n",
    "#                 print(f\"   • {img['image_id']} (Type: {img['image_type']}, \"\n",
    "#                       f\"Questions: {img['questions_succeeded']}/{img['questions_total']}, \"\n",
    "#                       f\"Time: {img['processing_time']:.1f}s)\")\n",
    "        \n",
    "#         # Failed images details\n",
    "#         if failed_images:\n",
    "#             print(f\"\\n❌ FAILED/PROBLEMATIC IMAGES ({len(failed_images)}):\")\n",
    "#             for img in failed_images:\n",
    "#                 if img['error_type'] == 'complete_failure':\n",
    "#                     print(f\"   • {img['image_id']} (Type: {img['image_type']}) - \"\n",
    "#                           f\"COMPLETE FAILURE: {img.get('error_message', 'Unknown error')}\")\n",
    "#                 elif img['error_type'] == 'partial_failure':\n",
    "#                     print(f\"   • {img['image_id']} (Type: {img['image_type']}) - \"\n",
    "#                           f\"PARTIAL: {img['questions_failed']}/{img['questions_total']} failed \"\n",
    "#                           f\"({img['success_rate']} success)\")\n",
    "#                 elif img['error_type'] == 'file_not_found':\n",
    "#                     print(f\"   • {img['image_id']} (Type: {img['image_type']}) - \"\n",
    "#                           f\"FILE NOT FOUND: {img['error_message']}\")\n",
    "        \n",
    "#         print(f\"{'='*60}\\n\")"
   ]
  },
  {
   "cell_type": "code",
   "execution_count": 6,
   "id": "80db117c",
   "metadata": {
    "execution": {
     "iopub.execute_input": "2025-07-29T12:17:57.256010Z",
     "iopub.status.busy": "2025-07-29T12:17:57.255769Z",
     "iopub.status.idle": "2025-07-29T12:17:57.287053Z",
     "shell.execute_reply": "2025-07-29T12:17:57.286333Z"
    },
    "papermill": {
     "duration": 0.039863,
     "end_time": "2025-07-29T12:17:57.288230",
     "exception": false,
     "start_time": "2025-07-29T12:17:57.248367",
     "status": "completed"
    },
    "tags": []
   },
   "outputs": [],
   "source": [
    "class BenchmarkTester:\n",
    "    def __init__(self, benchmark_path=\"/var/scratch/ave303/OP_bench/benchmark.json\", data_dir=\"/var/scratch/ave303/OP_bench/\"):\n",
    "        self.device = \"cuda\" if torch.cuda.is_available() else \"cpu\"\n",
    "        with open(benchmark_path, 'r') as f:\n",
    "            self.benchmark = json.load(f)\n",
    "        self.data_dir = data_dir\n",
    "\n",
    "    def clean_answer(self, answer):\n",
    "        \"\"\"Extract number and reasoning from the model's answer.\"\"\"\n",
    "        # Try to extract number and reasoning using regex\n",
    "        import re\n",
    "        pattern = r'(\\d+)\\s*\\[(.*?)\\]'\n",
    "        match = re.search(pattern, answer)\n",
    "        \n",
    "        if match:\n",
    "            number = match.group(1)\n",
    "            objects = [obj.strip() for obj in match.group(2).split(',')]\n",
    "            return {\n",
    "                \"count\": number,\n",
    "                \"reasoning\": objects\n",
    "            }\n",
    "        else:\n",
    "            # Fallback if format isn't matched\n",
    "            numbers = re.findall(r'\\d+', answer)\n",
    "            return {\n",
    "                \"count\": numbers[0] if numbers else \"0\",\n",
    "                \"reasoning\": []\n",
    "            }\n",
    "\n",
    "    def model_generation(self, model_name, model, inputs, processor):\n",
    "        \"\"\"Generate answer and decode with greedy decoding.\"\"\"\n",
    "        outputs = None  # Initialize outputs to None\n",
    "        \n",
    "        if model_name == \"Qwen2.5-VL\":\n",
    "            # Explicit greedy decoding parameters\n",
    "            outputs = model.generate(\n",
    "                **inputs, \n",
    "                max_new_tokens=200,\n",
    "                do_sample=False,          # Disable sampling for greedy decoding\n",
    "                temperature=None,         # Not used in greedy decoding\n",
    "                top_p=None,              # Not used in greedy decoding  \n",
    "                top_k=None,              # Not used in greedy decoding\n",
    "                num_beams=1,             # Single beam for greedy decoding\n",
    "                early_stopping=False,    # Let it generate until max_tokens or EOS\n",
    "                pad_token_id=processor.tokenizer.pad_token_id,\n",
    "                eos_token_id=processor.tokenizer.eos_token_id\n",
    "            )\n",
    "            outputs = [\n",
    "                out_ids[len(in_ids) :] for in_ids, out_ids in zip(inputs.input_ids, outputs)\n",
    "            ]\n",
    "            answer = processor.batch_decode(\n",
    "                outputs, skip_special_tokens=True, clean_up_tokenization_spaces=False\n",
    "            )[0]\n",
    "        else:\n",
    "            print(f\"Warning: Unknown model name '{model_name}' in model_generation.\")\n",
    "            answer = \"\"  # Return an empty string\n",
    "\n",
    "        return answer, outputs\n",
    "    \n",
    "    def evaluate_model(self, model_name, model, processor, save_path, start_idx=0, batch_size=5):\n",
    "        results = []\n",
    "        \n",
    "        # Initialize tracking variables\n",
    "        successful_images = []\n",
    "        failed_images = []\n",
    "        total_questions_processed = 0\n",
    "        total_questions_failed = 0\n",
    "        \n",
    "        print(f\"\\nEvaluating {model_name}...\")\n",
    "        print(f\"Using device: {self.device}\")\n",
    "        \n",
    "        # Force garbage collection before starting\n",
    "        gc.collect()\n",
    "        torch.cuda.empty_cache()\n",
    "\n",
    "        try:\n",
    "            images = self.benchmark['benchmark']['images'][start_idx:start_idx + batch_size]\n",
    "            total_images = len(images)\n",
    "            \n",
    "            for idx, image_data in enumerate(tqdm(images, desc=\"Processing images\")):\n",
    "                image_start_time = time.time()\n",
    "                current_image_questions_failed = 0\n",
    "                current_image_questions_total = 0\n",
    "                \n",
    "                try:\n",
    "                    image_path = Path(self.data_dir)/image_data['path']\n",
    "                    if not image_path.exists():\n",
    "                        failed_images.append({\n",
    "                            'image_id': image_data['image_id'],\n",
    "                            'image_type': image_data.get('image_type', 'unknown'),\n",
    "                            'error_type': 'file_not_found',\n",
    "                            'error_message': f'Image not found at {image_path}'\n",
    "                        })\n",
    "                        continue\n",
    "                    \n",
    "                    # Load and preprocess image\n",
    "                    image = Image.open(image_path).convert(\"RGB\")\n",
    "                    image_results = []  # Store results for current image\n",
    "                    \n",
    "                    for question_idx, question in enumerate(image_data['questions']):\n",
    "                        current_image_questions_total += 1\n",
    "                        total_questions_processed += 1\n",
    "                        \n",
    "                        try:\n",
    "                            messages = [\n",
    "                                {\n",
    "                                    \"role\": \"user\",\n",
    "                                    \"content\": [\n",
    "                                        {\"type\": \"image\", \"image\": image},\n",
    "                                        {\"type\": \"text\", \"text\": f\"{question['question']} Your response MUST be in the following format and nothing else:\\n <NUMBER> [<OBJECT1>, <OBJECT2>, <OBJECT3>, ...]\"}\n",
    "                                    ]\n",
    "                                },\n",
    "                            ]\n",
    "                            \n",
    "                            # Clear cache before processing each question\n",
    "                            torch.cuda.empty_cache()\n",
    "                            \n",
    "                            # Process image and text for Qwen2.5-VL\n",
    "                            text = processor.apply_chat_template(\n",
    "                                messages, tokenize=False, add_generation_prompt=True\n",
    "                            )\n",
    "                            inputs = processor(\n",
    "                                text=text,\n",
    "                                images=image,\n",
    "                                videos=None,\n",
    "                                padding=True,\n",
    "                                return_tensors=\"pt\",\n",
    "                            ).to(\"cuda\")\n",
    "                            \n",
    "                            # Generate answer with greedy decoding\n",
    "                            with torch.no_grad():\n",
    "                                answer, outputs = self.model_generation(model_name, model, inputs, processor)\n",
    "        \n",
    "                            cleaned_answer = self.clean_answer(answer)\n",
    "                            \n",
    "                            image_results.append({\n",
    "                                \"image_id\": image_data[\"image_id\"],\n",
    "                                \"image_type\": image_data.get(\"image_type\", \"unknown\"),\n",
    "                                \"question_id\": question[\"id\"],\n",
    "                                \"question\": question[\"question\"],\n",
    "                                \"ground_truth\": question[\"answer\"],\n",
    "                                \"model_answer\": cleaned_answer[\"count\"],\n",
    "                                \"model_reasoning\": cleaned_answer[\"reasoning\"],\n",
    "                                \"raw_answer\": answer,  # Keep raw answer for debugging\n",
    "                                \"property_category\": question[\"property_category\"]\n",
    "                            })\n",
    "                            \n",
    "                            # Clear memory\n",
    "                            del outputs, inputs\n",
    "                            torch.cuda.empty_cache()\n",
    "                            \n",
    "                        except Exception as e:\n",
    "                            current_image_questions_failed += 1\n",
    "                            total_questions_failed += 1\n",
    "                            continue\n",
    "                    \n",
    "                    # Add results from this image\n",
    "                    results.extend(image_results)\n",
    "                    \n",
    "                    # Calculate success rate for this image\n",
    "                    questions_succeeded = current_image_questions_total - current_image_questions_failed\n",
    "                    \n",
    "                    if current_image_questions_failed == 0:\n",
    "                        # All questions succeeded\n",
    "                        successful_images.append({\n",
    "                            'image_id': image_data['image_id'],\n",
    "                            'image_type': image_data.get('image_type', 'unknown'),\n",
    "                            'questions_total': current_image_questions_total,\n",
    "                            'questions_succeeded': questions_succeeded,\n",
    "                            'processing_time': time.time() - image_start_time\n",
    "                        })\n",
    "                    else:\n",
    "                        # Some questions failed\n",
    "                        image_success_rate = (questions_succeeded / current_image_questions_total * 100) if current_image_questions_total > 0 else 0\n",
    "                        failed_images.append({\n",
    "                            'image_id': image_data['image_id'],\n",
    "                            'image_type': image_data.get('image_type', 'unknown'),\n",
    "                            'error_type': 'partial_failure',\n",
    "                            'questions_total': current_image_questions_total,\n",
    "                            'questions_failed': current_image_questions_failed,\n",
    "                            'questions_succeeded': questions_succeeded,\n",
    "                            'success_rate': f\"{image_success_rate:.1f}%\"\n",
    "                        })\n",
    "                    \n",
    "                    # Save intermediate results only every 2 images or if it's the last image\n",
    "                    if (idx + 1) % 2 == 0 or idx == total_images - 1:\n",
    "                        checkpoint_path = f\"{save_path}_checkpoint.json\"\n",
    "                        with open(checkpoint_path, 'w') as f:\n",
    "                            json.dump(results, f, indent=4)\n",
    "                            \n",
    "                except Exception as e:\n",
    "                    failed_images.append({\n",
    "                        'image_id': image_data['image_id'],\n",
    "                        'image_type': image_data.get('image_type', 'unknown'),\n",
    "                        'error_type': 'complete_failure',\n",
    "                        'error_message': str(e)\n",
    "                    })\n",
    "                    continue\n",
    "            \n",
    "            # Save final results\n",
    "            if results:\n",
    "                with open(save_path, 'w') as f:\n",
    "                    json.dump(results, f, indent=4)\n",
    "            \n",
    "        except Exception as e:\n",
    "            if results:\n",
    "                error_save_path = f\"{save_path}_error_state.json\"\n",
    "                with open(error_save_path, 'w') as f:\n",
    "                    json.dump(results, f, indent=4)\n",
    "        \n",
    "        # Print comprehensive summary\n",
    "        self._print_evaluation_summary(\n",
    "            model_name, total_images, successful_images, failed_images, \n",
    "            total_questions_processed, total_questions_failed, len(results)\n",
    "        )\n",
    "        \n",
    "        return results\n",
    "    \n",
    "    def _print_evaluation_summary(self, model_name, total_images, successful_images, \n",
    "                                failed_images, total_questions_processed, total_questions_failed, total_results):\n",
    "        \"\"\"Print a comprehensive evaluation summary.\"\"\"\n",
    "        print(f\"\\n{'='*60}\")\n",
    "        print(f\"EVALUATION SUMMARY FOR {model_name.upper()}\")\n",
    "        print(f\"{'='*60}\")\n",
    "        \n",
    "        # Image-level statistics\n",
    "        num_successful = len(successful_images)\n",
    "        num_failed = len(failed_images)\n",
    "        \n",
    "        print(f\"📊 IMAGE PROCESSING SUMMARY:\")\n",
    "        print(f\"   Total images attempted: {total_images}\")\n",
    "        print(f\"   Successfully processed: {num_successful} ({num_successful/total_images*100:.1f}%)\")\n",
    "        print(f\"   Failed images: {num_failed} ({num_failed/total_images*100:.1f}%)\")\n",
    "        \n",
    "        # Question-level statistics\n",
    "        questions_succeeded = total_questions_processed - total_questions_failed\n",
    "        print(f\"\\n📝 QUESTION PROCESSING SUMMARY:\")\n",
    "        print(f\"   Total questions attempted: {total_questions_processed}\")\n",
    "        print(f\"   Successfully processed: {questions_succeeded} ({questions_succeeded/total_questions_processed*100:.1f}%)\")\n",
    "        print(f\"   Failed questions: {total_questions_failed} ({total_questions_failed/total_questions_processed*100:.1f}%)\")\n",
    "        print(f\"   Results saved: {total_results}\")\n",
    "        \n",
    "        # Successful images details\n",
    "        if successful_images:\n",
    "            print(f\"\\n✅ SUCCESSFUL IMAGES ({len(successful_images)}):\")\n",
    "            for img in successful_images:\n",
    "                print(f\"   • {img['image_id']} (Type: {img['image_type']}, \"\n",
    "                      f\"Questions: {img['questions_succeeded']}/{img['questions_total']}, \"\n",
    "                      f\"Time: {img['processing_time']:.1f}s)\")\n",
    "        \n",
    "        # Failed images details\n",
    "        if failed_images:\n",
    "            print(f\"\\n❌ FAILED/PROBLEMATIC IMAGES ({len(failed_images)}):\")\n",
    "            for img in failed_images:\n",
    "                if img['error_type'] == 'complete_failure':\n",
    "                    print(f\"   • {img['image_id']} (Type: {img['image_type']}) - \"\n",
    "                          f\"COMPLETE FAILURE: {img.get('error_message', 'Unknown error')}\")\n",
    "                elif img['error_type'] == 'partial_failure':\n",
    "                    print(f\"   • {img['image_id']} (Type: {img['image_type']}) - \"\n",
    "                          f\"PARTIAL: {img['questions_failed']}/{img['questions_total']} failed \"\n",
    "                          f\"({img['success_rate']} success)\")\n",
    "                elif img['error_type'] == 'file_not_found':\n",
    "                    print(f\"   • {img['image_id']} (Type: {img['image_type']}) - \"\n",
    "                          f\"FILE NOT FOUND: {img['error_message']}\")\n",
    "        \n",
    "        # Group failed images by type\n",
    "        if failed_images:\n",
    "            print(f\"\\n📈 FAILURE ANALYSIS BY IMAGE TYPE:\")\n",
    "            from collections import defaultdict\n",
    "            failures_by_type = defaultdict(list)\n",
    "            for img in failed_images:\n",
    "                failures_by_type[img['image_type']].append(img)\n",
    "            \n",
    "            for img_type, failures in failures_by_type.items():\n",
    "                print(f\"   • {img_type}: {len(failures)} failed images\")\n",
    "                for failure in failures:\n",
    "                    print(f\"     - {failure['image_id']} ({failure['error_type']})\")\n",
    "        \n",
    "        print(f\"{'='*60}\\n\")"
   ]
  },
  {
   "cell_type": "markdown",
   "id": "b5b8b6d2",
   "metadata": {
    "papermill": {
     "duration": 0.006209,
     "end_time": "2025-07-29T12:17:57.300963",
     "exception": false,
     "start_time": "2025-07-29T12:17:57.294754",
     "status": "completed"
    },
    "tags": []
   },
   "source": [
    "## Test SmolVLM Model\n",
    "\n",
    "Let's evaluate the SmolVLM2-2.2B-Instruct model"
   ]
  },
  {
   "cell_type": "code",
   "execution_count": 7,
   "id": "2a76b074",
   "metadata": {
    "execution": {
     "iopub.execute_input": "2025-07-29T12:17:57.314452Z",
     "iopub.status.busy": "2025-07-29T12:17:57.314211Z",
     "iopub.status.idle": "2025-07-29T12:17:57.318521Z",
     "shell.execute_reply": "2025-07-29T12:17:57.317779Z"
    },
    "papermill": {
     "duration": 0.012396,
     "end_time": "2025-07-29T12:17:57.319645",
     "exception": false,
     "start_time": "2025-07-29T12:17:57.307249",
     "status": "completed"
    },
    "tags": []
   },
   "outputs": [],
   "source": [
    "# def test_smolVLM2():\n",
    "#     from transformers import AutoProcessor, AutoModelForImageTextToText\n",
    "\n",
    "#     print(\"Loading smolVLM model...\")\n",
    "    \n",
    "#     model = AutoModelForImageTextToText.from_pretrained(\n",
    "#         \"HuggingFaceTB/SmolVLM2-2.2B-Instruct\",\n",
    "#         torch_dtype=torch.float16,\n",
    "#         attn_implementation=\"flash_attention_2\",\n",
    "#         low_cpu_mem_usage=True,\n",
    "#         trust_remote_code=True\n",
    "#     ).to(\"cuda\")\n",
    "\n",
    "#     processor = AutoProcessor.from_pretrained(\"HuggingFaceTB/SmolVLM2-2.2B-Instruct\")\n",
    "\n",
    "#     ## A bit slow without the flash_attention2 requires ampere gpu's. Better performance in some cases\n",
    "\n",
    "#     # Optional: Enable memory efficient attention\n",
    "#     if hasattr(model.config, 'use_memory_efficient_attention'):\n",
    "#         model.config.use_memory_efficient_attention = True\n",
    "\n",
    "#     tester = BenchmarkTester()\n",
    "#     smolVLM_results = tester.evaluate_model(\n",
    "#         \"smolVLM2\",\n",
    "#         model, \n",
    "#         processor, \n",
    "#         \"smolVLM2_results_1.json\", \n",
    "#         batch_size=25\n",
    "#     )\n",
    "\n",
    "#     # Clean up\n",
    "#     del model, processor\n",
    "#     torch.cuda.empty_cache()\n",
    "#     gc.collect()"
   ]
  },
  {
   "cell_type": "markdown",
   "id": "ef3436dc",
   "metadata": {
    "papermill": {
     "duration": 0.006678,
     "end_time": "2025-07-29T12:17:57.332730",
     "exception": false,
     "start_time": "2025-07-29T12:17:57.326052",
     "status": "completed"
    },
    "tags": []
   },
   "source": [
    "## Test Qwen2.5-VL\n",
    "\n",
    "Lets evaluate the Qwen2.5-VL-7B-Instruct model"
   ]
  },
  {
   "cell_type": "code",
   "execution_count": 8,
   "id": "b4c88dff",
   "metadata": {
    "execution": {
     "iopub.execute_input": "2025-07-29T12:17:57.346455Z",
     "iopub.status.busy": "2025-07-29T12:17:57.346137Z",
     "iopub.status.idle": "2025-07-29T12:17:57.352038Z",
     "shell.execute_reply": "2025-07-29T12:17:57.351335Z"
    },
    "papermill": {
     "duration": 0.014016,
     "end_time": "2025-07-29T12:17:57.353130",
     "exception": false,
     "start_time": "2025-07-29T12:17:57.339114",
     "status": "completed"
    },
    "tags": []
   },
   "outputs": [],
   "source": [
    "def test_Qwen2_5VL():\n",
    "    from transformers import Qwen2_5_VLForConditionalGeneration, AutoProcessor\n",
    "    \n",
    "    # default: Load the model on the available device(s)\n",
    "    # model = Qwen2_5_VLForConditionalGeneration.from_pretrained(\n",
    "    #     \"Qwen/Qwen2.5-VL-3B-Instruct\", \n",
    "    #     load_in_8bit=True, # throws error when .to() is added\n",
    "    #     torch_dtype=torch.bfloat16, \n",
    "    #     device_map=\"auto\",\n",
    "    #     # attn_implementation=\"flash_attention_2\",\n",
    "    #     low_cpu_mem_usage=True\n",
    "    # )\n",
    "    \n",
    "    # We recommend enabling flash_attention_2 for better acceleration and memory saving, especially in multi-image and video scenarios.\n",
    "    model = Qwen2_5_VLForConditionalGeneration.from_pretrained(\n",
    "        \"/var/scratch/ave303/models/spacethinker-qwen2-5-vl-3b\",\n",
    "        torch_dtype=torch.float16,\n",
    "        # load_in_8bit=True,\n",
    "        # attn_implementation=\"flash_attention_2\",\n",
    "        device_map=\"auto\",\n",
    "        low_cpu_mem_usage=True,\n",
    "        trust_remote_code=True\n",
    "    )\n",
    "    \n",
    "    # default processer\n",
    "    processor = AutoProcessor.from_pretrained(\"/var/scratch/ave303/models/spacethinker-qwen2-5-vl-3b\")\n",
    "\n",
    "    ### Qwen2.5-VL-7B-Instruct --> goes out of CUDA memory\n",
    "    ### Qwen2.5-VL-3B-Instruct --> can handle only 2 images before going out of memory but decent performance\n",
    "\n",
    "    # Optional: Enable memory efficient attention\n",
    "    if hasattr(model.config, 'use_memory_efficient_attention'):\n",
    "        model.config.use_memory_efficient_attention = True\n",
    "\n",
    "    tester = BenchmarkTester()\n",
    "    Qwen2_5VL_results = tester.evaluate_model(\n",
    "        \"Qwen2.5-VL\",\n",
    "        model, \n",
    "        processor, \n",
    "        \"Spacethinker-qwen2-5-vl-3b_results.json\",\n",
    "        # start_idx=0,\n",
    "        batch_size=360\n",
    "    )\n",
    "\n",
    "    # Clean up\n",
    "    del model, processor\n",
    "    torch.cuda.empty_cache()\n",
    "    gc.collect()"
   ]
  },
  {
   "cell_type": "markdown",
   "id": "6044450a",
   "metadata": {
    "papermill": {
     "duration": 0.006233,
     "end_time": "2025-07-29T12:17:57.365798",
     "exception": false,
     "start_time": "2025-07-29T12:17:57.359565",
     "status": "completed"
    },
    "tags": []
   },
   "source": [
    "## Run Evaluation\n",
    "\n",
    "Now we can run our evaluation. Let's start with the SmolVLM2 model:"
   ]
  },
  {
   "cell_type": "code",
   "execution_count": 9,
   "id": "dca2c7d6",
   "metadata": {
    "execution": {
     "iopub.execute_input": "2025-07-29T12:17:57.379218Z",
     "iopub.status.busy": "2025-07-29T12:17:57.378982Z",
     "iopub.status.idle": "2025-07-29T12:17:57.382422Z",
     "shell.execute_reply": "2025-07-29T12:17:57.381804Z"
    },
    "papermill": {
     "duration": 0.011512,
     "end_time": "2025-07-29T12:17:57.383568",
     "exception": false,
     "start_time": "2025-07-29T12:17:57.372056",
     "status": "completed"
    },
    "tags": []
   },
   "outputs": [],
   "source": [
    "# test_smolVLM2()"
   ]
  },
  {
   "cell_type": "code",
   "execution_count": 10,
   "id": "bb11767e",
   "metadata": {
    "execution": {
     "iopub.execute_input": "2025-07-29T12:17:57.397029Z",
     "iopub.status.busy": "2025-07-29T12:17:57.396717Z",
     "iopub.status.idle": "2025-07-29T12:31:41.477735Z",
     "shell.execute_reply": "2025-07-29T12:31:41.476838Z"
    },
    "papermill": {
     "duration": 824.089248,
     "end_time": "2025-07-29T12:31:41.479015",
     "exception": false,
     "start_time": "2025-07-29T12:17:57.389767",
     "status": "completed"
    },
    "tags": []
   },
   "outputs": [
    {
     "name": "stderr",
     "output_type": "stream",
     "text": [
      "\r\n",
      "Loading checkpoint shards:   0%|          | 0/4 [00:00<?, ?it/s]"
     ]
    },
    {
     "name": "stderr",
     "output_type": "stream",
     "text": [
      "\r\n",
      "Loading checkpoint shards:  25%|██▌       | 1/4 [00:05<00:15,  5.01s/it]"
     ]
    },
    {
     "name": "stderr",
     "output_type": "stream",
     "text": [
      "\r\n",
      "Loading checkpoint shards:  50%|█████     | 2/4 [00:09<00:09,  4.87s/it]"
     ]
    },
    {
     "name": "stderr",
     "output_type": "stream",
     "text": [
      "\r\n",
      "Loading checkpoint shards:  75%|███████▌  | 3/4 [00:14<00:04,  4.67s/it]"
     ]
    },
    {
     "name": "stderr",
     "output_type": "stream",
     "text": [
      "\r\n",
      "Loading checkpoint shards: 100%|██████████| 4/4 [00:14<00:00,  2.89s/it]"
     ]
    },
    {
     "name": "stderr",
     "output_type": "stream",
     "text": [
      "\r\n",
      "Loading checkpoint shards: 100%|██████████| 4/4 [00:14<00:00,  3.59s/it]"
     ]
    },
    {
     "name": "stderr",
     "output_type": "stream",
     "text": [
      "\n"
     ]
    },
    {
     "name": "stdout",
     "output_type": "stream",
     "text": [
      "\n",
      "Evaluating Qwen2.5-VL...\n",
      "Using device: cuda\n"
     ]
    },
    {
     "name": "stderr",
     "output_type": "stream",
     "text": [
      "\r\n",
      "Processing images:   0%|          | 0/360 [00:00<?, ?it/s]"
     ]
    },
    {
     "name": "stderr",
     "output_type": "stream",
     "text": [
      "\r\n",
      "Processing images:   0%|          | 1/360 [00:03<18:44,  3.13s/it]"
     ]
    },
    {
     "name": "stderr",
     "output_type": "stream",
     "text": [
      "\r\n",
      "Processing images:   1%|          | 2/360 [00:05<17:10,  2.88s/it]"
     ]
    },
    {
     "name": "stderr",
     "output_type": "stream",
     "text": [
      "\r\n",
      "Processing images:   1%|          | 3/360 [00:07<15:05,  2.54s/it]"
     ]
    },
    {
     "name": "stderr",
     "output_type": "stream",
     "text": [
      "\r\n",
      "Processing images:   1%|          | 4/360 [00:11<16:37,  2.80s/it]"
     ]
    },
    {
     "name": "stderr",
     "output_type": "stream",
     "text": [
      "\r\n",
      "Processing images:   1%|▏         | 5/360 [00:13<14:45,  2.49s/it]"
     ]
    },
    {
     "name": "stderr",
     "output_type": "stream",
     "text": [
      "\r\n",
      "Processing images:   2%|▏         | 6/360 [00:15<14:13,  2.41s/it]"
     ]
    },
    {
     "name": "stderr",
     "output_type": "stream",
     "text": [
      "\r\n",
      "Processing images:   2%|▏         | 7/360 [00:17<12:44,  2.16s/it]"
     ]
    },
    {
     "name": "stderr",
     "output_type": "stream",
     "text": [
      "\r\n",
      "Processing images:   2%|▏         | 8/360 [00:18<10:31,  1.79s/it]"
     ]
    },
    {
     "name": "stderr",
     "output_type": "stream",
     "text": [
      "\r\n",
      "Processing images:   2%|▎         | 9/360 [00:20<12:08,  2.08s/it]"
     ]
    },
    {
     "name": "stderr",
     "output_type": "stream",
     "text": [
      "\r\n",
      "Processing images:   3%|▎         | 10/360 [00:24<15:16,  2.62s/it]"
     ]
    },
    {
     "name": "stderr",
     "output_type": "stream",
     "text": [
      "\r\n",
      "Processing images:   3%|▎         | 11/360 [00:26<13:57,  2.40s/it]"
     ]
    },
    {
     "name": "stderr",
     "output_type": "stream",
     "text": [
      "\r\n",
      "Processing images:   3%|▎         | 12/360 [00:29<14:27,  2.49s/it]"
     ]
    },
    {
     "name": "stderr",
     "output_type": "stream",
     "text": [
      "\r\n",
      "Processing images:   4%|▎         | 13/360 [00:30<12:42,  2.20s/it]"
     ]
    },
    {
     "name": "stderr",
     "output_type": "stream",
     "text": [
      "\r\n",
      "Processing images:   4%|▍         | 14/360 [00:32<11:21,  1.97s/it]"
     ]
    },
    {
     "name": "stderr",
     "output_type": "stream",
     "text": [
      "\r\n",
      "Processing images:   4%|▍         | 15/360 [00:34<11:25,  1.99s/it]"
     ]
    },
    {
     "name": "stderr",
     "output_type": "stream",
     "text": [
      "\r\n",
      "Processing images:   4%|▍         | 16/360 [00:35<10:27,  1.82s/it]"
     ]
    },
    {
     "name": "stderr",
     "output_type": "stream",
     "text": [
      "\r\n",
      "Processing images:   5%|▍         | 17/360 [00:36<09:22,  1.64s/it]"
     ]
    },
    {
     "name": "stderr",
     "output_type": "stream",
     "text": [
      "\r\n",
      "Processing images:   5%|▌         | 18/360 [00:38<09:59,  1.75s/it]"
     ]
    },
    {
     "name": "stderr",
     "output_type": "stream",
     "text": [
      "\r\n",
      "Processing images:   5%|▌         | 19/360 [00:40<09:39,  1.70s/it]"
     ]
    },
    {
     "name": "stderr",
     "output_type": "stream",
     "text": [
      "\r\n",
      "Processing images:   6%|▌         | 20/360 [00:41<09:25,  1.66s/it]"
     ]
    },
    {
     "name": "stderr",
     "output_type": "stream",
     "text": [
      "\r\n",
      "Processing images:   6%|▌         | 21/360 [00:46<13:42,  2.43s/it]"
     ]
    },
    {
     "name": "stderr",
     "output_type": "stream",
     "text": [
      "\r\n",
      "Processing images:   6%|▌         | 22/360 [00:49<14:53,  2.64s/it]"
     ]
    },
    {
     "name": "stderr",
     "output_type": "stream",
     "text": [
      "\r\n",
      "Processing images:   6%|▋         | 23/360 [00:51<14:15,  2.54s/it]"
     ]
    },
    {
     "name": "stderr",
     "output_type": "stream",
     "text": [
      "\r\n",
      "Processing images:   7%|▋         | 24/360 [00:53<12:49,  2.29s/it]"
     ]
    },
    {
     "name": "stderr",
     "output_type": "stream",
     "text": [
      "\r\n",
      "Processing images:   7%|▋         | 25/360 [00:54<11:33,  2.07s/it]"
     ]
    },
    {
     "name": "stderr",
     "output_type": "stream",
     "text": [
      "\r\n",
      "Processing images:   7%|▋         | 26/360 [00:57<11:57,  2.15s/it]"
     ]
    },
    {
     "name": "stderr",
     "output_type": "stream",
     "text": [
      "\r\n",
      "Processing images:   8%|▊         | 27/360 [00:58<10:44,  1.93s/it]"
     ]
    },
    {
     "name": "stderr",
     "output_type": "stream",
     "text": [
      "\r\n",
      "Processing images:   8%|▊         | 28/360 [00:59<09:41,  1.75s/it]"
     ]
    },
    {
     "name": "stderr",
     "output_type": "stream",
     "text": [
      "\r\n",
      "Processing images:   8%|▊         | 29/360 [01:02<10:45,  1.95s/it]"
     ]
    },
    {
     "name": "stderr",
     "output_type": "stream",
     "text": [
      "\r\n",
      "Processing images:   8%|▊         | 30/360 [01:04<10:55,  1.99s/it]"
     ]
    },
    {
     "name": "stderr",
     "output_type": "stream",
     "text": [
      "\r\n",
      "Processing images:   9%|▊         | 31/360 [01:06<11:08,  2.03s/it]"
     ]
    },
    {
     "name": "stderr",
     "output_type": "stream",
     "text": [
      "\r\n",
      "Processing images:   9%|▉         | 32/360 [01:08<11:31,  2.11s/it]"
     ]
    },
    {
     "name": "stderr",
     "output_type": "stream",
     "text": [
      "\r\n",
      "Processing images:   9%|▉         | 33/360 [01:10<11:16,  2.07s/it]"
     ]
    },
    {
     "name": "stderr",
     "output_type": "stream",
     "text": [
      "\r\n",
      "Processing images:   9%|▉         | 34/360 [01:12<10:07,  1.86s/it]"
     ]
    },
    {
     "name": "stderr",
     "output_type": "stream",
     "text": [
      "\r\n",
      "Processing images:  10%|▉         | 35/360 [01:15<11:32,  2.13s/it]"
     ]
    },
    {
     "name": "stderr",
     "output_type": "stream",
     "text": [
      "\r\n",
      "Processing images:  10%|█         | 36/360 [01:16<10:57,  2.03s/it]"
     ]
    },
    {
     "name": "stderr",
     "output_type": "stream",
     "text": [
      "\r\n",
      "Processing images:  10%|█         | 37/360 [01:18<10:54,  2.03s/it]"
     ]
    },
    {
     "name": "stderr",
     "output_type": "stream",
     "text": [
      "\r\n",
      "Processing images:  11%|█         | 38/360 [01:20<10:18,  1.92s/it]"
     ]
    },
    {
     "name": "stderr",
     "output_type": "stream",
     "text": [
      "\r\n",
      "Processing images:  11%|█         | 39/360 [01:22<10:09,  1.90s/it]"
     ]
    },
    {
     "name": "stderr",
     "output_type": "stream",
     "text": [
      "\r\n",
      "Processing images:  11%|█         | 40/360 [01:24<09:44,  1.83s/it]"
     ]
    },
    {
     "name": "stderr",
     "output_type": "stream",
     "text": [
      "\r\n",
      "Processing images:  11%|█▏        | 41/360 [01:25<09:23,  1.77s/it]"
     ]
    },
    {
     "name": "stderr",
     "output_type": "stream",
     "text": [
      "\r\n",
      "Processing images:  12%|█▏        | 42/360 [01:27<09:10,  1.73s/it]"
     ]
    },
    {
     "name": "stderr",
     "output_type": "stream",
     "text": [
      "\r\n",
      "Processing images:  12%|█▏        | 43/360 [01:30<11:11,  2.12s/it]"
     ]
    },
    {
     "name": "stderr",
     "output_type": "stream",
     "text": [
      "\r\n",
      "Processing images:  12%|█▏        | 44/360 [01:33<12:26,  2.36s/it]"
     ]
    },
    {
     "name": "stderr",
     "output_type": "stream",
     "text": [
      "\r\n",
      "Processing images:  12%|█▎        | 45/360 [01:35<12:24,  2.36s/it]"
     ]
    },
    {
     "name": "stderr",
     "output_type": "stream",
     "text": [
      "\r\n",
      "Processing images:  13%|█▎        | 46/360 [01:37<11:36,  2.22s/it]"
     ]
    },
    {
     "name": "stderr",
     "output_type": "stream",
     "text": [
      "\r\n",
      "Processing images:  13%|█▎        | 47/360 [01:40<12:27,  2.39s/it]"
     ]
    },
    {
     "name": "stderr",
     "output_type": "stream",
     "text": [
      "\r\n",
      "Processing images:  13%|█▎        | 48/360 [01:42<11:33,  2.22s/it]"
     ]
    },
    {
     "name": "stderr",
     "output_type": "stream",
     "text": [
      "\r\n",
      "Processing images:  14%|█▎        | 49/360 [01:44<11:58,  2.31s/it]"
     ]
    },
    {
     "name": "stderr",
     "output_type": "stream",
     "text": [
      "\r\n",
      "Processing images:  14%|█▍        | 50/360 [01:46<11:45,  2.28s/it]"
     ]
    },
    {
     "name": "stderr",
     "output_type": "stream",
     "text": [
      "\r\n",
      "Processing images:  14%|█▍        | 51/360 [01:48<11:12,  2.17s/it]"
     ]
    },
    {
     "name": "stderr",
     "output_type": "stream",
     "text": [
      "\r\n",
      "Processing images:  14%|█▍        | 52/360 [01:50<10:18,  2.01s/it]"
     ]
    },
    {
     "name": "stderr",
     "output_type": "stream",
     "text": [
      "\r\n",
      "Processing images:  15%|█▍        | 53/360 [01:52<10:04,  1.97s/it]"
     ]
    },
    {
     "name": "stderr",
     "output_type": "stream",
     "text": [
      "\r\n",
      "Processing images:  15%|█▌        | 54/360 [01:54<10:42,  2.10s/it]"
     ]
    },
    {
     "name": "stderr",
     "output_type": "stream",
     "text": [
      "\r\n",
      "Processing images:  15%|█▌        | 55/360 [01:57<11:56,  2.35s/it]"
     ]
    },
    {
     "name": "stderr",
     "output_type": "stream",
     "text": [
      "\r\n",
      "Processing images:  16%|█▌        | 56/360 [01:59<11:59,  2.37s/it]"
     ]
    },
    {
     "name": "stderr",
     "output_type": "stream",
     "text": [
      "\r\n",
      "Processing images:  16%|█▌        | 57/360 [02:02<11:33,  2.29s/it]"
     ]
    },
    {
     "name": "stderr",
     "output_type": "stream",
     "text": [
      "\r\n",
      "Processing images:  16%|█▌        | 58/360 [02:05<12:32,  2.49s/it]"
     ]
    },
    {
     "name": "stderr",
     "output_type": "stream",
     "text": [
      "\r\n",
      "Processing images:  16%|█▋        | 59/360 [02:07<11:47,  2.35s/it]"
     ]
    },
    {
     "name": "stderr",
     "output_type": "stream",
     "text": [
      "\r\n",
      "Processing images:  17%|█▋        | 60/360 [02:10<13:51,  2.77s/it]"
     ]
    },
    {
     "name": "stderr",
     "output_type": "stream",
     "text": [
      "\r\n",
      "Processing images:  17%|█▋        | 61/360 [02:12<12:04,  2.42s/it]"
     ]
    },
    {
     "name": "stderr",
     "output_type": "stream",
     "text": [
      "\r\n",
      "Processing images:  17%|█▋        | 62/360 [02:13<10:42,  2.16s/it]"
     ]
    },
    {
     "name": "stderr",
     "output_type": "stream",
     "text": [
      "\r\n",
      "Processing images:  18%|█▊        | 63/360 [02:15<10:00,  2.02s/it]"
     ]
    },
    {
     "name": "stderr",
     "output_type": "stream",
     "text": [
      "\r\n",
      "Processing images:  18%|█▊        | 64/360 [02:18<11:06,  2.25s/it]"
     ]
    },
    {
     "name": "stderr",
     "output_type": "stream",
     "text": [
      "\r\n",
      "Processing images:  18%|█▊        | 65/360 [02:20<10:04,  2.05s/it]"
     ]
    },
    {
     "name": "stderr",
     "output_type": "stream",
     "text": [
      "\r\n",
      "Processing images:  18%|█▊        | 66/360 [02:21<09:24,  1.92s/it]"
     ]
    },
    {
     "name": "stderr",
     "output_type": "stream",
     "text": [
      "\r\n",
      "Processing images:  19%|█▊        | 67/360 [02:23<09:08,  1.87s/it]"
     ]
    },
    {
     "name": "stderr",
     "output_type": "stream",
     "text": [
      "\r\n",
      "Processing images:  19%|█▉        | 68/360 [02:25<08:51,  1.82s/it]"
     ]
    },
    {
     "name": "stderr",
     "output_type": "stream",
     "text": [
      "\r\n",
      "Processing images:  19%|█▉        | 69/360 [02:27<09:10,  1.89s/it]"
     ]
    },
    {
     "name": "stderr",
     "output_type": "stream",
     "text": [
      "\r\n",
      "Processing images:  19%|█▉        | 70/360 [02:28<08:50,  1.83s/it]"
     ]
    },
    {
     "name": "stderr",
     "output_type": "stream",
     "text": [
      "\r\n",
      "Processing images:  20%|█▉        | 71/360 [02:31<10:27,  2.17s/it]"
     ]
    },
    {
     "name": "stderr",
     "output_type": "stream",
     "text": [
      "\r\n",
      "Processing images:  20%|██        | 72/360 [02:33<10:01,  2.09s/it]"
     ]
    },
    {
     "name": "stderr",
     "output_type": "stream",
     "text": [
      "\r\n",
      "Processing images:  20%|██        | 73/360 [02:35<10:07,  2.12s/it]"
     ]
    },
    {
     "name": "stderr",
     "output_type": "stream",
     "text": [
      "\r\n",
      "Processing images:  21%|██        | 74/360 [02:38<10:43,  2.25s/it]"
     ]
    },
    {
     "name": "stderr",
     "output_type": "stream",
     "text": [
      "\r\n",
      "Processing images:  21%|██        | 75/360 [02:41<11:20,  2.39s/it]"
     ]
    },
    {
     "name": "stderr",
     "output_type": "stream",
     "text": [
      "\r\n",
      "Processing images:  21%|██        | 76/360 [02:44<11:57,  2.52s/it]"
     ]
    },
    {
     "name": "stderr",
     "output_type": "stream",
     "text": [
      "\r\n",
      "Processing images:  21%|██▏       | 77/360 [02:45<11:02,  2.34s/it]"
     ]
    },
    {
     "name": "stderr",
     "output_type": "stream",
     "text": [
      "\r\n",
      "Processing images:  22%|██▏       | 78/360 [02:47<10:22,  2.21s/it]"
     ]
    },
    {
     "name": "stderr",
     "output_type": "stream",
     "text": [
      "\r\n",
      "Processing images:  22%|██▏       | 79/360 [02:49<10:03,  2.15s/it]"
     ]
    },
    {
     "name": "stderr",
     "output_type": "stream",
     "text": [
      "\r\n",
      "Processing images:  22%|██▏       | 80/360 [02:52<10:28,  2.25s/it]"
     ]
    },
    {
     "name": "stderr",
     "output_type": "stream",
     "text": [
      "\r\n",
      "Processing images:  22%|██▎       | 81/360 [02:53<09:17,  2.00s/it]"
     ]
    },
    {
     "name": "stderr",
     "output_type": "stream",
     "text": [
      "\r\n",
      "Processing images:  23%|██▎       | 82/360 [02:55<08:45,  1.89s/it]"
     ]
    },
    {
     "name": "stderr",
     "output_type": "stream",
     "text": [
      "\r\n",
      "Processing images:  23%|██▎       | 83/360 [02:56<08:04,  1.75s/it]"
     ]
    },
    {
     "name": "stderr",
     "output_type": "stream",
     "text": [
      "\r\n",
      "Processing images:  23%|██▎       | 84/360 [02:58<08:24,  1.83s/it]"
     ]
    },
    {
     "name": "stderr",
     "output_type": "stream",
     "text": [
      "\r\n",
      "Processing images:  24%|██▎       | 85/360 [03:00<07:53,  1.72s/it]"
     ]
    },
    {
     "name": "stderr",
     "output_type": "stream",
     "text": [
      "\r\n",
      "Processing images:  24%|██▍       | 86/360 [03:02<07:59,  1.75s/it]"
     ]
    },
    {
     "name": "stderr",
     "output_type": "stream",
     "text": [
      "\r\n",
      "Processing images:  24%|██▍       | 87/360 [03:04<08:13,  1.81s/it]"
     ]
    },
    {
     "name": "stderr",
     "output_type": "stream",
     "text": [
      "\r\n",
      "Processing images:  24%|██▍       | 88/360 [03:06<08:32,  1.89s/it]"
     ]
    },
    {
     "name": "stderr",
     "output_type": "stream",
     "text": [
      "\r\n",
      "Processing images:  25%|██▍       | 89/360 [03:07<08:16,  1.83s/it]"
     ]
    },
    {
     "name": "stderr",
     "output_type": "stream",
     "text": [
      "\r\n",
      "Processing images:  25%|██▌       | 90/360 [03:09<08:24,  1.87s/it]"
     ]
    },
    {
     "name": "stderr",
     "output_type": "stream",
     "text": [
      "\r\n",
      "Processing images:  25%|██▌       | 91/360 [03:11<08:40,  1.93s/it]"
     ]
    },
    {
     "name": "stderr",
     "output_type": "stream",
     "text": [
      "\r\n",
      "Processing images:  26%|██▌       | 92/360 [03:14<09:40,  2.17s/it]"
     ]
    },
    {
     "name": "stderr",
     "output_type": "stream",
     "text": [
      "\r\n",
      "Processing images:  26%|██▌       | 93/360 [03:16<08:46,  1.97s/it]"
     ]
    },
    {
     "name": "stderr",
     "output_type": "stream",
     "text": [
      "\r\n",
      "Processing images:  26%|██▌       | 94/360 [03:19<11:03,  2.50s/it]"
     ]
    },
    {
     "name": "stderr",
     "output_type": "stream",
     "text": [
      "\r\n",
      "Processing images:  26%|██▋       | 95/360 [03:21<09:49,  2.22s/it]"
     ]
    },
    {
     "name": "stderr",
     "output_type": "stream",
     "text": [
      "\r\n",
      "Processing images:  27%|██▋       | 96/360 [03:25<12:22,  2.81s/it]"
     ]
    },
    {
     "name": "stderr",
     "output_type": "stream",
     "text": [
      "\r\n",
      "Processing images:  27%|██▋       | 97/360 [03:27<11:29,  2.62s/it]"
     ]
    },
    {
     "name": "stderr",
     "output_type": "stream",
     "text": [
      "\r\n",
      "Processing images:  27%|██▋       | 98/360 [03:29<10:52,  2.49s/it]"
     ]
    },
    {
     "name": "stderr",
     "output_type": "stream",
     "text": [
      "\r\n",
      "Processing images:  28%|██▊       | 99/360 [03:32<10:47,  2.48s/it]"
     ]
    },
    {
     "name": "stderr",
     "output_type": "stream",
     "text": [
      "\r\n",
      "Processing images:  28%|██▊       | 100/360 [03:34<10:00,  2.31s/it]"
     ]
    },
    {
     "name": "stderr",
     "output_type": "stream",
     "text": [
      "\r\n",
      "Processing images:  28%|██▊       | 101/360 [03:36<09:27,  2.19s/it]"
     ]
    },
    {
     "name": "stderr",
     "output_type": "stream",
     "text": [
      "\r\n",
      "Processing images:  28%|██▊       | 102/360 [03:38<09:14,  2.15s/it]"
     ]
    },
    {
     "name": "stderr",
     "output_type": "stream",
     "text": [
      "\r\n",
      "Processing images:  29%|██▊       | 103/360 [03:40<09:14,  2.16s/it]"
     ]
    },
    {
     "name": "stderr",
     "output_type": "stream",
     "text": [
      "\r\n",
      "Processing images:  29%|██▉       | 104/360 [03:42<09:05,  2.13s/it]"
     ]
    },
    {
     "name": "stderr",
     "output_type": "stream",
     "text": [
      "\r\n",
      "Processing images:  29%|██▉       | 105/360 [03:44<08:49,  2.08s/it]"
     ]
    },
    {
     "name": "stderr",
     "output_type": "stream",
     "text": [
      "\r\n",
      "Processing images:  29%|██▉       | 106/360 [03:47<09:57,  2.35s/it]"
     ]
    },
    {
     "name": "stderr",
     "output_type": "stream",
     "text": [
      "\r\n",
      "Processing images:  30%|██▉       | 107/360 [03:49<09:19,  2.21s/it]"
     ]
    },
    {
     "name": "stderr",
     "output_type": "stream",
     "text": [
      "\r\n",
      "Processing images:  30%|███       | 108/360 [03:51<09:18,  2.21s/it]"
     ]
    },
    {
     "name": "stderr",
     "output_type": "stream",
     "text": [
      "\r\n",
      "Processing images:  30%|███       | 109/360 [03:53<08:55,  2.13s/it]"
     ]
    },
    {
     "name": "stderr",
     "output_type": "stream",
     "text": [
      "\r\n",
      "Processing images:  31%|███       | 110/360 [03:55<08:41,  2.08s/it]"
     ]
    },
    {
     "name": "stderr",
     "output_type": "stream",
     "text": [
      "\r\n",
      "Processing images:  31%|███       | 111/360 [03:57<08:13,  1.98s/it]"
     ]
    },
    {
     "name": "stderr",
     "output_type": "stream",
     "text": [
      "\r\n",
      "Processing images:  31%|███       | 112/360 [04:00<09:26,  2.29s/it]"
     ]
    },
    {
     "name": "stderr",
     "output_type": "stream",
     "text": [
      "\r\n",
      "Processing images:  31%|███▏      | 113/360 [04:02<09:08,  2.22s/it]"
     ]
    },
    {
     "name": "stderr",
     "output_type": "stream",
     "text": [
      "\r\n",
      "Processing images:  32%|███▏      | 114/360 [04:06<10:56,  2.67s/it]"
     ]
    },
    {
     "name": "stderr",
     "output_type": "stream",
     "text": [
      "\r\n",
      "Processing images:  32%|███▏      | 115/360 [04:07<09:52,  2.42s/it]"
     ]
    },
    {
     "name": "stderr",
     "output_type": "stream",
     "text": [
      "\r\n",
      "Processing images:  32%|███▏      | 116/360 [04:09<09:30,  2.34s/it]"
     ]
    },
    {
     "name": "stderr",
     "output_type": "stream",
     "text": [
      "\r\n",
      "Processing images:  32%|███▎      | 117/360 [04:11<08:42,  2.15s/it]"
     ]
    },
    {
     "name": "stderr",
     "output_type": "stream",
     "text": [
      "\r\n",
      "Processing images:  33%|███▎      | 118/360 [04:13<08:40,  2.15s/it]"
     ]
    },
    {
     "name": "stderr",
     "output_type": "stream",
     "text": [
      "\r\n",
      "Processing images:  33%|███▎      | 119/360 [04:15<08:18,  2.07s/it]"
     ]
    },
    {
     "name": "stderr",
     "output_type": "stream",
     "text": [
      "\r\n",
      "Processing images:  33%|███▎      | 120/360 [04:18<08:48,  2.20s/it]"
     ]
    },
    {
     "name": "stderr",
     "output_type": "stream",
     "text": [
      "\r\n",
      "Processing images:  34%|███▎      | 121/360 [04:19<08:13,  2.06s/it]"
     ]
    },
    {
     "name": "stderr",
     "output_type": "stream",
     "text": [
      "\r\n",
      "Processing images:  34%|███▍      | 122/360 [04:21<07:36,  1.92s/it]"
     ]
    },
    {
     "name": "stderr",
     "output_type": "stream",
     "text": [
      "\r\n",
      "Processing images:  34%|███▍      | 123/360 [04:23<07:22,  1.87s/it]"
     ]
    },
    {
     "name": "stderr",
     "output_type": "stream",
     "text": [
      "\r\n",
      "Processing images:  34%|███▍      | 124/360 [04:24<06:47,  1.73s/it]"
     ]
    },
    {
     "name": "stderr",
     "output_type": "stream",
     "text": [
      "\r\n",
      "Processing images:  35%|███▍      | 125/360 [04:26<07:07,  1.82s/it]"
     ]
    },
    {
     "name": "stderr",
     "output_type": "stream",
     "text": [
      "\r\n",
      "Processing images:  35%|███▌      | 126/360 [04:28<07:16,  1.86s/it]"
     ]
    },
    {
     "name": "stderr",
     "output_type": "stream",
     "text": [
      "\r\n",
      "Processing images:  35%|███▌      | 127/360 [04:30<07:05,  1.83s/it]"
     ]
    },
    {
     "name": "stderr",
     "output_type": "stream",
     "text": [
      "\r\n",
      "Processing images:  36%|███▌      | 128/360 [04:32<07:10,  1.86s/it]"
     ]
    },
    {
     "name": "stderr",
     "output_type": "stream",
     "text": [
      "\r\n",
      "Processing images:  36%|███▌      | 129/360 [04:34<06:54,  1.79s/it]"
     ]
    },
    {
     "name": "stderr",
     "output_type": "stream",
     "text": [
      "\r\n",
      "Processing images:  36%|███▌      | 130/360 [04:36<07:17,  1.90s/it]"
     ]
    },
    {
     "name": "stderr",
     "output_type": "stream",
     "text": [
      "\r\n",
      "Processing images:  36%|███▋      | 131/360 [04:38<07:38,  2.00s/it]"
     ]
    },
    {
     "name": "stderr",
     "output_type": "stream",
     "text": [
      "\r\n",
      "Processing images:  37%|███▋      | 132/360 [04:40<08:09,  2.15s/it]"
     ]
    },
    {
     "name": "stderr",
     "output_type": "stream",
     "text": [
      "\r\n",
      "Processing images:  37%|███▋      | 133/360 [04:42<07:48,  2.06s/it]"
     ]
    },
    {
     "name": "stderr",
     "output_type": "stream",
     "text": [
      "\r\n",
      "Processing images:  37%|███▋      | 134/360 [04:44<07:28,  1.99s/it]"
     ]
    },
    {
     "name": "stderr",
     "output_type": "stream",
     "text": [
      "\r\n",
      "Processing images:  38%|███▊      | 135/360 [04:47<08:30,  2.27s/it]"
     ]
    },
    {
     "name": "stderr",
     "output_type": "stream",
     "text": [
      "\r\n",
      "Processing images:  38%|███▊      | 136/360 [04:49<08:08,  2.18s/it]"
     ]
    },
    {
     "name": "stderr",
     "output_type": "stream",
     "text": [
      "\r\n",
      "Processing images:  38%|███▊      | 137/360 [04:51<08:10,  2.20s/it]"
     ]
    },
    {
     "name": "stderr",
     "output_type": "stream",
     "text": [
      "\r\n",
      "Processing images:  38%|███▊      | 138/360 [04:53<07:51,  2.12s/it]"
     ]
    },
    {
     "name": "stderr",
     "output_type": "stream",
     "text": [
      "\r\n",
      "Processing images:  39%|███▊      | 139/360 [04:59<11:37,  3.15s/it]"
     ]
    },
    {
     "name": "stderr",
     "output_type": "stream",
     "text": [
      "\r\n",
      "Processing images:  39%|███▉      | 140/360 [05:01<10:03,  2.74s/it]"
     ]
    },
    {
     "name": "stderr",
     "output_type": "stream",
     "text": [
      "\r\n",
      "Processing images:  39%|███▉      | 141/360 [05:03<09:29,  2.60s/it]"
     ]
    },
    {
     "name": "stderr",
     "output_type": "stream",
     "text": [
      "\r\n",
      "Processing images:  39%|███▉      | 142/360 [05:05<09:10,  2.52s/it]"
     ]
    },
    {
     "name": "stderr",
     "output_type": "stream",
     "text": [
      "\r\n",
      "Processing images:  40%|███▉      | 143/360 [05:08<09:19,  2.58s/it]"
     ]
    },
    {
     "name": "stderr",
     "output_type": "stream",
     "text": [
      "\r\n",
      "Processing images:  40%|████      | 144/360 [05:09<08:05,  2.25s/it]"
     ]
    },
    {
     "name": "stderr",
     "output_type": "stream",
     "text": [
      "\r\n",
      "Processing images:  40%|████      | 145/360 [05:11<07:31,  2.10s/it]"
     ]
    },
    {
     "name": "stderr",
     "output_type": "stream",
     "text": [
      "\r\n",
      "Processing images:  41%|████      | 146/360 [05:13<07:12,  2.02s/it]"
     ]
    },
    {
     "name": "stderr",
     "output_type": "stream",
     "text": [
      "\r\n",
      "Processing images:  41%|████      | 147/360 [05:15<06:57,  1.96s/it]"
     ]
    },
    {
     "name": "stderr",
     "output_type": "stream",
     "text": [
      "\r\n",
      "Processing images:  41%|████      | 148/360 [05:17<07:22,  2.09s/it]"
     ]
    },
    {
     "name": "stderr",
     "output_type": "stream",
     "text": [
      "\r\n",
      "Processing images:  41%|████▏     | 149/360 [05:19<07:37,  2.17s/it]"
     ]
    },
    {
     "name": "stderr",
     "output_type": "stream",
     "text": [
      "\r\n",
      "Processing images:  42%|████▏     | 150/360 [05:21<07:00,  2.00s/it]"
     ]
    },
    {
     "name": "stderr",
     "output_type": "stream",
     "text": [
      "\r\n",
      "Processing images:  42%|████▏     | 151/360 [05:23<07:02,  2.02s/it]"
     ]
    },
    {
     "name": "stderr",
     "output_type": "stream",
     "text": [
      "\r\n",
      "Processing images:  42%|████▏     | 152/360 [05:25<06:23,  1.85s/it]"
     ]
    },
    {
     "name": "stderr",
     "output_type": "stream",
     "text": [
      "\r\n",
      "Processing images:  42%|████▎     | 153/360 [05:26<06:20,  1.84s/it]"
     ]
    },
    {
     "name": "stderr",
     "output_type": "stream",
     "text": [
      "\r\n",
      "Processing images:  43%|████▎     | 154/360 [05:29<06:41,  1.95s/it]"
     ]
    },
    {
     "name": "stderr",
     "output_type": "stream",
     "text": [
      "\r\n",
      "Processing images:  43%|████▎     | 155/360 [05:30<06:25,  1.88s/it]"
     ]
    },
    {
     "name": "stderr",
     "output_type": "stream",
     "text": [
      "\r\n",
      "Processing images:  43%|████▎     | 156/360 [05:32<06:29,  1.91s/it]"
     ]
    },
    {
     "name": "stderr",
     "output_type": "stream",
     "text": [
      "\r\n",
      "Processing images:  44%|████▎     | 157/360 [05:34<06:22,  1.88s/it]"
     ]
    },
    {
     "name": "stderr",
     "output_type": "stream",
     "text": [
      "\r\n",
      "Processing images:  44%|████▍     | 158/360 [05:36<06:09,  1.83s/it]"
     ]
    },
    {
     "name": "stderr",
     "output_type": "stream",
     "text": [
      "\r\n",
      "Processing images:  44%|████▍     | 159/360 [05:38<06:49,  2.04s/it]"
     ]
    },
    {
     "name": "stderr",
     "output_type": "stream",
     "text": [
      "\r\n",
      "Processing images:  44%|████▍     | 160/360 [05:40<06:23,  1.92s/it]"
     ]
    },
    {
     "name": "stderr",
     "output_type": "stream",
     "text": [
      "\r\n",
      "Processing images:  45%|████▍     | 161/360 [05:42<06:23,  1.93s/it]"
     ]
    },
    {
     "name": "stderr",
     "output_type": "stream",
     "text": [
      "\r\n",
      "Processing images:  45%|████▌     | 162/360 [05:46<08:14,  2.50s/it]"
     ]
    },
    {
     "name": "stderr",
     "output_type": "stream",
     "text": [
      "\r\n",
      "Processing images:  45%|████▌     | 163/360 [05:48<07:39,  2.33s/it]"
     ]
    },
    {
     "name": "stderr",
     "output_type": "stream",
     "text": [
      "\r\n",
      "Processing images:  46%|████▌     | 164/360 [05:50<07:49,  2.39s/it]"
     ]
    },
    {
     "name": "stderr",
     "output_type": "stream",
     "text": [
      "\r\n",
      "Processing images:  46%|████▌     | 165/360 [05:52<07:30,  2.31s/it]"
     ]
    },
    {
     "name": "stderr",
     "output_type": "stream",
     "text": [
      "\r\n",
      "Processing images:  46%|████▌     | 166/360 [05:55<07:54,  2.45s/it]"
     ]
    },
    {
     "name": "stderr",
     "output_type": "stream",
     "text": [
      "\r\n",
      "Processing images:  46%|████▋     | 167/360 [05:57<07:19,  2.28s/it]"
     ]
    },
    {
     "name": "stderr",
     "output_type": "stream",
     "text": [
      "\r\n",
      "Processing images:  47%|████▋     | 168/360 [05:59<06:41,  2.09s/it]"
     ]
    },
    {
     "name": "stderr",
     "output_type": "stream",
     "text": [
      "\r\n",
      "Processing images:  47%|████▋     | 169/360 [06:03<09:12,  2.90s/it]"
     ]
    },
    {
     "name": "stderr",
     "output_type": "stream",
     "text": [
      "\r\n",
      "Processing images:  47%|████▋     | 170/360 [06:08<10:28,  3.31s/it]"
     ]
    },
    {
     "name": "stderr",
     "output_type": "stream",
     "text": [
      "\r\n",
      "Processing images:  48%|████▊     | 171/360 [06:10<09:43,  3.09s/it]"
     ]
    },
    {
     "name": "stderr",
     "output_type": "stream",
     "text": [
      "\r\n",
      "Processing images:  48%|████▊     | 172/360 [06:12<08:35,  2.74s/it]"
     ]
    },
    {
     "name": "stderr",
     "output_type": "stream",
     "text": [
      "\r\n",
      "Processing images:  48%|████▊     | 173/360 [06:15<08:11,  2.63s/it]"
     ]
    },
    {
     "name": "stderr",
     "output_type": "stream",
     "text": [
      "\r\n",
      "Processing images:  48%|████▊     | 174/360 [06:17<07:42,  2.49s/it]"
     ]
    },
    {
     "name": "stderr",
     "output_type": "stream",
     "text": [
      "\r\n",
      "Processing images:  49%|████▊     | 175/360 [06:18<06:28,  2.10s/it]"
     ]
    },
    {
     "name": "stderr",
     "output_type": "stream",
     "text": [
      "\r\n",
      "Processing images:  49%|████▉     | 176/360 [06:20<06:50,  2.23s/it]"
     ]
    },
    {
     "name": "stderr",
     "output_type": "stream",
     "text": [
      "\r\n",
      "Processing images:  49%|████▉     | 177/360 [06:22<05:46,  1.90s/it]"
     ]
    },
    {
     "name": "stderr",
     "output_type": "stream",
     "text": [
      "\r\n",
      "Processing images:  49%|████▉     | 178/360 [06:23<05:35,  1.85s/it]"
     ]
    },
    {
     "name": "stderr",
     "output_type": "stream",
     "text": [
      "\r\n",
      "Processing images:  50%|████▉     | 179/360 [06:26<05:56,  1.97s/it]"
     ]
    },
    {
     "name": "stderr",
     "output_type": "stream",
     "text": [
      "\r\n",
      "Processing images:  50%|█████     | 180/360 [06:27<05:22,  1.79s/it]"
     ]
    },
    {
     "name": "stderr",
     "output_type": "stream",
     "text": [
      "\r\n",
      "Processing images:  50%|█████     | 181/360 [06:28<05:04,  1.70s/it]"
     ]
    },
    {
     "name": "stderr",
     "output_type": "stream",
     "text": [
      "\r\n",
      "Processing images:  51%|█████     | 182/360 [06:30<05:01,  1.69s/it]"
     ]
    },
    {
     "name": "stderr",
     "output_type": "stream",
     "text": [
      "\r\n",
      "Processing images:  51%|█████     | 183/360 [06:34<06:41,  2.27s/it]"
     ]
    },
    {
     "name": "stderr",
     "output_type": "stream",
     "text": [
      "\r\n",
      "Processing images:  51%|█████     | 184/360 [06:35<05:36,  1.91s/it]"
     ]
    },
    {
     "name": "stderr",
     "output_type": "stream",
     "text": [
      "\r\n",
      "Processing images:  51%|█████▏    | 185/360 [06:37<05:27,  1.87s/it]"
     ]
    },
    {
     "name": "stderr",
     "output_type": "stream",
     "text": [
      "\r\n",
      "Processing images:  52%|█████▏    | 186/360 [06:39<05:32,  1.91s/it]"
     ]
    },
    {
     "name": "stderr",
     "output_type": "stream",
     "text": [
      "\r\n",
      "Processing images:  52%|█████▏    | 187/360 [06:41<06:00,  2.08s/it]"
     ]
    },
    {
     "name": "stderr",
     "output_type": "stream",
     "text": [
      "\r\n",
      "Processing images:  52%|█████▏    | 188/360 [06:43<05:32,  1.93s/it]"
     ]
    },
    {
     "name": "stderr",
     "output_type": "stream",
     "text": [
      "\r\n",
      "Processing images:  52%|█████▎    | 189/360 [06:44<05:12,  1.83s/it]"
     ]
    },
    {
     "name": "stderr",
     "output_type": "stream",
     "text": [
      "\r\n",
      "Processing images:  53%|█████▎    | 190/360 [06:46<05:25,  1.91s/it]"
     ]
    },
    {
     "name": "stderr",
     "output_type": "stream",
     "text": [
      "\r\n",
      "Processing images:  53%|█████▎    | 191/360 [06:48<05:21,  1.90s/it]"
     ]
    },
    {
     "name": "stderr",
     "output_type": "stream",
     "text": [
      "\r\n",
      "Processing images:  53%|█████▎    | 192/360 [06:50<05:32,  1.98s/it]"
     ]
    },
    {
     "name": "stderr",
     "output_type": "stream",
     "text": [
      "\r\n",
      "Processing images:  54%|█████▎    | 193/360 [06:52<05:09,  1.85s/it]"
     ]
    },
    {
     "name": "stderr",
     "output_type": "stream",
     "text": [
      "\r\n",
      "Processing images:  54%|█████▍    | 194/360 [06:53<04:51,  1.76s/it]"
     ]
    },
    {
     "name": "stderr",
     "output_type": "stream",
     "text": [
      "\r\n",
      "Processing images:  54%|█████▍    | 195/360 [06:55<04:54,  1.78s/it]"
     ]
    },
    {
     "name": "stderr",
     "output_type": "stream",
     "text": [
      "\r\n",
      "Processing images:  54%|█████▍    | 196/360 [06:57<04:49,  1.77s/it]"
     ]
    },
    {
     "name": "stderr",
     "output_type": "stream",
     "text": [
      "\r\n",
      "Processing images:  55%|█████▍    | 197/360 [06:59<04:56,  1.82s/it]"
     ]
    },
    {
     "name": "stderr",
     "output_type": "stream",
     "text": [
      "\r\n",
      "Processing images:  55%|█████▌    | 198/360 [07:01<04:55,  1.83s/it]"
     ]
    },
    {
     "name": "stderr",
     "output_type": "stream",
     "text": [
      "\r\n",
      "Processing images:  55%|█████▌    | 199/360 [07:02<04:39,  1.74s/it]"
     ]
    },
    {
     "name": "stderr",
     "output_type": "stream",
     "text": [
      "\r\n",
      "Processing images:  56%|█████▌    | 200/360 [07:05<05:01,  1.88s/it]"
     ]
    },
    {
     "name": "stderr",
     "output_type": "stream",
     "text": [
      "\r\n",
      "Processing images:  56%|█████▌    | 201/360 [07:09<07:12,  2.72s/it]"
     ]
    },
    {
     "name": "stderr",
     "output_type": "stream",
     "text": [
      "\r\n",
      "Processing images:  56%|█████▌    | 202/360 [07:11<06:23,  2.43s/it]"
     ]
    },
    {
     "name": "stderr",
     "output_type": "stream",
     "text": [
      "\r\n",
      "Processing images:  56%|█████▋    | 203/360 [07:13<05:41,  2.17s/it]"
     ]
    },
    {
     "name": "stderr",
     "output_type": "stream",
     "text": [
      "\r\n",
      "Processing images:  57%|█████▋    | 204/360 [07:16<06:18,  2.43s/it]"
     ]
    },
    {
     "name": "stderr",
     "output_type": "stream",
     "text": [
      "\r\n",
      "Processing images:  57%|█████▋    | 205/360 [07:18<06:02,  2.34s/it]"
     ]
    },
    {
     "name": "stderr",
     "output_type": "stream",
     "text": [
      "\r\n",
      "Processing images:  57%|█████▋    | 206/360 [07:20<05:34,  2.17s/it]"
     ]
    },
    {
     "name": "stderr",
     "output_type": "stream",
     "text": [
      "\r\n",
      "Processing images:  57%|█████▊    | 207/360 [07:21<05:05,  2.00s/it]"
     ]
    },
    {
     "name": "stderr",
     "output_type": "stream",
     "text": [
      "\r\n",
      "Processing images:  58%|█████▊    | 208/360 [07:23<04:41,  1.85s/it]"
     ]
    },
    {
     "name": "stderr",
     "output_type": "stream",
     "text": [
      "\r\n",
      "Processing images:  58%|█████▊    | 209/360 [07:24<04:17,  1.71s/it]"
     ]
    },
    {
     "name": "stderr",
     "output_type": "stream",
     "text": [
      "\r\n",
      "Processing images:  58%|█████▊    | 210/360 [07:25<03:53,  1.55s/it]"
     ]
    },
    {
     "name": "stderr",
     "output_type": "stream",
     "text": [
      "\r\n",
      "Processing images:  59%|█████▊    | 211/360 [07:26<03:39,  1.47s/it]"
     ]
    },
    {
     "name": "stderr",
     "output_type": "stream",
     "text": [
      "\r\n",
      "Processing images:  59%|█████▉    | 212/360 [07:29<04:24,  1.79s/it]"
     ]
    },
    {
     "name": "stderr",
     "output_type": "stream",
     "text": [
      "\r\n",
      "Processing images:  59%|█████▉    | 213/360 [07:31<04:25,  1.81s/it]"
     ]
    },
    {
     "name": "stderr",
     "output_type": "stream",
     "text": [
      "\r\n",
      "Processing images:  59%|█████▉    | 214/360 [07:33<04:33,  1.87s/it]"
     ]
    },
    {
     "name": "stderr",
     "output_type": "stream",
     "text": [
      "\r\n",
      "Processing images:  60%|█████▉    | 215/360 [07:34<04:21,  1.80s/it]"
     ]
    },
    {
     "name": "stderr",
     "output_type": "stream",
     "text": [
      "\r\n",
      "Processing images:  60%|██████    | 216/360 [07:36<04:24,  1.84s/it]"
     ]
    },
    {
     "name": "stderr",
     "output_type": "stream",
     "text": [
      "\r\n",
      "Processing images:  60%|██████    | 217/360 [07:39<04:48,  2.02s/it]"
     ]
    },
    {
     "name": "stderr",
     "output_type": "stream",
     "text": [
      "\r\n",
      "Processing images:  61%|██████    | 218/360 [07:41<04:42,  1.99s/it]"
     ]
    },
    {
     "name": "stderr",
     "output_type": "stream",
     "text": [
      "\r\n",
      "Processing images:  61%|██████    | 219/360 [07:44<05:13,  2.23s/it]"
     ]
    },
    {
     "name": "stderr",
     "output_type": "stream",
     "text": [
      "\r\n",
      "Processing images:  61%|██████    | 220/360 [07:46<05:38,  2.42s/it]"
     ]
    },
    {
     "name": "stderr",
     "output_type": "stream",
     "text": [
      "\r\n",
      "Processing images:  61%|██████▏   | 221/360 [07:48<04:59,  2.15s/it]"
     ]
    },
    {
     "name": "stderr",
     "output_type": "stream",
     "text": [
      "\r\n",
      "Processing images:  62%|██████▏   | 222/360 [07:50<04:46,  2.08s/it]"
     ]
    },
    {
     "name": "stderr",
     "output_type": "stream",
     "text": [
      "\r\n",
      "Processing images:  62%|██████▏   | 223/360 [07:54<06:10,  2.71s/it]"
     ]
    },
    {
     "name": "stderr",
     "output_type": "stream",
     "text": [
      "\r\n",
      "Processing images:  62%|██████▏   | 224/360 [07:56<05:41,  2.51s/it]"
     ]
    },
    {
     "name": "stderr",
     "output_type": "stream",
     "text": [
      "\r\n",
      "Processing images:  62%|██████▎   | 225/360 [08:01<07:08,  3.17s/it]"
     ]
    },
    {
     "name": "stderr",
     "output_type": "stream",
     "text": [
      "\r\n",
      "Processing images:  63%|██████▎   | 226/360 [08:02<06:04,  2.72s/it]"
     ]
    },
    {
     "name": "stderr",
     "output_type": "stream",
     "text": [
      "\r\n",
      "Processing images:  63%|██████▎   | 227/360 [08:04<05:25,  2.45s/it]"
     ]
    },
    {
     "name": "stderr",
     "output_type": "stream",
     "text": [
      "\r\n",
      "Processing images:  63%|██████▎   | 228/360 [08:06<04:42,  2.14s/it]"
     ]
    },
    {
     "name": "stderr",
     "output_type": "stream",
     "text": [
      "\r\n",
      "Processing images:  64%|██████▎   | 229/360 [08:08<04:29,  2.06s/it]"
     ]
    },
    {
     "name": "stderr",
     "output_type": "stream",
     "text": [
      "\r\n",
      "Processing images:  64%|██████▍   | 230/360 [08:09<04:20,  2.00s/it]"
     ]
    },
    {
     "name": "stderr",
     "output_type": "stream",
     "text": [
      "\r\n",
      "Processing images:  64%|██████▍   | 231/360 [08:12<04:52,  2.27s/it]"
     ]
    },
    {
     "name": "stderr",
     "output_type": "stream",
     "text": [
      "\r\n",
      "Processing images:  64%|██████▍   | 232/360 [08:15<05:11,  2.43s/it]"
     ]
    },
    {
     "name": "stderr",
     "output_type": "stream",
     "text": [
      "\r\n",
      "Processing images:  65%|██████▍   | 233/360 [08:17<05:01,  2.37s/it]"
     ]
    },
    {
     "name": "stderr",
     "output_type": "stream",
     "text": [
      "\r\n",
      "Processing images:  65%|██████▌   | 234/360 [08:20<04:54,  2.33s/it]"
     ]
    },
    {
     "name": "stderr",
     "output_type": "stream",
     "text": [
      "\r\n",
      "Processing images:  65%|██████▌   | 235/360 [08:22<04:49,  2.32s/it]"
     ]
    },
    {
     "name": "stderr",
     "output_type": "stream",
     "text": [
      "\r\n",
      "Processing images:  66%|██████▌   | 236/360 [08:27<06:44,  3.26s/it]"
     ]
    },
    {
     "name": "stderr",
     "output_type": "stream",
     "text": [
      "\r\n",
      "Processing images:  66%|██████▌   | 237/360 [08:30<06:20,  3.09s/it]"
     ]
    },
    {
     "name": "stderr",
     "output_type": "stream",
     "text": [
      "\r\n",
      "Processing images:  66%|██████▌   | 238/360 [08:33<05:54,  2.91s/it]"
     ]
    },
    {
     "name": "stderr",
     "output_type": "stream",
     "text": [
      "\r\n",
      "Processing images:  66%|██████▋   | 239/360 [08:35<05:47,  2.87s/it]"
     ]
    },
    {
     "name": "stderr",
     "output_type": "stream",
     "text": [
      "\r\n",
      "Processing images:  67%|██████▋   | 240/360 [08:38<05:27,  2.73s/it]"
     ]
    },
    {
     "name": "stderr",
     "output_type": "stream",
     "text": [
      "\r\n",
      "Processing images:  67%|██████▋   | 241/360 [08:39<04:47,  2.42s/it]"
     ]
    },
    {
     "name": "stderr",
     "output_type": "stream",
     "text": [
      "\r\n",
      "Processing images:  67%|██████▋   | 242/360 [08:41<04:19,  2.20s/it]"
     ]
    },
    {
     "name": "stderr",
     "output_type": "stream",
     "text": [
      "\r\n",
      "Processing images:  68%|██████▊   | 243/360 [08:43<04:04,  2.09s/it]"
     ]
    },
    {
     "name": "stderr",
     "output_type": "stream",
     "text": [
      "\r\n",
      "Processing images:  68%|██████▊   | 244/360 [08:45<03:52,  2.00s/it]"
     ]
    },
    {
     "name": "stderr",
     "output_type": "stream",
     "text": [
      "\r\n",
      "Processing images:  68%|██████▊   | 245/360 [08:47<04:11,  2.19s/it]"
     ]
    },
    {
     "name": "stderr",
     "output_type": "stream",
     "text": [
      "\r\n",
      "Processing images:  68%|██████▊   | 246/360 [08:49<04:01,  2.12s/it]"
     ]
    },
    {
     "name": "stderr",
     "output_type": "stream",
     "text": [
      "\r\n",
      "Processing images:  69%|██████▊   | 247/360 [08:51<03:57,  2.10s/it]"
     ]
    },
    {
     "name": "stderr",
     "output_type": "stream",
     "text": [
      "\r\n",
      "Processing images:  69%|██████▉   | 248/360 [08:54<04:06,  2.20s/it]"
     ]
    },
    {
     "name": "stderr",
     "output_type": "stream",
     "text": [
      "\r\n",
      "Processing images:  69%|██████▉   | 249/360 [08:56<03:50,  2.08s/it]"
     ]
    },
    {
     "name": "stderr",
     "output_type": "stream",
     "text": [
      "\r\n",
      "Processing images:  69%|██████▉   | 250/360 [08:58<03:45,  2.05s/it]"
     ]
    },
    {
     "name": "stderr",
     "output_type": "stream",
     "text": [
      "\r\n",
      "Processing images:  70%|██████▉   | 251/360 [09:06<07:09,  3.94s/it]"
     ]
    },
    {
     "name": "stderr",
     "output_type": "stream",
     "text": [
      "\r\n",
      "Processing images:  70%|███████   | 252/360 [09:08<05:59,  3.33s/it]"
     ]
    },
    {
     "name": "stderr",
     "output_type": "stream",
     "text": [
      "\r\n",
      "Processing images:  70%|███████   | 253/360 [09:13<07:06,  3.98s/it]"
     ]
    },
    {
     "name": "stderr",
     "output_type": "stream",
     "text": [
      "\r\n",
      "Processing images:  71%|███████   | 254/360 [09:15<05:50,  3.31s/it]"
     ]
    },
    {
     "name": "stderr",
     "output_type": "stream",
     "text": [
      "\r\n",
      "Processing images:  71%|███████   | 255/360 [09:17<04:59,  2.85s/it]"
     ]
    },
    {
     "name": "stderr",
     "output_type": "stream",
     "text": [
      "\r\n",
      "Processing images:  71%|███████   | 256/360 [09:19<04:25,  2.55s/it]"
     ]
    },
    {
     "name": "stderr",
     "output_type": "stream",
     "text": [
      "\r\n",
      "Processing images:  71%|███████▏  | 257/360 [09:22<04:56,  2.88s/it]"
     ]
    },
    {
     "name": "stderr",
     "output_type": "stream",
     "text": [
      "\r\n",
      "Processing images:  72%|███████▏  | 258/360 [09:24<04:23,  2.59s/it]"
     ]
    },
    {
     "name": "stderr",
     "output_type": "stream",
     "text": [
      "\r\n",
      "Processing images:  72%|███████▏  | 259/360 [09:27<04:11,  2.49s/it]"
     ]
    },
    {
     "name": "stderr",
     "output_type": "stream",
     "text": [
      "\r\n",
      "Processing images:  72%|███████▏  | 260/360 [09:29<03:57,  2.38s/it]"
     ]
    },
    {
     "name": "stderr",
     "output_type": "stream",
     "text": [
      "\r\n",
      "Processing images:  72%|███████▎  | 261/360 [09:31<03:47,  2.30s/it]"
     ]
    },
    {
     "name": "stderr",
     "output_type": "stream",
     "text": [
      "\r\n",
      "Processing images:  73%|███████▎  | 262/360 [09:33<03:34,  2.19s/it]"
     ]
    },
    {
     "name": "stderr",
     "output_type": "stream",
     "text": [
      "\r\n",
      "Processing images:  73%|███████▎  | 263/360 [09:36<04:16,  2.64s/it]"
     ]
    },
    {
     "name": "stderr",
     "output_type": "stream",
     "text": [
      "\r\n",
      "Processing images:  73%|███████▎  | 264/360 [09:39<04:10,  2.61s/it]"
     ]
    },
    {
     "name": "stderr",
     "output_type": "stream",
     "text": [
      "\r\n",
      "Processing images:  74%|███████▎  | 265/360 [09:42<04:19,  2.73s/it]"
     ]
    },
    {
     "name": "stderr",
     "output_type": "stream",
     "text": [
      "\r\n",
      "Processing images:  74%|███████▍  | 266/360 [09:44<03:49,  2.44s/it]"
     ]
    },
    {
     "name": "stderr",
     "output_type": "stream",
     "text": [
      "\r\n",
      "Processing images:  74%|███████▍  | 267/360 [09:46<03:39,  2.36s/it]"
     ]
    },
    {
     "name": "stderr",
     "output_type": "stream",
     "text": [
      "\r\n",
      "Processing images:  74%|███████▍  | 268/360 [09:50<04:30,  2.94s/it]"
     ]
    },
    {
     "name": "stderr",
     "output_type": "stream",
     "text": [
      "\r\n",
      "Processing images:  75%|███████▍  | 269/360 [09:52<03:56,  2.60s/it]"
     ]
    },
    {
     "name": "stderr",
     "output_type": "stream",
     "text": [
      "\r\n",
      "Processing images:  75%|███████▌  | 270/360 [09:54<03:34,  2.38s/it]"
     ]
    },
    {
     "name": "stderr",
     "output_type": "stream",
     "text": [
      "\r\n",
      "Processing images:  75%|███████▌  | 271/360 [09:56<03:21,  2.26s/it]"
     ]
    },
    {
     "name": "stderr",
     "output_type": "stream",
     "text": [
      "\r\n",
      "Processing images:  76%|███████▌  | 272/360 [09:58<03:09,  2.15s/it]"
     ]
    },
    {
     "name": "stderr",
     "output_type": "stream",
     "text": [
      "\r\n",
      "Processing images:  76%|███████▌  | 273/360 [10:01<03:28,  2.39s/it]"
     ]
    },
    {
     "name": "stderr",
     "output_type": "stream",
     "text": [
      "\r\n",
      "Processing images:  76%|███████▌  | 274/360 [10:03<03:19,  2.32s/it]"
     ]
    },
    {
     "name": "stderr",
     "output_type": "stream",
     "text": [
      "\r\n",
      "Processing images:  76%|███████▋  | 275/360 [10:04<02:59,  2.12s/it]"
     ]
    },
    {
     "name": "stderr",
     "output_type": "stream",
     "text": [
      "\r\n",
      "Processing images:  77%|███████▋  | 276/360 [10:06<02:46,  1.98s/it]"
     ]
    },
    {
     "name": "stderr",
     "output_type": "stream",
     "text": [
      "\r\n",
      "Processing images:  77%|███████▋  | 277/360 [10:08<02:33,  1.85s/it]"
     ]
    },
    {
     "name": "stderr",
     "output_type": "stream",
     "text": [
      "\r\n",
      "Processing images:  77%|███████▋  | 278/360 [10:10<02:40,  1.95s/it]"
     ]
    },
    {
     "name": "stderr",
     "output_type": "stream",
     "text": [
      "\r\n",
      "Processing images:  78%|███████▊  | 279/360 [10:12<02:37,  1.94s/it]"
     ]
    },
    {
     "name": "stderr",
     "output_type": "stream",
     "text": [
      "\r\n",
      "Processing images:  78%|███████▊  | 280/360 [10:14<02:48,  2.11s/it]"
     ]
    },
    {
     "name": "stderr",
     "output_type": "stream",
     "text": [
      "\r\n",
      "Processing images:  78%|███████▊  | 281/360 [10:16<02:44,  2.09s/it]"
     ]
    },
    {
     "name": "stderr",
     "output_type": "stream",
     "text": [
      "\r\n",
      "Processing images:  78%|███████▊  | 282/360 [10:18<02:37,  2.01s/it]"
     ]
    },
    {
     "name": "stderr",
     "output_type": "stream",
     "text": [
      "\r\n",
      "Processing images:  79%|███████▊  | 283/360 [10:20<02:30,  1.96s/it]"
     ]
    },
    {
     "name": "stderr",
     "output_type": "stream",
     "text": [
      "\r\n",
      "Processing images:  79%|███████▉  | 284/360 [10:22<02:31,  1.99s/it]"
     ]
    },
    {
     "name": "stderr",
     "output_type": "stream",
     "text": [
      "\r\n",
      "Processing images:  79%|███████▉  | 285/360 [10:24<02:36,  2.08s/it]"
     ]
    },
    {
     "name": "stderr",
     "output_type": "stream",
     "text": [
      "\r\n",
      "Processing images:  79%|███████▉  | 286/360 [10:27<02:55,  2.37s/it]"
     ]
    },
    {
     "name": "stderr",
     "output_type": "stream",
     "text": [
      "\r\n",
      "Processing images:  80%|███████▉  | 287/360 [10:30<03:07,  2.56s/it]"
     ]
    },
    {
     "name": "stderr",
     "output_type": "stream",
     "text": [
      "\r\n",
      "Processing images:  80%|████████  | 288/360 [10:32<02:52,  2.40s/it]"
     ]
    },
    {
     "name": "stderr",
     "output_type": "stream",
     "text": [
      "\r\n",
      "Processing images:  80%|████████  | 289/360 [10:34<02:42,  2.29s/it]"
     ]
    },
    {
     "name": "stderr",
     "output_type": "stream",
     "text": [
      "\r\n",
      "Processing images:  81%|████████  | 290/360 [10:37<02:34,  2.21s/it]"
     ]
    },
    {
     "name": "stderr",
     "output_type": "stream",
     "text": [
      "\r\n",
      "Processing images:  81%|████████  | 291/360 [10:39<02:39,  2.31s/it]"
     ]
    },
    {
     "name": "stderr",
     "output_type": "stream",
     "text": [
      "\r\n",
      "Processing images:  81%|████████  | 292/360 [10:41<02:31,  2.22s/it]"
     ]
    },
    {
     "name": "stderr",
     "output_type": "stream",
     "text": [
      "\r\n",
      "Processing images:  81%|████████▏ | 293/360 [10:44<02:41,  2.41s/it]"
     ]
    },
    {
     "name": "stderr",
     "output_type": "stream",
     "text": [
      "\r\n",
      "Processing images:  82%|████████▏ | 294/360 [10:46<02:37,  2.38s/it]"
     ]
    },
    {
     "name": "stderr",
     "output_type": "stream",
     "text": [
      "\r\n",
      "Processing images:  82%|████████▏ | 295/360 [10:48<02:27,  2.27s/it]"
     ]
    },
    {
     "name": "stderr",
     "output_type": "stream",
     "text": [
      "\r\n",
      "Processing images:  82%|████████▏ | 296/360 [10:50<02:17,  2.16s/it]"
     ]
    },
    {
     "name": "stderr",
     "output_type": "stream",
     "text": [
      "\r\n",
      "Processing images:  82%|████████▎ | 297/360 [10:53<02:38,  2.51s/it]"
     ]
    },
    {
     "name": "stderr",
     "output_type": "stream",
     "text": [
      "\r\n",
      "Processing images:  83%|████████▎ | 298/360 [10:58<03:08,  3.04s/it]"
     ]
    },
    {
     "name": "stderr",
     "output_type": "stream",
     "text": [
      "\r\n",
      "Processing images:  83%|████████▎ | 299/360 [10:59<02:39,  2.61s/it]"
     ]
    },
    {
     "name": "stderr",
     "output_type": "stream",
     "text": [
      "\r\n",
      "Processing images:  83%|████████▎ | 300/360 [11:02<02:29,  2.49s/it]"
     ]
    },
    {
     "name": "stderr",
     "output_type": "stream",
     "text": [
      "\r\n",
      "Processing images:  84%|████████▎ | 301/360 [11:04<02:24,  2.44s/it]"
     ]
    },
    {
     "name": "stderr",
     "output_type": "stream",
     "text": [
      "\r\n",
      "Processing images:  84%|████████▍ | 302/360 [11:06<02:13,  2.31s/it]"
     ]
    },
    {
     "name": "stderr",
     "output_type": "stream",
     "text": [
      "\r\n",
      "Processing images:  84%|████████▍ | 303/360 [11:08<02:16,  2.40s/it]"
     ]
    },
    {
     "name": "stderr",
     "output_type": "stream",
     "text": [
      "\r\n",
      "Processing images:  84%|████████▍ | 304/360 [11:11<02:10,  2.33s/it]"
     ]
    },
    {
     "name": "stderr",
     "output_type": "stream",
     "text": [
      "\r\n",
      "Processing images:  85%|████████▍ | 305/360 [11:14<02:20,  2.55s/it]"
     ]
    },
    {
     "name": "stderr",
     "output_type": "stream",
     "text": [
      "\r\n",
      "Processing images:  85%|████████▌ | 306/360 [11:16<02:15,  2.51s/it]"
     ]
    },
    {
     "name": "stderr",
     "output_type": "stream",
     "text": [
      "\r\n",
      "Processing images:  85%|████████▌ | 307/360 [11:18<02:03,  2.32s/it]"
     ]
    },
    {
     "name": "stderr",
     "output_type": "stream",
     "text": [
      "\r\n",
      "Processing images:  86%|████████▌ | 308/360 [11:20<01:53,  2.18s/it]"
     ]
    },
    {
     "name": "stderr",
     "output_type": "stream",
     "text": [
      "\r\n",
      "Processing images:  86%|████████▌ | 309/360 [11:22<01:46,  2.08s/it]"
     ]
    },
    {
     "name": "stderr",
     "output_type": "stream",
     "text": [
      "\r\n",
      "Processing images:  86%|████████▌ | 310/360 [11:24<01:44,  2.08s/it]"
     ]
    },
    {
     "name": "stderr",
     "output_type": "stream",
     "text": [
      "\r\n",
      "Processing images:  86%|████████▋ | 311/360 [11:25<01:33,  1.90s/it]"
     ]
    },
    {
     "name": "stderr",
     "output_type": "stream",
     "text": [
      "\r\n",
      "Processing images:  87%|████████▋ | 312/360 [11:27<01:30,  1.89s/it]"
     ]
    },
    {
     "name": "stderr",
     "output_type": "stream",
     "text": [
      "\r\n",
      "Processing images:  87%|████████▋ | 313/360 [11:29<01:31,  1.95s/it]"
     ]
    },
    {
     "name": "stderr",
     "output_type": "stream",
     "text": [
      "\r\n",
      "Processing images:  87%|████████▋ | 314/360 [11:31<01:25,  1.86s/it]"
     ]
    },
    {
     "name": "stderr",
     "output_type": "stream",
     "text": [
      "\r\n",
      "Processing images:  88%|████████▊ | 315/360 [11:33<01:25,  1.89s/it]"
     ]
    },
    {
     "name": "stderr",
     "output_type": "stream",
     "text": [
      "\r\n",
      "Processing images:  88%|████████▊ | 316/360 [11:36<01:36,  2.19s/it]"
     ]
    },
    {
     "name": "stderr",
     "output_type": "stream",
     "text": [
      "\r\n",
      "Processing images:  88%|████████▊ | 317/360 [11:38<01:35,  2.22s/it]"
     ]
    },
    {
     "name": "stderr",
     "output_type": "stream",
     "text": [
      "\r\n",
      "Processing images:  88%|████████▊ | 318/360 [11:40<01:28,  2.11s/it]"
     ]
    },
    {
     "name": "stderr",
     "output_type": "stream",
     "text": [
      "\r\n",
      "Processing images:  89%|████████▊ | 319/360 [11:43<01:44,  2.54s/it]"
     ]
    },
    {
     "name": "stderr",
     "output_type": "stream",
     "text": [
      "\r\n",
      "Processing images:  89%|████████▉ | 320/360 [11:45<01:32,  2.32s/it]"
     ]
    },
    {
     "name": "stderr",
     "output_type": "stream",
     "text": [
      "\r\n",
      "Processing images:  89%|████████▉ | 321/360 [11:47<01:28,  2.27s/it]"
     ]
    },
    {
     "name": "stderr",
     "output_type": "stream",
     "text": [
      "\r\n",
      "Processing images:  89%|████████▉ | 322/360 [11:49<01:22,  2.17s/it]"
     ]
    },
    {
     "name": "stderr",
     "output_type": "stream",
     "text": [
      "\r\n",
      "Processing images:  90%|████████▉ | 323/360 [11:51<01:17,  2.09s/it]"
     ]
    },
    {
     "name": "stderr",
     "output_type": "stream",
     "text": [
      "\r\n",
      "Processing images:  90%|█████████ | 324/360 [11:56<01:38,  2.75s/it]"
     ]
    },
    {
     "name": "stderr",
     "output_type": "stream",
     "text": [
      "\r\n",
      "Processing images:  90%|█████████ | 325/360 [12:03<02:30,  4.29s/it]"
     ]
    },
    {
     "name": "stderr",
     "output_type": "stream",
     "text": [
      "\r\n",
      "Processing images:  91%|█████████ | 326/360 [12:06<02:04,  3.65s/it]"
     ]
    },
    {
     "name": "stderr",
     "output_type": "stream",
     "text": [
      "\r\n",
      "Processing images:  91%|█████████ | 327/360 [12:07<01:41,  3.09s/it]"
     ]
    },
    {
     "name": "stderr",
     "output_type": "stream",
     "text": [
      "\r\n",
      "Processing images:  91%|█████████ | 328/360 [12:09<01:24,  2.64s/it]"
     ]
    },
    {
     "name": "stderr",
     "output_type": "stream",
     "text": [
      "\r\n",
      "Processing images:  91%|█████████▏| 329/360 [12:11<01:13,  2.37s/it]"
     ]
    },
    {
     "name": "stderr",
     "output_type": "stream",
     "text": [
      "\r\n",
      "Processing images:  92%|█████████▏| 330/360 [12:14<01:18,  2.60s/it]"
     ]
    },
    {
     "name": "stderr",
     "output_type": "stream",
     "text": [
      "\r\n",
      "Processing images:  92%|█████████▏| 331/360 [12:16<01:10,  2.43s/it]"
     ]
    },
    {
     "name": "stderr",
     "output_type": "stream",
     "text": [
      "\r\n",
      "Processing images:  92%|█████████▏| 332/360 [12:18<01:05,  2.33s/it]"
     ]
    },
    {
     "name": "stderr",
     "output_type": "stream",
     "text": [
      "\r\n",
      "Processing images:  92%|█████████▎| 333/360 [12:20<00:57,  2.14s/it]"
     ]
    },
    {
     "name": "stderr",
     "output_type": "stream",
     "text": [
      "\r\n",
      "Processing images:  93%|█████████▎| 334/360 [12:22<00:53,  2.07s/it]"
     ]
    },
    {
     "name": "stderr",
     "output_type": "stream",
     "text": [
      "\r\n",
      "Processing images:  93%|█████████▎| 335/360 [12:23<00:50,  2.02s/it]"
     ]
    },
    {
     "name": "stderr",
     "output_type": "stream",
     "text": [
      "\r\n",
      "Processing images:  93%|█████████▎| 336/360 [12:25<00:45,  1.89s/it]"
     ]
    },
    {
     "name": "stderr",
     "output_type": "stream",
     "text": [
      "\r\n",
      "Processing images:  94%|█████████▎| 337/360 [12:27<00:42,  1.84s/it]"
     ]
    },
    {
     "name": "stderr",
     "output_type": "stream",
     "text": [
      "\r\n",
      "Processing images:  94%|█████████▍| 338/360 [12:29<00:40,  1.82s/it]"
     ]
    },
    {
     "name": "stderr",
     "output_type": "stream",
     "text": [
      "\r\n",
      "Processing images:  94%|█████████▍| 339/360 [12:30<00:38,  1.85s/it]"
     ]
    },
    {
     "name": "stderr",
     "output_type": "stream",
     "text": [
      "\r\n",
      "Processing images:  94%|█████████▍| 340/360 [12:33<00:42,  2.15s/it]"
     ]
    },
    {
     "name": "stderr",
     "output_type": "stream",
     "text": [
      "\r\n",
      "Processing images:  95%|█████████▍| 341/360 [12:40<01:09,  3.64s/it]"
     ]
    },
    {
     "name": "stderr",
     "output_type": "stream",
     "text": [
      "\r\n",
      "Processing images:  95%|█████████▌| 342/360 [12:42<00:55,  3.08s/it]"
     ]
    },
    {
     "name": "stderr",
     "output_type": "stream",
     "text": [
      "\r\n",
      "Processing images:  95%|█████████▌| 343/360 [12:45<00:50,  2.97s/it]"
     ]
    },
    {
     "name": "stderr",
     "output_type": "stream",
     "text": [
      "\r\n",
      "Processing images:  96%|█████████▌| 344/360 [12:47<00:42,  2.63s/it]"
     ]
    },
    {
     "name": "stderr",
     "output_type": "stream",
     "text": [
      "\r\n",
      "Processing images:  96%|█████████▌| 345/360 [12:49<00:35,  2.37s/it]"
     ]
    },
    {
     "name": "stderr",
     "output_type": "stream",
     "text": [
      "\r\n",
      "Processing images:  96%|█████████▌| 346/360 [12:52<00:39,  2.80s/it]"
     ]
    },
    {
     "name": "stderr",
     "output_type": "stream",
     "text": [
      "\r\n",
      "Processing images:  96%|█████████▋| 347/360 [12:54<00:33,  2.57s/it]"
     ]
    },
    {
     "name": "stderr",
     "output_type": "stream",
     "text": [
      "\r\n",
      "Processing images:  97%|█████████▋| 348/360 [12:56<00:28,  2.41s/it]"
     ]
    },
    {
     "name": "stderr",
     "output_type": "stream",
     "text": [
      "\r\n",
      "Processing images:  97%|█████████▋| 349/360 [12:59<00:25,  2.34s/it]"
     ]
    },
    {
     "name": "stderr",
     "output_type": "stream",
     "text": [
      "\r\n",
      "Processing images:  97%|█████████▋| 350/360 [13:00<00:22,  2.21s/it]"
     ]
    },
    {
     "name": "stderr",
     "output_type": "stream",
     "text": [
      "\r\n",
      "Processing images:  98%|█████████▊| 351/360 [13:02<00:18,  2.02s/it]"
     ]
    },
    {
     "name": "stderr",
     "output_type": "stream",
     "text": [
      "\r\n",
      "Processing images:  98%|█████████▊| 352/360 [13:04<00:15,  1.92s/it]"
     ]
    },
    {
     "name": "stderr",
     "output_type": "stream",
     "text": [
      "\r\n",
      "Processing images:  98%|█████████▊| 353/360 [13:06<00:13,  1.87s/it]"
     ]
    },
    {
     "name": "stderr",
     "output_type": "stream",
     "text": [
      "\r\n",
      "Processing images:  98%|█████████▊| 354/360 [13:08<00:12,  2.15s/it]"
     ]
    },
    {
     "name": "stderr",
     "output_type": "stream",
     "text": [
      "\r\n",
      "Processing images:  99%|█████████▊| 355/360 [13:12<00:13,  2.62s/it]"
     ]
    },
    {
     "name": "stderr",
     "output_type": "stream",
     "text": [
      "\r\n",
      "Processing images:  99%|█████████▉| 356/360 [13:15<00:10,  2.61s/it]"
     ]
    },
    {
     "name": "stderr",
     "output_type": "stream",
     "text": [
      "\r\n",
      "Processing images:  99%|█████████▉| 357/360 [13:18<00:08,  2.70s/it]"
     ]
    },
    {
     "name": "stderr",
     "output_type": "stream",
     "text": [
      "\r\n",
      "Processing images:  99%|█████████▉| 358/360 [13:20<00:05,  2.53s/it]"
     ]
    },
    {
     "name": "stderr",
     "output_type": "stream",
     "text": [
      "\r\n",
      "Processing images: 100%|█████████▉| 359/360 [13:22<00:02,  2.35s/it]"
     ]
    },
    {
     "name": "stderr",
     "output_type": "stream",
     "text": [
      "\r\n",
      "Processing images: 100%|██████████| 360/360 [13:24<00:00,  2.35s/it]"
     ]
    },
    {
     "name": "stderr",
     "output_type": "stream",
     "text": [
      "\r\n",
      "Processing images: 100%|██████████| 360/360 [13:24<00:00,  2.23s/it]"
     ]
    },
    {
     "name": "stderr",
     "output_type": "stream",
     "text": [
      "\n"
     ]
    },
    {
     "name": "stdout",
     "output_type": "stream",
     "text": [
      "\n",
      "============================================================\n",
      "EVALUATION SUMMARY FOR QWEN2.5-VL\n",
      "============================================================\n",
      "📊 IMAGE PROCESSING SUMMARY:\n",
      "   Total images attempted: 360\n",
      "   Successfully processed: 360 (100.0%)\n",
      "   Failed images: 0 (0.0%)\n",
      "\n",
      "📝 QUESTION PROCESSING SUMMARY:\n",
      "   Total questions attempted: 1080\n",
      "   Successfully processed: 1080 (100.0%)\n",
      "   Failed questions: 0 (0.0%)\n",
      "   Results saved: 1080\n",
      "\n",
      "✅ SUCCESSFUL IMAGES (360):\n",
      "   • image01 (Type: REAL, Questions: 3/3, Time: 3.1s)\n",
      "   • image02 (Type: REAL, Questions: 3/3, Time: 2.7s)\n",
      "   • image03 (Type: REAL, Questions: 3/3, Time: 2.1s)\n",
      "   • image04 (Type: REAL, Questions: 3/3, Time: 3.2s)\n",
      "   • image05 (Type: REAL, Questions: 3/3, Time: 1.9s)\n",
      "   • image06 (Type: REAL, Questions: 3/3, Time: 2.2s)\n",
      "   • image07 (Type: REAL, Questions: 3/3, Time: 1.7s)\n",
      "   • image08 (Type: REAL, Questions: 3/3, Time: 1.0s)\n",
      "   • image09 (Type: REAL, Questions: 3/3, Time: 2.7s)\n",
      "   • image10 (Type: REAL, Questions: 3/3, Time: 3.8s)\n",
      "   • image11 (Type: REAL, Questions: 3/3, Time: 1.9s)\n",
      "   • image12 (Type: REAL, Questions: 3/3, Time: 2.7s)\n",
      "   • image13 (Type: REAL, Questions: 3/3, Time: 1.5s)\n",
      "   • image14 (Type: REAL, Questions: 3/3, Time: 1.4s)\n",
      "   • image15 (Type: REAL, Questions: 3/3, Time: 2.0s)\n",
      "   • image16 (Type: REAL, Questions: 3/3, Time: 1.4s)\n",
      "   • image17 (Type: REAL, Questions: 3/3, Time: 1.2s)\n",
      "   • image18 (Type: REAL, Questions: 3/3, Time: 2.0s)\n",
      "   • image19 (Type: REAL, Questions: 3/3, Time: 1.6s)\n",
      "   • image20 (Type: REAL, Questions: 3/3, Time: 1.6s)\n",
      "   • image21 (Type: REAL, Questions: 3/3, Time: 4.2s)\n",
      "   • image22 (Type: REAL, Questions: 3/3, Time: 3.1s)\n",
      "   • image23 (Type: REAL, Questions: 3/3, Time: 2.3s)\n",
      "   • image24 (Type: REAL, Questions: 3/3, Time: 1.7s)\n",
      "   • image25 (Type: REAL, Questions: 3/3, Time: 1.6s)\n",
      "   • image26 (Type: REAL, Questions: 3/3, Time: 2.3s)\n",
      "   • image27 (Type: REAL, Questions: 3/3, Time: 1.4s)\n",
      "   • image28 (Type: REAL, Questions: 3/3, Time: 1.3s)\n",
      "   • image29 (Type: REAL, Questions: 3/3, Time: 2.4s)\n",
      "   • image30 (Type: REAL, Questions: 3/3, Time: 2.1s)\n",
      "   • image31 (Type: REAL, Questions: 3/3, Time: 2.1s)\n",
      "   • image32 (Type: REAL, Questions: 3/3, Time: 2.3s)\n",
      "   • image33 (Type: REAL, Questions: 3/3, Time: 2.0s)\n",
      "   • image34 (Type: REAL, Questions: 3/3, Time: 1.4s)\n",
      "   • image35 (Type: REAL, Questions: 3/3, Time: 2.8s)\n",
      "   • image36 (Type: REAL, Questions: 3/3, Time: 1.8s)\n",
      "   • image37 (Type: REAL, Questions: 3/3, Time: 2.0s)\n",
      "   • image38 (Type: REAL, Questions: 3/3, Time: 1.7s)\n",
      "   • image39 (Type: REAL, Questions: 3/3, Time: 1.8s)\n",
      "   • image40 (Type: REAL, Questions: 3/3, Time: 1.7s)\n",
      "   • image41 (Type: REAL, Questions: 3/3, Time: 1.6s)\n",
      "   • image42 (Type: REAL, Questions: 3/3, Time: 1.6s)\n",
      "   • image43 (Type: REAL, Questions: 3/3, Time: 3.0s)\n",
      "   • image44 (Type: REAL, Questions: 3/3, Time: 2.9s)\n",
      "   • image45 (Type: REAL, Questions: 3/3, Time: 2.4s)\n",
      "   • image46 (Type: REAL, Questions: 3/3, Time: 1.9s)\n",
      "   • image47 (Type: REAL, Questions: 3/3, Time: 2.8s)\n",
      "   • image48 (Type: REAL, Questions: 3/3, Time: 1.8s)\n",
      "   • image49 (Type: REAL, Questions: 3/3, Time: 2.5s)\n",
      "   • image50 (Type: REAL, Questions: 3/3, Time: 2.2s)\n",
      "   • image51 (Type: REAL, Questions: 3/3, Time: 1.9s)\n",
      "   • image52 (Type: REAL, Questions: 3/3, Time: 1.6s)\n",
      "   • image53 (Type: REAL, Questions: 3/3, Time: 1.9s)\n",
      "   • image54 (Type: REAL, Questions: 3/3, Time: 2.4s)\n",
      "   • image55 (Type: REAL, Questions: 3/3, Time: 2.9s)\n",
      "   • image56 (Type: REAL, Questions: 3/3, Time: 2.4s)\n",
      "   • image57 (Type: REAL, Questions: 3/3, Time: 2.1s)\n",
      "   • image58 (Type: REAL, Questions: 3/3, Time: 3.0s)\n",
      "   • image59 (Type: REAL, Questions: 3/3, Time: 2.0s)\n",
      "   • image60 (Type: REAL, Questions: 3/3, Time: 3.7s)\n",
      "   • image61 (Type: REAL, Questions: 3/3, Time: 1.6s)\n",
      "   • image62 (Type: REAL, Questions: 3/3, Time: 1.5s)\n",
      "   • image63 (Type: REAL, Questions: 3/3, Time: 1.7s)\n",
      "   • image64 (Type: REAL, Questions: 3/3, Time: 2.8s)\n",
      "   • image65 (Type: REAL, Questions: 3/3, Time: 1.6s)\n",
      "   • image66 (Type: REAL, Questions: 3/3, Time: 1.6s)\n",
      "   • image67 (Type: REAL, Questions: 3/3, Time: 1.8s)\n",
      "   • image68 (Type: REAL, Questions: 3/3, Time: 1.7s)\n",
      "   • image69 (Type: REAL, Questions: 3/3, Time: 2.1s)\n",
      "   • image70 (Type: REAL, Questions: 3/3, Time: 1.7s)\n",
      "   • image71 (Type: REAL, Questions: 3/3, Time: 3.0s)\n",
      "   • image72 (Type: REAL, Questions: 3/3, Time: 1.9s)\n",
      "   • image73 (Type: REAL, Questions: 3/3, Time: 2.2s)\n",
      "   • image74 (Type: REAL, Questions: 3/3, Time: 2.6s)\n",
      "   • image75 (Type: REAL, Questions: 3/3, Time: 2.7s)\n",
      "   • image76 (Type: REAL, Questions: 3/3, Time: 2.8s)\n",
      "   • image77 (Type: REAL, Questions: 3/3, Time: 1.9s)\n",
      "   • image78 (Type: REAL, Questions: 3/3, Time: 1.9s)\n",
      "   • image79 (Type: REAL, Questions: 3/3, Time: 2.0s)\n",
      "   • image80 (Type: REAL, Questions: 3/3, Time: 2.5s)\n",
      "   • image81 (Type: REAL, Questions: 3/3, Time: 1.4s)\n",
      "   • image82 (Type: REAL, Questions: 3/3, Time: 1.6s)\n",
      "   • image83 (Type: REAL, Questions: 3/3, Time: 1.4s)\n",
      "   • image84 (Type: REAL, Questions: 3/3, Time: 2.0s)\n",
      "   • image85 (Type: REAL, Questions: 3/3, Time: 1.5s)\n",
      "   • image86 (Type: REAL, Questions: 3/3, Time: 1.8s)\n",
      "   • image87 (Type: REAL, Questions: 3/3, Time: 2.0s)\n",
      "   • image88 (Type: REAL, Questions: 3/3, Time: 2.1s)\n",
      "   • image89 (Type: REAL, Questions: 3/3, Time: 1.7s)\n",
      "   • image90 (Type: REAL, Questions: 3/3, Time: 1.9s)\n",
      "   • image91 (Type: REAL, Questions: 3/3, Time: 2.1s)\n",
      "   • image92 (Type: REAL, Questions: 3/3, Time: 2.7s)\n",
      "   • image93 (Type: REAL, Questions: 3/3, Time: 1.5s)\n",
      "   • image94 (Type: REAL, Questions: 3/3, Time: 3.7s)\n",
      "   • image95 (Type: REAL, Questions: 3/3, Time: 1.6s)\n",
      "   • image96 (Type: REAL, Questions: 3/3, Time: 4.2s)\n",
      "   • image97 (Type: REAL, Questions: 3/3, Time: 2.2s)\n",
      "   • image98 (Type: REAL, Questions: 3/3, Time: 2.2s)\n",
      "   • image99 (Type: REAL, Questions: 3/3, Time: 2.5s)\n",
      "   • image100 (Type: REAL, Questions: 3/3, Time: 1.9s)\n",
      "   • image101 (Type: REAL, Questions: 3/3, Time: 1.9s)\n",
      "   • image102 (Type: REAL, Questions: 3/3, Time: 2.0s)\n",
      "   • image103 (Type: REAL, Questions: 3/3, Time: 2.2s)\n",
      "   • image104 (Type: REAL, Questions: 3/3, Time: 2.1s)\n",
      "   • image105 (Type: REAL, Questions: 3/3, Time: 2.0s)\n",
      "   • image106 (Type: REAL, Questions: 3/3, Time: 3.0s)\n",
      "   • image107 (Type: REAL, Questions: 3/3, Time: 1.9s)\n",
      "   • image108 (Type: REAL, Questions: 3/3, Time: 2.2s)\n",
      "   • image109 (Type: REAL, Questions: 3/3, Time: 1.9s)\n",
      "   • image110 (Type: REAL, Questions: 3/3, Time: 2.0s)\n",
      "   • image111 (Type: REAL, Questions: 3/3, Time: 1.7s)\n",
      "   • image112 (Type: REAL, Questions: 3/3, Time: 3.0s)\n",
      "   • image113 (Type: REAL, Questions: 3/3, Time: 2.1s)\n",
      "   • image114 (Type: REAL, Questions: 3/3, Time: 3.7s)\n",
      "   • image115 (Type: REAL, Questions: 3/3, Time: 1.8s)\n",
      "   • image116 (Type: REAL, Questions: 3/3, Time: 2.1s)\n",
      "   • image117 (Type: REAL, Questions: 3/3, Time: 1.7s)\n",
      "   • image118 (Type: REAL, Questions: 3/3, Time: 2.1s)\n",
      "   • image119 (Type: REAL, Questions: 3/3, Time: 1.9s)\n",
      "   • image120 (Type: REAL, Questions: 3/3, Time: 2.5s)\n",
      "   • image01 (Type: ANIMATED, Questions: 3/3, Time: 1.7s)\n",
      "   • image02 (Type: ANIMATED, Questions: 3/3, Time: 1.6s)\n",
      "   • image03 (Type: ANIMATED, Questions: 3/3, Time: 1.8s)\n",
      "   • image04 (Type: ANIMATED, Questions: 3/3, Time: 1.4s)\n",
      "   • image05 (Type: ANIMATED, Questions: 3/3, Time: 2.0s)\n",
      "   • image06 (Type: ANIMATED, Questions: 3/3, Time: 2.0s)\n",
      "   • image07 (Type: ANIMATED, Questions: 3/3, Time: 1.7s)\n",
      "   • image08 (Type: ANIMATED, Questions: 3/3, Time: 1.9s)\n",
      "   • image09 (Type: ANIMATED, Questions: 3/3, Time: 1.6s)\n",
      "   • image10 (Type: ANIMATED, Questions: 3/3, Time: 2.1s)\n",
      "   • image11 (Type: ANIMATED, Questions: 3/3, Time: 2.2s)\n",
      "   • image12 (Type: ANIMATED, Questions: 3/3, Time: 2.5s)\n",
      "   • image13 (Type: ANIMATED, Questions: 3/3, Time: 1.9s)\n",
      "   • image14 (Type: ANIMATED, Questions: 3/3, Time: 1.8s)\n",
      "   • image15 (Type: ANIMATED, Questions: 3/3, Time: 2.9s)\n",
      "   • image16 (Type: ANIMATED, Questions: 3/3, Time: 2.0s)\n",
      "   • image17 (Type: ANIMATED, Questions: 3/3, Time: 2.2s)\n",
      "   • image18 (Type: ANIMATED, Questions: 3/3, Time: 1.9s)\n",
      "   • image19 (Type: ANIMATED, Questions: 3/3, Time: 5.6s)\n",
      "   • image20 (Type: ANIMATED, Questions: 3/3, Time: 1.8s)\n",
      "   • image21 (Type: ANIMATED, Questions: 3/3, Time: 2.3s)\n",
      "   • image22 (Type: ANIMATED, Questions: 3/3, Time: 2.3s)\n",
      "   • image23 (Type: ANIMATED, Questions: 3/3, Time: 2.7s)\n",
      "   • image24 (Type: ANIMATED, Questions: 3/3, Time: 1.5s)\n",
      "   • image25 (Type: ANIMATED, Questions: 3/3, Time: 1.8s)\n",
      "   • image26 (Type: ANIMATED, Questions: 3/3, Time: 1.8s)\n",
      "   • image27 (Type: ANIMATED, Questions: 3/3, Time: 1.8s)\n",
      "   • image28 (Type: ANIMATED, Questions: 3/3, Time: 2.4s)\n",
      "   • image29 (Type: ANIMATED, Questions: 3/3, Time: 2.4s)\n",
      "   • image30 (Type: ANIMATED, Questions: 3/3, Time: 1.6s)\n",
      "   • image31 (Type: ANIMATED, Questions: 3/3, Time: 2.1s)\n",
      "   • image32 (Type: ANIMATED, Questions: 3/3, Time: 1.4s)\n",
      "   • image33 (Type: ANIMATED, Questions: 3/3, Time: 1.8s)\n",
      "   • image34 (Type: ANIMATED, Questions: 3/3, Time: 2.2s)\n",
      "   • image35 (Type: ANIMATED, Questions: 3/3, Time: 1.7s)\n",
      "   • image36 (Type: ANIMATED, Questions: 3/3, Time: 2.0s)\n",
      "   • image37 (Type: ANIMATED, Questions: 3/3, Time: 1.8s)\n",
      "   • image38 (Type: ANIMATED, Questions: 3/3, Time: 1.7s)\n",
      "   • image39 (Type: ANIMATED, Questions: 3/3, Time: 2.5s)\n",
      "   • image40 (Type: ANIMATED, Questions: 3/3, Time: 1.6s)\n",
      "   • image41 (Type: ANIMATED, Questions: 3/3, Time: 1.9s)\n",
      "   • image42 (Type: ANIMATED, Questions: 3/3, Time: 3.8s)\n",
      "   • image43 (Type: ANIMATED, Questions: 3/3, Time: 1.9s)\n",
      "   • image44 (Type: ANIMATED, Questions: 3/3, Time: 2.5s)\n",
      "   • image45 (Type: ANIMATED, Questions: 3/3, Time: 2.1s)\n",
      "   • image46 (Type: ANIMATED, Questions: 3/3, Time: 2.8s)\n",
      "   • image47 (Type: ANIMATED, Questions: 3/3, Time: 1.9s)\n",
      "   • image48 (Type: ANIMATED, Questions: 3/3, Time: 1.7s)\n",
      "   • image49 (Type: ANIMATED, Questions: 3/3, Time: 4.8s)\n",
      "   • image50 (Type: ANIMATED, Questions: 3/3, Time: 4.3s)\n",
      "   • image51 (Type: ANIMATED, Questions: 3/3, Time: 2.6s)\n",
      "   • image52 (Type: ANIMATED, Questions: 3/3, Time: 1.9s)\n",
      "   • image53 (Type: ANIMATED, Questions: 3/3, Time: 2.3s)\n",
      "   • image54 (Type: ANIMATED, Questions: 3/3, Time: 2.2s)\n",
      "   • image55 (Type: ANIMATED, Questions: 3/3, Time: 1.2s)\n",
      "   • image56 (Type: ANIMATED, Questions: 3/3, Time: 2.5s)\n",
      "   • image57 (Type: ANIMATED, Questions: 3/3, Time: 1.1s)\n",
      "   • image58 (Type: ANIMATED, Questions: 3/3, Time: 1.7s)\n",
      "   • image59 (Type: ANIMATED, Questions: 3/3, Time: 2.3s)\n",
      "   • image60 (Type: ANIMATED, Questions: 3/3, Time: 1.4s)\n",
      "   • image61 (Type: ANIMATED, Questions: 3/3, Time: 1.5s)\n",
      "   • image62 (Type: ANIMATED, Questions: 3/3, Time: 1.7s)\n",
      "   • image63 (Type: ANIMATED, Questions: 3/3, Time: 3.6s)\n",
      "   • image64 (Type: ANIMATED, Questions: 3/3, Time: 1.1s)\n",
      "   • image65 (Type: ANIMATED, Questions: 3/3, Time: 1.8s)\n",
      "   • image66 (Type: ANIMATED, Questions: 3/3, Time: 2.0s)\n",
      "   • image67 (Type: ANIMATED, Questions: 3/3, Time: 2.5s)\n",
      "   • image68 (Type: ANIMATED, Questions: 3/3, Time: 1.6s)\n",
      "   • image69 (Type: ANIMATED, Questions: 3/3, Time: 1.6s)\n",
      "   • image70 (Type: ANIMATED, Questions: 3/3, Time: 2.1s)\n",
      "   • image71 (Type: ANIMATED, Questions: 3/3, Time: 1.9s)\n",
      "   • image72 (Type: ANIMATED, Questions: 3/3, Time: 2.2s)\n",
      "   • image73 (Type: ANIMATED, Questions: 3/3, Time: 1.6s)\n",
      "   • image74 (Type: ANIMATED, Questions: 3/3, Time: 1.5s)\n",
      "   • image75 (Type: ANIMATED, Questions: 3/3, Time: 1.8s)\n",
      "   • image76 (Type: ANIMATED, Questions: 3/3, Time: 1.7s)\n",
      "   • image77 (Type: ANIMATED, Questions: 3/3, Time: 1.9s)\n",
      "   • image78 (Type: ANIMATED, Questions: 3/3, Time: 1.8s)\n",
      "   • image79 (Type: ANIMATED, Questions: 3/3, Time: 1.5s)\n",
      "   • image80 (Type: ANIMATED, Questions: 3/3, Time: 2.2s)\n",
      "   • image81 (Type: ANIMATED, Questions: 3/3, Time: 4.7s)\n",
      "   • image82 (Type: ANIMATED, Questions: 3/3, Time: 1.7s)\n",
      "   • image83 (Type: ANIMATED, Questions: 3/3, Time: 1.6s)\n",
      "   • image84 (Type: ANIMATED, Questions: 3/3, Time: 3.0s)\n",
      "   • image85 (Type: ANIMATED, Questions: 3/3, Time: 2.1s)\n",
      "   • image86 (Type: ANIMATED, Questions: 3/3, Time: 1.8s)\n",
      "   • image87 (Type: ANIMATED, Questions: 3/3, Time: 1.6s)\n",
      "   • image88 (Type: ANIMATED, Questions: 3/3, Time: 1.5s)\n",
      "   • image89 (Type: ANIMATED, Questions: 3/3, Time: 1.4s)\n",
      "   • image90 (Type: ANIMATED, Questions: 3/3, Time: 1.2s)\n",
      "   • image91 (Type: ANIMATED, Questions: 3/3, Time: 1.3s)\n",
      "   • image92 (Type: ANIMATED, Questions: 3/3, Time: 2.5s)\n",
      "   • image93 (Type: ANIMATED, Questions: 3/3, Time: 1.8s)\n",
      "   • image94 (Type: ANIMATED, Questions: 3/3, Time: 2.0s)\n",
      "   • image95 (Type: ANIMATED, Questions: 3/3, Time: 1.6s)\n",
      "   • image96 (Type: ANIMATED, Questions: 3/3, Time: 1.9s)\n",
      "   • image97 (Type: ANIMATED, Questions: 3/3, Time: 2.4s)\n",
      "   • image98 (Type: ANIMATED, Questions: 3/3, Time: 1.9s)\n",
      "   • image99 (Type: ANIMATED, Questions: 3/3, Time: 2.8s)\n",
      "   • image100 (Type: ANIMATED, Questions: 3/3, Time: 2.9s)\n",
      "   • image101 (Type: ANIMATED, Questions: 3/3, Time: 1.5s)\n",
      "   • image102 (Type: ANIMATED, Questions: 3/3, Time: 1.9s)\n",
      "   • image103 (Type: ANIMATED, Questions: 3/3, Time: 4.2s)\n",
      "   • image104 (Type: ANIMATED, Questions: 3/3, Time: 2.1s)\n",
      "   • image105 (Type: ANIMATED, Questions: 3/3, Time: 4.7s)\n",
      "   • image106 (Type: ANIMATED, Questions: 3/3, Time: 1.7s)\n",
      "   • image107 (Type: ANIMATED, Questions: 3/3, Time: 1.8s)\n",
      "   • image108 (Type: ANIMATED, Questions: 3/3, Time: 1.4s)\n",
      "   • image109 (Type: ANIMATED, Questions: 3/3, Time: 1.9s)\n",
      "   • image110 (Type: ANIMATED, Questions: 3/3, Time: 1.9s)\n",
      "   • image111 (Type: ANIMATED, Questions: 3/3, Time: 2.9s)\n",
      "   • image112 (Type: ANIMATED, Questions: 3/3, Time: 2.8s)\n",
      "   • image113 (Type: ANIMATED, Questions: 3/3, Time: 2.2s)\n",
      "   • image114 (Type: ANIMATED, Questions: 3/3, Time: 2.2s)\n",
      "   • image115 (Type: ANIMATED, Questions: 3/3, Time: 2.3s)\n",
      "   • image116 (Type: ANIMATED, Questions: 3/3, Time: 5.5s)\n",
      "   • image117 (Type: ANIMATED, Questions: 3/3, Time: 2.7s)\n",
      "   • image118 (Type: ANIMATED, Questions: 3/3, Time: 2.5s)\n",
      "   • image119 (Type: ANIMATED, Questions: 3/3, Time: 2.8s)\n",
      "   • image120 (Type: ANIMATED, Questions: 3/3, Time: 2.4s)\n",
      "   • image01 (Type: AI_GENERATED, Questions: 3/3, Time: 1.7s)\n",
      "   • image02 (Type: AI_GENERATED, Questions: 3/3, Time: 1.7s)\n",
      "   • image03 (Type: AI_GENERATED, Questions: 3/3, Time: 1.8s)\n",
      "   • image04 (Type: AI_GENERATED, Questions: 3/3, Time: 1.8s)\n",
      "   • image05 (Type: AI_GENERATED, Questions: 3/3, Time: 2.6s)\n",
      "   • image06 (Type: AI_GENERATED, Questions: 3/3, Time: 1.9s)\n",
      "   • image07 (Type: AI_GENERATED, Questions: 3/3, Time: 2.1s)\n",
      "   • image08 (Type: AI_GENERATED, Questions: 3/3, Time: 2.4s)\n",
      "   • image09 (Type: AI_GENERATED, Questions: 3/3, Time: 1.8s)\n",
      "   • image10 (Type: AI_GENERATED, Questions: 3/3, Time: 2.0s)\n",
      "   • image11 (Type: AI_GENERATED, Questions: 3/3, Time: 8.3s)\n",
      "   • image12 (Type: AI_GENERATED, Questions: 3/3, Time: 1.9s)\n",
      "   • image13 (Type: AI_GENERATED, Questions: 3/3, Time: 5.5s)\n",
      "   • image14 (Type: AI_GENERATED, Questions: 3/3, Time: 1.7s)\n",
      "   • image15 (Type: AI_GENERATED, Questions: 3/3, Time: 1.8s)\n",
      "   • image16 (Type: AI_GENERATED, Questions: 3/3, Time: 1.8s)\n",
      "   • image17 (Type: AI_GENERATED, Questions: 3/3, Time: 3.6s)\n",
      "   • image18 (Type: AI_GENERATED, Questions: 3/3, Time: 1.9s)\n",
      "   • image19 (Type: AI_GENERATED, Questions: 3/3, Time: 2.3s)\n",
      "   • image20 (Type: AI_GENERATED, Questions: 3/3, Time: 2.1s)\n",
      "   • image21 (Type: AI_GENERATED, Questions: 3/3, Time: 2.1s)\n",
      "   • image22 (Type: AI_GENERATED, Questions: 3/3, Time: 1.9s)\n",
      "   • image23 (Type: AI_GENERATED, Questions: 3/3, Time: 3.7s)\n",
      "   • image24 (Type: AI_GENERATED, Questions: 3/3, Time: 2.5s)\n",
      "   • image25 (Type: AI_GENERATED, Questions: 3/3, Time: 3.0s)\n",
      "   • image26 (Type: AI_GENERATED, Questions: 3/3, Time: 1.7s)\n",
      "   • image27 (Type: AI_GENERATED, Questions: 3/3, Time: 2.2s)\n",
      "   • image28 (Type: AI_GENERATED, Questions: 3/3, Time: 4.3s)\n",
      "   • image29 (Type: AI_GENERATED, Questions: 3/3, Time: 1.8s)\n",
      "   • image30 (Type: AI_GENERATED, Questions: 3/3, Time: 1.9s)\n",
      "   • image31 (Type: AI_GENERATED, Questions: 3/3, Time: 2.0s)\n",
      "   • image32 (Type: AI_GENERATED, Questions: 3/3, Time: 1.9s)\n",
      "   • image33 (Type: AI_GENERATED, Questions: 3/3, Time: 2.9s)\n",
      "   • image34 (Type: AI_GENERATED, Questions: 3/3, Time: 2.1s)\n",
      "   • image35 (Type: AI_GENERATED, Questions: 3/3, Time: 1.6s)\n",
      "   • image36 (Type: AI_GENERATED, Questions: 3/3, Time: 1.7s)\n",
      "   • image37 (Type: AI_GENERATED, Questions: 3/3, Time: 1.5s)\n",
      "   • image38 (Type: AI_GENERATED, Questions: 3/3, Time: 2.2s)\n",
      "   • image39 (Type: AI_GENERATED, Questions: 3/3, Time: 1.9s)\n",
      "   • image40 (Type: AI_GENERATED, Questions: 3/3, Time: 2.5s)\n",
      "   • image41 (Type: AI_GENERATED, Questions: 3/3, Time: 2.0s)\n",
      "   • image42 (Type: AI_GENERATED, Questions: 3/3, Time: 1.8s)\n",
      "   • image43 (Type: AI_GENERATED, Questions: 3/3, Time: 1.8s)\n",
      "   • image44 (Type: AI_GENERATED, Questions: 3/3, Time: 2.1s)\n",
      "   • image45 (Type: AI_GENERATED, Questions: 3/3, Time: 2.3s)\n",
      "   • image46 (Type: AI_GENERATED, Questions: 3/3, Time: 3.0s)\n",
      "   • image47 (Type: AI_GENERATED, Questions: 3/3, Time: 3.0s)\n",
      "   • image48 (Type: AI_GENERATED, Questions: 3/3, Time: 2.0s)\n",
      "   • image49 (Type: AI_GENERATED, Questions: 3/3, Time: 2.0s)\n",
      "   • image50 (Type: AI_GENERATED, Questions: 3/3, Time: 2.0s)\n",
      "   • image51 (Type: AI_GENERATED, Questions: 3/3, Time: 2.5s)\n",
      "   • image52 (Type: AI_GENERATED, Questions: 3/3, Time: 2.0s)\n",
      "   • image53 (Type: AI_GENERATED, Questions: 3/3, Time: 2.8s)\n",
      "   • image54 (Type: AI_GENERATED, Questions: 3/3, Time: 2.3s)\n",
      "   • image55 (Type: AI_GENERATED, Questions: 3/3, Time: 2.0s)\n",
      "   • image56 (Type: AI_GENERATED, Questions: 3/3, Time: 1.9s)\n",
      "   • image57 (Type: AI_GENERATED, Questions: 3/3, Time: 3.4s)\n",
      "   • image58 (Type: AI_GENERATED, Questions: 3/3, Time: 4.3s)\n",
      "   • image59 (Type: AI_GENERATED, Questions: 3/3, Time: 1.6s)\n",
      "   • image60 (Type: AI_GENERATED, Questions: 3/3, Time: 2.2s)\n",
      "   • image61 (Type: AI_GENERATED, Questions: 3/3, Time: 2.3s)\n",
      "   • image62 (Type: AI_GENERATED, Questions: 3/3, Time: 2.0s)\n",
      "   • image63 (Type: AI_GENERATED, Questions: 3/3, Time: 2.6s)\n",
      "   • image64 (Type: AI_GENERATED, Questions: 3/3, Time: 2.1s)\n",
      "   • image65 (Type: AI_GENERATED, Questions: 3/3, Time: 3.1s)\n",
      "   • image66 (Type: AI_GENERATED, Questions: 3/3, Time: 2.4s)\n",
      "   • image67 (Type: AI_GENERATED, Questions: 3/3, Time: 1.9s)\n",
      "   • image68 (Type: AI_GENERATED, Questions: 3/3, Time: 1.9s)\n",
      "   • image69 (Type: AI_GENERATED, Questions: 3/3, Time: 1.8s)\n",
      "   • image70 (Type: AI_GENERATED, Questions: 3/3, Time: 2.1s)\n",
      "   • image71 (Type: AI_GENERATED, Questions: 3/3, Time: 1.5s)\n",
      "   • image72 (Type: AI_GENERATED, Questions: 3/3, Time: 1.9s)\n",
      "   • image73 (Type: AI_GENERATED, Questions: 3/3, Time: 2.1s)\n",
      "   • image74 (Type: AI_GENERATED, Questions: 3/3, Time: 1.6s)\n",
      "   • image75 (Type: AI_GENERATED, Questions: 3/3, Time: 2.0s)\n",
      "   • image76 (Type: AI_GENERATED, Questions: 3/3, Time: 2.8s)\n",
      "   • image77 (Type: AI_GENERATED, Questions: 3/3, Time: 2.3s)\n",
      "   • image78 (Type: AI_GENERATED, Questions: 3/3, Time: 1.8s)\n",
      "   • image79 (Type: AI_GENERATED, Questions: 3/3, Time: 3.5s)\n",
      "   • image80 (Type: AI_GENERATED, Questions: 3/3, Time: 1.8s)\n",
      "   • image81 (Type: AI_GENERATED, Questions: 3/3, Time: 2.1s)\n",
      "   • image82 (Type: AI_GENERATED, Questions: 3/3, Time: 1.9s)\n",
      "   • image83 (Type: AI_GENERATED, Questions: 3/3, Time: 1.9s)\n",
      "   • image84 (Type: AI_GENERATED, Questions: 3/3, Time: 4.3s)\n",
      "   • image85 (Type: AI_GENERATED, Questions: 3/3, Time: 7.9s)\n",
      "   • image86 (Type: AI_GENERATED, Questions: 3/3, Time: 2.1s)\n",
      "   • image87 (Type: AI_GENERATED, Questions: 3/3, Time: 1.8s)\n",
      "   • image88 (Type: AI_GENERATED, Questions: 3/3, Time: 1.6s)\n",
      "   • image89 (Type: AI_GENERATED, Questions: 3/3, Time: 1.7s)\n",
      "   • image90 (Type: AI_GENERATED, Questions: 3/3, Time: 3.1s)\n",
      "   • image91 (Type: AI_GENERATED, Questions: 3/3, Time: 2.0s)\n",
      "   • image92 (Type: AI_GENERATED, Questions: 3/3, Time: 2.1s)\n",
      "   • image93 (Type: AI_GENERATED, Questions: 3/3, Time: 1.7s)\n",
      "   • image94 (Type: AI_GENERATED, Questions: 3/3, Time: 1.9s)\n",
      "   • image95 (Type: AI_GENERATED, Questions: 3/3, Time: 1.9s)\n",
      "   • image96 (Type: AI_GENERATED, Questions: 3/3, Time: 1.6s)\n",
      "   • image97 (Type: AI_GENERATED, Questions: 3/3, Time: 1.7s)\n",
      "   • image98 (Type: AI_GENERATED, Questions: 3/3, Time: 1.7s)\n",
      "   • image99 (Type: AI_GENERATED, Questions: 3/3, Time: 1.9s)\n",
      "   • image100 (Type: AI_GENERATED, Questions: 3/3, Time: 2.8s)\n",
      "   • image101 (Type: AI_GENERATED, Questions: 3/3, Time: 7.1s)\n",
      "   • image102 (Type: AI_GENERATED, Questions: 3/3, Time: 1.8s)\n",
      "   • image103 (Type: AI_GENERATED, Questions: 3/3, Time: 2.7s)\n",
      "   • image104 (Type: AI_GENERATED, Questions: 3/3, Time: 1.8s)\n",
      "   • image105 (Type: AI_GENERATED, Questions: 3/3, Time: 1.7s)\n",
      "   • image106 (Type: AI_GENERATED, Questions: 3/3, Time: 3.8s)\n",
      "   • image107 (Type: AI_GENERATED, Questions: 3/3, Time: 2.0s)\n",
      "   • image108 (Type: AI_GENERATED, Questions: 3/3, Time: 2.0s)\n",
      "   • image109 (Type: AI_GENERATED, Questions: 3/3, Time: 2.2s)\n",
      "   • image110 (Type: AI_GENERATED, Questions: 3/3, Time: 1.9s)\n",
      "   • image111 (Type: AI_GENERATED, Questions: 3/3, Time: 1.6s)\n",
      "   • image112 (Type: AI_GENERATED, Questions: 3/3, Time: 1.7s)\n",
      "   • image113 (Type: AI_GENERATED, Questions: 3/3, Time: 1.8s)\n",
      "   • image114 (Type: AI_GENERATED, Questions: 3/3, Time: 2.8s)\n",
      "   • image115 (Type: AI_GENERATED, Questions: 3/3, Time: 3.7s)\n",
      "   • image116 (Type: AI_GENERATED, Questions: 3/3, Time: 2.6s)\n",
      "   • image117 (Type: AI_GENERATED, Questions: 3/3, Time: 2.9s)\n",
      "   • image118 (Type: AI_GENERATED, Questions: 3/3, Time: 2.1s)\n",
      "   • image119 (Type: AI_GENERATED, Questions: 3/3, Time: 1.9s)\n",
      "   • image120 (Type: AI_GENERATED, Questions: 3/3, Time: 2.3s)\n",
      "============================================================\n",
      "\n"
     ]
    }
   ],
   "source": [
    "test_Qwen2_5VL()"
   ]
  },
  {
   "cell_type": "code",
   "execution_count": null,
   "id": "c4df6081",
   "metadata": {
    "papermill": {
     "duration": 0.030372,
     "end_time": "2025-07-29T12:31:41.541076",
     "exception": false,
     "start_time": "2025-07-29T12:31:41.510704",
     "status": "completed"
    },
    "tags": []
   },
   "outputs": [],
   "source": []
  }
 ],
 "metadata": {
  "kaggle": {
   "accelerator": "none",
   "dataSources": [
    {
     "datasetId": 7163706,
     "sourceId": 11436696,
     "sourceType": "datasetVersion"
    }
   ],
   "dockerImageVersionId": 31011,
   "isGpuEnabled": false,
   "isInternetEnabled": true,
   "language": "python",
   "sourceType": "notebook"
  },
  "kernelspec": {
   "display_name": "Python ((op_bench)",
   "language": "python",
   "name": "op_bench"
  },
  "language_info": {
   "codemirror_mode": {
    "name": "ipython",
    "version": 3
   },
   "file_extension": ".py",
   "mimetype": "text/x-python",
   "name": "python",
   "nbconvert_exporter": "python",
   "pygments_lexer": "ipython3",
   "version": "3.12.9"
  },
  "papermill": {
   "default_parameters": {},
   "duration": 835.801947,
   "end_time": "2025-07-29T12:31:43.996457",
   "environment_variables": {},
   "exception": null,
   "input_path": "/var/scratch/ave303/OP_bench/opa-benchmark-smolvlm2-qwen2-5-vl.ipynb",
   "output_path": "spacethinker-qwen2-5-vl_3b_output.ipynb",
   "parameters": {},
   "start_time": "2025-07-29T12:17:48.194510",
   "version": "2.6.0"
  }
 },
 "nbformat": 4,
 "nbformat_minor": 5
}
