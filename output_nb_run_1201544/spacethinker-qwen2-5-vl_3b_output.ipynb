{
 "cells": [
  {
   "cell_type": "markdown",
   "id": "621c7641",
   "metadata": {
    "papermill": {
     "duration": 0.006759,
     "end_time": "2025-07-29T12:17:49.802279",
     "exception": false,
     "start_time": "2025-07-29T12:17:49.795520",
     "status": "completed"
    },
    "tags": []
   },
   "source": [
    "# VLM Benchmark for Object Property Abstraction\n",
    "\n",
    "This notebook implements a benchmark for evaluating Vision Language Models (VLMs) on object property abstraction and visual question answering (VQA) tasks. The benchmark includes three types of questions:\n",
    "\n",
    "1. Direct Recognition\n",
    "2. Property Inference\n",
    "3. Counterfactual Reasoning\n",
    "\n",
    "And three types of images:\n",
    "- REAL\n",
    "- ANIMATED\n",
    "- AI GENERATED"
   ]
  },
  {
   "cell_type": "markdown",
   "id": "978b4fdf",
   "metadata": {
    "papermill": {
     "duration": 0.00569,
     "end_time": "2025-07-29T12:17:49.814208",
     "exception": false,
     "start_time": "2025-07-29T12:17:49.808518",
     "status": "completed"
    },
    "tags": []
   },
   "source": [
    "## Setup and Imports\n",
    "\n",
    "First, let's import the necessary libraries and set up our environment."
   ]
  },
  {
   "cell_type": "code",
   "execution_count": 1,
   "id": "705d7697",
   "metadata": {
    "collapsed": true,
    "execution": {
     "iopub.execute_input": "2025-07-29T12:17:49.826729Z",
     "iopub.status.busy": "2025-07-29T12:17:49.826459Z",
     "iopub.status.idle": "2025-07-29T12:17:49.830521Z",
     "shell.execute_reply": "2025-07-29T12:17:49.829884Z"
    },
    "jupyter": {
     "outputs_hidden": true
    },
    "papermill": {
     "duration": 0.01166,
     "end_time": "2025-07-29T12:17:49.831645",
     "exception": false,
     "start_time": "2025-07-29T12:17:49.819985",
     "status": "completed"
    },
    "tags": []
   },
   "outputs": [],
   "source": [
    "# Install required packages\n",
    "# %pip install transformers torch Pillow tqdm bitsandbytes accelerate"
   ]
  },
  {
   "cell_type": "code",
   "execution_count": 2,
   "id": "d0369ac2",
   "metadata": {
    "collapsed": true,
    "execution": {
     "iopub.execute_input": "2025-07-29T12:17:49.844417Z",
     "iopub.status.busy": "2025-07-29T12:17:49.844090Z",
     "iopub.status.idle": "2025-07-29T12:17:51.582677Z",
     "shell.execute_reply": "2025-07-29T12:17:51.581701Z"
    },
    "jupyter": {
     "outputs_hidden": true
    },
    "papermill": {
     "duration": 1.746295,
     "end_time": "2025-07-29T12:17:51.584051",
     "exception": false,
     "start_time": "2025-07-29T12:17:49.837756",
     "status": "completed"
    },
    "tags": []
   },
   "outputs": [
    {
     "name": "stdout",
     "output_type": "stream",
     "text": [
      "Requirement already satisfied: qwen-vl-utils in /var/scratch/ave303/anaconda3/envs/op_bench/lib/python3.12/site-packages (0.0.11)\r\n",
      "Requirement already satisfied: flash-attn in /var/scratch/ave303/anaconda3/envs/op_bench/lib/python3.12/site-packages (2.7.4.post1)\r\n",
      "Requirement already satisfied: av in /var/scratch/ave303/anaconda3/envs/op_bench/lib/python3.12/site-packages (from qwen-vl-utils) (14.3.0)\r\n",
      "Requirement already satisfied: packaging in /var/scratch/ave303/anaconda3/envs/op_bench/lib/python3.12/site-packages (from qwen-vl-utils) (25.0)\r\n",
      "Requirement already satisfied: pillow in /var/scratch/ave303/anaconda3/envs/op_bench/lib/python3.12/site-packages (from qwen-vl-utils) (10.3.0)\r\n",
      "Requirement already satisfied: requests in /var/scratch/ave303/anaconda3/envs/op_bench/lib/python3.12/site-packages (from qwen-vl-utils) (2.32.3)\r\n",
      "Requirement already satisfied: torch in /var/scratch/ave303/anaconda3/envs/op_bench/lib/python3.12/site-packages (from flash-attn) (2.2.1)\r\n",
      "Requirement already satisfied: einops in /var/scratch/ave303/anaconda3/envs/op_bench/lib/python3.12/site-packages (from flash-attn) (0.8.1)\r\n",
      "Requirement already satisfied: charset-normalizer<4,>=2 in /var/scratch/ave303/anaconda3/envs/op_bench/lib/python3.12/site-packages (from requests->qwen-vl-utils) (3.4.1)\r\n",
      "Requirement already satisfied: idna<4,>=2.5 in /var/scratch/ave303/anaconda3/envs/op_bench/lib/python3.12/site-packages (from requests->qwen-vl-utils) (3.10)\r\n",
      "Requirement already satisfied: urllib3<3,>=1.21.1 in /var/scratch/ave303/anaconda3/envs/op_bench/lib/python3.12/site-packages (from requests->qwen-vl-utils) (2.4.0)\r\n",
      "Requirement already satisfied: certifi>=2017.4.17 in /var/scratch/ave303/anaconda3/envs/op_bench/lib/python3.12/site-packages (from requests->qwen-vl-utils) (2025.4.26)\r\n",
      "Requirement already satisfied: filelock in /var/scratch/ave303/anaconda3/envs/op_bench/lib/python3.12/site-packages (from torch->flash-attn) (3.18.0)\r\n",
      "Requirement already satisfied: typing-extensions>=4.8.0 in /var/scratch/ave303/anaconda3/envs/op_bench/lib/python3.12/site-packages (from torch->flash-attn) (4.13.2)\r\n",
      "Requirement already satisfied: sympy in /var/scratch/ave303/anaconda3/envs/op_bench/lib/python3.12/site-packages (from torch->flash-attn) (1.14.0)\r\n",
      "Requirement already satisfied: networkx in /var/scratch/ave303/anaconda3/envs/op_bench/lib/python3.12/site-packages (from torch->flash-attn) (3.4.2)\r\n",
      "Requirement already satisfied: jinja2 in /var/scratch/ave303/anaconda3/envs/op_bench/lib/python3.12/site-packages (from torch->flash-attn) (3.1.6)\r\n",
      "Requirement already satisfied: fsspec in /var/scratch/ave303/anaconda3/envs/op_bench/lib/python3.12/site-packages (from torch->flash-attn) (2025.3.2)\r\n",
      "Requirement already satisfied: nvidia-cuda-nvrtc-cu12==12.1.105 in /var/scratch/ave303/anaconda3/envs/op_bench/lib/python3.12/site-packages (from torch->flash-attn) (12.1.105)\r\n",
      "Requirement already satisfied: nvidia-cuda-runtime-cu12==12.1.105 in /var/scratch/ave303/anaconda3/envs/op_bench/lib/python3.12/site-packages (from torch->flash-attn) (12.1.105)\r\n",
      "Requirement already satisfied: nvidia-cuda-cupti-cu12==12.1.105 in /var/scratch/ave303/anaconda3/envs/op_bench/lib/python3.12/site-packages (from torch->flash-attn) (12.1.105)\r\n",
      "Requirement already satisfied: nvidia-cudnn-cu12==8.9.2.26 in /var/scratch/ave303/anaconda3/envs/op_bench/lib/python3.12/site-packages (from torch->flash-attn) (8.9.2.26)\r\n",
      "Requirement already satisfied: nvidia-cublas-cu12==12.1.3.1 in /var/scratch/ave303/anaconda3/envs/op_bench/lib/python3.12/site-packages (from torch->flash-attn) (12.1.3.1)\r\n",
      "Requirement already satisfied: nvidia-cufft-cu12==11.0.2.54 in /var/scratch/ave303/anaconda3/envs/op_bench/lib/python3.12/site-packages (from torch->flash-attn) (11.0.2.54)\r\n",
      "Requirement already satisfied: nvidia-curand-cu12==10.3.2.106 in /var/scratch/ave303/anaconda3/envs/op_bench/lib/python3.12/site-packages (from torch->flash-attn) (10.3.2.106)\r\n",
      "Requirement already satisfied: nvidia-cusolver-cu12==11.4.5.107 in /var/scratch/ave303/anaconda3/envs/op_bench/lib/python3.12/site-packages (from torch->flash-attn) (11.4.5.107)\r\n"
     ]
    },
    {
     "name": "stdout",
     "output_type": "stream",
     "text": [
      "Requirement already satisfied: nvidia-cusparse-cu12==12.1.0.106 in /var/scratch/ave303/anaconda3/envs/op_bench/lib/python3.12/site-packages (from torch->flash-attn) (12.1.0.106)\r\n",
      "Requirement already satisfied: nvidia-nccl-cu12==2.19.3 in /var/scratch/ave303/anaconda3/envs/op_bench/lib/python3.12/site-packages (from torch->flash-attn) (2.19.3)\r\n",
      "Requirement already satisfied: nvidia-nvtx-cu12==12.1.105 in /var/scratch/ave303/anaconda3/envs/op_bench/lib/python3.12/site-packages (from torch->flash-attn) (12.1.105)\r\n",
      "Requirement already satisfied: nvidia-nvjitlink-cu12 in /var/scratch/ave303/anaconda3/envs/op_bench/lib/python3.12/site-packages (from nvidia-cusolver-cu12==11.4.5.107->torch->flash-attn) (12.8.93)\r\n",
      "Requirement already satisfied: MarkupSafe>=2.0 in /var/scratch/ave303/anaconda3/envs/op_bench/lib/python3.12/site-packages (from jinja2->torch->flash-attn) (3.0.2)\r\n"
     ]
    },
    {
     "name": "stdout",
     "output_type": "stream",
     "text": [
      "Requirement already satisfied: mpmath<1.4,>=1.1.0 in /var/scratch/ave303/anaconda3/envs/op_bench/lib/python3.12/site-packages (from sympy->torch->flash-attn) (1.3.0)\r\n"
     ]
    },
    {
     "name": "stdout",
     "output_type": "stream",
     "text": [
      "Note: you may need to restart the kernel to use updated packages.\n"
     ]
    }
   ],
   "source": [
    "%pip install qwen-vl-utils flash-attn #--no-build-isolation"
   ]
  },
  {
   "cell_type": "code",
   "execution_count": 3,
   "id": "84410f8f",
   "metadata": {
    "execution": {
     "iopub.execute_input": "2025-07-29T12:17:51.598210Z",
     "iopub.status.busy": "2025-07-29T12:17:51.597938Z",
     "iopub.status.idle": "2025-07-29T12:17:57.162665Z",
     "shell.execute_reply": "2025-07-29T12:17:57.161731Z"
    },
    "papermill": {
     "duration": 5.573027,
     "end_time": "2025-07-29T12:17:57.163888",
     "exception": false,
     "start_time": "2025-07-29T12:17:51.590861",
     "status": "completed"
    },
    "tags": []
   },
   "outputs": [
    {
     "name": "stderr",
     "output_type": "stream",
     "text": [
      "/var/scratch/ave303/anaconda3/envs/op_bench/lib/python3.12/site-packages/tqdm/auto.py:21: TqdmWarning: IProgress not found. Please update jupyter and ipywidgets. See https://ipywidgets.readthedocs.io/en/stable/user_install.html\n",
      "  from .autonotebook import tqdm as notebook_tqdm\n"
     ]
    },
    {
     "name": "stdout",
     "output_type": "stream",
     "text": [
      "Using device: cuda\n"
     ]
    }
   ],
   "source": [
    "# Import required libraries\n",
    "import torch\n",
    "import json\n",
    "from pathlib import Path\n",
    "from PIL import Image\n",
    "import gc\n",
    "import re\n",
    "from tqdm import tqdm\n",
    "from typing import List, Dict, Any\n",
    "from qwen_vl_utils import process_vision_info\n",
    "import time\n",
    "\n",
    "# Check if CUDA is available\n",
    "device = torch.device('cuda' if torch.cuda.is_available() else 'cpu')\n",
    "print(f\"Using device: {device}\")"
   ]
  },
  {
   "cell_type": "markdown",
   "id": "6641bb81",
   "metadata": {
    "papermill": {
     "duration": 0.006214,
     "end_time": "2025-07-29T12:17:57.177258",
     "exception": false,
     "start_time": "2025-07-29T12:17:57.171044",
     "status": "completed"
    },
    "tags": []
   },
   "source": [
    "## Benchmark Tester Class\n",
    "\n",
    "This class handles the evaluation of models against our benchmark."
   ]
  },
  {
   "cell_type": "code",
   "execution_count": 4,
   "id": "f40ed43c",
   "metadata": {
    "execution": {
     "iopub.execute_input": "2025-07-29T12:17:57.191522Z",
     "iopub.status.busy": "2025-07-29T12:17:57.191114Z",
     "iopub.status.idle": "2025-07-29T12:17:57.202117Z",
     "shell.execute_reply": "2025-07-29T12:17:57.201390Z"
    },
    "papermill": {
     "duration": 0.019665,
     "end_time": "2025-07-29T12:17:57.203306",
     "exception": false,
     "start_time": "2025-07-29T12:17:57.183641",
     "status": "completed"
    },
    "tags": []
   },
   "outputs": [],
   "source": [
    "# class BenchmarkTester:\n",
    "#     def __init__(self, benchmark_path=\"/var/scratch/ave303/OP_bench/benchmark.json\", data_dir=\"/var/scratch/ave303/OP_bench/\"):\n",
    "#         self.device = \"cuda\" if torch.cuda.is_available() else \"cpu\"\n",
    "#         with open(benchmark_path, 'r') as f:\n",
    "#             self.benchmark = json.load(f)\n",
    "#         self.data_dir = data_dir\n",
    "    \n",
    "#     def format_question(self, question, model_name):\n",
    "#         \"\"\"Format a question for the model.\"\"\"\n",
    "\n",
    "#         if model_name==\"blip2\":\n",
    "#             return f\"Question: {question['question']} Answer:\"\n",
    "#         else:\n",
    "#             return f\"Question: {question['question']} Answer with a number and list of objects. Answer:\"\n",
    "\n",
    "#     def clean_answer(self, answer):\n",
    "#         \"\"\"Clean the model output to extract just the number.\"\"\"\n",
    "#         # Remove any text that's not a number\n",
    "#         # import re\n",
    "#         # numbers = re.findall(r'\\d+', answer)\n",
    "#         # if numbers:\n",
    "#         #     return numbers[0]  # Return the first number found\n",
    "#         # return answer\n",
    "#         \"\"\"Extract number and reasoning from the model's answer.\"\"\"\n",
    "#         # Try to extract number and reasoning using regex\n",
    "#         import re\n",
    "#         pattern = r'(\\d+)\\s*\\[(.*?)\\]'\n",
    "#         match = re.search(pattern, answer)\n",
    "        \n",
    "#         if match:\n",
    "#             number = match.group(1)\n",
    "#             objects = [obj.strip() for obj in match.group(2).split(',')]\n",
    "#             return {\n",
    "#                 \"count\": number,\n",
    "#                 \"reasoning\": objects\n",
    "#             }\n",
    "#         else:\n",
    "#             # Fallback if format isn't matched\n",
    "#             numbers = re.findall(r'\\d+', answer)\n",
    "#             return {\n",
    "#                 \"count\": numbers[0] if numbers else \"0\",\n",
    "#                 \"reasoning\": []\n",
    "#             }\n",
    "\n",
    "#     def model_generation(self, model_name, model, inputs, processor):\n",
    "#         \"\"\"Generate answer and decode.\"\"\"\n",
    "#         outputs = None  # Initialize outputs to None\n",
    "        \n",
    "#         if model_name==\"smolVLM2\":\n",
    "#             outputs = model.generate(**inputs, do_sample=False, max_new_tokens=64)\n",
    "#             answer = processor.batch_decode(\n",
    "#                 outputs,\n",
    "#                 skip_special_tokens=True,\n",
    "#             )[0]\n",
    "#         elif model_name==\"Qwen2.5-VL\":\n",
    "#             outputs = model.generate(**inputs, max_new_tokens=50)\n",
    "#             outputs = [\n",
    "#                 out_ids[len(in_ids) :] for in_ids, out_ids in zip(inputs.input_ids, outputs)\n",
    "#             ]\n",
    "#             answer = processor.batch_decode(\n",
    "#                 outputs, skip_special_tokens=True, clean_up_tokenization_spaces=False\n",
    "#             )[0]\n",
    "#         else:\n",
    "#             print(f\"Warning: Unknown model name '{model_name}' in model_generation.\")\n",
    "#             answer = \"\"  # Return an empty string\n",
    "\n",
    "#         return answer, outputs\n",
    "    \n",
    "#     def evaluate_model(self, model_name, model, processor, save_path, start_idx=0, batch_size=5):\n",
    "#         results = []\n",
    "#         print(f\"\\nEvaluating {model_name}...\")\n",
    "#         print(f\"Using device: {self.device}\")\n",
    "        \n",
    "#         # Force garbage collection before starting\n",
    "#         gc.collect()\n",
    "#         torch.cuda.empty_cache()\n",
    "\n",
    "#         try:\n",
    "#             images = self.benchmark['benchmark']['images'][start_idx:start_idx + batch_size]\n",
    "#             total_images = len(images)\n",
    "            \n",
    "#             for idx, image_data in enumerate(tqdm(images, desc=\"Processing images\")):\n",
    "#                 try:\n",
    "#                     print(f\"\\nProcessing image {idx+1}/{total_images}: {image_data['image_id']}\")\n",
    "#                     image_path = Path(self.data_dir)/image_data['path']\n",
    "#                     if not image_path.exists():\n",
    "#                         print(f\"Warning: Image not found at {image_path}\")\n",
    "#                         continue\n",
    "                    \n",
    "#                     # Load and preprocess image\n",
    "#                     image = Image.open(image_path).convert(\"RGB\")\n",
    "#                     image_results = []  # Store results for current image\n",
    "                    \n",
    "#                     for question in image_data['questions']:\n",
    "#                         try:\n",
    "#                             # prompt = self.format_question(question, model_name)\n",
    "#                             print(f\"Question: {question['question']}\")\n",
    "\n",
    "#                             messages = [\n",
    "#                                 {\n",
    "#                                     \"role\": \"user\",\n",
    "#                                     \"content\": [\n",
    "#                                         {\"type\": \"image\", \"image\": image},\n",
    "#                                         # {\"type\": \"text\", \"text\": f\"{question['question']} Answer format: total number(numerical) objects(within square brackets)\"},\n",
    "#                                         # {\"type\": \"text\", \"text\": f\"{question['question']} Provide just the total count and the list of objects in the given format \\n Format: number [objects]\"},\n",
    "#                                         # {\"type\": \"text\", \"text\": f\"{question['question']} Answer Format: number [objects]\"},\n",
    "#                                         {\"type\": \"text\", \"text\": f\"{question[\"question\"]} Your response MUST be in the following format and nothing else:\\n <NUMBER> [<OBJECT1>, <OBJECT2>, <OBJECT3>, ...]\"}\n",
    "#                                     ]\n",
    "#                                 },\n",
    "#                             ]\n",
    "                            \n",
    "#                             # Clear cache before processing each question\n",
    "#                             torch.cuda.empty_cache()\n",
    "                            \n",
    "#                             # Process image and text\n",
    "#                             # inputs = processor(images=image, text=prompt, return_tensors=\"pt\").to(self.device)\n",
    "#                             if model_name==\"smolVLM2\":\n",
    "#                                 inputs = processor.apply_chat_template(\n",
    "#                                     messages,\n",
    "#                                     add_generation_prompt=True,\n",
    "#                                     tokenize=True,\n",
    "#                                     return_dict=True,\n",
    "#                                     return_tensors=\"pt\",\n",
    "#                                 ).to(model.device, dtype=torch.float16)\n",
    "#                             else:\n",
    "                                \n",
    "#                                 text = processor.apply_chat_template(\n",
    "#                                     messages, tokenize=False, add_generation_prompt=True\n",
    "#                                 )\n",
    "#                                 # image_inputs, video_inputs = process_vision_info(messages)\n",
    "#                                 inputs = processor(\n",
    "#                                     text=text,\n",
    "#                                     images=image,\n",
    "#                                     videos=None,\n",
    "#                                     padding=True,\n",
    "#                                     return_tensors=\"pt\",\n",
    "#                                 ).to(\"cuda\")\n",
    "                            \n",
    "#                             # Generate answer with better settings\n",
    "#                             with torch.no_grad():\n",
    "#                                 answer, outputs = self.model_generation(model_name, model, inputs, processor)    #call for model.generate\n",
    "        \n",
    "#                             cleaned_answer = self.clean_answer(answer)\n",
    "                            \n",
    "#                             image_results.append({\n",
    "#                                 \"image_id\": image_data[\"image_id\"],\n",
    "#                                 \"image_type\": image_data[\"image_type\"],\n",
    "#                                 \"question_id\": question[\"id\"],\n",
    "#                                 \"question\": question[\"question\"],\n",
    "#                                 \"ground_truth\": question[\"answer\"],\n",
    "#                                 \"model_answer\": cleaned_answer[\"count\"],\n",
    "#                                 \"model_reasoning\": cleaned_answer[\"reasoning\"],\n",
    "#                                 \"raw_answer\": answer,  # Keep raw answer for debugging\n",
    "#                                 \"property_category\": question[\"property_category\"]\n",
    "#                             })\n",
    "                            \n",
    "#                             # Clear memory\n",
    "#                             del outputs, inputs\n",
    "#                             torch.cuda.empty_cache()\n",
    "                            \n",
    "#                         except Exception as e:\n",
    "#                             print(f\"Error processing question: {str(e)}\")\n",
    "#                             continue\n",
    "                    \n",
    "#                     # Add results from this image\n",
    "#                     results.extend(image_results)\n",
    "                    \n",
    "#                     # Save intermediate results only every 2 images or if it's the last image\n",
    "#                     if (idx + 1) % 2 == 0 or idx == total_images - 1:\n",
    "#                         with open(f\"{save_path}_checkpoint.json\", 'w') as f:\n",
    "#                             json.dump(results, f, indent=4)\n",
    "                            \n",
    "#                 except Exception as e:\n",
    "#                     print(f\"Error processing image {image_data['image_id']}: {str(e)}\")\n",
    "#                     continue\n",
    "            \n",
    "#             # Save final results\n",
    "#             if results:\n",
    "#                 with open(save_path, 'w') as f:\n",
    "#                     json.dump(results, f, indent=4)\n",
    "            \n",
    "#         except Exception as e:\n",
    "#             print(f\"An error occurred during evaluation: {str(e)}\")\n",
    "#             if results:\n",
    "                # with open(f\"{save_path}_error_state.json\", 'w') as f:\n",
    "#                     json.dump(results, f, indent=4)\n",
    "        \n",
    "#         return results"
   ]
  },
  {
   "cell_type": "code",
   "execution_count": 5,
   "id": "339f7129",
   "metadata": {
    "execution": {
     "iopub.execute_input": "2025-07-29T12:17:57.217598Z",
     "iopub.status.busy": "2025-07-29T12:17:57.217341Z",
     "iopub.status.idle": "2025-07-29T12:17:57.240872Z",
     "shell.execute_reply": "2025-07-29T12:17:57.240148Z"
    },
    "papermill": {
     "duration": 0.032348,
     "end_time": "2025-07-29T12:17:57.242017",
     "exception": false,
     "start_time": "2025-07-29T12:17:57.209669",
     "status": "completed"
    },
    "tags": []
   },
   "outputs": [],
   "source": [
    "# import torch\n",
    "# import json\n",
    "# from pathlib import Path\n",
    "# from PIL import Image\n",
    "# import gc\n",
    "# import re\n",
    "# import time\n",
    "# from tqdm import tqdm\n",
    "# from typing import List, Dict, Any\n",
    "# import psutil\n",
    "# import os\n",
    "\n",
    "# class BenchmarkTester:\n",
    "#     def __init__(self, benchmark_path=\"/var/scratch/ave303/OP_bench/benchmark.json\", data_dir=\"/var/scratch/ave303/OP_bench/\"):\n",
    "#         self.device = \"cuda\" if torch.cuda.is_available() else \"cpu\"\n",
    "#         with open(benchmark_path, 'r') as f:\n",
    "#             self.benchmark = json.load(f)\n",
    "#         self.data_dir = data_dir\n",
    "        \n",
    "#         # Set memory optimization environment variables\n",
    "#         os.environ['PYTORCH_CUDA_ALLOC_CONF'] = 'expandable_segments:True'\n",
    "        \n",
    "#         # Memory monitoring\n",
    "#         self.max_memory_allocated = 0\n",
    "#         self.memory_threshold = 0.70  # 70% of GPU memory as threshold\n",
    "\n",
    "#     def get_gpu_memory_info(self):\n",
    "#         \"\"\"Get current GPU memory usage information.\"\"\"\n",
    "#         if torch.cuda.is_available():\n",
    "#             allocated = torch.cuda.memory_allocated() / 1024**3  # GB\n",
    "#             reserved = torch.cuda.memory_reserved() / 1024**3    # GB\n",
    "#             max_memory = torch.cuda.max_memory_allocated() / 1024**3  # GB\n",
    "#             total_memory = torch.cuda.get_device_properties(0).total_memory / 1024**3  # GB\n",
    "            \n",
    "#             return {\n",
    "#                 'allocated': allocated,\n",
    "#                 'reserved': reserved,\n",
    "#                 'max_allocated': max_memory,\n",
    "#                 'total': total_memory,\n",
    "#                 'free': total_memory - allocated,\n",
    "#                 'usage_percent': (allocated / total_memory) * 100\n",
    "#             }\n",
    "#         return None\n",
    "\n",
    "#     def aggressive_memory_cleanup(self):\n",
    "#         \"\"\"Perform aggressive memory cleanup - alias for ultra_aggressive_memory_cleanup.\"\"\"\n",
    "#         self.ultra_aggressive_memory_cleanup()\n",
    "\n",
    "#     def ultra_aggressive_memory_cleanup(self):\n",
    "#         \"\"\"Perform ultra-aggressive memory cleanup including model cache clearing.\"\"\"\n",
    "#         # Clear Python garbage collector multiple times\n",
    "#         for _ in range(5):\n",
    "#             gc.collect()\n",
    "        \n",
    "#         if torch.cuda.is_available():\n",
    "#             # Force synchronize all streams\n",
    "#             torch.cuda.synchronize()\n",
    "#             # Clear all cached memory\n",
    "#             torch.cuda.empty_cache()\n",
    "#             # Reset peak memory stats\n",
    "#             torch.cuda.reset_peak_memory_stats()\n",
    "#             # Force memory defragmentation\n",
    "#             torch.cuda.memory.empty_cache()\n",
    "#             # Another sync to ensure completion\n",
    "#             torch.cuda.synchronize()\n",
    "            \n",
    "#         # Force system memory cleanup\n",
    "#         import ctypes\n",
    "#         libc = ctypes.CDLL(\"libc.so.6\")\n",
    "#         libc.malloc_trim(0)\n",
    "\n",
    "#     def check_available_memory_and_restart_if_needed(self):\n",
    "#         \"\"\"Check if we need to recommend model restart due to fragmentation.\"\"\"\n",
    "#         memory_info = self.get_gpu_memory_info()\n",
    "#         if memory_info:\n",
    "#             # If allocated is much less than reserved, we have fragmentation\n",
    "#             fragmentation_ratio = memory_info['reserved'] / max(memory_info['allocated'], 0.1)\n",
    "#             if fragmentation_ratio > 2.0 and memory_info['usage_percent'] > 80:\n",
    "#                 print(f\"⚠️  Severe memory fragmentation detected (fragmentation ratio: {fragmentation_ratio:.2f})\")\n",
    "#                 print(\"Consider restarting the Python process to defragment GPU memory\")\n",
    "#                 return False\n",
    "#         return True\n",
    "\n",
    "#     def resize_image_if_needed(self, image, max_size=(512, 512)):\n",
    "#         \"\"\"Resize image aggressively to prevent memory issues.\"\"\"\n",
    "#         original_size = image.size\n",
    "        \n",
    "#         # Always resize to max_size to ensure consistent memory usage\n",
    "#         # Calculate aspect ratio preserving resize\n",
    "#         ratio = min(max_size[0] / original_size[0], max_size[1] / original_size[1])\n",
    "#         new_size = (int(original_size[0] * ratio), int(original_size[1] * ratio))\n",
    "        \n",
    "#         print(f\"Resizing image from {original_size} to {new_size}\")\n",
    "#         # Use NEAREST for fastest processing and lowest memory\n",
    "#         image = image.resize(new_size, Image.Resampling.NEAREST)\n",
    "        \n",
    "#         return image\n",
    "\n",
    "#     def check_memory_before_processing(self, image_id, skip_if_high=True):\n",
    "#         \"\"\"Check if we have enough memory before processing with option to skip.\"\"\"\n",
    "#         memory_info = self.get_gpu_memory_info()\n",
    "#         if memory_info and memory_info['usage_percent'] > self.memory_threshold * 100:\n",
    "#             print(f\"Warning: High memory usage ({memory_info['usage_percent']:.1f}%) before processing {image_id}\")\n",
    "#             self.ultra_aggressive_memory_cleanup()\n",
    "            \n",
    "#             # Check again after cleanup\n",
    "#             memory_info = self.get_gpu_memory_info()\n",
    "#             if memory_info['usage_percent'] > self.memory_threshold * 100:\n",
    "#                 print(f\"Critical: Still high memory usage ({memory_info['usage_percent']:.1f}%) after cleanup\")\n",
    "                \n",
    "#                 # Check for fragmentation issues\n",
    "#                 if not self.check_available_memory_and_restart_if_needed():\n",
    "#                     return False\n",
    "                    \n",
    "#                 if skip_if_high:\n",
    "#                     print(f\"Skipping {image_id} due to insufficient memory\")\n",
    "#                     return False\n",
    "#         return True\n",
    "\n",
    "#     def clean_answer(self, answer):\n",
    "#         \"\"\"Extract number and reasoning from the model's answer.\"\"\"\n",
    "#         import re\n",
    "#         pattern = r'(\\d+)\\s*\\[(.*?)\\]'\n",
    "#         match = re.search(pattern, answer)\n",
    "        \n",
    "#         if match:\n",
    "#             number = match.group(1)\n",
    "#             objects = [obj.strip() for obj in match.group(2).split(',')]\n",
    "#             return {\n",
    "#                 \"count\": number,\n",
    "#                 \"reasoning\": objects\n",
    "#             }\n",
    "#         else:\n",
    "#             numbers = re.findall(r'\\d+', answer)\n",
    "#             return {\n",
    "#                 \"count\": numbers[0] if numbers else \"0\",\n",
    "#                 \"reasoning\": []\n",
    "#             }\n",
    "\n",
    "#     def model_generation(self, model_name, model, inputs, processor):\n",
    "#         \"\"\"Generate answer with memory-optimized inference.\"\"\"\n",
    "#         outputs = None\n",
    "        \n",
    "#         try:\n",
    "#             if model_name == \"Qwen2.5-VL\":\n",
    "#                 # Use gradient checkpointing and mixed precision if available\n",
    "#                 with torch.cuda.amp.autocast(enabled=True):\n",
    "#                     outputs = model.generate(\n",
    "#                         **inputs, \n",
    "#                         max_new_tokens=200,\n",
    "#                         do_sample=False,\n",
    "#                         temperature=None,\n",
    "#                         top_p=None,\n",
    "#                         top_k=None,\n",
    "#                         num_beams=1,\n",
    "#                         early_stopping=False,\n",
    "#                         pad_token_id=processor.tokenizer.pad_token_id,\n",
    "#                         eos_token_id=processor.tokenizer.eos_token_id,\n",
    "#                         use_cache=False,  # Disable KV cache to save memory\n",
    "#                     )\n",
    "                \n",
    "#                 outputs = [\n",
    "#                     out_ids[len(in_ids):] for in_ids, out_ids in zip(inputs.input_ids, outputs)\n",
    "#                 ]\n",
    "#                 answer = processor.batch_decode(\n",
    "#                     outputs, skip_special_tokens=True, clean_up_tokenization_spaces=False\n",
    "#                 )[0]\n",
    "#             else:\n",
    "#                 print(f\"Warning: Unknown model name '{model_name}' in model_generation.\")\n",
    "#                 answer = \"\"\n",
    "\n",
    "#             return answer, outputs\n",
    "            \n",
    "#         except torch.cuda.OutOfMemoryError as e:\n",
    "#             print(f\"CUDA OOM during generation: {e}\")\n",
    "#             # Aggressive cleanup and retry once\n",
    "#             self.aggressive_memory_cleanup()\n",
    "#             raise e\n",
    "\n",
    "#     def process_single_question(self, model_name, model, processor, image, question, image_id):\n",
    "#         \"\"\"Process a single question with extreme memory optimization.\"\"\"\n",
    "#         try:\n",
    "#             # Ultra-aggressive pre-check\n",
    "#             if not self.check_memory_before_processing(f\"{image_id}_q{question['id']}\", skip_if_high=False):\n",
    "#                 raise RuntimeError(\"Insufficient GPU memory after cleanup\")\n",
    "\n",
    "#             # Create a minimal image copy to avoid references\n",
    "#             image_copy = image.copy()\n",
    "            \n",
    "#             messages = [\n",
    "#                 {\n",
    "#                     \"role\": \"user\",\n",
    "#                     \"content\": [\n",
    "#                         {\"type\": \"image\", \"image\": image_copy},\n",
    "#                         {\"type\": \"text\", \"text\": f\"{question['question']} Your response MUST be in the following format and nothing else:\\n <NUMBER> [<OBJECT1>, <OBJECT2>, <OBJECT3>, ...]\"}\n",
    "#                     ]\n",
    "#                 },\n",
    "#             ]\n",
    "            \n",
    "#             # Process with maximum memory optimization\n",
    "#             text = processor.apply_chat_template(\n",
    "#                 messages, tokenize=False, add_generation_prompt=True\n",
    "#             )\n",
    "            \n",
    "#             # Monitor memory before tokenization\n",
    "#             memory_before = self.get_gpu_memory_info()\n",
    "#             if memory_before and memory_before['usage_percent'] > 75:\n",
    "#                 print(f\"⚠️  Memory usage high before tokenization: {memory_before['usage_percent']:.1f}%\")\n",
    "#                 self.ultra_aggressive_memory_cleanup()\n",
    "            \n",
    "#             # Process inputs with minimal memory footprint\n",
    "#             inputs = processor(\n",
    "#                 text=text,\n",
    "#                 images=image_copy,\n",
    "#                 videos=None,\n",
    "#                 padding=True,\n",
    "#                 return_tensors=\"pt\",\n",
    "#             )\n",
    "            \n",
    "#             # Move to device only when needed\n",
    "#             inputs = {k: v.to(self.device) if hasattr(v, 'to') else v for k, v in inputs.items()}\n",
    "            \n",
    "#             # Delete image copy immediately\n",
    "#             del image_copy, messages\n",
    "#             self.ultra_aggressive_memory_cleanup()\n",
    "            \n",
    "#             # Monitor memory before generation\n",
    "#             memory_before_gen = self.get_gpu_memory_info()\n",
    "#             if memory_before_gen:\n",
    "#                 print(f\"Memory before generation: {memory_before_gen['usage_percent']:.1f}%\")\n",
    "#                 if memory_before_gen['usage_percent'] > 85:\n",
    "#                     raise RuntimeError(f\"Memory too high for generation: {memory_before_gen['usage_percent']:.1f}%\")\n",
    "            \n",
    "#             # Generate with maximum memory efficiency\n",
    "#             with torch.no_grad():\n",
    "#                 with torch.cuda.amp.autocast(enabled=True, dtype=torch.float16):\n",
    "#                     answer, outputs = self.model_generation(model_name, model, inputs, processor)\n",
    "            \n",
    "#             cleaned_answer = self.clean_answer(answer)\n",
    "            \n",
    "#             # Immediate and thorough cleanup\n",
    "#             del outputs, inputs\n",
    "#             self.ultra_aggressive_memory_cleanup()\n",
    "            \n",
    "#             return {\n",
    "#                 \"question_id\": question[\"id\"],\n",
    "#                 \"question\": question[\"question\"],\n",
    "#                 \"ground_truth\": question[\"answer\"],\n",
    "#                 \"model_answer\": cleaned_answer[\"count\"],\n",
    "#                 \"model_reasoning\": cleaned_answer[\"reasoning\"],\n",
    "#                 \"raw_answer\": answer,\n",
    "#                 \"property_category\": question[\"property_category\"]\n",
    "#             }\n",
    "            \n",
    "#         except (torch.cuda.OutOfMemoryError, RuntimeError) as e:\n",
    "#             print(f\"Error processing question {question['id']}: {e}\")\n",
    "#             self.ultra_aggressive_memory_cleanup()\n",
    "#             raise e\n",
    "\n",
    "#     def evaluate_model(self, model_name, model, processor, save_path, start_idx=0, batch_size=5):\n",
    "#         results = []\n",
    "        \n",
    "#         # Initialize tracking variables\n",
    "#         successful_images = []\n",
    "#         failed_images = []\n",
    "#         total_questions_processed = 0\n",
    "#         total_questions_failed = 0\n",
    "        \n",
    "#         print(f\"\\nEvaluating {model_name}...\")\n",
    "#         print(f\"Using device: {self.device}\")\n",
    "        \n",
    "#         # Initial memory cleanup\n",
    "#         self.ultra_aggressive_memory_cleanup()\n",
    "        \n",
    "#         # Print initial memory status\n",
    "#         memory_info = self.get_gpu_memory_info()\n",
    "#         if memory_info:\n",
    "#             print(f\"Initial GPU memory: {memory_info['usage_percent']:.1f}% used\")\n",
    "\n",
    "#         try:\n",
    "#             images = self.benchmark['benchmark']['images'][start_idx:start_idx + batch_size]\n",
    "#             total_images = len(images)\n",
    "            \n",
    "#             for idx, image_data in enumerate(tqdm(images, desc=\"Processing images\")):\n",
    "#                 image_start_time = time.time()\n",
    "#                 current_image_questions_failed = 0\n",
    "#                 current_image_questions_total = 0\n",
    "                \n",
    "#                 try:\n",
    "#                     image_path = Path(self.data_dir) / image_data['path']\n",
    "#                     if not image_path.exists():\n",
    "#                         failed_images.append({\n",
    "#                             'image_id': image_data['image_id'],\n",
    "#                             'image_type': image_data.get('image_type', 'unknown'),\n",
    "#                             'error_type': 'file_not_found',\n",
    "#                             'error_message': f'Image not found at {image_path}'\n",
    "#                         })\n",
    "#                         continue\n",
    "                    \n",
    "#                     # Load and preprocess image with size control\n",
    "#                     image = Image.open(image_path).convert(\"RGB\")\n",
    "#                     print(f\"Original image size: {image.size}\")\n",
    "                    \n",
    "#                     # Resize aggressively - much smaller images\n",
    "#                     image = self.resize_image_if_needed(image, max_size=(384, 384))\n",
    "                    \n",
    "#                     image_results = []\n",
    "                    \n",
    "#                     # Process questions one by one with memory monitoring\n",
    "#                     for question_idx, question in enumerate(image_data['questions']):\n",
    "#                         current_image_questions_total += 1\n",
    "#                         total_questions_processed += 1\n",
    "                        \n",
    "#                         try:\n",
    "#                             # Process single question\n",
    "#                             question_result = self.process_single_question(\n",
    "#                                 model_name, model, processor, image, question, image_data['image_id']\n",
    "#                             )\n",
    "                            \n",
    "#                             # Add image metadata\n",
    "#                             question_result.update({\n",
    "#                                 \"image_id\": image_data[\"image_id\"],\n",
    "#                                 \"image_type\": image_data.get(\"image_type\", \"unknown\")\n",
    "#                             })\n",
    "                            \n",
    "#                             image_results.append(question_result)\n",
    "                            \n",
    "#                         except Exception as e:\n",
    "#                             print(f\"Failed question {question['id']}: {e}\")\n",
    "#                             current_image_questions_failed += 1\n",
    "#                             total_questions_failed += 1\n",
    "#                             continue\n",
    "                    \n",
    "#                     # Add results from this image\n",
    "#                     results.extend(image_results)\n",
    "                    \n",
    "#                     # Calculate success metrics\n",
    "#                     questions_succeeded = current_image_questions_total - current_image_questions_failed\n",
    "                    \n",
    "#                     if current_image_questions_failed == 0:\n",
    "#                         successful_images.append({\n",
    "#                             'image_id': image_data['image_id'],\n",
    "#                             'image_type': image_data.get('image_type', 'unknown'),\n",
    "#                             'questions_total': current_image_questions_total,\n",
    "#                             'questions_succeeded': questions_succeeded,\n",
    "#                             'processing_time': time.time() - image_start_time\n",
    "#                         })\n",
    "#                     else:\n",
    "#                         image_success_rate = (questions_succeeded / current_image_questions_total * 100) if current_image_questions_total > 0 else 0\n",
    "#                         failed_images.append({\n",
    "#                             'image_id': image_data['image_id'],\n",
    "#                             'image_type': image_data.get('image_type', 'unknown'),\n",
    "#                             'error_type': 'partial_failure',\n",
    "#                             'questions_total': current_image_questions_total,\n",
    "#                             'questions_failed': current_image_questions_failed,\n",
    "#                             'questions_succeeded': questions_succeeded,\n",
    "#                             'success_rate': f\"{image_success_rate:.1f}%\"\n",
    "#                         })\n",
    "                    \n",
    "#                     # Ultra-aggressive cleanup after each image\n",
    "#                     del image\n",
    "#                     self.ultra_aggressive_memory_cleanup()\n",
    "                    \n",
    "#                     # Save intermediate results\n",
    "#                     if (idx + 1) % 2 == 0 or idx == total_images - 1:\n",
    "#                         checkpoint_path = f\"{save_path}_checkpoint.json\"\n",
    "#                         with open(checkpoint_path, 'w') as f:\n",
    "#                             json.dump(results, f, indent=4)\n",
    "                            \n",
    "#                 except Exception as e:\n",
    "#                     print(f\"Complete failure for image {image_data['image_id']}: {e}\")\n",
    "#                     failed_images.append({\n",
    "#                         'image_id': image_data['image_id'],\n",
    "#                         'image_type': image_data.get('image_type', 'unknown'),\n",
    "#                         'error_type': 'complete_failure',\n",
    "#                         'error_message': str(e)\n",
    "#                     })\n",
    "                    \n",
    "#                     # Cleanup even on failure\n",
    "#                     self.ultra_aggressive_memory_cleanup()\n",
    "#                     continue\n",
    "            \n",
    "#             # Save final results\n",
    "#             if results:\n",
    "#                 with open(save_path, 'w') as f:\n",
    "#                     json.dump(results, f, indent=4)\n",
    "            \n",
    "#         except Exception as e:\n",
    "#             print(f\"Critical error during evaluation: {e}\")\n",
    "#             if results:\n",
    "#                 error_save_path = f\"{save_path}_error_state.json\"\n",
    "#                 with open(error_save_path, 'w') as f:\n",
    "#                     json.dump(results, f, indent=4)\n",
    "        \n",
    "#         # Print comprehensive summary\n",
    "#         self._print_evaluation_summary(\n",
    "#             model_name, total_images, successful_images, failed_images, \n",
    "#             total_questions_processed, total_questions_failed, len(results)\n",
    "#         )\n",
    "        \n",
    "#         return results\n",
    "    \n",
    "#     def _print_evaluation_summary(self, model_name, total_images, successful_images, \n",
    "#                                 failed_images, total_questions_processed, total_questions_failed, total_results):\n",
    "#         \"\"\"Print a comprehensive evaluation summary.\"\"\"\n",
    "#         print(f\"\\n{'='*60}\")\n",
    "#         print(f\"EVALUATION SUMMARY FOR {model_name.upper()}\")\n",
    "#         print(f\"{'='*60}\")\n",
    "        \n",
    "#         # Image-level statistics\n",
    "#         num_successful = len(successful_images)\n",
    "#         num_failed = len(failed_images)\n",
    "        \n",
    "#         print(f\"📊 IMAGE PROCESSING SUMMARY:\")\n",
    "#         print(f\"   Total images attempted: {total_images}\")\n",
    "#         print(f\"   Successfully processed: {num_successful} ({num_successful/total_images*100:.1f}%)\")\n",
    "#         print(f\"   Failed images: {num_failed} ({num_failed/total_images*100:.1f}%)\")\n",
    "        \n",
    "#         # Question-level statistics\n",
    "#         questions_succeeded = total_questions_processed - total_questions_failed\n",
    "#         print(f\"\\n📝 QUESTION PROCESSING SUMMARY:\")\n",
    "#         print(f\"   Total questions attempted: {total_questions_processed}\")\n",
    "#         print(f\"   Successfully processed: {questions_succeeded} ({questions_succeeded/total_questions_processed*100:.1f}%)\")\n",
    "#         print(f\"   Failed questions: {total_questions_failed} ({total_questions_failed/total_questions_processed*100:.1f}%)\")\n",
    "#         print(f\"   Results saved: {total_results}\")\n",
    "        \n",
    "#         # Memory usage summary\n",
    "#         memory_info = self.get_gpu_memory_info()\n",
    "#         if memory_info:\n",
    "#             print(f\"\\n🧠 FINAL MEMORY USAGE:\")\n",
    "#             print(f\"   Current allocation: {memory_info['allocated']:.2f} GB ({memory_info['usage_percent']:.1f}%)\")\n",
    "#             print(f\"   Peak allocation: {memory_info['max_allocated']:.2f} GB\")\n",
    "#             print(f\"   Total GPU memory: {memory_info['total']:.2f} GB\")\n",
    "        \n",
    "#         # Successful images details\n",
    "#         if successful_images:\n",
    "#             print(f\"\\n✅ SUCCESSFUL IMAGES ({len(successful_images)}):\")\n",
    "#             for img in successful_images:\n",
    "#                 print(f\"   • {img['image_id']} (Type: {img['image_type']}, \"\n",
    "#                       f\"Questions: {img['questions_succeeded']}/{img['questions_total']}, \"\n",
    "#                       f\"Time: {img['processing_time']:.1f}s)\")\n",
    "        \n",
    "#         # Failed images details\n",
    "#         if failed_images:\n",
    "#             print(f\"\\n❌ FAILED/PROBLEMATIC IMAGES ({len(failed_images)}):\")\n",
    "#             for img in failed_images:\n",
    "#                 if img['error_type'] == 'complete_failure':\n",
    "#                     print(f\"   • {img['image_id']} (Type: {img['image_type']}) - \"\n",
    "#                           f\"COMPLETE FAILURE: {img.get('error_message', 'Unknown error')}\")\n",
    "#                 elif img['error_type'] == 'partial_failure':\n",
    "#                     print(f\"   • {img['image_id']} (Type: {img['image_type']}) - \"\n",
    "#                           f\"PARTIAL: {img['questions_failed']}/{img['questions_total']} failed \"\n",
    "#                           f\"({img['success_rate']} success)\")\n",
    "#                 elif img['error_type'] == 'file_not_found':\n",
    "#                     print(f\"   • {img['image_id']} (Type: {img['image_type']}) - \"\n",
    "#                           f\"FILE NOT FOUND: {img['error_message']}\")\n",
    "        \n",
    "#         print(f\"{'='*60}\\n\")"
   ]
  },
  {
   "cell_type": "code",
   "execution_count": 6,
   "id": "80db117c",
   "metadata": {
    "execution": {
     "iopub.execute_input": "2025-07-29T12:17:57.256010Z",
     "iopub.status.busy": "2025-07-29T12:17:57.255769Z",
     "iopub.status.idle": "2025-07-29T12:17:57.287053Z",
     "shell.execute_reply": "2025-07-29T12:17:57.286333Z"
    },
    "papermill": {
     "duration": 0.039863,
     "end_time": "2025-07-29T12:17:57.288230",
     "exception": false,
     "start_time": "2025-07-29T12:17:57.248367",
     "status": "completed"
    },
    "tags": []
   },
   "outputs": [],
   "source": [
    "class BenchmarkTester:\n",
    "    def __init__(self, benchmark_path=\"/var/scratch/ave303/OP_bench/benchmark.json\", data_dir=\"/var/scratch/ave303/OP_bench/\"):\n",
    "        self.device = \"cuda\" if torch.cuda.is_available() else \"cpu\"\n",
    "        with open(benchmark_path, 'r') as f:\n",
    "            self.benchmark = json.load(f)\n",
    "        self.data_dir = data_dir\n",
    "\n",
    "    def clean_answer(self, answer):\n",
    "        \"\"\"Extract number and reasoning from the model's answer.\"\"\"\n",
    "        # Try to extract number and reasoning using regex\n",
    "        import re\n",
    "        pattern = r'(\\d+)\\s*\\[(.*?)\\]'\n",
    "        match = re.search(pattern, answer)\n",
    "        \n",
    "        if match:\n",
    "            number = match.group(1)\n",
    "            objects = [obj.strip() for obj in match.group(2).split(',')]\n",
    "            return {\n",
    "                \"count\": number,\n",
    "                \"reasoning\": objects\n",
    "            }\n",
    "        else:\n",
    "            # Fallback if format isn't matched\n",
    "            numbers = re.findall(r'\\d+', answer)\n",
    "            return {\n",
    "                \"count\": numbers[0] if numbers else \"0\",\n",
    "                \"reasoning\": []\n",
    "            }\n",
    "\n",
    "    def model_generation(self, model_name, model, inputs, processor):\n",
    "        \"\"\"Generate answer and decode with greedy decoding.\"\"\"\n",
    "        outputs = None  # Initialize outputs to None\n",
    "        \n",
    "        if model_name == \"Qwen2.5-VL\":\n",
    "            # Explicit greedy decoding parameters\n",
    "            outputs = model.generate(\n",
    "                **inputs, \n",
    "                max_new_tokens=200,\n",
    "                do_sample=False,          # Disable sampling for greedy decoding\n",
    "                temperature=None,         # Not used in greedy decoding\n",
    "                top_p=None,              # Not used in greedy decoding  \n",
    "                top_k=None,              # Not used in greedy decoding\n",
    "                num_beams=1,             # Single beam for greedy decoding\n",
    "                early_stopping=False,    # Let it generate until max_tokens or EOS\n",
    "                pad_token_id=processor.tokenizer.pad_token_id,\n",
    "                eos_token_id=processor.tokenizer.eos_token_id\n",
    "            )\n",
    "            outputs = [\n",
    "                out_ids[len(in_ids) :] for in_ids, out_ids in zip(inputs.input_ids, outputs)\n",
    "            ]\n",
    "            answer = processor.batch_decode(\n",
    "                outputs, skip_special_tokens=True, clean_up_tokenization_spaces=False\n",
    "            )[0]\n",
    "        else:\n",
    "            print(f\"Warning: Unknown model name '{model_name}' in model_generation.\")\n",
    "            answer = \"\"  # Return an empty string\n",
    "\n",
    "        return answer, outputs\n",
    "    \n",
    "    def evaluate_model(self, model_name, model, processor, save_path, start_idx=0, batch_size=5):\n",
    "        results = []\n",
    "        \n",
    "        # Initialize tracking variables\n",
    "        successful_images = []\n",
    "        failed_images = []\n",
    "        total_questions_processed = 0\n",
    "        total_questions_failed = 0\n",
    "        \n",
    "        print(f\"\\nEvaluating {model_name}...\")\n",
    "        print(f\"Using device: {self.device}\")\n",
    "        \n",
    "        # Force garbage collection before starting\n",
    "        gc.collect()\n",
    "        torch.cuda.empty_cache()\n",
    "\n",
    "        try:\n",
    "            images = self.benchmark['benchmark']['images'][start_idx:start_idx + batch_size]\n",
    "            total_images = len(images)\n",
    "            \n",
    "            for idx, image_data in enumerate(tqdm(images, desc=\"Processing images\")):\n",
    "                image_start_time = time.time()\n",
    "                current_image_questions_failed = 0\n",
    "                current_image_questions_total = 0\n",
    "                \n",
    "                try:\n",
    "                    image_path = Path(self.data_dir)/image_data['path']\n",
    "                    if not image_path.exists():\n",
    "                        failed_images.append({\n",
    "                            'image_id': image_data['image_id'],\n",
    "                            'image_type': image_data.get('image_type', 'unknown'),\n",
    "                            'error_type': 'file_not_found',\n",
    "                            'error_message': f'Image not found at {image_path}'\n",
    "                        })\n",
    "                        continue\n",
    "                    \n",
    "                    # Load and preprocess image\n",
    "                    image = Image.open(image_path).convert(\"RGB\")\n",
    "                    image_results = []  # Store results for current image\n",
    "                    \n",
    "                    for question_idx, question in enumerate(image_data['questions']):\n",
    "                        current_image_questions_total += 1\n",
    "                        total_questions_processed += 1\n",
    "                        \n",
    "                        try:\n",
    "                            messages = [\n",
    "                                {\n",
    "                                    \"role\": \"user\",\n",
    "                                    \"content\": [\n",
    "                                        {\"type\": \"image\", \"image\": image},\n",
    "                                        {\"type\": \"text\", \"text\": f\"{question['question']} Your response MUST be in the following format and nothing else:\\n <NUMBER> [<OBJECT1>, <OBJECT2>, <OBJECT3>, ...]\"}\n",
    "                                    ]\n",
    "                                },\n",
    "                            ]\n",
    "                            \n",
    "                            # Clear cache before processing each question\n",
    "                            torch.cuda.empty_cache()\n",
    "                            \n",
    "                            # Process image and text for Qwen2.5-VL\n",
    "                            text = processor.apply_chat_template(\n",
    "                                messages, tokenize=False, add_generation_prompt=True\n",
    "                            )\n",
    "                            inputs = processor(\n",
    "                                text=text,\n",
    "                                images=image,\n",
    "                                videos=None,\n",
    "                                padding=True,\n",
    "                                return_tensors=\"pt\",\n",
    "                            ).to(\"cuda\")\n",
    "                            \n",
    "                            # Generate answer with greedy decoding\n",
    "                            with torch.no_grad():\n",
    "                                answer, outputs = self.model_generation(model_name, model, inputs, processor)\n",
    "        \n",
    "                            cleaned_answer = self.clean_answer(answer)\n",
    "                            \n",
    "                            image_results.append({\n",
    "                                \"image_id\": image_data[\"image_id\"],\n",
    "                                \"image_type\": image_data.get(\"image_type\", \"unknown\"),\n",
    "                                \"question_id\": question[\"id\"],\n",
    "                                \"question\": question[\"question\"],\n",
    "                                \"ground_truth\": question[\"answer\"],\n",
    "                                \"model_answer\": cleaned_answer[\"count\"],\n",
    "                                \"model_reasoning\": cleaned_answer[\"reasoning\"],\n",
    "                                \"raw_answer\": answer,  # Keep raw answer for debugging\n",
    "                                \"property_category\": question[\"property_category\"]\n",
    "                            })\n",
    "                            \n",
    "                            # Clear memory\n",
    "                            del outputs, inputs\n",
    "                            torch.cuda.empty_cache()\n",
    "                            \n",
    "                        except Exception as e:\n",
    "                            current_image_questions_failed += 1\n",
    "                            total_questions_failed += 1\n",
    "                            continue\n",
    "                    \n",
    "                    # Add results from this image\n",
    "                    results.extend(image_results)\n",
    "                    \n",
    "                    # Calculate success rate for this image\n",
    "                    questions_succeeded = current_image_questions_total - current_image_questions_failed\n",
    "                    \n",
    "                    if current_image_questions_failed == 0:\n",
    "                        # All questions succeeded\n",
    "                        successful_images.append({\n",
    "                            'image_id': image_data['image_id'],\n",
    "                            'image_type': image_data.get('image_type', 'unknown'),\n",
    "                            'questions_total': current_image_questions_total,\n",
    "                            'questions_succeeded': questions_succeeded,\n",
    "                            'processing_time': time.time() - image_start_time\n",
    "                        })\n",
    "                    else:\n",
    "                        # Some questions failed\n",
    "                        image_success_rate = (questions_succeeded / current_image_questions_total * 100) if current_image_questions_total > 0 else 0\n",
    "                        failed_images.append({\n",
    "                            'image_id': image_data['image_id'],\n",
    "                            'image_type': image_data.get('image_type', 'unknown'),\n",
    "                            'error_type': 'partial_failure',\n",
    "                            'questions_total': current_image_questions_total,\n",
    "                            'questions_failed': current_image_questions_failed,\n",
    "                            'questions_succeeded': questions_succeeded,\n",
    "                            'success_rate': f\"{image_success_rate:.1f}%\"\n",
    "                        })\n",
    "                    \n",
    "                    # Save intermediate results only every 2 images or if it's the last image\n",
    "                    if (idx + 1) % 2 == 0 or idx == total_images - 1:\n",
    "                        checkpoint_path = f\"{save_path}_checkpoint.json\"\n",
    "                        with open(checkpoint_path, 'w') as f:\n",
    "                            json.dump(results, f, indent=4)\n",
    "                            \n",
    "                except Exception as e:\n",
    "                    failed_images.append({\n",
    "                        'image_id': image_data['image_id'],\n",
    "                        'image_type': image_data.get('image_type', 'unknown'),\n",
    "                        'error_type': 'complete_failure',\n",
    "                        'error_message': str(e)\n",
    "                    })\n",
    "                    continue\n",
    "            \n",
    "            # Save final results\n",
    "            if results:\n",
    "                with open(save_path, 'w') as f:\n",
    "                    json.dump(results, f, indent=4)\n",
    "            \n",
    "        except Exception as e:\n",
    "            if results:\n",
    "                error_save_path = f\"{save_path}_error_state.json\"\n",
    "                with open(error_save_path, 'w') as f:\n",
    "                    json.dump(results, f, indent=4)\n",
    "        \n",
    "        # Print comprehensive summary\n",
    "        self._print_evaluation_summary(\n",
    "            model_name, total_images, successful_images, failed_images, \n",
    "            total_questions_processed, total_questions_failed, len(results)\n",
    "        )\n",
    "        \n",
    "        return results\n",
    "    \n",
    "    def _print_evaluation_summary(self, model_name, total_images, successful_images, \n",
    "                                failed_images, total_questions_processed, total_questions_failed, total_results):\n",
    "        \"\"\"Print a comprehensive evaluation summary.\"\"\"\n",
    "        print(f\"\\n{'='*60}\")\n",
    "        print(f\"EVALUATION SUMMARY FOR {model_name.upper()}\")\n",
    "        print(f\"{'='*60}\")\n",
    "        \n",
    "        # Image-level statistics\n",
    "        num_successful = len(successful_images)\n",
    "        num_failed = len(failed_images)\n",
    "        \n",
    "        print(f\"📊 IMAGE PROCESSING SUMMARY:\")\n",
    "        print(f\"   Total images attempted: {total_images}\")\n",
    "        print(f\"   Successfully processed: {num_successful} ({num_successful/total_images*100:.1f}%)\")\n",
    "        print(f\"   Failed images: {num_failed} ({num_failed/total_images*100:.1f}%)\")\n",
    "        \n",
    "        # Question-level statistics\n",
    "        questions_succeeded = total_questions_processed - total_questions_failed\n",
    "        print(f\"\\n📝 QUESTION PROCESSING SUMMARY:\")\n",
    "        print(f\"   Total questions attempted: {total_questions_processed}\")\n",
    "        print(f\"   Successfully processed: {questions_succeeded} ({questions_succeeded/total_questions_processed*100:.1f}%)\")\n",
    "        print(f\"   Failed questions: {total_questions_failed} ({total_questions_failed/total_questions_processed*100:.1f}%)\")\n",
    "        print(f\"   Results saved: {total_results}\")\n",
    "        \n",
    "        # Successful images details\n",
    "        if successful_images:\n",
    "            print(f\"\\n✅ SUCCESSFUL IMAGES ({len(successful_images)}):\")\n",
    "            for img in successful_images:\n",
    "                print(f\"   • {img['image_id']} (Type: {img['image_type']}, \"\n",
    "                      f\"Questions: {img['questions_succeeded']}/{img['questions_total']}, \"\n",
    "                      f\"Time: {img['processing_time']:.1f}s)\")\n",
    "        \n",
    "        # Failed images details\n",
    "        if failed_images:\n",
    "            print(f\"\\n❌ FAILED/PROBLEMATIC IMAGES ({len(failed_images)}):\")\n",
    "            for img in failed_images:\n",
    "                if img['error_type'] == 'complete_failure':\n",
    "                    print(f\"   • {img['image_id']} (Type: {img['image_type']}) - \"\n",
    "                          f\"COMPLETE FAILURE: {img.get('error_message', 'Unknown error')}\")\n",
    "                elif img['error_type'] == 'partial_failure':\n",
    "                    print(f\"   • {img['image_id']} (Type: {img['image_type']}) - \"\n",
    "                          f\"PARTIAL: {img['questions_failed']}/{img['questions_total']} failed \"\n",
    "                          f\"({img['success_rate']} success)\")\n",
    "                elif img['error_type'] == 'file_not_found':\n",
    "                    print(f\"   • {img['image_id']} (Type: {img['image_type']}) - \"\n",
    "                          f\"FILE NOT FOUND: {img['error_message']}\")\n",
    "        \n",
    "        # Group failed images by type\n",
    "        if failed_images:\n",
    "            print(f\"\\n📈 FAILURE ANALYSIS BY IMAGE TYPE:\")\n",
    "            from collections import defaultdict\n",
    "            failures_by_type = defaultdict(list)\n",
    "            for img in failed_images:\n",
    "                failures_by_type[img['image_type']].append(img)\n",
    "            \n",
    "            for img_type, failures in failures_by_type.items():\n",
    "                print(f\"   • {img_type}: {len(failures)} failed images\")\n",
    "                for failure in failures:\n",
    "                    print(f\"     - {failure['image_id']} ({failure['error_type']})\")\n",
    "        \n",
    "        print(f\"{'='*60}\\n\")"
   ]
  },
  {
   "cell_type": "markdown",
   "id": "b5b8b6d2",
   "metadata": {
    "papermill": {
     "duration": 0.006209,
     "end_time": "2025-07-29T12:17:57.300963",
     "exception": false,
     "start_time": "2025-07-29T12:17:57.294754",
     "status": "completed"
    },
    "tags": []
   },
   "source": [
    "## Test SmolVLM Model\n",
    "\n",
    "Let's evaluate the SmolVLM2-2.2B-Instruct model"
   ]
  },
  {
   "cell_type": "code",
   "execution_count": 7,
   "id": "2a76b074",
   "metadata": {
    "execution": {
     "iopub.execute_input": "2025-07-29T12:17:57.314452Z",
     "iopub.status.busy": "2025-07-29T12:17:57.314211Z",
     "iopub.status.idle": "2025-07-29T12:17:57.318521Z",
     "shell.execute_reply": "2025-07-29T12:17:57.317779Z"
    },
    "papermill": {
     "duration": 0.012396,
     "end_time": "2025-07-29T12:17:57.319645",
     "exception": false,
     "start_time": "2025-07-29T12:17:57.307249",
     "status": "completed"
    },
    "tags": []
   },
   "outputs": [],
   "source": [
    "# def test_smolVLM2():\n",
    "#     from transformers import AutoProcessor, AutoModelForImageTextToText\n",
    "\n",
    "#     print(\"Loading smolVLM model...\")\n",
    "    \n",
    "#     model = AutoModelForImageTextToText.from_pretrained(\n",
    "#         \"HuggingFaceTB/SmolVLM2-2.2B-Instruct\",\n",
    "#         torch_dtype=torch.float16,\n",
    "#         attn_implementation=\"flash_attention_2\",\n",
    "#         low_cpu_mem_usage=True,\n",
    "#         trust_remote_code=True\n",
    "#     ).to(\"cuda\")\n",
    "\n",
    "#     processor = AutoProcessor.from_pretrained(\"HuggingFaceTB/SmolVLM2-2.2B-Instruct\")\n",
    "\n",
    "#     ## A bit slow without the flash_attention2 requires ampere gpu's. Better performance in some cases\n",
    "\n",
    "#     # Optional: Enable memory efficient attention\n",
    "#     if hasattr(model.config, 'use_memory_efficient_attention'):\n",
    "#         model.config.use_memory_efficient_attention = True\n",
    "\n",
    "#     tester = BenchmarkTester()\n",
    "#     smolVLM_results = tester.evaluate_model(\n",
    "#         \"smolVLM2\",\n",
    "#         model, \n",
    "#         processor, \n",
    "#         \"smolVLM2_results_1.json\", \n",
    "#         batch_size=25\n",
    "#     )\n",
    "\n",
    "#     # Clean up\n",
    "#     del model, processor\n",
    "#     torch.cuda.empty_cache()\n",
    "#     gc.collect()"
   ]
  },
  {
   "cell_type": "markdown",
   "id": "ef3436dc",
   "metadata": {
    "papermill": {
     "duration": 0.006678,
     "end_time": "2025-07-29T12:17:57.332730",
     "exception": false,
     "start_time": "2025-07-29T12:17:57.326052",
     "status": "completed"
    },
    "tags": []
   },
   "source": [
    "## Test Qwen2.5-VL\n",
    "\n",
    "Lets evaluate the Qwen2.5-VL-7B-Instruct model"
   ]
  },
  {
   "cell_type": "code",
   "execution_count": 8,
   "id": "b4c88dff",
   "metadata": {
    "execution": {
     "iopub.execute_input": "2025-07-29T12:17:57.346455Z",
     "iopub.status.busy": "2025-07-29T12:17:57.346137Z",
     "iopub.status.idle": "2025-07-29T12:17:57.352038Z",
     "shell.execute_reply": "2025-07-29T12:17:57.351335Z"
    },
    "papermill": {
     "duration": 0.014016,
     "end_time": "2025-07-29T12:17:57.353130",
     "exception": false,
     "start_time": "2025-07-29T12:17:57.339114",
     "status": "completed"
    },
    "tags": []
   },
   "outputs": [],
   "source": [
    "def test_Qwen2_5VL():\n",
    "    from transformers import Qwen2_5_VLForConditionalGeneration, AutoProcessor\n",
    "    \n",
    "    # default: Load the model on the available device(s)\n",
    "    # model = Qwen2_5_VLForConditionalGeneration.from_pretrained(\n",
    "    #     \"Qwen/Qwen2.5-VL-3B-Instruct\", \n",
    "    #     load_in_8bit=True, # throws error when .to() is added\n",
    "    #     torch_dtype=torch.bfloat16, \n",
    "    #     device_map=\"auto\",\n",
    "    #     # attn_implementation=\"flash_attention_2\",\n",
    "    #     low_cpu_mem_usage=True\n",
    "    # )\n",
    "    \n",
    "    # We recommend enabling flash_attention_2 for better acceleration and memory saving, especially in multi-image and video scenarios.\n",
    "    model = Qwen2_5_VLForConditionalGeneration.from_pretrained(\n",
    "        \"/var/scratch/ave303/models/spacethinker-qwen2-5-vl-3b\",\n",
    "        torch_dtype=torch.float16,\n",
    "        # load_in_8bit=True,\n",
    "        # attn_implementation=\"flash_attention_2\",\n",
    "        device_map=\"auto\",\n",
    "        low_cpu_mem_usage=True,\n",
    "        trust_remote_code=True\n",
    "    )\n",
    "    \n",
    "    # default processer\n",
    "    processor = AutoProcessor.from_pretrained(\"/var/scratch/ave303/models/spacethinker-qwen2-5-vl-3b\")\n",
    "\n",
    "    ### Qwen2.5-VL-7B-Instruct --> goes out of CUDA memory\n",
    "    ### Qwen2.5-VL-3B-Instruct --> can handle only 2 images before going out of memory but decent performance\n",
    "\n",
    "    # Optional: Enable memory efficient attention\n",
    "    if hasattr(model.config, 'use_memory_efficient_attention'):\n",
    "        model.config.use_memory_efficient_attention = True\n",
    "\n",
    "    tester = BenchmarkTester()\n",
    "    Qwen2_5VL_results = tester.evaluate_model(\n",
    "        \"Qwen2.5-VL\",\n",
    "        model, \n",
    "        processor, \n",
    "        \"Spacethinker-qwen2-5-vl-3b_results.json\",\n",
    "        # start_idx=0,\n",
    "        batch_size=360\n",
    "    )\n",
    "\n",
    "    # Clean up\n",
    "    del model, processor\n",
    "    torch.cuda.empty_cache()\n",
    "    gc.collect()"
   ]
  },
  {
   "cell_type": "markdown",
   "id": "6044450a",
   "metadata": {
    "papermill": {
     "duration": 0.006233,
     "end_time": "2025-07-29T12:17:57.365798",
     "exception": false,
     "start_time": "2025-07-29T12:17:57.359565",
     "status": "completed"
    },
    "tags": []
   },
   "source": [
    "## Run Evaluation\n",
    "\n",
    "Now we can run our evaluation. Let's start with the SmolVLM2 model:"
   ]
  },
  {
   "cell_type": "code",
   "execution_count": 9,
   "id": "dca2c7d6",
   "metadata": {
    "execution": {
     "iopub.execute_input": "2025-07-29T12:17:57.379218Z",
     "iopub.status.busy": "2025-07-29T12:17:57.378982Z",
     "iopub.status.idle": "2025-07-29T12:17:57.382422Z",
     "shell.execute_reply": "2025-07-29T12:17:57.381804Z"
    },
    "papermill": {
     "duration": 0.011512,
     "end_time": "2025-07-29T12:17:57.383568",
     "exception": false,
     "start_time": "2025-07-29T12:17:57.372056",
     "status": "completed"
    },
    "tags": []
   },
   "outputs": [],
   "source": [
    "# test_smolVLM2()"
   ]
  },
  {
   "cell_type": "code",
   "execution_count": 10,
   "id": "bb11767e",
   "metadata": {
    "execution": {
     "iopub.execute_input": "2025-07-29T12:17:57.397029Z",
     "iopub.status.busy": "2025-07-29T12:17:57.396717Z"
    },
    "papermill": {
     "duration": null,
     "end_time": null,
     "exception": false,
     "start_time": "2025-07-29T12:17:57.389767",
     "status": "running"
    },
    "tags": []
   },
   "outputs": [
    {
     "name": "stderr",
     "output_type": "stream",
     "text": [
      "\r",
      "Loading checkpoint shards:   0%|          | 0/4 [00:00<?, ?it/s]"
     ]
    },
    {
     "name": "stderr",
     "output_type": "stream",
     "text": [
      "\r",
      "Loading checkpoint shards:  25%|██▌       | 1/4 [00:05<00:15,  5.01s/it]"
     ]
    },
    {
     "name": "stderr",
     "output_type": "stream",
     "text": [
      "\r",
      "Loading checkpoint shards:  50%|█████     | 2/4 [00:09<00:09,  4.87s/it]"
     ]
    },
    {
     "name": "stderr",
     "output_type": "stream",
     "text": [
      "\r",
      "Loading checkpoint shards:  75%|███████▌  | 3/4 [00:14<00:04,  4.67s/it]"
     ]
    },
    {
     "name": "stderr",
     "output_type": "stream",
     "text": [
      "\r",
      "Loading checkpoint shards: 100%|██████████| 4/4 [00:14<00:00,  2.89s/it]"
     ]
    },
    {
     "name": "stderr",
     "output_type": "stream",
     "text": [
      "\r",
      "Loading checkpoint shards: 100%|██████████| 4/4 [00:14<00:00,  3.59s/it]"
     ]
    },
    {
     "name": "stderr",
     "output_type": "stream",
     "text": [
      "\n"
     ]
    },
    {
     "name": "stdout",
     "output_type": "stream",
     "text": [
      "\n",
      "Evaluating Qwen2.5-VL...\n",
      "Using device: cuda\n"
     ]
    },
    {
     "name": "stderr",
     "output_type": "stream",
     "text": [
      "\r",
      "Processing images:   0%|          | 0/360 [00:00<?, ?it/s]"
     ]
    },
    {
     "name": "stderr",
     "output_type": "stream",
     "text": [
      "\r",
      "Processing images:   0%|          | 1/360 [00:03<18:44,  3.13s/it]"
     ]
    },
    {
     "name": "stderr",
     "output_type": "stream",
     "text": [
      "\r",
      "Processing images:   1%|          | 2/360 [00:05<17:10,  2.88s/it]"
     ]
    },
    {
     "name": "stderr",
     "output_type": "stream",
     "text": [
      "\r",
      "Processing images:   1%|          | 3/360 [00:07<15:05,  2.54s/it]"
     ]
    },
    {
     "name": "stderr",
     "output_type": "stream",
     "text": [
      "\r",
      "Processing images:   1%|          | 4/360 [00:11<16:37,  2.80s/it]"
     ]
    },
    {
     "name": "stderr",
     "output_type": "stream",
     "text": [
      "\r",
      "Processing images:   1%|▏         | 5/360 [00:13<14:45,  2.49s/it]"
     ]
    },
    {
     "name": "stderr",
     "output_type": "stream",
     "text": [
      "\r",
      "Processing images:   2%|▏         | 6/360 [00:15<14:13,  2.41s/it]"
     ]
    },
    {
     "name": "stderr",
     "output_type": "stream",
     "text": [
      "\r",
      "Processing images:   2%|▏         | 7/360 [00:17<12:44,  2.16s/it]"
     ]
    },
    {
     "name": "stderr",
     "output_type": "stream",
     "text": [
      "\r",
      "Processing images:   2%|▏         | 8/360 [00:18<10:31,  1.79s/it]"
     ]
    },
    {
     "name": "stderr",
     "output_type": "stream",
     "text": [
      "\r",
      "Processing images:   2%|▎         | 9/360 [00:20<12:08,  2.08s/it]"
     ]
    },
    {
     "name": "stderr",
     "output_type": "stream",
     "text": [
      "\r",
      "Processing images:   3%|▎         | 10/360 [00:24<15:16,  2.62s/it]"
     ]
    },
    {
     "name": "stderr",
     "output_type": "stream",
     "text": [
      "\r",
      "Processing images:   3%|▎         | 11/360 [00:26<13:57,  2.40s/it]"
     ]
    },
    {
     "name": "stderr",
     "output_type": "stream",
     "text": [
      "\r",
      "Processing images:   3%|▎         | 12/360 [00:29<14:27,  2.49s/it]"
     ]
    },
    {
     "name": "stderr",
     "output_type": "stream",
     "text": [
      "\r",
      "Processing images:   4%|▎         | 13/360 [00:30<12:42,  2.20s/it]"
     ]
    },
    {
     "name": "stderr",
     "output_type": "stream",
     "text": [
      "\r",
      "Processing images:   4%|▍         | 14/360 [00:32<11:21,  1.97s/it]"
     ]
    },
    {
     "name": "stderr",
     "output_type": "stream",
     "text": [
      "\r",
      "Processing images:   4%|▍         | 15/360 [00:34<11:25,  1.99s/it]"
     ]
    },
    {
     "name": "stderr",
     "output_type": "stream",
     "text": [
      "\r",
      "Processing images:   4%|▍         | 16/360 [00:35<10:27,  1.82s/it]"
     ]
    },
    {
     "name": "stderr",
     "output_type": "stream",
     "text": [
      "\r",
      "Processing images:   5%|▍         | 17/360 [00:36<09:22,  1.64s/it]"
     ]
    },
    {
     "name": "stderr",
     "output_type": "stream",
     "text": [
      "\r",
      "Processing images:   5%|▌         | 18/360 [00:38<09:59,  1.75s/it]"
     ]
    },
    {
     "name": "stderr",
     "output_type": "stream",
     "text": [
      "\r",
      "Processing images:   5%|▌         | 19/360 [00:40<09:39,  1.70s/it]"
     ]
    },
    {
     "name": "stderr",
     "output_type": "stream",
     "text": [
      "\r",
      "Processing images:   6%|▌         | 20/360 [00:41<09:25,  1.66s/it]"
     ]
    },
    {
     "name": "stderr",
     "output_type": "stream",
     "text": [
      "\r",
      "Processing images:   6%|▌         | 21/360 [00:46<13:42,  2.43s/it]"
     ]
    },
    {
     "name": "stderr",
     "output_type": "stream",
     "text": [
      "\r",
      "Processing images:   6%|▌         | 22/360 [00:49<14:53,  2.64s/it]"
     ]
    },
    {
     "name": "stderr",
     "output_type": "stream",
     "text": [
      "\r",
      "Processing images:   6%|▋         | 23/360 [00:51<14:15,  2.54s/it]"
     ]
    },
    {
     "name": "stderr",
     "output_type": "stream",
     "text": [
      "\r",
      "Processing images:   7%|▋         | 24/360 [00:53<12:49,  2.29s/it]"
     ]
    },
    {
     "name": "stderr",
     "output_type": "stream",
     "text": [
      "\r",
      "Processing images:   7%|▋         | 25/360 [00:54<11:33,  2.07s/it]"
     ]
    },
    {
     "name": "stderr",
     "output_type": "stream",
     "text": [
      "\r",
      "Processing images:   7%|▋         | 26/360 [00:57<11:57,  2.15s/it]"
     ]
    },
    {
     "name": "stderr",
     "output_type": "stream",
     "text": [
      "\r",
      "Processing images:   8%|▊         | 27/360 [00:58<10:44,  1.93s/it]"
     ]
    },
    {
     "name": "stderr",
     "output_type": "stream",
     "text": [
      "\r",
      "Processing images:   8%|▊         | 28/360 [00:59<09:41,  1.75s/it]"
     ]
    },
    {
     "name": "stderr",
     "output_type": "stream",
     "text": [
      "\r",
      "Processing images:   8%|▊         | 29/360 [01:02<10:45,  1.95s/it]"
     ]
    },
    {
     "name": "stderr",
     "output_type": "stream",
     "text": [
      "\r",
      "Processing images:   8%|▊         | 30/360 [01:04<10:55,  1.99s/it]"
     ]
    },
    {
     "name": "stderr",
     "output_type": "stream",
     "text": [
      "\r",
      "Processing images:   9%|▊         | 31/360 [01:06<11:08,  2.03s/it]"
     ]
    },
    {
     "name": "stderr",
     "output_type": "stream",
     "text": [
      "\r",
      "Processing images:   9%|▉         | 32/360 [01:08<11:31,  2.11s/it]"
     ]
    },
    {
     "name": "stderr",
     "output_type": "stream",
     "text": [
      "\r",
      "Processing images:   9%|▉         | 33/360 [01:10<11:16,  2.07s/it]"
     ]
    },
    {
     "name": "stderr",
     "output_type": "stream",
     "text": [
      "\r",
      "Processing images:   9%|▉         | 34/360 [01:12<10:07,  1.86s/it]"
     ]
    },
    {
     "name": "stderr",
     "output_type": "stream",
     "text": [
      "\r",
      "Processing images:  10%|▉         | 35/360 [01:15<11:32,  2.13s/it]"
     ]
    },
    {
     "name": "stderr",
     "output_type": "stream",
     "text": [
      "\r",
      "Processing images:  10%|█         | 36/360 [01:16<10:57,  2.03s/it]"
     ]
    },
    {
     "name": "stderr",
     "output_type": "stream",
     "text": [
      "\r",
      "Processing images:  10%|█         | 37/360 [01:18<10:54,  2.03s/it]"
     ]
    },
    {
     "name": "stderr",
     "output_type": "stream",
     "text": [
      "\r",
      "Processing images:  11%|█         | 38/360 [01:20<10:18,  1.92s/it]"
     ]
    },
    {
     "name": "stderr",
     "output_type": "stream",
     "text": [
      "\r",
      "Processing images:  11%|█         | 39/360 [01:22<10:09,  1.90s/it]"
     ]
    },
    {
     "name": "stderr",
     "output_type": "stream",
     "text": [
      "\r",
      "Processing images:  11%|█         | 40/360 [01:24<09:44,  1.83s/it]"
     ]
    },
    {
     "name": "stderr",
     "output_type": "stream",
     "text": [
      "\r",
      "Processing images:  11%|█▏        | 41/360 [01:25<09:23,  1.77s/it]"
     ]
    },
    {
     "name": "stderr",
     "output_type": "stream",
     "text": [
      "\r",
      "Processing images:  12%|█▏        | 42/360 [01:27<09:10,  1.73s/it]"
     ]
    },
    {
     "name": "stderr",
     "output_type": "stream",
     "text": [
      "\r",
      "Processing images:  12%|█▏        | 43/360 [01:30<11:11,  2.12s/it]"
     ]
    },
    {
     "name": "stderr",
     "output_type": "stream",
     "text": [
      "\r",
      "Processing images:  12%|█▏        | 44/360 [01:33<12:26,  2.36s/it]"
     ]
    },
    {
     "name": "stderr",
     "output_type": "stream",
     "text": [
      "\r",
      "Processing images:  12%|█▎        | 45/360 [01:35<12:24,  2.36s/it]"
     ]
    },
    {
     "name": "stderr",
     "output_type": "stream",
     "text": [
      "\r",
      "Processing images:  13%|█▎        | 46/360 [01:37<11:36,  2.22s/it]"
     ]
    },
    {
     "name": "stderr",
     "output_type": "stream",
     "text": [
      "\r",
      "Processing images:  13%|█▎        | 47/360 [01:40<12:27,  2.39s/it]"
     ]
    },
    {
     "name": "stderr",
     "output_type": "stream",
     "text": [
      "\r",
      "Processing images:  13%|█▎        | 48/360 [01:42<11:33,  2.22s/it]"
     ]
    },
    {
     "name": "stderr",
     "output_type": "stream",
     "text": [
      "\r",
      "Processing images:  14%|█▎        | 49/360 [01:44<11:58,  2.31s/it]"
     ]
    },
    {
     "name": "stderr",
     "output_type": "stream",
     "text": [
      "\r",
      "Processing images:  14%|█▍        | 50/360 [01:46<11:45,  2.28s/it]"
     ]
    },
    {
     "name": "stderr",
     "output_type": "stream",
     "text": [
      "\r",
      "Processing images:  14%|█▍        | 51/360 [01:48<11:12,  2.17s/it]"
     ]
    },
    {
     "name": "stderr",
     "output_type": "stream",
     "text": [
      "\r",
      "Processing images:  14%|█▍        | 52/360 [01:50<10:18,  2.01s/it]"
     ]
    },
    {
     "name": "stderr",
     "output_type": "stream",
     "text": [
      "\r",
      "Processing images:  15%|█▍        | 53/360 [01:52<10:04,  1.97s/it]"
     ]
    },
    {
     "name": "stderr",
     "output_type": "stream",
     "text": [
      "\r",
      "Processing images:  15%|█▌        | 54/360 [01:54<10:42,  2.10s/it]"
     ]
    },
    {
     "name": "stderr",
     "output_type": "stream",
     "text": [
      "\r",
      "Processing images:  15%|█▌        | 55/360 [01:57<11:56,  2.35s/it]"
     ]
    },
    {
     "name": "stderr",
     "output_type": "stream",
     "text": [
      "\r",
      "Processing images:  16%|█▌        | 56/360 [01:59<11:59,  2.37s/it]"
     ]
    },
    {
     "name": "stderr",
     "output_type": "stream",
     "text": [
      "\r",
      "Processing images:  16%|█▌        | 57/360 [02:02<11:33,  2.29s/it]"
     ]
    },
    {
     "name": "stderr",
     "output_type": "stream",
     "text": [
      "\r",
      "Processing images:  16%|█▌        | 58/360 [02:05<12:32,  2.49s/it]"
     ]
    },
    {
     "name": "stderr",
     "output_type": "stream",
     "text": [
      "\r",
      "Processing images:  16%|█▋        | 59/360 [02:07<11:47,  2.35s/it]"
     ]
    },
    {
     "name": "stderr",
     "output_type": "stream",
     "text": [
      "\r",
      "Processing images:  17%|█▋        | 60/360 [02:10<13:51,  2.77s/it]"
     ]
    },
    {
     "name": "stderr",
     "output_type": "stream",
     "text": [
      "\r",
      "Processing images:  17%|█▋        | 61/360 [02:12<12:04,  2.42s/it]"
     ]
    },
    {
     "name": "stderr",
     "output_type": "stream",
     "text": [
      "\r",
      "Processing images:  17%|█▋        | 62/360 [02:13<10:42,  2.16s/it]"
     ]
    },
    {
     "name": "stderr",
     "output_type": "stream",
     "text": [
      "\r",
      "Processing images:  18%|█▊        | 63/360 [02:15<10:00,  2.02s/it]"
     ]
    },
    {
     "name": "stderr",
     "output_type": "stream",
     "text": [
      "\r",
      "Processing images:  18%|█▊        | 64/360 [02:18<11:06,  2.25s/it]"
     ]
    },
    {
     "name": "stderr",
     "output_type": "stream",
     "text": [
      "\r",
      "Processing images:  18%|█▊        | 65/360 [02:20<10:04,  2.05s/it]"
     ]
    },
    {
     "name": "stderr",
     "output_type": "stream",
     "text": [
      "\r",
      "Processing images:  18%|█▊        | 66/360 [02:21<09:24,  1.92s/it]"
     ]
    },
    {
     "name": "stderr",
     "output_type": "stream",
     "text": [
      "\r",
      "Processing images:  19%|█▊        | 67/360 [02:23<09:08,  1.87s/it]"
     ]
    },
    {
     "name": "stderr",
     "output_type": "stream",
     "text": [
      "\r",
      "Processing images:  19%|█▉        | 68/360 [02:25<08:51,  1.82s/it]"
     ]
    },
    {
     "name": "stderr",
     "output_type": "stream",
     "text": [
      "\r",
      "Processing images:  19%|█▉        | 69/360 [02:27<09:10,  1.89s/it]"
     ]
    },
    {
     "name": "stderr",
     "output_type": "stream",
     "text": [
      "\r",
      "Processing images:  19%|█▉        | 70/360 [02:28<08:50,  1.83s/it]"
     ]
    },
    {
     "name": "stderr",
     "output_type": "stream",
     "text": [
      "\r",
      "Processing images:  20%|█▉        | 71/360 [02:31<10:27,  2.17s/it]"
     ]
    },
    {
     "name": "stderr",
     "output_type": "stream",
     "text": [
      "\r",
      "Processing images:  20%|██        | 72/360 [02:33<10:01,  2.09s/it]"
     ]
    },
    {
     "name": "stderr",
     "output_type": "stream",
     "text": [
      "\r",
      "Processing images:  20%|██        | 73/360 [02:35<10:07,  2.12s/it]"
     ]
    },
    {
     "name": "stderr",
     "output_type": "stream",
     "text": [
      "\r",
      "Processing images:  21%|██        | 74/360 [02:38<10:43,  2.25s/it]"
     ]
    },
    {
     "name": "stderr",
     "output_type": "stream",
     "text": [
      "\r",
      "Processing images:  21%|██        | 75/360 [02:41<11:20,  2.39s/it]"
     ]
    },
    {
     "name": "stderr",
     "output_type": "stream",
     "text": [
      "\r",
      "Processing images:  21%|██        | 76/360 [02:44<11:57,  2.52s/it]"
     ]
    },
    {
     "name": "stderr",
     "output_type": "stream",
     "text": [
      "\r",
      "Processing images:  21%|██▏       | 77/360 [02:45<11:02,  2.34s/it]"
     ]
    }
   ],
   "source": [
    "test_Qwen2_5VL()"
   ]
  },
  {
   "cell_type": "code",
   "execution_count": null,
   "id": "c4df6081",
   "metadata": {
    "papermill": {
     "duration": null,
     "end_time": null,
     "exception": null,
     "start_time": null,
     "status": "pending"
    },
    "tags": []
   },
   "outputs": [],
   "source": []
  }
 ],
 "metadata": {
  "kaggle": {
   "accelerator": "none",
   "dataSources": [
    {
     "datasetId": 7163706,
     "sourceId": 11436696,
     "sourceType": "datasetVersion"
    }
   ],
   "dockerImageVersionId": 31011,
   "isGpuEnabled": false,
   "isInternetEnabled": true,
   "language": "python",
   "sourceType": "notebook"
  },
  "kernelspec": {
   "display_name": "Python ((op_bench)",
   "language": "python",
   "name": "op_bench"
  },
  "language_info": {
   "codemirror_mode": {
    "name": "ipython",
    "version": 3
   },
   "file_extension": ".py",
   "mimetype": "text/x-python",
   "name": "python",
   "nbconvert_exporter": "python",
   "pygments_lexer": "ipython3",
   "version": "3.12.9"
  },
  "papermill": {
   "default_parameters": {},
   "duration": null,
   "end_time": null,
   "environment_variables": {},
   "exception": null,
   "input_path": "/var/scratch/ave303/OP_bench/opa-benchmark-smolvlm2-qwen2-5-vl.ipynb",
   "output_path": "spacethinker-qwen2-5-vl_3b_output.ipynb",
   "parameters": {},
   "start_time": "2025-07-29T12:17:48.194510",
   "version": "2.6.0"
  }
 },
 "nbformat": 4,
 "nbformat_minor": 5
}