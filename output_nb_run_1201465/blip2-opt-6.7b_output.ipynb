{
 "cells": [
  {
   "cell_type": "markdown",
   "id": "f2def847",
   "metadata": {
    "papermill": {
     "duration": 0.009262,
     "end_time": "2025-07-28T21:19:10.320893",
     "exception": false,
     "start_time": "2025-07-28T21:19:10.311631",
     "status": "completed"
    },
    "tags": []
   },
   "source": [
    "# VLM Benchmark for Object Property Abstraction\n",
    "\n",
    "This notebook implements a benchmark for evaluating Vision Language Models (VLMs) on object property abstraction and visual question answering (VQA) tasks. The benchmark includes three types of questions:\n",
    "\n",
    "1. Direct Recognition\n",
    "2. Property Inference\n",
    "3. Counterfactual Reasoning\n",
    "\n",
    "And three types of images:\n",
    "- REAL\n",
    "- ANIMATED\n",
    "- AI GENERATED"
   ]
  },
  {
   "cell_type": "markdown",
   "id": "c411bf16",
   "metadata": {
    "papermill": {
     "duration": 0.004929,
     "end_time": "2025-07-28T21:19:10.331257",
     "exception": false,
     "start_time": "2025-07-28T21:19:10.326328",
     "status": "completed"
    },
    "tags": []
   },
   "source": [
    "## Setup and Imports\n",
    "\n",
    "First, let's import the necessary libraries and set up our environment."
   ]
  },
  {
   "cell_type": "code",
   "execution_count": 1,
   "id": "c3800bbb",
   "metadata": {
    "execution": {
     "iopub.execute_input": "2025-07-28T21:19:10.342838Z",
     "iopub.status.busy": "2025-07-28T21:19:10.342049Z",
     "iopub.status.idle": "2025-07-28T21:19:12.160823Z",
     "shell.execute_reply": "2025-07-28T21:19:12.159863Z"
    },
    "papermill": {
     "duration": 1.825851,
     "end_time": "2025-07-28T21:19:12.162293",
     "exception": false,
     "start_time": "2025-07-28T21:19:10.336442",
     "status": "completed"
    },
    "tags": []
   },
   "outputs": [
    {
     "name": "stdout",
     "output_type": "stream",
     "text": [
      "Requirement already satisfied: transformers in /var/scratch/ave303/anaconda3/envs/op_bench/lib/python3.12/site-packages (4.51.1)\r\n",
      "Requirement already satisfied: torch in /var/scratch/ave303/anaconda3/envs/op_bench/lib/python3.12/site-packages (2.2.1)\r\n",
      "Requirement already satisfied: Pillow in /var/scratch/ave303/anaconda3/envs/op_bench/lib/python3.12/site-packages (10.3.0)\r\n",
      "Requirement already satisfied: tqdm in /var/scratch/ave303/anaconda3/envs/op_bench/lib/python3.12/site-packages (4.66.2)\r\n"
     ]
    },
    {
     "name": "stdout",
     "output_type": "stream",
     "text": [
      "Requirement already satisfied: filelock in /var/scratch/ave303/anaconda3/envs/op_bench/lib/python3.12/site-packages (from transformers) (3.18.0)\r\n",
      "Requirement already satisfied: huggingface-hub<1.0,>=0.30.0 in /var/scratch/ave303/anaconda3/envs/op_bench/lib/python3.12/site-packages (from transformers) (0.30.2)\r\n",
      "Requirement already satisfied: numpy>=1.17 in /var/scratch/ave303/anaconda3/envs/op_bench/lib/python3.12/site-packages (from transformers) (1.26.4)\r\n",
      "Requirement already satisfied: packaging>=20.0 in /var/scratch/ave303/anaconda3/envs/op_bench/lib/python3.12/site-packages (from transformers) (25.0)\r\n",
      "Requirement already satisfied: pyyaml>=5.1 in /var/scratch/ave303/anaconda3/envs/op_bench/lib/python3.12/site-packages (from transformers) (6.0.2)\r\n",
      "Requirement already satisfied: regex!=2019.12.17 in /var/scratch/ave303/anaconda3/envs/op_bench/lib/python3.12/site-packages (from transformers) (2024.11.6)\r\n",
      "Requirement already satisfied: requests in /var/scratch/ave303/anaconda3/envs/op_bench/lib/python3.12/site-packages (from transformers) (2.32.3)\r\n",
      "Requirement already satisfied: tokenizers<0.22,>=0.21 in /var/scratch/ave303/anaconda3/envs/op_bench/lib/python3.12/site-packages (from transformers) (0.21.1)\r\n",
      "Requirement already satisfied: safetensors>=0.4.3 in /var/scratch/ave303/anaconda3/envs/op_bench/lib/python3.12/site-packages (from transformers) (0.5.3)\r\n"
     ]
    },
    {
     "name": "stdout",
     "output_type": "stream",
     "text": [
      "Requirement already satisfied: typing-extensions>=4.8.0 in /var/scratch/ave303/anaconda3/envs/op_bench/lib/python3.12/site-packages (from torch) (4.13.2)\r\n",
      "Requirement already satisfied: sympy in /var/scratch/ave303/anaconda3/envs/op_bench/lib/python3.12/site-packages (from torch) (1.14.0)\r\n",
      "Requirement already satisfied: networkx in /var/scratch/ave303/anaconda3/envs/op_bench/lib/python3.12/site-packages (from torch) (3.4.2)\r\n",
      "Requirement already satisfied: jinja2 in /var/scratch/ave303/anaconda3/envs/op_bench/lib/python3.12/site-packages (from torch) (3.1.6)\r\n",
      "Requirement already satisfied: fsspec in /var/scratch/ave303/anaconda3/envs/op_bench/lib/python3.12/site-packages (from torch) (2025.3.2)\r\n",
      "Requirement already satisfied: nvidia-cuda-nvrtc-cu12==12.1.105 in /var/scratch/ave303/anaconda3/envs/op_bench/lib/python3.12/site-packages (from torch) (12.1.105)\r\n",
      "Requirement already satisfied: nvidia-cuda-runtime-cu12==12.1.105 in /var/scratch/ave303/anaconda3/envs/op_bench/lib/python3.12/site-packages (from torch) (12.1.105)\r\n",
      "Requirement already satisfied: nvidia-cuda-cupti-cu12==12.1.105 in /var/scratch/ave303/anaconda3/envs/op_bench/lib/python3.12/site-packages (from torch) (12.1.105)\r\n",
      "Requirement already satisfied: nvidia-cudnn-cu12==8.9.2.26 in /var/scratch/ave303/anaconda3/envs/op_bench/lib/python3.12/site-packages (from torch) (8.9.2.26)\r\n",
      "Requirement already satisfied: nvidia-cublas-cu12==12.1.3.1 in /var/scratch/ave303/anaconda3/envs/op_bench/lib/python3.12/site-packages (from torch) (12.1.3.1)\r\n",
      "Requirement already satisfied: nvidia-cufft-cu12==11.0.2.54 in /var/scratch/ave303/anaconda3/envs/op_bench/lib/python3.12/site-packages (from torch) (11.0.2.54)\r\n",
      "Requirement already satisfied: nvidia-curand-cu12==10.3.2.106 in /var/scratch/ave303/anaconda3/envs/op_bench/lib/python3.12/site-packages (from torch) (10.3.2.106)\r\n",
      "Requirement already satisfied: nvidia-cusolver-cu12==11.4.5.107 in /var/scratch/ave303/anaconda3/envs/op_bench/lib/python3.12/site-packages (from torch) (11.4.5.107)\r\n",
      "Requirement already satisfied: nvidia-cusparse-cu12==12.1.0.106 in /var/scratch/ave303/anaconda3/envs/op_bench/lib/python3.12/site-packages (from torch) (12.1.0.106)\r\n",
      "Requirement already satisfied: nvidia-nccl-cu12==2.19.3 in /var/scratch/ave303/anaconda3/envs/op_bench/lib/python3.12/site-packages (from torch) (2.19.3)\r\n",
      "Requirement already satisfied: nvidia-nvtx-cu12==12.1.105 in /var/scratch/ave303/anaconda3/envs/op_bench/lib/python3.12/site-packages (from torch) (12.1.105)\r\n",
      "Requirement already satisfied: nvidia-nvjitlink-cu12 in /var/scratch/ave303/anaconda3/envs/op_bench/lib/python3.12/site-packages (from nvidia-cusolver-cu12==11.4.5.107->torch) (12.8.93)\r\n"
     ]
    },
    {
     "name": "stdout",
     "output_type": "stream",
     "text": [
      "Requirement already satisfied: MarkupSafe>=2.0 in /var/scratch/ave303/anaconda3/envs/op_bench/lib/python3.12/site-packages (from jinja2->torch) (3.0.2)\r\n",
      "Requirement already satisfied: charset-normalizer<4,>=2 in /var/scratch/ave303/anaconda3/envs/op_bench/lib/python3.12/site-packages (from requests->transformers) (3.4.1)\r\n",
      "Requirement already satisfied: idna<4,>=2.5 in /var/scratch/ave303/anaconda3/envs/op_bench/lib/python3.12/site-packages (from requests->transformers) (3.10)\r\n",
      "Requirement already satisfied: urllib3<3,>=1.21.1 in /var/scratch/ave303/anaconda3/envs/op_bench/lib/python3.12/site-packages (from requests->transformers) (2.4.0)\r\n",
      "Requirement already satisfied: certifi>=2017.4.17 in /var/scratch/ave303/anaconda3/envs/op_bench/lib/python3.12/site-packages (from requests->transformers) (2025.4.26)\r\n",
      "Requirement already satisfied: mpmath<1.4,>=1.1.0 in /var/scratch/ave303/anaconda3/envs/op_bench/lib/python3.12/site-packages (from sympy->torch) (1.3.0)\r\n"
     ]
    }
   ],
   "source": [
    "# Install required packages\n",
    "!pip install transformers torch Pillow tqdm"
   ]
  },
  {
   "cell_type": "code",
   "execution_count": 2,
   "id": "2212c85d",
   "metadata": {
    "execution": {
     "iopub.execute_input": "2025-07-28T21:19:12.184746Z",
     "iopub.status.busy": "2025-07-28T21:19:12.184473Z",
     "iopub.status.idle": "2025-07-28T21:19:15.757530Z",
     "shell.execute_reply": "2025-07-28T21:19:15.756591Z"
    },
    "papermill": {
     "duration": 3.580796,
     "end_time": "2025-07-28T21:19:15.758868",
     "exception": false,
     "start_time": "2025-07-28T21:19:12.178072",
     "status": "completed"
    },
    "tags": []
   },
   "outputs": [
    {
     "name": "stdout",
     "output_type": "stream",
     "text": [
      "Using device: cuda\n"
     ]
    }
   ],
   "source": [
    "# Import required libraries\n",
    "import torch\n",
    "import json\n",
    "from pathlib import Path\n",
    "from PIL import Image\n",
    "import gc\n",
    "import re\n",
    "from tqdm import tqdm\n",
    "import time\n",
    "from typing import List, Dict, Any\n",
    "\n",
    "# Check if CUDA is available\n",
    "device = torch.device('cuda' if torch.cuda.is_available() else 'cpu')\n",
    "print(f\"Using device: {device}\")"
   ]
  },
  {
   "cell_type": "markdown",
   "id": "e89e1796",
   "metadata": {
    "papermill": {
     "duration": 0.005272,
     "end_time": "2025-07-28T21:19:15.783290",
     "exception": false,
     "start_time": "2025-07-28T21:19:15.778018",
     "status": "completed"
    },
    "tags": []
   },
   "source": [
    "## Benchmark Tester Class\n",
    "\n",
    "This class handles the evaluation of models against our benchmark."
   ]
  },
  {
   "cell_type": "code",
   "execution_count": 3,
   "id": "51ad3b39",
   "metadata": {
    "execution": {
     "iopub.execute_input": "2025-07-28T21:19:15.796034Z",
     "iopub.status.busy": "2025-07-28T21:19:15.795379Z",
     "iopub.status.idle": "2025-07-28T21:19:15.805915Z",
     "shell.execute_reply": "2025-07-28T21:19:15.805208Z"
    },
    "papermill": {
     "duration": 0.018312,
     "end_time": "2025-07-28T21:19:15.807084",
     "exception": false,
     "start_time": "2025-07-28T21:19:15.788772",
     "status": "completed"
    },
    "tags": []
   },
   "outputs": [],
   "source": [
    "# class BenchmarkTester:\n",
    "#     def __init__(self, benchmark_path=\"/var/scratch/ave303/OP_bench/benchmark.json\", data_dir=\"/var/scratch/ave303/OP_bench/\"):\n",
    "#         self.device = \"cuda\" if torch.cuda.is_available() else \"cpu\"\n",
    "#         with open(benchmark_path, 'r') as f:\n",
    "#             self.benchmark = json.load(f)\n",
    "#         self.data_dir = data_dir\n",
    "    \n",
    "#     def format_question(self, question, model_name):\n",
    "#         \"\"\"Format a question for the model.\"\"\"\n",
    "\n",
    "#         if model_name==\"blip2\":\n",
    "#             return f\"Question: {question['question']} Provide only the total number. Answer:\" #Provide just the total count and the list of objects in the given format \\n Format: number [objects] Answer: \"\n",
    "#         else:\n",
    "#             return f\"Question: {question['question']} Answer(total number):\"\n",
    "\n",
    "#     def clean_answer(self, answer):\n",
    "#         \"\"\"Clean the model output to extract just the number.\"\"\"\n",
    "#         # Remove any text that's not a number\n",
    "#         # import re\n",
    "#         # numbers = re.findall(r'\\d+', answer)\n",
    "#         # if numbers:\n",
    "#         #     return numbers[0]  # Return the first number found\n",
    "#         # return answer\n",
    "#         \"\"\"Extract number and reasoning from the model's answer.\"\"\"\n",
    "#         # Try to extract number and reasoning using regex\n",
    "#         import re\n",
    "#         pattern = r'(\\d+)\\s*\\[(.*?)\\]'\n",
    "#         match = re.search(pattern, answer)\n",
    "        \n",
    "#         if match:\n",
    "#             number = match.group(1)\n",
    "#             objects = [obj.strip() for obj in match.group(2).split(',')]\n",
    "#             return {\n",
    "#                 \"count\": number,\n",
    "#                 \"reasoning\": objects\n",
    "#             }\n",
    "#         else:\n",
    "#             # Fallback if format isn't matched\n",
    "#             numbers = re.findall(r'\\d+', answer)\n",
    "#             return {\n",
    "#                 \"count\": numbers[0] if numbers else \"0\",\n",
    "#                 \"reasoning\": []\n",
    "#             }\n",
    "\n",
    "#     def model_generation(self, model_name, model, inputs, processor):\n",
    "#         \"\"\"Generate answer and decode.\"\"\"\n",
    "#         outputs = None  # Initialize outputs to None\n",
    "        \n",
    "#         if model_name==\"blip2\":\n",
    "#             outputs = model.generate(**inputs)\n",
    "#             answer = processor.batch_decode(outputs, skip_special_tokens=True)[0].strip()\n",
    "            \n",
    "#         elif model_name==\"fuyu-8b\":\n",
    "#             outputs = model.generate(\n",
    "#                 **inputs,\n",
    "#                 max_new_tokens=30,  # Increased from 10 to 200\n",
    "#                 pad_token_id=processor.tokenizer.eos_token_id\n",
    "#             )\n",
    "#             answer = processor.batch_decode(outputs[:, -30:], skip_special_tokens=True)[0]\n",
    "#         else:\n",
    "#             print(f\"Warning: Unknown model name '{model_name}' in model_generation.\")\n",
    "#             answer = \"\"  # Return an empty string\n",
    "\n",
    "#         return answer, outputs\n",
    "    \n",
    "#     def evaluate_model(self, model_name, model, processor, save_path, start_idx=0, batch_size=5):\n",
    "#         results = []\n",
    "#         print(f\"\\nEvaluating {model_name}...\")\n",
    "#         print(f\"Using device: {self.device}\")\n",
    "        \n",
    "#         # Force garbage collection before starting\n",
    "#         gc.collect()\n",
    "#         torch.cuda.empty_cache()\n",
    "\n",
    "#         try:\n",
    "#             images = self.benchmark['benchmark']['images'][start_idx:start_idx + batch_size]\n",
    "#             total_images = len(images)\n",
    "            \n",
    "#             for idx, image_data in enumerate(tqdm(images, desc=\"Processing images\")):\n",
    "#                 try:\n",
    "#                     print(f\"\\nProcessing image {idx+1}/{total_images}: {image_data['image_id']}\")\n",
    "#                     image_path = Path(self.data_dir)/image_data['path']\n",
    "#                     if not image_path.exists():\n",
    "#                         print(f\"Warning: Image not found at {image_path}\")\n",
    "#                         continue\n",
    "                    \n",
    "#                     # Load and preprocess image\n",
    "#                     image = Image.open(image_path).convert(\"RGB\")\n",
    "#                     image_results = []  # Store results for current image\n",
    "                    \n",
    "#                     for question in image_data['questions']:\n",
    "#                         try:\n",
    "#                             prompt = self.format_question(question, model_name)\n",
    "#                             print(f\"Question: {question['question']}\")\n",
    "                            \n",
    "#                             # Clear cache before processing each question\n",
    "#                             torch.cuda.empty_cache()\n",
    "                            \n",
    "#                             # Process image and text\n",
    "#                             inputs = processor(images=image, text=prompt, return_tensors=\"pt\").to(self.device)\n",
    "                            \n",
    "#                             # Generate answer with better settings\n",
    "#                             with torch.no_grad():\n",
    "#                                 answer, outputs = self.model_generation(model_name, model, inputs, processor)    #call for model.generate\n",
    "                                \n",
    "#                             cleaned_answer = self.clean_answer(answer)\n",
    "                            \n",
    "#                             image_results.append({\n",
    "#                                 \"image_id\": image_data[\"image_id\"],\n",
    "#                                 \"image_type\": image_data[\"image_type\"],\n",
    "#                                 \"question_id\": question[\"id\"],\n",
    "#                                 \"question\": question[\"question\"],\n",
    "#                                 \"ground_truth\": question[\"answer\"],\n",
    "#                                 \"model_answer\": cleaned_answer[\"count\"],\n",
    "#                                 \"model_reasoning\": cleaned_answer[\"reasoning\"],\n",
    "#                                 \"raw_answer\": answer,  # Keep raw answer for debugging\n",
    "#                                 \"property_category\": question[\"property_category\"]\n",
    "#                             })\n",
    "                            \n",
    "#                             # Clear memory\n",
    "#                             del outputs, inputs\n",
    "#                             torch.cuda.empty_cache()\n",
    "                            \n",
    "#                         except Exception as e:\n",
    "#                             print(f\"Error processing question: {str(e)}\")\n",
    "#                             continue\n",
    "                    \n",
    "#                     # Add results from this image\n",
    "#                     results.extend(image_results)\n",
    "                    \n",
    "#                     # Save intermediate results only every 2 images or if it's the last image\n",
    "#                     if (idx + 1) % 2 == 0 or idx == total_images - 1:\n",
    "#                         with open(f\"{save_path}_checkpoint.json\", 'w') as f:\n",
    "#                             json.dump(results, f, indent=4)\n",
    "                            \n",
    "#                 except Exception as e:\n",
    "#                     print(f\"Error processing image {image_data['image_id']}: {str(e)}\")\n",
    "#                     continue\n",
    "            \n",
    "#             # Save final results\n",
    "#             if results:\n",
    "#                 with open(save_path, 'w') as f:\n",
    "#                     json.dump(results, f, indent=4)\n",
    "            \n",
    "#         except Exception as e:\n",
    "#             print(f\"An error occurred during evaluation: {str(e)}\")\n",
    "#             if results:\n",
    "#                 with open(f\"{save_path}_error_state.json\", 'w') as f:\n",
    "#                     json.dump(results, f, indent=4)\n",
    "        \n",
    "#         return results"
   ]
  },
  {
   "cell_type": "code",
   "execution_count": 4,
   "id": "b997a62e",
   "metadata": {
    "execution": {
     "iopub.execute_input": "2025-07-28T21:19:15.819564Z",
     "iopub.status.busy": "2025-07-28T21:19:15.819242Z",
     "iopub.status.idle": "2025-07-28T21:19:15.850326Z",
     "shell.execute_reply": "2025-07-28T21:19:15.849612Z"
    },
    "papermill": {
     "duration": 0.038758,
     "end_time": "2025-07-28T21:19:15.851505",
     "exception": false,
     "start_time": "2025-07-28T21:19:15.812747",
     "status": "completed"
    },
    "tags": []
   },
   "outputs": [],
   "source": [
    "class BenchmarkTester:\n",
    "    def __init__(self, benchmark_path=\"/var/scratch/ave303/OP_bench/benchmark.json\", data_dir=\"/var/scratch/ave303/OP_bench/\"):\n",
    "        self.device = \"cuda\" if torch.cuda.is_available() else \"cpu\"\n",
    "        with open(benchmark_path, 'r') as f:\n",
    "            self.benchmark = json.load(f)\n",
    "        self.data_dir = data_dir\n",
    "    \n",
    "    def format_question(self, question, model_name):\n",
    "        \"\"\"Format a question for the model.\"\"\"\n",
    "        if model_name==\"blip2\":\n",
    "        #     return f\"Question: {question['question']} Provide only the total number. Answer:\"\n",
    "        # else:\n",
    "            return f\"Question: {question['question']} Answer(total number):\"\n",
    "\n",
    "    def clean_answer(self, answer):\n",
    "        \"\"\"Extract number and reasoning from the model's answer.\"\"\"\n",
    "        # Try to extract number and reasoning using regex\n",
    "        import re\n",
    "        pattern = r'(\\d+)\\s*\\[(.*?)\\]'\n",
    "        match = re.search(pattern, answer)\n",
    "        \n",
    "        if match:\n",
    "            number = match.group(1)\n",
    "            objects = [obj.strip() for obj in match.group(2).split(',')]\n",
    "            return {\n",
    "                \"count\": number,\n",
    "                \"reasoning\": objects\n",
    "            }\n",
    "        else:\n",
    "            # Fallback if format isn't matched\n",
    "            numbers = re.findall(r'\\d+', answer)\n",
    "            return {\n",
    "                \"count\": numbers[0] if numbers else \"0\",\n",
    "                \"reasoning\": []\n",
    "            }\n",
    "\n",
    "    def model_generation(self, model_name, model, inputs, processor):\n",
    "        \"\"\"Generate answer and decode with greedy decoding.\"\"\"\n",
    "        outputs = None  # Initialize outputs to None\n",
    "        \n",
    "        if model_name==\"blip2\":\n",
    "            # Explicit greedy decoding parameters for BLIP2\n",
    "            outputs = model.generate(\n",
    "                **inputs,\n",
    "                max_new_tokens=50,\n",
    "                do_sample=False,          # Disable sampling for greedy decoding\n",
    "                temperature=None,         # Not used in greedy decoding\n",
    "                top_p=None,              # Not used in greedy decoding  \n",
    "                top_k=None,              # Not used in greedy decoding\n",
    "                num_beams=1,             # Single beam for greedy decoding\n",
    "                early_stopping=False,    # Let it generate until max_tokens or EOS\n",
    "            )\n",
    "            answer = processor.batch_decode(outputs, skip_special_tokens=True)[0].strip()\n",
    "            \n",
    "        elif model_name==\"fuyu-8b\":\n",
    "            # Explicit greedy decoding parameters for Fuyu-8B\n",
    "            outputs = model.generate(\n",
    "                **inputs,\n",
    "                max_new_tokens=30,\n",
    "                do_sample=False,          # Disable sampling for greedy decoding\n",
    "                temperature=None,         # Not used in greedy decoding\n",
    "                top_p=None,              # Not used in greedy decoding  \n",
    "                top_k=None,              # Not used in greedy decoding\n",
    "                num_beams=1,             # Single beam for greedy decoding\n",
    "                early_stopping=False,    # Let it generate until max_tokens or EOS\n",
    "                pad_token_id=processor.tokenizer.eos_token_id\n",
    "            )\n",
    "            answer = processor.batch_decode(outputs[:, -30:], skip_special_tokens=True)[0]\n",
    "        else:\n",
    "            print(f\"Warning: Unknown model name '{model_name}' in model_generation.\")\n",
    "            answer = \"\"  # Return an empty string\n",
    "\n",
    "        return answer, outputs\n",
    "    \n",
    "    def evaluate_model(self, model_name, model, processor, save_path, start_idx=0, batch_size=5):\n",
    "        results = []\n",
    "        \n",
    "        # Initialize tracking variables\n",
    "        successful_images = []\n",
    "        failed_images = []\n",
    "        total_questions_processed = 0\n",
    "        total_questions_failed = 0\n",
    "        \n",
    "        print(f\"\\nEvaluating {model_name}...\")\n",
    "        print(f\"Using device: {self.device}\")\n",
    "        \n",
    "        # Force garbage collection before starting\n",
    "        gc.collect()\n",
    "        torch.cuda.empty_cache()\n",
    "\n",
    "        try:\n",
    "            images = self.benchmark['benchmark']['images'][start_idx:start_idx + batch_size]\n",
    "            total_images = len(images)\n",
    "            \n",
    "            for idx, image_data in enumerate(tqdm(images, desc=\"Processing images\")):\n",
    "                image_start_time = time.time()\n",
    "                current_image_questions_failed = 0\n",
    "                current_image_questions_total = 0\n",
    "                \n",
    "                try:\n",
    "                    image_path = Path(self.data_dir)/image_data['path']\n",
    "                    if not image_path.exists():\n",
    "                        failed_images.append({\n",
    "                            'image_id': image_data['image_id'],\n",
    "                            'image_type': image_data.get('image_type', 'unknown'),\n",
    "                            'error_type': 'file_not_found',\n",
    "                            'error_message': f'Image not found at {image_path}'\n",
    "                        })\n",
    "                        continue\n",
    "                    \n",
    "                    # Load and preprocess image\n",
    "                    image = Image.open(image_path).convert(\"RGB\")\n",
    "                    image_results = []  # Store results for current image\n",
    "                    \n",
    "                    for question_idx, question in enumerate(image_data['questions']):\n",
    "                        current_image_questions_total += 1\n",
    "                        total_questions_processed += 1\n",
    "                        \n",
    "                        try:\n",
    "                            prompt = self.format_question(question, model_name)\n",
    "                            \n",
    "                            # Clear cache before processing each question\n",
    "                            torch.cuda.empty_cache()\n",
    "                            \n",
    "                            # Process image and text\n",
    "                            inputs = processor(images=image, text=prompt, return_tensors=\"pt\").to(self.device)\n",
    "                            \n",
    "                            # Generate answer with greedy decoding\n",
    "                            with torch.no_grad():\n",
    "                                answer, outputs = self.model_generation(model_name, model, inputs, processor)\n",
    "                                \n",
    "                            cleaned_answer = self.clean_answer(answer)\n",
    "                            \n",
    "                            image_results.append({\n",
    "                                \"image_id\": image_data[\"image_id\"],\n",
    "                                \"image_type\": image_data.get(\"image_type\", \"unknown\"),\n",
    "                                \"question_id\": question[\"id\"],\n",
    "                                \"question\": question[\"question\"],\n",
    "                                \"ground_truth\": question[\"answer\"],\n",
    "                                \"model_answer\": cleaned_answer[\"count\"],\n",
    "                                \"model_reasoning\": cleaned_answer[\"reasoning\"],\n",
    "                                \"raw_answer\": answer,  # Keep raw answer for debugging\n",
    "                                \"property_category\": question[\"property_category\"]\n",
    "                            })\n",
    "                            \n",
    "                            # Clear memory\n",
    "                            del outputs, inputs\n",
    "                            torch.cuda.empty_cache()\n",
    "                            \n",
    "                        except Exception as e:\n",
    "                            current_image_questions_failed += 1\n",
    "                            total_questions_failed += 1\n",
    "                            continue\n",
    "                    \n",
    "                    # Add results from this image\n",
    "                    results.extend(image_results)\n",
    "                    \n",
    "                    # Calculate success rate for this image\n",
    "                    questions_succeeded = current_image_questions_total - current_image_questions_failed\n",
    "                    \n",
    "                    if current_image_questions_failed == 0:\n",
    "                        # All questions succeeded\n",
    "                        successful_images.append({\n",
    "                            'image_id': image_data['image_id'],\n",
    "                            'image_type': image_data.get('image_type', 'unknown'),\n",
    "                            'questions_total': current_image_questions_total,\n",
    "                            'questions_succeeded': questions_succeeded,\n",
    "                            'processing_time': time.time() - image_start_time\n",
    "                        })\n",
    "                    else:\n",
    "                        # Some questions failed\n",
    "                        image_success_rate = (questions_succeeded / current_image_questions_total * 100) if current_image_questions_total > 0 else 0\n",
    "                        failed_images.append({\n",
    "                            'image_id': image_data['image_id'],\n",
    "                            'image_type': image_data.get('image_type', 'unknown'),\n",
    "                            'error_type': 'partial_failure',\n",
    "                            'questions_total': current_image_questions_total,\n",
    "                            'questions_failed': current_image_questions_failed,\n",
    "                            'questions_succeeded': questions_succeeded,\n",
    "                            'success_rate': f\"{image_success_rate:.1f}%\"\n",
    "                        })\n",
    "                    \n",
    "                    # Save intermediate results only every 2 images or if it's the last image\n",
    "                    if (idx + 1) % 2 == 0 or idx == total_images - 1:\n",
    "                        checkpoint_path = f\"{save_path}_checkpoint.json\"\n",
    "                        with open(checkpoint_path, 'w') as f:\n",
    "                            json.dump(results, f, indent=4)\n",
    "                            \n",
    "                except Exception as e:\n",
    "                    failed_images.append({\n",
    "                        'image_id': image_data['image_id'],\n",
    "                        'image_type': image_data.get('image_type', 'unknown'),\n",
    "                        'error_type': 'complete_failure',\n",
    "                        'error_message': str(e)\n",
    "                    })\n",
    "                    continue\n",
    "            \n",
    "            # Save final results\n",
    "            if results:\n",
    "                with open(save_path, 'w') as f:\n",
    "                    json.dump(results, f, indent=4)\n",
    "            \n",
    "        except Exception as e:\n",
    "            if results:\n",
    "                error_save_path = f\"{save_path}_error_state.json\"\n",
    "                with open(error_save_path, 'w') as f:\n",
    "                    json.dump(results, f, indent=4)\n",
    "        \n",
    "        # Print comprehensive summary\n",
    "        self._print_evaluation_summary(\n",
    "            model_name, total_images, successful_images, failed_images, \n",
    "            total_questions_processed, total_questions_failed, len(results)\n",
    "        )\n",
    "        \n",
    "        return results\n",
    "    \n",
    "    def _print_evaluation_summary(self, model_name, total_images, successful_images, \n",
    "                                failed_images, total_questions_processed, total_questions_failed, total_results):\n",
    "        \"\"\"Print a comprehensive evaluation summary.\"\"\"\n",
    "        print(f\"\\n{'='*60}\")\n",
    "        print(f\"EVALUATION SUMMARY FOR {model_name.upper()}\")\n",
    "        print(f\"{'='*60}\")\n",
    "        \n",
    "        # Image-level statistics\n",
    "        num_successful = len(successful_images)\n",
    "        num_failed = len(failed_images)\n",
    "        \n",
    "        print(f\"📊 IMAGE PROCESSING SUMMARY:\")\n",
    "        print(f\"   Total images attempted: {total_images}\")\n",
    "        print(f\"   Successfully processed: {num_successful} ({num_successful/total_images*100:.1f}%)\")\n",
    "        print(f\"   Failed images: {num_failed} ({num_failed/total_images*100:.1f}%)\")\n",
    "        \n",
    "        # Question-level statistics\n",
    "        questions_succeeded = total_questions_processed - total_questions_failed\n",
    "        print(f\"\\n📝 QUESTION PROCESSING SUMMARY:\")\n",
    "        print(f\"   Total questions attempted: {total_questions_processed}\")\n",
    "        print(f\"   Successfully processed: {questions_succeeded} ({questions_succeeded/total_questions_processed*100:.1f}%)\")\n",
    "        print(f\"   Failed questions: {total_questions_failed} ({total_questions_failed/total_questions_processed*100:.1f}%)\")\n",
    "        print(f\"   Results saved: {total_results}\")\n",
    "        \n",
    "        # Successful images details\n",
    "        if successful_images:\n",
    "            print(f\"\\n✅ SUCCESSFUL IMAGES ({len(successful_images)}):\")\n",
    "            for img in successful_images:\n",
    "                print(f\"   • {img['image_id']} (Type: {img['image_type']}, \"\n",
    "                      f\"Questions: {img['questions_succeeded']}/{img['questions_total']}, \"\n",
    "                      f\"Time: {img['processing_time']:.1f}s)\")\n",
    "        \n",
    "        # Failed images details\n",
    "        if failed_images:\n",
    "            print(f\"\\n❌ FAILED/PROBLEMATIC IMAGES ({len(failed_images)}):\")\n",
    "            for img in failed_images:\n",
    "                if img['error_type'] == 'complete_failure':\n",
    "                    print(f\"   • {img['image_id']} (Type: {img['image_type']}) - \"\n",
    "                          f\"COMPLETE FAILURE: {img.get('error_message', 'Unknown error')}\")\n",
    "                elif img['error_type'] == 'partial_failure':\n",
    "                    print(f\"   • {img['image_id']} (Type: {img['image_type']}) - \"\n",
    "                          f\"PARTIAL: {img['questions_failed']}/{img['questions_total']} failed \"\n",
    "                          f\"({img['success_rate']} success)\")\n",
    "                elif img['error_type'] == 'file_not_found':\n",
    "                    print(f\"   • {img['image_id']} (Type: {img['image_type']}) - \"\n",
    "                          f\"FILE NOT FOUND: {img['error_message']}\")\n",
    "        \n",
    "        # Group failed images by type\n",
    "        if failed_images:\n",
    "            print(f\"\\n📈 FAILURE ANALYSIS BY IMAGE TYPE:\")\n",
    "            from collections import defaultdict\n",
    "            failures_by_type = defaultdict(list)\n",
    "            for img in failed_images:\n",
    "                failures_by_type[img['image_type']].append(img)\n",
    "            \n",
    "            for img_type, failures in failures_by_type.items():\n",
    "                print(f\"   • {img_type}: {len(failures)} failed images\")\n",
    "                for failure in failures:\n",
    "                    print(f\"     - {failure['image_id']} ({failure['error_type']})\")\n",
    "        \n",
    "        print(f\"{'='*60}\\n\")"
   ]
  },
  {
   "cell_type": "markdown",
   "id": "b8d966cd",
   "metadata": {
    "papermill": {
     "duration": 0.005365,
     "end_time": "2025-07-28T21:19:15.862856",
     "exception": false,
     "start_time": "2025-07-28T21:19:15.857491",
     "status": "completed"
    },
    "tags": []
   },
   "source": [
    "## Test Fuyu Model\n",
    "\n",
    "Let's evaluate the Fuyu-8b model on our benchmark."
   ]
  },
  {
   "cell_type": "code",
   "execution_count": 5,
   "id": "b87a2bf1",
   "metadata": {
    "execution": {
     "iopub.execute_input": "2025-07-28T21:19:15.874532Z",
     "iopub.status.busy": "2025-07-28T21:19:15.874290Z",
     "iopub.status.idle": "2025-07-28T21:19:15.879622Z",
     "shell.execute_reply": "2025-07-28T21:19:15.878998Z"
    },
    "papermill": {
     "duration": 0.012424,
     "end_time": "2025-07-28T21:19:15.880717",
     "exception": false,
     "start_time": "2025-07-28T21:19:15.868293",
     "status": "completed"
    },
    "tags": []
   },
   "outputs": [],
   "source": [
    "def test_fuyu():\n",
    "    #from transformers import AutoModelForCausalLM, AutoTokenizer\n",
    "    from transformers import FuyuProcessor, FuyuForCausalLM\n",
    "    \n",
    "    print(\"Loading Fuyu-8b model...\")\n",
    "    model = FuyuForCausalLM.from_pretrained(\n",
    "        \"/var/scratch/ave303/models/fuyu-8b\",\n",
    "        # load_in_8bit=True,\n",
    "        torch_dtype=torch.float16,\n",
    "        device_map=\"auto\",\n",
    "        low_cpu_mem_usage=True\n",
    "    ).eval()\n",
    "    processor = FuyuProcessor.from_pretrained(\"/var/scratch/ave303/models/fuyu-8b\")\n",
    "\n",
    "    ## fuyu-8b is very slow and average performance\n",
    "\n",
    "    # Optional: Enable memory efficient attention\n",
    "    if hasattr(model.config, 'use_memory_efficient_attention'):\n",
    "        model.config.use_memory_efficient_attention = True\n",
    "        \n",
    "    tester = BenchmarkTester()\n",
    "    fuyu_results = tester.evaluate_model(\n",
    "        \"fuyu-8b\",\n",
    "        model, \n",
    "        processor, \n",
    "        \"fuyu_8b_results.json\", \n",
    "        batch_size=360\n",
    "    )\n",
    "    # tester.save_results(\"fuyu_results.json\")\n",
    "\n",
    "    if fuyu_results is not None:\n",
    "        print(\"Initial test successful!\")\n",
    "    \n",
    "    # Clean up\n",
    "    del model, processor\n",
    "    torch.cuda.empty_cache()\n",
    "    gc.collect()"
   ]
  },
  {
   "cell_type": "markdown",
   "id": "d19db616",
   "metadata": {
    "papermill": {
     "duration": 0.005453,
     "end_time": "2025-07-28T21:19:15.892122",
     "exception": false,
     "start_time": "2025-07-28T21:19:15.886669",
     "status": "completed"
    },
    "tags": []
   },
   "source": [
    "## Test BLIP-2 Model\n",
    "\n",
    "Now let's evaluate the blip2 model."
   ]
  },
  {
   "cell_type": "code",
   "execution_count": 6,
   "id": "dee75ac1",
   "metadata": {
    "execution": {
     "iopub.execute_input": "2025-07-28T21:19:15.903764Z",
     "iopub.status.busy": "2025-07-28T21:19:15.903536Z",
     "iopub.status.idle": "2025-07-28T21:19:15.909116Z",
     "shell.execute_reply": "2025-07-28T21:19:15.908493Z"
    },
    "papermill": {
     "duration": 0.012625,
     "end_time": "2025-07-28T21:19:15.910228",
     "exception": false,
     "start_time": "2025-07-28T21:19:15.897603",
     "status": "completed"
    },
    "tags": []
   },
   "outputs": [],
   "source": [
    "def test_blip2():\n",
    "    from transformers import Blip2Processor, Blip2ForConditionalGeneration\n",
    "    \n",
    "    print(\"Loading BLIP-2 model...\")\n",
    "    model = Blip2ForConditionalGeneration.from_pretrained(\n",
    "        \"/var/scratch/ave303/models/blip2opt6.7b\",\n",
    "        # load_in_8bit=True,\n",
    "        torch_dtype=torch.float16,\n",
    "        device_map=\"auto\",\n",
    "        # temperature=0.8,\n",
    "        low_cpu_mem_usage=True\n",
    "    ).eval()\n",
    "    processor = Blip2Processor.from_pretrained(\"/var/scratch/ave303/models/blip2opt6.7b\")\n",
    "\n",
    "    ## opt-2.7b average performance, better instruction following \n",
    "        # Format - Answer(total number):\n",
    "    ## opt-6.7b(8bit) better performance with atleast answering, not well-instruction tuned, but provides number for answers\n",
    "        # Format - Answer(total number):\n",
    "    ## flan-t5-xl does fine but needs a lot of post processing, does not follow instructions to clearly\n",
    "        # Format - Answer(provide total number):\n",
    "    ## flan-t5-xxl(8bit) decent performance, better with instruction I think, slight postprocessing needed\n",
    "        # Format - Answer:\n",
    "    \n",
    "    # Optional: Enable memory efficient attention\n",
    "    if hasattr(model.config, 'use_memory_efficient_attention'):\n",
    "        model.config.use_memory_efficient_attention = True\n",
    "    \n",
    "    tester = BenchmarkTester()\n",
    "    blip2_results = tester.evaluate_model(\n",
    "        \"blip2\",\n",
    "        model, \n",
    "        processor, \n",
    "        \"blip2-opt-6.7b_results.json\", \n",
    "        batch_size=360\n",
    "    )\n",
    "    # tester.save_results(\"blip2_results.json\")\n",
    "\n",
    "    if blip2_results is not None:\n",
    "        print(\"Initial test successful!\")\n",
    "    \n",
    "    # Clean up\n",
    "    del model, processor\n",
    "    torch.cuda.empty_cache()\n",
    "    gc.collect()"
   ]
  },
  {
   "cell_type": "markdown",
   "id": "2c5ab33e",
   "metadata": {
    "papermill": {
     "duration": 0.005121,
     "end_time": "2025-07-28T21:19:15.920671",
     "exception": false,
     "start_time": "2025-07-28T21:19:15.915550",
     "status": "completed"
    },
    "tags": []
   },
   "source": [
    "## Run Evaluation\n",
    "\n",
    "Now we can run our evaluation. Let's start with the Fuyu model:"
   ]
  },
  {
   "cell_type": "code",
   "execution_count": 7,
   "id": "2eff0f16",
   "metadata": {
    "collapsed": true,
    "execution": {
     "iopub.execute_input": "2025-07-28T21:19:15.933625Z",
     "iopub.status.busy": "2025-07-28T21:19:15.933389Z",
     "iopub.status.idle": "2025-07-28T21:19:15.936633Z",
     "shell.execute_reply": "2025-07-28T21:19:15.936009Z"
    },
    "jupyter": {
     "outputs_hidden": true
    },
    "papermill": {
     "duration": 0.010493,
     "end_time": "2025-07-28T21:19:15.937786",
     "exception": false,
     "start_time": "2025-07-28T21:19:15.927293",
     "status": "completed"
    },
    "tags": []
   },
   "outputs": [],
   "source": [
    "# test_fuyu()"
   ]
  },
  {
   "cell_type": "markdown",
   "id": "f5d48961",
   "metadata": {
    "papermill": {
     "duration": 0.005082,
     "end_time": "2025-07-28T21:19:15.948213",
     "exception": false,
     "start_time": "2025-07-28T21:19:15.943131",
     "status": "completed"
    },
    "tags": []
   },
   "source": [
    "And then the BLIP-2 model:"
   ]
  },
  {
   "cell_type": "code",
   "execution_count": 8,
   "id": "f4ab6c67",
   "metadata": {
    "execution": {
     "iopub.execute_input": "2025-07-28T21:19:15.959787Z",
     "iopub.status.busy": "2025-07-28T21:19:15.959559Z",
     "iopub.status.idle": "2025-07-28T21:22:08.196922Z",
     "shell.execute_reply": "2025-07-28T21:22:08.196032Z"
    },
    "papermill": {
     "duration": 172.244639,
     "end_time": "2025-07-28T21:22:08.198202",
     "exception": false,
     "start_time": "2025-07-28T21:19:15.953563",
     "status": "completed"
    },
    "tags": []
   },
   "outputs": [
    {
     "name": "stderr",
     "output_type": "stream",
     "text": [
      "/var/scratch/ave303/anaconda3/envs/op_bench/lib/python3.12/site-packages/tqdm/auto.py:21: TqdmWarning: IProgress not found. Please update jupyter and ipywidgets. See https://ipywidgets.readthedocs.io/en/stable/user_install.html\n",
      "  from .autonotebook import tqdm as notebook_tqdm\n"
     ]
    },
    {
     "name": "stdout",
     "output_type": "stream",
     "text": [
      "Loading BLIP-2 model...\n"
     ]
    },
    {
     "name": "stderr",
     "output_type": "stream",
     "text": [
      "\r\n",
      "Loading checkpoint shards:   0%|          | 0/7 [00:00<?, ?it/s]"
     ]
    },
    {
     "name": "stderr",
     "output_type": "stream",
     "text": [
      "\r\n",
      "Loading checkpoint shards:  14%|█▍        | 1/7 [00:04<00:29,  4.90s/it]"
     ]
    },
    {
     "name": "stderr",
     "output_type": "stream",
     "text": [
      "\r\n",
      "Loading checkpoint shards:  29%|██▊       | 2/7 [00:09<00:24,  4.89s/it]"
     ]
    },
    {
     "name": "stderr",
     "output_type": "stream",
     "text": [
      "\r\n",
      "Loading checkpoint shards:  43%|████▎     | 3/7 [00:14<00:19,  4.89s/it]"
     ]
    },
    {
     "name": "stderr",
     "output_type": "stream",
     "text": [
      "\r\n",
      "Loading checkpoint shards:  57%|█████▋    | 4/7 [00:19<00:14,  4.83s/it]"
     ]
    },
    {
     "name": "stderr",
     "output_type": "stream",
     "text": [
      "\r\n",
      "Loading checkpoint shards:  71%|███████▏  | 5/7 [00:24<00:09,  4.79s/it]"
     ]
    },
    {
     "name": "stderr",
     "output_type": "stream",
     "text": [
      "\r\n",
      "Loading checkpoint shards:  86%|████████▌ | 6/7 [00:28<00:04,  4.69s/it]"
     ]
    },
    {
     "name": "stderr",
     "output_type": "stream",
     "text": [
      "\r\n",
      "Loading checkpoint shards: 100%|██████████| 7/7 [00:30<00:00,  3.92s/it]"
     ]
    },
    {
     "name": "stderr",
     "output_type": "stream",
     "text": [
      "\r\n",
      "Loading checkpoint shards: 100%|██████████| 7/7 [00:30<00:00,  4.42s/it]"
     ]
    },
    {
     "name": "stderr",
     "output_type": "stream",
     "text": [
      "\n",
      "Using a slow image processor as `use_fast` is unset and a slow processor was saved with this model. `use_fast=True` will be the default behavior in v4.52, even if the model was saved with a slow processor. This will result in minor differences in outputs. You'll still be able to use a slow processor with `use_fast=False`.\n"
     ]
    },
    {
     "name": "stdout",
     "output_type": "stream",
     "text": [
      "\n",
      "Evaluating blip2...\n",
      "Using device: cuda\n"
     ]
    },
    {
     "name": "stderr",
     "output_type": "stream",
     "text": [
      "\r\n",
      "Processing images:   0%|          | 0/360 [00:00<?, ?it/s]"
     ]
    },
    {
     "name": "stderr",
     "output_type": "stream",
     "text": [
      "\r\n",
      "Processing images:   0%|          | 1/360 [00:01<08:28,  1.42s/it]"
     ]
    },
    {
     "name": "stderr",
     "output_type": "stream",
     "text": [
      "\r\n",
      "Processing images:   1%|          | 2/360 [00:01<04:47,  1.25it/s]"
     ]
    },
    {
     "name": "stderr",
     "output_type": "stream",
     "text": [
      "\r\n",
      "Processing images:   1%|          | 3/360 [00:02<03:53,  1.53it/s]"
     ]
    },
    {
     "name": "stderr",
     "output_type": "stream",
     "text": [
      "\r\n",
      "Processing images:   1%|          | 4/360 [00:02<03:06,  1.90it/s]"
     ]
    },
    {
     "name": "stderr",
     "output_type": "stream",
     "text": [
      "\r\n",
      "Processing images:   1%|▏         | 5/360 [00:03<02:53,  2.04it/s]"
     ]
    },
    {
     "name": "stderr",
     "output_type": "stream",
     "text": [
      "\r\n",
      "Processing images:   2%|▏         | 6/360 [00:03<02:35,  2.27it/s]"
     ]
    },
    {
     "name": "stderr",
     "output_type": "stream",
     "text": [
      "\r\n",
      "Processing images:   2%|▏         | 7/360 [00:03<02:12,  2.67it/s]"
     ]
    },
    {
     "name": "stderr",
     "output_type": "stream",
     "text": [
      "\r\n",
      "Processing images:   2%|▏         | 8/360 [00:03<01:57,  3.01it/s]"
     ]
    },
    {
     "name": "stderr",
     "output_type": "stream",
     "text": [
      "\r\n",
      "Processing images:   2%|▎         | 9/360 [00:04<01:46,  3.29it/s]"
     ]
    },
    {
     "name": "stderr",
     "output_type": "stream",
     "text": [
      "\r\n",
      "Processing images:   3%|▎         | 10/360 [00:04<01:40,  3.49it/s]"
     ]
    },
    {
     "name": "stderr",
     "output_type": "stream",
     "text": [
      "\r\n",
      "Processing images:   3%|▎         | 11/360 [00:04<01:40,  3.48it/s]"
     ]
    },
    {
     "name": "stderr",
     "output_type": "stream",
     "text": [
      "\r\n",
      "Processing images:   3%|▎         | 12/360 [00:04<01:37,  3.56it/s]"
     ]
    },
    {
     "name": "stderr",
     "output_type": "stream",
     "text": [
      "\r\n",
      "Processing images:   4%|▎         | 13/360 [00:05<01:32,  3.76it/s]"
     ]
    },
    {
     "name": "stderr",
     "output_type": "stream",
     "text": [
      "\r\n",
      "Processing images:   4%|▍         | 14/360 [00:05<01:31,  3.80it/s]"
     ]
    },
    {
     "name": "stderr",
     "output_type": "stream",
     "text": [
      "\r\n",
      "Processing images:   4%|▍         | 15/360 [00:05<01:38,  3.50it/s]"
     ]
    },
    {
     "name": "stderr",
     "output_type": "stream",
     "text": [
      "\r\n",
      "Processing images:   4%|▍         | 16/360 [00:06<01:45,  3.25it/s]"
     ]
    },
    {
     "name": "stderr",
     "output_type": "stream",
     "text": [
      "\r\n",
      "Processing images:   5%|▍         | 17/360 [00:06<01:37,  3.50it/s]"
     ]
    },
    {
     "name": "stderr",
     "output_type": "stream",
     "text": [
      "\r\n",
      "Processing images:   5%|▌         | 18/360 [00:06<01:33,  3.65it/s]"
     ]
    },
    {
     "name": "stderr",
     "output_type": "stream",
     "text": [
      "\r\n",
      "Processing images:   5%|▌         | 19/360 [00:06<01:32,  3.70it/s]"
     ]
    },
    {
     "name": "stderr",
     "output_type": "stream",
     "text": [
      "\r\n",
      "Processing images:   6%|▌         | 20/360 [00:07<01:34,  3.61it/s]"
     ]
    },
    {
     "name": "stderr",
     "output_type": "stream",
     "text": [
      "\r\n",
      "Processing images:   6%|▌         | 21/360 [00:07<01:31,  3.69it/s]"
     ]
    },
    {
     "name": "stderr",
     "output_type": "stream",
     "text": [
      "\r\n",
      "Processing images:   6%|▌         | 22/360 [00:08<02:55,  1.92it/s]"
     ]
    },
    {
     "name": "stderr",
     "output_type": "stream",
     "text": [
      "\r\n",
      "Processing images:   6%|▋         | 23/360 [00:09<04:05,  1.37it/s]"
     ]
    },
    {
     "name": "stderr",
     "output_type": "stream",
     "text": [
      "\r\n",
      "Processing images:   7%|▋         | 24/360 [00:09<03:18,  1.69it/s]"
     ]
    },
    {
     "name": "stderr",
     "output_type": "stream",
     "text": [
      "\r\n",
      "Processing images:   7%|▋         | 25/360 [00:10<02:42,  2.06it/s]"
     ]
    },
    {
     "name": "stderr",
     "output_type": "stream",
     "text": [
      "\r\n",
      "Processing images:   7%|▋         | 26/360 [00:10<02:20,  2.39it/s]"
     ]
    },
    {
     "name": "stderr",
     "output_type": "stream",
     "text": [
      "\r\n",
      "Processing images:   8%|▊         | 27/360 [00:10<02:02,  2.71it/s]"
     ]
    },
    {
     "name": "stderr",
     "output_type": "stream",
     "text": [
      "\r\n",
      "Processing images:   8%|▊         | 28/360 [00:10<01:49,  3.02it/s]"
     ]
    },
    {
     "name": "stderr",
     "output_type": "stream",
     "text": [
      "\r\n",
      "Processing images:   8%|▊         | 29/360 [00:11<01:39,  3.32it/s]"
     ]
    },
    {
     "name": "stderr",
     "output_type": "stream",
     "text": [
      "\r\n",
      "Processing images:   8%|▊         | 30/360 [00:11<01:36,  3.43it/s]"
     ]
    },
    {
     "name": "stderr",
     "output_type": "stream",
     "text": [
      "\r\n",
      "Processing images:   9%|▊         | 31/360 [00:11<01:33,  3.52it/s]"
     ]
    },
    {
     "name": "stderr",
     "output_type": "stream",
     "text": [
      "\r\n",
      "Processing images:   9%|▉         | 32/360 [00:11<01:30,  3.61it/s]"
     ]
    },
    {
     "name": "stderr",
     "output_type": "stream",
     "text": [
      "\r\n",
      "Processing images:   9%|▉         | 33/360 [00:12<01:30,  3.63it/s]"
     ]
    },
    {
     "name": "stderr",
     "output_type": "stream",
     "text": [
      "\r\n",
      "Processing images:   9%|▉         | 34/360 [00:12<01:26,  3.76it/s]"
     ]
    },
    {
     "name": "stderr",
     "output_type": "stream",
     "text": [
      "\r\n",
      "Processing images:  10%|▉         | 35/360 [00:12<01:25,  3.80it/s]"
     ]
    },
    {
     "name": "stderr",
     "output_type": "stream",
     "text": [
      "\r\n",
      "Processing images:  10%|█         | 36/360 [00:12<01:23,  3.87it/s]"
     ]
    },
    {
     "name": "stderr",
     "output_type": "stream",
     "text": [
      "\r\n",
      "Processing images:  10%|█         | 37/360 [00:13<01:24,  3.81it/s]"
     ]
    },
    {
     "name": "stderr",
     "output_type": "stream",
     "text": [
      "\r\n",
      "Processing images:  11%|█         | 38/360 [00:13<01:27,  3.67it/s]"
     ]
    },
    {
     "name": "stderr",
     "output_type": "stream",
     "text": [
      "\r\n",
      "Processing images:  11%|█         | 39/360 [00:13<01:26,  3.69it/s]"
     ]
    },
    {
     "name": "stderr",
     "output_type": "stream",
     "text": [
      "\r\n",
      "Processing images:  11%|█         | 40/360 [00:14<01:29,  3.58it/s]"
     ]
    },
    {
     "name": "stderr",
     "output_type": "stream",
     "text": [
      "\r\n",
      "Processing images:  11%|█▏        | 41/360 [00:14<01:25,  3.73it/s]"
     ]
    },
    {
     "name": "stderr",
     "output_type": "stream",
     "text": [
      "\r\n",
      "Processing images:  12%|█▏        | 42/360 [00:14<01:26,  3.69it/s]"
     ]
    },
    {
     "name": "stderr",
     "output_type": "stream",
     "text": [
      "\r\n",
      "Processing images:  12%|█▏        | 43/360 [00:14<01:25,  3.73it/s]"
     ]
    },
    {
     "name": "stderr",
     "output_type": "stream",
     "text": [
      "\r\n",
      "Processing images:  12%|█▏        | 44/360 [00:15<01:30,  3.48it/s]"
     ]
    },
    {
     "name": "stderr",
     "output_type": "stream",
     "text": [
      "\r\n",
      "Processing images:  12%|█▎        | 45/360 [00:15<01:30,  3.47it/s]"
     ]
    },
    {
     "name": "stderr",
     "output_type": "stream",
     "text": [
      "\r\n",
      "Processing images:  13%|█▎        | 46/360 [00:15<01:28,  3.57it/s]"
     ]
    },
    {
     "name": "stderr",
     "output_type": "stream",
     "text": [
      "\r\n",
      "Processing images:  13%|█▎        | 47/360 [00:16<01:26,  3.63it/s]"
     ]
    },
    {
     "name": "stderr",
     "output_type": "stream",
     "text": [
      "\r\n",
      "Processing images:  13%|█▎        | 48/360 [00:16<01:24,  3.70it/s]"
     ]
    },
    {
     "name": "stderr",
     "output_type": "stream",
     "text": [
      "\r\n",
      "Processing images:  14%|█▎        | 49/360 [00:16<01:23,  3.70it/s]"
     ]
    },
    {
     "name": "stderr",
     "output_type": "stream",
     "text": [
      "\r\n",
      "Processing images:  14%|█▍        | 50/360 [00:16<01:29,  3.48it/s]"
     ]
    },
    {
     "name": "stderr",
     "output_type": "stream",
     "text": [
      "\r\n",
      "Processing images:  14%|█▍        | 51/360 [00:17<01:30,  3.43it/s]"
     ]
    },
    {
     "name": "stderr",
     "output_type": "stream",
     "text": [
      "\r\n",
      "Processing images:  14%|█▍        | 52/360 [00:17<01:28,  3.49it/s]"
     ]
    },
    {
     "name": "stderr",
     "output_type": "stream",
     "text": [
      "\r\n",
      "Processing images:  15%|█▍        | 53/360 [00:17<01:27,  3.49it/s]"
     ]
    },
    {
     "name": "stderr",
     "output_type": "stream",
     "text": [
      "\r\n",
      "Processing images:  15%|█▌        | 54/360 [00:18<02:07,  2.40it/s]"
     ]
    },
    {
     "name": "stderr",
     "output_type": "stream",
     "text": [
      "\r\n",
      "Processing images:  15%|█▌        | 55/360 [00:18<02:00,  2.52it/s]"
     ]
    },
    {
     "name": "stderr",
     "output_type": "stream",
     "text": [
      "\r\n",
      "Processing images:  16%|█▌        | 56/360 [00:19<02:58,  1.70it/s]"
     ]
    },
    {
     "name": "stderr",
     "output_type": "stream",
     "text": [
      "\r\n",
      "Processing images:  16%|█▌        | 57/360 [00:20<02:37,  1.92it/s]"
     ]
    },
    {
     "name": "stderr",
     "output_type": "stream",
     "text": [
      "\r\n",
      "Processing images:  16%|█▌        | 58/360 [00:20<02:16,  2.21it/s]"
     ]
    },
    {
     "name": "stderr",
     "output_type": "stream",
     "text": [
      "\r\n",
      "Processing images:  16%|█▋        | 59/360 [00:20<02:00,  2.50it/s]"
     ]
    },
    {
     "name": "stderr",
     "output_type": "stream",
     "text": [
      "\r\n",
      "Processing images:  17%|█▋        | 60/360 [00:21<01:59,  2.50it/s]"
     ]
    },
    {
     "name": "stderr",
     "output_type": "stream",
     "text": [
      "\r\n",
      "Processing images:  17%|█▋        | 61/360 [00:21<01:55,  2.58it/s]"
     ]
    },
    {
     "name": "stderr",
     "output_type": "stream",
     "text": [
      "\r\n",
      "Processing images:  17%|█▋        | 62/360 [00:21<01:50,  2.70it/s]"
     ]
    },
    {
     "name": "stderr",
     "output_type": "stream",
     "text": [
      "\r\n",
      "Processing images:  18%|█▊        | 63/360 [00:22<01:49,  2.72it/s]"
     ]
    },
    {
     "name": "stderr",
     "output_type": "stream",
     "text": [
      "\r\n",
      "Processing images:  18%|█▊        | 64/360 [00:22<01:55,  2.56it/s]"
     ]
    },
    {
     "name": "stderr",
     "output_type": "stream",
     "text": [
      "\r\n",
      "Processing images:  18%|█▊        | 65/360 [00:22<01:43,  2.85it/s]"
     ]
    },
    {
     "name": "stderr",
     "output_type": "stream",
     "text": [
      "\r\n",
      "Processing images:  18%|█▊        | 66/360 [00:23<01:35,  3.08it/s]"
     ]
    },
    {
     "name": "stderr",
     "output_type": "stream",
     "text": [
      "\r\n",
      "Processing images:  19%|█▊        | 67/360 [00:23<01:35,  3.07it/s]"
     ]
    },
    {
     "name": "stderr",
     "output_type": "stream",
     "text": [
      "\r\n",
      "Processing images:  19%|█▉        | 68/360 [00:23<01:36,  3.04it/s]"
     ]
    },
    {
     "name": "stderr",
     "output_type": "stream",
     "text": [
      "\r\n",
      "Processing images:  19%|█▉        | 69/360 [00:24<01:35,  3.04it/s]"
     ]
    },
    {
     "name": "stderr",
     "output_type": "stream",
     "text": [
      "\r\n",
      "Processing images:  19%|█▉        | 70/360 [00:24<01:39,  2.91it/s]"
     ]
    },
    {
     "name": "stderr",
     "output_type": "stream",
     "text": [
      "\r\n",
      "Processing images:  20%|█▉        | 71/360 [00:25<01:45,  2.73it/s]"
     ]
    },
    {
     "name": "stderr",
     "output_type": "stream",
     "text": [
      "\r\n",
      "Processing images:  20%|██        | 72/360 [00:25<01:41,  2.83it/s]"
     ]
    },
    {
     "name": "stderr",
     "output_type": "stream",
     "text": [
      "\r\n",
      "Processing images:  20%|██        | 73/360 [00:25<01:38,  2.92it/s]"
     ]
    },
    {
     "name": "stderr",
     "output_type": "stream",
     "text": [
      "\r\n",
      "Processing images:  21%|██        | 74/360 [00:25<01:34,  3.03it/s]"
     ]
    },
    {
     "name": "stderr",
     "output_type": "stream",
     "text": [
      "\r\n",
      "Processing images:  21%|██        | 75/360 [00:26<02:14,  2.13it/s]"
     ]
    },
    {
     "name": "stderr",
     "output_type": "stream",
     "text": [
      "\r\n",
      "Processing images:  21%|██        | 76/360 [00:27<02:01,  2.34it/s]"
     ]
    },
    {
     "name": "stderr",
     "output_type": "stream",
     "text": [
      "\r\n",
      "Processing images:  21%|██▏       | 77/360 [00:27<01:45,  2.68it/s]"
     ]
    },
    {
     "name": "stderr",
     "output_type": "stream",
     "text": [
      "\r\n",
      "Processing images:  22%|██▏       | 78/360 [00:27<01:41,  2.77it/s]"
     ]
    },
    {
     "name": "stderr",
     "output_type": "stream",
     "text": [
      "\r\n",
      "Processing images:  22%|██▏       | 79/360 [00:27<01:37,  2.87it/s]"
     ]
    },
    {
     "name": "stderr",
     "output_type": "stream",
     "text": [
      "\r\n",
      "Processing images:  22%|██▏       | 80/360 [00:28<01:35,  2.94it/s]"
     ]
    },
    {
     "name": "stderr",
     "output_type": "stream",
     "text": [
      "\r\n",
      "Processing images:  22%|██▎       | 81/360 [00:28<01:33,  2.98it/s]"
     ]
    },
    {
     "name": "stderr",
     "output_type": "stream",
     "text": [
      "\r\n",
      "Processing images:  23%|██▎       | 82/360 [00:29<01:38,  2.83it/s]"
     ]
    },
    {
     "name": "stderr",
     "output_type": "stream",
     "text": [
      "\r\n",
      "Processing images:  23%|██▎       | 83/360 [00:29<01:28,  3.13it/s]"
     ]
    },
    {
     "name": "stderr",
     "output_type": "stream",
     "text": [
      "\r\n",
      "Processing images:  23%|██▎       | 84/360 [00:29<01:50,  2.49it/s]"
     ]
    },
    {
     "name": "stderr",
     "output_type": "stream",
     "text": [
      "\r\n",
      "Processing images:  24%|██▎       | 85/360 [00:30<01:56,  2.37it/s]"
     ]
    },
    {
     "name": "stderr",
     "output_type": "stream",
     "text": [
      "\r\n",
      "Processing images:  24%|██▍       | 86/360 [00:30<01:43,  2.65it/s]"
     ]
    },
    {
     "name": "stderr",
     "output_type": "stream",
     "text": [
      "\r\n",
      "Processing images:  24%|██▍       | 87/360 [00:30<01:38,  2.76it/s]"
     ]
    },
    {
     "name": "stderr",
     "output_type": "stream",
     "text": [
      "\r\n",
      "Processing images:  24%|██▍       | 88/360 [00:31<01:36,  2.82it/s]"
     ]
    },
    {
     "name": "stderr",
     "output_type": "stream",
     "text": [
      "\r\n",
      "Processing images:  25%|██▍       | 89/360 [00:31<01:41,  2.66it/s]"
     ]
    },
    {
     "name": "stderr",
     "output_type": "stream",
     "text": [
      "\r\n",
      "Processing images:  25%|██▌       | 90/360 [00:32<01:47,  2.52it/s]"
     ]
    },
    {
     "name": "stderr",
     "output_type": "stream",
     "text": [
      "\r\n",
      "Processing images:  25%|██▌       | 91/360 [00:32<01:36,  2.80it/s]"
     ]
    },
    {
     "name": "stderr",
     "output_type": "stream",
     "text": [
      "\r\n",
      "Processing images:  26%|██▌       | 92/360 [00:33<02:10,  2.06it/s]"
     ]
    },
    {
     "name": "stderr",
     "output_type": "stream",
     "text": [
      "\r\n",
      "Processing images:  26%|██▌       | 93/360 [00:33<01:56,  2.29it/s]"
     ]
    },
    {
     "name": "stderr",
     "output_type": "stream",
     "text": [
      "\r\n",
      "Processing images:  26%|██▌       | 94/360 [00:33<01:47,  2.47it/s]"
     ]
    },
    {
     "name": "stderr",
     "output_type": "stream",
     "text": [
      "\r\n",
      "Processing images:  26%|██▋       | 95/360 [00:34<01:41,  2.61it/s]"
     ]
    },
    {
     "name": "stderr",
     "output_type": "stream",
     "text": [
      "\r\n",
      "Processing images:  27%|██▋       | 96/360 [00:34<01:44,  2.53it/s]"
     ]
    },
    {
     "name": "stderr",
     "output_type": "stream",
     "text": [
      "\r\n",
      "Processing images:  27%|██▋       | 97/360 [00:35<01:46,  2.47it/s]"
     ]
    },
    {
     "name": "stderr",
     "output_type": "stream",
     "text": [
      "\r\n",
      "Processing images:  27%|██▋       | 98/360 [00:35<01:41,  2.58it/s]"
     ]
    },
    {
     "name": "stderr",
     "output_type": "stream",
     "text": [
      "\r\n",
      "Processing images:  28%|██▊       | 99/360 [00:35<01:56,  2.25it/s]"
     ]
    },
    {
     "name": "stderr",
     "output_type": "stream",
     "text": [
      "\r\n",
      "Processing images:  28%|██▊       | 100/360 [00:36<01:46,  2.44it/s]"
     ]
    },
    {
     "name": "stderr",
     "output_type": "stream",
     "text": [
      "\r\n",
      "Processing images:  28%|██▊       | 101/360 [00:36<01:39,  2.61it/s]"
     ]
    },
    {
     "name": "stderr",
     "output_type": "stream",
     "text": [
      "\r\n",
      "Processing images:  28%|██▊       | 102/360 [00:36<01:35,  2.71it/s]"
     ]
    },
    {
     "name": "stderr",
     "output_type": "stream",
     "text": [
      "\r\n",
      "Processing images:  29%|██▊       | 103/360 [00:37<01:33,  2.75it/s]"
     ]
    },
    {
     "name": "stderr",
     "output_type": "stream",
     "text": [
      "\r\n",
      "Processing images:  29%|██▉       | 104/360 [00:37<01:31,  2.80it/s]"
     ]
    },
    {
     "name": "stderr",
     "output_type": "stream",
     "text": [
      "\r\n",
      "Processing images:  29%|██▉       | 105/360 [00:37<01:26,  2.96it/s]"
     ]
    },
    {
     "name": "stderr",
     "output_type": "stream",
     "text": [
      "\r\n",
      "Processing images:  29%|██▉       | 106/360 [00:38<01:30,  2.82it/s]"
     ]
    },
    {
     "name": "stderr",
     "output_type": "stream",
     "text": [
      "\r\n",
      "Processing images:  30%|██▉       | 107/360 [00:38<01:27,  2.90it/s]"
     ]
    },
    {
     "name": "stderr",
     "output_type": "stream",
     "text": [
      "\r\n",
      "Processing images:  30%|███       | 108/360 [00:39<01:34,  2.66it/s]"
     ]
    },
    {
     "name": "stderr",
     "output_type": "stream",
     "text": [
      "\r\n",
      "Processing images:  30%|███       | 109/360 [00:39<01:38,  2.54it/s]"
     ]
    },
    {
     "name": "stderr",
     "output_type": "stream",
     "text": [
      "\r\n",
      "Processing images:  31%|███       | 110/360 [00:39<01:41,  2.47it/s]"
     ]
    },
    {
     "name": "stderr",
     "output_type": "stream",
     "text": [
      "\r\n",
      "Processing images:  31%|███       | 111/360 [00:40<01:42,  2.43it/s]"
     ]
    },
    {
     "name": "stderr",
     "output_type": "stream",
     "text": [
      "\r\n",
      "Processing images:  31%|███       | 112/360 [00:40<01:35,  2.58it/s]"
     ]
    },
    {
     "name": "stderr",
     "output_type": "stream",
     "text": [
      "\r\n",
      "Processing images:  31%|███▏      | 113/360 [00:40<01:24,  2.91it/s]"
     ]
    },
    {
     "name": "stderr",
     "output_type": "stream",
     "text": [
      "\r\n",
      "Processing images:  32%|███▏      | 114/360 [00:41<01:22,  2.97it/s]"
     ]
    },
    {
     "name": "stderr",
     "output_type": "stream",
     "text": [
      "\r\n",
      "Processing images:  32%|███▏      | 115/360 [00:41<01:23,  2.93it/s]"
     ]
    },
    {
     "name": "stderr",
     "output_type": "stream",
     "text": [
      "\r\n",
      "Processing images:  32%|███▏      | 116/360 [00:42<01:30,  2.70it/s]"
     ]
    },
    {
     "name": "stderr",
     "output_type": "stream",
     "text": [
      "\r\n",
      "Processing images:  32%|███▎      | 117/360 [00:42<01:26,  2.82it/s]"
     ]
    },
    {
     "name": "stderr",
     "output_type": "stream",
     "text": [
      "\r\n",
      "Processing images:  33%|███▎      | 118/360 [00:42<01:24,  2.87it/s]"
     ]
    },
    {
     "name": "stderr",
     "output_type": "stream",
     "text": [
      "\r\n",
      "Processing images:  33%|███▎      | 119/360 [00:43<01:21,  2.96it/s]"
     ]
    },
    {
     "name": "stderr",
     "output_type": "stream",
     "text": [
      "\r\n",
      "Processing images:  33%|███▎      | 120/360 [00:43<01:20,  2.97it/s]"
     ]
    },
    {
     "name": "stderr",
     "output_type": "stream",
     "text": [
      "\r\n",
      "Processing images:  34%|███▎      | 121/360 [00:43<01:12,  3.28it/s]"
     ]
    },
    {
     "name": "stderr",
     "output_type": "stream",
     "text": [
      "\r\n",
      "Processing images:  34%|███▍      | 122/360 [00:43<01:08,  3.50it/s]"
     ]
    },
    {
     "name": "stderr",
     "output_type": "stream",
     "text": [
      "\r\n",
      "Processing images:  34%|███▍      | 123/360 [00:44<01:05,  3.61it/s]"
     ]
    },
    {
     "name": "stderr",
     "output_type": "stream",
     "text": [
      "\r\n",
      "Processing images:  34%|███▍      | 124/360 [00:44<01:06,  3.55it/s]"
     ]
    },
    {
     "name": "stderr",
     "output_type": "stream",
     "text": [
      "\r\n",
      "Processing images:  35%|███▍      | 125/360 [00:44<01:02,  3.76it/s]"
     ]
    },
    {
     "name": "stderr",
     "output_type": "stream",
     "text": [
      "\r\n",
      "Processing images:  35%|███▌      | 126/360 [00:44<01:06,  3.50it/s]"
     ]
    },
    {
     "name": "stderr",
     "output_type": "stream",
     "text": [
      "\r\n",
      "Processing images:  35%|███▌      | 127/360 [00:45<01:03,  3.68it/s]"
     ]
    },
    {
     "name": "stderr",
     "output_type": "stream",
     "text": [
      "\r\n",
      "Processing images:  36%|███▌      | 128/360 [00:45<01:04,  3.62it/s]"
     ]
    },
    {
     "name": "stderr",
     "output_type": "stream",
     "text": [
      "\r\n",
      "Processing images:  36%|███▌      | 129/360 [00:45<01:02,  3.67it/s]"
     ]
    },
    {
     "name": "stderr",
     "output_type": "stream",
     "text": [
      "\r\n",
      "Processing images:  36%|███▌      | 130/360 [00:46<01:45,  2.18it/s]"
     ]
    },
    {
     "name": "stderr",
     "output_type": "stream",
     "text": [
      "\r\n",
      "Processing images:  36%|███▋      | 131/360 [00:47<01:42,  2.22it/s]"
     ]
    },
    {
     "name": "stderr",
     "output_type": "stream",
     "text": [
      "\r\n",
      "Processing images:  37%|███▋      | 132/360 [00:47<01:36,  2.36it/s]"
     ]
    },
    {
     "name": "stderr",
     "output_type": "stream",
     "text": [
      "\r\n",
      "Processing images:  37%|███▋      | 133/360 [00:47<01:33,  2.42it/s]"
     ]
    },
    {
     "name": "stderr",
     "output_type": "stream",
     "text": [
      "\r\n",
      "Processing images:  37%|███▋      | 134/360 [00:48<01:22,  2.74it/s]"
     ]
    },
    {
     "name": "stderr",
     "output_type": "stream",
     "text": [
      "\r\n",
      "Processing images:  38%|███▊      | 135/360 [00:48<01:24,  2.67it/s]"
     ]
    },
    {
     "name": "stderr",
     "output_type": "stream",
     "text": [
      "\r\n",
      "Processing images:  38%|███▊      | 136/360 [00:48<01:29,  2.51it/s]"
     ]
    },
    {
     "name": "stderr",
     "output_type": "stream",
     "text": [
      "\r\n",
      "Processing images:  38%|███▊      | 137/360 [00:49<01:21,  2.73it/s]"
     ]
    },
    {
     "name": "stderr",
     "output_type": "stream",
     "text": [
      "\r\n",
      "Processing images:  38%|███▊      | 138/360 [00:49<01:13,  3.01it/s]"
     ]
    },
    {
     "name": "stderr",
     "output_type": "stream",
     "text": [
      "\r\n",
      "Processing images:  39%|███▊      | 139/360 [00:49<01:08,  3.24it/s]"
     ]
    },
    {
     "name": "stderr",
     "output_type": "stream",
     "text": [
      "\r\n",
      "Processing images:  39%|███▉      | 140/360 [00:50<01:06,  3.31it/s]"
     ]
    },
    {
     "name": "stderr",
     "output_type": "stream",
     "text": [
      "\r\n",
      "Processing images:  39%|███▉      | 141/360 [00:50<01:39,  2.20it/s]"
     ]
    },
    {
     "name": "stderr",
     "output_type": "stream",
     "text": [
      "\r\n",
      "Processing images:  39%|███▉      | 142/360 [00:51<01:35,  2.29it/s]"
     ]
    },
    {
     "name": "stderr",
     "output_type": "stream",
     "text": [
      "\r\n",
      "Processing images:  40%|███▉      | 143/360 [00:52<02:04,  1.75it/s]"
     ]
    },
    {
     "name": "stderr",
     "output_type": "stream",
     "text": [
      "\r\n",
      "Processing images:  40%|████      | 144/360 [00:52<01:43,  2.08it/s]"
     ]
    },
    {
     "name": "stderr",
     "output_type": "stream",
     "text": [
      "\r\n",
      "Processing images:  40%|████      | 145/360 [00:52<01:28,  2.44it/s]"
     ]
    },
    {
     "name": "stderr",
     "output_type": "stream",
     "text": [
      "\r\n",
      "Processing images:  41%|████      | 146/360 [00:52<01:18,  2.74it/s]"
     ]
    },
    {
     "name": "stderr",
     "output_type": "stream",
     "text": [
      "\r\n",
      "Processing images:  41%|████      | 147/360 [00:53<01:10,  3.02it/s]"
     ]
    },
    {
     "name": "stderr",
     "output_type": "stream",
     "text": [
      "\r\n",
      "Processing images:  41%|████      | 148/360 [00:53<01:04,  3.31it/s]"
     ]
    },
    {
     "name": "stderr",
     "output_type": "stream",
     "text": [
      "\r\n",
      "Processing images:  41%|████▏     | 149/360 [00:53<01:00,  3.50it/s]"
     ]
    },
    {
     "name": "stderr",
     "output_type": "stream",
     "text": [
      "\r\n",
      "Processing images:  42%|████▏     | 150/360 [00:53<00:57,  3.65it/s]"
     ]
    },
    {
     "name": "stderr",
     "output_type": "stream",
     "text": [
      "\r\n",
      "Processing images:  42%|████▏     | 151/360 [00:54<00:55,  3.76it/s]"
     ]
    },
    {
     "name": "stderr",
     "output_type": "stream",
     "text": [
      "\r\n",
      "Processing images:  42%|████▏     | 152/360 [00:54<00:54,  3.81it/s]"
     ]
    },
    {
     "name": "stderr",
     "output_type": "stream",
     "text": [
      "\r\n",
      "Processing images:  42%|████▎     | 153/360 [00:54<00:53,  3.87it/s]"
     ]
    },
    {
     "name": "stderr",
     "output_type": "stream",
     "text": [
      "\r\n",
      "Processing images:  43%|████▎     | 154/360 [00:54<00:53,  3.88it/s]"
     ]
    },
    {
     "name": "stderr",
     "output_type": "stream",
     "text": [
      "\r\n",
      "Processing images:  43%|████▎     | 155/360 [00:55<00:52,  3.92it/s]"
     ]
    },
    {
     "name": "stderr",
     "output_type": "stream",
     "text": [
      "\r\n",
      "Processing images:  43%|████▎     | 156/360 [00:55<00:53,  3.82it/s]"
     ]
    },
    {
     "name": "stderr",
     "output_type": "stream",
     "text": [
      "\r\n",
      "Processing images:  44%|████▎     | 157/360 [00:55<00:52,  3.88it/s]"
     ]
    },
    {
     "name": "stderr",
     "output_type": "stream",
     "text": [
      "\r\n",
      "Processing images:  44%|████▍     | 158/360 [00:55<00:52,  3.88it/s]"
     ]
    },
    {
     "name": "stderr",
     "output_type": "stream",
     "text": [
      "\r\n",
      "Processing images:  44%|████▍     | 159/360 [00:56<00:51,  3.93it/s]"
     ]
    },
    {
     "name": "stderr",
     "output_type": "stream",
     "text": [
      "\r\n",
      "Processing images:  44%|████▍     | 160/360 [00:56<00:51,  3.90it/s]"
     ]
    },
    {
     "name": "stderr",
     "output_type": "stream",
     "text": [
      "\r\n",
      "Processing images:  45%|████▍     | 161/360 [00:57<01:15,  2.63it/s]"
     ]
    },
    {
     "name": "stderr",
     "output_type": "stream",
     "text": [
      "\r\n",
      "Processing images:  45%|████▌     | 162/360 [00:57<01:16,  2.57it/s]"
     ]
    },
    {
     "name": "stderr",
     "output_type": "stream",
     "text": [
      "\r\n",
      "Processing images:  45%|████▌     | 163/360 [00:58<01:33,  2.11it/s]"
     ]
    },
    {
     "name": "stderr",
     "output_type": "stream",
     "text": [
      "\r\n",
      "Processing images:  46%|████▌     | 164/360 [00:59<02:22,  1.37it/s]"
     ]
    },
    {
     "name": "stderr",
     "output_type": "stream",
     "text": [
      "\r\n",
      "Processing images:  46%|████▌     | 165/360 [01:01<03:26,  1.06s/it]"
     ]
    },
    {
     "name": "stderr",
     "output_type": "stream",
     "text": [
      "\r\n",
      "Processing images:  46%|████▌     | 166/360 [01:02<03:20,  1.04s/it]"
     ]
    },
    {
     "name": "stderr",
     "output_type": "stream",
     "text": [
      "\r\n",
      "Processing images:  46%|████▋     | 167/360 [01:02<02:46,  1.16it/s]"
     ]
    },
    {
     "name": "stderr",
     "output_type": "stream",
     "text": [
      "\r\n",
      "Processing images:  47%|████▋     | 168/360 [01:03<02:22,  1.35it/s]"
     ]
    },
    {
     "name": "stderr",
     "output_type": "stream",
     "text": [
      "\r\n",
      "Processing images:  47%|████▋     | 169/360 [01:03<02:04,  1.54it/s]"
     ]
    },
    {
     "name": "stderr",
     "output_type": "stream",
     "text": [
      "\r\n",
      "Processing images:  47%|████▋     | 170/360 [01:04<01:47,  1.76it/s]"
     ]
    },
    {
     "name": "stderr",
     "output_type": "stream",
     "text": [
      "\r\n",
      "Processing images:  48%|████▊     | 171/360 [01:04<01:58,  1.60it/s]"
     ]
    },
    {
     "name": "stderr",
     "output_type": "stream",
     "text": [
      "\r\n",
      "Processing images:  48%|████▊     | 172/360 [01:05<02:11,  1.43it/s]"
     ]
    },
    {
     "name": "stderr",
     "output_type": "stream",
     "text": [
      "\r\n",
      "Processing images:  48%|████▊     | 173/360 [01:06<02:13,  1.41it/s]"
     ]
    },
    {
     "name": "stderr",
     "output_type": "stream",
     "text": [
      "\r\n",
      "Processing images:  48%|████▊     | 174/360 [01:06<01:47,  1.73it/s]"
     ]
    },
    {
     "name": "stderr",
     "output_type": "stream",
     "text": [
      "\r\n",
      "Processing images:  49%|████▊     | 175/360 [01:06<01:27,  2.10it/s]"
     ]
    },
    {
     "name": "stderr",
     "output_type": "stream",
     "text": [
      "\r\n",
      "Processing images:  49%|████▉     | 176/360 [01:07<01:20,  2.28it/s]"
     ]
    },
    {
     "name": "stderr",
     "output_type": "stream",
     "text": [
      "\r\n",
      "Processing images:  49%|████▉     | 177/360 [01:07<01:08,  2.65it/s]"
     ]
    },
    {
     "name": "stderr",
     "output_type": "stream",
     "text": [
      "\r\n",
      "Processing images:  49%|████▉     | 178/360 [01:08<01:29,  2.03it/s]"
     ]
    },
    {
     "name": "stderr",
     "output_type": "stream",
     "text": [
      "\r\n",
      "Processing images:  50%|████▉     | 179/360 [01:09<01:44,  1.73it/s]"
     ]
    },
    {
     "name": "stderr",
     "output_type": "stream",
     "text": [
      "\r\n",
      "Processing images:  50%|█████     | 180/360 [01:09<01:26,  2.08it/s]"
     ]
    },
    {
     "name": "stderr",
     "output_type": "stream",
     "text": [
      "\r\n",
      "Processing images:  50%|█████     | 181/360 [01:09<01:14,  2.40it/s]"
     ]
    },
    {
     "name": "stderr",
     "output_type": "stream",
     "text": [
      "\r\n",
      "Processing images:  51%|█████     | 182/360 [01:09<01:07,  2.64it/s]"
     ]
    },
    {
     "name": "stderr",
     "output_type": "stream",
     "text": [
      "\r\n",
      "Processing images:  51%|█████     | 183/360 [01:10<01:01,  2.86it/s]"
     ]
    },
    {
     "name": "stderr",
     "output_type": "stream",
     "text": [
      "\r\n",
      "Processing images:  51%|█████     | 184/360 [01:10<00:55,  3.16it/s]"
     ]
    },
    {
     "name": "stderr",
     "output_type": "stream",
     "text": [
      "\r\n",
      "Processing images:  51%|█████▏    | 185/360 [01:10<00:53,  3.28it/s]"
     ]
    },
    {
     "name": "stderr",
     "output_type": "stream",
     "text": [
      "\r\n",
      "Processing images:  52%|█████▏    | 186/360 [01:10<00:52,  3.31it/s]"
     ]
    },
    {
     "name": "stderr",
     "output_type": "stream",
     "text": [
      "\r\n",
      "Processing images:  52%|█████▏    | 187/360 [01:11<00:52,  3.30it/s]"
     ]
    },
    {
     "name": "stderr",
     "output_type": "stream",
     "text": [
      "\r\n",
      "Processing images:  52%|█████▏    | 188/360 [01:11<00:51,  3.31it/s]"
     ]
    },
    {
     "name": "stderr",
     "output_type": "stream",
     "text": [
      "\r\n",
      "Processing images:  52%|█████▎    | 189/360 [01:11<00:50,  3.40it/s]"
     ]
    },
    {
     "name": "stderr",
     "output_type": "stream",
     "text": [
      "\r\n",
      "Processing images:  53%|█████▎    | 190/360 [01:12<00:51,  3.33it/s]"
     ]
    },
    {
     "name": "stderr",
     "output_type": "stream",
     "text": [
      "\r\n",
      "Processing images:  53%|█████▎    | 191/360 [01:12<00:50,  3.35it/s]"
     ]
    },
    {
     "name": "stderr",
     "output_type": "stream",
     "text": [
      "\r\n",
      "Processing images:  53%|█████▎    | 192/360 [01:12<00:50,  3.35it/s]"
     ]
    },
    {
     "name": "stderr",
     "output_type": "stream",
     "text": [
      "\r\n",
      "Processing images:  54%|█████▎    | 193/360 [01:12<00:49,  3.36it/s]"
     ]
    },
    {
     "name": "stderr",
     "output_type": "stream",
     "text": [
      "\r\n",
      "Processing images:  54%|█████▍    | 194/360 [01:13<00:48,  3.42it/s]"
     ]
    },
    {
     "name": "stderr",
     "output_type": "stream",
     "text": [
      "\r\n",
      "Processing images:  54%|█████▍    | 195/360 [01:13<00:45,  3.59it/s]"
     ]
    },
    {
     "name": "stderr",
     "output_type": "stream",
     "text": [
      "\r\n",
      "Processing images:  54%|█████▍    | 196/360 [01:13<00:46,  3.51it/s]"
     ]
    },
    {
     "name": "stderr",
     "output_type": "stream",
     "text": [
      "\r\n",
      "Processing images:  55%|█████▍    | 197/360 [01:14<00:46,  3.51it/s]"
     ]
    },
    {
     "name": "stderr",
     "output_type": "stream",
     "text": [
      "\r\n",
      "Processing images:  55%|█████▌    | 198/360 [01:14<00:46,  3.47it/s]"
     ]
    },
    {
     "name": "stderr",
     "output_type": "stream",
     "text": [
      "\r\n",
      "Processing images:  55%|█████▌    | 199/360 [01:14<00:46,  3.43it/s]"
     ]
    },
    {
     "name": "stderr",
     "output_type": "stream",
     "text": [
      "\r\n",
      "Processing images:  56%|█████▌    | 200/360 [01:15<00:47,  3.40it/s]"
     ]
    },
    {
     "name": "stderr",
     "output_type": "stream",
     "text": [
      "\r\n",
      "Processing images:  56%|█████▌    | 201/360 [01:15<00:46,  3.44it/s]"
     ]
    },
    {
     "name": "stderr",
     "output_type": "stream",
     "text": [
      "\r\n",
      "Processing images:  56%|█████▌    | 202/360 [01:15<00:45,  3.45it/s]"
     ]
    },
    {
     "name": "stderr",
     "output_type": "stream",
     "text": [
      "\r\n",
      "Processing images:  56%|█████▋    | 203/360 [01:15<00:43,  3.58it/s]"
     ]
    },
    {
     "name": "stderr",
     "output_type": "stream",
     "text": [
      "\r\n",
      "Processing images:  57%|█████▋    | 204/360 [01:16<01:13,  2.11it/s]"
     ]
    },
    {
     "name": "stderr",
     "output_type": "stream",
     "text": [
      "\r\n",
      "Processing images:  57%|█████▋    | 205/360 [01:17<01:09,  2.22it/s]"
     ]
    },
    {
     "name": "stderr",
     "output_type": "stream",
     "text": [
      "\r\n",
      "Processing images:  57%|█████▋    | 206/360 [01:17<01:04,  2.38it/s]"
     ]
    },
    {
     "name": "stderr",
     "output_type": "stream",
     "text": [
      "\r\n",
      "Processing images:  57%|█████▊    | 207/360 [01:17<01:00,  2.54it/s]"
     ]
    },
    {
     "name": "stderr",
     "output_type": "stream",
     "text": [
      "\r\n",
      "Processing images:  58%|█████▊    | 208/360 [01:18<00:57,  2.66it/s]"
     ]
    },
    {
     "name": "stderr",
     "output_type": "stream",
     "text": [
      "\r\n",
      "Processing images:  58%|█████▊    | 209/360 [01:18<00:53,  2.80it/s]"
     ]
    },
    {
     "name": "stderr",
     "output_type": "stream",
     "text": [
      "\r\n",
      "Processing images:  58%|█████▊    | 210/360 [01:18<00:51,  2.92it/s]"
     ]
    },
    {
     "name": "stderr",
     "output_type": "stream",
     "text": [
      "\r\n",
      "Processing images:  59%|█████▊    | 211/360 [01:19<00:47,  3.11it/s]"
     ]
    },
    {
     "name": "stderr",
     "output_type": "stream",
     "text": [
      "\r\n",
      "Processing images:  59%|█████▉    | 212/360 [01:19<00:44,  3.29it/s]"
     ]
    },
    {
     "name": "stderr",
     "output_type": "stream",
     "text": [
      "\r\n",
      "Processing images:  59%|█████▉    | 213/360 [01:19<00:41,  3.52it/s]"
     ]
    },
    {
     "name": "stderr",
     "output_type": "stream",
     "text": [
      "\r\n",
      "Processing images:  59%|█████▉    | 214/360 [01:19<00:40,  3.65it/s]"
     ]
    },
    {
     "name": "stderr",
     "output_type": "stream",
     "text": [
      "\r\n",
      "Processing images:  60%|█████▉    | 215/360 [01:20<00:38,  3.80it/s]"
     ]
    },
    {
     "name": "stderr",
     "output_type": "stream",
     "text": [
      "\r\n",
      "Processing images:  60%|██████    | 216/360 [01:20<00:37,  3.84it/s]"
     ]
    },
    {
     "name": "stderr",
     "output_type": "stream",
     "text": [
      "\r\n",
      "Processing images:  60%|██████    | 217/360 [01:20<00:40,  3.49it/s]"
     ]
    },
    {
     "name": "stderr",
     "output_type": "stream",
     "text": [
      "\r\n",
      "Processing images:  61%|██████    | 218/360 [01:20<00:40,  3.53it/s]"
     ]
    },
    {
     "name": "stderr",
     "output_type": "stream",
     "text": [
      "\r\n",
      "Processing images:  61%|██████    | 219/360 [01:21<00:39,  3.54it/s]"
     ]
    },
    {
     "name": "stderr",
     "output_type": "stream",
     "text": [
      "\r\n",
      "Processing images:  61%|██████    | 220/360 [01:21<00:38,  3.68it/s]"
     ]
    },
    {
     "name": "stderr",
     "output_type": "stream",
     "text": [
      "\r\n",
      "Processing images:  61%|██████▏   | 221/360 [01:21<00:38,  3.62it/s]"
     ]
    },
    {
     "name": "stderr",
     "output_type": "stream",
     "text": [
      "\r\n",
      "Processing images:  62%|██████▏   | 222/360 [01:21<00:37,  3.72it/s]"
     ]
    },
    {
     "name": "stderr",
     "output_type": "stream",
     "text": [
      "\r\n",
      "Processing images:  62%|██████▏   | 223/360 [01:22<00:35,  3.86it/s]"
     ]
    },
    {
     "name": "stderr",
     "output_type": "stream",
     "text": [
      "\r\n",
      "Processing images:  62%|██████▏   | 224/360 [01:22<00:35,  3.83it/s]"
     ]
    },
    {
     "name": "stderr",
     "output_type": "stream",
     "text": [
      "\r\n",
      "Processing images:  62%|██████▎   | 225/360 [01:22<00:34,  3.94it/s]"
     ]
    },
    {
     "name": "stderr",
     "output_type": "stream",
     "text": [
      "\r\n",
      "Processing images:  63%|██████▎   | 226/360 [01:22<00:33,  3.99it/s]"
     ]
    },
    {
     "name": "stderr",
     "output_type": "stream",
     "text": [
      "\r\n",
      "Processing images:  63%|██████▎   | 227/360 [01:23<00:32,  4.06it/s]"
     ]
    },
    {
     "name": "stderr",
     "output_type": "stream",
     "text": [
      "\r\n",
      "Processing images:  63%|██████▎   | 228/360 [01:23<00:32,  4.07it/s]"
     ]
    },
    {
     "name": "stderr",
     "output_type": "stream",
     "text": [
      "\r\n",
      "Processing images:  64%|██████▎   | 229/360 [01:23<00:33,  3.88it/s]"
     ]
    },
    {
     "name": "stderr",
     "output_type": "stream",
     "text": [
      "\r\n",
      "Processing images:  64%|██████▍   | 230/360 [01:24<00:48,  2.70it/s]"
     ]
    },
    {
     "name": "stderr",
     "output_type": "stream",
     "text": [
      "\r\n",
      "Processing images:  64%|██████▍   | 231/360 [01:25<01:01,  2.09it/s]"
     ]
    },
    {
     "name": "stderr",
     "output_type": "stream",
     "text": [
      "\r\n",
      "Processing images:  64%|██████▍   | 232/360 [01:26<01:39,  1.29it/s]"
     ]
    },
    {
     "name": "stderr",
     "output_type": "stream",
     "text": [
      "\r\n",
      "Processing images:  65%|██████▍   | 233/360 [01:27<01:36,  1.31it/s]"
     ]
    },
    {
     "name": "stderr",
     "output_type": "stream",
     "text": [
      "\r\n",
      "Processing images:  65%|██████▌   | 234/360 [01:27<01:21,  1.54it/s]"
     ]
    },
    {
     "name": "stderr",
     "output_type": "stream",
     "text": [
      "\r\n",
      "Processing images:  65%|██████▌   | 235/360 [01:28<01:24,  1.48it/s]"
     ]
    },
    {
     "name": "stderr",
     "output_type": "stream",
     "text": [
      "\r\n",
      "Processing images:  66%|██████▌   | 236/360 [01:29<01:34,  1.32it/s]"
     ]
    },
    {
     "name": "stderr",
     "output_type": "stream",
     "text": [
      "\r\n",
      "Processing images:  66%|██████▌   | 237/360 [01:30<01:35,  1.28it/s]"
     ]
    },
    {
     "name": "stderr",
     "output_type": "stream",
     "text": [
      "\r\n",
      "Processing images:  66%|██████▌   | 238/360 [01:30<01:33,  1.31it/s]"
     ]
    },
    {
     "name": "stderr",
     "output_type": "stream",
     "text": [
      "\r\n",
      "Processing images:  66%|██████▋   | 239/360 [01:34<03:25,  1.70s/it]"
     ]
    },
    {
     "name": "stderr",
     "output_type": "stream",
     "text": [
      "\r\n",
      "Processing images:  67%|██████▋   | 240/360 [01:35<02:50,  1.42s/it]"
     ]
    },
    {
     "name": "stderr",
     "output_type": "stream",
     "text": [
      "\r\n",
      "Processing images:  67%|██████▋   | 241/360 [01:35<02:08,  1.08s/it]"
     ]
    },
    {
     "name": "stderr",
     "output_type": "stream",
     "text": [
      "\r\n",
      "Processing images:  67%|██████▋   | 242/360 [01:36<01:39,  1.19it/s]"
     ]
    },
    {
     "name": "stderr",
     "output_type": "stream",
     "text": [
      "\r\n",
      "Processing images:  68%|██████▊   | 243/360 [01:36<01:18,  1.49it/s]"
     ]
    },
    {
     "name": "stderr",
     "output_type": "stream",
     "text": [
      "\r\n",
      "Processing images:  68%|██████▊   | 244/360 [01:36<01:05,  1.78it/s]"
     ]
    },
    {
     "name": "stderr",
     "output_type": "stream",
     "text": [
      "\r\n",
      "Processing images:  68%|██████▊   | 245/360 [01:36<00:54,  2.13it/s]"
     ]
    },
    {
     "name": "stderr",
     "output_type": "stream",
     "text": [
      "\r\n",
      "Processing images:  68%|██████▊   | 246/360 [01:37<00:46,  2.44it/s]"
     ]
    },
    {
     "name": "stderr",
     "output_type": "stream",
     "text": [
      "\r\n",
      "Processing images:  69%|██████▊   | 247/360 [01:37<00:42,  2.68it/s]"
     ]
    },
    {
     "name": "stderr",
     "output_type": "stream",
     "text": [
      "\r\n",
      "Processing images:  69%|██████▉   | 248/360 [01:37<00:39,  2.84it/s]"
     ]
    },
    {
     "name": "stderr",
     "output_type": "stream",
     "text": [
      "\r\n",
      "Processing images:  69%|██████▉   | 249/360 [01:38<00:37,  2.99it/s]"
     ]
    },
    {
     "name": "stderr",
     "output_type": "stream",
     "text": [
      "\r\n",
      "Processing images:  69%|██████▉   | 250/360 [01:38<00:35,  3.13it/s]"
     ]
    },
    {
     "name": "stderr",
     "output_type": "stream",
     "text": [
      "\r\n",
      "Processing images:  70%|██████▉   | 251/360 [01:38<00:33,  3.23it/s]"
     ]
    },
    {
     "name": "stderr",
     "output_type": "stream",
     "text": [
      "\r\n",
      "Processing images:  70%|███████   | 252/360 [01:39<00:32,  3.28it/s]"
     ]
    },
    {
     "name": "stderr",
     "output_type": "stream",
     "text": [
      "\r\n",
      "Processing images:  70%|███████   | 253/360 [01:39<00:32,  3.33it/s]"
     ]
    },
    {
     "name": "stderr",
     "output_type": "stream",
     "text": [
      "\r\n",
      "Processing images:  71%|███████   | 254/360 [01:40<00:48,  2.17it/s]"
     ]
    },
    {
     "name": "stderr",
     "output_type": "stream",
     "text": [
      "\r\n",
      "Processing images:  71%|███████   | 255/360 [01:40<00:44,  2.35it/s]"
     ]
    },
    {
     "name": "stderr",
     "output_type": "stream",
     "text": [
      "\r\n",
      "Processing images:  71%|███████   | 256/360 [01:40<00:42,  2.46it/s]"
     ]
    },
    {
     "name": "stderr",
     "output_type": "stream",
     "text": [
      "\r\n",
      "Processing images:  71%|███████▏  | 257/360 [01:41<00:40,  2.57it/s]"
     ]
    },
    {
     "name": "stderr",
     "output_type": "stream",
     "text": [
      "\r\n",
      "Processing images:  72%|███████▏  | 258/360 [01:41<00:40,  2.51it/s]"
     ]
    },
    {
     "name": "stderr",
     "output_type": "stream",
     "text": [
      "\r\n",
      "Processing images:  72%|███████▏  | 259/360 [01:41<00:38,  2.62it/s]"
     ]
    },
    {
     "name": "stderr",
     "output_type": "stream",
     "text": [
      "\r\n",
      "Processing images:  72%|███████▏  | 260/360 [01:42<00:40,  2.50it/s]"
     ]
    },
    {
     "name": "stderr",
     "output_type": "stream",
     "text": [
      "\r\n",
      "Processing images:  72%|███████▎  | 261/360 [01:42<00:37,  2.63it/s]"
     ]
    },
    {
     "name": "stderr",
     "output_type": "stream",
     "text": [
      "\r\n",
      "Processing images:  73%|███████▎  | 262/360 [01:43<00:35,  2.77it/s]"
     ]
    },
    {
     "name": "stderr",
     "output_type": "stream",
     "text": [
      "\r\n",
      "Processing images:  73%|███████▎  | 263/360 [01:43<00:33,  2.88it/s]"
     ]
    },
    {
     "name": "stderr",
     "output_type": "stream",
     "text": [
      "\r\n",
      "Processing images:  73%|███████▎  | 264/360 [01:43<00:30,  3.10it/s]"
     ]
    },
    {
     "name": "stderr",
     "output_type": "stream",
     "text": [
      "\r\n",
      "Processing images:  74%|███████▎  | 265/360 [01:43<00:28,  3.31it/s]"
     ]
    },
    {
     "name": "stderr",
     "output_type": "stream",
     "text": [
      "\r\n",
      "Processing images:  74%|███████▍  | 266/360 [01:44<00:28,  3.32it/s]"
     ]
    },
    {
     "name": "stderr",
     "output_type": "stream",
     "text": [
      "\r\n",
      "Processing images:  74%|███████▍  | 267/360 [01:44<00:30,  3.06it/s]"
     ]
    },
    {
     "name": "stderr",
     "output_type": "stream",
     "text": [
      "\r\n",
      "Processing images:  74%|███████▍  | 268/360 [01:44<00:28,  3.23it/s]"
     ]
    },
    {
     "name": "stderr",
     "output_type": "stream",
     "text": [
      "\r\n",
      "Processing images:  75%|███████▍  | 269/360 [01:45<00:26,  3.45it/s]"
     ]
    },
    {
     "name": "stderr",
     "output_type": "stream",
     "text": [
      "\r\n",
      "Processing images:  75%|███████▌  | 270/360 [01:45<00:25,  3.59it/s]"
     ]
    },
    {
     "name": "stderr",
     "output_type": "stream",
     "text": [
      "\r\n",
      "Processing images:  75%|███████▌  | 271/360 [01:45<00:23,  3.73it/s]"
     ]
    },
    {
     "name": "stderr",
     "output_type": "stream",
     "text": [
      "\r\n",
      "Processing images:  76%|███████▌  | 272/360 [01:45<00:23,  3.79it/s]"
     ]
    },
    {
     "name": "stderr",
     "output_type": "stream",
     "text": [
      "\r\n",
      "Processing images:  76%|███████▌  | 273/360 [01:46<00:22,  3.83it/s]"
     ]
    },
    {
     "name": "stderr",
     "output_type": "stream",
     "text": [
      "\r\n",
      "Processing images:  76%|███████▌  | 274/360 [01:46<00:22,  3.80it/s]"
     ]
    },
    {
     "name": "stderr",
     "output_type": "stream",
     "text": [
      "\r\n",
      "Processing images:  76%|███████▋  | 275/360 [01:46<00:22,  3.83it/s]"
     ]
    },
    {
     "name": "stderr",
     "output_type": "stream",
     "text": [
      "\r\n",
      "Processing images:  77%|███████▋  | 276/360 [01:46<00:22,  3.80it/s]"
     ]
    },
    {
     "name": "stderr",
     "output_type": "stream",
     "text": [
      "\r\n",
      "Processing images:  77%|███████▋  | 277/360 [01:47<00:21,  3.83it/s]"
     ]
    },
    {
     "name": "stderr",
     "output_type": "stream",
     "text": [
      "\r\n",
      "Processing images:  77%|███████▋  | 278/360 [01:47<00:21,  3.80it/s]"
     ]
    },
    {
     "name": "stderr",
     "output_type": "stream",
     "text": [
      "\r\n",
      "Processing images:  78%|███████▊  | 279/360 [01:47<00:23,  3.41it/s]"
     ]
    },
    {
     "name": "stderr",
     "output_type": "stream",
     "text": [
      "\r\n",
      "Processing images:  78%|███████▊  | 280/360 [01:48<00:22,  3.49it/s]"
     ]
    },
    {
     "name": "stderr",
     "output_type": "stream",
     "text": [
      "\r\n",
      "Processing images:  78%|███████▊  | 281/360 [01:48<00:21,  3.61it/s]"
     ]
    },
    {
     "name": "stderr",
     "output_type": "stream",
     "text": [
      "\r\n",
      "Processing images:  78%|███████▊  | 282/360 [01:48<00:21,  3.64it/s]"
     ]
    },
    {
     "name": "stderr",
     "output_type": "stream",
     "text": [
      "\r\n",
      "Processing images:  79%|███████▊  | 283/360 [01:48<00:23,  3.29it/s]"
     ]
    },
    {
     "name": "stderr",
     "output_type": "stream",
     "text": [
      "\r\n",
      "Processing images:  79%|███████▉  | 284/360 [01:49<00:22,  3.36it/s]"
     ]
    },
    {
     "name": "stderr",
     "output_type": "stream",
     "text": [
      "\r\n",
      "Processing images:  79%|███████▉  | 285/360 [01:49<00:21,  3.50it/s]"
     ]
    },
    {
     "name": "stderr",
     "output_type": "stream",
     "text": [
      "\r\n",
      "Processing images:  79%|███████▉  | 286/360 [01:49<00:20,  3.65it/s]"
     ]
    },
    {
     "name": "stderr",
     "output_type": "stream",
     "text": [
      "\r\n",
      "Processing images:  80%|███████▉  | 287/360 [01:49<00:19,  3.81it/s]"
     ]
    },
    {
     "name": "stderr",
     "output_type": "stream",
     "text": [
      "\r\n",
      "Processing images:  80%|████████  | 288/360 [01:50<00:19,  3.78it/s]"
     ]
    },
    {
     "name": "stderr",
     "output_type": "stream",
     "text": [
      "\r\n",
      "Processing images:  80%|████████  | 289/360 [01:50<00:20,  3.39it/s]"
     ]
    },
    {
     "name": "stderr",
     "output_type": "stream",
     "text": [
      "\r\n",
      "Processing images:  81%|████████  | 290/360 [01:50<00:22,  3.16it/s]"
     ]
    },
    {
     "name": "stderr",
     "output_type": "stream",
     "text": [
      "\r\n",
      "Processing images:  81%|████████  | 291/360 [01:51<00:23,  2.97it/s]"
     ]
    },
    {
     "name": "stderr",
     "output_type": "stream",
     "text": [
      "\r\n",
      "Processing images:  81%|████████  | 292/360 [01:51<00:23,  2.84it/s]"
     ]
    },
    {
     "name": "stderr",
     "output_type": "stream",
     "text": [
      "\r\n",
      "Processing images:  81%|████████▏ | 293/360 [01:52<00:23,  2.80it/s]"
     ]
    },
    {
     "name": "stderr",
     "output_type": "stream",
     "text": [
      "\r\n",
      "Processing images:  82%|████████▏ | 294/360 [01:52<00:24,  2.70it/s]"
     ]
    },
    {
     "name": "stderr",
     "output_type": "stream",
     "text": [
      "\r\n",
      "Processing images:  82%|████████▏ | 295/360 [01:52<00:22,  2.91it/s]"
     ]
    },
    {
     "name": "stderr",
     "output_type": "stream",
     "text": [
      "\r\n",
      "Processing images:  82%|████████▏ | 296/360 [01:53<00:20,  3.11it/s]"
     ]
    },
    {
     "name": "stderr",
     "output_type": "stream",
     "text": [
      "\r\n",
      "Processing images:  82%|████████▎ | 297/360 [01:53<00:19,  3.19it/s]"
     ]
    },
    {
     "name": "stderr",
     "output_type": "stream",
     "text": [
      "\r\n",
      "Processing images:  83%|████████▎ | 298/360 [01:53<00:19,  3.19it/s]"
     ]
    },
    {
     "name": "stderr",
     "output_type": "stream",
     "text": [
      "\r\n",
      "Processing images:  83%|████████▎ | 299/360 [01:53<00:18,  3.23it/s]"
     ]
    },
    {
     "name": "stderr",
     "output_type": "stream",
     "text": [
      "\r\n",
      "Processing images:  83%|████████▎ | 300/360 [01:54<00:18,  3.23it/s]"
     ]
    },
    {
     "name": "stderr",
     "output_type": "stream",
     "text": [
      "\r\n",
      "Processing images:  84%|████████▎ | 301/360 [01:54<00:19,  3.06it/s]"
     ]
    },
    {
     "name": "stderr",
     "output_type": "stream",
     "text": [
      "\r\n",
      "Processing images:  84%|████████▍ | 302/360 [01:55<00:20,  2.90it/s]"
     ]
    },
    {
     "name": "stderr",
     "output_type": "stream",
     "text": [
      "\r\n",
      "Processing images:  84%|████████▍ | 303/360 [01:55<00:20,  2.81it/s]"
     ]
    },
    {
     "name": "stderr",
     "output_type": "stream",
     "text": [
      "\r\n",
      "Processing images:  84%|████████▍ | 304/360 [01:55<00:20,  2.73it/s]"
     ]
    },
    {
     "name": "stderr",
     "output_type": "stream",
     "text": [
      "\r\n",
      "Processing images:  85%|████████▍ | 305/360 [01:56<00:20,  2.70it/s]"
     ]
    },
    {
     "name": "stderr",
     "output_type": "stream",
     "text": [
      "\r\n",
      "Processing images:  85%|████████▌ | 306/360 [01:56<00:20,  2.64it/s]"
     ]
    },
    {
     "name": "stderr",
     "output_type": "stream",
     "text": [
      "\r\n",
      "Processing images:  85%|████████▌ | 307/360 [01:56<00:19,  2.66it/s]"
     ]
    },
    {
     "name": "stderr",
     "output_type": "stream",
     "text": [
      "\r\n",
      "Processing images:  86%|████████▌ | 308/360 [01:57<00:20,  2.54it/s]"
     ]
    },
    {
     "name": "stderr",
     "output_type": "stream",
     "text": [
      "\r\n",
      "Processing images:  86%|████████▌ | 309/360 [01:57<00:19,  2.59it/s]"
     ]
    },
    {
     "name": "stderr",
     "output_type": "stream",
     "text": [
      "\r\n",
      "Processing images:  86%|████████▌ | 310/360 [01:58<00:19,  2.60it/s]"
     ]
    },
    {
     "name": "stderr",
     "output_type": "stream",
     "text": [
      "\r\n",
      "Processing images:  86%|████████▋ | 311/360 [01:58<00:16,  2.89it/s]"
     ]
    },
    {
     "name": "stderr",
     "output_type": "stream",
     "text": [
      "\r\n",
      "Processing images:  87%|████████▋ | 312/360 [01:58<00:15,  3.09it/s]"
     ]
    },
    {
     "name": "stderr",
     "output_type": "stream",
     "text": [
      "\r\n",
      "Processing images:  87%|████████▋ | 313/360 [01:58<00:14,  3.30it/s]"
     ]
    },
    {
     "name": "stderr",
     "output_type": "stream",
     "text": [
      "\r\n",
      "Processing images:  87%|████████▋ | 314/360 [01:59<00:15,  3.01it/s]"
     ]
    },
    {
     "name": "stderr",
     "output_type": "stream",
     "text": [
      "\r\n",
      "Processing images:  88%|████████▊ | 315/360 [01:59<00:13,  3.23it/s]"
     ]
    },
    {
     "name": "stderr",
     "output_type": "stream",
     "text": [
      "\r\n",
      "Processing images:  88%|████████▊ | 316/360 [01:59<00:13,  3.36it/s]"
     ]
    },
    {
     "name": "stderr",
     "output_type": "stream",
     "text": [
      "\r\n",
      "Processing images:  88%|████████▊ | 317/360 [02:00<00:12,  3.46it/s]"
     ]
    },
    {
     "name": "stderr",
     "output_type": "stream",
     "text": [
      "\r\n",
      "Processing images:  88%|████████▊ | 318/360 [02:00<00:11,  3.50it/s]"
     ]
    },
    {
     "name": "stderr",
     "output_type": "stream",
     "text": [
      "\r\n",
      "Processing images:  89%|████████▊ | 319/360 [02:00<00:11,  3.48it/s]"
     ]
    },
    {
     "name": "stderr",
     "output_type": "stream",
     "text": [
      "\r\n",
      "Processing images:  89%|████████▉ | 320/360 [02:00<00:11,  3.48it/s]"
     ]
    },
    {
     "name": "stderr",
     "output_type": "stream",
     "text": [
      "\r\n",
      "Processing images:  89%|████████▉ | 321/360 [02:01<00:11,  3.54it/s]"
     ]
    },
    {
     "name": "stderr",
     "output_type": "stream",
     "text": [
      "\r\n",
      "Processing images:  89%|████████▉ | 322/360 [02:01<00:10,  3.49it/s]"
     ]
    },
    {
     "name": "stderr",
     "output_type": "stream",
     "text": [
      "\r\n",
      "Processing images:  90%|████████▉ | 323/360 [02:01<00:11,  3.26it/s]"
     ]
    },
    {
     "name": "stderr",
     "output_type": "stream",
     "text": [
      "\r\n",
      "Processing images:  90%|█████████ | 324/360 [02:02<00:11,  3.27it/s]"
     ]
    },
    {
     "name": "stderr",
     "output_type": "stream",
     "text": [
      "\r\n",
      "Processing images:  90%|█████████ | 325/360 [02:02<00:11,  3.14it/s]"
     ]
    },
    {
     "name": "stderr",
     "output_type": "stream",
     "text": [
      "\r\n",
      "Processing images:  91%|█████████ | 326/360 [02:02<00:12,  2.74it/s]"
     ]
    },
    {
     "name": "stderr",
     "output_type": "stream",
     "text": [
      "\r\n",
      "Processing images:  91%|█████████ | 327/360 [02:03<00:14,  2.23it/s]"
     ]
    },
    {
     "name": "stderr",
     "output_type": "stream",
     "text": [
      "\r\n",
      "Processing images:  91%|█████████ | 328/360 [02:04<00:15,  2.07it/s]"
     ]
    },
    {
     "name": "stderr",
     "output_type": "stream",
     "text": [
      "\r\n",
      "Processing images:  91%|█████████▏| 329/360 [02:04<00:13,  2.30it/s]"
     ]
    },
    {
     "name": "stderr",
     "output_type": "stream",
     "text": [
      "\r\n",
      "Processing images:  92%|█████████▏| 330/360 [02:04<00:11,  2.53it/s]"
     ]
    },
    {
     "name": "stderr",
     "output_type": "stream",
     "text": [
      "\r\n",
      "Processing images:  92%|█████████▏| 331/360 [02:05<00:11,  2.52it/s]"
     ]
    },
    {
     "name": "stderr",
     "output_type": "stream",
     "text": [
      "\r\n",
      "Processing images:  92%|█████████▏| 332/360 [02:05<00:10,  2.74it/s]"
     ]
    },
    {
     "name": "stderr",
     "output_type": "stream",
     "text": [
      "\r\n",
      "Processing images:  92%|█████████▎| 333/360 [02:05<00:09,  2.96it/s]"
     ]
    },
    {
     "name": "stderr",
     "output_type": "stream",
     "text": [
      "\r\n",
      "Processing images:  93%|█████████▎| 334/360 [02:06<00:08,  3.07it/s]"
     ]
    },
    {
     "name": "stderr",
     "output_type": "stream",
     "text": [
      "\r\n",
      "Processing images:  93%|█████████▎| 335/360 [02:06<00:07,  3.26it/s]"
     ]
    },
    {
     "name": "stderr",
     "output_type": "stream",
     "text": [
      "\r\n",
      "Processing images:  93%|█████████▎| 336/360 [02:06<00:08,  2.95it/s]"
     ]
    },
    {
     "name": "stderr",
     "output_type": "stream",
     "text": [
      "\r\n",
      "Processing images:  94%|█████████▎| 337/360 [02:07<00:07,  3.14it/s]"
     ]
    },
    {
     "name": "stderr",
     "output_type": "stream",
     "text": [
      "\r\n",
      "Processing images:  94%|█████████▍| 338/360 [02:07<00:07,  2.98it/s]"
     ]
    },
    {
     "name": "stderr",
     "output_type": "stream",
     "text": [
      "\r\n",
      "Processing images:  94%|█████████▍| 339/360 [02:07<00:06,  3.16it/s]"
     ]
    },
    {
     "name": "stderr",
     "output_type": "stream",
     "text": [
      "\r\n",
      "Processing images:  94%|█████████▍| 340/360 [02:08<00:06,  2.96it/s]"
     ]
    },
    {
     "name": "stderr",
     "output_type": "stream",
     "text": [
      "\r\n",
      "Processing images:  95%|█████████▍| 341/360 [02:08<00:06,  2.88it/s]"
     ]
    },
    {
     "name": "stderr",
     "output_type": "stream",
     "text": [
      "\r\n",
      "Processing images:  95%|█████████▌| 342/360 [02:08<00:05,  3.00it/s]"
     ]
    },
    {
     "name": "stderr",
     "output_type": "stream",
     "text": [
      "\r\n",
      "Processing images:  95%|█████████▌| 343/360 [02:09<00:05,  3.16it/s]"
     ]
    },
    {
     "name": "stderr",
     "output_type": "stream",
     "text": [
      "\r\n",
      "Processing images:  96%|█████████▌| 344/360 [02:09<00:04,  3.26it/s]"
     ]
    },
    {
     "name": "stderr",
     "output_type": "stream",
     "text": [
      "\r\n",
      "Processing images:  96%|█████████▌| 345/360 [02:09<00:04,  3.38it/s]"
     ]
    },
    {
     "name": "stderr",
     "output_type": "stream",
     "text": [
      "\r\n",
      "Processing images:  96%|█████████▌| 346/360 [02:09<00:04,  3.08it/s]"
     ]
    },
    {
     "name": "stderr",
     "output_type": "stream",
     "text": [
      "\r\n",
      "Processing images:  96%|█████████▋| 347/360 [02:10<00:04,  2.96it/s]"
     ]
    },
    {
     "name": "stderr",
     "output_type": "stream",
     "text": [
      "\r\n",
      "Processing images:  97%|█████████▋| 348/360 [02:10<00:03,  3.11it/s]"
     ]
    },
    {
     "name": "stderr",
     "output_type": "stream",
     "text": [
      "\r\n",
      "Processing images:  97%|█████████▋| 349/360 [02:10<00:03,  3.27it/s]"
     ]
    },
    {
     "name": "stderr",
     "output_type": "stream",
     "text": [
      "\r\n",
      "Processing images:  97%|█████████▋| 350/360 [02:11<00:03,  2.99it/s]"
     ]
    },
    {
     "name": "stderr",
     "output_type": "stream",
     "text": [
      "\r\n",
      "Processing images:  98%|█████████▊| 351/360 [02:11<00:02,  3.16it/s]"
     ]
    },
    {
     "name": "stderr",
     "output_type": "stream",
     "text": [
      "\r\n",
      "Processing images:  98%|█████████▊| 352/360 [02:11<00:02,  3.25it/s]"
     ]
    },
    {
     "name": "stderr",
     "output_type": "stream",
     "text": [
      "\r\n",
      "Processing images:  98%|█████████▊| 353/360 [02:12<00:02,  3.36it/s]"
     ]
    },
    {
     "name": "stderr",
     "output_type": "stream",
     "text": [
      "\r\n",
      "Processing images:  98%|█████████▊| 354/360 [02:12<00:01,  3.38it/s]"
     ]
    },
    {
     "name": "stderr",
     "output_type": "stream",
     "text": [
      "\r\n",
      "Processing images:  99%|█████████▊| 355/360 [02:12<00:01,  3.52it/s]"
     ]
    },
    {
     "name": "stderr",
     "output_type": "stream",
     "text": [
      "\r\n",
      "Processing images:  99%|█████████▉| 356/360 [02:12<00:01,  3.51it/s]"
     ]
    },
    {
     "name": "stderr",
     "output_type": "stream",
     "text": [
      "\r\n",
      "Processing images:  99%|█████████▉| 357/360 [02:13<00:00,  3.51it/s]"
     ]
    },
    {
     "name": "stderr",
     "output_type": "stream",
     "text": [
      "\r\n",
      "Processing images:  99%|█████████▉| 358/360 [02:13<00:00,  3.15it/s]"
     ]
    },
    {
     "name": "stderr",
     "output_type": "stream",
     "text": [
      "\r\n",
      "Processing images: 100%|█████████▉| 359/360 [02:14<00:00,  2.98it/s]"
     ]
    },
    {
     "name": "stderr",
     "output_type": "stream",
     "text": [
      "\r\n",
      "Processing images: 100%|██████████| 360/360 [02:14<00:00,  2.92it/s]"
     ]
    },
    {
     "name": "stderr",
     "output_type": "stream",
     "text": [
      "\r\n",
      "Processing images: 100%|██████████| 360/360 [02:14<00:00,  2.68it/s]"
     ]
    },
    {
     "name": "stderr",
     "output_type": "stream",
     "text": [
      "\n"
     ]
    },
    {
     "name": "stdout",
     "output_type": "stream",
     "text": [
      "\n",
      "============================================================\n",
      "EVALUATION SUMMARY FOR BLIP2\n",
      "============================================================\n",
      "📊 IMAGE PROCESSING SUMMARY:\n",
      "   Total images attempted: 360\n",
      "   Successfully processed: 360 (100.0%)\n",
      "   Failed images: 0 (0.0%)\n",
      "\n",
      "📝 QUESTION PROCESSING SUMMARY:\n",
      "   Total questions attempted: 1080\n",
      "   Successfully processed: 1080 (100.0%)\n",
      "   Failed questions: 0 (0.0%)\n",
      "   Results saved: 1080\n",
      "\n",
      "✅ SUCCESSFUL IMAGES (360):\n",
      "   • image01 (Type: REAL, Questions: 3/3, Time: 1.4s)\n",
      "   • image02 (Type: REAL, Questions: 3/3, Time: 0.3s)\n",
      "   • image03 (Type: REAL, Questions: 3/3, Time: 0.5s)\n",
      "   • image04 (Type: REAL, Questions: 3/3, Time: 0.3s)\n",
      "   • image05 (Type: REAL, Questions: 3/3, Time: 0.4s)\n",
      "   • image06 (Type: REAL, Questions: 3/3, Time: 0.3s)\n",
      "   • image07 (Type: REAL, Questions: 3/3, Time: 0.2s)\n",
      "   • image08 (Type: REAL, Questions: 3/3, Time: 0.2s)\n",
      "   • image09 (Type: REAL, Questions: 3/3, Time: 0.2s)\n",
      "   • image10 (Type: REAL, Questions: 3/3, Time: 0.2s)\n",
      "   • image11 (Type: REAL, Questions: 3/3, Time: 0.3s)\n",
      "   • image12 (Type: REAL, Questions: 3/3, Time: 0.3s)\n",
      "   • image13 (Type: REAL, Questions: 3/3, Time: 0.2s)\n",
      "   • image14 (Type: REAL, Questions: 3/3, Time: 0.3s)\n",
      "   • image15 (Type: REAL, Questions: 3/3, Time: 0.3s)\n",
      "   • image16 (Type: REAL, Questions: 3/3, Time: 0.4s)\n",
      "   • image17 (Type: REAL, Questions: 3/3, Time: 0.2s)\n",
      "   • image18 (Type: REAL, Questions: 3/3, Time: 0.2s)\n",
      "   • image19 (Type: REAL, Questions: 3/3, Time: 0.3s)\n",
      "   • image20 (Type: REAL, Questions: 3/3, Time: 0.3s)\n",
      "   • image21 (Type: REAL, Questions: 3/3, Time: 0.3s)\n",
      "   • image22 (Type: REAL, Questions: 3/3, Time: 1.1s)\n",
      "   • image23 (Type: REAL, Questions: 3/3, Time: 1.2s)\n",
      "   • image24 (Type: REAL, Questions: 3/3, Time: 0.3s)\n",
      "   • image25 (Type: REAL, Questions: 3/3, Time: 0.2s)\n",
      "   • image26 (Type: REAL, Questions: 3/3, Time: 0.3s)\n",
      "   • image27 (Type: REAL, Questions: 3/3, Time: 0.3s)\n",
      "   • image28 (Type: REAL, Questions: 3/3, Time: 0.2s)\n",
      "   • image29 (Type: REAL, Questions: 3/3, Time: 0.2s)\n",
      "   • image30 (Type: REAL, Questions: 3/3, Time: 0.3s)\n",
      "   • image31 (Type: REAL, Questions: 3/3, Time: 0.3s)\n",
      "   • image32 (Type: REAL, Questions: 3/3, Time: 0.3s)\n",
      "   • image33 (Type: REAL, Questions: 3/3, Time: 0.3s)\n",
      "   • image34 (Type: REAL, Questions: 3/3, Time: 0.2s)\n",
      "   • image35 (Type: REAL, Questions: 3/3, Time: 0.3s)\n",
      "   • image36 (Type: REAL, Questions: 3/3, Time: 0.2s)\n",
      "   • image37 (Type: REAL, Questions: 3/3, Time: 0.3s)\n",
      "   • image38 (Type: REAL, Questions: 3/3, Time: 0.3s)\n",
      "   • image39 (Type: REAL, Questions: 3/3, Time: 0.3s)\n",
      "   • image40 (Type: REAL, Questions: 3/3, Time: 0.3s)\n",
      "   • image41 (Type: REAL, Questions: 3/3, Time: 0.2s)\n",
      "   • image42 (Type: REAL, Questions: 3/3, Time: 0.3s)\n",
      "   • image43 (Type: REAL, Questions: 3/3, Time: 0.3s)\n",
      "   • image44 (Type: REAL, Questions: 3/3, Time: 0.3s)\n",
      "   • image45 (Type: REAL, Questions: 3/3, Time: 0.3s)\n",
      "   • image46 (Type: REAL, Questions: 3/3, Time: 0.3s)\n",
      "   • image47 (Type: REAL, Questions: 3/3, Time: 0.3s)\n",
      "   • image48 (Type: REAL, Questions: 3/3, Time: 0.2s)\n",
      "   • image49 (Type: REAL, Questions: 3/3, Time: 0.3s)\n",
      "   • image50 (Type: REAL, Questions: 3/3, Time: 0.3s)\n",
      "   • image51 (Type: REAL, Questions: 3/3, Time: 0.3s)\n",
      "   • image52 (Type: REAL, Questions: 3/3, Time: 0.3s)\n",
      "   • image53 (Type: REAL, Questions: 3/3, Time: 0.3s)\n",
      "   • image54 (Type: REAL, Questions: 3/3, Time: 0.7s)\n",
      "   • image55 (Type: REAL, Questions: 3/3, Time: 0.3s)\n",
      "   • image56 (Type: REAL, Questions: 3/3, Time: 1.0s)\n",
      "   • image57 (Type: REAL, Questions: 3/3, Time: 0.4s)\n",
      "   • image58 (Type: REAL, Questions: 3/3, Time: 0.3s)\n",
      "   • image59 (Type: REAL, Questions: 3/3, Time: 0.3s)\n",
      "   • image60 (Type: REAL, Questions: 3/3, Time: 0.4s)\n",
      "   • image61 (Type: REAL, Questions: 3/3, Time: 0.4s)\n",
      "   • image62 (Type: REAL, Questions: 3/3, Time: 0.3s)\n",
      "   • image63 (Type: REAL, Questions: 3/3, Time: 0.4s)\n",
      "   • image64 (Type: REAL, Questions: 3/3, Time: 0.4s)\n",
      "   • image65 (Type: REAL, Questions: 3/3, Time: 0.3s)\n",
      "   • image66 (Type: REAL, Questions: 3/3, Time: 0.3s)\n",
      "   • image67 (Type: REAL, Questions: 3/3, Time: 0.3s)\n",
      "   • image68 (Type: REAL, Questions: 3/3, Time: 0.3s)\n",
      "   • image69 (Type: REAL, Questions: 3/3, Time: 0.3s)\n",
      "   • image70 (Type: REAL, Questions: 3/3, Time: 0.4s)\n",
      "   • image71 (Type: REAL, Questions: 3/3, Time: 0.4s)\n",
      "   • image72 (Type: REAL, Questions: 3/3, Time: 0.3s)\n",
      "   • image73 (Type: REAL, Questions: 3/3, Time: 0.3s)\n",
      "   • image74 (Type: REAL, Questions: 3/3, Time: 0.3s)\n",
      "   • image75 (Type: REAL, Questions: 3/3, Time: 0.8s)\n",
      "   • image76 (Type: REAL, Questions: 3/3, Time: 0.3s)\n",
      "   • image77 (Type: REAL, Questions: 3/3, Time: 0.2s)\n",
      "   • image78 (Type: REAL, Questions: 3/3, Time: 0.3s)\n",
      "   • image79 (Type: REAL, Questions: 3/3, Time: 0.3s)\n",
      "   • image80 (Type: REAL, Questions: 3/3, Time: 0.3s)\n",
      "   • image81 (Type: REAL, Questions: 3/3, Time: 0.3s)\n",
      "   • image82 (Type: REAL, Questions: 3/3, Time: 0.4s)\n",
      "   • image83 (Type: REAL, Questions: 3/3, Time: 0.2s)\n",
      "   • image84 (Type: REAL, Questions: 3/3, Time: 0.6s)\n",
      "   • image85 (Type: REAL, Questions: 3/3, Time: 0.5s)\n",
      "   • image86 (Type: REAL, Questions: 3/3, Time: 0.3s)\n",
      "   • image87 (Type: REAL, Questions: 3/3, Time: 0.3s)\n",
      "   • image88 (Type: REAL, Questions: 3/3, Time: 0.3s)\n",
      "   • image89 (Type: REAL, Questions: 3/3, Time: 0.4s)\n",
      "   • image90 (Type: REAL, Questions: 3/3, Time: 0.4s)\n",
      "   • image91 (Type: REAL, Questions: 3/3, Time: 0.3s)\n",
      "   • image92 (Type: REAL, Questions: 3/3, Time: 0.8s)\n",
      "   • image93 (Type: REAL, Questions: 3/3, Time: 0.3s)\n",
      "   • image94 (Type: REAL, Questions: 3/3, Time: 0.3s)\n",
      "   • image95 (Type: REAL, Questions: 3/3, Time: 0.3s)\n",
      "   • image96 (Type: REAL, Questions: 3/3, Time: 0.4s)\n",
      "   • image97 (Type: REAL, Questions: 3/3, Time: 0.4s)\n",
      "   • image98 (Type: REAL, Questions: 3/3, Time: 0.3s)\n",
      "   • image99 (Type: REAL, Questions: 3/3, Time: 0.6s)\n",
      "   • image100 (Type: REAL, Questions: 3/3, Time: 0.3s)\n",
      "   • image101 (Type: REAL, Questions: 3/3, Time: 0.3s)\n",
      "   • image102 (Type: REAL, Questions: 3/3, Time: 0.3s)\n",
      "   • image103 (Type: REAL, Questions: 3/3, Time: 0.3s)\n",
      "   • image104 (Type: REAL, Questions: 3/3, Time: 0.3s)\n",
      "   • image105 (Type: REAL, Questions: 3/3, Time: 0.3s)\n",
      "   • image106 (Type: REAL, Questions: 3/3, Time: 0.4s)\n",
      "   • image107 (Type: REAL, Questions: 3/3, Time: 0.3s)\n",
      "   • image108 (Type: REAL, Questions: 3/3, Time: 0.4s)\n",
      "   • image109 (Type: REAL, Questions: 3/3, Time: 0.4s)\n",
      "   • image110 (Type: REAL, Questions: 3/3, Time: 0.4s)\n",
      "   • image111 (Type: REAL, Questions: 3/3, Time: 0.4s)\n",
      "   • image112 (Type: REAL, Questions: 3/3, Time: 0.3s)\n",
      "   • image113 (Type: REAL, Questions: 3/3, Time: 0.2s)\n",
      "   • image114 (Type: REAL, Questions: 3/3, Time: 0.3s)\n",
      "   • image115 (Type: REAL, Questions: 3/3, Time: 0.4s)\n",
      "   • image116 (Type: REAL, Questions: 3/3, Time: 0.4s)\n",
      "   • image117 (Type: REAL, Questions: 3/3, Time: 0.3s)\n",
      "   • image118 (Type: REAL, Questions: 3/3, Time: 0.3s)\n",
      "   • image119 (Type: REAL, Questions: 3/3, Time: 0.3s)\n",
      "   • image120 (Type: REAL, Questions: 3/3, Time: 0.3s)\n",
      "   • image01 (Type: ANIMATED, Questions: 3/3, Time: 0.2s)\n",
      "   • image02 (Type: ANIMATED, Questions: 3/3, Time: 0.2s)\n",
      "   • image03 (Type: ANIMATED, Questions: 3/3, Time: 0.3s)\n",
      "   • image04 (Type: ANIMATED, Questions: 3/3, Time: 0.3s)\n",
      "   • image05 (Type: ANIMATED, Questions: 3/3, Time: 0.2s)\n",
      "   • image06 (Type: ANIMATED, Questions: 3/3, Time: 0.3s)\n",
      "   • image07 (Type: ANIMATED, Questions: 3/3, Time: 0.2s)\n",
      "   • image08 (Type: ANIMATED, Questions: 3/3, Time: 0.3s)\n",
      "   • image09 (Type: ANIMATED, Questions: 3/3, Time: 0.3s)\n",
      "   • image10 (Type: ANIMATED, Questions: 3/3, Time: 0.9s)\n",
      "   • image11 (Type: ANIMATED, Questions: 3/3, Time: 0.4s)\n",
      "   • image12 (Type: ANIMATED, Questions: 3/3, Time: 0.4s)\n",
      "   • image13 (Type: ANIMATED, Questions: 3/3, Time: 0.4s)\n",
      "   • image14 (Type: ANIMATED, Questions: 3/3, Time: 0.2s)\n",
      "   • image15 (Type: ANIMATED, Questions: 3/3, Time: 0.4s)\n",
      "   • image16 (Type: ANIMATED, Questions: 3/3, Time: 0.4s)\n",
      "   • image17 (Type: ANIMATED, Questions: 3/3, Time: 0.3s)\n",
      "   • image18 (Type: ANIMATED, Questions: 3/3, Time: 0.2s)\n",
      "   • image19 (Type: ANIMATED, Questions: 3/3, Time: 0.3s)\n",
      "   • image20 (Type: ANIMATED, Questions: 3/3, Time: 0.3s)\n",
      "   • image21 (Type: ANIMATED, Questions: 3/3, Time: 0.8s)\n",
      "   • image22 (Type: ANIMATED, Questions: 3/3, Time: 0.4s)\n",
      "   • image23 (Type: ANIMATED, Questions: 3/3, Time: 0.9s)\n",
      "   • image24 (Type: ANIMATED, Questions: 3/3, Time: 0.2s)\n",
      "   • image25 (Type: ANIMATED, Questions: 3/3, Time: 0.2s)\n",
      "   • image26 (Type: ANIMATED, Questions: 3/3, Time: 0.2s)\n",
      "   • image27 (Type: ANIMATED, Questions: 3/3, Time: 0.2s)\n",
      "   • image28 (Type: ANIMATED, Questions: 3/3, Time: 0.2s)\n",
      "   • image29 (Type: ANIMATED, Questions: 3/3, Time: 0.2s)\n",
      "   • image30 (Type: ANIMATED, Questions: 3/3, Time: 0.2s)\n",
      "   • image31 (Type: ANIMATED, Questions: 3/3, Time: 0.2s)\n",
      "   • image32 (Type: ANIMATED, Questions: 3/3, Time: 0.2s)\n",
      "   • image33 (Type: ANIMATED, Questions: 3/3, Time: 0.2s)\n",
      "   • image34 (Type: ANIMATED, Questions: 3/3, Time: 0.2s)\n",
      "   • image35 (Type: ANIMATED, Questions: 3/3, Time: 0.2s)\n",
      "   • image36 (Type: ANIMATED, Questions: 3/3, Time: 0.3s)\n",
      "   • image37 (Type: ANIMATED, Questions: 3/3, Time: 0.2s)\n",
      "   • image38 (Type: ANIMATED, Questions: 3/3, Time: 0.2s)\n",
      "   • image39 (Type: ANIMATED, Questions: 3/3, Time: 0.2s)\n",
      "   • image40 (Type: ANIMATED, Questions: 3/3, Time: 0.2s)\n",
      "   • image41 (Type: ANIMATED, Questions: 3/3, Time: 0.7s)\n",
      "   • image42 (Type: ANIMATED, Questions: 3/3, Time: 0.4s)\n",
      "   • image43 (Type: ANIMATED, Questions: 3/3, Time: 0.7s)\n",
      "   • image44 (Type: ANIMATED, Questions: 3/3, Time: 1.3s)\n",
      "   • image45 (Type: ANIMATED, Questions: 3/3, Time: 1.8s)\n",
      "   • image46 (Type: ANIMATED, Questions: 3/3, Time: 1.0s)\n",
      "   • image47 (Type: ANIMATED, Questions: 3/3, Time: 0.5s)\n",
      "   • image48 (Type: ANIMATED, Questions: 3/3, Time: 0.4s)\n",
      "   • image49 (Type: ANIMATED, Questions: 3/3, Time: 0.4s)\n",
      "   • image50 (Type: ANIMATED, Questions: 3/3, Time: 0.4s)\n",
      "   • image51 (Type: ANIMATED, Questions: 3/3, Time: 0.8s)\n",
      "   • image52 (Type: ANIMATED, Questions: 3/3, Time: 0.9s)\n",
      "   • image53 (Type: ANIMATED, Questions: 3/3, Time: 0.7s)\n",
      "   • image54 (Type: ANIMATED, Questions: 3/3, Time: 0.3s)\n",
      "   • image55 (Type: ANIMATED, Questions: 3/3, Time: 0.2s)\n",
      "   • image56 (Type: ANIMATED, Questions: 3/3, Time: 0.3s)\n",
      "   • image57 (Type: ANIMATED, Questions: 3/3, Time: 0.2s)\n",
      "   • image58 (Type: ANIMATED, Questions: 3/3, Time: 0.8s)\n",
      "   • image59 (Type: ANIMATED, Questions: 3/3, Time: 0.8s)\n",
      "   • image60 (Type: ANIMATED, Questions: 3/3, Time: 0.2s)\n",
      "   • image61 (Type: ANIMATED, Questions: 3/3, Time: 0.3s)\n",
      "   • image62 (Type: ANIMATED, Questions: 3/3, Time: 0.3s)\n",
      "   • image63 (Type: ANIMATED, Questions: 3/3, Time: 0.3s)\n",
      "   • image64 (Type: ANIMATED, Questions: 3/3, Time: 0.2s)\n",
      "   • image65 (Type: ANIMATED, Questions: 3/3, Time: 0.3s)\n",
      "   • image66 (Type: ANIMATED, Questions: 3/3, Time: 0.3s)\n",
      "   • image67 (Type: ANIMATED, Questions: 3/3, Time: 0.3s)\n",
      "   • image68 (Type: ANIMATED, Questions: 3/3, Time: 0.3s)\n",
      "   • image69 (Type: ANIMATED, Questions: 3/3, Time: 0.3s)\n",
      "   • image70 (Type: ANIMATED, Questions: 3/3, Time: 0.3s)\n",
      "   • image71 (Type: ANIMATED, Questions: 3/3, Time: 0.3s)\n",
      "   • image72 (Type: ANIMATED, Questions: 3/3, Time: 0.3s)\n",
      "   • image73 (Type: ANIMATED, Questions: 3/3, Time: 0.3s)\n",
      "   • image74 (Type: ANIMATED, Questions: 3/3, Time: 0.3s)\n",
      "   • image75 (Type: ANIMATED, Questions: 3/3, Time: 0.2s)\n",
      "   • image76 (Type: ANIMATED, Questions: 3/3, Time: 0.3s)\n",
      "   • image77 (Type: ANIMATED, Questions: 3/3, Time: 0.3s)\n",
      "   • image78 (Type: ANIMATED, Questions: 3/3, Time: 0.3s)\n",
      "   • image79 (Type: ANIMATED, Questions: 3/3, Time: 0.3s)\n",
      "   • image80 (Type: ANIMATED, Questions: 3/3, Time: 0.3s)\n",
      "   • image81 (Type: ANIMATED, Questions: 3/3, Time: 0.3s)\n",
      "   • image82 (Type: ANIMATED, Questions: 3/3, Time: 0.3s)\n",
      "   • image83 (Type: ANIMATED, Questions: 3/3, Time: 0.3s)\n",
      "   • image84 (Type: ANIMATED, Questions: 3/3, Time: 0.9s)\n",
      "   • image85 (Type: ANIMATED, Questions: 3/3, Time: 0.4s)\n",
      "   • image86 (Type: ANIMATED, Questions: 3/3, Time: 0.3s)\n",
      "   • image87 (Type: ANIMATED, Questions: 3/3, Time: 0.3s)\n",
      "   • image88 (Type: ANIMATED, Questions: 3/3, Time: 0.3s)\n",
      "   • image89 (Type: ANIMATED, Questions: 3/3, Time: 0.3s)\n",
      "   • image90 (Type: ANIMATED, Questions: 3/3, Time: 0.3s)\n",
      "   • image91 (Type: ANIMATED, Questions: 3/3, Time: 0.3s)\n",
      "   • image92 (Type: ANIMATED, Questions: 3/3, Time: 0.2s)\n",
      "   • image93 (Type: ANIMATED, Questions: 3/3, Time: 0.2s)\n",
      "   • image94 (Type: ANIMATED, Questions: 3/3, Time: 0.2s)\n",
      "   • image95 (Type: ANIMATED, Questions: 3/3, Time: 0.2s)\n",
      "   • image96 (Type: ANIMATED, Questions: 3/3, Time: 0.2s)\n",
      "   • image97 (Type: ANIMATED, Questions: 3/3, Time: 0.3s)\n",
      "   • image98 (Type: ANIMATED, Questions: 3/3, Time: 0.3s)\n",
      "   • image99 (Type: ANIMATED, Questions: 3/3, Time: 0.3s)\n",
      "   • image100 (Type: ANIMATED, Questions: 3/3, Time: 0.2s)\n",
      "   • image101 (Type: ANIMATED, Questions: 3/3, Time: 0.3s)\n",
      "   • image102 (Type: ANIMATED, Questions: 3/3, Time: 0.2s)\n",
      "   • image103 (Type: ANIMATED, Questions: 3/3, Time: 0.2s)\n",
      "   • image104 (Type: ANIMATED, Questions: 3/3, Time: 0.3s)\n",
      "   • image105 (Type: ANIMATED, Questions: 3/3, Time: 0.2s)\n",
      "   • image106 (Type: ANIMATED, Questions: 3/3, Time: 0.2s)\n",
      "   • image107 (Type: ANIMATED, Questions: 3/3, Time: 0.2s)\n",
      "   • image108 (Type: ANIMATED, Questions: 3/3, Time: 0.2s)\n",
      "   • image109 (Type: ANIMATED, Questions: 3/3, Time: 0.3s)\n",
      "   • image110 (Type: ANIMATED, Questions: 3/3, Time: 0.6s)\n",
      "   • image111 (Type: ANIMATED, Questions: 3/3, Time: 0.7s)\n",
      "   • image112 (Type: ANIMATED, Questions: 3/3, Time: 1.5s)\n",
      "   • image113 (Type: ANIMATED, Questions: 3/3, Time: 0.7s)\n",
      "   • image114 (Type: ANIMATED, Questions: 3/3, Time: 0.4s)\n",
      "   • image115 (Type: ANIMATED, Questions: 3/3, Time: 0.7s)\n",
      "   • image116 (Type: ANIMATED, Questions: 3/3, Time: 0.9s)\n",
      "   • image117 (Type: ANIMATED, Questions: 3/3, Time: 0.8s)\n",
      "   • image118 (Type: ANIMATED, Questions: 3/3, Time: 0.7s)\n",
      "   • image119 (Type: ANIMATED, Questions: 3/3, Time: 3.9s)\n",
      "   • image120 (Type: ANIMATED, Questions: 3/3, Time: 0.8s)\n",
      "   • image01 (Type: AI_GENERATED, Questions: 3/3, Time: 0.3s)\n",
      "   • image02 (Type: AI_GENERATED, Questions: 3/3, Time: 0.3s)\n",
      "   • image03 (Type: AI_GENERATED, Questions: 3/3, Time: 0.3s)\n",
      "   • image04 (Type: AI_GENERATED, Questions: 3/3, Time: 0.3s)\n",
      "   • image05 (Type: AI_GENERATED, Questions: 3/3, Time: 0.3s)\n",
      "   • image06 (Type: AI_GENERATED, Questions: 3/3, Time: 0.3s)\n",
      "   • image07 (Type: AI_GENERATED, Questions: 3/3, Time: 0.3s)\n",
      "   • image08 (Type: AI_GENERATED, Questions: 3/3, Time: 0.3s)\n",
      "   • image09 (Type: AI_GENERATED, Questions: 3/3, Time: 0.3s)\n",
      "   • image10 (Type: AI_GENERATED, Questions: 3/3, Time: 0.3s)\n",
      "   • image11 (Type: AI_GENERATED, Questions: 3/3, Time: 0.3s)\n",
      "   • image12 (Type: AI_GENERATED, Questions: 3/3, Time: 0.3s)\n",
      "   • image13 (Type: AI_GENERATED, Questions: 3/3, Time: 0.3s)\n",
      "   • image14 (Type: AI_GENERATED, Questions: 3/3, Time: 0.3s)\n",
      "   • image15 (Type: AI_GENERATED, Questions: 3/3, Time: 0.3s)\n",
      "   • image16 (Type: AI_GENERATED, Questions: 3/3, Time: 0.3s)\n",
      "   • image17 (Type: AI_GENERATED, Questions: 3/3, Time: 0.3s)\n",
      "   • image18 (Type: AI_GENERATED, Questions: 3/3, Time: 0.4s)\n",
      "   • image19 (Type: AI_GENERATED, Questions: 3/3, Time: 0.3s)\n",
      "   • image20 (Type: AI_GENERATED, Questions: 3/3, Time: 0.3s)\n",
      "   • image21 (Type: AI_GENERATED, Questions: 3/3, Time: 0.3s)\n",
      "   • image22 (Type: AI_GENERATED, Questions: 3/3, Time: 0.3s)\n",
      "   • image23 (Type: AI_GENERATED, Questions: 3/3, Time: 0.3s)\n",
      "   • image24 (Type: AI_GENERATED, Questions: 3/3, Time: 0.3s)\n",
      "   • image25 (Type: AI_GENERATED, Questions: 3/3, Time: 0.3s)\n",
      "   • image26 (Type: AI_GENERATED, Questions: 3/3, Time: 0.3s)\n",
      "   • image27 (Type: AI_GENERATED, Questions: 3/3, Time: 0.4s)\n",
      "   • image28 (Type: AI_GENERATED, Questions: 3/3, Time: 0.3s)\n",
      "   • image29 (Type: AI_GENERATED, Questions: 3/3, Time: 0.2s)\n",
      "   • image30 (Type: AI_GENERATED, Questions: 3/3, Time: 0.2s)\n",
      "   • image31 (Type: AI_GENERATED, Questions: 3/3, Time: 0.2s)\n",
      "   • image32 (Type: AI_GENERATED, Questions: 3/3, Time: 0.2s)\n",
      "   • image33 (Type: AI_GENERATED, Questions: 3/3, Time: 0.3s)\n",
      "   • image34 (Type: AI_GENERATED, Questions: 3/3, Time: 0.3s)\n",
      "   • image35 (Type: AI_GENERATED, Questions: 3/3, Time: 0.3s)\n",
      "   • image36 (Type: AI_GENERATED, Questions: 3/3, Time: 0.3s)\n",
      "   • image37 (Type: AI_GENERATED, Questions: 3/3, Time: 0.3s)\n",
      "   • image38 (Type: AI_GENERATED, Questions: 3/3, Time: 0.3s)\n",
      "   • image39 (Type: AI_GENERATED, Questions: 3/3, Time: 0.4s)\n",
      "   • image40 (Type: AI_GENERATED, Questions: 3/3, Time: 0.3s)\n",
      "   • image41 (Type: AI_GENERATED, Questions: 3/3, Time: 0.3s)\n",
      "   • image42 (Type: AI_GENERATED, Questions: 3/3, Time: 0.3s)\n",
      "   • image43 (Type: AI_GENERATED, Questions: 3/3, Time: 0.4s)\n",
      "   • image44 (Type: AI_GENERATED, Questions: 3/3, Time: 0.3s)\n",
      "   • image45 (Type: AI_GENERATED, Questions: 3/3, Time: 0.3s)\n",
      "   • image46 (Type: AI_GENERATED, Questions: 3/3, Time: 0.2s)\n",
      "   • image47 (Type: AI_GENERATED, Questions: 3/3, Time: 0.2s)\n",
      "   • image48 (Type: AI_GENERATED, Questions: 3/3, Time: 0.3s)\n",
      "   • image49 (Type: AI_GENERATED, Questions: 3/3, Time: 0.4s)\n",
      "   • image50 (Type: AI_GENERATED, Questions: 3/3, Time: 0.4s)\n",
      "   • image51 (Type: AI_GENERATED, Questions: 3/3, Time: 0.4s)\n",
      "   • image52 (Type: AI_GENERATED, Questions: 3/3, Time: 0.4s)\n",
      "   • image53 (Type: AI_GENERATED, Questions: 3/3, Time: 0.4s)\n",
      "   • image54 (Type: AI_GENERATED, Questions: 3/3, Time: 0.4s)\n",
      "   • image55 (Type: AI_GENERATED, Questions: 3/3, Time: 0.3s)\n",
      "   • image56 (Type: AI_GENERATED, Questions: 3/3, Time: 0.3s)\n",
      "   • image57 (Type: AI_GENERATED, Questions: 3/3, Time: 0.3s)\n",
      "   • image58 (Type: AI_GENERATED, Questions: 3/3, Time: 0.3s)\n",
      "   • image59 (Type: AI_GENERATED, Questions: 3/3, Time: 0.3s)\n",
      "   • image60 (Type: AI_GENERATED, Questions: 3/3, Time: 0.3s)\n",
      "   • image61 (Type: AI_GENERATED, Questions: 3/3, Time: 0.4s)\n",
      "   • image62 (Type: AI_GENERATED, Questions: 3/3, Time: 0.4s)\n",
      "   • image63 (Type: AI_GENERATED, Questions: 3/3, Time: 0.4s)\n",
      "   • image64 (Type: AI_GENERATED, Questions: 3/3, Time: 0.4s)\n",
      "   • image65 (Type: AI_GENERATED, Questions: 3/3, Time: 0.4s)\n",
      "   • image66 (Type: AI_GENERATED, Questions: 3/3, Time: 0.4s)\n",
      "   • image67 (Type: AI_GENERATED, Questions: 3/3, Time: 0.4s)\n",
      "   • image68 (Type: AI_GENERATED, Questions: 3/3, Time: 0.4s)\n",
      "   • image69 (Type: AI_GENERATED, Questions: 3/3, Time: 0.4s)\n",
      "   • image70 (Type: AI_GENERATED, Questions: 3/3, Time: 0.4s)\n",
      "   • image71 (Type: AI_GENERATED, Questions: 3/3, Time: 0.3s)\n",
      "   • image72 (Type: AI_GENERATED, Questions: 3/3, Time: 0.3s)\n",
      "   • image73 (Type: AI_GENERATED, Questions: 3/3, Time: 0.3s)\n",
      "   • image74 (Type: AI_GENERATED, Questions: 3/3, Time: 0.4s)\n",
      "   • image75 (Type: AI_GENERATED, Questions: 3/3, Time: 0.3s)\n",
      "   • image76 (Type: AI_GENERATED, Questions: 3/3, Time: 0.3s)\n",
      "   • image77 (Type: AI_GENERATED, Questions: 3/3, Time: 0.3s)\n",
      "   • image78 (Type: AI_GENERATED, Questions: 3/3, Time: 0.3s)\n",
      "   • image79 (Type: AI_GENERATED, Questions: 3/3, Time: 0.3s)\n",
      "   • image80 (Type: AI_GENERATED, Questions: 3/3, Time: 0.3s)\n",
      "   • image81 (Type: AI_GENERATED, Questions: 3/3, Time: 0.3s)\n",
      "   • image82 (Type: AI_GENERATED, Questions: 3/3, Time: 0.3s)\n",
      "   • image83 (Type: AI_GENERATED, Questions: 3/3, Time: 0.4s)\n",
      "   • image84 (Type: AI_GENERATED, Questions: 3/3, Time: 0.3s)\n",
      "   • image85 (Type: AI_GENERATED, Questions: 3/3, Time: 0.3s)\n",
      "   • image86 (Type: AI_GENERATED, Questions: 3/3, Time: 0.4s)\n",
      "   • image87 (Type: AI_GENERATED, Questions: 3/3, Time: 0.6s)\n",
      "   • image88 (Type: AI_GENERATED, Questions: 3/3, Time: 0.5s)\n",
      "   • image89 (Type: AI_GENERATED, Questions: 3/3, Time: 0.3s)\n",
      "   • image90 (Type: AI_GENERATED, Questions: 3/3, Time: 0.3s)\n",
      "   • image91 (Type: AI_GENERATED, Questions: 3/3, Time: 0.4s)\n",
      "   • image92 (Type: AI_GENERATED, Questions: 3/3, Time: 0.3s)\n",
      "   • image93 (Type: AI_GENERATED, Questions: 3/3, Time: 0.3s)\n",
      "   • image94 (Type: AI_GENERATED, Questions: 3/3, Time: 0.3s)\n",
      "   • image95 (Type: AI_GENERATED, Questions: 3/3, Time: 0.3s)\n",
      "   • image96 (Type: AI_GENERATED, Questions: 3/3, Time: 0.4s)\n",
      "   • image97 (Type: AI_GENERATED, Questions: 3/3, Time: 0.3s)\n",
      "   • image98 (Type: AI_GENERATED, Questions: 3/3, Time: 0.4s)\n",
      "   • image99 (Type: AI_GENERATED, Questions: 3/3, Time: 0.3s)\n",
      "   • image100 (Type: AI_GENERATED, Questions: 3/3, Time: 0.4s)\n",
      "   • image101 (Type: AI_GENERATED, Questions: 3/3, Time: 0.4s)\n",
      "   • image102 (Type: AI_GENERATED, Questions: 3/3, Time: 0.3s)\n",
      "   • image103 (Type: AI_GENERATED, Questions: 3/3, Time: 0.3s)\n",
      "   • image104 (Type: AI_GENERATED, Questions: 3/3, Time: 0.3s)\n",
      "   • image105 (Type: AI_GENERATED, Questions: 3/3, Time: 0.3s)\n",
      "   • image106 (Type: AI_GENERATED, Questions: 3/3, Time: 0.4s)\n",
      "   • image107 (Type: AI_GENERATED, Questions: 3/3, Time: 0.4s)\n",
      "   • image108 (Type: AI_GENERATED, Questions: 3/3, Time: 0.3s)\n",
      "   • image109 (Type: AI_GENERATED, Questions: 3/3, Time: 0.3s)\n",
      "   • image110 (Type: AI_GENERATED, Questions: 3/3, Time: 0.4s)\n",
      "   • image111 (Type: AI_GENERATED, Questions: 3/3, Time: 0.3s)\n",
      "   • image112 (Type: AI_GENERATED, Questions: 3/3, Time: 0.3s)\n",
      "   • image113 (Type: AI_GENERATED, Questions: 3/3, Time: 0.3s)\n",
      "   • image114 (Type: AI_GENERATED, Questions: 3/3, Time: 0.3s)\n",
      "   • image115 (Type: AI_GENERATED, Questions: 3/3, Time: 0.3s)\n",
      "   • image116 (Type: AI_GENERATED, Questions: 3/3, Time: 0.3s)\n",
      "   • image117 (Type: AI_GENERATED, Questions: 3/3, Time: 0.3s)\n",
      "   • image118 (Type: AI_GENERATED, Questions: 3/3, Time: 0.4s)\n",
      "   • image119 (Type: AI_GENERATED, Questions: 3/3, Time: 0.4s)\n",
      "   • image120 (Type: AI_GENERATED, Questions: 3/3, Time: 0.3s)\n",
      "============================================================\n",
      "\n",
      "Initial test successful!\n"
     ]
    }
   ],
   "source": [
    "test_blip2()"
   ]
  },
  {
   "cell_type": "code",
   "execution_count": null,
   "id": "e28e6014",
   "metadata": {
    "papermill": {
     "duration": 0.029939,
     "end_time": "2025-07-28T21:22:08.260280",
     "exception": false,
     "start_time": "2025-07-28T21:22:08.230341",
     "status": "completed"
    },
    "tags": []
   },
   "outputs": [],
   "source": []
  }
 ],
 "metadata": {
  "kaggle": {
   "accelerator": "nvidiaTeslaT4",
   "dataSources": [
    {
     "datasetId": 7163706,
     "sourceId": 11436696,
     "sourceType": "datasetVersion"
    }
   ],
   "dockerImageVersionId": 31011,
   "isGpuEnabled": true,
   "isInternetEnabled": true,
   "language": "python",
   "sourceType": "notebook"
  },
  "kernelspec": {
   "display_name": "Python 3",
   "language": "python",
   "name": "python3"
  },
  "language_info": {
   "codemirror_mode": {
    "name": "ipython",
    "version": 3
   },
   "file_extension": ".py",
   "mimetype": "text/x-python",
   "name": "python",
   "nbconvert_exporter": "python",
   "pygments_lexer": "ipython3",
   "version": "3.12.9"
  },
  "papermill": {
   "default_parameters": {},
   "duration": 182.606995,
   "end_time": "2025-07-28T21:22:11.326122",
   "environment_variables": {},
   "exception": null,
   "input_path": "/var/scratch/ave303/OP_bench/opa-benchmark-fuyu-blip2.ipynb",
   "output_path": "blip2-opt-6.7b_output.ipynb",
   "parameters": {},
   "start_time": "2025-07-28T21:19:08.719127",
   "version": "2.6.0"
  }
 },
 "nbformat": 4,
 "nbformat_minor": 5
}
